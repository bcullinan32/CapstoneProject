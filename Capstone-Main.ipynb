{
 "cells": [
  {
   "cell_type": "markdown",
   "metadata": {
    "collapsed": true,
    "pycharm": {
     "name": "#%% md\n"
    }
   },
   "source": [
    "# Intro\n",
    "\n",
    "This is the main notebook for the Capstone Project course"
   ]
  },
  {
   "cell_type": "code",
   "execution_count": 17,
   "outputs": [],
   "source": [
    "# Standard Libraries\n",
    "import pandas as pd\n",
    "import numpy as np\n",
    "import os\n",
    "import warnings\n",
    "import json\n",
    "\n",
    "# Plotting Libraries\n",
    "import matplotlib.pyplot as plt\n",
    "import seaborn as sns\n",
    "\n",
    "# set Theme\n",
    "plt.style.use('seaborn')\n",
    "sns.set_theme(style=\"whitegrid\")\n",
    "warnings.filterwarnings('ignore')"
   ],
   "metadata": {
    "collapsed": false,
    "pycharm": {
     "name": "#%%\n"
    }
   }
  },
  {
   "cell_type": "code",
   "execution_count": 18,
   "outputs": [
    {
     "name": "stdout",
     "output_type": "stream",
     "text": [
      "Source Data: C:\\Users\\TheCu\\OneDrive\\Documents\\Grad-School-Docs\\CapstoneProject\\Repo\\SourceData\\\n",
      "Exports: C:\\Users\\TheCu\\OneDrive\\Documents\\Grad-School-Docs\\CapstoneProject\\Repo\\Export\\\n",
      "Trimmed CSV: C:\\Users\\TheCu\\OneDrive\\Documents\\Grad-School-Docs\\CapstoneProject\\Repo\\SourceData\\\n"
     ]
    }
   ],
   "source": [
    "# Set Paths\n",
    "path = os.getcwd()\n",
    "sourceDataPath = path +'\\\\SourceData\\\\'\n",
    "exportPath = path +'\\\\Export\\\\'\n",
    "trimmedCSVPath = path +'\\\\SourceData\\\\'\n",
    "print(f\"Source Data:\",sourceDataPath)\n",
    "print(f\"Exports:\",exportPath)\n",
    "print(f\"Trimmed CSV:\",trimmedCSVPath)\n"
   ],
   "metadata": {
    "collapsed": false,
    "pycharm": {
     "name": "#%%\n"
    }
   }
  },
  {
   "cell_type": "code",
   "execution_count": 19,
   "outputs": [],
   "source": [
    "# Create Large CSV Trim Function\n",
    "\n",
    "def largeCSVTrim(largeCSVPath, CSVName, trimQuery):\n",
    "    tempDF = pd.read_csv(largeCSVPath+CSVName, chunksize=10000)\n",
    "    df = pd.concat((x.query(trimQuery) for x in tempDF), ignore_index=True)\n",
    "    return df"
   ],
   "metadata": {
    "collapsed": false,
    "pycharm": {
     "name": "#%%\n"
    }
   }
  },
  {
   "cell_type": "code",
   "execution_count": 20,
   "outputs": [
    {
     "name": "stdout",
     "output_type": "stream",
     "text": [
      "Starting...\n",
      "Securities_SAM:\n"
     ]
    },
    {
     "data": {
      "text/plain": "    gvkey iid    datadate  tic                    conm ajexm ajpm isalrt  \\\n40  61581  01   5/31/2013  SAM  BOSTON BEER INC  -CL A     1    1          \n47  61581  01  12/31/2013  SAM  BOSTON BEER INC  -CL A     1    1          \n29  61581  01   6/30/2012  SAM  BOSTON BEER INC  -CL A     1    1          \n\n   primiss     spgim  ...                      conml costat ggroup    gind  \\\n40       P  30201010  ...  Boston Beer Co Inc. (The)      A   3020  302010   \n47       P  30201010  ...  Boston Beer Co Inc. (The)      A   3020  302010   \n29       P  30201010  ...  Boston Beer Co Inc. (The)      A   3020  302010   \n\n   gsector   gsubind  loc   naics   sic state  \n40      30  30201010  USA  312120  2082    MA  \n47      30  30201010  USA  312120  2082    MA  \n29      30  30201010  USA  312120  2082    MA  \n\n[3 rows x 55 columns]",
      "text/html": "<div>\n<style scoped>\n    .dataframe tbody tr th:only-of-type {\n        vertical-align: middle;\n    }\n\n    .dataframe tbody tr th {\n        vertical-align: top;\n    }\n\n    .dataframe thead th {\n        text-align: right;\n    }\n</style>\n<table border=\"1\" class=\"dataframe\">\n  <thead>\n    <tr style=\"text-align: right;\">\n      <th></th>\n      <th>gvkey</th>\n      <th>iid</th>\n      <th>datadate</th>\n      <th>tic</th>\n      <th>conm</th>\n      <th>ajexm</th>\n      <th>ajpm</th>\n      <th>isalrt</th>\n      <th>primiss</th>\n      <th>spgim</th>\n      <th>...</th>\n      <th>conml</th>\n      <th>costat</th>\n      <th>ggroup</th>\n      <th>gind</th>\n      <th>gsector</th>\n      <th>gsubind</th>\n      <th>loc</th>\n      <th>naics</th>\n      <th>sic</th>\n      <th>state</th>\n    </tr>\n  </thead>\n  <tbody>\n    <tr>\n      <th>40</th>\n      <td>61581</td>\n      <td>01</td>\n      <td>5/31/2013</td>\n      <td>SAM</td>\n      <td>BOSTON BEER INC  -CL A</td>\n      <td>1</td>\n      <td>1</td>\n      <td></td>\n      <td>P</td>\n      <td>30201010</td>\n      <td>...</td>\n      <td>Boston Beer Co Inc. (The)</td>\n      <td>A</td>\n      <td>3020</td>\n      <td>302010</td>\n      <td>30</td>\n      <td>30201010</td>\n      <td>USA</td>\n      <td>312120</td>\n      <td>2082</td>\n      <td>MA</td>\n    </tr>\n    <tr>\n      <th>47</th>\n      <td>61581</td>\n      <td>01</td>\n      <td>12/31/2013</td>\n      <td>SAM</td>\n      <td>BOSTON BEER INC  -CL A</td>\n      <td>1</td>\n      <td>1</td>\n      <td></td>\n      <td>P</td>\n      <td>30201010</td>\n      <td>...</td>\n      <td>Boston Beer Co Inc. (The)</td>\n      <td>A</td>\n      <td>3020</td>\n      <td>302010</td>\n      <td>30</td>\n      <td>30201010</td>\n      <td>USA</td>\n      <td>312120</td>\n      <td>2082</td>\n      <td>MA</td>\n    </tr>\n    <tr>\n      <th>29</th>\n      <td>61581</td>\n      <td>01</td>\n      <td>6/30/2012</td>\n      <td>SAM</td>\n      <td>BOSTON BEER INC  -CL A</td>\n      <td>1</td>\n      <td>1</td>\n      <td></td>\n      <td>P</td>\n      <td>30201010</td>\n      <td>...</td>\n      <td>Boston Beer Co Inc. (The)</td>\n      <td>A</td>\n      <td>3020</td>\n      <td>302010</td>\n      <td>30</td>\n      <td>30201010</td>\n      <td>USA</td>\n      <td>312120</td>\n      <td>2082</td>\n      <td>MA</td>\n    </tr>\n  </tbody>\n</table>\n<p>3 rows × 55 columns</p>\n</div>"
     },
     "execution_count": 20,
     "metadata": {},
     "output_type": "execute_result"
    }
   ],
   "source": [
    "# Trim Securities_Full\n",
    "largeCSVPath = 'C:/Users/TheCu/OneDrive/Documents/Grad-School-Docs/CapstoneProject/SourceData_Orig/'\n",
    "CSVName = 'Securities_Full.csv'\n",
    "trimQuery = \"tic == 'SAM'\"\n",
    "\n",
    "print(\"Starting...\")\n",
    "Securities_SAM = largeCSVTrim(largeCSVPath,CSVName,trimQuery) # Get Trimmed Data\n",
    "Securities_SAM.to_csv(trimmedCSVPath+'Securities_SAM.csv') # Export Trimmed Data\n",
    "\n",
    "#View Trimmed Dataframe\n",
    "print(\"Securities_SAM:\")\n",
    "Securities_SAM.sample(3)"
   ],
   "metadata": {
    "collapsed": false,
    "pycharm": {
     "name": "#%%\n"
    }
   }
  },
  {
   "cell_type": "code",
   "execution_count": 21,
   "outputs": [
    {
     "name": "stdout",
     "output_type": "stream",
     "text": [
      "Starting...\n",
      "Fundamentals_SAM:\n"
     ]
    },
    {
     "data": {
      "text/plain": "   gvkey    datadate  fyear indfmt consol popsrc   datafmt  tic  \\\n2  61581  12/31/2011   2011   INDL      C      D  SUMM_STD  SAM   \n6  61581  12/31/2013   2013   INDL      C      D  SUMM_STD  SAM   \n1  61581  12/31/2010   2010   INDL      C      D       STD  SAM   \n\n                     conm acctchg  ... priusa   sic spcindcd spcseccd spcsrc  \\\n2  BOSTON BEER INC  -CL A          ...      1  2082      140      978     B+   \n6  BOSTON BEER INC  -CL A          ...      1  2082      140      978     B+   \n1  BOSTON BEER INC  -CL A          ...      1  2082      140      978     B+   \n\n  state stko              weburl dldte     ipodate  \n2    MA    0  www.bostonbeer.com        11/20/1995  \n6    MA    0  www.bostonbeer.com        11/20/1995  \n1    MA    0  www.bostonbeer.com        11/20/1995  \n\n[3 rows x 1768 columns]",
      "text/html": "<div>\n<style scoped>\n    .dataframe tbody tr th:only-of-type {\n        vertical-align: middle;\n    }\n\n    .dataframe tbody tr th {\n        vertical-align: top;\n    }\n\n    .dataframe thead th {\n        text-align: right;\n    }\n</style>\n<table border=\"1\" class=\"dataframe\">\n  <thead>\n    <tr style=\"text-align: right;\">\n      <th></th>\n      <th>gvkey</th>\n      <th>datadate</th>\n      <th>fyear</th>\n      <th>indfmt</th>\n      <th>consol</th>\n      <th>popsrc</th>\n      <th>datafmt</th>\n      <th>tic</th>\n      <th>conm</th>\n      <th>acctchg</th>\n      <th>...</th>\n      <th>priusa</th>\n      <th>sic</th>\n      <th>spcindcd</th>\n      <th>spcseccd</th>\n      <th>spcsrc</th>\n      <th>state</th>\n      <th>stko</th>\n      <th>weburl</th>\n      <th>dldte</th>\n      <th>ipodate</th>\n    </tr>\n  </thead>\n  <tbody>\n    <tr>\n      <th>2</th>\n      <td>61581</td>\n      <td>12/31/2011</td>\n      <td>2011</td>\n      <td>INDL</td>\n      <td>C</td>\n      <td>D</td>\n      <td>SUMM_STD</td>\n      <td>SAM</td>\n      <td>BOSTON BEER INC  -CL A</td>\n      <td></td>\n      <td>...</td>\n      <td>1</td>\n      <td>2082</td>\n      <td>140</td>\n      <td>978</td>\n      <td>B+</td>\n      <td>MA</td>\n      <td>0</td>\n      <td>www.bostonbeer.com</td>\n      <td></td>\n      <td>11/20/1995</td>\n    </tr>\n    <tr>\n      <th>6</th>\n      <td>61581</td>\n      <td>12/31/2013</td>\n      <td>2013</td>\n      <td>INDL</td>\n      <td>C</td>\n      <td>D</td>\n      <td>SUMM_STD</td>\n      <td>SAM</td>\n      <td>BOSTON BEER INC  -CL A</td>\n      <td></td>\n      <td>...</td>\n      <td>1</td>\n      <td>2082</td>\n      <td>140</td>\n      <td>978</td>\n      <td>B+</td>\n      <td>MA</td>\n      <td>0</td>\n      <td>www.bostonbeer.com</td>\n      <td></td>\n      <td>11/20/1995</td>\n    </tr>\n    <tr>\n      <th>1</th>\n      <td>61581</td>\n      <td>12/31/2010</td>\n      <td>2010</td>\n      <td>INDL</td>\n      <td>C</td>\n      <td>D</td>\n      <td>STD</td>\n      <td>SAM</td>\n      <td>BOSTON BEER INC  -CL A</td>\n      <td></td>\n      <td>...</td>\n      <td>1</td>\n      <td>2082</td>\n      <td>140</td>\n      <td>978</td>\n      <td>B+</td>\n      <td>MA</td>\n      <td>0</td>\n      <td>www.bostonbeer.com</td>\n      <td></td>\n      <td>11/20/1995</td>\n    </tr>\n  </tbody>\n</table>\n<p>3 rows × 1768 columns</p>\n</div>"
     },
     "execution_count": 21,
     "metadata": {},
     "output_type": "execute_result"
    }
   ],
   "source": [
    "# Trim Fundamentals_Full\n",
    "largeCSVPath = 'C:/Users/TheCu/OneDrive/Documents/Grad-School-Docs/CapstoneProject/SourceData_Orig/'\n",
    "CSVName = 'Fundamentals_Full.csv'\n",
    "trimQuery = \"tic == 'SAM'\"\n",
    "\n",
    "print(\"Starting...\")\n",
    "Securities_SAM = largeCSVTrim(largeCSVPath,CSVName,trimQuery) # Get Trimmed Data\n",
    "Securities_SAM.to_csv(trimmedCSVPath+'Fundamentals_SAM.csv') # Export Trimmed Data\n",
    "\n",
    "#View Trimmed Dataframe\n",
    "print(\"Fundamentals_SAM:\")\n",
    "Securities_SAM.sample(3)"
   ],
   "metadata": {
    "collapsed": false,
    "pycharm": {
     "name": "#%%\n"
    }
   }
  },
  {
   "cell_type": "code",
   "execution_count": 22,
   "outputs": [
    {
     "name": "stdout",
     "output_type": "stream",
     "text": [
      "Starting...\n",
      "Stocks_SAM:\n"
     ]
    },
    {
     "data": {
      "text/plain": "     gvkey iid   datadate  tic      cusip                    conm curcddv  \\\n821  61581   1  4/10/2013  SAM  100557107  BOSTON BEER INC  -CL A           \n96   61581   1  5/21/2010  SAM  100557107  BOSTON BEER INC  -CL A           \n797  61581   1   3/6/2013  SAM  100557107  BOSTON BEER INC  -CL A           \n\n    capgn cheqv div  ... priusa   sic spcindcd spcseccd spcsrc state stko  \\\n821                  ...      1  2082      140      978     B+    MA    0   \n96                   ...      1  2082      140      978     B+    MA    0   \n797                  ...      1  2082      140      978     B+    MA    0   \n\n                 weburl dldte     ipodate  \n821  www.bostonbeer.com        11/20/1995  \n96   www.bostonbeer.com        11/20/1995  \n797  www.bostonbeer.com        11/20/1995  \n\n[3 rows x 76 columns]",
      "text/html": "<div>\n<style scoped>\n    .dataframe tbody tr th:only-of-type {\n        vertical-align: middle;\n    }\n\n    .dataframe tbody tr th {\n        vertical-align: top;\n    }\n\n    .dataframe thead th {\n        text-align: right;\n    }\n</style>\n<table border=\"1\" class=\"dataframe\">\n  <thead>\n    <tr style=\"text-align: right;\">\n      <th></th>\n      <th>gvkey</th>\n      <th>iid</th>\n      <th>datadate</th>\n      <th>tic</th>\n      <th>cusip</th>\n      <th>conm</th>\n      <th>curcddv</th>\n      <th>capgn</th>\n      <th>cheqv</th>\n      <th>div</th>\n      <th>...</th>\n      <th>priusa</th>\n      <th>sic</th>\n      <th>spcindcd</th>\n      <th>spcseccd</th>\n      <th>spcsrc</th>\n      <th>state</th>\n      <th>stko</th>\n      <th>weburl</th>\n      <th>dldte</th>\n      <th>ipodate</th>\n    </tr>\n  </thead>\n  <tbody>\n    <tr>\n      <th>821</th>\n      <td>61581</td>\n      <td>1</td>\n      <td>4/10/2013</td>\n      <td>SAM</td>\n      <td>100557107</td>\n      <td>BOSTON BEER INC  -CL A</td>\n      <td></td>\n      <td></td>\n      <td></td>\n      <td></td>\n      <td>...</td>\n      <td>1</td>\n      <td>2082</td>\n      <td>140</td>\n      <td>978</td>\n      <td>B+</td>\n      <td>MA</td>\n      <td>0</td>\n      <td>www.bostonbeer.com</td>\n      <td></td>\n      <td>11/20/1995</td>\n    </tr>\n    <tr>\n      <th>96</th>\n      <td>61581</td>\n      <td>1</td>\n      <td>5/21/2010</td>\n      <td>SAM</td>\n      <td>100557107</td>\n      <td>BOSTON BEER INC  -CL A</td>\n      <td></td>\n      <td></td>\n      <td></td>\n      <td></td>\n      <td>...</td>\n      <td>1</td>\n      <td>2082</td>\n      <td>140</td>\n      <td>978</td>\n      <td>B+</td>\n      <td>MA</td>\n      <td>0</td>\n      <td>www.bostonbeer.com</td>\n      <td></td>\n      <td>11/20/1995</td>\n    </tr>\n    <tr>\n      <th>797</th>\n      <td>61581</td>\n      <td>1</td>\n      <td>3/6/2013</td>\n      <td>SAM</td>\n      <td>100557107</td>\n      <td>BOSTON BEER INC  -CL A</td>\n      <td></td>\n      <td></td>\n      <td></td>\n      <td></td>\n      <td>...</td>\n      <td>1</td>\n      <td>2082</td>\n      <td>140</td>\n      <td>978</td>\n      <td>B+</td>\n      <td>MA</td>\n      <td>0</td>\n      <td>www.bostonbeer.com</td>\n      <td></td>\n      <td>11/20/1995</td>\n    </tr>\n  </tbody>\n</table>\n<p>3 rows × 76 columns</p>\n</div>"
     },
     "execution_count": 22,
     "metadata": {},
     "output_type": "execute_result"
    }
   ],
   "source": [
    "# Trim Stocks_DS\n",
    "largeCSVPath = 'C:/Users/TheCu/OneDrive/Documents/Grad-School-Docs/CapstoneProject/SourceData_Orig/'\n",
    "CSVName = 'Stocks_DS.csv'\n",
    "trimQuery = \"tic == 'SAM'\"\n",
    "\n",
    "print(\"Starting...\")\n",
    "Securities_SAM = largeCSVTrim(largeCSVPath,CSVName,trimQuery) # Get Trimmed Data\n",
    "Securities_SAM.to_csv(trimmedCSVPath+'Stocks_SAM.csv') # Export Trimmed Data\n",
    "\n",
    "#View Trimmed Dataframe\n",
    "print(\"Stocks_SAM:\")\n",
    "Securities_SAM.sample(3)"
   ],
   "metadata": {
    "collapsed": false,
    "pycharm": {
     "name": "#%%\n"
    }
   }
  }
 ],
 "metadata": {
  "kernelspec": {
   "name": "python3",
   "language": "python",
   "display_name": "Python 3 (ipykernel)"
  },
  "language_info": {
   "codemirror_mode": {
    "name": "ipython",
    "version": 2
   },
   "file_extension": ".py",
   "mimetype": "text/x-python",
   "name": "python",
   "nbconvert_exporter": "python",
   "pygments_lexer": "ipython2",
   "version": "2.7.6"
  }
 },
 "nbformat": 4,
 "nbformat_minor": 0
}