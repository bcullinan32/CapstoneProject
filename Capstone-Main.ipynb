{
 "cells": [
  {
   "cell_type": "markdown",
   "metadata": {
    "collapsed": true,
    "pycharm": {
     "name": "#%% md\n"
    }
   },
   "source": [
    "# Intro\n",
    "\n",
    "This is the main notebook for the Capstone Project course"
   ]
  },
  {
   "cell_type": "code",
   "execution_count": 667,
   "outputs": [],
   "source": [
    "# Standard Libraries\n",
    "import pandas as pd\n",
    "import numpy as np\n",
    "import os\n",
    "import warnings\n",
    "import json\n",
    "\n",
    "# Plotting Libraries\n",
    "import matplotlib.pyplot as plt\n",
    "import seaborn as sns\n",
    "\n",
    "# set Theme\n",
    "plt.style.use('seaborn')\n",
    "sns.set_theme(style=\"whitegrid\")\n",
    "warnings.filterwarnings('ignore')"
   ],
   "metadata": {
    "collapsed": false,
    "pycharm": {
     "name": "#%%\n"
    }
   }
  },
  {
   "cell_type": "code",
   "execution_count": 668,
   "outputs": [
    {
     "name": "stdout",
     "output_type": "stream",
     "text": [
      "Source Data: C:\\Users\\TheCu\\OneDrive\\Documents\\Grad-School-Docs\\CapstoneProject\\Repo\\SourceData\\\n",
      "Exports: C:\\Users\\TheCu\\OneDrive\\Documents\\Grad-School-Docs\\CapstoneProject\\Repo\\Export\\\n",
      "Trimmed CSV: C:\\Users\\TheCu\\OneDrive\\Documents\\Grad-School-Docs\\CapstoneProject\\Repo\\SourceData\\\n"
     ]
    }
   ],
   "source": [
    "# Set Paths\n",
    "path = os.getcwd()\n",
    "sourceDataPath = path +'\\\\SourceData\\\\'\n",
    "exportPath = path +'\\\\Export\\\\'\n",
    "trimmedCSVPath = path +'\\\\SourceData\\\\'\n",
    "print(f\"Source Data:\",sourceDataPath)\n",
    "print(f\"Exports:\",exportPath)\n",
    "print(f\"Trimmed CSV:\",trimmedCSVPath)"
   ],
   "metadata": {
    "collapsed": false,
    "pycharm": {
     "name": "#%%\n"
    }
   }
  },
  {
   "cell_type": "markdown",
   "source": [
    "# Resuable Functions"
   ],
   "metadata": {
    "collapsed": false,
    "pycharm": {
     "name": "#%% md\n"
    }
   }
  },
  {
   "cell_type": "code",
   "execution_count": 669,
   "outputs": [],
   "source": [
    "# Create Large CSV Trim Function\n",
    "\n",
    "def largeCSVTrim(largeCSVPath, CSVName, trimQuery):\n",
    "    tempDF = pd.read_csv(largeCSVPath+CSVName)\n",
    "    df = pd.concat((x.query(trimQuery) for x in tempDF), ignore_index=True)\n",
    "    return df"
   ],
   "metadata": {
    "collapsed": false,
    "pycharm": {
     "name": "#%%\n"
    }
   }
  },
  {
   "cell_type": "code",
   "execution_count": 670,
   "outputs": [],
   "source": [
    "# Takes a DF and Producecs a Report of Null Values\n",
    "def nullAnalysis(df):\n",
    "    row = []\n",
    "    null_summaryDF = pd.DataFrame(columns = [\"Variable\",\"Observations\",\"Nulls\",\"Null_Per\",\"Num_Unique\",\"Type\"])\n",
    "    for column in df:\n",
    "        var = column\n",
    "        countOfObs = len(df[var])\n",
    "        countOfNull = df[var].isnull().sum()\n",
    "        perOfNull = round((100 * countOfNull) / countOfObs,3)\n",
    "        numUnique = df[var].nunique()\n",
    "        type  = df[var].dtypes\n",
    "        # Append to Summary DF\n",
    "        row = [var, countOfObs,countOfNull,perOfNull,numUnique,type]\n",
    "        df_length = len(null_summaryDF)\n",
    "        null_summaryDF.loc[df_length] = row\n",
    "    # Get Summary Stats\n",
    "    countofVars = len(null_summaryDF)\n",
    "    countofNotNull = (null_summaryDF['Nulls'] == 0).sum()\n",
    "    countofNull = (null_summaryDF['Nulls'] != 0).sum()\n",
    "    print(f\"Count of Variables:\",countofVars)\n",
    "    print(f\"Count of Variables without nulls:\",countofNotNull)\n",
    "    print(f\"Count of Variables with null :\",countofNull)\n",
    "    # Format Summary\n",
    "    summaryDF = null_summaryDF[null_summaryDF['Nulls'] != 0].sort_values(by=['Nulls'],ascending=False)\n",
    "    return summaryDF"
   ],
   "metadata": {
    "collapsed": false,
    "pycharm": {
     "name": "#%%\n"
    }
   }
  },
  {
   "cell_type": "code",
   "execution_count": 670,
   "outputs": [],
   "source": [],
   "metadata": {
    "collapsed": false,
    "pycharm": {
     "name": "#%%\n"
    }
   }
  },
  {
   "cell_type": "code",
   "execution_count": 671,
   "outputs": [],
   "source": [
    "#statRow = []\n",
    "cleanActionsDF = pd.DataFrame(columns = ['DF','ActionDesc','List-of-Cols','ResultShape'])\n",
    "\n",
    "def cleanActionsReport (df,df_name,actionDesc, cols):\n",
    "    # Collect Stats\n",
    "    row =[]\n",
    "    actionDesc = actionDesc\n",
    "    listCols = cols\n",
    "    resultShape = df.shape\n",
    "    # Collect Results\n",
    "    row = [df_name,actionDesc, listCols, resultShape]\n",
    "    # append stats to Summary Stats DF\n",
    "    df = cleanActionsDF\n",
    "    df_length = len(df)\n",
    "    df.loc[df_length] = row\n",
    "    return df"
   ],
   "metadata": {
    "collapsed": false,
    "pycharm": {
     "name": "#%%\n"
    }
   }
  },
  {
   "cell_type": "code",
   "execution_count": 672,
   "outputs": [],
   "source": [
    "# Dropping Missing Values over 30% -- Will print out a table that shows what variables are dropped\n",
    "def dropCols_nullThresh(df,thresh,df_name,actionDesc):\n",
    "    thresh = 1-thresh\n",
    "    column_names_before = df.columns.to_list()\n",
    "    before = df.shape[1]\n",
    "    df = df.dropna(thresh=df.shape[0]*thresh,how='all',axis=1)\n",
    "    after = df.shape[1]\n",
    "    column_names_after = df.columns.to_list()\n",
    "    columns_dropped = []\n",
    "    for i in column_names_before:\n",
    "        if i not in column_names_after:\n",
    "            columns_dropped.append(i)\n",
    "    total_dropped = before - after\n",
    "    df = df\n",
    "    print(f\"dropped: {total_dropped}\")\n",
    "    print(f\"columns that where dropped where: {columns_dropped}\")\n",
    "    # record actions in summary report\n",
    "    cleanActionsReport(df,df_name,actionDesc,columns_dropped)\n",
    "    return df"
   ],
   "metadata": {
    "collapsed": false,
    "pycharm": {
     "name": "#%%\n"
    }
   }
  },
  {
   "cell_type": "code",
   "execution_count": 673,
   "outputs": [],
   "source": [
    "# Dropping Missing Values over 30% -- Will print out a table that shows what variables are dropped\n",
    "def dropCols_uniqueThresh(df,thresh,df_name,actionDesc):\n",
    "    thresh = thresh\n",
    "    column_names_before = df.columns.to_list()\n",
    "    before = df.shape[1]\n",
    "    df = df.drop(columns=df.columns[df.nunique()==1])\n",
    "    after = df.shape[1]\n",
    "    column_names_after = df.columns.to_list()\n",
    "    columns_dropped = []\n",
    "    for i in column_names_before:\n",
    "        if i not in column_names_after:\n",
    "            columns_dropped.append(i)\n",
    "    total_dropped = before - after\n",
    "    df = df\n",
    "    print(f\"dropped: {total_dropped}\")\n",
    "    print(f\"columns that where dropped where: {columns_dropped}\")\n",
    "    # record actions in summary report\n",
    "    cleanActionsReport(df,df_name,actionDesc,columns_dropped)\n",
    "    return df\n"
   ],
   "metadata": {
    "collapsed": false,
    "pycharm": {
     "name": "#%%\n"
    }
   }
  },
  {
   "cell_type": "markdown",
   "source": [
    "# Source Data"
   ],
   "metadata": {
    "collapsed": false
   }
  },
  {
   "cell_type": "markdown",
   "source": [
    "## Prep -- Trim Large CSV\n",
    "(Note: Creates trimmed version of CSV's for import.\n",
    "Only need to run this once, and then comment out to save time)"
   ],
   "metadata": {
    "collapsed": false
   }
  },
  {
   "cell_type": "code",
   "execution_count": 674,
   "outputs": [
    {
     "name": "stdout",
     "output_type": "stream",
     "text": [
      "Starting...\n",
      "Securities_SAM:\n"
     ]
    }
   ],
   "source": [
    "# Trim Securities_Full\n",
    "largeCSVPath = 'C:/Users/TheCu/OneDrive/Documents/Grad-School-Docs/CapstoneProject/SourceData_Orig/'\n",
    "CSVName = 'Securities_Full.csv'\n",
    "trimQuery = \"tic == 'SAM'\"\n",
    "\n",
    "print(\"Starting...\")\n",
    "# Securities_SAM = largeCSVTrim(largeCSVPath,CSVName,trimQuery) # Get Trimmed Data\n",
    "# Securities_SAM.to_csv(trimmedCSVPath+'Securities_SAM.csv') # Export Trimmed Data\n",
    "\n",
    "#View Trimmed Dataframe\n",
    "print(\"Securities_SAM:\")\n",
    "# Securities_SAM.sample(3)"
   ],
   "metadata": {
    "collapsed": false,
    "pycharm": {
     "name": "#%%\n"
    }
   }
  },
  {
   "cell_type": "code",
   "execution_count": 675,
   "outputs": [
    {
     "name": "stdout",
     "output_type": "stream",
     "text": [
      "Starting...\n",
      "Fundamentals_30:\n"
     ]
    },
    {
     "data": {
      "text/plain": "(2323, 1768)"
     },
     "execution_count": 675,
     "metadata": {},
     "output_type": "execute_result"
    }
   ],
   "source": [
    "# Trim Fundamentals_Full\n",
    "largeCSVPath = 'C:/Users/TheCu/OneDrive/Documents/Grad-School-Docs/CapstoneProject/SourceData_Orig/'\n",
    "CSVName = 'Fundamentals_Full.csv'\n",
    "trimQuery = \"gsector == 30\"\n",
    "\n",
    "print(\"Starting...\")\n",
    "fundamentals = pd.read_csv(largeCSVPath+CSVName)\n",
    "fundamentals['gsector'] = fundamentals['gsector'].astype(str)\n",
    "fundamentals = fundamentals[fundamentals['gsector'] == '30']\n",
    "fundamentals.to_csv(trimmedCSVPath+'Fundamentals_30.csv') # Export Trimmed Data\n",
    "\n",
    "#View Trimmed Dataframe\n",
    "print(\"Fundamentals_30:\")\n",
    "fundamentals.shape"
   ],
   "metadata": {
    "collapsed": false,
    "pycharm": {
     "name": "#%%\n"
    }
   }
  },
  {
   "cell_type": "code",
   "execution_count": 676,
   "outputs": [
    {
     "name": "stdout",
     "output_type": "stream",
     "text": [
      "Starting...\n",
      "Stocks_SAM:\n"
     ]
    }
   ],
   "source": [
    "# Trim Stocks_DS\n",
    "largeCSVPath = 'C:/Users/TheCu/OneDrive/Documents/Grad-School-Docs/CapstoneProject/SourceData_Orig/'\n",
    "CSVName = 'Stocks_DS.csv'\n",
    "trimQuery = \"tic == 'SAM'\"\n",
    "\n",
    "print(\"Starting...\")\n",
    "# Stocks_SAM = largeCSVTrim(largeCSVPath,CSVName,trimQuery) # Get Trimmed Data\n",
    "# Stocks_SAM.to_csv(trimmedCSVPath+'Stocks_SAM.csv') # Export Trimmed Data\n",
    "\n",
    "#View Trimmed Dataframe\n",
    "print(\"Stocks_SAM:\")\n",
    "# Stocks_SAM.sample(3)"
   ],
   "metadata": {
    "collapsed": false,
    "pycharm": {
     "name": "#%%\n"
    }
   }
  },
  {
   "cell_type": "markdown",
   "source": [
    "## Get Source Data\n",
    "(Note: Creates trimmed version of CSV's for import.\n",
    "Only need to run this once, and then comment out to save time)"
   ],
   "metadata": {
    "collapsed": false
   }
  },
  {
   "cell_type": "code",
   "execution_count": 677,
   "outputs": [
    {
     "data": {
      "text/plain": "   Unnamed: 0  gvkey   datadate  fyear indfmt consol popsrc   datafmt   tic  \\\n0         218   1239  9/30/2010   2010   INDL      C      D  SUMM_STD   ACV   \n1         219   1239  9/30/2010   2010   INDL      C      D       STD   ACV   \n2         242   1266  9/30/2010   2010   INDL      C      D  SUMM_STD  ALCO   \n3         243   1266  9/30/2010   2010   INDL      C      D       STD  ALCO   \n4         244   1266  9/30/2011   2011   INDL      C      D  SUMM_STD  ALCO   \n\n                conm  ... priusa   sic spcindcd  spcseccd  spcsrc  state stko  \\\n0  ALBERTO-CULVER CO  ...      1  2844    215.0     978.0      A-     IL    0   \n1  ALBERTO-CULVER CO  ...      1  2844    215.0     978.0      A-     IL    0   \n2          ALICO INC  ...      1   100    112.0     970.0      B-     FL    0   \n3          ALICO INC  ...      1   100    112.0     970.0      B-     FL    0   \n4          ALICO INC  ...      1   100    112.0     970.0      B-     FL    0   \n\n             weburl      dldte ipodate  \n0   www.alberto.com  5/11/2011     NaN  \n1   www.alberto.com  5/11/2011     NaN  \n2  www.alicoinc.com        NaN     NaN  \n3  www.alicoinc.com        NaN     NaN  \n4  www.alicoinc.com        NaN     NaN  \n\n[5 rows x 1769 columns]",
      "text/html": "<div>\n<style scoped>\n    .dataframe tbody tr th:only-of-type {\n        vertical-align: middle;\n    }\n\n    .dataframe tbody tr th {\n        vertical-align: top;\n    }\n\n    .dataframe thead th {\n        text-align: right;\n    }\n</style>\n<table border=\"1\" class=\"dataframe\">\n  <thead>\n    <tr style=\"text-align: right;\">\n      <th></th>\n      <th>Unnamed: 0</th>\n      <th>gvkey</th>\n      <th>datadate</th>\n      <th>fyear</th>\n      <th>indfmt</th>\n      <th>consol</th>\n      <th>popsrc</th>\n      <th>datafmt</th>\n      <th>tic</th>\n      <th>conm</th>\n      <th>...</th>\n      <th>priusa</th>\n      <th>sic</th>\n      <th>spcindcd</th>\n      <th>spcseccd</th>\n      <th>spcsrc</th>\n      <th>state</th>\n      <th>stko</th>\n      <th>weburl</th>\n      <th>dldte</th>\n      <th>ipodate</th>\n    </tr>\n  </thead>\n  <tbody>\n    <tr>\n      <th>0</th>\n      <td>218</td>\n      <td>1239</td>\n      <td>9/30/2010</td>\n      <td>2010</td>\n      <td>INDL</td>\n      <td>C</td>\n      <td>D</td>\n      <td>SUMM_STD</td>\n      <td>ACV</td>\n      <td>ALBERTO-CULVER CO</td>\n      <td>...</td>\n      <td>1</td>\n      <td>2844</td>\n      <td>215.0</td>\n      <td>978.0</td>\n      <td>A-</td>\n      <td>IL</td>\n      <td>0</td>\n      <td>www.alberto.com</td>\n      <td>5/11/2011</td>\n      <td>NaN</td>\n    </tr>\n    <tr>\n      <th>1</th>\n      <td>219</td>\n      <td>1239</td>\n      <td>9/30/2010</td>\n      <td>2010</td>\n      <td>INDL</td>\n      <td>C</td>\n      <td>D</td>\n      <td>STD</td>\n      <td>ACV</td>\n      <td>ALBERTO-CULVER CO</td>\n      <td>...</td>\n      <td>1</td>\n      <td>2844</td>\n      <td>215.0</td>\n      <td>978.0</td>\n      <td>A-</td>\n      <td>IL</td>\n      <td>0</td>\n      <td>www.alberto.com</td>\n      <td>5/11/2011</td>\n      <td>NaN</td>\n    </tr>\n    <tr>\n      <th>2</th>\n      <td>242</td>\n      <td>1266</td>\n      <td>9/30/2010</td>\n      <td>2010</td>\n      <td>INDL</td>\n      <td>C</td>\n      <td>D</td>\n      <td>SUMM_STD</td>\n      <td>ALCO</td>\n      <td>ALICO INC</td>\n      <td>...</td>\n      <td>1</td>\n      <td>100</td>\n      <td>112.0</td>\n      <td>970.0</td>\n      <td>B-</td>\n      <td>FL</td>\n      <td>0</td>\n      <td>www.alicoinc.com</td>\n      <td>NaN</td>\n      <td>NaN</td>\n    </tr>\n    <tr>\n      <th>3</th>\n      <td>243</td>\n      <td>1266</td>\n      <td>9/30/2010</td>\n      <td>2010</td>\n      <td>INDL</td>\n      <td>C</td>\n      <td>D</td>\n      <td>STD</td>\n      <td>ALCO</td>\n      <td>ALICO INC</td>\n      <td>...</td>\n      <td>1</td>\n      <td>100</td>\n      <td>112.0</td>\n      <td>970.0</td>\n      <td>B-</td>\n      <td>FL</td>\n      <td>0</td>\n      <td>www.alicoinc.com</td>\n      <td>NaN</td>\n      <td>NaN</td>\n    </tr>\n    <tr>\n      <th>4</th>\n      <td>244</td>\n      <td>1266</td>\n      <td>9/30/2011</td>\n      <td>2011</td>\n      <td>INDL</td>\n      <td>C</td>\n      <td>D</td>\n      <td>SUMM_STD</td>\n      <td>ALCO</td>\n      <td>ALICO INC</td>\n      <td>...</td>\n      <td>1</td>\n      <td>100</td>\n      <td>112.0</td>\n      <td>970.0</td>\n      <td>B-</td>\n      <td>FL</td>\n      <td>0</td>\n      <td>www.alicoinc.com</td>\n      <td>NaN</td>\n      <td>NaN</td>\n    </tr>\n  </tbody>\n</table>\n<p>5 rows × 1769 columns</p>\n</div>"
     },
     "execution_count": 677,
     "metadata": {},
     "output_type": "execute_result"
    }
   ],
   "source": [
    "# Get Fundamentals\n",
    "file = 'Fundamentals_30.csv'\n",
    "fundamentals = pd.read_csv(sourceDataPath+file,skipinitialspace = True)\n",
    "fundamentals.head()"
   ],
   "metadata": {
    "collapsed": false,
    "pycharm": {
     "name": "#%%\n"
    }
   }
  },
  {
   "cell_type": "code",
   "execution_count": 678,
   "outputs": [],
   "source": [
    "# Get Securities"
   ],
   "metadata": {
    "collapsed": false,
    "pycharm": {
     "name": "#%%\n"
    }
   }
  },
  {
   "cell_type": "code",
   "execution_count": 679,
   "outputs": [],
   "source": [
    "# Get Stocks"
   ],
   "metadata": {
    "collapsed": false,
    "pycharm": {
     "name": "#%%\n"
    }
   }
  },
  {
   "cell_type": "code",
   "execution_count": 680,
   "outputs": [],
   "source": [
    "# Get Ratings\n"
   ],
   "metadata": {
    "collapsed": false,
    "pycharm": {
     "name": "#%%\n"
    }
   }
  },
  {
   "cell_type": "markdown",
   "source": [
    "# Data Clean-Up"
   ],
   "metadata": {
    "collapsed": false
   }
  },
  {
   "cell_type": "markdown",
   "source": [
    "## Fundamentals"
   ],
   "metadata": {
    "collapsed": false
   }
  },
  {
   "cell_type": "code",
   "execution_count": 681,
   "outputs": [
    {
     "data": {
      "text/plain": "             DF                              ActionDesc  \\\n0  Fundamentals  Dropped obvious low value columns -- 1   \n\n                                        List-of-Cols   ResultShape  \n0  [datadate, apdedate, fdate, pdate, fyr, add1, ...  (2323, 1751)  ",
      "text/html": "<div>\n<style scoped>\n    .dataframe tbody tr th:only-of-type {\n        vertical-align: middle;\n    }\n\n    .dataframe tbody tr th {\n        vertical-align: top;\n    }\n\n    .dataframe thead th {\n        text-align: right;\n    }\n</style>\n<table border=\"1\" class=\"dataframe\">\n  <thead>\n    <tr style=\"text-align: right;\">\n      <th></th>\n      <th>DF</th>\n      <th>ActionDesc</th>\n      <th>List-of-Cols</th>\n      <th>ResultShape</th>\n    </tr>\n  </thead>\n  <tbody>\n    <tr>\n      <th>0</th>\n      <td>Fundamentals</td>\n      <td>Dropped obvious low value columns -- 1</td>\n      <td>[datadate, apdedate, fdate, pdate, fyr, add1, ...</td>\n      <td>(2323, 1751)</td>\n    </tr>\n  </tbody>\n</table>\n</div>"
     },
     "execution_count": 681,
     "metadata": {},
     "output_type": "execute_result"
    }
   ],
   "source": [
    "# Drop Obvious Un-needed 1\n",
    "cleanActionsDesc = \"Dropped obvious low value columns -- 1\"\n",
    "df_name = \"Fundamentals\"\n",
    "\n",
    "colsToDrop = ['datadate','apdedate','fdate','pdate','fyr','add1','addzip','busdesc','city','conml',\n",
    "              'ein','fax','fyrc','incorp','loc','phone','state','weburl']\n",
    "\n",
    "fundamentals = fundamentals.drop(columns=colsToDrop)\n",
    "cleanActionsReport(fundamentals,df_name,cleanActionsDesc,colsToDrop)"
   ],
   "metadata": {
    "collapsed": false,
    "pycharm": {
     "name": "#%%\n"
    }
   }
  },
  {
   "cell_type": "code",
   "execution_count": 682,
   "outputs": [
    {
     "name": "stdout",
     "output_type": "stream",
     "text": [
      "Count of Variables: 1751\n",
      "Count of Variables without nulls: 25\n",
      "Count of Variables with null : 1726\n"
     ]
    },
    {
     "data": {
      "text/plain": "     Variable Observations Nulls  Null_Per Num_Unique     Type\n876     xstfo         2323  2323   100.000          0  float64\n1387  isfi_dc         2323  2323   100.000          0  float64\n704     tdscd         2323  2323   100.000          0  float64\n705     tdsce         2323  2323   100.000          0  float64\n706      tdsg         2323  2323   100.000          0  float64\n...       ...          ...   ...       ...        ...      ...\n346        ib         2323    67     2.884       1336  float64\n713       teq         2323    60     2.583       1316  float64\n88         at         2323    58     2.497       1310  float64\n669      sale         2323    58     2.497       1328  float64\n677       seq         2323    56     2.411       1320  float64\n\n[1726 rows x 6 columns]",
      "text/html": "<div>\n<style scoped>\n    .dataframe tbody tr th:only-of-type {\n        vertical-align: middle;\n    }\n\n    .dataframe tbody tr th {\n        vertical-align: top;\n    }\n\n    .dataframe thead th {\n        text-align: right;\n    }\n</style>\n<table border=\"1\" class=\"dataframe\">\n  <thead>\n    <tr style=\"text-align: right;\">\n      <th></th>\n      <th>Variable</th>\n      <th>Observations</th>\n      <th>Nulls</th>\n      <th>Null_Per</th>\n      <th>Num_Unique</th>\n      <th>Type</th>\n    </tr>\n  </thead>\n  <tbody>\n    <tr>\n      <th>876</th>\n      <td>xstfo</td>\n      <td>2323</td>\n      <td>2323</td>\n      <td>100.000</td>\n      <td>0</td>\n      <td>float64</td>\n    </tr>\n    <tr>\n      <th>1387</th>\n      <td>isfi_dc</td>\n      <td>2323</td>\n      <td>2323</td>\n      <td>100.000</td>\n      <td>0</td>\n      <td>float64</td>\n    </tr>\n    <tr>\n      <th>704</th>\n      <td>tdscd</td>\n      <td>2323</td>\n      <td>2323</td>\n      <td>100.000</td>\n      <td>0</td>\n      <td>float64</td>\n    </tr>\n    <tr>\n      <th>705</th>\n      <td>tdsce</td>\n      <td>2323</td>\n      <td>2323</td>\n      <td>100.000</td>\n      <td>0</td>\n      <td>float64</td>\n    </tr>\n    <tr>\n      <th>706</th>\n      <td>tdsg</td>\n      <td>2323</td>\n      <td>2323</td>\n      <td>100.000</td>\n      <td>0</td>\n      <td>float64</td>\n    </tr>\n    <tr>\n      <th>...</th>\n      <td>...</td>\n      <td>...</td>\n      <td>...</td>\n      <td>...</td>\n      <td>...</td>\n      <td>...</td>\n    </tr>\n    <tr>\n      <th>346</th>\n      <td>ib</td>\n      <td>2323</td>\n      <td>67</td>\n      <td>2.884</td>\n      <td>1336</td>\n      <td>float64</td>\n    </tr>\n    <tr>\n      <th>713</th>\n      <td>teq</td>\n      <td>2323</td>\n      <td>60</td>\n      <td>2.583</td>\n      <td>1316</td>\n      <td>float64</td>\n    </tr>\n    <tr>\n      <th>88</th>\n      <td>at</td>\n      <td>2323</td>\n      <td>58</td>\n      <td>2.497</td>\n      <td>1310</td>\n      <td>float64</td>\n    </tr>\n    <tr>\n      <th>669</th>\n      <td>sale</td>\n      <td>2323</td>\n      <td>58</td>\n      <td>2.497</td>\n      <td>1328</td>\n      <td>float64</td>\n    </tr>\n    <tr>\n      <th>677</th>\n      <td>seq</td>\n      <td>2323</td>\n      <td>56</td>\n      <td>2.411</td>\n      <td>1320</td>\n      <td>float64</td>\n    </tr>\n  </tbody>\n</table>\n<p>1726 rows × 6 columns</p>\n</div>"
     },
     "execution_count": 682,
     "metadata": {},
     "output_type": "execute_result"
    }
   ],
   "source": [
    "# Initial Column Reduce -- Drop Obvious -- Nulls\n",
    "# Run Initial -- Null Report\n",
    "fundamentals_nullReport = nullAnalysis(fundamentals)\n",
    "fundamentals_nullReport"
   ],
   "metadata": {
    "collapsed": false,
    "pycharm": {
     "name": "#%%\n"
    }
   }
  },
  {
   "cell_type": "code",
   "execution_count": 683,
   "outputs": [
    {
     "name": "stdout",
     "output_type": "stream",
     "text": [
      "dropped: 1418\n",
      "columns that where dropped where: ['acctchg', 'acqmeth', 'adrr', 'bspr', 'compst', 'curuscn', 'ltcm', 'ogm', 'stalt', 'udpl', 'acco', 'acoxar', 'acqao', 'acqcshi', 'acqgdwl', 'acqic', 'acqintan', 'acqinvt', 'acqlntal', 'acqniintc', 'acqppe', 'acqsc', 'adpac', 'aedi', 'afudcc', 'afudci', 'amc', 'amdc', 'amgw', 'ano', 'aol2', 'apalch', 'apb', 'apc', 'apofs', 'aqa', 'aqd', 'aqeps', 'aqi', 'aqp', 'aqpl1', 'aqs', 'arb', 'arc', 'arce', 'arced', 'arceeps', 'artfs', 'aul3', 'autxr', 'balr', 'banlr', 'bast', 'bastr', 'batr', 'bcef', 'bclr', 'bcltbl', 'bcnlr', 'bcrbl', 'bct', 'bctbl', 'bctr', 'bltbl', 'ca', 'capr1', 'capr2', 'capr3', 'cb', 'cbi', 'cdpac', 'cdvc', 'cfbd', 'cfere', 'cfo', 'cfpdo', 'cga', 'cgri', 'cgti', 'cgui', 'chs', 'clfc', 'clfx', 'clg', 'clis', 'cll', 'cllc', 'clo', 'clrll', 'clt', 'cmp', 'cnltbl', 'cpcbl', 'cpdoi', 'cpnli', 'cppbl', 'cprei', 'crv', 'crvnli', 'cshrc', 'cshrp', 'cshrso', 'cshrt', 'cshrw', 'dbi', 'dcs', 'depc', 'dfpac', 'dfs', 'dfxa', 'dlcch', 'dltsub', 'dpacb', 'dpacc', 'dpacli', 'dpacls', 'dpacme', 'dpacnr', 'dpaco', 'dpacre', 'dpdc', 'dpltb', 'dpret', 'dpsc', 'dpstb', 'dptb', 'dptc', 'dptic', 'dpvio', 'dpvir', 'drci', 'dtea', 'dted', 'dteeps', 'dtep', 'dvdnp', 'dvpd', 'dvpdp', 'dvpibb', 'dvrpiv', 'dvrre', 'dvsco', 'ea', 'eiea', 'emol', 'esopdlt', 'excadj', 'fatd', 'fatl', 'fca', 'fdfr', 'fea', 'fel', 'ffo', 'ffs', 'fopt', 'fsrco', 'fsrct', 'fuseo', 'fuset', 'gbbl', 'gdwlam', 'gdwlia', 'gdwlid', 'gdwlieps', 'gdwlip', 'geqrv', 'gla', 'glcea', 'glced', 'glceeps', 'glcep', 'gld', 'gleps', 'glp', 'govgr', 'govtown', 'gphbl', 'gplbl', 'gpobl', 'gprbl', 'gptbl', 'gwo', 'hedgegl', 'iaeq', 'iaeqci', 'iaeqmi', 'iafici', 'iafxi', 'iafxmi', 'iali', 'ialoi', 'ialti', 'iamli', 'iaoi', 'iapli', 'iarei', 'iasci', 'iasmi', 'iassi', 'iasti', 'iatci', 'iati', 'iatmi', 'iaui', 'ibbl', 'ibki', 'idiis', 'idilb', 'idilc', 'idis', 'idist', 'idit', 'idits', 'iire', 'initb', 'invofs', 'invreh', 'invrei', 'invres', 'invrm', 'invwip', 'iobd', 'ioi', 'iore', 'ip', 'ipabl', 'ipc', 'iphbl', 'iplbl', 'ipobl', 'iptbl', 'ipti', 'ipv', 'irei', 'irent', 'irii', 'irli', 'irnli', 'irsi', 'iseq', 'iseqc', 'iseqm', 'isfi', 'isfxc', 'isfxm', 'isgr', 'isgt', 'isgu', 'islg', 'islgc', 'islgm', 'islt', 'isng', 'isngc', 'isngm', 'isotc', 'isoth', 'isotm', 'issc', 'issm', 'issu', 'ist', 'istc', 'istm', 'isut', 'itcc', 'ivgod', 'ivi', 'ivpt', 'lcabg', 'lcacl', 'lcacr', 'lcag', 'lcal', 'lcalt', 'lcam', 'lcao', 'lcast', 'lcat', 'lcoxar', 'lcuacu', 'li', 'lif', 'lloml', 'lloo', 'llot', 'llrci', 'llrcr', 'llwoci', 'llwocr', 'lno', 'lol2', 'lqpl1', 'lrv', 'ls', 'lst', 'lul3', 'msvrv', 'mtl', 'nat', 'nco', 'nfsr', 'nieci', 'niint', 'niintpfc', 'niintpfp', 'niit', 'nim', 'nio', 'nipfc', 'nipfp', 'nit', 'nits', 'npanl', 'npaore', 'nparl', 'npat', 'nrtxt', 'nrtxtd', 'nrtxteps', 'ob', 'opili', 'opincar', 'opini', 'opioi', 'opiri', 'opiti', 'optdr', 'optfvgr', 'optlife', 'optprcby', 'optprcca', 'optprcex', 'optprcey', 'optprcgr', 'optprcwa', 'optrfr', 'optvol', 'palr', 'panlr', 'patr', 'pcl', 'pclr', 'pcnlr', 'pctr', 'pdvc', 'pidom', 'pifo', 'pll', 'pltbl', 'pncia', 'pncid', 'pncieps', 'pncip', 'pncwia', 'pncwid', 'pncwieps', 'pncwip', 'pnlbl', 'pnli', 'pobl', 'ppcbl', 'ppenb', 'ppenc', 'ppenli', 'ppenls', 'ppenme', 'ppennr', 'ppeno', 'ppevbb', 'ppevo', 'ppevr', 'pppabl', 'ppphbl', 'pppobl', 'ppptbl', 'prc', 'prebl', 'pri', 'prodv', 'prstkcc', 'prstkpc', 'prvt', 'ptbl', 'ptran', 'pvcl', 'pvo', 'pvon', 'pvpl', 'pvt', 'pwoi', 'radp', 'ragr', 'rari', 'rati', 'rca', 'rcd', 'rceps', 'rcl', 'rcp', 'rdp', 'recub', 'ret', 'reunr', 'ris', 'rll', 'rlo', 'rlp', 'rlri', 'rlt', 'rmum', 'rpag', 'rra', 'rrd', 'rreps', 'rrp', 'rvbci', 'rvbpi', 'rvbti', 'rvdo', 'rvdt', 'rveqt', 'rvlrv', 'rvno', 'rvnt', 'rvri', 'rvsi', 'rvti', 'rvtxr', 'rvupi', 'rvutx', 'saa', 'sal', 'salepfc', 'salepfp', 'sbdc', 'sc', 'sco', 'scstkc', 'secu', 'seta', 'setd', 'seteps', 'setp', 'spid', 'spieps', 'spioa', 'spiop', 'spstkc', 'sret', 'srt', 'ssnp', 'stbo', 'stio', 'stkcpa', 'tdc', 'tdscd', 'tdsce', 'tdsg', 'tdslg', 'tdsmm', 'tdsng', 'tdso', 'tdss', 'tdst', 'tf', 'tfva', 'tfvce', 'tfvl', 'tie', 'tii', 'tlcf', 'transa', 'tsa', 'tsafc', 'tso', 'tstkme', 'txach', 'txeqa', 'txeqii', 'txtubadjust', 'txtubbegin', 'txtubend', 'txtubmax', 'txtubmin', 'txtubposdec', 'txtubposinc', 'txtubpospdec', 'txtubpospinc', 'txtubsettle', 'txtubsoflimit', 'txtubtxtr', 'txtubxintbs', 'txtubxintis', 'txva', 'uaoloch', 'uaox', 'uapt', 'ucaps', 'uccons', 'uceq', 'ucustad', 'udcopres', 'udd', 'udfcc', 'udmb', 'udolt', 'udpco', 'udpfa', 'udvp', 'ufretsd', 'ugi', 'ui', 'uinvt', 'ulcm', 'ulco', 'uniami', 'unl', 'unnp', 'unnpl', 'unopinc', 'unwcc', 'uois', 'uopi', 'uopres', 'updvp', 'upmcstk', 'upmpf', 'upmpfs', 'upmsubp', 'upstk', 'upstkc', 'upstksf', 'urect', 'urectr', 'urevub', 'uspi', 'ustdnc', 'usubdvp', 'usubpstk', 'utfdoc', 'utfosc', 'utme', 'utxfed', 'uwkcapc', 'uxinst', 'uxintd', 'vpac', 'vpo', 'wcapc', 'wcapch', 'wda', 'wdd', 'wdeps', 'wdp', 'xad', 'xago', 'xagt', 'xcom', 'xcomi', 'xdepl', 'xdp', 'xdvre', 'xeqo', 'xindb', 'xindc', 'xins', 'xinst', 'xintd', 'xivi', 'xivre', 'xlr', 'xnbi', 'xnf', 'xnins', 'xnitb', 'xobd', 'xoi', 'xoprar', 'xore', 'xpp', 'xpr', 'xrd', 'xs', 'xstf', 'xstfo', 'xstfws', 'xt', 'xuw', 'xuwli', 'xuwnli', 'xuwoi', 'xuwrei', 'xuwti', 'acchg_fn', 'afudcc_fn', 'amc_fn', 'am_fn', 'aocidergl_fn', 'aocipen_fn', 'aocisecgl_fn', 'ap_fn', 'aqa_fn', 'aqd_fn', 'aqeps_fn', 'aqp_fn', 'aqs_fn', 'arced_fn', 'arceeps_fn', 'arce_fn', 'artfs_fn', 'at_fn', 'capr1_fn', 'capr3_fn', 'caps_fn', 'capx_fn', 'cdvc_fn', 'clg_fn', 'cogs_fn', 'cshfd_fn', 'csho_fn', 'cshpri_fn', 'cstk_fn', 'dclo_fn', 'dcs_fn', 'dcvsr_fn', 'dcvsub_fn', 'dcvt_fn', 'dd1_fn', 'dd2_fn', 'dd3_fn', 'dd4_fn', 'dd5_fn', 'dd_fn', 'depc_fn', 'dfs_fn', 'dlto_fn', 'dltp_fn', 'dltt_fn', 'dn_fn', 'dpc_fn', 'dptc_fn', 'dptic_fn', 'dp_fn', 'ds_fn', 'dtea_fn', 'dted_fn', 'dteeps_fn', 'dtep_fn', 'dvc_fn', 'dvp_fn', 'dvrre_fn', 'emp_fn', 'epspi_fn', 'epspx_fn', 'esopt_fn', 'esub_fn', 'fca_fn', 'gdwlam_fn', 'gdwlia_fn', 'gdwlid_fn', 'gdwlieps_fn', 'gdwlip_fn', 'gla_fn', 'glcea_fn', 'glced_fn', 'glceeps_fn', 'glcep_fn', 'gld_fn', 'gleps_fn', 'glp_fn', 'hedgegl_fn', 'iarei_fn', 'iati_fn', 'ibadj_fn', 'ib_fn', 'icapt_fn', 'idiis_fn', 'idilc_fn', 'idist_fn', 'idits_fn', 'idit_fn', 'iire_fn', 'invt_fn', 'ip_fn', 'ist_fn', 'itcc_fn', 'itci_fn', 'ivi_fn', 'lcao_fn', 'lcuacu_fn', 'lse_fn', 'mib_fn', 'mrc1_fn', 'mrc2_fn', 'mrc3_fn', 'mrc4_fn', 'mrc5_fn', 'msa_fn', 'ni_fn', 'nrtxtd_fn', 'nrtxteps_fn', 'nrtxt_fn', 'oancf_fn', 'opeps_fn', 'oprepsx_fn', 'optdr_fn', 'optfvgr_fn', 'optlife_fn', 'optprcby_fn', 'optprcca_fn', 'optprcex_fn', 'optprcey_fn', 'optprcgr_fn', 'optprcwa_fn', 'optrfr_fn', 'optvol_fn', 'pcl_fn', 'pdvc_fn', 'pidom_fn', 'pifo_fn', 'pncad_fn', 'pncaeps_fn', 'pnca_fn', 'pncia_fn', 'pncid_fn', 'pncieps_fn', 'pncwia_fn', 'pncwid_fn', 'pncwieps_fn', 'ppegt_fn', 'ppent_fn', 'ppeveb_fn', 'prcad_fn', 'prcaeps_fn', 'prca_fn', 'pstkl_fn', 'pstkrv_fn', 'pvcl_fn', 'ragr_fn', 'rca_fn', 'rcd_fn', 'rceps_fn', 'rcl_fn', 'rcp_fn', 'rdip_fn', 'recta_fn', 'reuna_fn', 'revt_fn', 're_fn', 'rra_fn', 'rrd_fn', 'rreps_fn', 'rrp_fn', 'sale_fn', 'secu_fn', 'seta_fn', 'setd_fn', 'seteps_fn', 'setp_fn', 'spced_fn', 'spceeps_fn', 'spce_fn', 'spid_fn', 'spieps_fn', 'spioa_fn', 'spiop_fn', 'stkcpa_fn', 'tdc_fn', 'tdst_fn', 'tie_fn', 'transa_fn', 'tstkc_fn', 'tstk_fn', 'txeqii_fn', 'txfed_fn', 'txfo_fn', 'txo_fn', 'txp_fn', 'txs_fn', 'txt_fn', 'uapt_fn', 'ucaps_fn', 'ui_fn', 'unwcc_fn', 'vpac_fn', 'vpo_fn', 'wda_fn', 'wdd_fn', 'wdeps_fn', 'wdp_fn', 'xintopt_fn', 'xint_fn', 'xlr_fn', 'xoptd_fn', 'xopteps_fn', 'xpr_fn', 'xrd_fn', 'xrent_fn', 'xsga_fn', 'xt_fn', 'acchg_dc', 'acco_dc', 'acdo_dc', 'aco_dc', 'acominc_dc', 'acox_dc', 'acqao_dc', 'acqgdwl_dc', 'acqic_dc', 'acqintan_dc', 'acqinvt_dc', 'acqlntal_dc', 'acqniintc_dc', 'acqppe_dc', 'acqsc_dc', 'adpac_dc', 'aedi_dc', 'aldo_dc', 'am_dc', 'amc_dc', 'amgw_dc', 'ano_dc', 'ao_dc', 'aocidergl_dc', 'aocipen_dc', 'aocisecgl_dc', 'aol2_dc', 'aoloch_dc', 'aox_dc', 'ap_dc', 'apalch_dc', 'apofs_dc', 'aqa_dc', 'aqc_dc', 'aqd_dc', 'aqeps_dc', 'aqi_dc', 'aqp_dc', 'aqpl1_dc', 'aqs_dc', 'arc_dc', 'artfs_dc', 'aul3_dc', 'balr_dc', 'banlr_dc', 'bast_dc', 'bastr_dc', 'batr_dc', 'bcef_dc', 'bclr_dc', 'bcnlr_dc', 'bcrbl_dc', 'bct_dc', 'bctbl_dc', 'bctr_dc', 'bkvlps_dc', 'bltbl_dc', 'ca_dc', 'caps_dc', 'capx_dc', 'capxv_dc', 'cb_dc', 'cbi_dc', 'cdvc_dc', 'ceq_dc', 'ceql_dc', 'ceqt_dc', 'cfbd_dc', 'cfere_dc', 'cfo_dc', 'cfpdo_dc', 'cgti_dc', 'ch_dc', 'che_dc', 'chech_dc', 'chs_dc', 'cicurr_dc', 'cidergl_dc', 'cipen_dc', 'cisecgl_dc', 'cld2_dc', 'cld3_dc', 'cld4_dc', 'cld5_dc', 'clfc_dc', 'clfx_dc', 'clg_dc', 'clis_dc', 'cll_dc', 'cllc_dc', 'cmp_dc', 'cnltbl_dc', 'cpnli_dc', 'cprei_dc', 'crvnli_dc', 'cshfd_dc', 'cshi_dc', 'csho_dc', 'cshpri_dc', 'cshr_dc', 'cshrc_dc', 'cshrt_dc', 'cshrw_dc', 'cstk_dc', 'cstkcv_dc', 'dbi_dc', 'dc_dc', 'dclo_dc', 'dcom_dc', 'dcpstk_dc', 'dcs_dc', 'dcvsr_dc', 'dcvsub_dc', 'dcvt_dc', 'dd_dc', 'dd1_dc', 'dd2_dc', 'dd3_dc', 'dd4_dc', 'dd5_dc', 'depc_dc', 'dfpac_dc', 'dfs_dc', 'dfxa_dc', 'dlc_dc', 'dlcch_dc', 'dltis_dc', 'dlto_dc', 'dltp_dc', 'dltr_dc', 'dltsub_dc', 'dltt_dc', 'dm_dc', 'dn_dc', 'do_dc', 'donr_dc', 'dp_dc', 'dpacb_dc', 'dpacc_dc', 'dpacls_dc', 'dpacme_dc', 'dpacnr_dc', 'dpact_dc', 'dpc_dc', 'dpdc_dc', 'dpsc_dc', 'dptb_dc', 'dptc_dc', 'dptic_dc', 'dpvieb_dc', 'dpvio_dc', 'dpvir_dc', 'drc_dc', 'drlt_dc', 'ds_dc', 'dtea_dc', 'dted_dc', 'dteeps_dc', 'dtep_dc', 'dudd_dc', 'dv_dc', 'dvc_dc', 'dvp_dc', 'dvpa_dc', 'dvpdp_dc', 'dvpibb_dc', 'dvrre_dc', 'dxd2_dc', 'dxd3_dc', 'dxd4_dc', 'dxd5_dc', 'ea_dc', 'ebitda_dc', 'eiea_dc', 'emp_dc', 'epsfi_dc', 'epsfx_dc', 'epspi_dc', 'epspx_dc', 'esopct_dc', 'esub_dc', 'esubc_dc', 'excadj_dc', 'exre_dc', 'fatb_dc', 'fatc_dc', 'fate_dc', 'fatl_dc', 'fatn_dc', 'fato_dc', 'fatp_dc', 'fca_dc', 'fdfr_dc', 'ffs_dc', 'fopo_dc', 'fsrco_dc', 'fuseo_dc', 'gdwl_dc', 'gdwlia_dc', 'gdwlid_dc', 'gdwlieps_dc', 'gdwlip_dc', 'gla_dc', 'glcea_dc', 'glcep_dc', 'gld_dc', 'gleps_dc', 'glp_dc', 'govgr_dc', 'gphbl_dc', 'gplbl_dc', 'gprbl_dc', 'hedgegl_dc', 'iaeq_dc', 'iaeqci_dc', 'iaeqmi_dc', 'ialti_dc', 'iamli_dc', 'iapli_dc', 'iarei_dc', 'iati_dc', 'ib_dc', 'ibadj_dc', 'ibcom_dc', 'ibki_dc', 'icapt_dc', 'idiis_dc', 'idilb_dc', 'idilc_dc', 'idis_dc', 'idist_dc', 'idit_dc', 'idits_dc', 'iire_dc', 'initb_dc', 'intan_dc', 'intano_dc', 'intc_dc', 'intpn_dc', 'invch_dc', 'invfg_dc', 'invreh_dc', 'invrei_dc', 'invres_dc', 'invrm_dc', 'invt_dc', 'invwip_dc', 'iobd_dc', 'ioi_dc', 'iore_dc', 'ip_dc', 'ipabl_dc', 'iphbl_dc', 'iplbl_dc', 'ipti_dc', 'ipv_dc', 'irei_dc', 'irent_dc', 'irli_dc', 'irnli_dc', 'irsi_dc', 'iseq_dc', 'iseqc_dc', 'iseqm_dc', 'isfi_dc', 'isfxc_dc', 'isfxm_dc', 'isgt_dc', 'islg_dc', 'islgc_dc', 'islgm_dc', 'isng_dc', 'isngc_dc', 'isngm_dc', 'issc_dc', 'issm_dc', 'issu_dc', 'ist_dc', 'itcb_dc', 'itcc_dc', 'itci_dc', 'ivaeq_dc', 'ivao_dc', 'ivch_dc', 'ivi_dc', 'ivpt_dc', 'ivst_dc', 'ivstch_dc', 'lcabg_dc', 'lcacl_dc', 'lcacr_dc', 'lcag_dc', 'lcal_dc', 'lcam_dc', 'lcat_dc', 'lco_dc', 'lcox_dc', 'lct_dc', 'lcuacu_dc', 'lifr_dc', 'llrcr_dc', 'llwocr_dc', 'lno_dc', 'lo_dc', 'lol2_dc', 'lqpl1_dc', 'lt_dc', 'lul3_dc', 'mib_dc', 'mibn_dc', 'mibt_dc', 'mii_dc', 'mrc1_dc', 'mrc2_dc', 'mrc3_dc', 'mrc4_dc', 'mrc5_dc', 'mrct_dc', 'mrcta_dc', 'msa_dc', 'nco_dc', 'ni_dc', 'nieci_dc', 'niintpfc_dc', 'niintpfp_dc', 'nio_dc', 'nipfc_dc', 'nipfp_dc', 'nit_dc', 'nopi_dc', 'nopio_dc', 'np_dc', 'npaore_dc', 'nparl_dc', 'nrtxt_dc', 'nrtxtd_dc', 'nrtxteps_dc', 'ob_dc', 'oiadp_dc', 'oibdp_dc', 'opili_dc', 'opini_dc', 'opioi_dc', 'opiri_dc', 'optca_dc', 'optexd_dc', 'optgr_dc', 'optosey_dc', 'optprcca_dc', 'optprcex_dc', 'optprcgr_dc', 'palr_dc', 'panlr_dc', 'patr_dc', 'pcl_dc', 'pclr_dc', 'pcnlr_dc', 'pctr_dc', 'pdvc_dc', 'pi_dc', 'pidom_dc', 'pifo_dc', 'pll_dc', 'pltbl_dc', 'pnlbl_dc', 'pnrsho_dc', 'pobl_dc', 'ppegt_dc', 'ppenb_dc', 'ppenc_dc', 'ppenli_dc', 'ppenls_dc', 'ppenme_dc', 'ppennr_dc', 'ppeno_dc', 'ppent_dc', 'ppevbb_dc', 'ppeveb_dc', 'ppevo_dc', 'ppevr_dc', 'ppphbl_dc', 'prebl_dc', 'pri_dc', 'prodv_dc', 'prsho_dc', 'prstkc_dc', 'prstkcc_dc', 'prstkpc_dc', 'pstk_dc', 'pstkc_dc', 'pstkl_dc', 'pstkn_dc', 'pstkr_dc', 'pstkrv_dc', 'ptran_dc', 'pvon_dc', 'pvpl_dc', 'pvt_dc', 'pwoi_dc', 'ragr_dc', 'rati_dc', 'rca_dc', 'rcd_dc', 'rceps_dc', 'rcl_dc', 'rcp_dc', 'rdip_dc', 'rdipa_dc', 'rdipd_dc', 're_dc', 'rea_dc', 'reajo_dc', 'recch_dc', 'recco_dc', 'recd_dc', 'rect_dc', 'recta_dc', 'rectr_dc', 'reunr_dc', 'ris_dc', 'rll_dc', 'rlri_dc', 'rlt_dc', 'rpag_dc', 'rvbci_dc', 'rvbti_dc', 'rvdt_dc', 'rveqt_dc', 'rvri_dc', 'rvsi_dc', 'rvti_dc', 'rvupi_dc', 'saa_dc', 'sal_dc', 'salepfc_dc', 'salepfp_dc', 'sbdc_dc', 'sc_dc', 'scstkc_dc', 'secu_dc', 'seq_dc', 'seta_dc', 'setd_dc', 'seteps_dc', 'setp_dc', 'siv_dc', 'spi_dc', 'spid_dc', 'spieps_dc', 'spioa_dc', 'spiop_dc', 'sppe_dc', 'sppiv_dc', 'spstkc_dc', 'ssnp_dc', 'sstk_dc', 'stbo_dc', 'stio_dc', 'stkco_dc', 'stkcpa_dc', 'tdc_dc', 'tdscd_dc', 'tdsce_dc', 'tdsg_dc', 'tdslg_dc', 'tdsmm_dc', 'tdsng_dc', 'tdst_dc', 'tf_dc', 'tfva_dc', 'tfvce_dc', 'tfvl_dc', 'tlcf_dc', 'transa_dc', 'tstk_dc', 'tstkc_dc', 'tstkme_dc', 'tstkn_dc', 'tstkp_dc', 'txach_dc', 'txbco_dc', 'txbcof_dc', 'txc_dc', 'txdb_dc', 'txdba_dc', 'txdbca_dc', 'txdbcl_dc', 'txdc_dc', 'txdfed_dc', 'txdfo_dc', 'txdi_dc', 'txditc_dc', 'txds_dc', 'txeqa_dc', 'txfed_dc', 'txfo_dc', 'txndb_dc', 'txndba_dc', 'txndbl_dc', 'txndbr_dc', 'txp_dc', 'txpd_dc', 'txr_dc', 'txs_dc', 'txt_dc', 'txtubadjust_dc', 'txtubbegin_dc', 'txtubend_dc', 'txtubmax_dc', 'txtubmin_dc', 'txtubposdec_dc', 'txtubposinc_dc', 'txtubpospdec_dc', 'txtubpospinc_dc', 'txtubsettle_dc', 'txtubsoflimit_dc', 'txtubtxtr_dc', 'txtubxintbs_dc', 'txtubxintis_dc', 'txw_dc', 'uaoloch_dc', 'uaox_dc', 'uapt_dc', 'ucaps_dc', 'uccons_dc', 'ucustad_dc', 'udd_dc', 'udfcc_dc', 'udmb_dc', 'udpco_dc', 'udvp_dc', 'ui_dc', 'uinvt_dc', 'unopinc_dc', 'unwcc_dc', 'uopi_dc', 'uopres_dc', 'updvp_dc', 'upmcstk_dc', 'upmpf_dc', 'upmpfs_dc', 'upmsubp_dc', 'upstk_dc', 'upstkc_dc', 'upstksf_dc', 'urect_dc', 'urectr_dc', 'urevub_dc', 'uspi_dc', 'ustdnc_dc', 'usubdvp_dc', 'usubpstk_dc', 'utme_dc', 'utxfed_dc', 'uwkcapc_dc', 'uxinst_dc', 'uxintd_dc', 'vpac_dc', 'vpo_dc', 'wcapc_dc', 'wda_dc', 'wdd_dc', 'wdeps_dc', 'wdp_dc', 'xacc_dc', 'xad_dc', 'xago_dc', 'xagt_dc', 'xcom_dc', 'xcomi_dc', 'xdepl_dc', 'xdp_dc', 'xdvre_dc', 'xeqo_dc', 'xi_dc', 'xido_dc', 'xidoc_dc', 'xindb_dc', 'xindc_dc', 'xins_dc', 'xinst_dc', 'xint_dc', 'xintd_dc', 'xintopt_dc', 'xivi_dc', 'xivre_dc', 'xlr_dc', 'xnins_dc', 'xnitb_dc', 'xobd_dc', 'xoi_dc', 'xoptd_dc', 'xopteps_dc', 'xore_dc', 'xpp_dc', 'xpr_dc', 'xrd_dc', 'xrent_dc', 'xs_dc', 'xsga_dc', 'xstf_dc', 'xstfo_dc', 'xuw_dc', 'xuwli_dc', 'xuwnli_dc', 'xuwoi_dc', 'xuwrei_dc', 'add2', 'add3', 'add4', 'county', 'dlrsn', 'prican', 'prirow', 'dldte', 'ipodate']\n"
     ]
    },
    {
     "data": {
      "text/plain": "      Unnamed: 0   gvkey  fyear indfmt consol popsrc   datafmt   tic  \\\n0            218    1239   2010   INDL      C      D  SUMM_STD   ACV   \n1            219    1239   2010   INDL      C      D       STD   ACV   \n2            242    1266   2010   INDL      C      D  SUMM_STD  ALCO   \n3            243    1266   2010   INDL      C      D       STD  ALCO   \n4            244    1266   2011   INDL      C      D  SUMM_STD  ALCO   \n...          ...     ...    ...    ...    ...    ...       ...   ...   \n2318       60832  264393   2013   INDL      C      D  SUMM_STD  IVFH   \n2319       60833  264393   2013   INDL      C      D       STD  IVFH   \n2320       61135  277487   2011   INDL      C      D       STD   LND   \n2321       61136  277487   2012   INDL      C      D       STD   LND   \n2322       61137  277487   2013   INDL      C      D       STD   LND   \n\n                             conm acctstd  ...  gsector   gsubind idbflag  \\\n0               ALBERTO-CULVER CO     NaN  ...       30  30302010       D   \n1               ALBERTO-CULVER CO      DS  ...       30  30302010       D   \n2                       ALICO INC     NaN  ...       30  30202010       D   \n3                       ALICO INC      DS  ...       30  30202010       D   \n4                       ALICO INC     NaN  ...       30  30202010       D   \n...                           ...     ...  ...      ...       ...     ...   \n2318     INNOVATIVE FOOD HOLDINGS     NaN  ...       30  30101020       D   \n2319     INNOVATIVE FOOD HOLDINGS      DS  ...       30  30101020       D   \n2320  BRASILAGRO CIA BRAS DE PROP      DI  ...       30  30202010       B   \n2321  BRASILAGRO CIA BRAS DE PROP      DI  ...       30  30202010       B   \n2322  BRASILAGRO CIA BRAS DE PROP      DI  ...       30  30202010       B   \n\n       naics  priusa   sic  spcindcd  spcseccd  spcsrc  stko  \n0     325620       1  2844     215.0     978.0      A-     0  \n1     325620       1  2844     215.0     978.0      A-     0  \n2     111310       1   100     112.0     970.0      B-     0  \n3     111310       1   100     112.0     970.0      B-     0  \n4     111310       1   100     112.0     970.0      B-     0  \n...      ...     ...   ...       ...       ...     ...   ...  \n2318    4244       1  5140       NaN       NaN     NaN     3  \n2319    4244       1  5140       NaN       NaN     NaN     3  \n2320    1111      90   100       NaN       NaN     NaN     0  \n2321    1111      90   100       NaN       NaN     NaN     0  \n2322    1111      90   100       NaN       NaN     NaN     0  \n\n[2323 rows x 333 columns]",
      "text/html": "<div>\n<style scoped>\n    .dataframe tbody tr th:only-of-type {\n        vertical-align: middle;\n    }\n\n    .dataframe tbody tr th {\n        vertical-align: top;\n    }\n\n    .dataframe thead th {\n        text-align: right;\n    }\n</style>\n<table border=\"1\" class=\"dataframe\">\n  <thead>\n    <tr style=\"text-align: right;\">\n      <th></th>\n      <th>Unnamed: 0</th>\n      <th>gvkey</th>\n      <th>fyear</th>\n      <th>indfmt</th>\n      <th>consol</th>\n      <th>popsrc</th>\n      <th>datafmt</th>\n      <th>tic</th>\n      <th>conm</th>\n      <th>acctstd</th>\n      <th>...</th>\n      <th>gsector</th>\n      <th>gsubind</th>\n      <th>idbflag</th>\n      <th>naics</th>\n      <th>priusa</th>\n      <th>sic</th>\n      <th>spcindcd</th>\n      <th>spcseccd</th>\n      <th>spcsrc</th>\n      <th>stko</th>\n    </tr>\n  </thead>\n  <tbody>\n    <tr>\n      <th>0</th>\n      <td>218</td>\n      <td>1239</td>\n      <td>2010</td>\n      <td>INDL</td>\n      <td>C</td>\n      <td>D</td>\n      <td>SUMM_STD</td>\n      <td>ACV</td>\n      <td>ALBERTO-CULVER CO</td>\n      <td>NaN</td>\n      <td>...</td>\n      <td>30</td>\n      <td>30302010</td>\n      <td>D</td>\n      <td>325620</td>\n      <td>1</td>\n      <td>2844</td>\n      <td>215.0</td>\n      <td>978.0</td>\n      <td>A-</td>\n      <td>0</td>\n    </tr>\n    <tr>\n      <th>1</th>\n      <td>219</td>\n      <td>1239</td>\n      <td>2010</td>\n      <td>INDL</td>\n      <td>C</td>\n      <td>D</td>\n      <td>STD</td>\n      <td>ACV</td>\n      <td>ALBERTO-CULVER CO</td>\n      <td>DS</td>\n      <td>...</td>\n      <td>30</td>\n      <td>30302010</td>\n      <td>D</td>\n      <td>325620</td>\n      <td>1</td>\n      <td>2844</td>\n      <td>215.0</td>\n      <td>978.0</td>\n      <td>A-</td>\n      <td>0</td>\n    </tr>\n    <tr>\n      <th>2</th>\n      <td>242</td>\n      <td>1266</td>\n      <td>2010</td>\n      <td>INDL</td>\n      <td>C</td>\n      <td>D</td>\n      <td>SUMM_STD</td>\n      <td>ALCO</td>\n      <td>ALICO INC</td>\n      <td>NaN</td>\n      <td>...</td>\n      <td>30</td>\n      <td>30202010</td>\n      <td>D</td>\n      <td>111310</td>\n      <td>1</td>\n      <td>100</td>\n      <td>112.0</td>\n      <td>970.0</td>\n      <td>B-</td>\n      <td>0</td>\n    </tr>\n    <tr>\n      <th>3</th>\n      <td>243</td>\n      <td>1266</td>\n      <td>2010</td>\n      <td>INDL</td>\n      <td>C</td>\n      <td>D</td>\n      <td>STD</td>\n      <td>ALCO</td>\n      <td>ALICO INC</td>\n      <td>DS</td>\n      <td>...</td>\n      <td>30</td>\n      <td>30202010</td>\n      <td>D</td>\n      <td>111310</td>\n      <td>1</td>\n      <td>100</td>\n      <td>112.0</td>\n      <td>970.0</td>\n      <td>B-</td>\n      <td>0</td>\n    </tr>\n    <tr>\n      <th>4</th>\n      <td>244</td>\n      <td>1266</td>\n      <td>2011</td>\n      <td>INDL</td>\n      <td>C</td>\n      <td>D</td>\n      <td>SUMM_STD</td>\n      <td>ALCO</td>\n      <td>ALICO INC</td>\n      <td>NaN</td>\n      <td>...</td>\n      <td>30</td>\n      <td>30202010</td>\n      <td>D</td>\n      <td>111310</td>\n      <td>1</td>\n      <td>100</td>\n      <td>112.0</td>\n      <td>970.0</td>\n      <td>B-</td>\n      <td>0</td>\n    </tr>\n    <tr>\n      <th>...</th>\n      <td>...</td>\n      <td>...</td>\n      <td>...</td>\n      <td>...</td>\n      <td>...</td>\n      <td>...</td>\n      <td>...</td>\n      <td>...</td>\n      <td>...</td>\n      <td>...</td>\n      <td>...</td>\n      <td>...</td>\n      <td>...</td>\n      <td>...</td>\n      <td>...</td>\n      <td>...</td>\n      <td>...</td>\n      <td>...</td>\n      <td>...</td>\n      <td>...</td>\n      <td>...</td>\n    </tr>\n    <tr>\n      <th>2318</th>\n      <td>60832</td>\n      <td>264393</td>\n      <td>2013</td>\n      <td>INDL</td>\n      <td>C</td>\n      <td>D</td>\n      <td>SUMM_STD</td>\n      <td>IVFH</td>\n      <td>INNOVATIVE FOOD HOLDINGS</td>\n      <td>NaN</td>\n      <td>...</td>\n      <td>30</td>\n      <td>30101020</td>\n      <td>D</td>\n      <td>4244</td>\n      <td>1</td>\n      <td>5140</td>\n      <td>NaN</td>\n      <td>NaN</td>\n      <td>NaN</td>\n      <td>3</td>\n    </tr>\n    <tr>\n      <th>2319</th>\n      <td>60833</td>\n      <td>264393</td>\n      <td>2013</td>\n      <td>INDL</td>\n      <td>C</td>\n      <td>D</td>\n      <td>STD</td>\n      <td>IVFH</td>\n      <td>INNOVATIVE FOOD HOLDINGS</td>\n      <td>DS</td>\n      <td>...</td>\n      <td>30</td>\n      <td>30101020</td>\n      <td>D</td>\n      <td>4244</td>\n      <td>1</td>\n      <td>5140</td>\n      <td>NaN</td>\n      <td>NaN</td>\n      <td>NaN</td>\n      <td>3</td>\n    </tr>\n    <tr>\n      <th>2320</th>\n      <td>61135</td>\n      <td>277487</td>\n      <td>2011</td>\n      <td>INDL</td>\n      <td>C</td>\n      <td>D</td>\n      <td>STD</td>\n      <td>LND</td>\n      <td>BRASILAGRO CIA BRAS DE PROP</td>\n      <td>DI</td>\n      <td>...</td>\n      <td>30</td>\n      <td>30202010</td>\n      <td>B</td>\n      <td>1111</td>\n      <td>90</td>\n      <td>100</td>\n      <td>NaN</td>\n      <td>NaN</td>\n      <td>NaN</td>\n      <td>0</td>\n    </tr>\n    <tr>\n      <th>2321</th>\n      <td>61136</td>\n      <td>277487</td>\n      <td>2012</td>\n      <td>INDL</td>\n      <td>C</td>\n      <td>D</td>\n      <td>STD</td>\n      <td>LND</td>\n      <td>BRASILAGRO CIA BRAS DE PROP</td>\n      <td>DI</td>\n      <td>...</td>\n      <td>30</td>\n      <td>30202010</td>\n      <td>B</td>\n      <td>1111</td>\n      <td>90</td>\n      <td>100</td>\n      <td>NaN</td>\n      <td>NaN</td>\n      <td>NaN</td>\n      <td>0</td>\n    </tr>\n    <tr>\n      <th>2322</th>\n      <td>61137</td>\n      <td>277487</td>\n      <td>2013</td>\n      <td>INDL</td>\n      <td>C</td>\n      <td>D</td>\n      <td>STD</td>\n      <td>LND</td>\n      <td>BRASILAGRO CIA BRAS DE PROP</td>\n      <td>DI</td>\n      <td>...</td>\n      <td>30</td>\n      <td>30202010</td>\n      <td>B</td>\n      <td>1111</td>\n      <td>90</td>\n      <td>100</td>\n      <td>NaN</td>\n      <td>NaN</td>\n      <td>NaN</td>\n      <td>0</td>\n    </tr>\n  </tbody>\n</table>\n<p>2323 rows × 333 columns</p>\n</div>"
     },
     "execution_count": 683,
     "metadata": {},
     "output_type": "execute_result"
    }
   ],
   "source": [
    "# Initial Column Reduce -- Drop Obvious -- Nulls\n",
    "# Initial Null Drop -- More than 75% -- Will Re-Run w/ lower threshold after rows combined\n",
    "cleanActionsDesc = \"Initial Null Drop -- columns w/ 63% Null or more.\"\n",
    "df_name = \"Fundamentals\"\n",
    "\n",
    "fundamentals = dropCols_nullThresh(fundamentals,0.63,df_name,cleanActionsDesc)\n",
    "fundamentals"
   ],
   "metadata": {
    "collapsed": false,
    "pycharm": {
     "name": "#%%\n"
    }
   }
  },
  {
   "cell_type": "code",
   "execution_count": 684,
   "outputs": [
    {
     "name": "stdout",
     "output_type": "stream",
     "text": [
      "Count of Variables: 333\n",
      "Count of Variables without nulls: 25\n",
      "Count of Variables with null : 308\n"
     ]
    },
    {
     "data": {
      "text/plain": "    Variable Observations Nulls  Null_Per Num_Unique     Type\n264     txds         2323  1462    62.936        443  float64\n114     dxd5         2323  1459    62.807        318  float64\n260   txdfed         2323  1458    62.764        547  float64\n196    optex         2323  1457    62.721        644  float64\n152    invfg         2323  1454    62.591        769  float64\n..       ...          ...   ...       ...        ...      ...\n141       ib         2323    67     2.884       1336  float64\n247      teq         2323    60     2.583       1316  float64\n40        at         2323    58     2.497       1310  float64\n235     sale         2323    58     2.497       1328  float64\n236      seq         2323    56     2.411       1320  float64\n\n[308 rows x 6 columns]",
      "text/html": "<div>\n<style scoped>\n    .dataframe tbody tr th:only-of-type {\n        vertical-align: middle;\n    }\n\n    .dataframe tbody tr th {\n        vertical-align: top;\n    }\n\n    .dataframe thead th {\n        text-align: right;\n    }\n</style>\n<table border=\"1\" class=\"dataframe\">\n  <thead>\n    <tr style=\"text-align: right;\">\n      <th></th>\n      <th>Variable</th>\n      <th>Observations</th>\n      <th>Nulls</th>\n      <th>Null_Per</th>\n      <th>Num_Unique</th>\n      <th>Type</th>\n    </tr>\n  </thead>\n  <tbody>\n    <tr>\n      <th>264</th>\n      <td>txds</td>\n      <td>2323</td>\n      <td>1462</td>\n      <td>62.936</td>\n      <td>443</td>\n      <td>float64</td>\n    </tr>\n    <tr>\n      <th>114</th>\n      <td>dxd5</td>\n      <td>2323</td>\n      <td>1459</td>\n      <td>62.807</td>\n      <td>318</td>\n      <td>float64</td>\n    </tr>\n    <tr>\n      <th>260</th>\n      <td>txdfed</td>\n      <td>2323</td>\n      <td>1458</td>\n      <td>62.764</td>\n      <td>547</td>\n      <td>float64</td>\n    </tr>\n    <tr>\n      <th>196</th>\n      <td>optex</td>\n      <td>2323</td>\n      <td>1457</td>\n      <td>62.721</td>\n      <td>644</td>\n      <td>float64</td>\n    </tr>\n    <tr>\n      <th>152</th>\n      <td>invfg</td>\n      <td>2323</td>\n      <td>1454</td>\n      <td>62.591</td>\n      <td>769</td>\n      <td>float64</td>\n    </tr>\n    <tr>\n      <th>...</th>\n      <td>...</td>\n      <td>...</td>\n      <td>...</td>\n      <td>...</td>\n      <td>...</td>\n      <td>...</td>\n    </tr>\n    <tr>\n      <th>141</th>\n      <td>ib</td>\n      <td>2323</td>\n      <td>67</td>\n      <td>2.884</td>\n      <td>1336</td>\n      <td>float64</td>\n    </tr>\n    <tr>\n      <th>247</th>\n      <td>teq</td>\n      <td>2323</td>\n      <td>60</td>\n      <td>2.583</td>\n      <td>1316</td>\n      <td>float64</td>\n    </tr>\n    <tr>\n      <th>40</th>\n      <td>at</td>\n      <td>2323</td>\n      <td>58</td>\n      <td>2.497</td>\n      <td>1310</td>\n      <td>float64</td>\n    </tr>\n    <tr>\n      <th>235</th>\n      <td>sale</td>\n      <td>2323</td>\n      <td>58</td>\n      <td>2.497</td>\n      <td>1328</td>\n      <td>float64</td>\n    </tr>\n    <tr>\n      <th>236</th>\n      <td>seq</td>\n      <td>2323</td>\n      <td>56</td>\n      <td>2.411</td>\n      <td>1320</td>\n      <td>float64</td>\n    </tr>\n  </tbody>\n</table>\n<p>308 rows × 6 columns</p>\n</div>"
     },
     "execution_count": 684,
     "metadata": {},
     "output_type": "execute_result"
    }
   ],
   "source": [
    "# Initial Column Reduce -- Drop Obvious -- Nulls\n",
    "# Re-Run Null Report\n",
    "fundamentals_nullReport = nullAnalysis(fundamentals)\n",
    "fundamentals_nullReport"
   ],
   "metadata": {
    "collapsed": false,
    "pycharm": {
     "name": "#%%\n"
    }
   }
  },
  {
   "cell_type": "code",
   "execution_count": 685,
   "outputs": [
    {
     "name": "stdout",
     "output_type": "stream",
     "text": [
      "dropped: 16\n",
      "columns that where dropped where: ['indfmt', 'consol', 'popsrc', 'curcd', 'final', 'scf', 'acchg', 'aocisecgl', 'esopr', 'itcb', 'xoptd', 'xopteps', 'rank', 'rdipa_fn', 'stkco_fn', 'gsector']\n"
     ]
    },
    {
     "data": {
      "text/plain": "      Unnamed: 0   gvkey  fyear   datafmt   tic                         conm  \\\n0            218    1239   2010  SUMM_STD   ACV            ALBERTO-CULVER CO   \n1            219    1239   2010       STD   ACV            ALBERTO-CULVER CO   \n2            242    1266   2010  SUMM_STD  ALCO                    ALICO INC   \n3            243    1266   2010       STD  ALCO                    ALICO INC   \n4            244    1266   2011  SUMM_STD  ALCO                    ALICO INC   \n...          ...     ...    ...       ...   ...                          ...   \n2318       60832  264393   2013  SUMM_STD  IVFH     INNOVATIVE FOOD HOLDINGS   \n2319       60833  264393   2013       STD  IVFH     INNOVATIVE FOOD HOLDINGS   \n2320       61135  277487   2011       STD   LND  BRASILAGRO CIA BRAS DE PROP   \n2321       61136  277487   2012       STD   LND  BRASILAGRO CIA BRAS DE PROP   \n2322       61137  277487   2013       STD   LND  BRASILAGRO CIA BRAS DE PROP   \n\n     acctstd  ajex  ajp curncd  ...    gind   gsubind  idbflag   naics  \\\n0        NaN   NaN  NaN    NaN  ...  303020  30302010        D  325620   \n1         DS   1.0  1.0    USD  ...  303020  30302010        D  325620   \n2        NaN   NaN  NaN    NaN  ...  302020  30202010        D  111310   \n3         DS   1.0  1.0    USD  ...  302020  30202010        D  111310   \n4        NaN   NaN  NaN    NaN  ...  302020  30202010        D  111310   \n...      ...   ...  ...    ...  ...     ...       ...      ...     ...   \n2318     NaN   NaN  NaN    NaN  ...  301010  30101020        D    4244   \n2319      DS   1.0  1.0    USD  ...  301010  30101020        D    4244   \n2320      DI   1.0  1.0    BRR  ...  302020  30202010        B    1111   \n2321      DI   1.0  1.0    BRR  ...  302020  30202010        B    1111   \n2322      DI   1.0  1.0    BRR  ...  302020  30202010        B    1111   \n\n      priusa   sic  spcindcd  spcseccd  spcsrc  stko  \n0          1  2844     215.0     978.0      A-     0  \n1          1  2844     215.0     978.0      A-     0  \n2          1   100     112.0     970.0      B-     0  \n3          1   100     112.0     970.0      B-     0  \n4          1   100     112.0     970.0      B-     0  \n...      ...   ...       ...       ...     ...   ...  \n2318       1  5140       NaN       NaN     NaN     3  \n2319       1  5140       NaN       NaN     NaN     3  \n2320      90   100       NaN       NaN     NaN     0  \n2321      90   100       NaN       NaN     NaN     0  \n2322      90   100       NaN       NaN     NaN     0  \n\n[2323 rows x 317 columns]",
      "text/html": "<div>\n<style scoped>\n    .dataframe tbody tr th:only-of-type {\n        vertical-align: middle;\n    }\n\n    .dataframe tbody tr th {\n        vertical-align: top;\n    }\n\n    .dataframe thead th {\n        text-align: right;\n    }\n</style>\n<table border=\"1\" class=\"dataframe\">\n  <thead>\n    <tr style=\"text-align: right;\">\n      <th></th>\n      <th>Unnamed: 0</th>\n      <th>gvkey</th>\n      <th>fyear</th>\n      <th>datafmt</th>\n      <th>tic</th>\n      <th>conm</th>\n      <th>acctstd</th>\n      <th>ajex</th>\n      <th>ajp</th>\n      <th>curncd</th>\n      <th>...</th>\n      <th>gind</th>\n      <th>gsubind</th>\n      <th>idbflag</th>\n      <th>naics</th>\n      <th>priusa</th>\n      <th>sic</th>\n      <th>spcindcd</th>\n      <th>spcseccd</th>\n      <th>spcsrc</th>\n      <th>stko</th>\n    </tr>\n  </thead>\n  <tbody>\n    <tr>\n      <th>0</th>\n      <td>218</td>\n      <td>1239</td>\n      <td>2010</td>\n      <td>SUMM_STD</td>\n      <td>ACV</td>\n      <td>ALBERTO-CULVER CO</td>\n      <td>NaN</td>\n      <td>NaN</td>\n      <td>NaN</td>\n      <td>NaN</td>\n      <td>...</td>\n      <td>303020</td>\n      <td>30302010</td>\n      <td>D</td>\n      <td>325620</td>\n      <td>1</td>\n      <td>2844</td>\n      <td>215.0</td>\n      <td>978.0</td>\n      <td>A-</td>\n      <td>0</td>\n    </tr>\n    <tr>\n      <th>1</th>\n      <td>219</td>\n      <td>1239</td>\n      <td>2010</td>\n      <td>STD</td>\n      <td>ACV</td>\n      <td>ALBERTO-CULVER CO</td>\n      <td>DS</td>\n      <td>1.0</td>\n      <td>1.0</td>\n      <td>USD</td>\n      <td>...</td>\n      <td>303020</td>\n      <td>30302010</td>\n      <td>D</td>\n      <td>325620</td>\n      <td>1</td>\n      <td>2844</td>\n      <td>215.0</td>\n      <td>978.0</td>\n      <td>A-</td>\n      <td>0</td>\n    </tr>\n    <tr>\n      <th>2</th>\n      <td>242</td>\n      <td>1266</td>\n      <td>2010</td>\n      <td>SUMM_STD</td>\n      <td>ALCO</td>\n      <td>ALICO INC</td>\n      <td>NaN</td>\n      <td>NaN</td>\n      <td>NaN</td>\n      <td>NaN</td>\n      <td>...</td>\n      <td>302020</td>\n      <td>30202010</td>\n      <td>D</td>\n      <td>111310</td>\n      <td>1</td>\n      <td>100</td>\n      <td>112.0</td>\n      <td>970.0</td>\n      <td>B-</td>\n      <td>0</td>\n    </tr>\n    <tr>\n      <th>3</th>\n      <td>243</td>\n      <td>1266</td>\n      <td>2010</td>\n      <td>STD</td>\n      <td>ALCO</td>\n      <td>ALICO INC</td>\n      <td>DS</td>\n      <td>1.0</td>\n      <td>1.0</td>\n      <td>USD</td>\n      <td>...</td>\n      <td>302020</td>\n      <td>30202010</td>\n      <td>D</td>\n      <td>111310</td>\n      <td>1</td>\n      <td>100</td>\n      <td>112.0</td>\n      <td>970.0</td>\n      <td>B-</td>\n      <td>0</td>\n    </tr>\n    <tr>\n      <th>4</th>\n      <td>244</td>\n      <td>1266</td>\n      <td>2011</td>\n      <td>SUMM_STD</td>\n      <td>ALCO</td>\n      <td>ALICO INC</td>\n      <td>NaN</td>\n      <td>NaN</td>\n      <td>NaN</td>\n      <td>NaN</td>\n      <td>...</td>\n      <td>302020</td>\n      <td>30202010</td>\n      <td>D</td>\n      <td>111310</td>\n      <td>1</td>\n      <td>100</td>\n      <td>112.0</td>\n      <td>970.0</td>\n      <td>B-</td>\n      <td>0</td>\n    </tr>\n    <tr>\n      <th>...</th>\n      <td>...</td>\n      <td>...</td>\n      <td>...</td>\n      <td>...</td>\n      <td>...</td>\n      <td>...</td>\n      <td>...</td>\n      <td>...</td>\n      <td>...</td>\n      <td>...</td>\n      <td>...</td>\n      <td>...</td>\n      <td>...</td>\n      <td>...</td>\n      <td>...</td>\n      <td>...</td>\n      <td>...</td>\n      <td>...</td>\n      <td>...</td>\n      <td>...</td>\n      <td>...</td>\n    </tr>\n    <tr>\n      <th>2318</th>\n      <td>60832</td>\n      <td>264393</td>\n      <td>2013</td>\n      <td>SUMM_STD</td>\n      <td>IVFH</td>\n      <td>INNOVATIVE FOOD HOLDINGS</td>\n      <td>NaN</td>\n      <td>NaN</td>\n      <td>NaN</td>\n      <td>NaN</td>\n      <td>...</td>\n      <td>301010</td>\n      <td>30101020</td>\n      <td>D</td>\n      <td>4244</td>\n      <td>1</td>\n      <td>5140</td>\n      <td>NaN</td>\n      <td>NaN</td>\n      <td>NaN</td>\n      <td>3</td>\n    </tr>\n    <tr>\n      <th>2319</th>\n      <td>60833</td>\n      <td>264393</td>\n      <td>2013</td>\n      <td>STD</td>\n      <td>IVFH</td>\n      <td>INNOVATIVE FOOD HOLDINGS</td>\n      <td>DS</td>\n      <td>1.0</td>\n      <td>1.0</td>\n      <td>USD</td>\n      <td>...</td>\n      <td>301010</td>\n      <td>30101020</td>\n      <td>D</td>\n      <td>4244</td>\n      <td>1</td>\n      <td>5140</td>\n      <td>NaN</td>\n      <td>NaN</td>\n      <td>NaN</td>\n      <td>3</td>\n    </tr>\n    <tr>\n      <th>2320</th>\n      <td>61135</td>\n      <td>277487</td>\n      <td>2011</td>\n      <td>STD</td>\n      <td>LND</td>\n      <td>BRASILAGRO CIA BRAS DE PROP</td>\n      <td>DI</td>\n      <td>1.0</td>\n      <td>1.0</td>\n      <td>BRR</td>\n      <td>...</td>\n      <td>302020</td>\n      <td>30202010</td>\n      <td>B</td>\n      <td>1111</td>\n      <td>90</td>\n      <td>100</td>\n      <td>NaN</td>\n      <td>NaN</td>\n      <td>NaN</td>\n      <td>0</td>\n    </tr>\n    <tr>\n      <th>2321</th>\n      <td>61136</td>\n      <td>277487</td>\n      <td>2012</td>\n      <td>STD</td>\n      <td>LND</td>\n      <td>BRASILAGRO CIA BRAS DE PROP</td>\n      <td>DI</td>\n      <td>1.0</td>\n      <td>1.0</td>\n      <td>BRR</td>\n      <td>...</td>\n      <td>302020</td>\n      <td>30202010</td>\n      <td>B</td>\n      <td>1111</td>\n      <td>90</td>\n      <td>100</td>\n      <td>NaN</td>\n      <td>NaN</td>\n      <td>NaN</td>\n      <td>0</td>\n    </tr>\n    <tr>\n      <th>2322</th>\n      <td>61137</td>\n      <td>277487</td>\n      <td>2013</td>\n      <td>STD</td>\n      <td>LND</td>\n      <td>BRASILAGRO CIA BRAS DE PROP</td>\n      <td>DI</td>\n      <td>1.0</td>\n      <td>1.0</td>\n      <td>BRR</td>\n      <td>...</td>\n      <td>302020</td>\n      <td>30202010</td>\n      <td>B</td>\n      <td>1111</td>\n      <td>90</td>\n      <td>100</td>\n      <td>NaN</td>\n      <td>NaN</td>\n      <td>NaN</td>\n      <td>0</td>\n    </tr>\n  </tbody>\n</table>\n<p>2323 rows × 317 columns</p>\n</div>"
     },
     "execution_count": 685,
     "metadata": {},
     "output_type": "execute_result"
    }
   ],
   "source": [
    "# Initial Column Reduce -- Drop Obvious -- Cols w/ 1 Value\n",
    "cleanActionsDesc = \"Dropped columns with only 1 unique value \"\n",
    "df_name = \"Fundamentals\"\n",
    "\n",
    "fundamentals = dropCols_uniqueThresh(fundamentals,1,df_name,cleanActionsDesc)\n",
    "fundamentals\n"
   ],
   "metadata": {
    "collapsed": false,
    "pycharm": {
     "name": "#%%\n"
    }
   }
  },
  {
   "cell_type": "code",
   "execution_count": 686,
   "outputs": [
    {
     "data": {
      "text/plain": "             DF                                         ActionDesc  \\\n0  Fundamentals             Dropped obvious low value columns -- 1   \n1  Fundamentals  Initial Null Drop -- columns w/ 63% Null or more.   \n2  Fundamentals          Dropped columns with only 1 unique value    \n\n                                        List-of-Cols   ResultShape  \n0  [datadate, apdedate, fdate, pdate, fyr, add1, ...  (2323, 1751)  \n1  [acctchg, acqmeth, adrr, bspr, compst, curuscn...   (2323, 333)  \n2  [indfmt, consol, popsrc, curcd, final, scf, ac...   (2323, 317)  ",
      "text/html": "<div>\n<style scoped>\n    .dataframe tbody tr th:only-of-type {\n        vertical-align: middle;\n    }\n\n    .dataframe tbody tr th {\n        vertical-align: top;\n    }\n\n    .dataframe thead th {\n        text-align: right;\n    }\n</style>\n<table border=\"1\" class=\"dataframe\">\n  <thead>\n    <tr style=\"text-align: right;\">\n      <th></th>\n      <th>DF</th>\n      <th>ActionDesc</th>\n      <th>List-of-Cols</th>\n      <th>ResultShape</th>\n    </tr>\n  </thead>\n  <tbody>\n    <tr>\n      <th>0</th>\n      <td>Fundamentals</td>\n      <td>Dropped obvious low value columns -- 1</td>\n      <td>[datadate, apdedate, fdate, pdate, fyr, add1, ...</td>\n      <td>(2323, 1751)</td>\n    </tr>\n    <tr>\n      <th>1</th>\n      <td>Fundamentals</td>\n      <td>Initial Null Drop -- columns w/ 63% Null or more.</td>\n      <td>[acctchg, acqmeth, adrr, bspr, compst, curuscn...</td>\n      <td>(2323, 333)</td>\n    </tr>\n    <tr>\n      <th>2</th>\n      <td>Fundamentals</td>\n      <td>Dropped columns with only 1 unique value</td>\n      <td>[indfmt, consol, popsrc, curcd, final, scf, ac...</td>\n      <td>(2323, 317)</td>\n    </tr>\n  </tbody>\n</table>\n</div>"
     },
     "execution_count": 686,
     "metadata": {},
     "output_type": "execute_result"
    }
   ],
   "source": [
    "cleanActionsDF"
   ],
   "metadata": {
    "collapsed": false,
    "pycharm": {
     "name": "#%%\n"
    }
   }
  },
  {
   "cell_type": "markdown",
   "source": [
    "### Fundamentals Restatements"
   ],
   "metadata": {
    "collapsed": false
   }
  },
  {
   "cell_type": "code",
   "execution_count": 687,
   "outputs": [
    {
     "data": {
      "text/plain": "       gvkey  fyear     cogs      dp    mii    nopi       pi     txt     wcap  \\\n0       1239   2010  734.501  26.658  0.000 -13.684  217.844  62.708  520.680   \n1       1239   2010  734.501  26.658  0.000   1.490  217.844  62.708  520.680   \n2       1266   2010   62.648   7.221  0.000  -1.412   -1.824  -1.201   29.529   \n3       1266   2010   62.648   7.221  0.000   1.688   -1.824  -1.201   29.529   \n4       1266   2011   67.832   7.327  0.000  -0.563   12.527   5.430   17.354   \n...      ...    ...      ...     ...    ...     ...      ...     ...      ...   \n2318  264393   2013   16.854   0.263  0.000   0.000   -1.486   0.000   -0.174   \n2319  264393   2013   16.854   0.263  0.000   0.000   -1.486   0.000   -0.174   \n2320  277487   2011   30.511   9.560 -0.051  30.513   12.728   3.325   88.979   \n2321  277487   2012   54.097  14.382 -0.511  17.423   -9.679  -6.394   53.942   \n2322  277487   2013   95.963  12.683  0.000   5.204   11.948  -1.065   71.128   \n\n         xsga  \n0     601.963  \n1     601.963  \n2       6.458  \n3       6.458  \n4       8.196  \n...       ...  \n2318    5.420  \n2319    5.420  \n2320   18.166  \n2321   15.819  \n2322   19.011  \n\n[2323 rows x 10 columns]",
      "text/html": "<div>\n<style scoped>\n    .dataframe tbody tr th:only-of-type {\n        vertical-align: middle;\n    }\n\n    .dataframe tbody tr th {\n        vertical-align: top;\n    }\n\n    .dataframe thead th {\n        text-align: right;\n    }\n</style>\n<table border=\"1\" class=\"dataframe\">\n  <thead>\n    <tr style=\"text-align: right;\">\n      <th></th>\n      <th>gvkey</th>\n      <th>fyear</th>\n      <th>cogs</th>\n      <th>dp</th>\n      <th>mii</th>\n      <th>nopi</th>\n      <th>pi</th>\n      <th>txt</th>\n      <th>wcap</th>\n      <th>xsga</th>\n    </tr>\n  </thead>\n  <tbody>\n    <tr>\n      <th>0</th>\n      <td>1239</td>\n      <td>2010</td>\n      <td>734.501</td>\n      <td>26.658</td>\n      <td>0.000</td>\n      <td>-13.684</td>\n      <td>217.844</td>\n      <td>62.708</td>\n      <td>520.680</td>\n      <td>601.963</td>\n    </tr>\n    <tr>\n      <th>1</th>\n      <td>1239</td>\n      <td>2010</td>\n      <td>734.501</td>\n      <td>26.658</td>\n      <td>0.000</td>\n      <td>1.490</td>\n      <td>217.844</td>\n      <td>62.708</td>\n      <td>520.680</td>\n      <td>601.963</td>\n    </tr>\n    <tr>\n      <th>2</th>\n      <td>1266</td>\n      <td>2010</td>\n      <td>62.648</td>\n      <td>7.221</td>\n      <td>0.000</td>\n      <td>-1.412</td>\n      <td>-1.824</td>\n      <td>-1.201</td>\n      <td>29.529</td>\n      <td>6.458</td>\n    </tr>\n    <tr>\n      <th>3</th>\n      <td>1266</td>\n      <td>2010</td>\n      <td>62.648</td>\n      <td>7.221</td>\n      <td>0.000</td>\n      <td>1.688</td>\n      <td>-1.824</td>\n      <td>-1.201</td>\n      <td>29.529</td>\n      <td>6.458</td>\n    </tr>\n    <tr>\n      <th>4</th>\n      <td>1266</td>\n      <td>2011</td>\n      <td>67.832</td>\n      <td>7.327</td>\n      <td>0.000</td>\n      <td>-0.563</td>\n      <td>12.527</td>\n      <td>5.430</td>\n      <td>17.354</td>\n      <td>8.196</td>\n    </tr>\n    <tr>\n      <th>...</th>\n      <td>...</td>\n      <td>...</td>\n      <td>...</td>\n      <td>...</td>\n      <td>...</td>\n      <td>...</td>\n      <td>...</td>\n      <td>...</td>\n      <td>...</td>\n      <td>...</td>\n    </tr>\n    <tr>\n      <th>2318</th>\n      <td>264393</td>\n      <td>2013</td>\n      <td>16.854</td>\n      <td>0.263</td>\n      <td>0.000</td>\n      <td>0.000</td>\n      <td>-1.486</td>\n      <td>0.000</td>\n      <td>-0.174</td>\n      <td>5.420</td>\n    </tr>\n    <tr>\n      <th>2319</th>\n      <td>264393</td>\n      <td>2013</td>\n      <td>16.854</td>\n      <td>0.263</td>\n      <td>0.000</td>\n      <td>0.000</td>\n      <td>-1.486</td>\n      <td>0.000</td>\n      <td>-0.174</td>\n      <td>5.420</td>\n    </tr>\n    <tr>\n      <th>2320</th>\n      <td>277487</td>\n      <td>2011</td>\n      <td>30.511</td>\n      <td>9.560</td>\n      <td>-0.051</td>\n      <td>30.513</td>\n      <td>12.728</td>\n      <td>3.325</td>\n      <td>88.979</td>\n      <td>18.166</td>\n    </tr>\n    <tr>\n      <th>2321</th>\n      <td>277487</td>\n      <td>2012</td>\n      <td>54.097</td>\n      <td>14.382</td>\n      <td>-0.511</td>\n      <td>17.423</td>\n      <td>-9.679</td>\n      <td>-6.394</td>\n      <td>53.942</td>\n      <td>15.819</td>\n    </tr>\n    <tr>\n      <th>2322</th>\n      <td>277487</td>\n      <td>2013</td>\n      <td>95.963</td>\n      <td>12.683</td>\n      <td>0.000</td>\n      <td>5.204</td>\n      <td>11.948</td>\n      <td>-1.065</td>\n      <td>71.128</td>\n      <td>19.011</td>\n    </tr>\n  </tbody>\n</table>\n<p>2323 rows × 10 columns</p>\n</div>"
     },
     "execution_count": 687,
     "metadata": {},
     "output_type": "execute_result"
    }
   ],
   "source": [
    "# make table w/ just restatement rows to get meaningful cols for a diff\n",
    "## note came from a lengthy analysis -- analysis docs stored in repo\n",
    "fund_restatement = fundamentals[['gvkey','fyear','datafmt','tic',\n",
    "                                 'cogs','dp','mii','nopi','pi','txt',\n",
    "                                 'wcap','xsga']]\n",
    "\n",
    "# Make copy w/ cols to rejoin after diff\n",
    "fund_restatement_rejoin = fund_restatement[['gvkey','fyear','datafmt','tic']]\n",
    "# Drop string columns that can't be used for diff\n",
    "fund_restatement = fund_restatement.drop(columns =['datafmt','tic'])\n",
    "fund_restatement"
   ],
   "metadata": {
    "collapsed": false,
    "pycharm": {
     "name": "#%%\n"
    }
   }
  },
  {
   "cell_type": "code",
   "execution_count": 688,
   "outputs": [
    {
     "data": {
      "text/plain": "       gvkey  fyear   datafmt   tic  gvkey_diff  fyear_diff     cogs      dp  \\\n0       1239   2010  SUMM_STD   ACV         NaN         NaN      NaN     NaN   \n1       1239   2010       STD   ACV         0.0         0.0    0.000   0.000   \n2       1266   2010  SUMM_STD  ALCO        27.0         0.0 -671.853 -19.437   \n3       1266   2010       STD  ALCO         0.0         0.0    0.000   0.000   \n4       1266   2011  SUMM_STD  ALCO         0.0         1.0    5.184   0.106   \n...      ...    ...       ...   ...         ...         ...      ...     ...   \n2318  264393   2013  SUMM_STD  IVFH         0.0         1.0    3.060   0.138   \n2319  264393   2013       STD  IVFH         0.0         0.0    0.000   0.000   \n2320  277487   2011       STD   LND     13094.0        -2.0   13.657   9.297   \n2321  277487   2012       STD   LND         0.0         1.0   23.586   4.822   \n2322  277487   2013       STD   LND         0.0         1.0   41.866  -1.699   \n\n        mii    nopi       pi     txt     wcap     xsga  \n0       NaN     NaN      NaN     NaN      NaN      NaN  \n1     0.000  15.174    0.000   0.000    0.000    0.000  \n2     0.000  -2.902 -219.668 -63.909 -491.151 -595.505  \n3     0.000   3.100    0.000   0.000    0.000    0.000  \n4     0.000  -2.251   14.351   6.631  -12.175    1.738  \n...     ...     ...      ...     ...      ...      ...  \n2318  0.000   1.282   -3.516   0.000   -1.082    1.315  \n2319  0.000   0.000    0.000   0.000    0.000    0.000  \n2320 -0.051  30.513   14.214   3.325   89.153   12.746  \n2321 -0.460 -13.090  -22.407  -9.719  -35.037   -2.347  \n2322  0.511 -12.219   21.627   5.329   17.186    3.192  \n\n[2323 rows x 14 columns]",
      "text/html": "<div>\n<style scoped>\n    .dataframe tbody tr th:only-of-type {\n        vertical-align: middle;\n    }\n\n    .dataframe tbody tr th {\n        vertical-align: top;\n    }\n\n    .dataframe thead th {\n        text-align: right;\n    }\n</style>\n<table border=\"1\" class=\"dataframe\">\n  <thead>\n    <tr style=\"text-align: right;\">\n      <th></th>\n      <th>gvkey</th>\n      <th>fyear</th>\n      <th>datafmt</th>\n      <th>tic</th>\n      <th>gvkey_diff</th>\n      <th>fyear_diff</th>\n      <th>cogs</th>\n      <th>dp</th>\n      <th>mii</th>\n      <th>nopi</th>\n      <th>pi</th>\n      <th>txt</th>\n      <th>wcap</th>\n      <th>xsga</th>\n    </tr>\n  </thead>\n  <tbody>\n    <tr>\n      <th>0</th>\n      <td>1239</td>\n      <td>2010</td>\n      <td>SUMM_STD</td>\n      <td>ACV</td>\n      <td>NaN</td>\n      <td>NaN</td>\n      <td>NaN</td>\n      <td>NaN</td>\n      <td>NaN</td>\n      <td>NaN</td>\n      <td>NaN</td>\n      <td>NaN</td>\n      <td>NaN</td>\n      <td>NaN</td>\n    </tr>\n    <tr>\n      <th>1</th>\n      <td>1239</td>\n      <td>2010</td>\n      <td>STD</td>\n      <td>ACV</td>\n      <td>0.0</td>\n      <td>0.0</td>\n      <td>0.000</td>\n      <td>0.000</td>\n      <td>0.000</td>\n      <td>15.174</td>\n      <td>0.000</td>\n      <td>0.000</td>\n      <td>0.000</td>\n      <td>0.000</td>\n    </tr>\n    <tr>\n      <th>2</th>\n      <td>1266</td>\n      <td>2010</td>\n      <td>SUMM_STD</td>\n      <td>ALCO</td>\n      <td>27.0</td>\n      <td>0.0</td>\n      <td>-671.853</td>\n      <td>-19.437</td>\n      <td>0.000</td>\n      <td>-2.902</td>\n      <td>-219.668</td>\n      <td>-63.909</td>\n      <td>-491.151</td>\n      <td>-595.505</td>\n    </tr>\n    <tr>\n      <th>3</th>\n      <td>1266</td>\n      <td>2010</td>\n      <td>STD</td>\n      <td>ALCO</td>\n      <td>0.0</td>\n      <td>0.0</td>\n      <td>0.000</td>\n      <td>0.000</td>\n      <td>0.000</td>\n      <td>3.100</td>\n      <td>0.000</td>\n      <td>0.000</td>\n      <td>0.000</td>\n      <td>0.000</td>\n    </tr>\n    <tr>\n      <th>4</th>\n      <td>1266</td>\n      <td>2011</td>\n      <td>SUMM_STD</td>\n      <td>ALCO</td>\n      <td>0.0</td>\n      <td>1.0</td>\n      <td>5.184</td>\n      <td>0.106</td>\n      <td>0.000</td>\n      <td>-2.251</td>\n      <td>14.351</td>\n      <td>6.631</td>\n      <td>-12.175</td>\n      <td>1.738</td>\n    </tr>\n    <tr>\n      <th>...</th>\n      <td>...</td>\n      <td>...</td>\n      <td>...</td>\n      <td>...</td>\n      <td>...</td>\n      <td>...</td>\n      <td>...</td>\n      <td>...</td>\n      <td>...</td>\n      <td>...</td>\n      <td>...</td>\n      <td>...</td>\n      <td>...</td>\n      <td>...</td>\n    </tr>\n    <tr>\n      <th>2318</th>\n      <td>264393</td>\n      <td>2013</td>\n      <td>SUMM_STD</td>\n      <td>IVFH</td>\n      <td>0.0</td>\n      <td>1.0</td>\n      <td>3.060</td>\n      <td>0.138</td>\n      <td>0.000</td>\n      <td>1.282</td>\n      <td>-3.516</td>\n      <td>0.000</td>\n      <td>-1.082</td>\n      <td>1.315</td>\n    </tr>\n    <tr>\n      <th>2319</th>\n      <td>264393</td>\n      <td>2013</td>\n      <td>STD</td>\n      <td>IVFH</td>\n      <td>0.0</td>\n      <td>0.0</td>\n      <td>0.000</td>\n      <td>0.000</td>\n      <td>0.000</td>\n      <td>0.000</td>\n      <td>0.000</td>\n      <td>0.000</td>\n      <td>0.000</td>\n      <td>0.000</td>\n    </tr>\n    <tr>\n      <th>2320</th>\n      <td>277487</td>\n      <td>2011</td>\n      <td>STD</td>\n      <td>LND</td>\n      <td>13094.0</td>\n      <td>-2.0</td>\n      <td>13.657</td>\n      <td>9.297</td>\n      <td>-0.051</td>\n      <td>30.513</td>\n      <td>14.214</td>\n      <td>3.325</td>\n      <td>89.153</td>\n      <td>12.746</td>\n    </tr>\n    <tr>\n      <th>2321</th>\n      <td>277487</td>\n      <td>2012</td>\n      <td>STD</td>\n      <td>LND</td>\n      <td>0.0</td>\n      <td>1.0</td>\n      <td>23.586</td>\n      <td>4.822</td>\n      <td>-0.460</td>\n      <td>-13.090</td>\n      <td>-22.407</td>\n      <td>-9.719</td>\n      <td>-35.037</td>\n      <td>-2.347</td>\n    </tr>\n    <tr>\n      <th>2322</th>\n      <td>277487</td>\n      <td>2013</td>\n      <td>STD</td>\n      <td>LND</td>\n      <td>0.0</td>\n      <td>1.0</td>\n      <td>41.866</td>\n      <td>-1.699</td>\n      <td>0.511</td>\n      <td>-12.219</td>\n      <td>21.627</td>\n      <td>5.329</td>\n      <td>17.186</td>\n      <td>3.192</td>\n    </tr>\n  </tbody>\n</table>\n<p>2323 rows × 14 columns</p>\n</div>"
     },
     "execution_count": 688,
     "metadata": {},
     "output_type": "execute_result"
    }
   ],
   "source": [
    "# Run Diff\n",
    "fund_restatement_diff = fund_restatement.diff()\n",
    "fund_restatement_diff = fund_restatement_diff.rename(columns={'gvkey':'gvkey_diff','fyear':'fyear_diff'})\n",
    "fund_restatement_diff = fund_restatement_rejoin.join(fund_restatement_diff)\n",
    "fund_restatement_diff\n"
   ],
   "metadata": {
    "collapsed": false,
    "pycharm": {
     "name": "#%%\n"
    }
   }
  },
  {
   "cell_type": "code",
   "execution_count": 689,
   "outputs": [
    {
     "data": {
      "text/plain": "       gvkey  fyear datafmt   tic  gvkey_diff  fyear_diff    cogs     dp  \\\n1       1239   2010     STD   ACV         0.0         0.0     0.0    0.0   \n3       1266   2010     STD  ALCO         0.0         0.0     0.0    0.0   \n5       1266   2011     STD  ALCO         0.0         0.0     0.0    0.0   \n7       1266   2012     STD  ALCO         0.0         0.0     0.0    0.0   \n11      1408   2010     STD  BEAM         0.0         0.0  2697.5  141.2   \n...      ...    ...     ...   ...         ...         ...     ...    ...   \n2270  199456   2012     STD  RNDY         0.0         0.0     0.0    0.0   \n2272  199456   2013     STD  RNDY         0.0         0.0     0.0    0.0   \n2305  241637   2010     STD   BUD         0.0         0.0     0.0    0.0   \n2307  241637   2011     STD   BUD         0.0         0.0     0.0    0.0   \n2309  241637   2012     STD   BUD         0.0         0.0    25.0    0.0   \n\n       mii      nopi     pi   txt  wcap    xsga  sum_diff  \n1      0.0    15.174    0.0   0.0   0.0     0.0    15.174  \n3      0.0     3.100    0.0   0.0   0.0     0.0     3.100  \n5      0.0     1.685    0.0   0.0   0.0     0.0     1.685  \n7      0.0     1.918    0.0   0.0   0.0     0.0     1.918  \n11     8.4    15.800  241.9  55.4   NaN  1325.1  4485.300  \n...    ...       ...    ...   ...   ...     ...       ...  \n2270   0.0   137.017    0.0   0.0   0.0     0.0   137.017  \n2272   0.0     2.494    0.0   0.0   0.0     0.0     2.494  \n2305   0.0  1193.000    0.0   0.0   0.0     0.0  1193.000  \n2307   0.0   818.000    0.0   0.0   0.0     0.0   818.000  \n2309  26.0    50.000  146.0  37.0   0.0  -171.0   113.000  \n\n[540 rows x 15 columns]",
      "text/html": "<div>\n<style scoped>\n    .dataframe tbody tr th:only-of-type {\n        vertical-align: middle;\n    }\n\n    .dataframe tbody tr th {\n        vertical-align: top;\n    }\n\n    .dataframe thead th {\n        text-align: right;\n    }\n</style>\n<table border=\"1\" class=\"dataframe\">\n  <thead>\n    <tr style=\"text-align: right;\">\n      <th></th>\n      <th>gvkey</th>\n      <th>fyear</th>\n      <th>datafmt</th>\n      <th>tic</th>\n      <th>gvkey_diff</th>\n      <th>fyear_diff</th>\n      <th>cogs</th>\n      <th>dp</th>\n      <th>mii</th>\n      <th>nopi</th>\n      <th>pi</th>\n      <th>txt</th>\n      <th>wcap</th>\n      <th>xsga</th>\n      <th>sum_diff</th>\n    </tr>\n  </thead>\n  <tbody>\n    <tr>\n      <th>1</th>\n      <td>1239</td>\n      <td>2010</td>\n      <td>STD</td>\n      <td>ACV</td>\n      <td>0.0</td>\n      <td>0.0</td>\n      <td>0.0</td>\n      <td>0.0</td>\n      <td>0.0</td>\n      <td>15.174</td>\n      <td>0.0</td>\n      <td>0.0</td>\n      <td>0.0</td>\n      <td>0.0</td>\n      <td>15.174</td>\n    </tr>\n    <tr>\n      <th>3</th>\n      <td>1266</td>\n      <td>2010</td>\n      <td>STD</td>\n      <td>ALCO</td>\n      <td>0.0</td>\n      <td>0.0</td>\n      <td>0.0</td>\n      <td>0.0</td>\n      <td>0.0</td>\n      <td>3.100</td>\n      <td>0.0</td>\n      <td>0.0</td>\n      <td>0.0</td>\n      <td>0.0</td>\n      <td>3.100</td>\n    </tr>\n    <tr>\n      <th>5</th>\n      <td>1266</td>\n      <td>2011</td>\n      <td>STD</td>\n      <td>ALCO</td>\n      <td>0.0</td>\n      <td>0.0</td>\n      <td>0.0</td>\n      <td>0.0</td>\n      <td>0.0</td>\n      <td>1.685</td>\n      <td>0.0</td>\n      <td>0.0</td>\n      <td>0.0</td>\n      <td>0.0</td>\n      <td>1.685</td>\n    </tr>\n    <tr>\n      <th>7</th>\n      <td>1266</td>\n      <td>2012</td>\n      <td>STD</td>\n      <td>ALCO</td>\n      <td>0.0</td>\n      <td>0.0</td>\n      <td>0.0</td>\n      <td>0.0</td>\n      <td>0.0</td>\n      <td>1.918</td>\n      <td>0.0</td>\n      <td>0.0</td>\n      <td>0.0</td>\n      <td>0.0</td>\n      <td>1.918</td>\n    </tr>\n    <tr>\n      <th>11</th>\n      <td>1408</td>\n      <td>2010</td>\n      <td>STD</td>\n      <td>BEAM</td>\n      <td>0.0</td>\n      <td>0.0</td>\n      <td>2697.5</td>\n      <td>141.2</td>\n      <td>8.4</td>\n      <td>15.800</td>\n      <td>241.9</td>\n      <td>55.4</td>\n      <td>NaN</td>\n      <td>1325.1</td>\n      <td>4485.300</td>\n    </tr>\n    <tr>\n      <th>...</th>\n      <td>...</td>\n      <td>...</td>\n      <td>...</td>\n      <td>...</td>\n      <td>...</td>\n      <td>...</td>\n      <td>...</td>\n      <td>...</td>\n      <td>...</td>\n      <td>...</td>\n      <td>...</td>\n      <td>...</td>\n      <td>...</td>\n      <td>...</td>\n      <td>...</td>\n    </tr>\n    <tr>\n      <th>2270</th>\n      <td>199456</td>\n      <td>2012</td>\n      <td>STD</td>\n      <td>RNDY</td>\n      <td>0.0</td>\n      <td>0.0</td>\n      <td>0.0</td>\n      <td>0.0</td>\n      <td>0.0</td>\n      <td>137.017</td>\n      <td>0.0</td>\n      <td>0.0</td>\n      <td>0.0</td>\n      <td>0.0</td>\n      <td>137.017</td>\n    </tr>\n    <tr>\n      <th>2272</th>\n      <td>199456</td>\n      <td>2013</td>\n      <td>STD</td>\n      <td>RNDY</td>\n      <td>0.0</td>\n      <td>0.0</td>\n      <td>0.0</td>\n      <td>0.0</td>\n      <td>0.0</td>\n      <td>2.494</td>\n      <td>0.0</td>\n      <td>0.0</td>\n      <td>0.0</td>\n      <td>0.0</td>\n      <td>2.494</td>\n    </tr>\n    <tr>\n      <th>2305</th>\n      <td>241637</td>\n      <td>2010</td>\n      <td>STD</td>\n      <td>BUD</td>\n      <td>0.0</td>\n      <td>0.0</td>\n      <td>0.0</td>\n      <td>0.0</td>\n      <td>0.0</td>\n      <td>1193.000</td>\n      <td>0.0</td>\n      <td>0.0</td>\n      <td>0.0</td>\n      <td>0.0</td>\n      <td>1193.000</td>\n    </tr>\n    <tr>\n      <th>2307</th>\n      <td>241637</td>\n      <td>2011</td>\n      <td>STD</td>\n      <td>BUD</td>\n      <td>0.0</td>\n      <td>0.0</td>\n      <td>0.0</td>\n      <td>0.0</td>\n      <td>0.0</td>\n      <td>818.000</td>\n      <td>0.0</td>\n      <td>0.0</td>\n      <td>0.0</td>\n      <td>0.0</td>\n      <td>818.000</td>\n    </tr>\n    <tr>\n      <th>2309</th>\n      <td>241637</td>\n      <td>2012</td>\n      <td>STD</td>\n      <td>BUD</td>\n      <td>0.0</td>\n      <td>0.0</td>\n      <td>25.0</td>\n      <td>0.0</td>\n      <td>26.0</td>\n      <td>50.000</td>\n      <td>146.0</td>\n      <td>37.0</td>\n      <td>0.0</td>\n      <td>-171.0</td>\n      <td>113.000</td>\n    </tr>\n  </tbody>\n</table>\n<p>540 rows × 15 columns</p>\n</div>"
     },
     "execution_count": 689,
     "metadata": {},
     "output_type": "execute_result"
    }
   ],
   "source": [
    "# Trim Diff -- only rows that compare same gvkey and same year\n",
    "fund_restatement_diff = fund_restatement_diff[fund_restatement_diff['gvkey_diff'] == 0]\n",
    "fund_restatement_diff = fund_restatement_diff[fund_restatement_diff['fyear_diff'] == 0]\n",
    "\n",
    "# Add Sum Column\n",
    "#TODO: Make Diffs Absolute so positive/negative don't cancel each other\n",
    "colsToSum = ['cogs','dp','mii','nopi','pi','txt','wcap','xsga']\n",
    "fund_restatement_diff['sum_diff'] = fund_restatement_diff[colsToSum].sum(axis=1)\n",
    "\n",
    "#Drop Columns Where Sum of Diffs = 0\n",
    "fund_restatement_diff = fund_restatement_diff[fund_restatement_diff['sum_diff'] > 0]\n",
    "\n",
    "fund_restatement_diff"
   ],
   "metadata": {
    "collapsed": false,
    "pycharm": {
     "name": "#%%\n"
    }
   }
  },
  {
   "cell_type": "code",
   "execution_count": 690,
   "outputs": [
    {
     "data": {
      "text/plain": "      gvkey  count_of_restatements  sum_diff  count_of_diffs\n0      1239                      1    15.174               1\n1      1266                      3     6.703               3\n2      1408                      3  4929.500              11\n3      1429                      1     0.063               2\n4      1659                      2     6.200               4\n..      ...                    ...       ...             ...\n233  193157                      3     1.372               7\n234  196258                      1     0.033               2\n235  197956                      3     6.665              13\n236  199456                      2   139.511               2\n237  241637                      3  2124.000               7\n\n[238 rows x 4 columns]",
      "text/html": "<div>\n<style scoped>\n    .dataframe tbody tr th:only-of-type {\n        vertical-align: middle;\n    }\n\n    .dataframe tbody tr th {\n        vertical-align: top;\n    }\n\n    .dataframe thead th {\n        text-align: right;\n    }\n</style>\n<table border=\"1\" class=\"dataframe\">\n  <thead>\n    <tr style=\"text-align: right;\">\n      <th></th>\n      <th>gvkey</th>\n      <th>count_of_restatements</th>\n      <th>sum_diff</th>\n      <th>count_of_diffs</th>\n    </tr>\n  </thead>\n  <tbody>\n    <tr>\n      <th>0</th>\n      <td>1239</td>\n      <td>1</td>\n      <td>15.174</td>\n      <td>1</td>\n    </tr>\n    <tr>\n      <th>1</th>\n      <td>1266</td>\n      <td>3</td>\n      <td>6.703</td>\n      <td>3</td>\n    </tr>\n    <tr>\n      <th>2</th>\n      <td>1408</td>\n      <td>3</td>\n      <td>4929.500</td>\n      <td>11</td>\n    </tr>\n    <tr>\n      <th>3</th>\n      <td>1429</td>\n      <td>1</td>\n      <td>0.063</td>\n      <td>2</td>\n    </tr>\n    <tr>\n      <th>4</th>\n      <td>1659</td>\n      <td>2</td>\n      <td>6.200</td>\n      <td>4</td>\n    </tr>\n    <tr>\n      <th>...</th>\n      <td>...</td>\n      <td>...</td>\n      <td>...</td>\n      <td>...</td>\n    </tr>\n    <tr>\n      <th>233</th>\n      <td>193157</td>\n      <td>3</td>\n      <td>1.372</td>\n      <td>7</td>\n    </tr>\n    <tr>\n      <th>234</th>\n      <td>196258</td>\n      <td>1</td>\n      <td>0.033</td>\n      <td>2</td>\n    </tr>\n    <tr>\n      <th>235</th>\n      <td>197956</td>\n      <td>3</td>\n      <td>6.665</td>\n      <td>13</td>\n    </tr>\n    <tr>\n      <th>236</th>\n      <td>199456</td>\n      <td>2</td>\n      <td>139.511</td>\n      <td>2</td>\n    </tr>\n    <tr>\n      <th>237</th>\n      <td>241637</td>\n      <td>3</td>\n      <td>2124.000</td>\n      <td>7</td>\n    </tr>\n  </tbody>\n</table>\n<p>238 rows × 4 columns</p>\n</div>"
     },
     "execution_count": 690,
     "metadata": {},
     "output_type": "execute_result"
    }
   ],
   "source": [
    "# Create Diff Summary\n",
    "fund_restatement_summary = fund_restatement_diff\n",
    "\n",
    "## Add Column that counts non-zero's per row\n",
    "fund_restatement_summary['count_of_diffs'] = fund_restatement_summary[colsToSum].gt(0).sum(axis=1)\n",
    "\n",
    "# Drop Individual Counts, _diff columns, tic,\n",
    "fund_restatement_summary = fund_restatement_summary.drop(columns=['datafmt','tic','gvkey_diff','fyear_diff',\n",
    "                                                                  'cogs','dp','mii','nopi','pi','txt','wcap','xsga'])\n",
    "\n",
    "# Group By -- Turn Year into count of years\n",
    "fund_restatement_summary = fund_restatement_summary.groupby('gvkey')\\\n",
    "    .agg({'fyear':'count','sum_diff':'sum', 'count_of_diffs': 'sum'}).reset_index()\n",
    "fund_restatement_summary = fund_restatement_summary.rename(columns={'fyear':'count_of_restatements'})\n",
    "fund_restatement_summary"
   ],
   "metadata": {
    "collapsed": false,
    "pycharm": {
     "name": "#%%\n"
    }
   }
  },
  {
   "cell_type": "code",
   "execution_count": 691,
   "outputs": [],
   "source": [
    "# Export Diff Reports to Excel\n",
    "\n",
    "with pd.ExcelWriter(exportPath + 'Fundamentals_Diff_Reports.xlsx') as writer:\n",
    "    fund_restatement_diff.to_excel(writer, sheet_name='All_Diffs')\n",
    "    fund_restatement_summary.to_excel(writer, sheet_name='Summary')\n"
   ],
   "metadata": {
    "collapsed": false,
    "pycharm": {
     "name": "#%%\n"
    }
   }
  },
  {
   "cell_type": "markdown",
   "source": [
    "### Fundamentals -- Resume Data Clean-up\n",
    "Many columns could not be dropped until restatement was calculated"
   ],
   "metadata": {
    "collapsed": false
   }
  },
  {
   "cell_type": "code",
   "execution_count": 692,
   "outputs": [
    {
     "data": {
      "text/plain": "             DF                                         ActionDesc  \\\n0  Fundamentals             Dropped obvious low value columns -- 1   \n1  Fundamentals  Initial Null Drop -- columns w/ 63% Null or more.   \n2  Fundamentals          Dropped columns with only 1 unique value    \n3  Fundamentals  Dropping all that are not standard statements ...   \n\n                                        List-of-Cols   ResultShape  \n0  [datadate, apdedate, fdate, pdate, fyr, add1, ...  (2323, 1751)  \n1  [acctchg, acqmeth, adrr, bspr, compst, curuscn...   (2323, 333)  \n2  [indfmt, consol, popsrc, curcd, final, scf, ac...   (2323, 317)  \n3   applies to all cols, roughly 50% of rows dropped   (1243, 317)  ",
      "text/html": "<div>\n<style scoped>\n    .dataframe tbody tr th:only-of-type {\n        vertical-align: middle;\n    }\n\n    .dataframe tbody tr th {\n        vertical-align: top;\n    }\n\n    .dataframe thead th {\n        text-align: right;\n    }\n</style>\n<table border=\"1\" class=\"dataframe\">\n  <thead>\n    <tr style=\"text-align: right;\">\n      <th></th>\n      <th>DF</th>\n      <th>ActionDesc</th>\n      <th>List-of-Cols</th>\n      <th>ResultShape</th>\n    </tr>\n  </thead>\n  <tbody>\n    <tr>\n      <th>0</th>\n      <td>Fundamentals</td>\n      <td>Dropped obvious low value columns -- 1</td>\n      <td>[datadate, apdedate, fdate, pdate, fyr, add1, ...</td>\n      <td>(2323, 1751)</td>\n    </tr>\n    <tr>\n      <th>1</th>\n      <td>Fundamentals</td>\n      <td>Initial Null Drop -- columns w/ 63% Null or more.</td>\n      <td>[acctchg, acqmeth, adrr, bspr, compst, curuscn...</td>\n      <td>(2323, 333)</td>\n    </tr>\n    <tr>\n      <th>2</th>\n      <td>Fundamentals</td>\n      <td>Dropped columns with only 1 unique value</td>\n      <td>[indfmt, consol, popsrc, curcd, final, scf, ac...</td>\n      <td>(2323, 317)</td>\n    </tr>\n    <tr>\n      <th>3</th>\n      <td>Fundamentals</td>\n      <td>Dropping all that are not standard statements ...</td>\n      <td>applies to all cols, roughly 50% of rows dropped</td>\n      <td>(1243, 317)</td>\n    </tr>\n  </tbody>\n</table>\n</div>"
     },
     "execution_count": 692,
     "metadata": {},
     "output_type": "execute_result"
    }
   ],
   "source": [
    "# drop restatement rows\n",
    "## no longer useful since restatement data has been summarized\n",
    "fundamentals = fundamentals[fundamentals['datafmt'] == 'STD']\n",
    "\n",
    "cleanActionsDesc = 'Dropping all that are not standard statements -- value of others captured in restatement summary'\n",
    "df_name = 'Fundamentals'\n",
    "cols = 'applies to all cols, roughly 50% of rows dropped'\n",
    "\n",
    "cleanActionsReport(fundamentals,df_name,cleanActionsDesc, cols)"
   ],
   "metadata": {
    "collapsed": false,
    "pycharm": {
     "name": "#%%\n"
    }
   }
  },
  {
   "cell_type": "code",
   "execution_count": 693,
   "outputs": [
    {
     "name": "stdout",
     "output_type": "stream",
     "text": [
      "dropped: 45\n",
      "columns that where dropped where: ['cld2', 'cld3', 'cld4', 'cld5', 'cshr', 'dd3', 'dd4', 'dd5', 'dltp', 'dxd2', 'dxd3', 'dxd4', 'dxd5', 'fatb', 'fate', 'fato', 'fatp', 'invfg', 'invo', 'itci', 'mrc2', 'mrc3', 'mrc4', 'mrc5', 'mrct', 'optca', 'optex', 'optexd', 'optgr', 'optosby', 'optosey', 'recd', 'sppe', 'stkco', 'txc', 'txdfed', 'txdfo', 'txds', 'txfed', 'txs', 'xrent', 'mkvalt', 'spcindcd', 'spcseccd', 'spcsrc']\n"
     ]
    },
    {
     "data": {
      "text/plain": "      Unnamed: 0   gvkey  fyear datafmt   tic                         conm  \\\n1            219    1239   2010     STD   ACV            ALBERTO-CULVER CO   \n3            243    1266   2010     STD  ALCO                    ALICO INC   \n5            245    1266   2011     STD  ALCO                    ALICO INC   \n7            247    1266   2012     STD  ALCO                    ALICO INC   \n8            248    1266   2013     STD  ALCO                    ALICO INC   \n...          ...     ...    ...     ...   ...                          ...   \n2317       60831  264393   2012     STD  IVFH     INNOVATIVE FOOD HOLDINGS   \n2319       60833  264393   2013     STD  IVFH     INNOVATIVE FOOD HOLDINGS   \n2320       61135  277487   2011     STD   LND  BRASILAGRO CIA BRAS DE PROP   \n2321       61136  277487   2012     STD   LND  BRASILAGRO CIA BRAS DE PROP   \n2322       61137  277487   2013     STD   LND  BRASILAGRO CIA BRAS DE PROP   \n\n     acctstd  ajex  ajp curncd  ...  rdipd_fn  rdipeps_fn  ggroup    gind  \\\n1         DS   1.0  1.0    USD  ...        NR          NR    3030  303020   \n3         DS   1.0  1.0    USD  ...        NR          NR    3020  302020   \n5         DS   1.0  1.0    USD  ...        NR          NR    3020  302020   \n7         DS   1.0  1.0    USD  ...        NR          NR    3020  302020   \n8         DS   1.0  1.0    USD  ...        NR          NR    3020  302020   \n...      ...   ...  ...    ...  ...       ...         ...     ...     ...   \n2317      DS   1.0  1.0    USD  ...        NR          NR    3010  301010   \n2319      DS   1.0  1.0    USD  ...        NR          NR    3010  301010   \n2320      DI   1.0  1.0    BRR  ...        NR          NR    3020  302020   \n2321      DI   1.0  1.0    BRR  ...        NR          NR    3020  302020   \n2322      DI   1.0  1.0    BRR  ...        NR          NR    3020  302020   \n\n       gsubind  idbflag   naics  priusa   sic  stko  \n1     30302010        D  325620       1  2844     0  \n3     30202010        D  111310       1   100     0  \n5     30202010        D  111310       1   100     0  \n7     30202010        D  111310       1   100     0  \n8     30202010        D  111310       1   100     0  \n...        ...      ...     ...     ...   ...   ...  \n2317  30101020        D    4244       1  5140     3  \n2319  30101020        D    4244       1  5140     3  \n2320  30202010        B    1111      90   100     0  \n2321  30202010        B    1111      90   100     0  \n2322  30202010        B    1111      90   100     0  \n\n[1243 rows x 272 columns]",
      "text/html": "<div>\n<style scoped>\n    .dataframe tbody tr th:only-of-type {\n        vertical-align: middle;\n    }\n\n    .dataframe tbody tr th {\n        vertical-align: top;\n    }\n\n    .dataframe thead th {\n        text-align: right;\n    }\n</style>\n<table border=\"1\" class=\"dataframe\">\n  <thead>\n    <tr style=\"text-align: right;\">\n      <th></th>\n      <th>Unnamed: 0</th>\n      <th>gvkey</th>\n      <th>fyear</th>\n      <th>datafmt</th>\n      <th>tic</th>\n      <th>conm</th>\n      <th>acctstd</th>\n      <th>ajex</th>\n      <th>ajp</th>\n      <th>curncd</th>\n      <th>...</th>\n      <th>rdipd_fn</th>\n      <th>rdipeps_fn</th>\n      <th>ggroup</th>\n      <th>gind</th>\n      <th>gsubind</th>\n      <th>idbflag</th>\n      <th>naics</th>\n      <th>priusa</th>\n      <th>sic</th>\n      <th>stko</th>\n    </tr>\n  </thead>\n  <tbody>\n    <tr>\n      <th>1</th>\n      <td>219</td>\n      <td>1239</td>\n      <td>2010</td>\n      <td>STD</td>\n      <td>ACV</td>\n      <td>ALBERTO-CULVER CO</td>\n      <td>DS</td>\n      <td>1.0</td>\n      <td>1.0</td>\n      <td>USD</td>\n      <td>...</td>\n      <td>NR</td>\n      <td>NR</td>\n      <td>3030</td>\n      <td>303020</td>\n      <td>30302010</td>\n      <td>D</td>\n      <td>325620</td>\n      <td>1</td>\n      <td>2844</td>\n      <td>0</td>\n    </tr>\n    <tr>\n      <th>3</th>\n      <td>243</td>\n      <td>1266</td>\n      <td>2010</td>\n      <td>STD</td>\n      <td>ALCO</td>\n      <td>ALICO INC</td>\n      <td>DS</td>\n      <td>1.0</td>\n      <td>1.0</td>\n      <td>USD</td>\n      <td>...</td>\n      <td>NR</td>\n      <td>NR</td>\n      <td>3020</td>\n      <td>302020</td>\n      <td>30202010</td>\n      <td>D</td>\n      <td>111310</td>\n      <td>1</td>\n      <td>100</td>\n      <td>0</td>\n    </tr>\n    <tr>\n      <th>5</th>\n      <td>245</td>\n      <td>1266</td>\n      <td>2011</td>\n      <td>STD</td>\n      <td>ALCO</td>\n      <td>ALICO INC</td>\n      <td>DS</td>\n      <td>1.0</td>\n      <td>1.0</td>\n      <td>USD</td>\n      <td>...</td>\n      <td>NR</td>\n      <td>NR</td>\n      <td>3020</td>\n      <td>302020</td>\n      <td>30202010</td>\n      <td>D</td>\n      <td>111310</td>\n      <td>1</td>\n      <td>100</td>\n      <td>0</td>\n    </tr>\n    <tr>\n      <th>7</th>\n      <td>247</td>\n      <td>1266</td>\n      <td>2012</td>\n      <td>STD</td>\n      <td>ALCO</td>\n      <td>ALICO INC</td>\n      <td>DS</td>\n      <td>1.0</td>\n      <td>1.0</td>\n      <td>USD</td>\n      <td>...</td>\n      <td>NR</td>\n      <td>NR</td>\n      <td>3020</td>\n      <td>302020</td>\n      <td>30202010</td>\n      <td>D</td>\n      <td>111310</td>\n      <td>1</td>\n      <td>100</td>\n      <td>0</td>\n    </tr>\n    <tr>\n      <th>8</th>\n      <td>248</td>\n      <td>1266</td>\n      <td>2013</td>\n      <td>STD</td>\n      <td>ALCO</td>\n      <td>ALICO INC</td>\n      <td>DS</td>\n      <td>1.0</td>\n      <td>1.0</td>\n      <td>USD</td>\n      <td>...</td>\n      <td>NR</td>\n      <td>NR</td>\n      <td>3020</td>\n      <td>302020</td>\n      <td>30202010</td>\n      <td>D</td>\n      <td>111310</td>\n      <td>1</td>\n      <td>100</td>\n      <td>0</td>\n    </tr>\n    <tr>\n      <th>...</th>\n      <td>...</td>\n      <td>...</td>\n      <td>...</td>\n      <td>...</td>\n      <td>...</td>\n      <td>...</td>\n      <td>...</td>\n      <td>...</td>\n      <td>...</td>\n      <td>...</td>\n      <td>...</td>\n      <td>...</td>\n      <td>...</td>\n      <td>...</td>\n      <td>...</td>\n      <td>...</td>\n      <td>...</td>\n      <td>...</td>\n      <td>...</td>\n      <td>...</td>\n      <td>...</td>\n    </tr>\n    <tr>\n      <th>2317</th>\n      <td>60831</td>\n      <td>264393</td>\n      <td>2012</td>\n      <td>STD</td>\n      <td>IVFH</td>\n      <td>INNOVATIVE FOOD HOLDINGS</td>\n      <td>DS</td>\n      <td>1.0</td>\n      <td>1.0</td>\n      <td>USD</td>\n      <td>...</td>\n      <td>NR</td>\n      <td>NR</td>\n      <td>3010</td>\n      <td>301010</td>\n      <td>30101020</td>\n      <td>D</td>\n      <td>4244</td>\n      <td>1</td>\n      <td>5140</td>\n      <td>3</td>\n    </tr>\n    <tr>\n      <th>2319</th>\n      <td>60833</td>\n      <td>264393</td>\n      <td>2013</td>\n      <td>STD</td>\n      <td>IVFH</td>\n      <td>INNOVATIVE FOOD HOLDINGS</td>\n      <td>DS</td>\n      <td>1.0</td>\n      <td>1.0</td>\n      <td>USD</td>\n      <td>...</td>\n      <td>NR</td>\n      <td>NR</td>\n      <td>3010</td>\n      <td>301010</td>\n      <td>30101020</td>\n      <td>D</td>\n      <td>4244</td>\n      <td>1</td>\n      <td>5140</td>\n      <td>3</td>\n    </tr>\n    <tr>\n      <th>2320</th>\n      <td>61135</td>\n      <td>277487</td>\n      <td>2011</td>\n      <td>STD</td>\n      <td>LND</td>\n      <td>BRASILAGRO CIA BRAS DE PROP</td>\n      <td>DI</td>\n      <td>1.0</td>\n      <td>1.0</td>\n      <td>BRR</td>\n      <td>...</td>\n      <td>NR</td>\n      <td>NR</td>\n      <td>3020</td>\n      <td>302020</td>\n      <td>30202010</td>\n      <td>B</td>\n      <td>1111</td>\n      <td>90</td>\n      <td>100</td>\n      <td>0</td>\n    </tr>\n    <tr>\n      <th>2321</th>\n      <td>61136</td>\n      <td>277487</td>\n      <td>2012</td>\n      <td>STD</td>\n      <td>LND</td>\n      <td>BRASILAGRO CIA BRAS DE PROP</td>\n      <td>DI</td>\n      <td>1.0</td>\n      <td>1.0</td>\n      <td>BRR</td>\n      <td>...</td>\n      <td>NR</td>\n      <td>NR</td>\n      <td>3020</td>\n      <td>302020</td>\n      <td>30202010</td>\n      <td>B</td>\n      <td>1111</td>\n      <td>90</td>\n      <td>100</td>\n      <td>0</td>\n    </tr>\n    <tr>\n      <th>2322</th>\n      <td>61137</td>\n      <td>277487</td>\n      <td>2013</td>\n      <td>STD</td>\n      <td>LND</td>\n      <td>BRASILAGRO CIA BRAS DE PROP</td>\n      <td>DI</td>\n      <td>1.0</td>\n      <td>1.0</td>\n      <td>BRR</td>\n      <td>...</td>\n      <td>NR</td>\n      <td>NR</td>\n      <td>3020</td>\n      <td>302020</td>\n      <td>30202010</td>\n      <td>B</td>\n      <td>1111</td>\n      <td>90</td>\n      <td>100</td>\n      <td>0</td>\n    </tr>\n  </tbody>\n</table>\n<p>1243 rows × 272 columns</p>\n</div>"
     },
     "execution_count": 693,
     "metadata": {},
     "output_type": "execute_result"
    }
   ],
   "source": [
    "# Initial Column Reduce -- Drop Obvious -- Nulls\n",
    "# Initial Null Drop -- More than 75% -- Will Re-Run w/ lower threshold after rows combined\n",
    "cleanActionsDesc = \"Second Null Drop -- columns w/ 20% Null or more.\"\n",
    "df_name = \"Fundamentals\"\n",
    "\n",
    "fundamentals = dropCols_nullThresh(fundamentals,0.20,df_name,cleanActionsDesc)\n",
    "fundamentals"
   ],
   "metadata": {
    "collapsed": false,
    "pycharm": {
     "name": "#%%\n"
    }
   }
  },
  {
   "cell_type": "code",
   "execution_count": 694,
   "outputs": [
    {
     "data": {
      "text/plain": "             DF                                         ActionDesc  \\\n0  Fundamentals             Dropped obvious low value columns -- 1   \n1  Fundamentals  Initial Null Drop -- columns w/ 63% Null or more.   \n2  Fundamentals          Dropped columns with only 1 unique value    \n3  Fundamentals  Dropping all that are not standard statements ...   \n4  Fundamentals   Second Null Drop -- columns w/ 20% Null or more.   \n\n                                        List-of-Cols   ResultShape  \n0  [datadate, apdedate, fdate, pdate, fyr, add1, ...  (2323, 1751)  \n1  [acctchg, acqmeth, adrr, bspr, compst, curuscn...   (2323, 333)  \n2  [indfmt, consol, popsrc, curcd, final, scf, ac...   (2323, 317)  \n3   applies to all cols, roughly 50% of rows dropped   (1243, 317)  \n4  [cld2, cld3, cld4, cld5, cshr, dd3, dd4, dd5, ...   (1243, 272)  ",
      "text/html": "<div>\n<style scoped>\n    .dataframe tbody tr th:only-of-type {\n        vertical-align: middle;\n    }\n\n    .dataframe tbody tr th {\n        vertical-align: top;\n    }\n\n    .dataframe thead th {\n        text-align: right;\n    }\n</style>\n<table border=\"1\" class=\"dataframe\">\n  <thead>\n    <tr style=\"text-align: right;\">\n      <th></th>\n      <th>DF</th>\n      <th>ActionDesc</th>\n      <th>List-of-Cols</th>\n      <th>ResultShape</th>\n    </tr>\n  </thead>\n  <tbody>\n    <tr>\n      <th>0</th>\n      <td>Fundamentals</td>\n      <td>Dropped obvious low value columns -- 1</td>\n      <td>[datadate, apdedate, fdate, pdate, fyr, add1, ...</td>\n      <td>(2323, 1751)</td>\n    </tr>\n    <tr>\n      <th>1</th>\n      <td>Fundamentals</td>\n      <td>Initial Null Drop -- columns w/ 63% Null or more.</td>\n      <td>[acctchg, acqmeth, adrr, bspr, compst, curuscn...</td>\n      <td>(2323, 333)</td>\n    </tr>\n    <tr>\n      <th>2</th>\n      <td>Fundamentals</td>\n      <td>Dropped columns with only 1 unique value</td>\n      <td>[indfmt, consol, popsrc, curcd, final, scf, ac...</td>\n      <td>(2323, 317)</td>\n    </tr>\n    <tr>\n      <th>3</th>\n      <td>Fundamentals</td>\n      <td>Dropping all that are not standard statements ...</td>\n      <td>applies to all cols, roughly 50% of rows dropped</td>\n      <td>(1243, 317)</td>\n    </tr>\n    <tr>\n      <th>4</th>\n      <td>Fundamentals</td>\n      <td>Second Null Drop -- columns w/ 20% Null or more.</td>\n      <td>[cld2, cld3, cld4, cld5, cshr, dd3, dd4, dd5, ...</td>\n      <td>(1243, 272)</td>\n    </tr>\n  </tbody>\n</table>\n</div>"
     },
     "execution_count": 694,
     "metadata": {},
     "output_type": "execute_result"
    }
   ],
   "source": [
    "cleanActionsDF"
   ],
   "metadata": {
    "collapsed": false,
    "pycharm": {
     "name": "#%%\n"
    }
   }
  },
  {
   "cell_type": "code",
   "execution_count": 695,
   "outputs": [],
   "source": [
    "# Export Cleaned Data to CSV\n",
    "fundamentals.to_csv(trimmedCSVPath+'fundamental_cleaned.csv') # Export Trimmed Data"
   ],
   "metadata": {
    "collapsed": false,
    "pycharm": {
     "name": "#%%\n"
    }
   }
  }
 ],
 "metadata": {
  "kernelspec": {
   "name": "python3",
   "language": "python",
   "display_name": "Python 3 (ipykernel)"
  },
  "language_info": {
   "codemirror_mode": {
    "name": "ipython",
    "version": 2
   },
   "file_extension": ".py",
   "mimetype": "text/x-python",
   "name": "python",
   "nbconvert_exporter": "python",
   "pygments_lexer": "ipython2",
   "version": "2.7.6"
  }
 },
 "nbformat": 4,
 "nbformat_minor": 0
}