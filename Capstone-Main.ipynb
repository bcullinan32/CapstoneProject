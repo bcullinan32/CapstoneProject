{
 "cells": [
  {
   "cell_type": "markdown",
   "metadata": {
    "collapsed": true,
    "pycharm": {
     "name": "#%% md\n"
    }
   },
   "source": [
    "# Intro\n",
    "\n",
    "This is the main notebook for the Capstone Project course"
   ]
  },
  {
   "cell_type": "code",
   "execution_count": 197,
   "outputs": [],
   "source": [
    "# Standard Libraries\n",
    "import pandas as pd\n",
    "import numpy as np\n",
    "import os\n",
    "import warnings\n",
    "import json\n",
    "\n",
    "# Plotting Libraries\n",
    "import matplotlib.pyplot as plt\n",
    "import seaborn as sns\n",
    "\n",
    "# set Theme\n",
    "plt.style.use('seaborn')\n",
    "sns.set_theme(style=\"whitegrid\")\n",
    "warnings.filterwarnings('ignore')"
   ],
   "metadata": {
    "collapsed": false,
    "pycharm": {
     "name": "#%%\n"
    }
   }
  },
  {
   "cell_type": "code",
   "execution_count": 198,
   "outputs": [
    {
     "name": "stdout",
     "output_type": "stream",
     "text": [
      "Source Data: C:\\Users\\TheCu\\OneDrive\\Documents\\Grad-School-Docs\\CapstoneProject\\Repo\\SourceData\\\n",
      "Exports: C:\\Users\\TheCu\\OneDrive\\Documents\\Grad-School-Docs\\CapstoneProject\\Repo\\Export\\\n",
      "Trimmed CSV: C:\\Users\\TheCu\\OneDrive\\Documents\\Grad-School-Docs\\CapstoneProject\\Repo\\SourceData\\\n"
     ]
    }
   ],
   "source": [
    "# Set Paths\n",
    "path = os.getcwd()\n",
    "sourceDataPath = path +'\\\\SourceData\\\\'\n",
    "exportPath = path +'\\\\Export\\\\'\n",
    "trimmedCSVPath = path +'\\\\SourceData\\\\'\n",
    "print(f\"Source Data:\",sourceDataPath)\n",
    "print(f\"Exports:\",exportPath)\n",
    "print(f\"Trimmed CSV:\",trimmedCSVPath)"
   ],
   "metadata": {
    "collapsed": false,
    "pycharm": {
     "name": "#%%\n"
    }
   }
  },
  {
   "cell_type": "markdown",
   "source": [
    "# Resuable Functions"
   ],
   "metadata": {
    "collapsed": false,
    "pycharm": {
     "name": "#%% md\n"
    }
   }
  },
  {
   "cell_type": "code",
   "execution_count": 199,
   "outputs": [],
   "source": [
    "# Create Large CSV Trim Function\n",
    "\n",
    "def largeCSVTrim(largeCSVPath, CSVName, trimQuery):\n",
    "    tempDF = pd.read_csv(largeCSVPath+CSVName, chunksize=10000)\n",
    "    df = pd.concat((x.query(trimQuery) for x in tempDF), ignore_index=True)\n",
    "    return df"
   ],
   "metadata": {
    "collapsed": false,
    "pycharm": {
     "name": "#%%\n"
    }
   }
  },
  {
   "cell_type": "code",
   "execution_count": 200,
   "outputs": [],
   "source": [
    "# Takes a DF and Producecs a Report of Null Values\n",
    "def nullAnalysis(df):\n",
    "    row = []\n",
    "    null_summaryDF = pd.DataFrame(columns = [\"Variable\",\"Observations\",\"Nulls\",\"Null_Per\",\"Num_Unique\",\"Type\"])\n",
    "    for column in df:\n",
    "        var = column\n",
    "        countOfObs = len(df[var])\n",
    "        countOfNull = df[var].isnull().sum()\n",
    "        perOfNull = round((100 * countOfNull) / countOfObs,3)\n",
    "        numUnique = df[var].nunique()\n",
    "        type  = df[var].dtypes\n",
    "        # Append to Summary DF\n",
    "        row = [var, countOfObs,countOfNull,perOfNull,numUnique,type]\n",
    "        df_length = len(null_summaryDF)\n",
    "        null_summaryDF.loc[df_length] = row\n",
    "    # Get Summary Stats\n",
    "    countofVars = len(null_summaryDF)\n",
    "    countofNotNull = (null_summaryDF['Nulls'] == 0).sum()\n",
    "    countofNull = (null_summaryDF['Nulls'] != 0).sum()\n",
    "    print(f\"Count of Variables:\",countofVars)\n",
    "    print(f\"Count of Variables without nulls:\",countofNotNull)\n",
    "    print(f\"Count of Variables with null :\",countofNull)\n",
    "    # Format Summary\n",
    "    summaryDF = null_summaryDF[null_summaryDF['Nulls'] != 0].sort_values(by=['Nulls'],ascending=False)\n",
    "    return summaryDF"
   ],
   "metadata": {
    "collapsed": false,
    "pycharm": {
     "name": "#%%\n"
    }
   }
  },
  {
   "cell_type": "code",
   "execution_count": 201,
   "outputs": [],
   "source": [
    "# Dropping Missing Values over 30% -- Will print out a table that shows what variables are dropped\n",
    "def dropCols_nullThresh(df,thresh):\n",
    "    thresh = 1-thresh\n",
    "    column_names_before = df.columns.to_list()\n",
    "    before = df.shape[1]\n",
    "    df = df.dropna(thresh=df.shape[0]*thresh,how='all',axis=1)\n",
    "    after = df.shape[1]\n",
    "    column_names_after = df.columns.to_list()\n",
    "    columns_dropped = []\n",
    "    for i in column_names_before:\n",
    "        if i not in column_names_after:\n",
    "            columns_dropped.append(i)\n",
    "    total_dropped = before - after\n",
    "    df = df\n",
    "    print(f\"dropped: {total_dropped}\")\n",
    "    print(f\"columns that where dropped where: {columns_dropped}\")\n",
    "    return df"
   ],
   "metadata": {
    "collapsed": false,
    "pycharm": {
     "name": "#%%\n"
    }
   }
  },
  {
   "cell_type": "code",
   "execution_count": 202,
   "outputs": [],
   "source": [
    "# Dropping Missing Values over 30% -- Will print out a table that shows what variables are dropped\n",
    "def dropCols_uniqueThresh(df,thresh):\n",
    "    thresh = thresh\n",
    "    column_names_before = df.columns.to_list()\n",
    "    before = df.shape[1]\n",
    "    df = df.drop(columns=df.columns[df.nunique()==1])\n",
    "    after = df.shape[1]\n",
    "    column_names_after = df.columns.to_list()\n",
    "    columns_dropped = []\n",
    "    for i in column_names_before:\n",
    "        if i not in column_names_after:\n",
    "            columns_dropped.append(i)\n",
    "    total_dropped = before - after\n",
    "    df = df\n",
    "    print(f\"dropped: {total_dropped}\")\n",
    "    print(f\"columns that where dropped where: {columns_dropped}\")\n",
    "    return df"
   ],
   "metadata": {
    "collapsed": false,
    "pycharm": {
     "name": "#%%\n"
    }
   }
  },
  {
   "cell_type": "markdown",
   "source": [
    "# Source Data"
   ],
   "metadata": {
    "collapsed": false
   }
  },
  {
   "cell_type": "markdown",
   "source": [
    "## Prep -- Trim Large CSV\n",
    "(Note: Creates trimmed version of CSV's for import.\n",
    "Only need to run this once, and then comment out to save time)"
   ],
   "metadata": {
    "collapsed": false
   }
  },
  {
   "cell_type": "code",
   "execution_count": 203,
   "outputs": [
    {
     "name": "stdout",
     "output_type": "stream",
     "text": [
      "Starting...\n",
      "Securities_SAM:\n"
     ]
    }
   ],
   "source": [
    "# Trim Securities_Full\n",
    "largeCSVPath = 'C:/Users/TheCu/OneDrive/Documents/Grad-School-Docs/CapstoneProject/SourceData_Orig/'\n",
    "CSVName = 'Securities_Full.csv'\n",
    "trimQuery = \"tic == 'SAM'\"\n",
    "\n",
    "print(\"Starting...\")\n",
    "# Securities_SAM = largeCSVTrim(largeCSVPath,CSVName,trimQuery) # Get Trimmed Data\n",
    "# Securities_SAM.to_csv(trimmedCSVPath+'Securities_SAM.csv') # Export Trimmed Data\n",
    "\n",
    "#View Trimmed Dataframe\n",
    "print(\"Securities_SAM:\")\n",
    "# Securities_SAM.sample(3)"
   ],
   "metadata": {
    "collapsed": false,
    "pycharm": {
     "name": "#%%\n"
    }
   }
  },
  {
   "cell_type": "code",
   "execution_count": 204,
   "outputs": [
    {
     "name": "stdout",
     "output_type": "stream",
     "text": [
      "Starting...\n",
      "Fundamentals_SAM:\n"
     ]
    }
   ],
   "source": [
    "# Trim Fundamentals_Full\n",
    "largeCSVPath = 'C:/Users/TheCu/OneDrive/Documents/Grad-School-Docs/CapstoneProject/SourceData_Orig/'\n",
    "CSVName = 'Fundamentals_Full.csv'\n",
    "trimQuery = \"gsector == 30\"\n",
    "\n",
    "print(\"Starting...\")\n",
    "#Fundamentals = largeCSVTrim(largeCSVPath,CSVName,trimQuery) # Get Trimmed Data\n",
    "#Fundamentals.to_csv(trimmedCSVPath+'Fundamentals_30.csv') # Export Trimmed Data\n",
    "\n",
    "#View Trimmed Dataframe\n",
    "print(\"Fundamentals_SAM:\")\n",
    "#Fundamentals.sample(3)"
   ],
   "metadata": {
    "collapsed": false,
    "pycharm": {
     "name": "#%%\n"
    }
   }
  },
  {
   "cell_type": "code",
   "execution_count": 205,
   "outputs": [
    {
     "name": "stdout",
     "output_type": "stream",
     "text": [
      "Starting...\n",
      "Stocks_SAM:\n"
     ]
    }
   ],
   "source": [
    "# Trim Stocks_DS\n",
    "largeCSVPath = 'C:/Users/TheCu/OneDrive/Documents/Grad-School-Docs/CapstoneProject/SourceData_Orig/'\n",
    "CSVName = 'Stocks_DS.csv'\n",
    "trimQuery = \"tic == 'SAM'\"\n",
    "\n",
    "print(\"Starting...\")\n",
    "# Stocks_SAM = largeCSVTrim(largeCSVPath,CSVName,trimQuery) # Get Trimmed Data\n",
    "# Stocks_SAM.to_csv(trimmedCSVPath+'Stocks_SAM.csv') # Export Trimmed Data\n",
    "\n",
    "#View Trimmed Dataframe\n",
    "print(\"Stocks_SAM:\")\n",
    "# Stocks_SAM.sample(3)"
   ],
   "metadata": {
    "collapsed": false,
    "pycharm": {
     "name": "#%%\n"
    }
   }
  },
  {
   "cell_type": "markdown",
   "source": [
    "## Get Source Data\n",
    "(Note: Creates trimmed version of CSV's for import.\n",
    "Only need to run this once, and then comment out to save time)"
   ],
   "metadata": {
    "collapsed": false
   }
  },
  {
   "cell_type": "code",
   "execution_count": 206,
   "outputs": [
    {
     "data": {
      "text/plain": "   gvkey    datadate  fyear indfmt consol popsrc   datafmt   tic  \\\n0   1659  12/31/2010   2010   INDL      C      D  SUMM_STD  ANDE   \n1   1659  12/31/2010   2010   INDL      C      D       STD  ANDE   \n2   1659  12/31/2011   2011   INDL      C      D  SUMM_STD  ANDE   \n3   1659  12/31/2011   2011   INDL      C      D       STD  ANDE   \n4   1659  12/31/2012   2012   INDL      C      D  SUMM_STD  ANDE   \n\n            conm acctchg  ... priusa   sic  spcindcd  spcseccd  spcsrc state  \\\n0  ANDERSONS INC     NaN  ...      1  5150     112.0     970.0      A-    OH   \n1  ANDERSONS INC     NaN  ...      1  5150     112.0     970.0      A-    OH   \n2  ANDERSONS INC     NaN  ...      1  5150     112.0     970.0      A-    OH   \n3  ANDERSONS INC     NaN  ...      1  5150     112.0     970.0      A-    OH   \n4  ANDERSONS INC     NaN  ...      1  5150     112.0     970.0      A-    OH   \n\n  stko                weburl dldte  ipodate  \n0    0  www.andersonsinc.com   NaN      NaN  \n1    0  www.andersonsinc.com   NaN      NaN  \n2    0  www.andersonsinc.com   NaN      NaN  \n3    0  www.andersonsinc.com   NaN      NaN  \n4    0  www.andersonsinc.com   NaN      NaN  \n\n[5 rows x 1768 columns]",
      "text/html": "<div>\n<style scoped>\n    .dataframe tbody tr th:only-of-type {\n        vertical-align: middle;\n    }\n\n    .dataframe tbody tr th {\n        vertical-align: top;\n    }\n\n    .dataframe thead th {\n        text-align: right;\n    }\n</style>\n<table border=\"1\" class=\"dataframe\">\n  <thead>\n    <tr style=\"text-align: right;\">\n      <th></th>\n      <th>gvkey</th>\n      <th>datadate</th>\n      <th>fyear</th>\n      <th>indfmt</th>\n      <th>consol</th>\n      <th>popsrc</th>\n      <th>datafmt</th>\n      <th>tic</th>\n      <th>conm</th>\n      <th>acctchg</th>\n      <th>...</th>\n      <th>priusa</th>\n      <th>sic</th>\n      <th>spcindcd</th>\n      <th>spcseccd</th>\n      <th>spcsrc</th>\n      <th>state</th>\n      <th>stko</th>\n      <th>weburl</th>\n      <th>dldte</th>\n      <th>ipodate</th>\n    </tr>\n  </thead>\n  <tbody>\n    <tr>\n      <th>0</th>\n      <td>1659</td>\n      <td>12/31/2010</td>\n      <td>2010</td>\n      <td>INDL</td>\n      <td>C</td>\n      <td>D</td>\n      <td>SUMM_STD</td>\n      <td>ANDE</td>\n      <td>ANDERSONS INC</td>\n      <td>NaN</td>\n      <td>...</td>\n      <td>1</td>\n      <td>5150</td>\n      <td>112.0</td>\n      <td>970.0</td>\n      <td>A-</td>\n      <td>OH</td>\n      <td>0</td>\n      <td>www.andersonsinc.com</td>\n      <td>NaN</td>\n      <td>NaN</td>\n    </tr>\n    <tr>\n      <th>1</th>\n      <td>1659</td>\n      <td>12/31/2010</td>\n      <td>2010</td>\n      <td>INDL</td>\n      <td>C</td>\n      <td>D</td>\n      <td>STD</td>\n      <td>ANDE</td>\n      <td>ANDERSONS INC</td>\n      <td>NaN</td>\n      <td>...</td>\n      <td>1</td>\n      <td>5150</td>\n      <td>112.0</td>\n      <td>970.0</td>\n      <td>A-</td>\n      <td>OH</td>\n      <td>0</td>\n      <td>www.andersonsinc.com</td>\n      <td>NaN</td>\n      <td>NaN</td>\n    </tr>\n    <tr>\n      <th>2</th>\n      <td>1659</td>\n      <td>12/31/2011</td>\n      <td>2011</td>\n      <td>INDL</td>\n      <td>C</td>\n      <td>D</td>\n      <td>SUMM_STD</td>\n      <td>ANDE</td>\n      <td>ANDERSONS INC</td>\n      <td>NaN</td>\n      <td>...</td>\n      <td>1</td>\n      <td>5150</td>\n      <td>112.0</td>\n      <td>970.0</td>\n      <td>A-</td>\n      <td>OH</td>\n      <td>0</td>\n      <td>www.andersonsinc.com</td>\n      <td>NaN</td>\n      <td>NaN</td>\n    </tr>\n    <tr>\n      <th>3</th>\n      <td>1659</td>\n      <td>12/31/2011</td>\n      <td>2011</td>\n      <td>INDL</td>\n      <td>C</td>\n      <td>D</td>\n      <td>STD</td>\n      <td>ANDE</td>\n      <td>ANDERSONS INC</td>\n      <td>NaN</td>\n      <td>...</td>\n      <td>1</td>\n      <td>5150</td>\n      <td>112.0</td>\n      <td>970.0</td>\n      <td>A-</td>\n      <td>OH</td>\n      <td>0</td>\n      <td>www.andersonsinc.com</td>\n      <td>NaN</td>\n      <td>NaN</td>\n    </tr>\n    <tr>\n      <th>4</th>\n      <td>1659</td>\n      <td>12/31/2012</td>\n      <td>2012</td>\n      <td>INDL</td>\n      <td>C</td>\n      <td>D</td>\n      <td>SUMM_STD</td>\n      <td>ANDE</td>\n      <td>ANDERSONS INC</td>\n      <td>NaN</td>\n      <td>...</td>\n      <td>1</td>\n      <td>5150</td>\n      <td>112.0</td>\n      <td>970.0</td>\n      <td>A-</td>\n      <td>OH</td>\n      <td>0</td>\n      <td>www.andersonsinc.com</td>\n      <td>NaN</td>\n      <td>NaN</td>\n    </tr>\n  </tbody>\n</table>\n<p>5 rows × 1768 columns</p>\n</div>"
     },
     "execution_count": 206,
     "metadata": {},
     "output_type": "execute_result"
    }
   ],
   "source": [
    "# Get Fundamentals\n",
    "file = 'Fundamentals_30.csv'\n",
    "fundamentals = pd.read_csv(sourceDataPath+file,skipinitialspace = True)\n",
    "fundamentals.head()"
   ],
   "metadata": {
    "collapsed": false,
    "pycharm": {
     "name": "#%%\n"
    }
   }
  },
  {
   "cell_type": "code",
   "execution_count": 207,
   "outputs": [],
   "source": [
    "# Get Securities"
   ],
   "metadata": {
    "collapsed": false,
    "pycharm": {
     "name": "#%%\n"
    }
   }
  },
  {
   "cell_type": "code",
   "execution_count": 208,
   "outputs": [],
   "source": [
    "# Get Stocks"
   ],
   "metadata": {
    "collapsed": false,
    "pycharm": {
     "name": "#%%\n"
    }
   }
  },
  {
   "cell_type": "code",
   "execution_count": 209,
   "outputs": [],
   "source": [
    "# Get Ratings\n"
   ],
   "metadata": {
    "collapsed": false,
    "pycharm": {
     "name": "#%%\n"
    }
   }
  },
  {
   "cell_type": "markdown",
   "source": [
    "# Data Clean-Up"
   ],
   "metadata": {
    "collapsed": false
   }
  },
  {
   "cell_type": "markdown",
   "source": [
    "## Fundamentals"
   ],
   "metadata": {
    "collapsed": false
   }
  },
  {
   "cell_type": "code",
   "execution_count": 210,
   "outputs": [
    {
     "name": "stdout",
     "output_type": "stream",
     "text": [
      "Count of Variables: 1768\n",
      "Count of Variables without nulls: 35\n",
      "Count of Variables with null : 1733\n"
     ]
    },
    {
     "data": {
      "text/plain": "       Variable Observations Nulls  Null_Per Num_Unique     Type\n880       xstfo          282   282   100.000          0  float64\n1342  iaeqmi_dc          282   282   100.000          0  float64\n731      tstkme          282   282   100.000          0  float64\n1355   idilc_dc          282   282   100.000          0  float64\n1354   idilb_dc          282   282   100.000          0  float64\n...         ...          ...   ...       ...        ...      ...\n356       ibmii          282     1     0.355        171  float64\n92           at          282     1     0.355        161  float64\n673        sale          282     1     0.355        179  float64\n717         teq          282     1     0.355        153  float64\n641       reuna          282     1     0.355        155  float64\n\n[1733 rows x 6 columns]",
      "text/html": "<div>\n<style scoped>\n    .dataframe tbody tr th:only-of-type {\n        vertical-align: middle;\n    }\n\n    .dataframe tbody tr th {\n        vertical-align: top;\n    }\n\n    .dataframe thead th {\n        text-align: right;\n    }\n</style>\n<table border=\"1\" class=\"dataframe\">\n  <thead>\n    <tr style=\"text-align: right;\">\n      <th></th>\n      <th>Variable</th>\n      <th>Observations</th>\n      <th>Nulls</th>\n      <th>Null_Per</th>\n      <th>Num_Unique</th>\n      <th>Type</th>\n    </tr>\n  </thead>\n  <tbody>\n    <tr>\n      <th>880</th>\n      <td>xstfo</td>\n      <td>282</td>\n      <td>282</td>\n      <td>100.000</td>\n      <td>0</td>\n      <td>float64</td>\n    </tr>\n    <tr>\n      <th>1342</th>\n      <td>iaeqmi_dc</td>\n      <td>282</td>\n      <td>282</td>\n      <td>100.000</td>\n      <td>0</td>\n      <td>float64</td>\n    </tr>\n    <tr>\n      <th>731</th>\n      <td>tstkme</td>\n      <td>282</td>\n      <td>282</td>\n      <td>100.000</td>\n      <td>0</td>\n      <td>float64</td>\n    </tr>\n    <tr>\n      <th>1355</th>\n      <td>idilc_dc</td>\n      <td>282</td>\n      <td>282</td>\n      <td>100.000</td>\n      <td>0</td>\n      <td>float64</td>\n    </tr>\n    <tr>\n      <th>1354</th>\n      <td>idilb_dc</td>\n      <td>282</td>\n      <td>282</td>\n      <td>100.000</td>\n      <td>0</td>\n      <td>float64</td>\n    </tr>\n    <tr>\n      <th>...</th>\n      <td>...</td>\n      <td>...</td>\n      <td>...</td>\n      <td>...</td>\n      <td>...</td>\n      <td>...</td>\n    </tr>\n    <tr>\n      <th>356</th>\n      <td>ibmii</td>\n      <td>282</td>\n      <td>1</td>\n      <td>0.355</td>\n      <td>171</td>\n      <td>float64</td>\n    </tr>\n    <tr>\n      <th>92</th>\n      <td>at</td>\n      <td>282</td>\n      <td>1</td>\n      <td>0.355</td>\n      <td>161</td>\n      <td>float64</td>\n    </tr>\n    <tr>\n      <th>673</th>\n      <td>sale</td>\n      <td>282</td>\n      <td>1</td>\n      <td>0.355</td>\n      <td>179</td>\n      <td>float64</td>\n    </tr>\n    <tr>\n      <th>717</th>\n      <td>teq</td>\n      <td>282</td>\n      <td>1</td>\n      <td>0.355</td>\n      <td>153</td>\n      <td>float64</td>\n    </tr>\n    <tr>\n      <th>641</th>\n      <td>reuna</td>\n      <td>282</td>\n      <td>1</td>\n      <td>0.355</td>\n      <td>155</td>\n      <td>float64</td>\n    </tr>\n  </tbody>\n</table>\n<p>1733 rows × 6 columns</p>\n</div>"
     },
     "execution_count": 210,
     "metadata": {},
     "output_type": "execute_result"
    }
   ],
   "source": [
    "# Initial Column Reduce -- Drop Obvious -- Nulls\n",
    "# Run Initial -- Null Report\n",
    "fundamentals_nullReport = nullAnalysis(fundamentals)\n",
    "fundamentals_nullReport"
   ],
   "metadata": {
    "collapsed": false,
    "pycharm": {
     "name": "#%%\n"
    }
   }
  },
  {
   "cell_type": "code",
   "execution_count": 211,
   "outputs": [
    {
     "name": "stdout",
     "output_type": "stream",
     "text": [
      "dropped: 1348\n",
      "columns that where dropped where: ['acctchg', 'acqmeth', 'adrr', 'bspr', 'compst', 'curuscn', 'ogm', 'stalt', 'udpl', 'pdate', 'acco', 'acoxar', 'acqao', 'acqcshi', 'acqgdwl', 'acqic', 'acqintan', 'acqinvt', 'acqlntal', 'acqniintc', 'acqppe', 'acqsc', 'adpac', 'aedi', 'afudcc', 'afudci', 'amc', 'amdc', 'amgw', 'apb', 'apc', 'apofs', 'aqa', 'aqd', 'aqeps', 'aqi', 'aqp', 'aqs', 'arb', 'arc', 'arce', 'arced', 'arceeps', 'artfs', 'autxr', 'balr', 'banlr', 'bast', 'bastr', 'batr', 'bcef', 'bclr', 'bcltbl', 'bcnlr', 'bcrbl', 'bct', 'bctbl', 'bctr', 'bltbl', 'ca', 'capr1', 'capr2', 'capr3', 'cb', 'cbi', 'cdpac', 'cdvc', 'cfbd', 'cfere', 'cfo', 'cfpdo', 'cga', 'cgri', 'cgti', 'cgui', 'chs', 'clfc', 'clfx', 'clg', 'clis', 'cll', 'cllc', 'clo', 'clrll', 'clt', 'cmp', 'cnltbl', 'cpcbl', 'cpdoi', 'cpnli', 'cppbl', 'cprei', 'crv', 'crvnli', 'cshrc', 'cshrp', 'cshrso', 'cshrt', 'cshrw', 'dbi', 'dcs', 'depc', 'dfpac', 'dfs', 'dfxa', 'dltsub', 'dpacb', 'dpacc', 'dpacli', 'dpacls', 'dpacme', 'dpacnr', 'dpaco', 'dpacre', 'dpdc', 'dpltb', 'dpret', 'dpsc', 'dpstb', 'dptb', 'dptc', 'dptic', 'dpvio', 'dpvir', 'drci', 'dtea', 'dted', 'dteeps', 'dtep', 'dvdnp', 'dvpd', 'dvpdp', 'dvpibb', 'dvrpiv', 'dvrre', 'dvsco', 'ea', 'eiea', 'emol', 'excadj', 'fatd', 'fca', 'fdfr', 'fea', 'fel', 'ffo', 'ffs', 'fopt', 'fsrco', 'fsrct', 'fuseo', 'fuset', 'gbbl', 'gdwlam', 'gdwlia', 'gdwlid', 'gdwlieps', 'gdwlip', 'geqrv', 'gla', 'glcea', 'glced', 'glceeps', 'glcep', 'gld', 'gleps', 'glp', 'govgr', 'govtown', 'gphbl', 'gplbl', 'gpobl', 'gprbl', 'gptbl', 'gwo', 'hedgegl', 'iaeq', 'iaeqci', 'iaeqmi', 'iafici', 'iafxi', 'iafxmi', 'iali', 'ialoi', 'ialti', 'iamli', 'iaoi', 'iapli', 'iarei', 'iasci', 'iasmi', 'iassi', 'iasti', 'iatci', 'iati', 'iatmi', 'iaui', 'ibbl', 'ibki', 'idiis', 'idilb', 'idilc', 'idis', 'idist', 'idits', 'iire', 'initb', 'invofs', 'invreh', 'invrei', 'invres', 'iobd', 'ioi', 'iore', 'ip', 'ipabl', 'ipc', 'iphbl', 'iplbl', 'ipobl', 'iptbl', 'ipti', 'ipv', 'irei', 'irent', 'irii', 'irli', 'irnli', 'irsi', 'iseq', 'iseqc', 'iseqm', 'isfi', 'isfxc', 'isfxm', 'isgr', 'isgt', 'isgu', 'islg', 'islgc', 'islgm', 'islt', 'isng', 'isngc', 'isngm', 'isotc', 'isoth', 'isotm', 'issc', 'issm', 'issu', 'ist', 'istc', 'istm', 'isut', 'itcc', 'ivgod', 'ivi', 'ivpt', 'lcabg', 'lcacl', 'lcacr', 'lcag', 'lcal', 'lcalt', 'lcam', 'lcao', 'lcast', 'lcat', 'lcoxar', 'lcuacu', 'li', 'lif', 'lloml', 'lloo', 'llot', 'llrci', 'llrcr', 'llwoci', 'llwocr', 'lrv', 'ls', 'lst', 'msvrv', 'mtl', 'nat', 'nco', 'nfsr', 'nieci', 'niint', 'niintpfc', 'niintpfp', 'niit', 'nim', 'nio', 'nipfc', 'nipfp', 'nit', 'nits', 'npanl', 'npaore', 'nparl', 'npat', 'nrtxt', 'nrtxtd', 'nrtxteps', 'ob', 'opili', 'opincar', 'opini', 'opioi', 'opiri', 'opiti', 'palr', 'panlr', 'patr', 'pcl', 'pclr', 'pcnlr', 'pctr', 'pdvc', 'pll', 'pltbl', 'pnlbl', 'pnli', 'pobl', 'ppcbl', 'ppenb', 'ppenc', 'ppenli', 'ppenls', 'ppenme', 'ppennr', 'ppeno', 'ppevbb', 'ppevo', 'ppevr', 'pppabl', 'ppphbl', 'pppobl', 'ppptbl', 'prc', 'prebl', 'pri', 'prodv', 'prstkcc', 'prstkpc', 'prvt', 'ptbl', 'ptran', 'pvcl', 'pvo', 'pvon', 'pvpl', 'pvt', 'pwoi', 'radp', 'ragr', 'rari', 'rati', 'rca', 'rcd', 'rceps', 'rcl', 'rcp', 'rdp', 'recub', 'ret', 'reunr', 'ris', 'rll', 'rlo', 'rlp', 'rlri', 'rlt', 'rmum', 'rpag', 'rra', 'rrd', 'rreps', 'rrp', 'rvbci', 'rvbpi', 'rvbti', 'rvdo', 'rvdt', 'rveqt', 'rvlrv', 'rvno', 'rvnt', 'rvri', 'rvsi', 'rvti', 'rvtxr', 'rvupi', 'rvutx', 'saa', 'sal', 'salepfc', 'salepfp', 'sbdc', 'sc', 'sco', 'scstkc', 'secu', 'seta', 'setd', 'seteps', 'setp', 'spid', 'spieps', 'spioa', 'spiop', 'spstkc', 'sret', 'srt', 'ssnp', 'stbo', 'stio', 'stkcpa', 'tdc', 'tdscd', 'tdsce', 'tdsg', 'tdslg', 'tdsmm', 'tdsng', 'tdso', 'tdss', 'tdst', 'tf', 'tie', 'tii', 'transa', 'tsa', 'tsafc', 'tso', 'tstkme', 'txeqa', 'txeqii', 'txtubmax', 'txtubmin', 'txva', 'uaoloch', 'uaox', 'uapt', 'ucaps', 'uccons', 'uceq', 'ucustad', 'udcopres', 'udd', 'udfcc', 'udmb', 'udolt', 'udpco', 'udpfa', 'udvp', 'ufretsd', 'ugi', 'ui', 'uinvt', 'ulcm', 'ulco', 'uniami', 'unl', 'unnp', 'unnpl', 'unopinc', 'unwcc', 'uois', 'uopi', 'uopres', 'updvp', 'upmcstk', 'upmpf', 'upmpfs', 'upmsubp', 'upstk', 'upstkc', 'upstksf', 'urect', 'urectr', 'urevub', 'uspi', 'ustdnc', 'usubdvp', 'usubpstk', 'utfdoc', 'utfosc', 'utme', 'utxfed', 'uwkcapc', 'uxinst', 'uxintd', 'vpac', 'vpo', 'wcapc', 'wcapch', 'wda', 'wdd', 'wdeps', 'wdp', 'xago', 'xagt', 'xcom', 'xcomi', 'xdepl', 'xdp', 'xdvre', 'xeqo', 'xindb', 'xindc', 'xins', 'xinst', 'xintd', 'xivi', 'xivre', 'xlr', 'xnbi', 'xnf', 'xnins', 'xnitb', 'xobd', 'xoi', 'xoprar', 'xore', 'xs', 'xstf', 'xstfo', 'xstfws', 'xt', 'xuw', 'xuwli', 'xuwnli', 'xuwoi', 'xuwrei', 'xuwti', 'acchg_fn', 'afudcc_fn', 'amc_fn', 'am_fn', 'aocidergl_fn', 'aocipen_fn', 'aocisecgl_fn', 'ap_fn', 'aqa_fn', 'aqd_fn', 'aqeps_fn', 'aqp_fn', 'aqs_fn', 'arced_fn', 'arceeps_fn', 'arce_fn', 'artfs_fn', 'at_fn', 'capr1_fn', 'capr3_fn', 'caps_fn', 'capx_fn', 'cdvc_fn', 'clg_fn', 'cshfd_fn', 'csho_fn', 'cshpri_fn', 'cstk_fn', 'dclo_fn', 'dcs_fn', 'dcvsr_fn', 'dcvsub_fn', 'dcvt_fn', 'dd1_fn', 'dd2_fn', 'dd3_fn', 'dd4_fn', 'dd5_fn', 'dd_fn', 'depc_fn', 'dfs_fn', 'dlto_fn', 'dltp_fn', 'dltt_fn', 'dn_fn', 'dpc_fn', 'dptc_fn', 'dptic_fn', 'dp_fn', 'ds_fn', 'dtea_fn', 'dted_fn', 'dteeps_fn', 'dtep_fn', 'dvc_fn', 'dvp_fn', 'dvrre_fn', 'emp_fn', 'epspi_fn', 'epspx_fn', 'esopt_fn', 'esub_fn', 'fca_fn', 'gdwlam_fn', 'gdwlia_fn', 'gdwlid_fn', 'gdwlieps_fn', 'gdwlip_fn', 'gla_fn', 'glcea_fn', 'glced_fn', 'glceeps_fn', 'glcep_fn', 'gld_fn', 'gleps_fn', 'glp_fn', 'hedgegl_fn', 'iarei_fn', 'iati_fn', 'ibadj_fn', 'ib_fn', 'icapt_fn', 'idiis_fn', 'idilc_fn', 'idist_fn', 'idits_fn', 'idit_fn', 'iire_fn', 'invt_fn', 'ip_fn', 'ist_fn', 'itcc_fn', 'itci_fn', 'ivi_fn', 'lcao_fn', 'lcuacu_fn', 'lse_fn', 'mib_fn', 'mrc1_fn', 'mrc2_fn', 'mrc3_fn', 'mrc4_fn', 'mrc5_fn', 'msa_fn', 'ni_fn', 'nrtxtd_fn', 'nrtxteps_fn', 'nrtxt_fn', 'oancf_fn', 'optdr_fn', 'optfvgr_fn', 'optlife_fn', 'optprcby_fn', 'optprcca_fn', 'optprcex_fn', 'optprcey_fn', 'optprcgr_fn', 'optprcwa_fn', 'optrfr_fn', 'optvol_fn', 'pcl_fn', 'pdvc_fn', 'pidom_fn', 'pifo_fn', 'pncia_fn', 'pncid_fn', 'pncieps_fn', 'ppegt_fn', 'ppent_fn', 'ppeveb_fn', 'prcad_fn', 'prcaeps_fn', 'prca_fn', 'pstkl_fn', 'pstkrv_fn', 'pvcl_fn', 'ragr_fn', 'rca_fn', 'rcd_fn', 'rceps_fn', 'rcl_fn', 'rcp_fn', 'rdip_fn', 'recta_fn', 'reuna_fn', 'revt_fn', 're_fn', 'rra_fn', 'rrd_fn', 'rreps_fn', 'rrp_fn', 'sale_fn', 'secu_fn', 'seta_fn', 'setd_fn', 'seteps_fn', 'setp_fn', 'spid_fn', 'spieps_fn', 'spioa_fn', 'spiop_fn', 'stkcpa_fn', 'tdc_fn', 'tdst_fn', 'tie_fn', 'transa_fn', 'tstkc_fn', 'tstk_fn', 'txeqii_fn', 'txfed_fn', 'txfo_fn', 'txo_fn', 'txp_fn', 'txs_fn', 'txt_fn', 'uapt_fn', 'ucaps_fn', 'ui_fn', 'unwcc_fn', 'vpac_fn', 'vpo_fn', 'wda_fn', 'wdd_fn', 'wdeps_fn', 'wdp_fn', 'xintopt_fn', 'xint_fn', 'xlr_fn', 'xoptd_fn', 'xopteps_fn', 'xpr_fn', 'xrd_fn', 'xrent_fn', 'xsga_fn', 'xt_fn', 'acchg_dc', 'acco_dc', 'acdo_dc', 'aco_dc', 'acominc_dc', 'acox_dc', 'acqao_dc', 'acqgdwl_dc', 'acqic_dc', 'acqintan_dc', 'acqinvt_dc', 'acqlntal_dc', 'acqniintc_dc', 'acqppe_dc', 'acqsc_dc', 'adpac_dc', 'aedi_dc', 'aldo_dc', 'am_dc', 'amc_dc', 'amgw_dc', 'ano_dc', 'ao_dc', 'aocidergl_dc', 'aocipen_dc', 'aocisecgl_dc', 'aol2_dc', 'aoloch_dc', 'aox_dc', 'ap_dc', 'apalch_dc', 'apofs_dc', 'aqa_dc', 'aqc_dc', 'aqd_dc', 'aqeps_dc', 'aqi_dc', 'aqp_dc', 'aqpl1_dc', 'aqs_dc', 'arc_dc', 'artfs_dc', 'aul3_dc', 'balr_dc', 'banlr_dc', 'bast_dc', 'bastr_dc', 'batr_dc', 'bcef_dc', 'bclr_dc', 'bcnlr_dc', 'bcrbl_dc', 'bct_dc', 'bctbl_dc', 'bctr_dc', 'bkvlps_dc', 'bltbl_dc', 'ca_dc', 'caps_dc', 'capx_dc', 'capxv_dc', 'cb_dc', 'cbi_dc', 'cdvc_dc', 'ceq_dc', 'ceql_dc', 'ceqt_dc', 'cfbd_dc', 'cfere_dc', 'cfo_dc', 'cfpdo_dc', 'cgti_dc', 'ch_dc', 'che_dc', 'chech_dc', 'chs_dc', 'cicurr_dc', 'cidergl_dc', 'cipen_dc', 'cisecgl_dc', 'cld2_dc', 'cld3_dc', 'cld4_dc', 'cld5_dc', 'clfc_dc', 'clfx_dc', 'clg_dc', 'clis_dc', 'cll_dc', 'cllc_dc', 'cmp_dc', 'cnltbl_dc', 'cpnli_dc', 'cprei_dc', 'crvnli_dc', 'cshfd_dc', 'cshi_dc', 'csho_dc', 'cshpri_dc', 'cshr_dc', 'cshrc_dc', 'cshrt_dc', 'cshrw_dc', 'cstk_dc', 'cstkcv_dc', 'dbi_dc', 'dc_dc', 'dclo_dc', 'dcom_dc', 'dcpstk_dc', 'dcs_dc', 'dcvsr_dc', 'dcvsub_dc', 'dcvt_dc', 'dd_dc', 'dd1_dc', 'dd2_dc', 'dd3_dc', 'dd4_dc', 'dd5_dc', 'depc_dc', 'dfpac_dc', 'dfs_dc', 'dfxa_dc', 'dlc_dc', 'dlcch_dc', 'dltis_dc', 'dlto_dc', 'dltp_dc', 'dltr_dc', 'dltsub_dc', 'dltt_dc', 'dm_dc', 'dn_dc', 'do_dc', 'donr_dc', 'dp_dc', 'dpacb_dc', 'dpacc_dc', 'dpacls_dc', 'dpacme_dc', 'dpacnr_dc', 'dpact_dc', 'dpc_dc', 'dpdc_dc', 'dpsc_dc', 'dptb_dc', 'dptc_dc', 'dptic_dc', 'dpvieb_dc', 'dpvio_dc', 'dpvir_dc', 'drc_dc', 'drlt_dc', 'ds_dc', 'dtea_dc', 'dted_dc', 'dteeps_dc', 'dtep_dc', 'dudd_dc', 'dv_dc', 'dvc_dc', 'dvp_dc', 'dvpa_dc', 'dvpdp_dc', 'dvpibb_dc', 'dvrre_dc', 'dxd2_dc', 'dxd3_dc', 'dxd4_dc', 'dxd5_dc', 'ea_dc', 'ebitda_dc', 'eiea_dc', 'emp_dc', 'epsfi_dc', 'epsfx_dc', 'epspi_dc', 'epspx_dc', 'esopct_dc', 'esub_dc', 'esubc_dc', 'excadj_dc', 'exre_dc', 'fatb_dc', 'fatc_dc', 'fate_dc', 'fatl_dc', 'fatn_dc', 'fato_dc', 'fatp_dc', 'fca_dc', 'fdfr_dc', 'ffs_dc', 'fopo_dc', 'fsrco_dc', 'fuseo_dc', 'gdwl_dc', 'gdwlia_dc', 'gdwlid_dc', 'gdwlieps_dc', 'gdwlip_dc', 'gla_dc', 'glcea_dc', 'glcep_dc', 'gld_dc', 'gleps_dc', 'glp_dc', 'govgr_dc', 'gphbl_dc', 'gplbl_dc', 'gprbl_dc', 'hedgegl_dc', 'iaeq_dc', 'iaeqci_dc', 'iaeqmi_dc', 'ialti_dc', 'iamli_dc', 'iapli_dc', 'iarei_dc', 'iati_dc', 'ib_dc', 'ibadj_dc', 'ibcom_dc', 'ibki_dc', 'icapt_dc', 'idiis_dc', 'idilb_dc', 'idilc_dc', 'idis_dc', 'idist_dc', 'idit_dc', 'idits_dc', 'iire_dc', 'initb_dc', 'intan_dc', 'intano_dc', 'intc_dc', 'intpn_dc', 'invch_dc', 'invfg_dc', 'invreh_dc', 'invrei_dc', 'invres_dc', 'invrm_dc', 'invt_dc', 'invwip_dc', 'iobd_dc', 'ioi_dc', 'iore_dc', 'ip_dc', 'ipabl_dc', 'iphbl_dc', 'iplbl_dc', 'ipti_dc', 'ipv_dc', 'irei_dc', 'irent_dc', 'irli_dc', 'irnli_dc', 'irsi_dc', 'iseq_dc', 'iseqc_dc', 'iseqm_dc', 'isfi_dc', 'isfxc_dc', 'isfxm_dc', 'isgt_dc', 'islg_dc', 'islgc_dc', 'islgm_dc', 'isng_dc', 'isngc_dc', 'isngm_dc', 'issc_dc', 'issm_dc', 'issu_dc', 'ist_dc', 'itcb_dc', 'itcc_dc', 'itci_dc', 'ivaeq_dc', 'ivao_dc', 'ivch_dc', 'ivi_dc', 'ivpt_dc', 'ivst_dc', 'ivstch_dc', 'lcabg_dc', 'lcacl_dc', 'lcacr_dc', 'lcag_dc', 'lcal_dc', 'lcam_dc', 'lcat_dc', 'lco_dc', 'lcox_dc', 'lct_dc', 'lcuacu_dc', 'lifr_dc', 'llrcr_dc', 'llwocr_dc', 'lno_dc', 'lo_dc', 'lol2_dc', 'lqpl1_dc', 'lt_dc', 'lul3_dc', 'mib_dc', 'mibn_dc', 'mibt_dc', 'mii_dc', 'mrc1_dc', 'mrc2_dc', 'mrc3_dc', 'mrc4_dc', 'mrc5_dc', 'mrct_dc', 'mrcta_dc', 'msa_dc', 'nco_dc', 'ni_dc', 'nieci_dc', 'niintpfc_dc', 'niintpfp_dc', 'nio_dc', 'nipfc_dc', 'nipfp_dc', 'nit_dc', 'nopi_dc', 'nopio_dc', 'np_dc', 'npaore_dc', 'nparl_dc', 'nrtxt_dc', 'nrtxtd_dc', 'nrtxteps_dc', 'ob_dc', 'oiadp_dc', 'oibdp_dc', 'opili_dc', 'opini_dc', 'opioi_dc', 'opiri_dc', 'optca_dc', 'optexd_dc', 'optgr_dc', 'optosey_dc', 'optprcca_dc', 'optprcex_dc', 'optprcgr_dc', 'palr_dc', 'panlr_dc', 'patr_dc', 'pcl_dc', 'pclr_dc', 'pcnlr_dc', 'pctr_dc', 'pdvc_dc', 'pi_dc', 'pidom_dc', 'pifo_dc', 'pll_dc', 'pltbl_dc', 'pnlbl_dc', 'pnrsho_dc', 'pobl_dc', 'ppegt_dc', 'ppenb_dc', 'ppenc_dc', 'ppenli_dc', 'ppenls_dc', 'ppenme_dc', 'ppennr_dc', 'ppeno_dc', 'ppent_dc', 'ppevbb_dc', 'ppeveb_dc', 'ppevo_dc', 'ppevr_dc', 'ppphbl_dc', 'prebl_dc', 'pri_dc', 'prodv_dc', 'prsho_dc', 'prstkc_dc', 'prstkcc_dc', 'prstkpc_dc', 'pstk_dc', 'pstkc_dc', 'pstkl_dc', 'pstkn_dc', 'pstkr_dc', 'pstkrv_dc', 'ptran_dc', 'pvon_dc', 'pvpl_dc', 'pvt_dc', 'pwoi_dc', 'ragr_dc', 'rati_dc', 'rca_dc', 'rcd_dc', 'rceps_dc', 'rcl_dc', 'rcp_dc', 'rdip_dc', 'rdipa_dc', 'rdipd_dc', 're_dc', 'rea_dc', 'reajo_dc', 'recch_dc', 'recco_dc', 'recd_dc', 'rect_dc', 'recta_dc', 'rectr_dc', 'reunr_dc', 'ris_dc', 'rll_dc', 'rlri_dc', 'rlt_dc', 'rpag_dc', 'rvbci_dc', 'rvbti_dc', 'rvdt_dc', 'rveqt_dc', 'rvri_dc', 'rvsi_dc', 'rvti_dc', 'rvupi_dc', 'saa_dc', 'sal_dc', 'salepfc_dc', 'salepfp_dc', 'sbdc_dc', 'sc_dc', 'scstkc_dc', 'secu_dc', 'seq_dc', 'seta_dc', 'setd_dc', 'seteps_dc', 'setp_dc', 'siv_dc', 'spi_dc', 'spid_dc', 'spieps_dc', 'spioa_dc', 'spiop_dc', 'sppe_dc', 'sppiv_dc', 'spstkc_dc', 'ssnp_dc', 'sstk_dc', 'stbo_dc', 'stio_dc', 'stkco_dc', 'stkcpa_dc', 'tdc_dc', 'tdscd_dc', 'tdsce_dc', 'tdsg_dc', 'tdslg_dc', 'tdsmm_dc', 'tdsng_dc', 'tdst_dc', 'tf_dc', 'tfva_dc', 'tfvce_dc', 'tfvl_dc', 'tlcf_dc', 'transa_dc', 'tstk_dc', 'tstkc_dc', 'tstkme_dc', 'tstkn_dc', 'tstkp_dc', 'txach_dc', 'txbco_dc', 'txbcof_dc', 'txc_dc', 'txdb_dc', 'txdba_dc', 'txdbca_dc', 'txdbcl_dc', 'txdc_dc', 'txdfed_dc', 'txdfo_dc', 'txdi_dc', 'txditc_dc', 'txds_dc', 'txeqa_dc', 'txfed_dc', 'txfo_dc', 'txndb_dc', 'txndba_dc', 'txndbl_dc', 'txndbr_dc', 'txp_dc', 'txpd_dc', 'txr_dc', 'txs_dc', 'txt_dc', 'txtubadjust_dc', 'txtubbegin_dc', 'txtubend_dc', 'txtubmax_dc', 'txtubmin_dc', 'txtubposdec_dc', 'txtubposinc_dc', 'txtubpospdec_dc', 'txtubpospinc_dc', 'txtubsettle_dc', 'txtubsoflimit_dc', 'txtubtxtr_dc', 'txtubxintbs_dc', 'txtubxintis_dc', 'txw_dc', 'uaoloch_dc', 'uaox_dc', 'uapt_dc', 'ucaps_dc', 'uccons_dc', 'ucustad_dc', 'udd_dc', 'udfcc_dc', 'udmb_dc', 'udpco_dc', 'udvp_dc', 'ui_dc', 'uinvt_dc', 'unopinc_dc', 'unwcc_dc', 'uopi_dc', 'uopres_dc', 'updvp_dc', 'upmcstk_dc', 'upmpf_dc', 'upmpfs_dc', 'upmsubp_dc', 'upstk_dc', 'upstkc_dc', 'upstksf_dc', 'urect_dc', 'urectr_dc', 'urevub_dc', 'uspi_dc', 'ustdnc_dc', 'usubdvp_dc', 'usubpstk_dc', 'utme_dc', 'utxfed_dc', 'uwkcapc_dc', 'uxinst_dc', 'uxintd_dc', 'vpac_dc', 'vpo_dc', 'wcapc_dc', 'wda_dc', 'wdd_dc', 'wdeps_dc', 'wdp_dc', 'xacc_dc', 'xad_dc', 'xago_dc', 'xagt_dc', 'xcom_dc', 'xcomi_dc', 'xdepl_dc', 'xdp_dc', 'xdvre_dc', 'xeqo_dc', 'xi_dc', 'xido_dc', 'xidoc_dc', 'xindb_dc', 'xindc_dc', 'xins_dc', 'xinst_dc', 'xint_dc', 'xintd_dc', 'xintopt_dc', 'xivi_dc', 'xivre_dc', 'xlr_dc', 'xnins_dc', 'xnitb_dc', 'xobd_dc', 'xoi_dc', 'xoptd_dc', 'xopteps_dc', 'xore_dc', 'xpp_dc', 'xpr_dc', 'xrd_dc', 'xrent_dc', 'xs_dc', 'xsga_dc', 'xstf_dc', 'xstfo_dc', 'xuw_dc', 'xuwli_dc', 'xuwnli_dc', 'xuwoi_dc', 'xuwrei_dc', 'add2', 'add3', 'add4', 'county', 'dlrsn', 'prican', 'prirow', 'dldte']\n"
     ]
    },
    {
     "data": {
      "text/plain": "      gvkey    datadate  fyear indfmt consol popsrc   datafmt   tic  \\\n0      1659  12/31/2010   2010   INDL      C      D  SUMM_STD  ANDE   \n1      1659  12/31/2010   2010   INDL      C      D       STD  ANDE   \n2      1659  12/31/2011   2011   INDL      C      D  SUMM_STD  ANDE   \n3      1659  12/31/2011   2011   INDL      C      D       STD  ANDE   \n4      1659  12/31/2012   2012   INDL      C      D  SUMM_STD  ANDE   \n..      ...         ...    ...    ...    ...    ...       ...   ...   \n277   66073  12/31/2010   2010   INDL      C      D       STD  PHLI   \n278   66073  12/31/2011   2011   INDL      C      D  SUMM_STD  PHLI   \n279  277487   6/30/2011   2011   INDL      C      D       STD   LND   \n280  277487   6/30/2012   2012   INDL      C      D       STD   LND   \n281  277487   6/30/2013   2013   INDL      C      D       STD   LND   \n\n                            conm acctstd  ...            phone  priusa   sic  \\\n0                  ANDERSONS INC     NaN  ...     419-893-5050       1  5150   \n1                  ANDERSONS INC      DS  ...     419-893-5050       1  5150   \n2                  ANDERSONS INC     NaN  ...     419-893-5050       1  5150   \n3                  ANDERSONS INC      DS  ...     419-893-5050       1  5150   \n4                  ANDERSONS INC     NaN  ...     419-893-5050       1  5150   \n..                           ...     ...  ...              ...     ...   ...   \n277   PACIFICHEALTH LABORATORIES      DS  ...     732-739-2900       1  2833   \n278   PACIFICHEALTH LABORATORIES     NaN  ...     732-739-2900       1  2833   \n279  BRASILAGRO CIA BRAS DE PROP      DI  ...  55 11 3035 5350      90   100   \n280  BRASILAGRO CIA BRAS DE PROP      DI  ...  55 11 3035 5350      90   100   \n281  BRASILAGRO CIA BRAS DE PROP      DI  ...  55 11 3035 5350      90   100   \n\n    spcindcd  spcseccd spcsrc  state  stko                     weburl  \\\n0      112.0     970.0     A-     OH     0       www.andersonsinc.com   \n1      112.0     970.0     A-     OH     0       www.andersonsinc.com   \n2      112.0     970.0     A-     OH     0       www.andersonsinc.com   \n3      112.0     970.0     A-     OH     0       www.andersonsinc.com   \n4      112.0     970.0     A-     OH     0       www.andersonsinc.com   \n..       ...       ...    ...    ...   ...                        ...   \n277    280.0     905.0      C     NJ     3  www.pacifichealthlabs.com   \n278    280.0     905.0      C     NJ     3  www.pacifichealthlabs.com   \n279      NaN       NaN    NaN    NaN     0        www.brasil-agro.com   \n280      NaN       NaN    NaN    NaN     0        www.brasil-agro.com   \n281      NaN       NaN    NaN    NaN     0        www.brasil-agro.com   \n\n        ipodate  \n0           NaN  \n1           NaN  \n2           NaN  \n3           NaN  \n4           NaN  \n..          ...  \n277  12/19/1997  \n278  12/19/1997  \n279    5/2/2006  \n280    5/2/2006  \n281    5/2/2006  \n\n[282 rows x 420 columns]",
      "text/html": "<div>\n<style scoped>\n    .dataframe tbody tr th:only-of-type {\n        vertical-align: middle;\n    }\n\n    .dataframe tbody tr th {\n        vertical-align: top;\n    }\n\n    .dataframe thead th {\n        text-align: right;\n    }\n</style>\n<table border=\"1\" class=\"dataframe\">\n  <thead>\n    <tr style=\"text-align: right;\">\n      <th></th>\n      <th>gvkey</th>\n      <th>datadate</th>\n      <th>fyear</th>\n      <th>indfmt</th>\n      <th>consol</th>\n      <th>popsrc</th>\n      <th>datafmt</th>\n      <th>tic</th>\n      <th>conm</th>\n      <th>acctstd</th>\n      <th>...</th>\n      <th>phone</th>\n      <th>priusa</th>\n      <th>sic</th>\n      <th>spcindcd</th>\n      <th>spcseccd</th>\n      <th>spcsrc</th>\n      <th>state</th>\n      <th>stko</th>\n      <th>weburl</th>\n      <th>ipodate</th>\n    </tr>\n  </thead>\n  <tbody>\n    <tr>\n      <th>0</th>\n      <td>1659</td>\n      <td>12/31/2010</td>\n      <td>2010</td>\n      <td>INDL</td>\n      <td>C</td>\n      <td>D</td>\n      <td>SUMM_STD</td>\n      <td>ANDE</td>\n      <td>ANDERSONS INC</td>\n      <td>NaN</td>\n      <td>...</td>\n      <td>419-893-5050</td>\n      <td>1</td>\n      <td>5150</td>\n      <td>112.0</td>\n      <td>970.0</td>\n      <td>A-</td>\n      <td>OH</td>\n      <td>0</td>\n      <td>www.andersonsinc.com</td>\n      <td>NaN</td>\n    </tr>\n    <tr>\n      <th>1</th>\n      <td>1659</td>\n      <td>12/31/2010</td>\n      <td>2010</td>\n      <td>INDL</td>\n      <td>C</td>\n      <td>D</td>\n      <td>STD</td>\n      <td>ANDE</td>\n      <td>ANDERSONS INC</td>\n      <td>DS</td>\n      <td>...</td>\n      <td>419-893-5050</td>\n      <td>1</td>\n      <td>5150</td>\n      <td>112.0</td>\n      <td>970.0</td>\n      <td>A-</td>\n      <td>OH</td>\n      <td>0</td>\n      <td>www.andersonsinc.com</td>\n      <td>NaN</td>\n    </tr>\n    <tr>\n      <th>2</th>\n      <td>1659</td>\n      <td>12/31/2011</td>\n      <td>2011</td>\n      <td>INDL</td>\n      <td>C</td>\n      <td>D</td>\n      <td>SUMM_STD</td>\n      <td>ANDE</td>\n      <td>ANDERSONS INC</td>\n      <td>NaN</td>\n      <td>...</td>\n      <td>419-893-5050</td>\n      <td>1</td>\n      <td>5150</td>\n      <td>112.0</td>\n      <td>970.0</td>\n      <td>A-</td>\n      <td>OH</td>\n      <td>0</td>\n      <td>www.andersonsinc.com</td>\n      <td>NaN</td>\n    </tr>\n    <tr>\n      <th>3</th>\n      <td>1659</td>\n      <td>12/31/2011</td>\n      <td>2011</td>\n      <td>INDL</td>\n      <td>C</td>\n      <td>D</td>\n      <td>STD</td>\n      <td>ANDE</td>\n      <td>ANDERSONS INC</td>\n      <td>DS</td>\n      <td>...</td>\n      <td>419-893-5050</td>\n      <td>1</td>\n      <td>5150</td>\n      <td>112.0</td>\n      <td>970.0</td>\n      <td>A-</td>\n      <td>OH</td>\n      <td>0</td>\n      <td>www.andersonsinc.com</td>\n      <td>NaN</td>\n    </tr>\n    <tr>\n      <th>4</th>\n      <td>1659</td>\n      <td>12/31/2012</td>\n      <td>2012</td>\n      <td>INDL</td>\n      <td>C</td>\n      <td>D</td>\n      <td>SUMM_STD</td>\n      <td>ANDE</td>\n      <td>ANDERSONS INC</td>\n      <td>NaN</td>\n      <td>...</td>\n      <td>419-893-5050</td>\n      <td>1</td>\n      <td>5150</td>\n      <td>112.0</td>\n      <td>970.0</td>\n      <td>A-</td>\n      <td>OH</td>\n      <td>0</td>\n      <td>www.andersonsinc.com</td>\n      <td>NaN</td>\n    </tr>\n    <tr>\n      <th>...</th>\n      <td>...</td>\n      <td>...</td>\n      <td>...</td>\n      <td>...</td>\n      <td>...</td>\n      <td>...</td>\n      <td>...</td>\n      <td>...</td>\n      <td>...</td>\n      <td>...</td>\n      <td>...</td>\n      <td>...</td>\n      <td>...</td>\n      <td>...</td>\n      <td>...</td>\n      <td>...</td>\n      <td>...</td>\n      <td>...</td>\n      <td>...</td>\n      <td>...</td>\n      <td>...</td>\n    </tr>\n    <tr>\n      <th>277</th>\n      <td>66073</td>\n      <td>12/31/2010</td>\n      <td>2010</td>\n      <td>INDL</td>\n      <td>C</td>\n      <td>D</td>\n      <td>STD</td>\n      <td>PHLI</td>\n      <td>PACIFICHEALTH LABORATORIES</td>\n      <td>DS</td>\n      <td>...</td>\n      <td>732-739-2900</td>\n      <td>1</td>\n      <td>2833</td>\n      <td>280.0</td>\n      <td>905.0</td>\n      <td>C</td>\n      <td>NJ</td>\n      <td>3</td>\n      <td>www.pacifichealthlabs.com</td>\n      <td>12/19/1997</td>\n    </tr>\n    <tr>\n      <th>278</th>\n      <td>66073</td>\n      <td>12/31/2011</td>\n      <td>2011</td>\n      <td>INDL</td>\n      <td>C</td>\n      <td>D</td>\n      <td>SUMM_STD</td>\n      <td>PHLI</td>\n      <td>PACIFICHEALTH LABORATORIES</td>\n      <td>NaN</td>\n      <td>...</td>\n      <td>732-739-2900</td>\n      <td>1</td>\n      <td>2833</td>\n      <td>280.0</td>\n      <td>905.0</td>\n      <td>C</td>\n      <td>NJ</td>\n      <td>3</td>\n      <td>www.pacifichealthlabs.com</td>\n      <td>12/19/1997</td>\n    </tr>\n    <tr>\n      <th>279</th>\n      <td>277487</td>\n      <td>6/30/2011</td>\n      <td>2011</td>\n      <td>INDL</td>\n      <td>C</td>\n      <td>D</td>\n      <td>STD</td>\n      <td>LND</td>\n      <td>BRASILAGRO CIA BRAS DE PROP</td>\n      <td>DI</td>\n      <td>...</td>\n      <td>55 11 3035 5350</td>\n      <td>90</td>\n      <td>100</td>\n      <td>NaN</td>\n      <td>NaN</td>\n      <td>NaN</td>\n      <td>NaN</td>\n      <td>0</td>\n      <td>www.brasil-agro.com</td>\n      <td>5/2/2006</td>\n    </tr>\n    <tr>\n      <th>280</th>\n      <td>277487</td>\n      <td>6/30/2012</td>\n      <td>2012</td>\n      <td>INDL</td>\n      <td>C</td>\n      <td>D</td>\n      <td>STD</td>\n      <td>LND</td>\n      <td>BRASILAGRO CIA BRAS DE PROP</td>\n      <td>DI</td>\n      <td>...</td>\n      <td>55 11 3035 5350</td>\n      <td>90</td>\n      <td>100</td>\n      <td>NaN</td>\n      <td>NaN</td>\n      <td>NaN</td>\n      <td>NaN</td>\n      <td>0</td>\n      <td>www.brasil-agro.com</td>\n      <td>5/2/2006</td>\n    </tr>\n    <tr>\n      <th>281</th>\n      <td>277487</td>\n      <td>6/30/2013</td>\n      <td>2013</td>\n      <td>INDL</td>\n      <td>C</td>\n      <td>D</td>\n      <td>STD</td>\n      <td>LND</td>\n      <td>BRASILAGRO CIA BRAS DE PROP</td>\n      <td>DI</td>\n      <td>...</td>\n      <td>55 11 3035 5350</td>\n      <td>90</td>\n      <td>100</td>\n      <td>NaN</td>\n      <td>NaN</td>\n      <td>NaN</td>\n      <td>NaN</td>\n      <td>0</td>\n      <td>www.brasil-agro.com</td>\n      <td>5/2/2006</td>\n    </tr>\n  </tbody>\n</table>\n<p>282 rows × 420 columns</p>\n</div>"
     },
     "execution_count": 211,
     "metadata": {},
     "output_type": "execute_result"
    }
   ],
   "source": [
    "# Initial Column Reduce -- Drop Obvious -- Nulls\n",
    "# Initial Null Drop -- More than 75% -- Will Re-Run w/ lower threshold after rows combined\n",
    "fundamentals = dropCols_nullThresh(fundamentals,0.75)\n",
    "fundamentals"
   ],
   "metadata": {
    "collapsed": false,
    "pycharm": {
     "name": "#%%\n"
    }
   }
  },
  {
   "cell_type": "code",
   "execution_count": 212,
   "outputs": [
    {
     "name": "stdout",
     "output_type": "stream",
     "text": [
      "Count of Variables: 420\n",
      "Count of Variables without nulls: 35\n",
      "Count of Variables with null : 385\n"
     ]
    },
    {
     "data": {
      "text/plain": "       Variable Observations Nulls  Null_Per Num_Unique     Type\n218     optfvgr          282   208    73.759         73  float64\n289       tfvce          282   208    73.759          2  float64\n380  oprepsx_fn          282   206    73.050          3   object\n225    optprcex          282   203    71.986         78  float64\n233        pifo          282   203    71.986         79  float64\n..          ...          ...   ...       ...        ...      ...\n273       reuna          282     1     0.355        155  float64\n157       ibmii          282     1     0.355        171  float64\n276         seq          282     1     0.355        155  float64\n275        sale          282     1     0.355        179  float64\n287         teq          282     1     0.355        153  float64\n\n[385 rows x 6 columns]",
      "text/html": "<div>\n<style scoped>\n    .dataframe tbody tr th:only-of-type {\n        vertical-align: middle;\n    }\n\n    .dataframe tbody tr th {\n        vertical-align: top;\n    }\n\n    .dataframe thead th {\n        text-align: right;\n    }\n</style>\n<table border=\"1\" class=\"dataframe\">\n  <thead>\n    <tr style=\"text-align: right;\">\n      <th></th>\n      <th>Variable</th>\n      <th>Observations</th>\n      <th>Nulls</th>\n      <th>Null_Per</th>\n      <th>Num_Unique</th>\n      <th>Type</th>\n    </tr>\n  </thead>\n  <tbody>\n    <tr>\n      <th>218</th>\n      <td>optfvgr</td>\n      <td>282</td>\n      <td>208</td>\n      <td>73.759</td>\n      <td>73</td>\n      <td>float64</td>\n    </tr>\n    <tr>\n      <th>289</th>\n      <td>tfvce</td>\n      <td>282</td>\n      <td>208</td>\n      <td>73.759</td>\n      <td>2</td>\n      <td>float64</td>\n    </tr>\n    <tr>\n      <th>380</th>\n      <td>oprepsx_fn</td>\n      <td>282</td>\n      <td>206</td>\n      <td>73.050</td>\n      <td>3</td>\n      <td>object</td>\n    </tr>\n    <tr>\n      <th>225</th>\n      <td>optprcex</td>\n      <td>282</td>\n      <td>203</td>\n      <td>71.986</td>\n      <td>78</td>\n      <td>float64</td>\n    </tr>\n    <tr>\n      <th>233</th>\n      <td>pifo</td>\n      <td>282</td>\n      <td>203</td>\n      <td>71.986</td>\n      <td>79</td>\n      <td>float64</td>\n    </tr>\n    <tr>\n      <th>...</th>\n      <td>...</td>\n      <td>...</td>\n      <td>...</td>\n      <td>...</td>\n      <td>...</td>\n      <td>...</td>\n    </tr>\n    <tr>\n      <th>273</th>\n      <td>reuna</td>\n      <td>282</td>\n      <td>1</td>\n      <td>0.355</td>\n      <td>155</td>\n      <td>float64</td>\n    </tr>\n    <tr>\n      <th>157</th>\n      <td>ibmii</td>\n      <td>282</td>\n      <td>1</td>\n      <td>0.355</td>\n      <td>171</td>\n      <td>float64</td>\n    </tr>\n    <tr>\n      <th>276</th>\n      <td>seq</td>\n      <td>282</td>\n      <td>1</td>\n      <td>0.355</td>\n      <td>155</td>\n      <td>float64</td>\n    </tr>\n    <tr>\n      <th>275</th>\n      <td>sale</td>\n      <td>282</td>\n      <td>1</td>\n      <td>0.355</td>\n      <td>179</td>\n      <td>float64</td>\n    </tr>\n    <tr>\n      <th>287</th>\n      <td>teq</td>\n      <td>282</td>\n      <td>1</td>\n      <td>0.355</td>\n      <td>153</td>\n      <td>float64</td>\n    </tr>\n  </tbody>\n</table>\n<p>385 rows × 6 columns</p>\n</div>"
     },
     "execution_count": 212,
     "metadata": {},
     "output_type": "execute_result"
    }
   ],
   "source": [
    "# Initial Column Reduce -- Drop Obvious -- Nulls\n",
    "# Re-Run Null Report\n",
    "fundamentals_nullReport = nullAnalysis(fundamentals)\n",
    "fundamentals_nullReport"
   ],
   "metadata": {
    "collapsed": false,
    "pycharm": {
     "name": "#%%\n"
    }
   }
  },
  {
   "cell_type": "code",
   "execution_count": 213,
   "outputs": [
    {
     "data": {
      "text/plain": "gvkey       39\ndatadate    35\nfyear        5\nindfmt       1\nconsol       1\n            ..\nspcsrc       8\nstate       15\nstko         3\nweburl      39\nipodate     12\nLength: 420, dtype: int64"
     },
     "execution_count": 213,
     "metadata": {},
     "output_type": "execute_result"
    }
   ],
   "source": [
    "# Initial Column Reduce -- Drop Obvious -- Cols w/ 1 Value\n",
    "\n",
    "fundamentals.nunique()"
   ],
   "metadata": {
    "collapsed": false,
    "pycharm": {
     "name": "#%%\n"
    }
   }
  },
  {
   "cell_type": "code",
   "execution_count": 214,
   "outputs": [
    {
     "data": {
      "text/plain": "INDL    282\nName: indfmt, dtype: int64"
     },
     "execution_count": 214,
     "metadata": {},
     "output_type": "execute_result"
    }
   ],
   "source": [
    "fundamentals['indfmt'].value_counts()"
   ],
   "metadata": {
    "collapsed": false,
    "pycharm": {
     "name": "#%%\n"
    }
   }
  },
  {
   "cell_type": "code",
   "execution_count": 215,
   "outputs": [
    {
     "name": "stdout",
     "output_type": "stream",
     "text": [
      "dropped: 42\n",
      "columns that where dropped where: ['indfmt', 'consol', 'popsrc', 'curcd', 'final', 'ltcm', 'pddur', 'scf', 'upd', 'acchg', 'aldo', 'aocisecgl', 'drlt', 'esopdlt', 'esopnr', 'esopr', 'esopt', 'itcb', 'mib', 'rdip', 'rdipa', 'rdipd', 'rdipeps', 'tstkp', 'xi', 'xintopt', 'xoptd', 'xopteps', 'rank', 'cogs_fn', 'pncad_fn', 'pncaeps_fn', 'pnca_fn', 'pncwia_fn', 'pncwid_fn', 'pncwieps_fn', 'rdipa_fn', 'rdipd_fn', 'rdipeps_fn', 'spce_fn', 'stkco_fn', 'gsector']\n"
     ]
    },
    {
     "data": {
      "text/plain": "      gvkey    datadate  fyear   datafmt   tic                         conm  \\\n0      1659  12/31/2010   2010  SUMM_STD  ANDE                ANDERSONS INC   \n1      1659  12/31/2010   2010       STD  ANDE                ANDERSONS INC   \n2      1659  12/31/2011   2011  SUMM_STD  ANDE                ANDERSONS INC   \n3      1659  12/31/2011   2011       STD  ANDE                ANDERSONS INC   \n4      1659  12/31/2012   2012  SUMM_STD  ANDE                ANDERSONS INC   \n..      ...         ...    ...       ...   ...                          ...   \n277   66073  12/31/2010   2010       STD  PHLI   PACIFICHEALTH LABORATORIES   \n278   66073  12/31/2011   2011  SUMM_STD  PHLI   PACIFICHEALTH LABORATORIES   \n279  277487   6/30/2011   2011       STD   LND  BRASILAGRO CIA BRAS DE PROP   \n280  277487   6/30/2012   2012       STD   LND  BRASILAGRO CIA BRAS DE PROP   \n281  277487   6/30/2013   2013       STD   LND  BRASILAGRO CIA BRAS DE PROP   \n\n    acctstd  ajex  ajp curncd  ...            phone  priusa   sic  spcindcd  \\\n0       NaN   NaN  NaN    NaN  ...     419-893-5050       1  5150     112.0   \n1        DS   1.5  1.5    USD  ...     419-893-5050       1  5150     112.0   \n2       NaN   NaN  NaN    NaN  ...     419-893-5050       1  5150     112.0   \n3        DS   1.5  1.5    USD  ...     419-893-5050       1  5150     112.0   \n4       NaN   NaN  NaN    NaN  ...     419-893-5050       1  5150     112.0   \n..      ...   ...  ...    ...  ...              ...     ...   ...       ...   \n277      DS   1.0  1.0    USD  ...     732-739-2900       1  2833     280.0   \n278     NaN   NaN  NaN    NaN  ...     732-739-2900       1  2833     280.0   \n279      DI   1.0  1.0    BRR  ...  55 11 3035 5350      90   100       NaN   \n280      DI   1.0  1.0    BRR  ...  55 11 3035 5350      90   100       NaN   \n281      DI   1.0  1.0    BRR  ...  55 11 3035 5350      90   100       NaN   \n\n    spcseccd spcsrc  state  stko                     weburl     ipodate  \n0      970.0     A-     OH     0       www.andersonsinc.com         NaN  \n1      970.0     A-     OH     0       www.andersonsinc.com         NaN  \n2      970.0     A-     OH     0       www.andersonsinc.com         NaN  \n3      970.0     A-     OH     0       www.andersonsinc.com         NaN  \n4      970.0     A-     OH     0       www.andersonsinc.com         NaN  \n..       ...    ...    ...   ...                        ...         ...  \n277    905.0      C     NJ     3  www.pacifichealthlabs.com  12/19/1997  \n278    905.0      C     NJ     3  www.pacifichealthlabs.com  12/19/1997  \n279      NaN    NaN    NaN     0        www.brasil-agro.com    5/2/2006  \n280      NaN    NaN    NaN     0        www.brasil-agro.com    5/2/2006  \n281      NaN    NaN    NaN     0        www.brasil-agro.com    5/2/2006  \n\n[282 rows x 378 columns]",
      "text/html": "<div>\n<style scoped>\n    .dataframe tbody tr th:only-of-type {\n        vertical-align: middle;\n    }\n\n    .dataframe tbody tr th {\n        vertical-align: top;\n    }\n\n    .dataframe thead th {\n        text-align: right;\n    }\n</style>\n<table border=\"1\" class=\"dataframe\">\n  <thead>\n    <tr style=\"text-align: right;\">\n      <th></th>\n      <th>gvkey</th>\n      <th>datadate</th>\n      <th>fyear</th>\n      <th>datafmt</th>\n      <th>tic</th>\n      <th>conm</th>\n      <th>acctstd</th>\n      <th>ajex</th>\n      <th>ajp</th>\n      <th>curncd</th>\n      <th>...</th>\n      <th>phone</th>\n      <th>priusa</th>\n      <th>sic</th>\n      <th>spcindcd</th>\n      <th>spcseccd</th>\n      <th>spcsrc</th>\n      <th>state</th>\n      <th>stko</th>\n      <th>weburl</th>\n      <th>ipodate</th>\n    </tr>\n  </thead>\n  <tbody>\n    <tr>\n      <th>0</th>\n      <td>1659</td>\n      <td>12/31/2010</td>\n      <td>2010</td>\n      <td>SUMM_STD</td>\n      <td>ANDE</td>\n      <td>ANDERSONS INC</td>\n      <td>NaN</td>\n      <td>NaN</td>\n      <td>NaN</td>\n      <td>NaN</td>\n      <td>...</td>\n      <td>419-893-5050</td>\n      <td>1</td>\n      <td>5150</td>\n      <td>112.0</td>\n      <td>970.0</td>\n      <td>A-</td>\n      <td>OH</td>\n      <td>0</td>\n      <td>www.andersonsinc.com</td>\n      <td>NaN</td>\n    </tr>\n    <tr>\n      <th>1</th>\n      <td>1659</td>\n      <td>12/31/2010</td>\n      <td>2010</td>\n      <td>STD</td>\n      <td>ANDE</td>\n      <td>ANDERSONS INC</td>\n      <td>DS</td>\n      <td>1.5</td>\n      <td>1.5</td>\n      <td>USD</td>\n      <td>...</td>\n      <td>419-893-5050</td>\n      <td>1</td>\n      <td>5150</td>\n      <td>112.0</td>\n      <td>970.0</td>\n      <td>A-</td>\n      <td>OH</td>\n      <td>0</td>\n      <td>www.andersonsinc.com</td>\n      <td>NaN</td>\n    </tr>\n    <tr>\n      <th>2</th>\n      <td>1659</td>\n      <td>12/31/2011</td>\n      <td>2011</td>\n      <td>SUMM_STD</td>\n      <td>ANDE</td>\n      <td>ANDERSONS INC</td>\n      <td>NaN</td>\n      <td>NaN</td>\n      <td>NaN</td>\n      <td>NaN</td>\n      <td>...</td>\n      <td>419-893-5050</td>\n      <td>1</td>\n      <td>5150</td>\n      <td>112.0</td>\n      <td>970.0</td>\n      <td>A-</td>\n      <td>OH</td>\n      <td>0</td>\n      <td>www.andersonsinc.com</td>\n      <td>NaN</td>\n    </tr>\n    <tr>\n      <th>3</th>\n      <td>1659</td>\n      <td>12/31/2011</td>\n      <td>2011</td>\n      <td>STD</td>\n      <td>ANDE</td>\n      <td>ANDERSONS INC</td>\n      <td>DS</td>\n      <td>1.5</td>\n      <td>1.5</td>\n      <td>USD</td>\n      <td>...</td>\n      <td>419-893-5050</td>\n      <td>1</td>\n      <td>5150</td>\n      <td>112.0</td>\n      <td>970.0</td>\n      <td>A-</td>\n      <td>OH</td>\n      <td>0</td>\n      <td>www.andersonsinc.com</td>\n      <td>NaN</td>\n    </tr>\n    <tr>\n      <th>4</th>\n      <td>1659</td>\n      <td>12/31/2012</td>\n      <td>2012</td>\n      <td>SUMM_STD</td>\n      <td>ANDE</td>\n      <td>ANDERSONS INC</td>\n      <td>NaN</td>\n      <td>NaN</td>\n      <td>NaN</td>\n      <td>NaN</td>\n      <td>...</td>\n      <td>419-893-5050</td>\n      <td>1</td>\n      <td>5150</td>\n      <td>112.0</td>\n      <td>970.0</td>\n      <td>A-</td>\n      <td>OH</td>\n      <td>0</td>\n      <td>www.andersonsinc.com</td>\n      <td>NaN</td>\n    </tr>\n    <tr>\n      <th>...</th>\n      <td>...</td>\n      <td>...</td>\n      <td>...</td>\n      <td>...</td>\n      <td>...</td>\n      <td>...</td>\n      <td>...</td>\n      <td>...</td>\n      <td>...</td>\n      <td>...</td>\n      <td>...</td>\n      <td>...</td>\n      <td>...</td>\n      <td>...</td>\n      <td>...</td>\n      <td>...</td>\n      <td>...</td>\n      <td>...</td>\n      <td>...</td>\n      <td>...</td>\n      <td>...</td>\n    </tr>\n    <tr>\n      <th>277</th>\n      <td>66073</td>\n      <td>12/31/2010</td>\n      <td>2010</td>\n      <td>STD</td>\n      <td>PHLI</td>\n      <td>PACIFICHEALTH LABORATORIES</td>\n      <td>DS</td>\n      <td>1.0</td>\n      <td>1.0</td>\n      <td>USD</td>\n      <td>...</td>\n      <td>732-739-2900</td>\n      <td>1</td>\n      <td>2833</td>\n      <td>280.0</td>\n      <td>905.0</td>\n      <td>C</td>\n      <td>NJ</td>\n      <td>3</td>\n      <td>www.pacifichealthlabs.com</td>\n      <td>12/19/1997</td>\n    </tr>\n    <tr>\n      <th>278</th>\n      <td>66073</td>\n      <td>12/31/2011</td>\n      <td>2011</td>\n      <td>SUMM_STD</td>\n      <td>PHLI</td>\n      <td>PACIFICHEALTH LABORATORIES</td>\n      <td>NaN</td>\n      <td>NaN</td>\n      <td>NaN</td>\n      <td>NaN</td>\n      <td>...</td>\n      <td>732-739-2900</td>\n      <td>1</td>\n      <td>2833</td>\n      <td>280.0</td>\n      <td>905.0</td>\n      <td>C</td>\n      <td>NJ</td>\n      <td>3</td>\n      <td>www.pacifichealthlabs.com</td>\n      <td>12/19/1997</td>\n    </tr>\n    <tr>\n      <th>279</th>\n      <td>277487</td>\n      <td>6/30/2011</td>\n      <td>2011</td>\n      <td>STD</td>\n      <td>LND</td>\n      <td>BRASILAGRO CIA BRAS DE PROP</td>\n      <td>DI</td>\n      <td>1.0</td>\n      <td>1.0</td>\n      <td>BRR</td>\n      <td>...</td>\n      <td>55 11 3035 5350</td>\n      <td>90</td>\n      <td>100</td>\n      <td>NaN</td>\n      <td>NaN</td>\n      <td>NaN</td>\n      <td>NaN</td>\n      <td>0</td>\n      <td>www.brasil-agro.com</td>\n      <td>5/2/2006</td>\n    </tr>\n    <tr>\n      <th>280</th>\n      <td>277487</td>\n      <td>6/30/2012</td>\n      <td>2012</td>\n      <td>STD</td>\n      <td>LND</td>\n      <td>BRASILAGRO CIA BRAS DE PROP</td>\n      <td>DI</td>\n      <td>1.0</td>\n      <td>1.0</td>\n      <td>BRR</td>\n      <td>...</td>\n      <td>55 11 3035 5350</td>\n      <td>90</td>\n      <td>100</td>\n      <td>NaN</td>\n      <td>NaN</td>\n      <td>NaN</td>\n      <td>NaN</td>\n      <td>0</td>\n      <td>www.brasil-agro.com</td>\n      <td>5/2/2006</td>\n    </tr>\n    <tr>\n      <th>281</th>\n      <td>277487</td>\n      <td>6/30/2013</td>\n      <td>2013</td>\n      <td>STD</td>\n      <td>LND</td>\n      <td>BRASILAGRO CIA BRAS DE PROP</td>\n      <td>DI</td>\n      <td>1.0</td>\n      <td>1.0</td>\n      <td>BRR</td>\n      <td>...</td>\n      <td>55 11 3035 5350</td>\n      <td>90</td>\n      <td>100</td>\n      <td>NaN</td>\n      <td>NaN</td>\n      <td>NaN</td>\n      <td>NaN</td>\n      <td>0</td>\n      <td>www.brasil-agro.com</td>\n      <td>5/2/2006</td>\n    </tr>\n  </tbody>\n</table>\n<p>282 rows × 378 columns</p>\n</div>"
     },
     "execution_count": 215,
     "metadata": {},
     "output_type": "execute_result"
    }
   ],
   "source": [
    "fundamentals = dropCols_uniqueThresh(fundamentals,1)\n",
    "fundamentals\n",
    "\n"
   ],
   "metadata": {
    "collapsed": false,
    "pycharm": {
     "name": "#%%\n"
    }
   }
  }
 ],
 "metadata": {
  "kernelspec": {
   "name": "python3",
   "language": "python",
   "display_name": "Python 3 (ipykernel)"
  },
  "language_info": {
   "codemirror_mode": {
    "name": "ipython",
    "version": 2
   },
   "file_extension": ".py",
   "mimetype": "text/x-python",
   "name": "python",
   "nbconvert_exporter": "python",
   "pygments_lexer": "ipython2",
   "version": "2.7.6"
  }
 },
 "nbformat": 4,
 "nbformat_minor": 0
}