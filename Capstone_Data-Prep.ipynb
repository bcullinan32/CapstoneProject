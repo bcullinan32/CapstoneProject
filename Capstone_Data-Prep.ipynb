{
 "cells": [
  {
   "cell_type": "markdown",
   "metadata": {
    "collapsed": true,
    "pycharm": {
     "name": "#%% md\n"
    }
   },
   "source": [
    "# Intro\n",
    "\n",
    "This is the main notebook for the Capstone Project course"
   ]
  },
  {
   "cell_type": "code",
   "execution_count": 864,
   "outputs": [],
   "source": [
    "# Standard Libraries\n",
    "import pandas as pd\n",
    "import numpy as np\n",
    "import os\n",
    "import warnings\n",
    "import json\n",
    "\n",
    "# Plotting Libraries\n",
    "import matplotlib.pyplot as plt\n",
    "import seaborn as sns\n",
    "\n",
    "#sklearn\n",
    "from sklearn.preprocessing import OrdinalEncoder\n",
    "\n",
    "# set Theme\n",
    "plt.style.use('seaborn')\n",
    "sns.set_theme(style=\"whitegrid\")\n",
    "warnings.filterwarnings('ignore')"
   ],
   "metadata": {
    "collapsed": false,
    "pycharm": {
     "name": "#%%\n"
    }
   }
  },
  {
   "cell_type": "code",
   "execution_count": 865,
   "outputs": [
    {
     "name": "stdout",
     "output_type": "stream",
     "text": [
      "Source Data: C:/Users/TheCu/OneDrive/Documents/Grad-School-Docs/CapstoneProject/SourceData/\n",
      "Exports: C:\\Users\\TheCu\\OneDrive\\Documents\\Grad-School-Docs\\CapstoneProject\\Repo\\Export\\\n",
      "Trimmed CSV: C:\\Users\\TheCu\\OneDrive\\Documents\\Grad-School-Docs\\CapstoneProject\\Repo\\SourceData\\\n",
      "Clean Data Export CSV: C:\\Users\\TheCu\\OneDrive\\Documents\\Grad-School-Docs\\CapstoneProject\\Repo\\CleanData\\\n"
     ]
    }
   ],
   "source": [
    "# Set Paths\n",
    "path = os.getcwd()\n",
    "sourceDataPath = 'C:/Users/TheCu/OneDrive/Documents/Grad-School-Docs/CapstoneProject/SourceData/'\n",
    "exportPath = path +'\\\\Export\\\\'\n",
    "trimmedCSVPath = path +'\\\\SourceData\\\\'\n",
    "cleanDataPath = path + '\\\\CleanData\\\\'\n",
    "\n",
    "print(f\"Source Data:\",sourceDataPath)\n",
    "print(f\"Exports:\",exportPath)\n",
    "print(f\"Trimmed CSV:\",trimmedCSVPath)\n",
    "print(f\"Clean Data Export CSV:\",cleanDataPath)"
   ],
   "metadata": {
    "collapsed": false,
    "pycharm": {
     "name": "#%%\n"
    }
   }
  },
  {
   "cell_type": "markdown",
   "source": [
    "# Resuable Functions"
   ],
   "metadata": {
    "collapsed": false,
    "pycharm": {
     "name": "#%% md\n"
    }
   }
  },
  {
   "cell_type": "code",
   "execution_count": 866,
   "outputs": [],
   "source": [
    "# Create Large CSV Trim Function\n",
    "\n",
    "def largeCSVTrim(largeCSVPath, CSVName, trimQuery):\n",
    "    tempDF = pd.read_csv(largeCSVPath+CSVName)\n",
    "    df = pd.concat((x.query(trimQuery) for x in tempDF), ignore_index=True)\n",
    "    return df"
   ],
   "metadata": {
    "collapsed": false,
    "pycharm": {
     "name": "#%%\n"
    }
   }
  },
  {
   "cell_type": "code",
   "execution_count": 867,
   "outputs": [],
   "source": [
    "# Takes a DF and Producecs a Report of Null Values\n",
    "def nullAnalysis(df):\n",
    "    row = []\n",
    "    null_summaryDF = pd.DataFrame(columns = [\"Variable\",\"Observations\",\"Nulls\",\"Null_Per\",\"Num_Unique\",\"Type\"])\n",
    "    for column in df:\n",
    "        var = column\n",
    "        countOfObs = len(df[var])\n",
    "        countOfNull = df[var].isnull().sum()\n",
    "        perOfNull = round((100 * countOfNull) / countOfObs,3)\n",
    "        numUnique = df[var].nunique()\n",
    "        type  = df[var].dtypes\n",
    "        # Append to Summary DF\n",
    "        row = [var, countOfObs,countOfNull,perOfNull,numUnique,type]\n",
    "        df_length = len(null_summaryDF)\n",
    "        null_summaryDF.loc[df_length] = row\n",
    "    # Get Summary Stats\n",
    "    countofVars = len(null_summaryDF)\n",
    "    countofNotNull = (null_summaryDF['Nulls'] == 0).sum()\n",
    "    countofNull = (null_summaryDF['Nulls'] != 0).sum()\n",
    "    print(f\"Count of Variables:\",countofVars)\n",
    "    print(f\"Count of Variables without nulls:\",countofNotNull)\n",
    "    print(f\"Count of Variables with null :\",countofNull)\n",
    "    # Format Summary\n",
    "    summaryDF = null_summaryDF[null_summaryDF['Nulls'] != 0].sort_values(by=['Nulls'],ascending=False)\n",
    "    return summaryDF"
   ],
   "metadata": {
    "collapsed": false,
    "pycharm": {
     "name": "#%%\n"
    }
   }
  },
  {
   "cell_type": "code",
   "execution_count": 868,
   "outputs": [],
   "source": [
    "#statRow = []\n",
    "cleanActionsDF = pd.DataFrame(columns = ['DF','ActionDesc','List-of-Cols','ResultShape'])\n",
    "\n",
    "def cleanActionsReport (df,df_name,actionDesc, cols):\n",
    "    # Collect Stats\n",
    "    row =[]\n",
    "    actionDesc = actionDesc\n",
    "    listCols = cols\n",
    "    resultShape = df.shape\n",
    "    # Collect Results\n",
    "    row = [df_name,actionDesc, listCols, resultShape]\n",
    "    # append stats to Summary Stats DF\n",
    "    df = cleanActionsDF\n",
    "    df_length = len(df)\n",
    "    df.loc[df_length] = row\n",
    "    return df"
   ],
   "metadata": {
    "collapsed": false,
    "pycharm": {
     "name": "#%%\n"
    }
   }
  },
  {
   "cell_type": "code",
   "execution_count": 869,
   "outputs": [],
   "source": [
    "# Dropping Missing Values over 30% -- Will print out a table that shows what variables are dropped\n",
    "def dropCols_nullThresh(df,thresh,df_name,actionDesc):\n",
    "    thresh = 1-thresh\n",
    "    column_names_before = df.columns.to_list()\n",
    "    before = df.shape[1]\n",
    "    df = df.dropna(thresh=df.shape[0]*thresh,how='all',axis=1)\n",
    "    after = df.shape[1]\n",
    "    column_names_after = df.columns.to_list()\n",
    "    columns_dropped = []\n",
    "    for i in column_names_before:\n",
    "        if i not in column_names_after:\n",
    "            columns_dropped.append(i)\n",
    "    total_dropped = before - after\n",
    "    df = df\n",
    "    print(f\"dropped: {total_dropped}\")\n",
    "    print(f\"columns that where dropped where: {columns_dropped}\")\n",
    "    # record actions in summary report\n",
    "    cleanActionsReport(df,df_name,actionDesc,columns_dropped)\n",
    "    return df"
   ],
   "metadata": {
    "collapsed": false,
    "pycharm": {
     "name": "#%%\n"
    }
   }
  },
  {
   "cell_type": "code",
   "execution_count": 870,
   "outputs": [],
   "source": [
    "# Dropping Missing Values over 30% -- Will print out a table that shows what variables are dropped\n",
    "def dropCols_uniqueThresh(df,thresh,df_name,actionDesc):\n",
    "    thresh = thresh\n",
    "    column_names_before = df.columns.to_list()\n",
    "    before = df.shape[1]\n",
    "    df = df.drop(columns=df.columns[df.nunique()==1])\n",
    "    after = df.shape[1]\n",
    "    column_names_after = df.columns.to_list()\n",
    "    columns_dropped = []\n",
    "    for i in column_names_before:\n",
    "        if i not in column_names_after:\n",
    "            columns_dropped.append(i)\n",
    "    total_dropped = before - after\n",
    "    df = df\n",
    "    print(f\"dropped: {total_dropped}\")\n",
    "    print(f\"columns that where dropped where: {columns_dropped}\")\n",
    "    # record actions in summary report\n",
    "    cleanActionsReport(df,df_name,actionDesc,columns_dropped)\n",
    "    return df"
   ],
   "metadata": {
    "collapsed": false,
    "pycharm": {
     "name": "#%%\n"
    }
   }
  },
  {
   "cell_type": "code",
   "execution_count": 871,
   "outputs": [],
   "source": [
    "# Takes a DF, list of variable,and an order and returns a DF w/ ordinal encoding\n",
    "def OrdinalEncoderFunc (df,listOfVars,order):\n",
    "    enc = OrdinalEncoder(categories=[order])\n",
    "    for col in listOfVars:\n",
    "        col=col\n",
    "        df[col] = enc.fit_transform(df[[col]])\n",
    "    return df"
   ],
   "metadata": {
    "collapsed": false,
    "pycharm": {
     "name": "#%%\n"
    }
   }
  },
  {
   "cell_type": "markdown",
   "source": [
    "# Source Data"
   ],
   "metadata": {
    "collapsed": false
   }
  },
  {
   "cell_type": "markdown",
   "source": [
    "## Prep -- Trim Large CSV\n",
    "(Note: Creates trimmed version of CSV's for import.\n",
    "Only need to run this once, and then comment out to save time)\n",
    "\n"
   ],
   "metadata": {
    "collapsed": false
   }
  },
  {
   "cell_type": "code",
   "execution_count": 872,
   "outputs": [
    {
     "name": "stdout",
     "output_type": "stream",
     "text": [
      "Starting...\n",
      "Fundamentals_30:\n"
     ]
    }
   ],
   "source": [
    "# Trim Fundamentals_Full\n",
    "largeCSVPath = 'C:/Users/TheCu/OneDrive/Documents/Grad-School-Docs/CapstoneProject/SourceData_Orig/'\n",
    "CSVName = 'Fundamentals_Full.csv'\n",
    "trimQuery = \"gsector == 30\"\n",
    "\n",
    "print(\"Starting...\")\n",
    "#fundamentals = pd.read_csv(largeCSVPath+CSVName)\n",
    "#fundamentals['gsector'] = fundamentals['gsector'].astype(str)\n",
    "#fundamentals = fundamentals[fundamentals['gsector'] == '30']\n",
    "#fundamentals.to_csv(trimmedCSVPath+'Fundamentals_30.csv') # Export Trimmed Data\n",
    "\n",
    "#View Trimmed Dataframe\n",
    "print(\"Fundamentals_30:\")\n",
    "#fundamentals.shape"
   ],
   "metadata": {
    "collapsed": false,
    "pycharm": {
     "name": "#%%\n"
    }
   }
  },
  {
   "cell_type": "code",
   "execution_count": 873,
   "outputs": [
    {
     "name": "stdout",
     "output_type": "stream",
     "text": [
      "Starting...\n",
      "Securities_30:\n"
     ]
    }
   ],
   "source": [
    "# Trim Securities_Full\n",
    "largeCSVPath = 'C:/Users/TheCu/OneDrive/Documents/Grad-School-Docs/CapstoneProject/SourceData_Orig/'\n",
    "CSVName = 'Securities_Full.csv'\n",
    "trimQuery = \"gsector == 30\"\n",
    "\n",
    "print(\"Starting...\")\n",
    "#securities_30 = pd.read_csv(largeCSVPath+CSVName)\n",
    "#securities_30['gsector'] = securities_30['gsector'].astype(str)\n",
    "#securities_30 = securities_30[securities_30['gsector'] == '30']\n",
    "#securities_30.to_csv(trimmedCSVPath+'Securities_30.csv') # Export Trimmed Data\n",
    "\n",
    "#View Trimmed Dataframe\n",
    "print(\"Securities_30:\")\n",
    "#securities_30.shape"
   ],
   "metadata": {
    "collapsed": false,
    "pycharm": {
     "name": "#%%\n"
    }
   }
  },
  {
   "cell_type": "code",
   "execution_count": 874,
   "outputs": [
    {
     "name": "stdout",
     "output_type": "stream",
     "text": [
      "Starting...\n",
      "Stocks_30:\n"
     ]
    }
   ],
   "source": [
    "# Trim Stocks_DS\n",
    "largeCSVPath = 'C:/Users/TheCu/OneDrive/Documents/Grad-School-Docs/CapstoneProject/SourceData_Orig/'\n",
    "CSVName = 'Stocks_DS.csv'\n",
    "trimQuery = \"gsector == 30\"\n",
    "\n",
    "print(\"Starting...\")\n",
    "#stocks_30 = pd.read_csv(largeCSVPath+CSVName)\n",
    "#stocks_30 = stocks_30[stocks_30['gsector'] == 30]\n",
    "#stocks_30.to_csv(trimmedCSVPath+'Stocks_30.csv') # Export Trimmed Data\n",
    "\n",
    "#View Trimmed Dataframe\n",
    "print(\"Stocks_30:\")\n",
    "#stocks_30.sample(3)"
   ],
   "metadata": {
    "collapsed": false,
    "pycharm": {
     "name": "#%%\n"
    }
   }
  },
  {
   "cell_type": "markdown",
   "source": [
    "## Get Source Data\n",
    "(Note: Creates trimmed version of CSV's for import.\n",
    "Only need to run this once, and then comment out to save time)"
   ],
   "metadata": {
    "collapsed": false
   }
  },
  {
   "cell_type": "code",
   "execution_count": 875,
   "outputs": [
    {
     "data": {
      "text/plain": "   Unnamed: 0  gvkey   datadate  fyear indfmt consol popsrc   datafmt   tic  \\\n0         218   1239  9/30/2010   2010   INDL      C      D  SUMM_STD   ACV   \n1         219   1239  9/30/2010   2010   INDL      C      D       STD   ACV   \n2         242   1266  9/30/2010   2010   INDL      C      D  SUMM_STD  ALCO   \n3         243   1266  9/30/2010   2010   INDL      C      D       STD  ALCO   \n4         244   1266  9/30/2011   2011   INDL      C      D  SUMM_STD  ALCO   \n\n                conm  ... priusa   sic spcindcd  spcseccd  spcsrc  state stko  \\\n0  ALBERTO-CULVER CO  ...      1  2844    215.0     978.0      A-     IL    0   \n1  ALBERTO-CULVER CO  ...      1  2844    215.0     978.0      A-     IL    0   \n2          ALICO INC  ...      1   100    112.0     970.0      B-     FL    0   \n3          ALICO INC  ...      1   100    112.0     970.0      B-     FL    0   \n4          ALICO INC  ...      1   100    112.0     970.0      B-     FL    0   \n\n             weburl      dldte ipodate  \n0   www.alberto.com  5/11/2011     NaN  \n1   www.alberto.com  5/11/2011     NaN  \n2  www.alicoinc.com        NaN     NaN  \n3  www.alicoinc.com        NaN     NaN  \n4  www.alicoinc.com        NaN     NaN  \n\n[5 rows x 1769 columns]",
      "text/html": "<div>\n<style scoped>\n    .dataframe tbody tr th:only-of-type {\n        vertical-align: middle;\n    }\n\n    .dataframe tbody tr th {\n        vertical-align: top;\n    }\n\n    .dataframe thead th {\n        text-align: right;\n    }\n</style>\n<table border=\"1\" class=\"dataframe\">\n  <thead>\n    <tr style=\"text-align: right;\">\n      <th></th>\n      <th>Unnamed: 0</th>\n      <th>gvkey</th>\n      <th>datadate</th>\n      <th>fyear</th>\n      <th>indfmt</th>\n      <th>consol</th>\n      <th>popsrc</th>\n      <th>datafmt</th>\n      <th>tic</th>\n      <th>conm</th>\n      <th>...</th>\n      <th>priusa</th>\n      <th>sic</th>\n      <th>spcindcd</th>\n      <th>spcseccd</th>\n      <th>spcsrc</th>\n      <th>state</th>\n      <th>stko</th>\n      <th>weburl</th>\n      <th>dldte</th>\n      <th>ipodate</th>\n    </tr>\n  </thead>\n  <tbody>\n    <tr>\n      <th>0</th>\n      <td>218</td>\n      <td>1239</td>\n      <td>9/30/2010</td>\n      <td>2010</td>\n      <td>INDL</td>\n      <td>C</td>\n      <td>D</td>\n      <td>SUMM_STD</td>\n      <td>ACV</td>\n      <td>ALBERTO-CULVER CO</td>\n      <td>...</td>\n      <td>1</td>\n      <td>2844</td>\n      <td>215.0</td>\n      <td>978.0</td>\n      <td>A-</td>\n      <td>IL</td>\n      <td>0</td>\n      <td>www.alberto.com</td>\n      <td>5/11/2011</td>\n      <td>NaN</td>\n    </tr>\n    <tr>\n      <th>1</th>\n      <td>219</td>\n      <td>1239</td>\n      <td>9/30/2010</td>\n      <td>2010</td>\n      <td>INDL</td>\n      <td>C</td>\n      <td>D</td>\n      <td>STD</td>\n      <td>ACV</td>\n      <td>ALBERTO-CULVER CO</td>\n      <td>...</td>\n      <td>1</td>\n      <td>2844</td>\n      <td>215.0</td>\n      <td>978.0</td>\n      <td>A-</td>\n      <td>IL</td>\n      <td>0</td>\n      <td>www.alberto.com</td>\n      <td>5/11/2011</td>\n      <td>NaN</td>\n    </tr>\n    <tr>\n      <th>2</th>\n      <td>242</td>\n      <td>1266</td>\n      <td>9/30/2010</td>\n      <td>2010</td>\n      <td>INDL</td>\n      <td>C</td>\n      <td>D</td>\n      <td>SUMM_STD</td>\n      <td>ALCO</td>\n      <td>ALICO INC</td>\n      <td>...</td>\n      <td>1</td>\n      <td>100</td>\n      <td>112.0</td>\n      <td>970.0</td>\n      <td>B-</td>\n      <td>FL</td>\n      <td>0</td>\n      <td>www.alicoinc.com</td>\n      <td>NaN</td>\n      <td>NaN</td>\n    </tr>\n    <tr>\n      <th>3</th>\n      <td>243</td>\n      <td>1266</td>\n      <td>9/30/2010</td>\n      <td>2010</td>\n      <td>INDL</td>\n      <td>C</td>\n      <td>D</td>\n      <td>STD</td>\n      <td>ALCO</td>\n      <td>ALICO INC</td>\n      <td>...</td>\n      <td>1</td>\n      <td>100</td>\n      <td>112.0</td>\n      <td>970.0</td>\n      <td>B-</td>\n      <td>FL</td>\n      <td>0</td>\n      <td>www.alicoinc.com</td>\n      <td>NaN</td>\n      <td>NaN</td>\n    </tr>\n    <tr>\n      <th>4</th>\n      <td>244</td>\n      <td>1266</td>\n      <td>9/30/2011</td>\n      <td>2011</td>\n      <td>INDL</td>\n      <td>C</td>\n      <td>D</td>\n      <td>SUMM_STD</td>\n      <td>ALCO</td>\n      <td>ALICO INC</td>\n      <td>...</td>\n      <td>1</td>\n      <td>100</td>\n      <td>112.0</td>\n      <td>970.0</td>\n      <td>B-</td>\n      <td>FL</td>\n      <td>0</td>\n      <td>www.alicoinc.com</td>\n      <td>NaN</td>\n      <td>NaN</td>\n    </tr>\n  </tbody>\n</table>\n<p>5 rows × 1769 columns</p>\n</div>"
     },
     "execution_count": 875,
     "metadata": {},
     "output_type": "execute_result"
    }
   ],
   "source": [
    "# Get Fundamentals\n",
    "file = 'Fundamentals_30.csv'\n",
    "fundamentals = pd.read_csv(sourceDataPath+file,skipinitialspace = True)\n",
    "fundamentals.head()\n"
   ],
   "metadata": {
    "collapsed": false,
    "pycharm": {
     "name": "#%%\n"
    }
   }
  },
  {
   "cell_type": "code",
   "execution_count": 876,
   "outputs": [
    {
     "data": {
      "text/plain": "   Mnemonic                                         Definition\n0     gvkey                                 Global Company Key\n1  datadate                                          Data Date\n2     fyear                                 Data Year - Fiscal\n3    indfmt                                    Industry Format\n4    consol  Level of Consolidation - Company Annual Descri...",
      "text/html": "<div>\n<style scoped>\n    .dataframe tbody tr th:only-of-type {\n        vertical-align: middle;\n    }\n\n    .dataframe tbody tr th {\n        vertical-align: top;\n    }\n\n    .dataframe thead th {\n        text-align: right;\n    }\n</style>\n<table border=\"1\" class=\"dataframe\">\n  <thead>\n    <tr style=\"text-align: right;\">\n      <th></th>\n      <th>Mnemonic</th>\n      <th>Definition</th>\n    </tr>\n  </thead>\n  <tbody>\n    <tr>\n      <th>0</th>\n      <td>gvkey</td>\n      <td>Global Company Key</td>\n    </tr>\n    <tr>\n      <th>1</th>\n      <td>datadate</td>\n      <td>Data Date</td>\n    </tr>\n    <tr>\n      <th>2</th>\n      <td>fyear</td>\n      <td>Data Year - Fiscal</td>\n    </tr>\n    <tr>\n      <th>3</th>\n      <td>indfmt</td>\n      <td>Industry Format</td>\n    </tr>\n    <tr>\n      <th>4</th>\n      <td>consol</td>\n      <td>Level of Consolidation - Company Annual Descri...</td>\n    </tr>\n  </tbody>\n</table>\n</div>"
     },
     "execution_count": 876,
     "metadata": {},
     "output_type": "execute_result"
    }
   ],
   "source": [
    "# Get Fundmentals Data Dictionary\n",
    "file = 'DataDictionary.xlsx'\n",
    "\n",
    "fundamentals_DD = pd.read_excel(sourceDataPath+file,sheet_name='Fundamentals')\n",
    "fundamentals_DD.head()"
   ],
   "metadata": {
    "collapsed": false,
    "pycharm": {
     "name": "#%%\n"
    }
   }
  },
  {
   "cell_type": "code",
   "execution_count": 877,
   "outputs": [
    {
     "data": {
      "text/plain": "   gvkey splticrm  spsdrm spsticrm   datadate       city  \\\n0   1003      NaN     NaN      NaN  1/31/2010  St. Louis   \n1   1003      NaN     NaN      NaN  2/28/2010  St. Louis   \n2   1003      NaN     NaN      NaN  3/31/2010  St. Louis   \n3   1003      NaN     NaN      NaN  4/30/2010  St. Louis   \n4   1003      NaN     NaN      NaN  5/31/2010  St. Louis   \n\n                   conml  ggroup    gind  gsector  ...  idbflag  loc   naics  \\\n0  A.A. Importing Co Inc    2550  255040       25  ...        D  USA  442110   \n1  A.A. Importing Co Inc    2550  255040       25  ...        D  USA  442110   \n2  A.A. Importing Co Inc    2550  255040       25  ...        D  USA  442110   \n3  A.A. Importing Co Inc    2550  255040       25  ...        D  USA  442110   \n4  A.A. Importing Co Inc    2550  255040       25  ...        D  USA  442110   \n\n    sic  spcindcd  spcseccd  spcsrc state                   conm   tic  \n0  5712     449.0     976.0     NaN    MO  A.A. IMPORTING CO INC  ANTQ  \n1  5712     449.0     976.0     NaN    MO  A.A. IMPORTING CO INC  ANTQ  \n2  5712     449.0     976.0     NaN    MO  A.A. IMPORTING CO INC  ANTQ  \n3  5712     449.0     976.0     NaN    MO  A.A. IMPORTING CO INC  ANTQ  \n4  5712     449.0     976.0     NaN    MO  A.A. IMPORTING CO INC  ANTQ  \n\n[5 rows x 21 columns]",
      "text/html": "<div>\n<style scoped>\n    .dataframe tbody tr th:only-of-type {\n        vertical-align: middle;\n    }\n\n    .dataframe tbody tr th {\n        vertical-align: top;\n    }\n\n    .dataframe thead th {\n        text-align: right;\n    }\n</style>\n<table border=\"1\" class=\"dataframe\">\n  <thead>\n    <tr style=\"text-align: right;\">\n      <th></th>\n      <th>gvkey</th>\n      <th>splticrm</th>\n      <th>spsdrm</th>\n      <th>spsticrm</th>\n      <th>datadate</th>\n      <th>city</th>\n      <th>conml</th>\n      <th>ggroup</th>\n      <th>gind</th>\n      <th>gsector</th>\n      <th>...</th>\n      <th>idbflag</th>\n      <th>loc</th>\n      <th>naics</th>\n      <th>sic</th>\n      <th>spcindcd</th>\n      <th>spcseccd</th>\n      <th>spcsrc</th>\n      <th>state</th>\n      <th>conm</th>\n      <th>tic</th>\n    </tr>\n  </thead>\n  <tbody>\n    <tr>\n      <th>0</th>\n      <td>1003</td>\n      <td>NaN</td>\n      <td>NaN</td>\n      <td>NaN</td>\n      <td>1/31/2010</td>\n      <td>St. Louis</td>\n      <td>A.A. Importing Co Inc</td>\n      <td>2550</td>\n      <td>255040</td>\n      <td>25</td>\n      <td>...</td>\n      <td>D</td>\n      <td>USA</td>\n      <td>442110</td>\n      <td>5712</td>\n      <td>449.0</td>\n      <td>976.0</td>\n      <td>NaN</td>\n      <td>MO</td>\n      <td>A.A. IMPORTING CO INC</td>\n      <td>ANTQ</td>\n    </tr>\n    <tr>\n      <th>1</th>\n      <td>1003</td>\n      <td>NaN</td>\n      <td>NaN</td>\n      <td>NaN</td>\n      <td>2/28/2010</td>\n      <td>St. Louis</td>\n      <td>A.A. Importing Co Inc</td>\n      <td>2550</td>\n      <td>255040</td>\n      <td>25</td>\n      <td>...</td>\n      <td>D</td>\n      <td>USA</td>\n      <td>442110</td>\n      <td>5712</td>\n      <td>449.0</td>\n      <td>976.0</td>\n      <td>NaN</td>\n      <td>MO</td>\n      <td>A.A. IMPORTING CO INC</td>\n      <td>ANTQ</td>\n    </tr>\n    <tr>\n      <th>2</th>\n      <td>1003</td>\n      <td>NaN</td>\n      <td>NaN</td>\n      <td>NaN</td>\n      <td>3/31/2010</td>\n      <td>St. Louis</td>\n      <td>A.A. Importing Co Inc</td>\n      <td>2550</td>\n      <td>255040</td>\n      <td>25</td>\n      <td>...</td>\n      <td>D</td>\n      <td>USA</td>\n      <td>442110</td>\n      <td>5712</td>\n      <td>449.0</td>\n      <td>976.0</td>\n      <td>NaN</td>\n      <td>MO</td>\n      <td>A.A. IMPORTING CO INC</td>\n      <td>ANTQ</td>\n    </tr>\n    <tr>\n      <th>3</th>\n      <td>1003</td>\n      <td>NaN</td>\n      <td>NaN</td>\n      <td>NaN</td>\n      <td>4/30/2010</td>\n      <td>St. Louis</td>\n      <td>A.A. Importing Co Inc</td>\n      <td>2550</td>\n      <td>255040</td>\n      <td>25</td>\n      <td>...</td>\n      <td>D</td>\n      <td>USA</td>\n      <td>442110</td>\n      <td>5712</td>\n      <td>449.0</td>\n      <td>976.0</td>\n      <td>NaN</td>\n      <td>MO</td>\n      <td>A.A. IMPORTING CO INC</td>\n      <td>ANTQ</td>\n    </tr>\n    <tr>\n      <th>4</th>\n      <td>1003</td>\n      <td>NaN</td>\n      <td>NaN</td>\n      <td>NaN</td>\n      <td>5/31/2010</td>\n      <td>St. Louis</td>\n      <td>A.A. Importing Co Inc</td>\n      <td>2550</td>\n      <td>255040</td>\n      <td>25</td>\n      <td>...</td>\n      <td>D</td>\n      <td>USA</td>\n      <td>442110</td>\n      <td>5712</td>\n      <td>449.0</td>\n      <td>976.0</td>\n      <td>NaN</td>\n      <td>MO</td>\n      <td>A.A. IMPORTING CO INC</td>\n      <td>ANTQ</td>\n    </tr>\n  </tbody>\n</table>\n<p>5 rows × 21 columns</p>\n</div>"
     },
     "execution_count": 877,
     "metadata": {},
     "output_type": "execute_result"
    }
   ],
   "source": [
    "# Get Ratings\n",
    "\n",
    "file = 'Ratings_DS.csv'\n",
    "ratings = pd.read_csv(sourceDataPath+file,skipinitialspace = True)\n",
    "ratings.head()"
   ],
   "metadata": {
    "collapsed": false,
    "pycharm": {
     "name": "#%%\n"
    }
   }
  },
  {
   "cell_type": "code",
   "execution_count": 878,
   "outputs": [
    {
     "data": {
      "text/plain": "   Unnamed: 0  gvkey iid   datadate  tic               conm  ajexm  ajpm  \\\n0        1984   1239  01  1/31/2010  ACV  ALBERTO-CULVER CO    1.0   1.0   \n1        1985   1239  01  2/28/2010  ACV  ALBERTO-CULVER CO    1.0   1.0   \n2        1986   1239  01  3/31/2010  ACV  ALBERTO-CULVER CO    1.0   1.0   \n3        1987   1239  01  4/30/2010  ACV  ALBERTO-CULVER CO    1.0   1.0   \n4        1988   1239  01  5/31/2010  ACV  ALBERTO-CULVER CO    1.0   1.0   \n\n  isalrt primiss  ...              conml  costat  ggroup    gind gsector  \\\n0    NaN       P  ...  Alberto-Culver Co       I    3030  303020      30   \n1    NaN       P  ...  Alberto-Culver Co       I    3030  303020      30   \n2    NaN       P  ...  Alberto-Culver Co       I    3030  303020      30   \n3    NaN       P  ...  Alberto-Culver Co       I    3030  303020      30   \n4    NaN       P  ...  Alberto-Culver Co       I    3030  303020      30   \n\n    gsubind  loc   naics   sic  state  \n0  30302010  USA  325620  2844     IL  \n1  30302010  USA  325620  2844     IL  \n2  30302010  USA  325620  2844     IL  \n3  30302010  USA  325620  2844     IL  \n4  30302010  USA  325620  2844     IL  \n\n[5 rows x 56 columns]",
      "text/html": "<div>\n<style scoped>\n    .dataframe tbody tr th:only-of-type {\n        vertical-align: middle;\n    }\n\n    .dataframe tbody tr th {\n        vertical-align: top;\n    }\n\n    .dataframe thead th {\n        text-align: right;\n    }\n</style>\n<table border=\"1\" class=\"dataframe\">\n  <thead>\n    <tr style=\"text-align: right;\">\n      <th></th>\n      <th>Unnamed: 0</th>\n      <th>gvkey</th>\n      <th>iid</th>\n      <th>datadate</th>\n      <th>tic</th>\n      <th>conm</th>\n      <th>ajexm</th>\n      <th>ajpm</th>\n      <th>isalrt</th>\n      <th>primiss</th>\n      <th>...</th>\n      <th>conml</th>\n      <th>costat</th>\n      <th>ggroup</th>\n      <th>gind</th>\n      <th>gsector</th>\n      <th>gsubind</th>\n      <th>loc</th>\n      <th>naics</th>\n      <th>sic</th>\n      <th>state</th>\n    </tr>\n  </thead>\n  <tbody>\n    <tr>\n      <th>0</th>\n      <td>1984</td>\n      <td>1239</td>\n      <td>01</td>\n      <td>1/31/2010</td>\n      <td>ACV</td>\n      <td>ALBERTO-CULVER CO</td>\n      <td>1.0</td>\n      <td>1.0</td>\n      <td>NaN</td>\n      <td>P</td>\n      <td>...</td>\n      <td>Alberto-Culver Co</td>\n      <td>I</td>\n      <td>3030</td>\n      <td>303020</td>\n      <td>30</td>\n      <td>30302010</td>\n      <td>USA</td>\n      <td>325620</td>\n      <td>2844</td>\n      <td>IL</td>\n    </tr>\n    <tr>\n      <th>1</th>\n      <td>1985</td>\n      <td>1239</td>\n      <td>01</td>\n      <td>2/28/2010</td>\n      <td>ACV</td>\n      <td>ALBERTO-CULVER CO</td>\n      <td>1.0</td>\n      <td>1.0</td>\n      <td>NaN</td>\n      <td>P</td>\n      <td>...</td>\n      <td>Alberto-Culver Co</td>\n      <td>I</td>\n      <td>3030</td>\n      <td>303020</td>\n      <td>30</td>\n      <td>30302010</td>\n      <td>USA</td>\n      <td>325620</td>\n      <td>2844</td>\n      <td>IL</td>\n    </tr>\n    <tr>\n      <th>2</th>\n      <td>1986</td>\n      <td>1239</td>\n      <td>01</td>\n      <td>3/31/2010</td>\n      <td>ACV</td>\n      <td>ALBERTO-CULVER CO</td>\n      <td>1.0</td>\n      <td>1.0</td>\n      <td>NaN</td>\n      <td>P</td>\n      <td>...</td>\n      <td>Alberto-Culver Co</td>\n      <td>I</td>\n      <td>3030</td>\n      <td>303020</td>\n      <td>30</td>\n      <td>30302010</td>\n      <td>USA</td>\n      <td>325620</td>\n      <td>2844</td>\n      <td>IL</td>\n    </tr>\n    <tr>\n      <th>3</th>\n      <td>1987</td>\n      <td>1239</td>\n      <td>01</td>\n      <td>4/30/2010</td>\n      <td>ACV</td>\n      <td>ALBERTO-CULVER CO</td>\n      <td>1.0</td>\n      <td>1.0</td>\n      <td>NaN</td>\n      <td>P</td>\n      <td>...</td>\n      <td>Alberto-Culver Co</td>\n      <td>I</td>\n      <td>3030</td>\n      <td>303020</td>\n      <td>30</td>\n      <td>30302010</td>\n      <td>USA</td>\n      <td>325620</td>\n      <td>2844</td>\n      <td>IL</td>\n    </tr>\n    <tr>\n      <th>4</th>\n      <td>1988</td>\n      <td>1239</td>\n      <td>01</td>\n      <td>5/31/2010</td>\n      <td>ACV</td>\n      <td>ALBERTO-CULVER CO</td>\n      <td>1.0</td>\n      <td>1.0</td>\n      <td>NaN</td>\n      <td>P</td>\n      <td>...</td>\n      <td>Alberto-Culver Co</td>\n      <td>I</td>\n      <td>3030</td>\n      <td>303020</td>\n      <td>30</td>\n      <td>30302010</td>\n      <td>USA</td>\n      <td>325620</td>\n      <td>2844</td>\n      <td>IL</td>\n    </tr>\n  </tbody>\n</table>\n<p>5 rows × 56 columns</p>\n</div>"
     },
     "execution_count": 878,
     "metadata": {},
     "output_type": "execute_result"
    }
   ],
   "source": [
    "# Get Securities\n",
    "\n",
    "file = 'Securities_30.csv'\n",
    "securities = pd.read_csv(sourceDataPath+file,skipinitialspace = True)\n",
    "securities.head()"
   ],
   "metadata": {
    "collapsed": false,
    "pycharm": {
     "name": "#%%\n"
    }
   }
  },
  {
   "cell_type": "code",
   "execution_count": 879,
   "outputs": [
    {
     "data": {
      "text/plain": "   Mnemonic                              Definition\n0     gvkey                      Global Company Key\n1       iid  Issue ID - Security Monthly Descriptor\n2  datadate            Data Date - Security Monthly\n3       tic                           Ticker Symbol\n4      conm                            Company Name",
      "text/html": "<div>\n<style scoped>\n    .dataframe tbody tr th:only-of-type {\n        vertical-align: middle;\n    }\n\n    .dataframe tbody tr th {\n        vertical-align: top;\n    }\n\n    .dataframe thead th {\n        text-align: right;\n    }\n</style>\n<table border=\"1\" class=\"dataframe\">\n  <thead>\n    <tr style=\"text-align: right;\">\n      <th></th>\n      <th>Mnemonic</th>\n      <th>Definition</th>\n    </tr>\n  </thead>\n  <tbody>\n    <tr>\n      <th>0</th>\n      <td>gvkey</td>\n      <td>Global Company Key</td>\n    </tr>\n    <tr>\n      <th>1</th>\n      <td>iid</td>\n      <td>Issue ID - Security Monthly Descriptor</td>\n    </tr>\n    <tr>\n      <th>2</th>\n      <td>datadate</td>\n      <td>Data Date - Security Monthly</td>\n    </tr>\n    <tr>\n      <th>3</th>\n      <td>tic</td>\n      <td>Ticker Symbol</td>\n    </tr>\n    <tr>\n      <th>4</th>\n      <td>conm</td>\n      <td>Company Name</td>\n    </tr>\n  </tbody>\n</table>\n</div>"
     },
     "execution_count": 879,
     "metadata": {},
     "output_type": "execute_result"
    }
   ],
   "source": [
    "# Get Securities Data Dictionary\n",
    "file = 'DataDictionary.xlsx'\n",
    "\n",
    "securities_DD = pd.read_excel(sourceDataPath+file,sheet_name='Securities')\n",
    "securities_DD.head()"
   ],
   "metadata": {
    "collapsed": false,
    "pycharm": {
     "name": "#%%\n"
    }
   }
  },
  {
   "cell_type": "code",
   "execution_count": 880,
   "outputs": [
    {
     "data": {
      "text/plain": "   Unnamed: 0  gvkey iid  datadate  tic      cusip               conm curcddv  \\\n0        9739   1239   1  1/4/2010  ACV  013078100  ALBERTO-CULVER CO     NaN   \n1        9740   1239   1  1/5/2010  ACV  013078100  ALBERTO-CULVER CO     NaN   \n2        9741   1239   1  1/6/2010  ACV  013078100  ALBERTO-CULVER CO     NaN   \n3        9742   1239   1  1/7/2010  ACV  013078100  ALBERTO-CULVER CO     NaN   \n4        9743   1239   1  1/8/2010  ACV  013078100  ALBERTO-CULVER CO     NaN   \n\n   capgn  cheqv  ...  priusa   sic spcindcd  spcseccd  spcsrc state stko  \\\n0    NaN    NaN  ...     1.0  2844    215.0     978.0      A-    IL  0.0   \n1    NaN    NaN  ...     1.0  2844    215.0     978.0      A-    IL  0.0   \n2    NaN    NaN  ...     1.0  2844    215.0     978.0      A-    IL  0.0   \n3    NaN    NaN  ...     1.0  2844    215.0     978.0      A-    IL  0.0   \n4    NaN    NaN  ...     1.0  2844    215.0     978.0      A-    IL  0.0   \n\n            weburl      dldte ipodate  \n0  www.alberto.com  5/11/2011     NaN  \n1  www.alberto.com  5/11/2011     NaN  \n2  www.alberto.com  5/11/2011     NaN  \n3  www.alberto.com  5/11/2011     NaN  \n4  www.alberto.com  5/11/2011     NaN  \n\n[5 rows x 77 columns]",
      "text/html": "<div>\n<style scoped>\n    .dataframe tbody tr th:only-of-type {\n        vertical-align: middle;\n    }\n\n    .dataframe tbody tr th {\n        vertical-align: top;\n    }\n\n    .dataframe thead th {\n        text-align: right;\n    }\n</style>\n<table border=\"1\" class=\"dataframe\">\n  <thead>\n    <tr style=\"text-align: right;\">\n      <th></th>\n      <th>Unnamed: 0</th>\n      <th>gvkey</th>\n      <th>iid</th>\n      <th>datadate</th>\n      <th>tic</th>\n      <th>cusip</th>\n      <th>conm</th>\n      <th>curcddv</th>\n      <th>capgn</th>\n      <th>cheqv</th>\n      <th>...</th>\n      <th>priusa</th>\n      <th>sic</th>\n      <th>spcindcd</th>\n      <th>spcseccd</th>\n      <th>spcsrc</th>\n      <th>state</th>\n      <th>stko</th>\n      <th>weburl</th>\n      <th>dldte</th>\n      <th>ipodate</th>\n    </tr>\n  </thead>\n  <tbody>\n    <tr>\n      <th>0</th>\n      <td>9739</td>\n      <td>1239</td>\n      <td>1</td>\n      <td>1/4/2010</td>\n      <td>ACV</td>\n      <td>013078100</td>\n      <td>ALBERTO-CULVER CO</td>\n      <td>NaN</td>\n      <td>NaN</td>\n      <td>NaN</td>\n      <td>...</td>\n      <td>1.0</td>\n      <td>2844</td>\n      <td>215.0</td>\n      <td>978.0</td>\n      <td>A-</td>\n      <td>IL</td>\n      <td>0.0</td>\n      <td>www.alberto.com</td>\n      <td>5/11/2011</td>\n      <td>NaN</td>\n    </tr>\n    <tr>\n      <th>1</th>\n      <td>9740</td>\n      <td>1239</td>\n      <td>1</td>\n      <td>1/5/2010</td>\n      <td>ACV</td>\n      <td>013078100</td>\n      <td>ALBERTO-CULVER CO</td>\n      <td>NaN</td>\n      <td>NaN</td>\n      <td>NaN</td>\n      <td>...</td>\n      <td>1.0</td>\n      <td>2844</td>\n      <td>215.0</td>\n      <td>978.0</td>\n      <td>A-</td>\n      <td>IL</td>\n      <td>0.0</td>\n      <td>www.alberto.com</td>\n      <td>5/11/2011</td>\n      <td>NaN</td>\n    </tr>\n    <tr>\n      <th>2</th>\n      <td>9741</td>\n      <td>1239</td>\n      <td>1</td>\n      <td>1/6/2010</td>\n      <td>ACV</td>\n      <td>013078100</td>\n      <td>ALBERTO-CULVER CO</td>\n      <td>NaN</td>\n      <td>NaN</td>\n      <td>NaN</td>\n      <td>...</td>\n      <td>1.0</td>\n      <td>2844</td>\n      <td>215.0</td>\n      <td>978.0</td>\n      <td>A-</td>\n      <td>IL</td>\n      <td>0.0</td>\n      <td>www.alberto.com</td>\n      <td>5/11/2011</td>\n      <td>NaN</td>\n    </tr>\n    <tr>\n      <th>3</th>\n      <td>9742</td>\n      <td>1239</td>\n      <td>1</td>\n      <td>1/7/2010</td>\n      <td>ACV</td>\n      <td>013078100</td>\n      <td>ALBERTO-CULVER CO</td>\n      <td>NaN</td>\n      <td>NaN</td>\n      <td>NaN</td>\n      <td>...</td>\n      <td>1.0</td>\n      <td>2844</td>\n      <td>215.0</td>\n      <td>978.0</td>\n      <td>A-</td>\n      <td>IL</td>\n      <td>0.0</td>\n      <td>www.alberto.com</td>\n      <td>5/11/2011</td>\n      <td>NaN</td>\n    </tr>\n    <tr>\n      <th>4</th>\n      <td>9743</td>\n      <td>1239</td>\n      <td>1</td>\n      <td>1/8/2010</td>\n      <td>ACV</td>\n      <td>013078100</td>\n      <td>ALBERTO-CULVER CO</td>\n      <td>NaN</td>\n      <td>NaN</td>\n      <td>NaN</td>\n      <td>...</td>\n      <td>1.0</td>\n      <td>2844</td>\n      <td>215.0</td>\n      <td>978.0</td>\n      <td>A-</td>\n      <td>IL</td>\n      <td>0.0</td>\n      <td>www.alberto.com</td>\n      <td>5/11/2011</td>\n      <td>NaN</td>\n    </tr>\n  </tbody>\n</table>\n<p>5 rows × 77 columns</p>\n</div>"
     },
     "execution_count": 880,
     "metadata": {},
     "output_type": "execute_result"
    }
   ],
   "source": [
    "# Get Stocks\n",
    "file = 'Stocks_30.csv'\n",
    "stocks = pd.read_csv(sourceDataPath+file,skipinitialspace = True)\n",
    "stocks.head()"
   ],
   "metadata": {
    "collapsed": false,
    "pycharm": {
     "name": "#%%\n"
    }
   }
  },
  {
   "cell_type": "code",
   "execution_count": 881,
   "outputs": [
    {
     "data": {
      "text/plain": "   Mnemonic             Definition\n0     gvkey     Global Company Key\n1       iid   Issue ID - Dividends\n2  datadate  Data Date - Dividends\n3       tic          Ticker Symbol\n4     cusip                  CUSIP",
      "text/html": "<div>\n<style scoped>\n    .dataframe tbody tr th:only-of-type {\n        vertical-align: middle;\n    }\n\n    .dataframe tbody tr th {\n        vertical-align: top;\n    }\n\n    .dataframe thead th {\n        text-align: right;\n    }\n</style>\n<table border=\"1\" class=\"dataframe\">\n  <thead>\n    <tr style=\"text-align: right;\">\n      <th></th>\n      <th>Mnemonic</th>\n      <th>Definition</th>\n    </tr>\n  </thead>\n  <tbody>\n    <tr>\n      <th>0</th>\n      <td>gvkey</td>\n      <td>Global Company Key</td>\n    </tr>\n    <tr>\n      <th>1</th>\n      <td>iid</td>\n      <td>Issue ID - Dividends</td>\n    </tr>\n    <tr>\n      <th>2</th>\n      <td>datadate</td>\n      <td>Data Date - Dividends</td>\n    </tr>\n    <tr>\n      <th>3</th>\n      <td>tic</td>\n      <td>Ticker Symbol</td>\n    </tr>\n    <tr>\n      <th>4</th>\n      <td>cusip</td>\n      <td>CUSIP</td>\n    </tr>\n  </tbody>\n</table>\n</div>"
     },
     "execution_count": 881,
     "metadata": {},
     "output_type": "execute_result"
    }
   ],
   "source": [
    "# Get Stocks Data Dictionary\n",
    "file = 'DataDictionary.xlsx'\n",
    "\n",
    "stocks_DD = pd.read_excel(sourceDataPath+file,sheet_name='Stocks')\n",
    "stocks_DD.head()"
   ],
   "metadata": {
    "collapsed": false,
    "pycharm": {
     "name": "#%%\n"
    }
   }
  },
  {
   "cell_type": "code",
   "execution_count": 882,
   "outputs": [
    {
     "data": {
      "text/plain": "                                FilingName     Exchange Ticker Dismissed  \\\n0                       AAC Holdings, Inc.  New York SE    AAC   Ongoing   \n1                   Airtran Holdings, Inc.  New York SE    AAI       Yes   \n2  Altisource Asset Management Corporation  New York SE   AAMC   Ongoing   \n3                     APPLE Computer, Inc.       NASDAQ   AAPL        No   \n4          Avalanche Biotechnologies, Inc.       NASDAQ   AAVL   Ongoing   \n\n  SettlementAmount  FilingYear  \n0           #NULL!        2015  \n1           #NULL!        2011  \n2           #NULL!        2015  \n3         16500000        2006  \n4           #NULL!        2015  ",
      "text/html": "<div>\n<style scoped>\n    .dataframe tbody tr th:only-of-type {\n        vertical-align: middle;\n    }\n\n    .dataframe tbody tr th {\n        vertical-align: top;\n    }\n\n    .dataframe thead th {\n        text-align: right;\n    }\n</style>\n<table border=\"1\" class=\"dataframe\">\n  <thead>\n    <tr style=\"text-align: right;\">\n      <th></th>\n      <th>FilingName</th>\n      <th>Exchange</th>\n      <th>Ticker</th>\n      <th>Dismissed</th>\n      <th>SettlementAmount</th>\n      <th>FilingYear</th>\n    </tr>\n  </thead>\n  <tbody>\n    <tr>\n      <th>0</th>\n      <td>AAC Holdings, Inc.</td>\n      <td>New York SE</td>\n      <td>AAC</td>\n      <td>Ongoing</td>\n      <td>#NULL!</td>\n      <td>2015</td>\n    </tr>\n    <tr>\n      <th>1</th>\n      <td>Airtran Holdings, Inc.</td>\n      <td>New York SE</td>\n      <td>AAI</td>\n      <td>Yes</td>\n      <td>#NULL!</td>\n      <td>2011</td>\n    </tr>\n    <tr>\n      <th>2</th>\n      <td>Altisource Asset Management Corporation</td>\n      <td>New York SE</td>\n      <td>AAMC</td>\n      <td>Ongoing</td>\n      <td>#NULL!</td>\n      <td>2015</td>\n    </tr>\n    <tr>\n      <th>3</th>\n      <td>APPLE Computer, Inc.</td>\n      <td>NASDAQ</td>\n      <td>AAPL</td>\n      <td>No</td>\n      <td>16500000</td>\n      <td>2006</td>\n    </tr>\n    <tr>\n      <th>4</th>\n      <td>Avalanche Biotechnologies, Inc.</td>\n      <td>NASDAQ</td>\n      <td>AAVL</td>\n      <td>Ongoing</td>\n      <td>#NULL!</td>\n      <td>2015</td>\n    </tr>\n  </tbody>\n</table>\n</div>"
     },
     "execution_count": 882,
     "metadata": {},
     "output_type": "execute_result"
    }
   ],
   "source": [
    "# Get SCA Filings\n",
    "file = 'SCA Filings and Settlements.xlsx'\n",
    "\n",
    "sca_filings = pd.read_excel(sourceDataPath+file,sheet_name='SCA Filings and Settlements')\n",
    "sca_filings.head()"
   ],
   "metadata": {
    "collapsed": false,
    "pycharm": {
     "name": "#%%\n"
    }
   }
  },
  {
   "cell_type": "markdown",
   "source": [
    "# Data Clean-Up"
   ],
   "metadata": {
    "collapsed": false
   }
  },
  {
   "cell_type": "markdown",
   "source": [
    "## Fundamentals"
   ],
   "metadata": {
    "collapsed": false
   }
  },
  {
   "cell_type": "code",
   "execution_count": 883,
   "outputs": [
    {
     "data": {
      "text/plain": "348"
     },
     "execution_count": 883,
     "metadata": {},
     "output_type": "execute_result"
    }
   ],
   "source": [
    "fund_nunique = fundamentals['gvkey'].nunique()\n",
    "fund_nunique"
   ],
   "metadata": {
    "collapsed": false,
    "pycharm": {
     "name": "#%%\n"
    }
   }
  },
  {
   "cell_type": "code",
   "execution_count": 884,
   "outputs": [
    {
     "data": {
      "text/plain": "             DF                                         ActionDesc  \\\n0  Fundamentals  Dropped obvious low value columns -- 1 -- Date...   \n\n                                        List-of-Cols   ResultShape  \n0  [datadate, apdedate, fdate, pdate, fyr, add1, ...  (2323, 1744)  ",
      "text/html": "<div>\n<style scoped>\n    .dataframe tbody tr th:only-of-type {\n        vertical-align: middle;\n    }\n\n    .dataframe tbody tr th {\n        vertical-align: top;\n    }\n\n    .dataframe thead th {\n        text-align: right;\n    }\n</style>\n<table border=\"1\" class=\"dataframe\">\n  <thead>\n    <tr style=\"text-align: right;\">\n      <th></th>\n      <th>DF</th>\n      <th>ActionDesc</th>\n      <th>List-of-Cols</th>\n      <th>ResultShape</th>\n    </tr>\n  </thead>\n  <tbody>\n    <tr>\n      <th>0</th>\n      <td>Fundamentals</td>\n      <td>Dropped obvious low value columns -- 1 -- Date...</td>\n      <td>[datadate, apdedate, fdate, pdate, fyr, add1, ...</td>\n      <td>(2323, 1744)</td>\n    </tr>\n  </tbody>\n</table>\n</div>"
     },
     "execution_count": 884,
     "metadata": {},
     "output_type": "execute_result"
    }
   ],
   "source": [
    "# Drop Obvious Un-needed 1\n",
    "cleanActionsDesc = \"Dropped obvious low value columns -- 1 -- Dates/Codes/Addresses/Etc.\"\n",
    "df_name = \"Fundamentals\"\n",
    "\n",
    "colsToDrop = ['datadate','apdedate','fdate','pdate','fyr','add1','addzip','busdesc','city','conml',\n",
    "              'ein','fax','fyrc','incorp','loc','phone','state','weburl','exchg','naicsh','sich','gsubind',\n",
    "              'naics','sic','stko']\n",
    "\n",
    "fundamentals = fundamentals.drop(columns=colsToDrop)\n",
    "cleanActionsReport(fundamentals,df_name,cleanActionsDesc,colsToDrop)"
   ],
   "metadata": {
    "collapsed": false,
    "pycharm": {
     "name": "#%%\n"
    }
   }
  },
  {
   "cell_type": "code",
   "execution_count": 885,
   "outputs": [
    {
     "name": "stdout",
     "output_type": "stream",
     "text": [
      "Count of Variables: 1744\n",
      "Count of Variables without nulls: 20\n",
      "Count of Variables with null : 1724\n"
     ]
    },
    {
     "data": {
      "text/plain": "      Variable Observations Nulls  Null_Per Num_Unique     Type\n875       xstf         2323  2323   100.000          0  float64\n1385  isfxc_dc         2323  2323   100.000          0  float64\n703        tdc         2323  2323   100.000          0  float64\n704      tdscd         2323  2323   100.000          0  float64\n705      tdsce         2323  2323   100.000          0  float64\n...        ...          ...   ...       ...        ...      ...\n346         ib         2323    67     2.884       1336  float64\n713        teq         2323    60     2.583       1316  float64\n88          at         2323    58     2.497       1310  float64\n669       sale         2323    58     2.497       1328  float64\n677        seq         2323    56     2.411       1320  float64\n\n[1724 rows x 6 columns]",
      "text/html": "<div>\n<style scoped>\n    .dataframe tbody tr th:only-of-type {\n        vertical-align: middle;\n    }\n\n    .dataframe tbody tr th {\n        vertical-align: top;\n    }\n\n    .dataframe thead th {\n        text-align: right;\n    }\n</style>\n<table border=\"1\" class=\"dataframe\">\n  <thead>\n    <tr style=\"text-align: right;\">\n      <th></th>\n      <th>Variable</th>\n      <th>Observations</th>\n      <th>Nulls</th>\n      <th>Null_Per</th>\n      <th>Num_Unique</th>\n      <th>Type</th>\n    </tr>\n  </thead>\n  <tbody>\n    <tr>\n      <th>875</th>\n      <td>xstf</td>\n      <td>2323</td>\n      <td>2323</td>\n      <td>100.000</td>\n      <td>0</td>\n      <td>float64</td>\n    </tr>\n    <tr>\n      <th>1385</th>\n      <td>isfxc_dc</td>\n      <td>2323</td>\n      <td>2323</td>\n      <td>100.000</td>\n      <td>0</td>\n      <td>float64</td>\n    </tr>\n    <tr>\n      <th>703</th>\n      <td>tdc</td>\n      <td>2323</td>\n      <td>2323</td>\n      <td>100.000</td>\n      <td>0</td>\n      <td>float64</td>\n    </tr>\n    <tr>\n      <th>704</th>\n      <td>tdscd</td>\n      <td>2323</td>\n      <td>2323</td>\n      <td>100.000</td>\n      <td>0</td>\n      <td>float64</td>\n    </tr>\n    <tr>\n      <th>705</th>\n      <td>tdsce</td>\n      <td>2323</td>\n      <td>2323</td>\n      <td>100.000</td>\n      <td>0</td>\n      <td>float64</td>\n    </tr>\n    <tr>\n      <th>...</th>\n      <td>...</td>\n      <td>...</td>\n      <td>...</td>\n      <td>...</td>\n      <td>...</td>\n      <td>...</td>\n    </tr>\n    <tr>\n      <th>346</th>\n      <td>ib</td>\n      <td>2323</td>\n      <td>67</td>\n      <td>2.884</td>\n      <td>1336</td>\n      <td>float64</td>\n    </tr>\n    <tr>\n      <th>713</th>\n      <td>teq</td>\n      <td>2323</td>\n      <td>60</td>\n      <td>2.583</td>\n      <td>1316</td>\n      <td>float64</td>\n    </tr>\n    <tr>\n      <th>88</th>\n      <td>at</td>\n      <td>2323</td>\n      <td>58</td>\n      <td>2.497</td>\n      <td>1310</td>\n      <td>float64</td>\n    </tr>\n    <tr>\n      <th>669</th>\n      <td>sale</td>\n      <td>2323</td>\n      <td>58</td>\n      <td>2.497</td>\n      <td>1328</td>\n      <td>float64</td>\n    </tr>\n    <tr>\n      <th>677</th>\n      <td>seq</td>\n      <td>2323</td>\n      <td>56</td>\n      <td>2.411</td>\n      <td>1320</td>\n      <td>float64</td>\n    </tr>\n  </tbody>\n</table>\n<p>1724 rows × 6 columns</p>\n</div>"
     },
     "execution_count": 885,
     "metadata": {},
     "output_type": "execute_result"
    }
   ],
   "source": [
    "# Initial Column Reduce -- Drop Obvious -- Nulls\n",
    "# Run Initial -- Null Report\n",
    "fundamentals_nullReport = nullAnalysis(fundamentals)\n",
    "fundamentals_nullReport"
   ],
   "metadata": {
    "collapsed": false,
    "pycharm": {
     "name": "#%%\n"
    }
   }
  },
  {
   "cell_type": "code",
   "execution_count": 886,
   "outputs": [
    {
     "name": "stdout",
     "output_type": "stream",
     "text": [
      "dropped: 1418\n",
      "columns that where dropped where: ['acctchg', 'acqmeth', 'adrr', 'bspr', 'compst', 'curuscn', 'ltcm', 'ogm', 'stalt', 'udpl', 'acco', 'acoxar', 'acqao', 'acqcshi', 'acqgdwl', 'acqic', 'acqintan', 'acqinvt', 'acqlntal', 'acqniintc', 'acqppe', 'acqsc', 'adpac', 'aedi', 'afudcc', 'afudci', 'amc', 'amdc', 'amgw', 'ano', 'aol2', 'apalch', 'apb', 'apc', 'apofs', 'aqa', 'aqd', 'aqeps', 'aqi', 'aqp', 'aqpl1', 'aqs', 'arb', 'arc', 'arce', 'arced', 'arceeps', 'artfs', 'aul3', 'autxr', 'balr', 'banlr', 'bast', 'bastr', 'batr', 'bcef', 'bclr', 'bcltbl', 'bcnlr', 'bcrbl', 'bct', 'bctbl', 'bctr', 'bltbl', 'ca', 'capr1', 'capr2', 'capr3', 'cb', 'cbi', 'cdpac', 'cdvc', 'cfbd', 'cfere', 'cfo', 'cfpdo', 'cga', 'cgri', 'cgti', 'cgui', 'chs', 'clfc', 'clfx', 'clg', 'clis', 'cll', 'cllc', 'clo', 'clrll', 'clt', 'cmp', 'cnltbl', 'cpcbl', 'cpdoi', 'cpnli', 'cppbl', 'cprei', 'crv', 'crvnli', 'cshrc', 'cshrp', 'cshrso', 'cshrt', 'cshrw', 'dbi', 'dcs', 'depc', 'dfpac', 'dfs', 'dfxa', 'dlcch', 'dltsub', 'dpacb', 'dpacc', 'dpacli', 'dpacls', 'dpacme', 'dpacnr', 'dpaco', 'dpacre', 'dpdc', 'dpltb', 'dpret', 'dpsc', 'dpstb', 'dptb', 'dptc', 'dptic', 'dpvio', 'dpvir', 'drci', 'dtea', 'dted', 'dteeps', 'dtep', 'dvdnp', 'dvpd', 'dvpdp', 'dvpibb', 'dvrpiv', 'dvrre', 'dvsco', 'ea', 'eiea', 'emol', 'esopdlt', 'excadj', 'fatd', 'fatl', 'fca', 'fdfr', 'fea', 'fel', 'ffo', 'ffs', 'fopt', 'fsrco', 'fsrct', 'fuseo', 'fuset', 'gbbl', 'gdwlam', 'gdwlia', 'gdwlid', 'gdwlieps', 'gdwlip', 'geqrv', 'gla', 'glcea', 'glced', 'glceeps', 'glcep', 'gld', 'gleps', 'glp', 'govgr', 'govtown', 'gphbl', 'gplbl', 'gpobl', 'gprbl', 'gptbl', 'gwo', 'hedgegl', 'iaeq', 'iaeqci', 'iaeqmi', 'iafici', 'iafxi', 'iafxmi', 'iali', 'ialoi', 'ialti', 'iamli', 'iaoi', 'iapli', 'iarei', 'iasci', 'iasmi', 'iassi', 'iasti', 'iatci', 'iati', 'iatmi', 'iaui', 'ibbl', 'ibki', 'idiis', 'idilb', 'idilc', 'idis', 'idist', 'idit', 'idits', 'iire', 'initb', 'invofs', 'invreh', 'invrei', 'invres', 'invrm', 'invwip', 'iobd', 'ioi', 'iore', 'ip', 'ipabl', 'ipc', 'iphbl', 'iplbl', 'ipobl', 'iptbl', 'ipti', 'ipv', 'irei', 'irent', 'irii', 'irli', 'irnli', 'irsi', 'iseq', 'iseqc', 'iseqm', 'isfi', 'isfxc', 'isfxm', 'isgr', 'isgt', 'isgu', 'islg', 'islgc', 'islgm', 'islt', 'isng', 'isngc', 'isngm', 'isotc', 'isoth', 'isotm', 'issc', 'issm', 'issu', 'ist', 'istc', 'istm', 'isut', 'itcc', 'ivgod', 'ivi', 'ivpt', 'lcabg', 'lcacl', 'lcacr', 'lcag', 'lcal', 'lcalt', 'lcam', 'lcao', 'lcast', 'lcat', 'lcoxar', 'lcuacu', 'li', 'lif', 'lloml', 'lloo', 'llot', 'llrci', 'llrcr', 'llwoci', 'llwocr', 'lno', 'lol2', 'lqpl1', 'lrv', 'ls', 'lst', 'lul3', 'msvrv', 'mtl', 'nat', 'nco', 'nfsr', 'nieci', 'niint', 'niintpfc', 'niintpfp', 'niit', 'nim', 'nio', 'nipfc', 'nipfp', 'nit', 'nits', 'npanl', 'npaore', 'nparl', 'npat', 'nrtxt', 'nrtxtd', 'nrtxteps', 'ob', 'opili', 'opincar', 'opini', 'opioi', 'opiri', 'opiti', 'optdr', 'optfvgr', 'optlife', 'optprcby', 'optprcca', 'optprcex', 'optprcey', 'optprcgr', 'optprcwa', 'optrfr', 'optvol', 'palr', 'panlr', 'patr', 'pcl', 'pclr', 'pcnlr', 'pctr', 'pdvc', 'pidom', 'pifo', 'pll', 'pltbl', 'pncia', 'pncid', 'pncieps', 'pncip', 'pncwia', 'pncwid', 'pncwieps', 'pncwip', 'pnlbl', 'pnli', 'pobl', 'ppcbl', 'ppenb', 'ppenc', 'ppenli', 'ppenls', 'ppenme', 'ppennr', 'ppeno', 'ppevbb', 'ppevo', 'ppevr', 'pppabl', 'ppphbl', 'pppobl', 'ppptbl', 'prc', 'prebl', 'pri', 'prodv', 'prstkcc', 'prstkpc', 'prvt', 'ptbl', 'ptran', 'pvcl', 'pvo', 'pvon', 'pvpl', 'pvt', 'pwoi', 'radp', 'ragr', 'rari', 'rati', 'rca', 'rcd', 'rceps', 'rcl', 'rcp', 'rdp', 'recub', 'ret', 'reunr', 'ris', 'rll', 'rlo', 'rlp', 'rlri', 'rlt', 'rmum', 'rpag', 'rra', 'rrd', 'rreps', 'rrp', 'rvbci', 'rvbpi', 'rvbti', 'rvdo', 'rvdt', 'rveqt', 'rvlrv', 'rvno', 'rvnt', 'rvri', 'rvsi', 'rvti', 'rvtxr', 'rvupi', 'rvutx', 'saa', 'sal', 'salepfc', 'salepfp', 'sbdc', 'sc', 'sco', 'scstkc', 'secu', 'seta', 'setd', 'seteps', 'setp', 'spid', 'spieps', 'spioa', 'spiop', 'spstkc', 'sret', 'srt', 'ssnp', 'stbo', 'stio', 'stkcpa', 'tdc', 'tdscd', 'tdsce', 'tdsg', 'tdslg', 'tdsmm', 'tdsng', 'tdso', 'tdss', 'tdst', 'tf', 'tfva', 'tfvce', 'tfvl', 'tie', 'tii', 'tlcf', 'transa', 'tsa', 'tsafc', 'tso', 'tstkme', 'txach', 'txeqa', 'txeqii', 'txtubadjust', 'txtubbegin', 'txtubend', 'txtubmax', 'txtubmin', 'txtubposdec', 'txtubposinc', 'txtubpospdec', 'txtubpospinc', 'txtubsettle', 'txtubsoflimit', 'txtubtxtr', 'txtubxintbs', 'txtubxintis', 'txva', 'uaoloch', 'uaox', 'uapt', 'ucaps', 'uccons', 'uceq', 'ucustad', 'udcopres', 'udd', 'udfcc', 'udmb', 'udolt', 'udpco', 'udpfa', 'udvp', 'ufretsd', 'ugi', 'ui', 'uinvt', 'ulcm', 'ulco', 'uniami', 'unl', 'unnp', 'unnpl', 'unopinc', 'unwcc', 'uois', 'uopi', 'uopres', 'updvp', 'upmcstk', 'upmpf', 'upmpfs', 'upmsubp', 'upstk', 'upstkc', 'upstksf', 'urect', 'urectr', 'urevub', 'uspi', 'ustdnc', 'usubdvp', 'usubpstk', 'utfdoc', 'utfosc', 'utme', 'utxfed', 'uwkcapc', 'uxinst', 'uxintd', 'vpac', 'vpo', 'wcapc', 'wcapch', 'wda', 'wdd', 'wdeps', 'wdp', 'xad', 'xago', 'xagt', 'xcom', 'xcomi', 'xdepl', 'xdp', 'xdvre', 'xeqo', 'xindb', 'xindc', 'xins', 'xinst', 'xintd', 'xivi', 'xivre', 'xlr', 'xnbi', 'xnf', 'xnins', 'xnitb', 'xobd', 'xoi', 'xoprar', 'xore', 'xpp', 'xpr', 'xrd', 'xs', 'xstf', 'xstfo', 'xstfws', 'xt', 'xuw', 'xuwli', 'xuwnli', 'xuwoi', 'xuwrei', 'xuwti', 'acchg_fn', 'afudcc_fn', 'amc_fn', 'am_fn', 'aocidergl_fn', 'aocipen_fn', 'aocisecgl_fn', 'ap_fn', 'aqa_fn', 'aqd_fn', 'aqeps_fn', 'aqp_fn', 'aqs_fn', 'arced_fn', 'arceeps_fn', 'arce_fn', 'artfs_fn', 'at_fn', 'capr1_fn', 'capr3_fn', 'caps_fn', 'capx_fn', 'cdvc_fn', 'clg_fn', 'cogs_fn', 'cshfd_fn', 'csho_fn', 'cshpri_fn', 'cstk_fn', 'dclo_fn', 'dcs_fn', 'dcvsr_fn', 'dcvsub_fn', 'dcvt_fn', 'dd1_fn', 'dd2_fn', 'dd3_fn', 'dd4_fn', 'dd5_fn', 'dd_fn', 'depc_fn', 'dfs_fn', 'dlto_fn', 'dltp_fn', 'dltt_fn', 'dn_fn', 'dpc_fn', 'dptc_fn', 'dptic_fn', 'dp_fn', 'ds_fn', 'dtea_fn', 'dted_fn', 'dteeps_fn', 'dtep_fn', 'dvc_fn', 'dvp_fn', 'dvrre_fn', 'emp_fn', 'epspi_fn', 'epspx_fn', 'esopt_fn', 'esub_fn', 'fca_fn', 'gdwlam_fn', 'gdwlia_fn', 'gdwlid_fn', 'gdwlieps_fn', 'gdwlip_fn', 'gla_fn', 'glcea_fn', 'glced_fn', 'glceeps_fn', 'glcep_fn', 'gld_fn', 'gleps_fn', 'glp_fn', 'hedgegl_fn', 'iarei_fn', 'iati_fn', 'ibadj_fn', 'ib_fn', 'icapt_fn', 'idiis_fn', 'idilc_fn', 'idist_fn', 'idits_fn', 'idit_fn', 'iire_fn', 'invt_fn', 'ip_fn', 'ist_fn', 'itcc_fn', 'itci_fn', 'ivi_fn', 'lcao_fn', 'lcuacu_fn', 'lse_fn', 'mib_fn', 'mrc1_fn', 'mrc2_fn', 'mrc3_fn', 'mrc4_fn', 'mrc5_fn', 'msa_fn', 'ni_fn', 'nrtxtd_fn', 'nrtxteps_fn', 'nrtxt_fn', 'oancf_fn', 'opeps_fn', 'oprepsx_fn', 'optdr_fn', 'optfvgr_fn', 'optlife_fn', 'optprcby_fn', 'optprcca_fn', 'optprcex_fn', 'optprcey_fn', 'optprcgr_fn', 'optprcwa_fn', 'optrfr_fn', 'optvol_fn', 'pcl_fn', 'pdvc_fn', 'pidom_fn', 'pifo_fn', 'pncad_fn', 'pncaeps_fn', 'pnca_fn', 'pncia_fn', 'pncid_fn', 'pncieps_fn', 'pncwia_fn', 'pncwid_fn', 'pncwieps_fn', 'ppegt_fn', 'ppent_fn', 'ppeveb_fn', 'prcad_fn', 'prcaeps_fn', 'prca_fn', 'pstkl_fn', 'pstkrv_fn', 'pvcl_fn', 'ragr_fn', 'rca_fn', 'rcd_fn', 'rceps_fn', 'rcl_fn', 'rcp_fn', 'rdip_fn', 'recta_fn', 'reuna_fn', 'revt_fn', 're_fn', 'rra_fn', 'rrd_fn', 'rreps_fn', 'rrp_fn', 'sale_fn', 'secu_fn', 'seta_fn', 'setd_fn', 'seteps_fn', 'setp_fn', 'spced_fn', 'spceeps_fn', 'spce_fn', 'spid_fn', 'spieps_fn', 'spioa_fn', 'spiop_fn', 'stkcpa_fn', 'tdc_fn', 'tdst_fn', 'tie_fn', 'transa_fn', 'tstkc_fn', 'tstk_fn', 'txeqii_fn', 'txfed_fn', 'txfo_fn', 'txo_fn', 'txp_fn', 'txs_fn', 'txt_fn', 'uapt_fn', 'ucaps_fn', 'ui_fn', 'unwcc_fn', 'vpac_fn', 'vpo_fn', 'wda_fn', 'wdd_fn', 'wdeps_fn', 'wdp_fn', 'xintopt_fn', 'xint_fn', 'xlr_fn', 'xoptd_fn', 'xopteps_fn', 'xpr_fn', 'xrd_fn', 'xrent_fn', 'xsga_fn', 'xt_fn', 'acchg_dc', 'acco_dc', 'acdo_dc', 'aco_dc', 'acominc_dc', 'acox_dc', 'acqao_dc', 'acqgdwl_dc', 'acqic_dc', 'acqintan_dc', 'acqinvt_dc', 'acqlntal_dc', 'acqniintc_dc', 'acqppe_dc', 'acqsc_dc', 'adpac_dc', 'aedi_dc', 'aldo_dc', 'am_dc', 'amc_dc', 'amgw_dc', 'ano_dc', 'ao_dc', 'aocidergl_dc', 'aocipen_dc', 'aocisecgl_dc', 'aol2_dc', 'aoloch_dc', 'aox_dc', 'ap_dc', 'apalch_dc', 'apofs_dc', 'aqa_dc', 'aqc_dc', 'aqd_dc', 'aqeps_dc', 'aqi_dc', 'aqp_dc', 'aqpl1_dc', 'aqs_dc', 'arc_dc', 'artfs_dc', 'aul3_dc', 'balr_dc', 'banlr_dc', 'bast_dc', 'bastr_dc', 'batr_dc', 'bcef_dc', 'bclr_dc', 'bcnlr_dc', 'bcrbl_dc', 'bct_dc', 'bctbl_dc', 'bctr_dc', 'bkvlps_dc', 'bltbl_dc', 'ca_dc', 'caps_dc', 'capx_dc', 'capxv_dc', 'cb_dc', 'cbi_dc', 'cdvc_dc', 'ceq_dc', 'ceql_dc', 'ceqt_dc', 'cfbd_dc', 'cfere_dc', 'cfo_dc', 'cfpdo_dc', 'cgti_dc', 'ch_dc', 'che_dc', 'chech_dc', 'chs_dc', 'cicurr_dc', 'cidergl_dc', 'cipen_dc', 'cisecgl_dc', 'cld2_dc', 'cld3_dc', 'cld4_dc', 'cld5_dc', 'clfc_dc', 'clfx_dc', 'clg_dc', 'clis_dc', 'cll_dc', 'cllc_dc', 'cmp_dc', 'cnltbl_dc', 'cpnli_dc', 'cprei_dc', 'crvnli_dc', 'cshfd_dc', 'cshi_dc', 'csho_dc', 'cshpri_dc', 'cshr_dc', 'cshrc_dc', 'cshrt_dc', 'cshrw_dc', 'cstk_dc', 'cstkcv_dc', 'dbi_dc', 'dc_dc', 'dclo_dc', 'dcom_dc', 'dcpstk_dc', 'dcs_dc', 'dcvsr_dc', 'dcvsub_dc', 'dcvt_dc', 'dd_dc', 'dd1_dc', 'dd2_dc', 'dd3_dc', 'dd4_dc', 'dd5_dc', 'depc_dc', 'dfpac_dc', 'dfs_dc', 'dfxa_dc', 'dlc_dc', 'dlcch_dc', 'dltis_dc', 'dlto_dc', 'dltp_dc', 'dltr_dc', 'dltsub_dc', 'dltt_dc', 'dm_dc', 'dn_dc', 'do_dc', 'donr_dc', 'dp_dc', 'dpacb_dc', 'dpacc_dc', 'dpacls_dc', 'dpacme_dc', 'dpacnr_dc', 'dpact_dc', 'dpc_dc', 'dpdc_dc', 'dpsc_dc', 'dptb_dc', 'dptc_dc', 'dptic_dc', 'dpvieb_dc', 'dpvio_dc', 'dpvir_dc', 'drc_dc', 'drlt_dc', 'ds_dc', 'dtea_dc', 'dted_dc', 'dteeps_dc', 'dtep_dc', 'dudd_dc', 'dv_dc', 'dvc_dc', 'dvp_dc', 'dvpa_dc', 'dvpdp_dc', 'dvpibb_dc', 'dvrre_dc', 'dxd2_dc', 'dxd3_dc', 'dxd4_dc', 'dxd5_dc', 'ea_dc', 'ebitda_dc', 'eiea_dc', 'emp_dc', 'epsfi_dc', 'epsfx_dc', 'epspi_dc', 'epspx_dc', 'esopct_dc', 'esub_dc', 'esubc_dc', 'excadj_dc', 'exre_dc', 'fatb_dc', 'fatc_dc', 'fate_dc', 'fatl_dc', 'fatn_dc', 'fato_dc', 'fatp_dc', 'fca_dc', 'fdfr_dc', 'ffs_dc', 'fopo_dc', 'fsrco_dc', 'fuseo_dc', 'gdwl_dc', 'gdwlia_dc', 'gdwlid_dc', 'gdwlieps_dc', 'gdwlip_dc', 'gla_dc', 'glcea_dc', 'glcep_dc', 'gld_dc', 'gleps_dc', 'glp_dc', 'govgr_dc', 'gphbl_dc', 'gplbl_dc', 'gprbl_dc', 'hedgegl_dc', 'iaeq_dc', 'iaeqci_dc', 'iaeqmi_dc', 'ialti_dc', 'iamli_dc', 'iapli_dc', 'iarei_dc', 'iati_dc', 'ib_dc', 'ibadj_dc', 'ibcom_dc', 'ibki_dc', 'icapt_dc', 'idiis_dc', 'idilb_dc', 'idilc_dc', 'idis_dc', 'idist_dc', 'idit_dc', 'idits_dc', 'iire_dc', 'initb_dc', 'intan_dc', 'intano_dc', 'intc_dc', 'intpn_dc', 'invch_dc', 'invfg_dc', 'invreh_dc', 'invrei_dc', 'invres_dc', 'invrm_dc', 'invt_dc', 'invwip_dc', 'iobd_dc', 'ioi_dc', 'iore_dc', 'ip_dc', 'ipabl_dc', 'iphbl_dc', 'iplbl_dc', 'ipti_dc', 'ipv_dc', 'irei_dc', 'irent_dc', 'irli_dc', 'irnli_dc', 'irsi_dc', 'iseq_dc', 'iseqc_dc', 'iseqm_dc', 'isfi_dc', 'isfxc_dc', 'isfxm_dc', 'isgt_dc', 'islg_dc', 'islgc_dc', 'islgm_dc', 'isng_dc', 'isngc_dc', 'isngm_dc', 'issc_dc', 'issm_dc', 'issu_dc', 'ist_dc', 'itcb_dc', 'itcc_dc', 'itci_dc', 'ivaeq_dc', 'ivao_dc', 'ivch_dc', 'ivi_dc', 'ivpt_dc', 'ivst_dc', 'ivstch_dc', 'lcabg_dc', 'lcacl_dc', 'lcacr_dc', 'lcag_dc', 'lcal_dc', 'lcam_dc', 'lcat_dc', 'lco_dc', 'lcox_dc', 'lct_dc', 'lcuacu_dc', 'lifr_dc', 'llrcr_dc', 'llwocr_dc', 'lno_dc', 'lo_dc', 'lol2_dc', 'lqpl1_dc', 'lt_dc', 'lul3_dc', 'mib_dc', 'mibn_dc', 'mibt_dc', 'mii_dc', 'mrc1_dc', 'mrc2_dc', 'mrc3_dc', 'mrc4_dc', 'mrc5_dc', 'mrct_dc', 'mrcta_dc', 'msa_dc', 'nco_dc', 'ni_dc', 'nieci_dc', 'niintpfc_dc', 'niintpfp_dc', 'nio_dc', 'nipfc_dc', 'nipfp_dc', 'nit_dc', 'nopi_dc', 'nopio_dc', 'np_dc', 'npaore_dc', 'nparl_dc', 'nrtxt_dc', 'nrtxtd_dc', 'nrtxteps_dc', 'ob_dc', 'oiadp_dc', 'oibdp_dc', 'opili_dc', 'opini_dc', 'opioi_dc', 'opiri_dc', 'optca_dc', 'optexd_dc', 'optgr_dc', 'optosey_dc', 'optprcca_dc', 'optprcex_dc', 'optprcgr_dc', 'palr_dc', 'panlr_dc', 'patr_dc', 'pcl_dc', 'pclr_dc', 'pcnlr_dc', 'pctr_dc', 'pdvc_dc', 'pi_dc', 'pidom_dc', 'pifo_dc', 'pll_dc', 'pltbl_dc', 'pnlbl_dc', 'pnrsho_dc', 'pobl_dc', 'ppegt_dc', 'ppenb_dc', 'ppenc_dc', 'ppenli_dc', 'ppenls_dc', 'ppenme_dc', 'ppennr_dc', 'ppeno_dc', 'ppent_dc', 'ppevbb_dc', 'ppeveb_dc', 'ppevo_dc', 'ppevr_dc', 'ppphbl_dc', 'prebl_dc', 'pri_dc', 'prodv_dc', 'prsho_dc', 'prstkc_dc', 'prstkcc_dc', 'prstkpc_dc', 'pstk_dc', 'pstkc_dc', 'pstkl_dc', 'pstkn_dc', 'pstkr_dc', 'pstkrv_dc', 'ptran_dc', 'pvon_dc', 'pvpl_dc', 'pvt_dc', 'pwoi_dc', 'ragr_dc', 'rati_dc', 'rca_dc', 'rcd_dc', 'rceps_dc', 'rcl_dc', 'rcp_dc', 'rdip_dc', 'rdipa_dc', 'rdipd_dc', 're_dc', 'rea_dc', 'reajo_dc', 'recch_dc', 'recco_dc', 'recd_dc', 'rect_dc', 'recta_dc', 'rectr_dc', 'reunr_dc', 'ris_dc', 'rll_dc', 'rlri_dc', 'rlt_dc', 'rpag_dc', 'rvbci_dc', 'rvbti_dc', 'rvdt_dc', 'rveqt_dc', 'rvri_dc', 'rvsi_dc', 'rvti_dc', 'rvupi_dc', 'saa_dc', 'sal_dc', 'salepfc_dc', 'salepfp_dc', 'sbdc_dc', 'sc_dc', 'scstkc_dc', 'secu_dc', 'seq_dc', 'seta_dc', 'setd_dc', 'seteps_dc', 'setp_dc', 'siv_dc', 'spi_dc', 'spid_dc', 'spieps_dc', 'spioa_dc', 'spiop_dc', 'sppe_dc', 'sppiv_dc', 'spstkc_dc', 'ssnp_dc', 'sstk_dc', 'stbo_dc', 'stio_dc', 'stkco_dc', 'stkcpa_dc', 'tdc_dc', 'tdscd_dc', 'tdsce_dc', 'tdsg_dc', 'tdslg_dc', 'tdsmm_dc', 'tdsng_dc', 'tdst_dc', 'tf_dc', 'tfva_dc', 'tfvce_dc', 'tfvl_dc', 'tlcf_dc', 'transa_dc', 'tstk_dc', 'tstkc_dc', 'tstkme_dc', 'tstkn_dc', 'tstkp_dc', 'txach_dc', 'txbco_dc', 'txbcof_dc', 'txc_dc', 'txdb_dc', 'txdba_dc', 'txdbca_dc', 'txdbcl_dc', 'txdc_dc', 'txdfed_dc', 'txdfo_dc', 'txdi_dc', 'txditc_dc', 'txds_dc', 'txeqa_dc', 'txfed_dc', 'txfo_dc', 'txndb_dc', 'txndba_dc', 'txndbl_dc', 'txndbr_dc', 'txp_dc', 'txpd_dc', 'txr_dc', 'txs_dc', 'txt_dc', 'txtubadjust_dc', 'txtubbegin_dc', 'txtubend_dc', 'txtubmax_dc', 'txtubmin_dc', 'txtubposdec_dc', 'txtubposinc_dc', 'txtubpospdec_dc', 'txtubpospinc_dc', 'txtubsettle_dc', 'txtubsoflimit_dc', 'txtubtxtr_dc', 'txtubxintbs_dc', 'txtubxintis_dc', 'txw_dc', 'uaoloch_dc', 'uaox_dc', 'uapt_dc', 'ucaps_dc', 'uccons_dc', 'ucustad_dc', 'udd_dc', 'udfcc_dc', 'udmb_dc', 'udpco_dc', 'udvp_dc', 'ui_dc', 'uinvt_dc', 'unopinc_dc', 'unwcc_dc', 'uopi_dc', 'uopres_dc', 'updvp_dc', 'upmcstk_dc', 'upmpf_dc', 'upmpfs_dc', 'upmsubp_dc', 'upstk_dc', 'upstkc_dc', 'upstksf_dc', 'urect_dc', 'urectr_dc', 'urevub_dc', 'uspi_dc', 'ustdnc_dc', 'usubdvp_dc', 'usubpstk_dc', 'utme_dc', 'utxfed_dc', 'uwkcapc_dc', 'uxinst_dc', 'uxintd_dc', 'vpac_dc', 'vpo_dc', 'wcapc_dc', 'wda_dc', 'wdd_dc', 'wdeps_dc', 'wdp_dc', 'xacc_dc', 'xad_dc', 'xago_dc', 'xagt_dc', 'xcom_dc', 'xcomi_dc', 'xdepl_dc', 'xdp_dc', 'xdvre_dc', 'xeqo_dc', 'xi_dc', 'xido_dc', 'xidoc_dc', 'xindb_dc', 'xindc_dc', 'xins_dc', 'xinst_dc', 'xint_dc', 'xintd_dc', 'xintopt_dc', 'xivi_dc', 'xivre_dc', 'xlr_dc', 'xnins_dc', 'xnitb_dc', 'xobd_dc', 'xoi_dc', 'xoptd_dc', 'xopteps_dc', 'xore_dc', 'xpp_dc', 'xpr_dc', 'xrd_dc', 'xrent_dc', 'xs_dc', 'xsga_dc', 'xstf_dc', 'xstfo_dc', 'xuw_dc', 'xuwli_dc', 'xuwnli_dc', 'xuwoi_dc', 'xuwrei_dc', 'add2', 'add3', 'add4', 'county', 'dlrsn', 'prican', 'prirow', 'dldte', 'ipodate']\n"
     ]
    },
    {
     "data": {
      "text/plain": "      Unnamed: 0   gvkey  fyear indfmt consol popsrc   datafmt   tic  \\\n0            218    1239   2010   INDL      C      D  SUMM_STD   ACV   \n1            219    1239   2010   INDL      C      D       STD   ACV   \n2            242    1266   2010   INDL      C      D  SUMM_STD  ALCO   \n3            243    1266   2010   INDL      C      D       STD  ALCO   \n4            244    1266   2011   INDL      C      D  SUMM_STD  ALCO   \n...          ...     ...    ...    ...    ...    ...       ...   ...   \n2318       60832  264393   2013   INDL      C      D  SUMM_STD  IVFH   \n2319       60833  264393   2013   INDL      C      D       STD  IVFH   \n2320       61135  277487   2011   INDL      C      D       STD   LND   \n2321       61136  277487   2012   INDL      C      D       STD   LND   \n2322       61137  277487   2013   INDL      C      D       STD   LND   \n\n                             conm acctstd  ...  rdipeps_fn  stkco_fn ggroup  \\\n0               ALBERTO-CULVER CO     NaN  ...         NaN       NaN   3030   \n1               ALBERTO-CULVER CO      DS  ...          NR        OE   3030   \n2                       ALICO INC     NaN  ...         NaN       NaN   3020   \n3                       ALICO INC      DS  ...          NR        OE   3020   \n4                       ALICO INC     NaN  ...         NaN       NaN   3020   \n...                           ...     ...  ...         ...       ...    ...   \n2318     INNOVATIVE FOOD HOLDINGS     NaN  ...         NaN       NaN   3010   \n2319     INNOVATIVE FOOD HOLDINGS      DS  ...          NR        OE   3010   \n2320  BRASILAGRO CIA BRAS DE PROP      DI  ...          NR        OE   3020   \n2321  BRASILAGRO CIA BRAS DE PROP      DI  ...          NR        OE   3020   \n2322  BRASILAGRO CIA BRAS DE PROP      DI  ...          NR        OE   3020   \n\n        gind  gsector idbflag  priusa  spcindcd  spcseccd  spcsrc  \n0     303020       30       D       1     215.0     978.0      A-  \n1     303020       30       D       1     215.0     978.0      A-  \n2     302020       30       D       1     112.0     970.0      B-  \n3     302020       30       D       1     112.0     970.0      B-  \n4     302020       30       D       1     112.0     970.0      B-  \n...      ...      ...     ...     ...       ...       ...     ...  \n2318  301010       30       D       1       NaN       NaN     NaN  \n2319  301010       30       D       1       NaN       NaN     NaN  \n2320  302020       30       B      90       NaN       NaN     NaN  \n2321  302020       30       B      90       NaN       NaN     NaN  \n2322  302020       30       B      90       NaN       NaN     NaN  \n\n[2323 rows x 326 columns]",
      "text/html": "<div>\n<style scoped>\n    .dataframe tbody tr th:only-of-type {\n        vertical-align: middle;\n    }\n\n    .dataframe tbody tr th {\n        vertical-align: top;\n    }\n\n    .dataframe thead th {\n        text-align: right;\n    }\n</style>\n<table border=\"1\" class=\"dataframe\">\n  <thead>\n    <tr style=\"text-align: right;\">\n      <th></th>\n      <th>Unnamed: 0</th>\n      <th>gvkey</th>\n      <th>fyear</th>\n      <th>indfmt</th>\n      <th>consol</th>\n      <th>popsrc</th>\n      <th>datafmt</th>\n      <th>tic</th>\n      <th>conm</th>\n      <th>acctstd</th>\n      <th>...</th>\n      <th>rdipeps_fn</th>\n      <th>stkco_fn</th>\n      <th>ggroup</th>\n      <th>gind</th>\n      <th>gsector</th>\n      <th>idbflag</th>\n      <th>priusa</th>\n      <th>spcindcd</th>\n      <th>spcseccd</th>\n      <th>spcsrc</th>\n    </tr>\n  </thead>\n  <tbody>\n    <tr>\n      <th>0</th>\n      <td>218</td>\n      <td>1239</td>\n      <td>2010</td>\n      <td>INDL</td>\n      <td>C</td>\n      <td>D</td>\n      <td>SUMM_STD</td>\n      <td>ACV</td>\n      <td>ALBERTO-CULVER CO</td>\n      <td>NaN</td>\n      <td>...</td>\n      <td>NaN</td>\n      <td>NaN</td>\n      <td>3030</td>\n      <td>303020</td>\n      <td>30</td>\n      <td>D</td>\n      <td>1</td>\n      <td>215.0</td>\n      <td>978.0</td>\n      <td>A-</td>\n    </tr>\n    <tr>\n      <th>1</th>\n      <td>219</td>\n      <td>1239</td>\n      <td>2010</td>\n      <td>INDL</td>\n      <td>C</td>\n      <td>D</td>\n      <td>STD</td>\n      <td>ACV</td>\n      <td>ALBERTO-CULVER CO</td>\n      <td>DS</td>\n      <td>...</td>\n      <td>NR</td>\n      <td>OE</td>\n      <td>3030</td>\n      <td>303020</td>\n      <td>30</td>\n      <td>D</td>\n      <td>1</td>\n      <td>215.0</td>\n      <td>978.0</td>\n      <td>A-</td>\n    </tr>\n    <tr>\n      <th>2</th>\n      <td>242</td>\n      <td>1266</td>\n      <td>2010</td>\n      <td>INDL</td>\n      <td>C</td>\n      <td>D</td>\n      <td>SUMM_STD</td>\n      <td>ALCO</td>\n      <td>ALICO INC</td>\n      <td>NaN</td>\n      <td>...</td>\n      <td>NaN</td>\n      <td>NaN</td>\n      <td>3020</td>\n      <td>302020</td>\n      <td>30</td>\n      <td>D</td>\n      <td>1</td>\n      <td>112.0</td>\n      <td>970.0</td>\n      <td>B-</td>\n    </tr>\n    <tr>\n      <th>3</th>\n      <td>243</td>\n      <td>1266</td>\n      <td>2010</td>\n      <td>INDL</td>\n      <td>C</td>\n      <td>D</td>\n      <td>STD</td>\n      <td>ALCO</td>\n      <td>ALICO INC</td>\n      <td>DS</td>\n      <td>...</td>\n      <td>NR</td>\n      <td>OE</td>\n      <td>3020</td>\n      <td>302020</td>\n      <td>30</td>\n      <td>D</td>\n      <td>1</td>\n      <td>112.0</td>\n      <td>970.0</td>\n      <td>B-</td>\n    </tr>\n    <tr>\n      <th>4</th>\n      <td>244</td>\n      <td>1266</td>\n      <td>2011</td>\n      <td>INDL</td>\n      <td>C</td>\n      <td>D</td>\n      <td>SUMM_STD</td>\n      <td>ALCO</td>\n      <td>ALICO INC</td>\n      <td>NaN</td>\n      <td>...</td>\n      <td>NaN</td>\n      <td>NaN</td>\n      <td>3020</td>\n      <td>302020</td>\n      <td>30</td>\n      <td>D</td>\n      <td>1</td>\n      <td>112.0</td>\n      <td>970.0</td>\n      <td>B-</td>\n    </tr>\n    <tr>\n      <th>...</th>\n      <td>...</td>\n      <td>...</td>\n      <td>...</td>\n      <td>...</td>\n      <td>...</td>\n      <td>...</td>\n      <td>...</td>\n      <td>...</td>\n      <td>...</td>\n      <td>...</td>\n      <td>...</td>\n      <td>...</td>\n      <td>...</td>\n      <td>...</td>\n      <td>...</td>\n      <td>...</td>\n      <td>...</td>\n      <td>...</td>\n      <td>...</td>\n      <td>...</td>\n      <td>...</td>\n    </tr>\n    <tr>\n      <th>2318</th>\n      <td>60832</td>\n      <td>264393</td>\n      <td>2013</td>\n      <td>INDL</td>\n      <td>C</td>\n      <td>D</td>\n      <td>SUMM_STD</td>\n      <td>IVFH</td>\n      <td>INNOVATIVE FOOD HOLDINGS</td>\n      <td>NaN</td>\n      <td>...</td>\n      <td>NaN</td>\n      <td>NaN</td>\n      <td>3010</td>\n      <td>301010</td>\n      <td>30</td>\n      <td>D</td>\n      <td>1</td>\n      <td>NaN</td>\n      <td>NaN</td>\n      <td>NaN</td>\n    </tr>\n    <tr>\n      <th>2319</th>\n      <td>60833</td>\n      <td>264393</td>\n      <td>2013</td>\n      <td>INDL</td>\n      <td>C</td>\n      <td>D</td>\n      <td>STD</td>\n      <td>IVFH</td>\n      <td>INNOVATIVE FOOD HOLDINGS</td>\n      <td>DS</td>\n      <td>...</td>\n      <td>NR</td>\n      <td>OE</td>\n      <td>3010</td>\n      <td>301010</td>\n      <td>30</td>\n      <td>D</td>\n      <td>1</td>\n      <td>NaN</td>\n      <td>NaN</td>\n      <td>NaN</td>\n    </tr>\n    <tr>\n      <th>2320</th>\n      <td>61135</td>\n      <td>277487</td>\n      <td>2011</td>\n      <td>INDL</td>\n      <td>C</td>\n      <td>D</td>\n      <td>STD</td>\n      <td>LND</td>\n      <td>BRASILAGRO CIA BRAS DE PROP</td>\n      <td>DI</td>\n      <td>...</td>\n      <td>NR</td>\n      <td>OE</td>\n      <td>3020</td>\n      <td>302020</td>\n      <td>30</td>\n      <td>B</td>\n      <td>90</td>\n      <td>NaN</td>\n      <td>NaN</td>\n      <td>NaN</td>\n    </tr>\n    <tr>\n      <th>2321</th>\n      <td>61136</td>\n      <td>277487</td>\n      <td>2012</td>\n      <td>INDL</td>\n      <td>C</td>\n      <td>D</td>\n      <td>STD</td>\n      <td>LND</td>\n      <td>BRASILAGRO CIA BRAS DE PROP</td>\n      <td>DI</td>\n      <td>...</td>\n      <td>NR</td>\n      <td>OE</td>\n      <td>3020</td>\n      <td>302020</td>\n      <td>30</td>\n      <td>B</td>\n      <td>90</td>\n      <td>NaN</td>\n      <td>NaN</td>\n      <td>NaN</td>\n    </tr>\n    <tr>\n      <th>2322</th>\n      <td>61137</td>\n      <td>277487</td>\n      <td>2013</td>\n      <td>INDL</td>\n      <td>C</td>\n      <td>D</td>\n      <td>STD</td>\n      <td>LND</td>\n      <td>BRASILAGRO CIA BRAS DE PROP</td>\n      <td>DI</td>\n      <td>...</td>\n      <td>NR</td>\n      <td>OE</td>\n      <td>3020</td>\n      <td>302020</td>\n      <td>30</td>\n      <td>B</td>\n      <td>90</td>\n      <td>NaN</td>\n      <td>NaN</td>\n      <td>NaN</td>\n    </tr>\n  </tbody>\n</table>\n<p>2323 rows × 326 columns</p>\n</div>"
     },
     "execution_count": 886,
     "metadata": {},
     "output_type": "execute_result"
    }
   ],
   "source": [
    "# Initial Column Reduce -- Drop Obvious -- Nulls\n",
    "# Initial Null Drop -- More than 75% -- Will Re-Run w/ lower threshold after rows combined\n",
    "cleanActionsDesc = \"Initial Null Drop -- columns w/ 63% Null or more.\"\n",
    "df_name = \"Fundamentals\"\n",
    "\n",
    "fundamentals = dropCols_nullThresh(fundamentals,0.63,df_name,cleanActionsDesc)\n",
    "fundamentals"
   ],
   "metadata": {
    "collapsed": false,
    "pycharm": {
     "name": "#%%\n"
    }
   }
  },
  {
   "cell_type": "code",
   "execution_count": 887,
   "outputs": [
    {
     "name": "stdout",
     "output_type": "stream",
     "text": [
      "Count of Variables: 326\n",
      "Count of Variables without nulls: 20\n",
      "Count of Variables with null : 306\n"
     ]
    },
    {
     "data": {
      "text/plain": "    Variable Observations Nulls  Null_Per Num_Unique     Type\n264     txds         2323  1462    62.936        443  float64\n114     dxd5         2323  1459    62.807        318  float64\n260   txdfed         2323  1458    62.764        547  float64\n196    optex         2323  1457    62.721        644  float64\n152    invfg         2323  1454    62.591        769  float64\n..       ...          ...   ...       ...        ...      ...\n141       ib         2323    67     2.884       1336  float64\n247      teq         2323    60     2.583       1316  float64\n40        at         2323    58     2.497       1310  float64\n235     sale         2323    58     2.497       1328  float64\n236      seq         2323    56     2.411       1320  float64\n\n[306 rows x 6 columns]",
      "text/html": "<div>\n<style scoped>\n    .dataframe tbody tr th:only-of-type {\n        vertical-align: middle;\n    }\n\n    .dataframe tbody tr th {\n        vertical-align: top;\n    }\n\n    .dataframe thead th {\n        text-align: right;\n    }\n</style>\n<table border=\"1\" class=\"dataframe\">\n  <thead>\n    <tr style=\"text-align: right;\">\n      <th></th>\n      <th>Variable</th>\n      <th>Observations</th>\n      <th>Nulls</th>\n      <th>Null_Per</th>\n      <th>Num_Unique</th>\n      <th>Type</th>\n    </tr>\n  </thead>\n  <tbody>\n    <tr>\n      <th>264</th>\n      <td>txds</td>\n      <td>2323</td>\n      <td>1462</td>\n      <td>62.936</td>\n      <td>443</td>\n      <td>float64</td>\n    </tr>\n    <tr>\n      <th>114</th>\n      <td>dxd5</td>\n      <td>2323</td>\n      <td>1459</td>\n      <td>62.807</td>\n      <td>318</td>\n      <td>float64</td>\n    </tr>\n    <tr>\n      <th>260</th>\n      <td>txdfed</td>\n      <td>2323</td>\n      <td>1458</td>\n      <td>62.764</td>\n      <td>547</td>\n      <td>float64</td>\n    </tr>\n    <tr>\n      <th>196</th>\n      <td>optex</td>\n      <td>2323</td>\n      <td>1457</td>\n      <td>62.721</td>\n      <td>644</td>\n      <td>float64</td>\n    </tr>\n    <tr>\n      <th>152</th>\n      <td>invfg</td>\n      <td>2323</td>\n      <td>1454</td>\n      <td>62.591</td>\n      <td>769</td>\n      <td>float64</td>\n    </tr>\n    <tr>\n      <th>...</th>\n      <td>...</td>\n      <td>...</td>\n      <td>...</td>\n      <td>...</td>\n      <td>...</td>\n      <td>...</td>\n    </tr>\n    <tr>\n      <th>141</th>\n      <td>ib</td>\n      <td>2323</td>\n      <td>67</td>\n      <td>2.884</td>\n      <td>1336</td>\n      <td>float64</td>\n    </tr>\n    <tr>\n      <th>247</th>\n      <td>teq</td>\n      <td>2323</td>\n      <td>60</td>\n      <td>2.583</td>\n      <td>1316</td>\n      <td>float64</td>\n    </tr>\n    <tr>\n      <th>40</th>\n      <td>at</td>\n      <td>2323</td>\n      <td>58</td>\n      <td>2.497</td>\n      <td>1310</td>\n      <td>float64</td>\n    </tr>\n    <tr>\n      <th>235</th>\n      <td>sale</td>\n      <td>2323</td>\n      <td>58</td>\n      <td>2.497</td>\n      <td>1328</td>\n      <td>float64</td>\n    </tr>\n    <tr>\n      <th>236</th>\n      <td>seq</td>\n      <td>2323</td>\n      <td>56</td>\n      <td>2.411</td>\n      <td>1320</td>\n      <td>float64</td>\n    </tr>\n  </tbody>\n</table>\n<p>306 rows × 6 columns</p>\n</div>"
     },
     "execution_count": 887,
     "metadata": {},
     "output_type": "execute_result"
    }
   ],
   "source": [
    "# Initial Column Reduce -- Drop Obvious -- Nulls\n",
    "# Re-Run Null Report\n",
    "fundamentals_nullReport = nullAnalysis(fundamentals)\n",
    "fundamentals_nullReport"
   ],
   "metadata": {
    "collapsed": false,
    "pycharm": {
     "name": "#%%\n"
    }
   }
  },
  {
   "cell_type": "code",
   "execution_count": 888,
   "outputs": [
    {
     "name": "stdout",
     "output_type": "stream",
     "text": [
      "dropped: 16\n",
      "columns that where dropped where: ['indfmt', 'consol', 'popsrc', 'curcd', 'final', 'scf', 'acchg', 'aocisecgl', 'esopr', 'itcb', 'xoptd', 'xopteps', 'rank', 'rdipa_fn', 'stkco_fn', 'gsector']\n"
     ]
    },
    {
     "data": {
      "text/plain": "      Unnamed: 0   gvkey  fyear   datafmt   tic                         conm  \\\n0            218    1239   2010  SUMM_STD   ACV            ALBERTO-CULVER CO   \n1            219    1239   2010       STD   ACV            ALBERTO-CULVER CO   \n2            242    1266   2010  SUMM_STD  ALCO                    ALICO INC   \n3            243    1266   2010       STD  ALCO                    ALICO INC   \n4            244    1266   2011  SUMM_STD  ALCO                    ALICO INC   \n...          ...     ...    ...       ...   ...                          ...   \n2318       60832  264393   2013  SUMM_STD  IVFH     INNOVATIVE FOOD HOLDINGS   \n2319       60833  264393   2013       STD  IVFH     INNOVATIVE FOOD HOLDINGS   \n2320       61135  277487   2011       STD   LND  BRASILAGRO CIA BRAS DE PROP   \n2321       61136  277487   2012       STD   LND  BRASILAGRO CIA BRAS DE PROP   \n2322       61137  277487   2013       STD   LND  BRASILAGRO CIA BRAS DE PROP   \n\n     acctstd  ajex  ajp curncd  ...  dpact_fn  rdipd_fn  rdipeps_fn  ggroup  \\\n0        NaN   NaN  NaN    NaN  ...       NaN       NaN         NaN    3030   \n1         DS   1.0  1.0    USD  ...        TS        NR          NR    3030   \n2        NaN   NaN  NaN    NaN  ...       NaN       NaN         NaN    3020   \n3         DS   1.0  1.0    USD  ...        TB        NR          NR    3020   \n4        NaN   NaN  NaN    NaN  ...       NaN       NaN         NaN    3020   \n...      ...   ...  ...    ...  ...       ...       ...         ...     ...   \n2318     NaN   NaN  NaN    NaN  ...       NaN       NaN         NaN    3010   \n2319      DS   1.0  1.0    USD  ...        TS        NR          NR    3010   \n2320      DI   1.0  1.0    BRR  ...        TS        NR          NR    3020   \n2321      DI   1.0  1.0    BRR  ...        TS        NR          NR    3020   \n2322      DI   1.0  1.0    BRR  ...        TS        NR          NR    3020   \n\n        gind  idbflag  priusa  spcindcd  spcseccd  spcsrc  \n0     303020        D       1     215.0     978.0      A-  \n1     303020        D       1     215.0     978.0      A-  \n2     302020        D       1     112.0     970.0      B-  \n3     302020        D       1     112.0     970.0      B-  \n4     302020        D       1     112.0     970.0      B-  \n...      ...      ...     ...       ...       ...     ...  \n2318  301010        D       1       NaN       NaN     NaN  \n2319  301010        D       1       NaN       NaN     NaN  \n2320  302020        B      90       NaN       NaN     NaN  \n2321  302020        B      90       NaN       NaN     NaN  \n2322  302020        B      90       NaN       NaN     NaN  \n\n[2323 rows x 310 columns]",
      "text/html": "<div>\n<style scoped>\n    .dataframe tbody tr th:only-of-type {\n        vertical-align: middle;\n    }\n\n    .dataframe tbody tr th {\n        vertical-align: top;\n    }\n\n    .dataframe thead th {\n        text-align: right;\n    }\n</style>\n<table border=\"1\" class=\"dataframe\">\n  <thead>\n    <tr style=\"text-align: right;\">\n      <th></th>\n      <th>Unnamed: 0</th>\n      <th>gvkey</th>\n      <th>fyear</th>\n      <th>datafmt</th>\n      <th>tic</th>\n      <th>conm</th>\n      <th>acctstd</th>\n      <th>ajex</th>\n      <th>ajp</th>\n      <th>curncd</th>\n      <th>...</th>\n      <th>dpact_fn</th>\n      <th>rdipd_fn</th>\n      <th>rdipeps_fn</th>\n      <th>ggroup</th>\n      <th>gind</th>\n      <th>idbflag</th>\n      <th>priusa</th>\n      <th>spcindcd</th>\n      <th>spcseccd</th>\n      <th>spcsrc</th>\n    </tr>\n  </thead>\n  <tbody>\n    <tr>\n      <th>0</th>\n      <td>218</td>\n      <td>1239</td>\n      <td>2010</td>\n      <td>SUMM_STD</td>\n      <td>ACV</td>\n      <td>ALBERTO-CULVER CO</td>\n      <td>NaN</td>\n      <td>NaN</td>\n      <td>NaN</td>\n      <td>NaN</td>\n      <td>...</td>\n      <td>NaN</td>\n      <td>NaN</td>\n      <td>NaN</td>\n      <td>3030</td>\n      <td>303020</td>\n      <td>D</td>\n      <td>1</td>\n      <td>215.0</td>\n      <td>978.0</td>\n      <td>A-</td>\n    </tr>\n    <tr>\n      <th>1</th>\n      <td>219</td>\n      <td>1239</td>\n      <td>2010</td>\n      <td>STD</td>\n      <td>ACV</td>\n      <td>ALBERTO-CULVER CO</td>\n      <td>DS</td>\n      <td>1.0</td>\n      <td>1.0</td>\n      <td>USD</td>\n      <td>...</td>\n      <td>TS</td>\n      <td>NR</td>\n      <td>NR</td>\n      <td>3030</td>\n      <td>303020</td>\n      <td>D</td>\n      <td>1</td>\n      <td>215.0</td>\n      <td>978.0</td>\n      <td>A-</td>\n    </tr>\n    <tr>\n      <th>2</th>\n      <td>242</td>\n      <td>1266</td>\n      <td>2010</td>\n      <td>SUMM_STD</td>\n      <td>ALCO</td>\n      <td>ALICO INC</td>\n      <td>NaN</td>\n      <td>NaN</td>\n      <td>NaN</td>\n      <td>NaN</td>\n      <td>...</td>\n      <td>NaN</td>\n      <td>NaN</td>\n      <td>NaN</td>\n      <td>3020</td>\n      <td>302020</td>\n      <td>D</td>\n      <td>1</td>\n      <td>112.0</td>\n      <td>970.0</td>\n      <td>B-</td>\n    </tr>\n    <tr>\n      <th>3</th>\n      <td>243</td>\n      <td>1266</td>\n      <td>2010</td>\n      <td>STD</td>\n      <td>ALCO</td>\n      <td>ALICO INC</td>\n      <td>DS</td>\n      <td>1.0</td>\n      <td>1.0</td>\n      <td>USD</td>\n      <td>...</td>\n      <td>TB</td>\n      <td>NR</td>\n      <td>NR</td>\n      <td>3020</td>\n      <td>302020</td>\n      <td>D</td>\n      <td>1</td>\n      <td>112.0</td>\n      <td>970.0</td>\n      <td>B-</td>\n    </tr>\n    <tr>\n      <th>4</th>\n      <td>244</td>\n      <td>1266</td>\n      <td>2011</td>\n      <td>SUMM_STD</td>\n      <td>ALCO</td>\n      <td>ALICO INC</td>\n      <td>NaN</td>\n      <td>NaN</td>\n      <td>NaN</td>\n      <td>NaN</td>\n      <td>...</td>\n      <td>NaN</td>\n      <td>NaN</td>\n      <td>NaN</td>\n      <td>3020</td>\n      <td>302020</td>\n      <td>D</td>\n      <td>1</td>\n      <td>112.0</td>\n      <td>970.0</td>\n      <td>B-</td>\n    </tr>\n    <tr>\n      <th>...</th>\n      <td>...</td>\n      <td>...</td>\n      <td>...</td>\n      <td>...</td>\n      <td>...</td>\n      <td>...</td>\n      <td>...</td>\n      <td>...</td>\n      <td>...</td>\n      <td>...</td>\n      <td>...</td>\n      <td>...</td>\n      <td>...</td>\n      <td>...</td>\n      <td>...</td>\n      <td>...</td>\n      <td>...</td>\n      <td>...</td>\n      <td>...</td>\n      <td>...</td>\n      <td>...</td>\n    </tr>\n    <tr>\n      <th>2318</th>\n      <td>60832</td>\n      <td>264393</td>\n      <td>2013</td>\n      <td>SUMM_STD</td>\n      <td>IVFH</td>\n      <td>INNOVATIVE FOOD HOLDINGS</td>\n      <td>NaN</td>\n      <td>NaN</td>\n      <td>NaN</td>\n      <td>NaN</td>\n      <td>...</td>\n      <td>NaN</td>\n      <td>NaN</td>\n      <td>NaN</td>\n      <td>3010</td>\n      <td>301010</td>\n      <td>D</td>\n      <td>1</td>\n      <td>NaN</td>\n      <td>NaN</td>\n      <td>NaN</td>\n    </tr>\n    <tr>\n      <th>2319</th>\n      <td>60833</td>\n      <td>264393</td>\n      <td>2013</td>\n      <td>STD</td>\n      <td>IVFH</td>\n      <td>INNOVATIVE FOOD HOLDINGS</td>\n      <td>DS</td>\n      <td>1.0</td>\n      <td>1.0</td>\n      <td>USD</td>\n      <td>...</td>\n      <td>TS</td>\n      <td>NR</td>\n      <td>NR</td>\n      <td>3010</td>\n      <td>301010</td>\n      <td>D</td>\n      <td>1</td>\n      <td>NaN</td>\n      <td>NaN</td>\n      <td>NaN</td>\n    </tr>\n    <tr>\n      <th>2320</th>\n      <td>61135</td>\n      <td>277487</td>\n      <td>2011</td>\n      <td>STD</td>\n      <td>LND</td>\n      <td>BRASILAGRO CIA BRAS DE PROP</td>\n      <td>DI</td>\n      <td>1.0</td>\n      <td>1.0</td>\n      <td>BRR</td>\n      <td>...</td>\n      <td>TS</td>\n      <td>NR</td>\n      <td>NR</td>\n      <td>3020</td>\n      <td>302020</td>\n      <td>B</td>\n      <td>90</td>\n      <td>NaN</td>\n      <td>NaN</td>\n      <td>NaN</td>\n    </tr>\n    <tr>\n      <th>2321</th>\n      <td>61136</td>\n      <td>277487</td>\n      <td>2012</td>\n      <td>STD</td>\n      <td>LND</td>\n      <td>BRASILAGRO CIA BRAS DE PROP</td>\n      <td>DI</td>\n      <td>1.0</td>\n      <td>1.0</td>\n      <td>BRR</td>\n      <td>...</td>\n      <td>TS</td>\n      <td>NR</td>\n      <td>NR</td>\n      <td>3020</td>\n      <td>302020</td>\n      <td>B</td>\n      <td>90</td>\n      <td>NaN</td>\n      <td>NaN</td>\n      <td>NaN</td>\n    </tr>\n    <tr>\n      <th>2322</th>\n      <td>61137</td>\n      <td>277487</td>\n      <td>2013</td>\n      <td>STD</td>\n      <td>LND</td>\n      <td>BRASILAGRO CIA BRAS DE PROP</td>\n      <td>DI</td>\n      <td>1.0</td>\n      <td>1.0</td>\n      <td>BRR</td>\n      <td>...</td>\n      <td>TS</td>\n      <td>NR</td>\n      <td>NR</td>\n      <td>3020</td>\n      <td>302020</td>\n      <td>B</td>\n      <td>90</td>\n      <td>NaN</td>\n      <td>NaN</td>\n      <td>NaN</td>\n    </tr>\n  </tbody>\n</table>\n<p>2323 rows × 310 columns</p>\n</div>"
     },
     "execution_count": 888,
     "metadata": {},
     "output_type": "execute_result"
    }
   ],
   "source": [
    "# Initial Column Reduce -- Drop Obvious -- Cols w/ 1 Value\n",
    "cleanActionsDesc = \"Dropped columns with only 1 unique value \"\n",
    "df_name = \"Fundamentals\"\n",
    "\n",
    "fundamentals = dropCols_uniqueThresh(fundamentals,1,df_name,cleanActionsDesc)\n",
    "fundamentals\n"
   ],
   "metadata": {
    "collapsed": false,
    "pycharm": {
     "name": "#%%\n"
    }
   }
  },
  {
   "cell_type": "code",
   "execution_count": 889,
   "outputs": [
    {
     "data": {
      "text/plain": "             DF                                         ActionDesc  \\\n0  Fundamentals  Dropped obvious low value columns -- 1 -- Date...   \n1  Fundamentals  Initial Null Drop -- columns w/ 63% Null or more.   \n2  Fundamentals          Dropped columns with only 1 unique value    \n\n                                        List-of-Cols   ResultShape  \n0  [datadate, apdedate, fdate, pdate, fyr, add1, ...  (2323, 1744)  \n1  [acctchg, acqmeth, adrr, bspr, compst, curuscn...   (2323, 326)  \n2  [indfmt, consol, popsrc, curcd, final, scf, ac...   (2323, 310)  ",
      "text/html": "<div>\n<style scoped>\n    .dataframe tbody tr th:only-of-type {\n        vertical-align: middle;\n    }\n\n    .dataframe tbody tr th {\n        vertical-align: top;\n    }\n\n    .dataframe thead th {\n        text-align: right;\n    }\n</style>\n<table border=\"1\" class=\"dataframe\">\n  <thead>\n    <tr style=\"text-align: right;\">\n      <th></th>\n      <th>DF</th>\n      <th>ActionDesc</th>\n      <th>List-of-Cols</th>\n      <th>ResultShape</th>\n    </tr>\n  </thead>\n  <tbody>\n    <tr>\n      <th>0</th>\n      <td>Fundamentals</td>\n      <td>Dropped obvious low value columns -- 1 -- Date...</td>\n      <td>[datadate, apdedate, fdate, pdate, fyr, add1, ...</td>\n      <td>(2323, 1744)</td>\n    </tr>\n    <tr>\n      <th>1</th>\n      <td>Fundamentals</td>\n      <td>Initial Null Drop -- columns w/ 63% Null or more.</td>\n      <td>[acctchg, acqmeth, adrr, bspr, compst, curuscn...</td>\n      <td>(2323, 326)</td>\n    </tr>\n    <tr>\n      <th>2</th>\n      <td>Fundamentals</td>\n      <td>Dropped columns with only 1 unique value</td>\n      <td>[indfmt, consol, popsrc, curcd, final, scf, ac...</td>\n      <td>(2323, 310)</td>\n    </tr>\n  </tbody>\n</table>\n</div>"
     },
     "execution_count": 889,
     "metadata": {},
     "output_type": "execute_result"
    }
   ],
   "source": [
    "cleanActionsDF"
   ],
   "metadata": {
    "collapsed": false,
    "pycharm": {
     "name": "#%%\n"
    }
   }
  },
  {
   "cell_type": "markdown",
   "source": [
    "### Fundamentals -- Restatements"
   ],
   "metadata": {
    "collapsed": false
   }
  },
  {
   "cell_type": "code",
   "execution_count": 890,
   "outputs": [
    {
     "data": {
      "text/plain": "       gvkey  fyear       ni      revt  epsfi  epspi     cogs     spce  \\\n0       1239   2010  155.310       NaN   1.56   1.59  734.501      NaN   \n1       1239   2010  155.310  1598.464   1.56   1.59  734.501  155.053   \n2       1266   2010   -0.623       NaN  -0.08  -0.08   62.648      NaN   \n3       1266   2010   -0.623    79.792  -0.08  -0.08   62.648   -0.936   \n4       1266   2011    7.097       NaN   0.96   0.96   67.832      NaN   \n...      ...    ...      ...       ...    ...    ...      ...      ...   \n2318  264393   2013   -1.486       NaN  -0.23  -0.23   16.854      NaN   \n2319  264393   2013   -1.486    23.503  -0.23  -0.23   16.854   -1.486   \n2320  277487   2011    9.454    51.006   0.16   0.16   30.511    9.425   \n2321  277487   2012   -2.774    79.246  -0.05  -0.05   54.097   -2.777   \n2322  277487   2013   13.013   139.687   0.22   0.22   95.963   13.013   \n\n          xopr     gdwl       teq    mii    nopi       pi     txt     wcap  \\\n0          NaN      NaN  1324.612  0.000 -13.684  217.844  62.708  520.680   \n1     1336.464  521.204  1327.240  0.000   1.490  217.844  62.708  520.680   \n2          NaN      NaN   105.237  0.000  -1.412   -1.824  -1.201   29.529   \n3       69.106    0.000   105.237  0.000   1.688   -1.824  -1.201   29.529   \n4          NaN      NaN   110.662  0.000  -0.563   12.527   5.430   17.354   \n...        ...      ...       ...    ...     ...      ...     ...      ...   \n2318       NaN      NaN     0.940  0.000   0.000   -1.486   0.000   -0.174   \n2319    22.274    0.151     0.940  0.000   0.000   -1.486   0.000   -0.174   \n2320    48.677    0.000   369.941 -0.051  30.513   12.728   3.325   88.979   \n2321    69.916    0.000   278.232 -0.511  17.423   -9.679  -6.394   53.942   \n2322   114.974    0.000   265.905  0.000   5.204   11.948  -1.065   71.128   \n\n         xsga  \n0     601.963  \n1     601.963  \n2       6.458  \n3       6.458  \n4       8.196  \n...       ...  \n2318    5.420  \n2319    5.420  \n2320   18.166  \n2321   15.819  \n2322   19.011  \n\n[2323 rows x 17 columns]",
      "text/html": "<div>\n<style scoped>\n    .dataframe tbody tr th:only-of-type {\n        vertical-align: middle;\n    }\n\n    .dataframe tbody tr th {\n        vertical-align: top;\n    }\n\n    .dataframe thead th {\n        text-align: right;\n    }\n</style>\n<table border=\"1\" class=\"dataframe\">\n  <thead>\n    <tr style=\"text-align: right;\">\n      <th></th>\n      <th>gvkey</th>\n      <th>fyear</th>\n      <th>ni</th>\n      <th>revt</th>\n      <th>epsfi</th>\n      <th>epspi</th>\n      <th>cogs</th>\n      <th>spce</th>\n      <th>xopr</th>\n      <th>gdwl</th>\n      <th>teq</th>\n      <th>mii</th>\n      <th>nopi</th>\n      <th>pi</th>\n      <th>txt</th>\n      <th>wcap</th>\n      <th>xsga</th>\n    </tr>\n  </thead>\n  <tbody>\n    <tr>\n      <th>0</th>\n      <td>1239</td>\n      <td>2010</td>\n      <td>155.310</td>\n      <td>NaN</td>\n      <td>1.56</td>\n      <td>1.59</td>\n      <td>734.501</td>\n      <td>NaN</td>\n      <td>NaN</td>\n      <td>NaN</td>\n      <td>1324.612</td>\n      <td>0.000</td>\n      <td>-13.684</td>\n      <td>217.844</td>\n      <td>62.708</td>\n      <td>520.680</td>\n      <td>601.963</td>\n    </tr>\n    <tr>\n      <th>1</th>\n      <td>1239</td>\n      <td>2010</td>\n      <td>155.310</td>\n      <td>1598.464</td>\n      <td>1.56</td>\n      <td>1.59</td>\n      <td>734.501</td>\n      <td>155.053</td>\n      <td>1336.464</td>\n      <td>521.204</td>\n      <td>1327.240</td>\n      <td>0.000</td>\n      <td>1.490</td>\n      <td>217.844</td>\n      <td>62.708</td>\n      <td>520.680</td>\n      <td>601.963</td>\n    </tr>\n    <tr>\n      <th>2</th>\n      <td>1266</td>\n      <td>2010</td>\n      <td>-0.623</td>\n      <td>NaN</td>\n      <td>-0.08</td>\n      <td>-0.08</td>\n      <td>62.648</td>\n      <td>NaN</td>\n      <td>NaN</td>\n      <td>NaN</td>\n      <td>105.237</td>\n      <td>0.000</td>\n      <td>-1.412</td>\n      <td>-1.824</td>\n      <td>-1.201</td>\n      <td>29.529</td>\n      <td>6.458</td>\n    </tr>\n    <tr>\n      <th>3</th>\n      <td>1266</td>\n      <td>2010</td>\n      <td>-0.623</td>\n      <td>79.792</td>\n      <td>-0.08</td>\n      <td>-0.08</td>\n      <td>62.648</td>\n      <td>-0.936</td>\n      <td>69.106</td>\n      <td>0.000</td>\n      <td>105.237</td>\n      <td>0.000</td>\n      <td>1.688</td>\n      <td>-1.824</td>\n      <td>-1.201</td>\n      <td>29.529</td>\n      <td>6.458</td>\n    </tr>\n    <tr>\n      <th>4</th>\n      <td>1266</td>\n      <td>2011</td>\n      <td>7.097</td>\n      <td>NaN</td>\n      <td>0.96</td>\n      <td>0.96</td>\n      <td>67.832</td>\n      <td>NaN</td>\n      <td>NaN</td>\n      <td>NaN</td>\n      <td>110.662</td>\n      <td>0.000</td>\n      <td>-0.563</td>\n      <td>12.527</td>\n      <td>5.430</td>\n      <td>17.354</td>\n      <td>8.196</td>\n    </tr>\n    <tr>\n      <th>...</th>\n      <td>...</td>\n      <td>...</td>\n      <td>...</td>\n      <td>...</td>\n      <td>...</td>\n      <td>...</td>\n      <td>...</td>\n      <td>...</td>\n      <td>...</td>\n      <td>...</td>\n      <td>...</td>\n      <td>...</td>\n      <td>...</td>\n      <td>...</td>\n      <td>...</td>\n      <td>...</td>\n      <td>...</td>\n    </tr>\n    <tr>\n      <th>2318</th>\n      <td>264393</td>\n      <td>2013</td>\n      <td>-1.486</td>\n      <td>NaN</td>\n      <td>-0.23</td>\n      <td>-0.23</td>\n      <td>16.854</td>\n      <td>NaN</td>\n      <td>NaN</td>\n      <td>NaN</td>\n      <td>0.940</td>\n      <td>0.000</td>\n      <td>0.000</td>\n      <td>-1.486</td>\n      <td>0.000</td>\n      <td>-0.174</td>\n      <td>5.420</td>\n    </tr>\n    <tr>\n      <th>2319</th>\n      <td>264393</td>\n      <td>2013</td>\n      <td>-1.486</td>\n      <td>23.503</td>\n      <td>-0.23</td>\n      <td>-0.23</td>\n      <td>16.854</td>\n      <td>-1.486</td>\n      <td>22.274</td>\n      <td>0.151</td>\n      <td>0.940</td>\n      <td>0.000</td>\n      <td>0.000</td>\n      <td>-1.486</td>\n      <td>0.000</td>\n      <td>-0.174</td>\n      <td>5.420</td>\n    </tr>\n    <tr>\n      <th>2320</th>\n      <td>277487</td>\n      <td>2011</td>\n      <td>9.454</td>\n      <td>51.006</td>\n      <td>0.16</td>\n      <td>0.16</td>\n      <td>30.511</td>\n      <td>9.425</td>\n      <td>48.677</td>\n      <td>0.000</td>\n      <td>369.941</td>\n      <td>-0.051</td>\n      <td>30.513</td>\n      <td>12.728</td>\n      <td>3.325</td>\n      <td>88.979</td>\n      <td>18.166</td>\n    </tr>\n    <tr>\n      <th>2321</th>\n      <td>277487</td>\n      <td>2012</td>\n      <td>-2.774</td>\n      <td>79.246</td>\n      <td>-0.05</td>\n      <td>-0.05</td>\n      <td>54.097</td>\n      <td>-2.777</td>\n      <td>69.916</td>\n      <td>0.000</td>\n      <td>278.232</td>\n      <td>-0.511</td>\n      <td>17.423</td>\n      <td>-9.679</td>\n      <td>-6.394</td>\n      <td>53.942</td>\n      <td>15.819</td>\n    </tr>\n    <tr>\n      <th>2322</th>\n      <td>277487</td>\n      <td>2013</td>\n      <td>13.013</td>\n      <td>139.687</td>\n      <td>0.22</td>\n      <td>0.22</td>\n      <td>95.963</td>\n      <td>13.013</td>\n      <td>114.974</td>\n      <td>0.000</td>\n      <td>265.905</td>\n      <td>0.000</td>\n      <td>5.204</td>\n      <td>11.948</td>\n      <td>-1.065</td>\n      <td>71.128</td>\n      <td>19.011</td>\n    </tr>\n  </tbody>\n</table>\n<p>2323 rows × 17 columns</p>\n</div>"
     },
     "execution_count": 890,
     "metadata": {},
     "output_type": "execute_result"
    }
   ],
   "source": [
    "# make table w/ just restatement rows to get meaningful cols for a diff\n",
    "## note came from a lengthy analysis -- analysis docs stored in repo\n",
    "fund_restatement = fundamentals[['gvkey','fyear','datafmt','tic',\n",
    "                                 'ni','revt','epsfi','epspi','cogs',\n",
    "                                 'spce','xopr','gdwl','teq', 'mii',\n",
    "                                 'nopi','pi','txt','wcap','xsga']]\n",
    "\n",
    "# Make copy w/ cols to rejoin after diff\n",
    "fund_restatement_rejoin = fund_restatement[['gvkey','fyear','datafmt','tic']]\n",
    "# Drop string columns that can't be used for diff\n",
    "fund_restatement = fund_restatement.drop(columns =['datafmt','tic'])\n",
    "fund_restatement"
   ],
   "metadata": {
    "collapsed": false,
    "pycharm": {
     "name": "#%%\n"
    }
   }
  },
  {
   "cell_type": "code",
   "execution_count": 891,
   "outputs": [
    {
     "data": {
      "text/plain": "       gvkey  fyear   datafmt   tic  gvkey_diff  fyear_diff       ni    revt  \\\n0       1239   2010  SUMM_STD   ACV         NaN         NaN      NaN     NaN   \n1       1239   2010       STD   ACV         0.0         0.0    0.000     NaN   \n2       1266   2010  SUMM_STD  ALCO        27.0         0.0 -155.933     NaN   \n3       1266   2010       STD  ALCO         0.0         0.0    0.000     NaN   \n4       1266   2011  SUMM_STD  ALCO         0.0         1.0    7.720     NaN   \n...      ...    ...       ...   ...         ...         ...      ...     ...   \n2318  264393   2013  SUMM_STD  IVFH         0.0         1.0   -3.516     NaN   \n2319  264393   2013       STD  IVFH         0.0         0.0    0.000     NaN   \n2320  277487   2011       STD   LND     13094.0        -2.0   10.940  27.503   \n2321  277487   2012       STD   LND         0.0         1.0  -12.228  28.240   \n2322  277487   2013       STD   LND         0.0         1.0   15.787  60.441   \n\n      epsfi  epspi  ...    spce    xopr   gdwl       teq    mii    nopi  \\\n0       NaN    NaN  ...     NaN     NaN    NaN       NaN    NaN     NaN   \n1      0.00   0.00  ...     NaN     NaN    NaN     2.628  0.000  15.174   \n2     -1.64  -1.67  ...     NaN     NaN    NaN -1222.003  0.000  -2.902   \n3      0.00   0.00  ...     NaN     NaN    NaN     0.000  0.000   3.100   \n4      1.04   1.04  ...     NaN     NaN    NaN     5.425  0.000  -2.251   \n...     ...    ...  ...     ...     ...    ...       ...    ...     ...   \n2318  -0.48  -0.59  ...     NaN     NaN    NaN    -0.281  0.000   1.282   \n2319   0.00   0.00  ...     NaN     NaN    NaN     0.000  0.000   0.000   \n2320   0.39   0.39  ...  10.911  26.403 -0.151   369.001 -0.051  30.513   \n2321  -0.21  -0.21  ... -12.202  21.239  0.000   -91.709 -0.460 -13.090   \n2322   0.27   0.27  ...  15.790  45.058  0.000   -12.327  0.511 -12.219   \n\n           pi     txt     wcap     xsga  \n0         NaN     NaN      NaN      NaN  \n1       0.000   0.000    0.000    0.000  \n2    -219.668 -63.909 -491.151 -595.505  \n3       0.000   0.000    0.000    0.000  \n4      14.351   6.631  -12.175    1.738  \n...       ...     ...      ...      ...  \n2318   -3.516   0.000   -1.082    1.315  \n2319    0.000   0.000    0.000    0.000  \n2320   14.214   3.325   89.153   12.746  \n2321  -22.407  -9.719  -35.037   -2.347  \n2322   21.627   5.329   17.186    3.192  \n\n[2323 rows x 21 columns]",
      "text/html": "<div>\n<style scoped>\n    .dataframe tbody tr th:only-of-type {\n        vertical-align: middle;\n    }\n\n    .dataframe tbody tr th {\n        vertical-align: top;\n    }\n\n    .dataframe thead th {\n        text-align: right;\n    }\n</style>\n<table border=\"1\" class=\"dataframe\">\n  <thead>\n    <tr style=\"text-align: right;\">\n      <th></th>\n      <th>gvkey</th>\n      <th>fyear</th>\n      <th>datafmt</th>\n      <th>tic</th>\n      <th>gvkey_diff</th>\n      <th>fyear_diff</th>\n      <th>ni</th>\n      <th>revt</th>\n      <th>epsfi</th>\n      <th>epspi</th>\n      <th>...</th>\n      <th>spce</th>\n      <th>xopr</th>\n      <th>gdwl</th>\n      <th>teq</th>\n      <th>mii</th>\n      <th>nopi</th>\n      <th>pi</th>\n      <th>txt</th>\n      <th>wcap</th>\n      <th>xsga</th>\n    </tr>\n  </thead>\n  <tbody>\n    <tr>\n      <th>0</th>\n      <td>1239</td>\n      <td>2010</td>\n      <td>SUMM_STD</td>\n      <td>ACV</td>\n      <td>NaN</td>\n      <td>NaN</td>\n      <td>NaN</td>\n      <td>NaN</td>\n      <td>NaN</td>\n      <td>NaN</td>\n      <td>...</td>\n      <td>NaN</td>\n      <td>NaN</td>\n      <td>NaN</td>\n      <td>NaN</td>\n      <td>NaN</td>\n      <td>NaN</td>\n      <td>NaN</td>\n      <td>NaN</td>\n      <td>NaN</td>\n      <td>NaN</td>\n    </tr>\n    <tr>\n      <th>1</th>\n      <td>1239</td>\n      <td>2010</td>\n      <td>STD</td>\n      <td>ACV</td>\n      <td>0.0</td>\n      <td>0.0</td>\n      <td>0.000</td>\n      <td>NaN</td>\n      <td>0.00</td>\n      <td>0.00</td>\n      <td>...</td>\n      <td>NaN</td>\n      <td>NaN</td>\n      <td>NaN</td>\n      <td>2.628</td>\n      <td>0.000</td>\n      <td>15.174</td>\n      <td>0.000</td>\n      <td>0.000</td>\n      <td>0.000</td>\n      <td>0.000</td>\n    </tr>\n    <tr>\n      <th>2</th>\n      <td>1266</td>\n      <td>2010</td>\n      <td>SUMM_STD</td>\n      <td>ALCO</td>\n      <td>27.0</td>\n      <td>0.0</td>\n      <td>-155.933</td>\n      <td>NaN</td>\n      <td>-1.64</td>\n      <td>-1.67</td>\n      <td>...</td>\n      <td>NaN</td>\n      <td>NaN</td>\n      <td>NaN</td>\n      <td>-1222.003</td>\n      <td>0.000</td>\n      <td>-2.902</td>\n      <td>-219.668</td>\n      <td>-63.909</td>\n      <td>-491.151</td>\n      <td>-595.505</td>\n    </tr>\n    <tr>\n      <th>3</th>\n      <td>1266</td>\n      <td>2010</td>\n      <td>STD</td>\n      <td>ALCO</td>\n      <td>0.0</td>\n      <td>0.0</td>\n      <td>0.000</td>\n      <td>NaN</td>\n      <td>0.00</td>\n      <td>0.00</td>\n      <td>...</td>\n      <td>NaN</td>\n      <td>NaN</td>\n      <td>NaN</td>\n      <td>0.000</td>\n      <td>0.000</td>\n      <td>3.100</td>\n      <td>0.000</td>\n      <td>0.000</td>\n      <td>0.000</td>\n      <td>0.000</td>\n    </tr>\n    <tr>\n      <th>4</th>\n      <td>1266</td>\n      <td>2011</td>\n      <td>SUMM_STD</td>\n      <td>ALCO</td>\n      <td>0.0</td>\n      <td>1.0</td>\n      <td>7.720</td>\n      <td>NaN</td>\n      <td>1.04</td>\n      <td>1.04</td>\n      <td>...</td>\n      <td>NaN</td>\n      <td>NaN</td>\n      <td>NaN</td>\n      <td>5.425</td>\n      <td>0.000</td>\n      <td>-2.251</td>\n      <td>14.351</td>\n      <td>6.631</td>\n      <td>-12.175</td>\n      <td>1.738</td>\n    </tr>\n    <tr>\n      <th>...</th>\n      <td>...</td>\n      <td>...</td>\n      <td>...</td>\n      <td>...</td>\n      <td>...</td>\n      <td>...</td>\n      <td>...</td>\n      <td>...</td>\n      <td>...</td>\n      <td>...</td>\n      <td>...</td>\n      <td>...</td>\n      <td>...</td>\n      <td>...</td>\n      <td>...</td>\n      <td>...</td>\n      <td>...</td>\n      <td>...</td>\n      <td>...</td>\n      <td>...</td>\n      <td>...</td>\n    </tr>\n    <tr>\n      <th>2318</th>\n      <td>264393</td>\n      <td>2013</td>\n      <td>SUMM_STD</td>\n      <td>IVFH</td>\n      <td>0.0</td>\n      <td>1.0</td>\n      <td>-3.516</td>\n      <td>NaN</td>\n      <td>-0.48</td>\n      <td>-0.59</td>\n      <td>...</td>\n      <td>NaN</td>\n      <td>NaN</td>\n      <td>NaN</td>\n      <td>-0.281</td>\n      <td>0.000</td>\n      <td>1.282</td>\n      <td>-3.516</td>\n      <td>0.000</td>\n      <td>-1.082</td>\n      <td>1.315</td>\n    </tr>\n    <tr>\n      <th>2319</th>\n      <td>264393</td>\n      <td>2013</td>\n      <td>STD</td>\n      <td>IVFH</td>\n      <td>0.0</td>\n      <td>0.0</td>\n      <td>0.000</td>\n      <td>NaN</td>\n      <td>0.00</td>\n      <td>0.00</td>\n      <td>...</td>\n      <td>NaN</td>\n      <td>NaN</td>\n      <td>NaN</td>\n      <td>0.000</td>\n      <td>0.000</td>\n      <td>0.000</td>\n      <td>0.000</td>\n      <td>0.000</td>\n      <td>0.000</td>\n      <td>0.000</td>\n    </tr>\n    <tr>\n      <th>2320</th>\n      <td>277487</td>\n      <td>2011</td>\n      <td>STD</td>\n      <td>LND</td>\n      <td>13094.0</td>\n      <td>-2.0</td>\n      <td>10.940</td>\n      <td>27.503</td>\n      <td>0.39</td>\n      <td>0.39</td>\n      <td>...</td>\n      <td>10.911</td>\n      <td>26.403</td>\n      <td>-0.151</td>\n      <td>369.001</td>\n      <td>-0.051</td>\n      <td>30.513</td>\n      <td>14.214</td>\n      <td>3.325</td>\n      <td>89.153</td>\n      <td>12.746</td>\n    </tr>\n    <tr>\n      <th>2321</th>\n      <td>277487</td>\n      <td>2012</td>\n      <td>STD</td>\n      <td>LND</td>\n      <td>0.0</td>\n      <td>1.0</td>\n      <td>-12.228</td>\n      <td>28.240</td>\n      <td>-0.21</td>\n      <td>-0.21</td>\n      <td>...</td>\n      <td>-12.202</td>\n      <td>21.239</td>\n      <td>0.000</td>\n      <td>-91.709</td>\n      <td>-0.460</td>\n      <td>-13.090</td>\n      <td>-22.407</td>\n      <td>-9.719</td>\n      <td>-35.037</td>\n      <td>-2.347</td>\n    </tr>\n    <tr>\n      <th>2322</th>\n      <td>277487</td>\n      <td>2013</td>\n      <td>STD</td>\n      <td>LND</td>\n      <td>0.0</td>\n      <td>1.0</td>\n      <td>15.787</td>\n      <td>60.441</td>\n      <td>0.27</td>\n      <td>0.27</td>\n      <td>...</td>\n      <td>15.790</td>\n      <td>45.058</td>\n      <td>0.000</td>\n      <td>-12.327</td>\n      <td>0.511</td>\n      <td>-12.219</td>\n      <td>21.627</td>\n      <td>5.329</td>\n      <td>17.186</td>\n      <td>3.192</td>\n    </tr>\n  </tbody>\n</table>\n<p>2323 rows × 21 columns</p>\n</div>"
     },
     "execution_count": 891,
     "metadata": {},
     "output_type": "execute_result"
    }
   ],
   "source": [
    "# Run Diff\n",
    "fund_restatement_diff = fund_restatement.diff()\n",
    "fund_restatement_diff = fund_restatement_diff.rename(columns={'gvkey':'gvkey_diff','fyear':'fyear_diff'})\n",
    "fund_restatement_diff = fund_restatement_rejoin.join(fund_restatement_diff)\n",
    "fund_restatement_diff\n"
   ],
   "metadata": {
    "collapsed": false,
    "pycharm": {
     "name": "#%%\n"
    }
   }
  },
  {
   "cell_type": "code",
   "execution_count": 892,
   "outputs": [
    {
     "data": {
      "text/plain": "       gvkey  fyear datafmt   tic  gvkey_diff  fyear_diff    ni  revt  epsfi  \\\n1       1239   2010     STD   ACV         0.0         0.0   0.0   NaN   0.00   \n3       1266   2010     STD  ALCO         0.0         0.0   0.0   NaN   0.00   \n5       1266   2011     STD  ALCO         0.0         0.0   0.0   NaN   0.00   \n7       1266   2012     STD  ALCO         0.0         0.0   0.0   NaN   0.00   \n11      1408   2010     STD  BEAM         0.0         0.0   0.0   NaN   0.00   \n...      ...    ...     ...   ...         ...         ...   ...   ...    ...   \n2272  199456   2013     STD  RNDY         0.0         0.0   0.0   NaN   0.00   \n2305  241637   2010     STD   BUD         0.0         0.0   0.0   NaN   0.00   \n2307  241637   2011     STD   BUD         0.0         0.0   0.0   NaN   0.00   \n2309  241637   2012     STD   BUD         0.0         0.0  83.0   NaN   0.05   \n2313  264393   2010     STD  IVFH         0.0         0.0   0.0   NaN   0.49   \n\n      epspi  ...  xopr  gdwl     teq   mii      nopi     pi   txt  wcap  \\\n1      0.00  ...   NaN   NaN   2.628   0.0    15.174    0.0   0.0   0.0   \n3      0.00  ...   NaN   NaN   0.000   0.0     3.100    0.0   0.0   0.0   \n5      0.00  ...   NaN   NaN   0.000   0.0     1.685    0.0   0.0   0.0   \n7      0.00  ...   NaN   NaN   0.000   0.0     1.918    0.0   0.0   0.0   \n11     0.00  ...   NaN   NaN  -3.000   8.4    15.800  241.9  55.4   NaN   \n...     ...  ...   ...   ...     ...   ...       ...    ...   ...   ...   \n2272   0.00  ...   NaN   NaN   0.000   0.0     2.494    0.0   0.0   0.0   \n2305   0.00  ...   NaN   NaN   0.000   0.0  1193.000    0.0   0.0   0.0   \n2307   0.00  ...   NaN   NaN -12.000   0.0   818.000    0.0   0.0   0.0   \n2309   0.05  ...   NaN   NaN -12.000  26.0    50.000  146.0  37.0   0.0   \n2313   0.49  ...   NaN   NaN   0.001   0.0     0.000    0.0   0.0   0.0   \n\n        xsga  sum_diff  \n1        0.0    17.802  \n3        0.0     3.100  \n5        0.0     1.685  \n7        0.0     1.918  \n11    1325.1  4341.100  \n...      ...       ...  \n2272     0.0     2.494  \n2305     0.0  1193.000  \n2307     0.0   806.000  \n2309  -171.0   184.100  \n2313     0.0     0.981  \n\n[568 rows x 22 columns]",
      "text/html": "<div>\n<style scoped>\n    .dataframe tbody tr th:only-of-type {\n        vertical-align: middle;\n    }\n\n    .dataframe tbody tr th {\n        vertical-align: top;\n    }\n\n    .dataframe thead th {\n        text-align: right;\n    }\n</style>\n<table border=\"1\" class=\"dataframe\">\n  <thead>\n    <tr style=\"text-align: right;\">\n      <th></th>\n      <th>gvkey</th>\n      <th>fyear</th>\n      <th>datafmt</th>\n      <th>tic</th>\n      <th>gvkey_diff</th>\n      <th>fyear_diff</th>\n      <th>ni</th>\n      <th>revt</th>\n      <th>epsfi</th>\n      <th>epspi</th>\n      <th>...</th>\n      <th>xopr</th>\n      <th>gdwl</th>\n      <th>teq</th>\n      <th>mii</th>\n      <th>nopi</th>\n      <th>pi</th>\n      <th>txt</th>\n      <th>wcap</th>\n      <th>xsga</th>\n      <th>sum_diff</th>\n    </tr>\n  </thead>\n  <tbody>\n    <tr>\n      <th>1</th>\n      <td>1239</td>\n      <td>2010</td>\n      <td>STD</td>\n      <td>ACV</td>\n      <td>0.0</td>\n      <td>0.0</td>\n      <td>0.0</td>\n      <td>NaN</td>\n      <td>0.00</td>\n      <td>0.00</td>\n      <td>...</td>\n      <td>NaN</td>\n      <td>NaN</td>\n      <td>2.628</td>\n      <td>0.0</td>\n      <td>15.174</td>\n      <td>0.0</td>\n      <td>0.0</td>\n      <td>0.0</td>\n      <td>0.0</td>\n      <td>17.802</td>\n    </tr>\n    <tr>\n      <th>3</th>\n      <td>1266</td>\n      <td>2010</td>\n      <td>STD</td>\n      <td>ALCO</td>\n      <td>0.0</td>\n      <td>0.0</td>\n      <td>0.0</td>\n      <td>NaN</td>\n      <td>0.00</td>\n      <td>0.00</td>\n      <td>...</td>\n      <td>NaN</td>\n      <td>NaN</td>\n      <td>0.000</td>\n      <td>0.0</td>\n      <td>3.100</td>\n      <td>0.0</td>\n      <td>0.0</td>\n      <td>0.0</td>\n      <td>0.0</td>\n      <td>3.100</td>\n    </tr>\n    <tr>\n      <th>5</th>\n      <td>1266</td>\n      <td>2011</td>\n      <td>STD</td>\n      <td>ALCO</td>\n      <td>0.0</td>\n      <td>0.0</td>\n      <td>0.0</td>\n      <td>NaN</td>\n      <td>0.00</td>\n      <td>0.00</td>\n      <td>...</td>\n      <td>NaN</td>\n      <td>NaN</td>\n      <td>0.000</td>\n      <td>0.0</td>\n      <td>1.685</td>\n      <td>0.0</td>\n      <td>0.0</td>\n      <td>0.0</td>\n      <td>0.0</td>\n      <td>1.685</td>\n    </tr>\n    <tr>\n      <th>7</th>\n      <td>1266</td>\n      <td>2012</td>\n      <td>STD</td>\n      <td>ALCO</td>\n      <td>0.0</td>\n      <td>0.0</td>\n      <td>0.0</td>\n      <td>NaN</td>\n      <td>0.00</td>\n      <td>0.00</td>\n      <td>...</td>\n      <td>NaN</td>\n      <td>NaN</td>\n      <td>0.000</td>\n      <td>0.0</td>\n      <td>1.918</td>\n      <td>0.0</td>\n      <td>0.0</td>\n      <td>0.0</td>\n      <td>0.0</td>\n      <td>1.918</td>\n    </tr>\n    <tr>\n      <th>11</th>\n      <td>1408</td>\n      <td>2010</td>\n      <td>STD</td>\n      <td>BEAM</td>\n      <td>0.0</td>\n      <td>0.0</td>\n      <td>0.0</td>\n      <td>NaN</td>\n      <td>0.00</td>\n      <td>0.00</td>\n      <td>...</td>\n      <td>NaN</td>\n      <td>NaN</td>\n      <td>-3.000</td>\n      <td>8.4</td>\n      <td>15.800</td>\n      <td>241.9</td>\n      <td>55.4</td>\n      <td>NaN</td>\n      <td>1325.1</td>\n      <td>4341.100</td>\n    </tr>\n    <tr>\n      <th>...</th>\n      <td>...</td>\n      <td>...</td>\n      <td>...</td>\n      <td>...</td>\n      <td>...</td>\n      <td>...</td>\n      <td>...</td>\n      <td>...</td>\n      <td>...</td>\n      <td>...</td>\n      <td>...</td>\n      <td>...</td>\n      <td>...</td>\n      <td>...</td>\n      <td>...</td>\n      <td>...</td>\n      <td>...</td>\n      <td>...</td>\n      <td>...</td>\n      <td>...</td>\n      <td>...</td>\n    </tr>\n    <tr>\n      <th>2272</th>\n      <td>199456</td>\n      <td>2013</td>\n      <td>STD</td>\n      <td>RNDY</td>\n      <td>0.0</td>\n      <td>0.0</td>\n      <td>0.0</td>\n      <td>NaN</td>\n      <td>0.00</td>\n      <td>0.00</td>\n      <td>...</td>\n      <td>NaN</td>\n      <td>NaN</td>\n      <td>0.000</td>\n      <td>0.0</td>\n      <td>2.494</td>\n      <td>0.0</td>\n      <td>0.0</td>\n      <td>0.0</td>\n      <td>0.0</td>\n      <td>2.494</td>\n    </tr>\n    <tr>\n      <th>2305</th>\n      <td>241637</td>\n      <td>2010</td>\n      <td>STD</td>\n      <td>BUD</td>\n      <td>0.0</td>\n      <td>0.0</td>\n      <td>0.0</td>\n      <td>NaN</td>\n      <td>0.00</td>\n      <td>0.00</td>\n      <td>...</td>\n      <td>NaN</td>\n      <td>NaN</td>\n      <td>0.000</td>\n      <td>0.0</td>\n      <td>1193.000</td>\n      <td>0.0</td>\n      <td>0.0</td>\n      <td>0.0</td>\n      <td>0.0</td>\n      <td>1193.000</td>\n    </tr>\n    <tr>\n      <th>2307</th>\n      <td>241637</td>\n      <td>2011</td>\n      <td>STD</td>\n      <td>BUD</td>\n      <td>0.0</td>\n      <td>0.0</td>\n      <td>0.0</td>\n      <td>NaN</td>\n      <td>0.00</td>\n      <td>0.00</td>\n      <td>...</td>\n      <td>NaN</td>\n      <td>NaN</td>\n      <td>-12.000</td>\n      <td>0.0</td>\n      <td>818.000</td>\n      <td>0.0</td>\n      <td>0.0</td>\n      <td>0.0</td>\n      <td>0.0</td>\n      <td>806.000</td>\n    </tr>\n    <tr>\n      <th>2309</th>\n      <td>241637</td>\n      <td>2012</td>\n      <td>STD</td>\n      <td>BUD</td>\n      <td>0.0</td>\n      <td>0.0</td>\n      <td>83.0</td>\n      <td>NaN</td>\n      <td>0.05</td>\n      <td>0.05</td>\n      <td>...</td>\n      <td>NaN</td>\n      <td>NaN</td>\n      <td>-12.000</td>\n      <td>26.0</td>\n      <td>50.000</td>\n      <td>146.0</td>\n      <td>37.0</td>\n      <td>0.0</td>\n      <td>-171.0</td>\n      <td>184.100</td>\n    </tr>\n    <tr>\n      <th>2313</th>\n      <td>264393</td>\n      <td>2010</td>\n      <td>STD</td>\n      <td>IVFH</td>\n      <td>0.0</td>\n      <td>0.0</td>\n      <td>0.0</td>\n      <td>NaN</td>\n      <td>0.49</td>\n      <td>0.49</td>\n      <td>...</td>\n      <td>NaN</td>\n      <td>NaN</td>\n      <td>0.001</td>\n      <td>0.0</td>\n      <td>0.000</td>\n      <td>0.0</td>\n      <td>0.0</td>\n      <td>0.0</td>\n      <td>0.0</td>\n      <td>0.981</td>\n    </tr>\n  </tbody>\n</table>\n<p>568 rows × 22 columns</p>\n</div>"
     },
     "execution_count": 892,
     "metadata": {},
     "output_type": "execute_result"
    }
   ],
   "source": [
    "# Trim Diff -- only rows that compare same gvkey and same year\n",
    "fund_restatement_diff = fund_restatement_diff[fund_restatement_diff['gvkey_diff'] == 0]\n",
    "fund_restatement_diff = fund_restatement_diff[fund_restatement_diff['fyear_diff'] == 0]\n",
    "\n",
    "# Add Sum Column\n",
    "#TODO: Make Diffs Absolute so positive/negative don't cancel each other\n",
    "colsToSum = ['ni','revt','epsfi','epspi','cogs', # \"A-LIST Identifiers\n",
    "             'spce','xopr','gdwl','teq', 'mii','nopi','pi','txt','wcap','xsga']\n",
    "\n",
    "fund_restatement_diff['sum_diff'] = fund_restatement_diff[colsToSum].sum(axis=1)\n",
    "\n",
    "#Drop Columns Where Sum of Diffs = 0\n",
    "fund_restatement_diff = fund_restatement_diff[fund_restatement_diff['sum_diff'] > 0]\n",
    "fund_restatement_diff"
   ],
   "metadata": {
    "collapsed": false,
    "pycharm": {
     "name": "#%%\n"
    }
   }
  },
  {
   "cell_type": "code",
   "execution_count": 893,
   "outputs": [
    {
     "data": {
      "text/plain": "       gvkey  fyear datafmt   tic  gvkey_diff  fyear_diff    ni  revt  epsfi  \\\n1       1239   2010     STD   ACV         0.0         0.0   0.0   NaN   0.00   \n3       1266   2010     STD  ALCO         0.0         0.0   0.0   NaN   0.00   \n5       1266   2011     STD  ALCO         0.0         0.0   0.0   NaN   0.00   \n7       1266   2012     STD  ALCO         0.0         0.0   0.0   NaN   0.00   \n11      1408   2010     STD  BEAM         0.0         0.0   0.0   NaN   0.00   \n...      ...    ...     ...   ...         ...         ...   ...   ...    ...   \n2272  199456   2013     STD  RNDY         0.0         0.0   0.0   NaN   0.00   \n2305  241637   2010     STD   BUD         0.0         0.0   0.0   NaN   0.00   \n2307  241637   2011     STD   BUD         0.0         0.0   0.0   NaN   0.00   \n2309  241637   2012     STD   BUD         0.0         0.0  83.0   NaN   0.05   \n2313  264393   2010     STD  IVFH         0.0         0.0   0.0   NaN   0.49   \n\n      epspi  ...  gdwl     teq   mii      nopi     pi   txt  wcap    xsga  \\\n1      0.00  ...   NaN   2.628   0.0    15.174    0.0   0.0   0.0     0.0   \n3      0.00  ...   NaN   0.000   0.0     3.100    0.0   0.0   0.0     0.0   \n5      0.00  ...   NaN   0.000   0.0     1.685    0.0   0.0   0.0     0.0   \n7      0.00  ...   NaN   0.000   0.0     1.918    0.0   0.0   0.0     0.0   \n11     0.00  ...   NaN  -3.000   8.4    15.800  241.9  55.4   NaN  1325.1   \n...     ...  ...   ...     ...   ...       ...    ...   ...   ...     ...   \n2272   0.00  ...   NaN   0.000   0.0     2.494    0.0   0.0   0.0     0.0   \n2305   0.00  ...   NaN   0.000   0.0  1193.000    0.0   0.0   0.0     0.0   \n2307   0.00  ...   NaN -12.000   0.0   818.000    0.0   0.0   0.0     0.0   \n2309   0.05  ...   NaN -12.000  26.0    50.000  146.0  37.0   0.0  -171.0   \n2313   0.49  ...   NaN   0.001   0.0     0.000    0.0   0.0   0.0     0.0   \n\n      sum_diff  a_sum_diff  \n1       17.802        0.00  \n3        3.100        0.00  \n5        1.685        0.00  \n7        1.918        0.00  \n11    4341.100     2697.50  \n...        ...         ...  \n2272     2.494        0.00  \n2305  1193.000        0.00  \n2307   806.000        0.00  \n2309   184.100      108.10  \n2313     0.981        0.98  \n\n[568 rows x 23 columns]",
      "text/html": "<div>\n<style scoped>\n    .dataframe tbody tr th:only-of-type {\n        vertical-align: middle;\n    }\n\n    .dataframe tbody tr th {\n        vertical-align: top;\n    }\n\n    .dataframe thead th {\n        text-align: right;\n    }\n</style>\n<table border=\"1\" class=\"dataframe\">\n  <thead>\n    <tr style=\"text-align: right;\">\n      <th></th>\n      <th>gvkey</th>\n      <th>fyear</th>\n      <th>datafmt</th>\n      <th>tic</th>\n      <th>gvkey_diff</th>\n      <th>fyear_diff</th>\n      <th>ni</th>\n      <th>revt</th>\n      <th>epsfi</th>\n      <th>epspi</th>\n      <th>...</th>\n      <th>gdwl</th>\n      <th>teq</th>\n      <th>mii</th>\n      <th>nopi</th>\n      <th>pi</th>\n      <th>txt</th>\n      <th>wcap</th>\n      <th>xsga</th>\n      <th>sum_diff</th>\n      <th>a_sum_diff</th>\n    </tr>\n  </thead>\n  <tbody>\n    <tr>\n      <th>1</th>\n      <td>1239</td>\n      <td>2010</td>\n      <td>STD</td>\n      <td>ACV</td>\n      <td>0.0</td>\n      <td>0.0</td>\n      <td>0.0</td>\n      <td>NaN</td>\n      <td>0.00</td>\n      <td>0.00</td>\n      <td>...</td>\n      <td>NaN</td>\n      <td>2.628</td>\n      <td>0.0</td>\n      <td>15.174</td>\n      <td>0.0</td>\n      <td>0.0</td>\n      <td>0.0</td>\n      <td>0.0</td>\n      <td>17.802</td>\n      <td>0.00</td>\n    </tr>\n    <tr>\n      <th>3</th>\n      <td>1266</td>\n      <td>2010</td>\n      <td>STD</td>\n      <td>ALCO</td>\n      <td>0.0</td>\n      <td>0.0</td>\n      <td>0.0</td>\n      <td>NaN</td>\n      <td>0.00</td>\n      <td>0.00</td>\n      <td>...</td>\n      <td>NaN</td>\n      <td>0.000</td>\n      <td>0.0</td>\n      <td>3.100</td>\n      <td>0.0</td>\n      <td>0.0</td>\n      <td>0.0</td>\n      <td>0.0</td>\n      <td>3.100</td>\n      <td>0.00</td>\n    </tr>\n    <tr>\n      <th>5</th>\n      <td>1266</td>\n      <td>2011</td>\n      <td>STD</td>\n      <td>ALCO</td>\n      <td>0.0</td>\n      <td>0.0</td>\n      <td>0.0</td>\n      <td>NaN</td>\n      <td>0.00</td>\n      <td>0.00</td>\n      <td>...</td>\n      <td>NaN</td>\n      <td>0.000</td>\n      <td>0.0</td>\n      <td>1.685</td>\n      <td>0.0</td>\n      <td>0.0</td>\n      <td>0.0</td>\n      <td>0.0</td>\n      <td>1.685</td>\n      <td>0.00</td>\n    </tr>\n    <tr>\n      <th>7</th>\n      <td>1266</td>\n      <td>2012</td>\n      <td>STD</td>\n      <td>ALCO</td>\n      <td>0.0</td>\n      <td>0.0</td>\n      <td>0.0</td>\n      <td>NaN</td>\n      <td>0.00</td>\n      <td>0.00</td>\n      <td>...</td>\n      <td>NaN</td>\n      <td>0.000</td>\n      <td>0.0</td>\n      <td>1.918</td>\n      <td>0.0</td>\n      <td>0.0</td>\n      <td>0.0</td>\n      <td>0.0</td>\n      <td>1.918</td>\n      <td>0.00</td>\n    </tr>\n    <tr>\n      <th>11</th>\n      <td>1408</td>\n      <td>2010</td>\n      <td>STD</td>\n      <td>BEAM</td>\n      <td>0.0</td>\n      <td>0.0</td>\n      <td>0.0</td>\n      <td>NaN</td>\n      <td>0.00</td>\n      <td>0.00</td>\n      <td>...</td>\n      <td>NaN</td>\n      <td>-3.000</td>\n      <td>8.4</td>\n      <td>15.800</td>\n      <td>241.9</td>\n      <td>55.4</td>\n      <td>NaN</td>\n      <td>1325.1</td>\n      <td>4341.100</td>\n      <td>2697.50</td>\n    </tr>\n    <tr>\n      <th>...</th>\n      <td>...</td>\n      <td>...</td>\n      <td>...</td>\n      <td>...</td>\n      <td>...</td>\n      <td>...</td>\n      <td>...</td>\n      <td>...</td>\n      <td>...</td>\n      <td>...</td>\n      <td>...</td>\n      <td>...</td>\n      <td>...</td>\n      <td>...</td>\n      <td>...</td>\n      <td>...</td>\n      <td>...</td>\n      <td>...</td>\n      <td>...</td>\n      <td>...</td>\n      <td>...</td>\n    </tr>\n    <tr>\n      <th>2272</th>\n      <td>199456</td>\n      <td>2013</td>\n      <td>STD</td>\n      <td>RNDY</td>\n      <td>0.0</td>\n      <td>0.0</td>\n      <td>0.0</td>\n      <td>NaN</td>\n      <td>0.00</td>\n      <td>0.00</td>\n      <td>...</td>\n      <td>NaN</td>\n      <td>0.000</td>\n      <td>0.0</td>\n      <td>2.494</td>\n      <td>0.0</td>\n      <td>0.0</td>\n      <td>0.0</td>\n      <td>0.0</td>\n      <td>2.494</td>\n      <td>0.00</td>\n    </tr>\n    <tr>\n      <th>2305</th>\n      <td>241637</td>\n      <td>2010</td>\n      <td>STD</td>\n      <td>BUD</td>\n      <td>0.0</td>\n      <td>0.0</td>\n      <td>0.0</td>\n      <td>NaN</td>\n      <td>0.00</td>\n      <td>0.00</td>\n      <td>...</td>\n      <td>NaN</td>\n      <td>0.000</td>\n      <td>0.0</td>\n      <td>1193.000</td>\n      <td>0.0</td>\n      <td>0.0</td>\n      <td>0.0</td>\n      <td>0.0</td>\n      <td>1193.000</td>\n      <td>0.00</td>\n    </tr>\n    <tr>\n      <th>2307</th>\n      <td>241637</td>\n      <td>2011</td>\n      <td>STD</td>\n      <td>BUD</td>\n      <td>0.0</td>\n      <td>0.0</td>\n      <td>0.0</td>\n      <td>NaN</td>\n      <td>0.00</td>\n      <td>0.00</td>\n      <td>...</td>\n      <td>NaN</td>\n      <td>-12.000</td>\n      <td>0.0</td>\n      <td>818.000</td>\n      <td>0.0</td>\n      <td>0.0</td>\n      <td>0.0</td>\n      <td>0.0</td>\n      <td>806.000</td>\n      <td>0.00</td>\n    </tr>\n    <tr>\n      <th>2309</th>\n      <td>241637</td>\n      <td>2012</td>\n      <td>STD</td>\n      <td>BUD</td>\n      <td>0.0</td>\n      <td>0.0</td>\n      <td>83.0</td>\n      <td>NaN</td>\n      <td>0.05</td>\n      <td>0.05</td>\n      <td>...</td>\n      <td>NaN</td>\n      <td>-12.000</td>\n      <td>26.0</td>\n      <td>50.000</td>\n      <td>146.0</td>\n      <td>37.0</td>\n      <td>0.0</td>\n      <td>-171.0</td>\n      <td>184.100</td>\n      <td>108.10</td>\n    </tr>\n    <tr>\n      <th>2313</th>\n      <td>264393</td>\n      <td>2010</td>\n      <td>STD</td>\n      <td>IVFH</td>\n      <td>0.0</td>\n      <td>0.0</td>\n      <td>0.0</td>\n      <td>NaN</td>\n      <td>0.49</td>\n      <td>0.49</td>\n      <td>...</td>\n      <td>NaN</td>\n      <td>0.001</td>\n      <td>0.0</td>\n      <td>0.000</td>\n      <td>0.0</td>\n      <td>0.0</td>\n      <td>0.0</td>\n      <td>0.0</td>\n      <td>0.981</td>\n      <td>0.98</td>\n    </tr>\n  </tbody>\n</table>\n<p>568 rows × 23 columns</p>\n</div>"
     },
     "execution_count": 893,
     "metadata": {},
     "output_type": "execute_result"
    }
   ],
   "source": [
    "a_colsToSum = ['ni','revt','epsfi','epspi','cogs'] # \"A-LIST Identifiers\n",
    "fund_restatement_diff['a_sum_diff'] = fund_restatement_diff[a_colsToSum].sum(axis=1)\n",
    "fund_restatement_diff"
   ],
   "metadata": {
    "collapsed": false,
    "pycharm": {
     "name": "#%%\n"
    }
   }
  },
  {
   "cell_type": "code",
   "execution_count": 894,
   "outputs": [
    {
     "data": {
      "text/plain": "      gvkey  count  sum_diff  count_of_diffs  a_sum_diff  a_count_of_diffs\n0      1239      1    17.802               2       0.000                 0\n1      1266      3     6.703               3       0.000                 0\n2      1408      3  4799.820              14    2708.520                 5\n3      1429      4     4.960               5       4.897                 4\n4      1659      2     7.844               3       1.644                 1\n..      ...    ...       ...             ...         ...               ...\n236  196258      1     0.022               3       0.017                 1\n237  197956      4   254.256              26       1.588                 9\n238  199456      3   139.671               6       0.160                 4\n239  241637      3  2183.100              10     108.100                 4\n240  264393      1     0.981               3       0.980                 2\n\n[241 rows x 6 columns]",
      "text/html": "<div>\n<style scoped>\n    .dataframe tbody tr th:only-of-type {\n        vertical-align: middle;\n    }\n\n    .dataframe tbody tr th {\n        vertical-align: top;\n    }\n\n    .dataframe thead th {\n        text-align: right;\n    }\n</style>\n<table border=\"1\" class=\"dataframe\">\n  <thead>\n    <tr style=\"text-align: right;\">\n      <th></th>\n      <th>gvkey</th>\n      <th>count</th>\n      <th>sum_diff</th>\n      <th>count_of_diffs</th>\n      <th>a_sum_diff</th>\n      <th>a_count_of_diffs</th>\n    </tr>\n  </thead>\n  <tbody>\n    <tr>\n      <th>0</th>\n      <td>1239</td>\n      <td>1</td>\n      <td>17.802</td>\n      <td>2</td>\n      <td>0.000</td>\n      <td>0</td>\n    </tr>\n    <tr>\n      <th>1</th>\n      <td>1266</td>\n      <td>3</td>\n      <td>6.703</td>\n      <td>3</td>\n      <td>0.000</td>\n      <td>0</td>\n    </tr>\n    <tr>\n      <th>2</th>\n      <td>1408</td>\n      <td>3</td>\n      <td>4799.820</td>\n      <td>14</td>\n      <td>2708.520</td>\n      <td>5</td>\n    </tr>\n    <tr>\n      <th>3</th>\n      <td>1429</td>\n      <td>4</td>\n      <td>4.960</td>\n      <td>5</td>\n      <td>4.897</td>\n      <td>4</td>\n    </tr>\n    <tr>\n      <th>4</th>\n      <td>1659</td>\n      <td>2</td>\n      <td>7.844</td>\n      <td>3</td>\n      <td>1.644</td>\n      <td>1</td>\n    </tr>\n    <tr>\n      <th>...</th>\n      <td>...</td>\n      <td>...</td>\n      <td>...</td>\n      <td>...</td>\n      <td>...</td>\n      <td>...</td>\n    </tr>\n    <tr>\n      <th>236</th>\n      <td>196258</td>\n      <td>1</td>\n      <td>0.022</td>\n      <td>3</td>\n      <td>0.017</td>\n      <td>1</td>\n    </tr>\n    <tr>\n      <th>237</th>\n      <td>197956</td>\n      <td>4</td>\n      <td>254.256</td>\n      <td>26</td>\n      <td>1.588</td>\n      <td>9</td>\n    </tr>\n    <tr>\n      <th>238</th>\n      <td>199456</td>\n      <td>3</td>\n      <td>139.671</td>\n      <td>6</td>\n      <td>0.160</td>\n      <td>4</td>\n    </tr>\n    <tr>\n      <th>239</th>\n      <td>241637</td>\n      <td>3</td>\n      <td>2183.100</td>\n      <td>10</td>\n      <td>108.100</td>\n      <td>4</td>\n    </tr>\n    <tr>\n      <th>240</th>\n      <td>264393</td>\n      <td>1</td>\n      <td>0.981</td>\n      <td>3</td>\n      <td>0.980</td>\n      <td>2</td>\n    </tr>\n  </tbody>\n</table>\n<p>241 rows × 6 columns</p>\n</div>"
     },
     "execution_count": 894,
     "metadata": {},
     "output_type": "execute_result"
    }
   ],
   "source": [
    "# Create Diff Summary\n",
    "fund_restatement_summary = fund_restatement_diff\n",
    "\n",
    "## Add Column that counts non-zero's per row\n",
    "fund_restatement_summary['count_of_diffs'] = fund_restatement_summary[colsToSum].gt(0).sum(axis=1)\n",
    "fund_restatement_summary['a_count_of_diffs'] = fund_restatement_summary[a_colsToSum].gt(0).sum(axis=1)\n",
    "\n",
    "# Drop Individual Counts, _diff columns, tic,\n",
    "fund_restatement_summary = fund_restatement_summary.drop(columns=['datafmt','tic','gvkey_diff','fyear_diff',\n",
    "                                                                  'cogs','mii','nopi','pi','txt','wcap','xsga'])\n",
    "\n",
    "# Group By -- Turn Year into count of years\n",
    "fund_restatement_summary = fund_restatement_summary.groupby('gvkey')\\\n",
    "    .agg({'fyear':'count','sum_diff':'sum', 'count_of_diffs': 'sum',\n",
    "          'a_sum_diff':'sum','a_count_of_diffs': 'sum'}).reset_index()\n",
    "fund_restatement_summary = fund_restatement_summary.rename(columns={'fyear':'count'})\n",
    "fund_restatement_summary"
   ],
   "metadata": {
    "collapsed": false,
    "pycharm": {
     "name": "#%%\n"
    }
   }
  },
  {
   "cell_type": "code",
   "execution_count": 895,
   "outputs": [
    {
     "data": {
      "text/plain": "      gvkey  rest_count  rest_sum_diff  rest_count_of_diffs  rest_a_sum_diff  \\\n0      1239           1         17.802                    2            0.000   \n1      1266           3          6.703                    3            0.000   \n2      1408           3       4799.820                   14         2708.520   \n3      1429           4          4.960                    5            4.897   \n4      1659           2          7.844                    3            1.644   \n..      ...         ...            ...                  ...              ...   \n236  196258           1          0.022                    3            0.017   \n237  197956           4        254.256                   26            1.588   \n238  199456           3        139.671                    6            0.160   \n239  241637           3       2183.100                   10          108.100   \n240  264393           1          0.981                    3            0.980   \n\n     rest_a_count_of_diffs  \n0                        0  \n1                        0  \n2                        5  \n3                        4  \n4                        1  \n..                     ...  \n236                      1  \n237                      9  \n238                      4  \n239                      4  \n240                      2  \n\n[241 rows x 6 columns]",
      "text/html": "<div>\n<style scoped>\n    .dataframe tbody tr th:only-of-type {\n        vertical-align: middle;\n    }\n\n    .dataframe tbody tr th {\n        vertical-align: top;\n    }\n\n    .dataframe thead th {\n        text-align: right;\n    }\n</style>\n<table border=\"1\" class=\"dataframe\">\n  <thead>\n    <tr style=\"text-align: right;\">\n      <th></th>\n      <th>gvkey</th>\n      <th>rest_count</th>\n      <th>rest_sum_diff</th>\n      <th>rest_count_of_diffs</th>\n      <th>rest_a_sum_diff</th>\n      <th>rest_a_count_of_diffs</th>\n    </tr>\n  </thead>\n  <tbody>\n    <tr>\n      <th>0</th>\n      <td>1239</td>\n      <td>1</td>\n      <td>17.802</td>\n      <td>2</td>\n      <td>0.000</td>\n      <td>0</td>\n    </tr>\n    <tr>\n      <th>1</th>\n      <td>1266</td>\n      <td>3</td>\n      <td>6.703</td>\n      <td>3</td>\n      <td>0.000</td>\n      <td>0</td>\n    </tr>\n    <tr>\n      <th>2</th>\n      <td>1408</td>\n      <td>3</td>\n      <td>4799.820</td>\n      <td>14</td>\n      <td>2708.520</td>\n      <td>5</td>\n    </tr>\n    <tr>\n      <th>3</th>\n      <td>1429</td>\n      <td>4</td>\n      <td>4.960</td>\n      <td>5</td>\n      <td>4.897</td>\n      <td>4</td>\n    </tr>\n    <tr>\n      <th>4</th>\n      <td>1659</td>\n      <td>2</td>\n      <td>7.844</td>\n      <td>3</td>\n      <td>1.644</td>\n      <td>1</td>\n    </tr>\n    <tr>\n      <th>...</th>\n      <td>...</td>\n      <td>...</td>\n      <td>...</td>\n      <td>...</td>\n      <td>...</td>\n      <td>...</td>\n    </tr>\n    <tr>\n      <th>236</th>\n      <td>196258</td>\n      <td>1</td>\n      <td>0.022</td>\n      <td>3</td>\n      <td>0.017</td>\n      <td>1</td>\n    </tr>\n    <tr>\n      <th>237</th>\n      <td>197956</td>\n      <td>4</td>\n      <td>254.256</td>\n      <td>26</td>\n      <td>1.588</td>\n      <td>9</td>\n    </tr>\n    <tr>\n      <th>238</th>\n      <td>199456</td>\n      <td>3</td>\n      <td>139.671</td>\n      <td>6</td>\n      <td>0.160</td>\n      <td>4</td>\n    </tr>\n    <tr>\n      <th>239</th>\n      <td>241637</td>\n      <td>3</td>\n      <td>2183.100</td>\n      <td>10</td>\n      <td>108.100</td>\n      <td>4</td>\n    </tr>\n    <tr>\n      <th>240</th>\n      <td>264393</td>\n      <td>1</td>\n      <td>0.981</td>\n      <td>3</td>\n      <td>0.980</td>\n      <td>2</td>\n    </tr>\n  </tbody>\n</table>\n<p>241 rows × 6 columns</p>\n</div>"
     },
     "execution_count": 895,
     "metadata": {},
     "output_type": "execute_result"
    }
   ],
   "source": [
    "# rename for clarity\n",
    "\n",
    "fund_restatement_summary = fund_restatement_summary.add_prefix(prefix=\"rest_\")\n",
    "fund_restatement_summary = fund_restatement_summary.rename(columns={'rest_gvkey':'gvkey'})\n",
    "fund_restatement_summary"
   ],
   "metadata": {
    "collapsed": false,
    "pycharm": {
     "name": "#%%\n"
    }
   }
  },
  {
   "cell_type": "code",
   "execution_count": 896,
   "outputs": [],
   "source": [
    "# Export Diff Reports to Excel\n",
    "\n",
    "with pd.ExcelWriter(exportPath + 'Fundamentals_Restatement_Diff_Reports.xlsx') as writer:\n",
    "    fund_restatement_diff.to_excel(writer, sheet_name='All_Diffs')\n",
    "    fund_restatement_summary.to_excel(writer, sheet_name='Summary')\n"
   ],
   "metadata": {
    "collapsed": false,
    "pycharm": {
     "name": "#%%\n"
    }
   }
  },
  {
   "cell_type": "markdown",
   "source": [
    "### Fundamentals -- Resume Data Clean-up\n",
    "Many columns could not be dropped until restatement was calculated"
   ],
   "metadata": {
    "collapsed": false
   }
  },
  {
   "cell_type": "code",
   "execution_count": 897,
   "outputs": [
    {
     "data": {
      "text/plain": "             DF                                         ActionDesc  \\\n0  Fundamentals  Dropped obvious low value columns -- 1 -- Date...   \n1  Fundamentals  Initial Null Drop -- columns w/ 63% Null or more.   \n2  Fundamentals          Dropped columns with only 1 unique value    \n3  Fundamentals  Dropping all that are not standard statements ...   \n\n                                        List-of-Cols   ResultShape  \n0  [datadate, apdedate, fdate, pdate, fyr, add1, ...  (2323, 1744)  \n1  [acctchg, acqmeth, adrr, bspr, compst, curuscn...   (2323, 326)  \n2  [indfmt, consol, popsrc, curcd, final, scf, ac...   (2323, 310)  \n3   applies to all cols, roughly 50% of rows dropped   (1243, 310)  ",
      "text/html": "<div>\n<style scoped>\n    .dataframe tbody tr th:only-of-type {\n        vertical-align: middle;\n    }\n\n    .dataframe tbody tr th {\n        vertical-align: top;\n    }\n\n    .dataframe thead th {\n        text-align: right;\n    }\n</style>\n<table border=\"1\" class=\"dataframe\">\n  <thead>\n    <tr style=\"text-align: right;\">\n      <th></th>\n      <th>DF</th>\n      <th>ActionDesc</th>\n      <th>List-of-Cols</th>\n      <th>ResultShape</th>\n    </tr>\n  </thead>\n  <tbody>\n    <tr>\n      <th>0</th>\n      <td>Fundamentals</td>\n      <td>Dropped obvious low value columns -- 1 -- Date...</td>\n      <td>[datadate, apdedate, fdate, pdate, fyr, add1, ...</td>\n      <td>(2323, 1744)</td>\n    </tr>\n    <tr>\n      <th>1</th>\n      <td>Fundamentals</td>\n      <td>Initial Null Drop -- columns w/ 63% Null or more.</td>\n      <td>[acctchg, acqmeth, adrr, bspr, compst, curuscn...</td>\n      <td>(2323, 326)</td>\n    </tr>\n    <tr>\n      <th>2</th>\n      <td>Fundamentals</td>\n      <td>Dropped columns with only 1 unique value</td>\n      <td>[indfmt, consol, popsrc, curcd, final, scf, ac...</td>\n      <td>(2323, 310)</td>\n    </tr>\n    <tr>\n      <th>3</th>\n      <td>Fundamentals</td>\n      <td>Dropping all that are not standard statements ...</td>\n      <td>applies to all cols, roughly 50% of rows dropped</td>\n      <td>(1243, 310)</td>\n    </tr>\n  </tbody>\n</table>\n</div>"
     },
     "execution_count": 897,
     "metadata": {},
     "output_type": "execute_result"
    }
   ],
   "source": [
    "# drop restatement rows\n",
    "## no longer useful since restatement data has been summarized\n",
    "fundamentals = fundamentals[fundamentals['datafmt'] == 'STD']\n",
    "\n",
    "cleanActionsDesc = 'Dropping all that are not standard statements -- value of others captured in restatement summary'\n",
    "df_name = 'Fundamentals'\n",
    "cols = 'applies to all cols, roughly 50% of rows dropped'\n",
    "\n",
    "cleanActionsReport(fundamentals,df_name,cleanActionsDesc, cols)"
   ],
   "metadata": {
    "collapsed": false,
    "pycharm": {
     "name": "#%%\n"
    }
   }
  },
  {
   "cell_type": "code",
   "execution_count": 898,
   "outputs": [
    {
     "name": "stdout",
     "output_type": "stream",
     "text": [
      "dropped: 45\n",
      "columns that where dropped where: ['cld2', 'cld3', 'cld4', 'cld5', 'cshr', 'dd3', 'dd4', 'dd5', 'dltp', 'dxd2', 'dxd3', 'dxd4', 'dxd5', 'fatb', 'fate', 'fato', 'fatp', 'invfg', 'invo', 'itci', 'mrc2', 'mrc3', 'mrc4', 'mrc5', 'mrct', 'optca', 'optex', 'optexd', 'optgr', 'optosby', 'optosey', 'recd', 'sppe', 'stkco', 'txc', 'txdfed', 'txdfo', 'txds', 'txfed', 'txs', 'xrent', 'mkvalt', 'spcindcd', 'spcseccd', 'spcsrc']\n"
     ]
    },
    {
     "data": {
      "text/plain": "      Unnamed: 0   gvkey  fyear datafmt   tic                         conm  \\\n1            219    1239   2010     STD   ACV            ALBERTO-CULVER CO   \n3            243    1266   2010     STD  ALCO                    ALICO INC   \n5            245    1266   2011     STD  ALCO                    ALICO INC   \n7            247    1266   2012     STD  ALCO                    ALICO INC   \n8            248    1266   2013     STD  ALCO                    ALICO INC   \n...          ...     ...    ...     ...   ...                          ...   \n2317       60831  264393   2012     STD  IVFH     INNOVATIVE FOOD HOLDINGS   \n2319       60833  264393   2013     STD  IVFH     INNOVATIVE FOOD HOLDINGS   \n2320       61135  277487   2011     STD   LND  BRASILAGRO CIA BRAS DE PROP   \n2321       61136  277487   2012     STD   LND  BRASILAGRO CIA BRAS DE PROP   \n2322       61137  277487   2013     STD   LND  BRASILAGRO CIA BRAS DE PROP   \n\n     acctstd  ajex  ajp curncd  ...  auopic  ceoso  cfoso  dpact_fn  rdipd_fn  \\\n1         DS   1.0  1.0    USD  ...     1.0      Y      Y        TS        NR   \n3         DS   1.0  1.0    USD  ...     1.0      Y      Y        TB        NR   \n5         DS   1.0  1.0    USD  ...     1.0      Y      Y        TS        NR   \n7         DS   1.0  1.0    USD  ...     1.0      Y      Y        TS        NR   \n8         DS   1.0  1.0    USD  ...     1.0      Y      Y        TS        NR   \n...      ...   ...  ...    ...  ...     ...    ...    ...       ...       ...   \n2317      DS   1.0  1.0    USD  ...     0.0      Y      Y        TS        NR   \n2319      DS   1.0  1.0    USD  ...     0.0      Y      Y        TS        NR   \n2320      DI   1.0  1.0    BRR  ...     0.0      E      E        TS        NR   \n2321      DI   1.0  1.0    BRR  ...     0.0      E      E        TS        NR   \n2322      DI   1.0  1.0    BRR  ...     0.0      Y      Y        TS        NR   \n\n      rdipeps_fn  ggroup    gind  idbflag  priusa  \n1             NR    3030  303020        D       1  \n3             NR    3020  302020        D       1  \n5             NR    3020  302020        D       1  \n7             NR    3020  302020        D       1  \n8             NR    3020  302020        D       1  \n...          ...     ...     ...      ...     ...  \n2317          NR    3010  301010        D       1  \n2319          NR    3010  301010        D       1  \n2320          NR    3020  302020        B      90  \n2321          NR    3020  302020        B      90  \n2322          NR    3020  302020        B      90  \n\n[1243 rows x 265 columns]",
      "text/html": "<div>\n<style scoped>\n    .dataframe tbody tr th:only-of-type {\n        vertical-align: middle;\n    }\n\n    .dataframe tbody tr th {\n        vertical-align: top;\n    }\n\n    .dataframe thead th {\n        text-align: right;\n    }\n</style>\n<table border=\"1\" class=\"dataframe\">\n  <thead>\n    <tr style=\"text-align: right;\">\n      <th></th>\n      <th>Unnamed: 0</th>\n      <th>gvkey</th>\n      <th>fyear</th>\n      <th>datafmt</th>\n      <th>tic</th>\n      <th>conm</th>\n      <th>acctstd</th>\n      <th>ajex</th>\n      <th>ajp</th>\n      <th>curncd</th>\n      <th>...</th>\n      <th>auopic</th>\n      <th>ceoso</th>\n      <th>cfoso</th>\n      <th>dpact_fn</th>\n      <th>rdipd_fn</th>\n      <th>rdipeps_fn</th>\n      <th>ggroup</th>\n      <th>gind</th>\n      <th>idbflag</th>\n      <th>priusa</th>\n    </tr>\n  </thead>\n  <tbody>\n    <tr>\n      <th>1</th>\n      <td>219</td>\n      <td>1239</td>\n      <td>2010</td>\n      <td>STD</td>\n      <td>ACV</td>\n      <td>ALBERTO-CULVER CO</td>\n      <td>DS</td>\n      <td>1.0</td>\n      <td>1.0</td>\n      <td>USD</td>\n      <td>...</td>\n      <td>1.0</td>\n      <td>Y</td>\n      <td>Y</td>\n      <td>TS</td>\n      <td>NR</td>\n      <td>NR</td>\n      <td>3030</td>\n      <td>303020</td>\n      <td>D</td>\n      <td>1</td>\n    </tr>\n    <tr>\n      <th>3</th>\n      <td>243</td>\n      <td>1266</td>\n      <td>2010</td>\n      <td>STD</td>\n      <td>ALCO</td>\n      <td>ALICO INC</td>\n      <td>DS</td>\n      <td>1.0</td>\n      <td>1.0</td>\n      <td>USD</td>\n      <td>...</td>\n      <td>1.0</td>\n      <td>Y</td>\n      <td>Y</td>\n      <td>TB</td>\n      <td>NR</td>\n      <td>NR</td>\n      <td>3020</td>\n      <td>302020</td>\n      <td>D</td>\n      <td>1</td>\n    </tr>\n    <tr>\n      <th>5</th>\n      <td>245</td>\n      <td>1266</td>\n      <td>2011</td>\n      <td>STD</td>\n      <td>ALCO</td>\n      <td>ALICO INC</td>\n      <td>DS</td>\n      <td>1.0</td>\n      <td>1.0</td>\n      <td>USD</td>\n      <td>...</td>\n      <td>1.0</td>\n      <td>Y</td>\n      <td>Y</td>\n      <td>TS</td>\n      <td>NR</td>\n      <td>NR</td>\n      <td>3020</td>\n      <td>302020</td>\n      <td>D</td>\n      <td>1</td>\n    </tr>\n    <tr>\n      <th>7</th>\n      <td>247</td>\n      <td>1266</td>\n      <td>2012</td>\n      <td>STD</td>\n      <td>ALCO</td>\n      <td>ALICO INC</td>\n      <td>DS</td>\n      <td>1.0</td>\n      <td>1.0</td>\n      <td>USD</td>\n      <td>...</td>\n      <td>1.0</td>\n      <td>Y</td>\n      <td>Y</td>\n      <td>TS</td>\n      <td>NR</td>\n      <td>NR</td>\n      <td>3020</td>\n      <td>302020</td>\n      <td>D</td>\n      <td>1</td>\n    </tr>\n    <tr>\n      <th>8</th>\n      <td>248</td>\n      <td>1266</td>\n      <td>2013</td>\n      <td>STD</td>\n      <td>ALCO</td>\n      <td>ALICO INC</td>\n      <td>DS</td>\n      <td>1.0</td>\n      <td>1.0</td>\n      <td>USD</td>\n      <td>...</td>\n      <td>1.0</td>\n      <td>Y</td>\n      <td>Y</td>\n      <td>TS</td>\n      <td>NR</td>\n      <td>NR</td>\n      <td>3020</td>\n      <td>302020</td>\n      <td>D</td>\n      <td>1</td>\n    </tr>\n    <tr>\n      <th>...</th>\n      <td>...</td>\n      <td>...</td>\n      <td>...</td>\n      <td>...</td>\n      <td>...</td>\n      <td>...</td>\n      <td>...</td>\n      <td>...</td>\n      <td>...</td>\n      <td>...</td>\n      <td>...</td>\n      <td>...</td>\n      <td>...</td>\n      <td>...</td>\n      <td>...</td>\n      <td>...</td>\n      <td>...</td>\n      <td>...</td>\n      <td>...</td>\n      <td>...</td>\n      <td>...</td>\n    </tr>\n    <tr>\n      <th>2317</th>\n      <td>60831</td>\n      <td>264393</td>\n      <td>2012</td>\n      <td>STD</td>\n      <td>IVFH</td>\n      <td>INNOVATIVE FOOD HOLDINGS</td>\n      <td>DS</td>\n      <td>1.0</td>\n      <td>1.0</td>\n      <td>USD</td>\n      <td>...</td>\n      <td>0.0</td>\n      <td>Y</td>\n      <td>Y</td>\n      <td>TS</td>\n      <td>NR</td>\n      <td>NR</td>\n      <td>3010</td>\n      <td>301010</td>\n      <td>D</td>\n      <td>1</td>\n    </tr>\n    <tr>\n      <th>2319</th>\n      <td>60833</td>\n      <td>264393</td>\n      <td>2013</td>\n      <td>STD</td>\n      <td>IVFH</td>\n      <td>INNOVATIVE FOOD HOLDINGS</td>\n      <td>DS</td>\n      <td>1.0</td>\n      <td>1.0</td>\n      <td>USD</td>\n      <td>...</td>\n      <td>0.0</td>\n      <td>Y</td>\n      <td>Y</td>\n      <td>TS</td>\n      <td>NR</td>\n      <td>NR</td>\n      <td>3010</td>\n      <td>301010</td>\n      <td>D</td>\n      <td>1</td>\n    </tr>\n    <tr>\n      <th>2320</th>\n      <td>61135</td>\n      <td>277487</td>\n      <td>2011</td>\n      <td>STD</td>\n      <td>LND</td>\n      <td>BRASILAGRO CIA BRAS DE PROP</td>\n      <td>DI</td>\n      <td>1.0</td>\n      <td>1.0</td>\n      <td>BRR</td>\n      <td>...</td>\n      <td>0.0</td>\n      <td>E</td>\n      <td>E</td>\n      <td>TS</td>\n      <td>NR</td>\n      <td>NR</td>\n      <td>3020</td>\n      <td>302020</td>\n      <td>B</td>\n      <td>90</td>\n    </tr>\n    <tr>\n      <th>2321</th>\n      <td>61136</td>\n      <td>277487</td>\n      <td>2012</td>\n      <td>STD</td>\n      <td>LND</td>\n      <td>BRASILAGRO CIA BRAS DE PROP</td>\n      <td>DI</td>\n      <td>1.0</td>\n      <td>1.0</td>\n      <td>BRR</td>\n      <td>...</td>\n      <td>0.0</td>\n      <td>E</td>\n      <td>E</td>\n      <td>TS</td>\n      <td>NR</td>\n      <td>NR</td>\n      <td>3020</td>\n      <td>302020</td>\n      <td>B</td>\n      <td>90</td>\n    </tr>\n    <tr>\n      <th>2322</th>\n      <td>61137</td>\n      <td>277487</td>\n      <td>2013</td>\n      <td>STD</td>\n      <td>LND</td>\n      <td>BRASILAGRO CIA BRAS DE PROP</td>\n      <td>DI</td>\n      <td>1.0</td>\n      <td>1.0</td>\n      <td>BRR</td>\n      <td>...</td>\n      <td>0.0</td>\n      <td>Y</td>\n      <td>Y</td>\n      <td>TS</td>\n      <td>NR</td>\n      <td>NR</td>\n      <td>3020</td>\n      <td>302020</td>\n      <td>B</td>\n      <td>90</td>\n    </tr>\n  </tbody>\n</table>\n<p>1243 rows × 265 columns</p>\n</div>"
     },
     "execution_count": 898,
     "metadata": {},
     "output_type": "execute_result"
    }
   ],
   "source": [
    "# Second Column Reduce -- Nulls\n",
    "# Second Null Drop -- More than 20%\n",
    "cleanActionsDesc = \"Second Null Drop -- columns w/ 20% Null or more.\"\n",
    "df_name = \"Fundamentals\"\n",
    "\n",
    "fundamentals = dropCols_nullThresh(fundamentals,0.20,df_name,cleanActionsDesc)\n",
    "fundamentals\n"
   ],
   "metadata": {
    "collapsed": false,
    "pycharm": {
     "name": "#%%\n"
    }
   }
  },
  {
   "cell_type": "code",
   "execution_count": 899,
   "outputs": [
    {
     "data": {
      "text/plain": "         Column Count                                   ValueCounts\n3       datafmt     1                                 {'STD': 1243}\n11        ismod     2                 {1.0: 1137, nan: 81, 3.0: 25}\n14          upd     2                              {3: 1230, 2: 13}\n179        rdip     2               {0.0: 1202, nan: 40, -18.68: 1}\n180       rdipa     2  {0.0: 1194, nan: 48, -12.142000000000001: 1}\n181       rdipd     2                {0.0: 1157, nan: 85, -0.69: 1}\n182     rdipeps     2                {0.0: 1157, nan: 85, -0.69: 1}\n207       tstkp     2                  {0.0: 1188, nan: 51, 5.1: 4}\n221      txndbr     2   {0.0: 1120, nan: 122, 42.18600000000001: 1}\n230          xi     2  {0.0: 1202, nan: 40, 0.16399999999999998: 1}\n234     xintopt     2              {0.0: 1025, nan: 217, -0.006: 1}\n237      costat     2                          {'A': 1172, 'I': 71}\n259    rdipd_fn     2                {'NR': 1143, nan: 96, 'NC': 4}\n260  rdipeps_fn     2                {'NR': 1142, nan: 96, 'NC': 5}\n263     idbflag     2                         {'D': 1081, 'B': 162}",
      "text/html": "<div>\n<style scoped>\n    .dataframe tbody tr th:only-of-type {\n        vertical-align: middle;\n    }\n\n    .dataframe tbody tr th {\n        vertical-align: top;\n    }\n\n    .dataframe thead th {\n        text-align: right;\n    }\n</style>\n<table border=\"1\" class=\"dataframe\">\n  <thead>\n    <tr style=\"text-align: right;\">\n      <th></th>\n      <th>Column</th>\n      <th>Count</th>\n      <th>ValueCounts</th>\n    </tr>\n  </thead>\n  <tbody>\n    <tr>\n      <th>3</th>\n      <td>datafmt</td>\n      <td>1</td>\n      <td>{'STD': 1243}</td>\n    </tr>\n    <tr>\n      <th>11</th>\n      <td>ismod</td>\n      <td>2</td>\n      <td>{1.0: 1137, nan: 81, 3.0: 25}</td>\n    </tr>\n    <tr>\n      <th>14</th>\n      <td>upd</td>\n      <td>2</td>\n      <td>{3: 1230, 2: 13}</td>\n    </tr>\n    <tr>\n      <th>179</th>\n      <td>rdip</td>\n      <td>2</td>\n      <td>{0.0: 1202, nan: 40, -18.68: 1}</td>\n    </tr>\n    <tr>\n      <th>180</th>\n      <td>rdipa</td>\n      <td>2</td>\n      <td>{0.0: 1194, nan: 48, -12.142000000000001: 1}</td>\n    </tr>\n    <tr>\n      <th>181</th>\n      <td>rdipd</td>\n      <td>2</td>\n      <td>{0.0: 1157, nan: 85, -0.69: 1}</td>\n    </tr>\n    <tr>\n      <th>182</th>\n      <td>rdipeps</td>\n      <td>2</td>\n      <td>{0.0: 1157, nan: 85, -0.69: 1}</td>\n    </tr>\n    <tr>\n      <th>207</th>\n      <td>tstkp</td>\n      <td>2</td>\n      <td>{0.0: 1188, nan: 51, 5.1: 4}</td>\n    </tr>\n    <tr>\n      <th>221</th>\n      <td>txndbr</td>\n      <td>2</td>\n      <td>{0.0: 1120, nan: 122, 42.18600000000001: 1}</td>\n    </tr>\n    <tr>\n      <th>230</th>\n      <td>xi</td>\n      <td>2</td>\n      <td>{0.0: 1202, nan: 40, 0.16399999999999998: 1}</td>\n    </tr>\n    <tr>\n      <th>234</th>\n      <td>xintopt</td>\n      <td>2</td>\n      <td>{0.0: 1025, nan: 217, -0.006: 1}</td>\n    </tr>\n    <tr>\n      <th>237</th>\n      <td>costat</td>\n      <td>2</td>\n      <td>{'A': 1172, 'I': 71}</td>\n    </tr>\n    <tr>\n      <th>259</th>\n      <td>rdipd_fn</td>\n      <td>2</td>\n      <td>{'NR': 1143, nan: 96, 'NC': 4}</td>\n    </tr>\n    <tr>\n      <th>260</th>\n      <td>rdipeps_fn</td>\n      <td>2</td>\n      <td>{'NR': 1142, nan: 96, 'NC': 5}</td>\n    </tr>\n    <tr>\n      <th>263</th>\n      <td>idbflag</td>\n      <td>2</td>\n      <td>{'D': 1081, 'B': 162}</td>\n    </tr>\n  </tbody>\n</table>\n</div>"
     },
     "execution_count": 899,
     "metadata": {},
     "output_type": "execute_result"
    }
   ],
   "source": [
    "# Second Column Reduce -- Only 2 unique Values\n",
    "\n",
    "lowValCountDF = pd.DataFrame(columns = ['Column','Count','ValueCounts'])\n",
    "cols = fundamentals.columns.values.tolist()\n",
    "\n",
    "for col in cols:\n",
    "    count = fundamentals[col].nunique()\n",
    "    column = col\n",
    "    tempVal = fundamentals[col].value_counts(dropna=False)\n",
    "    tempVal_dict = tempVal.to_dict()\n",
    "    row = [column,count, tempVal_dict]\n",
    "    # append stats to Summary Stats DF\n",
    "    df_length = len(lowValCountDF)\n",
    "    lowValCountDF.loc[df_length] = row\n",
    "\n",
    "lowValCountDF = lowValCountDF[lowValCountDF['Count'] <= 2]\n",
    "lowValCountDF = lowValCountDF.sort_values(by='Count', ascending=True)\n",
    "lowValCountDF"
   ],
   "metadata": {
    "collapsed": false,
    "pycharm": {
     "name": "#%%\n"
    }
   }
  },
  {
   "cell_type": "code",
   "execution_count": 900,
   "outputs": [
    {
     "data": {
      "text/plain": "             DF                                         ActionDesc  \\\n0  Fundamentals  Dropped obvious low value columns -- 1 -- Date...   \n1  Fundamentals  Initial Null Drop -- columns w/ 63% Null or more.   \n2  Fundamentals          Dropped columns with only 1 unique value    \n3  Fundamentals  Dropping all that are not standard statements ...   \n4  Fundamentals   Second Null Drop -- columns w/ 20% Null or more.   \n5  Fundamentals                  Dropping Columns w/ Only 2 values   \n\n                                        List-of-Cols   ResultShape  \n0  [datadate, apdedate, fdate, pdate, fyr, add1, ...  (2323, 1744)  \n1  [acctchg, acqmeth, adrr, bspr, compst, curuscn...   (2323, 326)  \n2  [indfmt, consol, popsrc, curcd, final, scf, ac...   (2323, 310)  \n3   applies to all cols, roughly 50% of rows dropped   (1243, 310)  \n4  [cld2, cld3, cld4, cld5, cshr, dd3, dd4, dd5, ...   (1243, 265)  \n5  [datafmt, ismod, upd, rdip, rdipa, rdipd, rdip...   (1243, 250)  ",
      "text/html": "<div>\n<style scoped>\n    .dataframe tbody tr th:only-of-type {\n        vertical-align: middle;\n    }\n\n    .dataframe tbody tr th {\n        vertical-align: top;\n    }\n\n    .dataframe thead th {\n        text-align: right;\n    }\n</style>\n<table border=\"1\" class=\"dataframe\">\n  <thead>\n    <tr style=\"text-align: right;\">\n      <th></th>\n      <th>DF</th>\n      <th>ActionDesc</th>\n      <th>List-of-Cols</th>\n      <th>ResultShape</th>\n    </tr>\n  </thead>\n  <tbody>\n    <tr>\n      <th>0</th>\n      <td>Fundamentals</td>\n      <td>Dropped obvious low value columns -- 1 -- Date...</td>\n      <td>[datadate, apdedate, fdate, pdate, fyr, add1, ...</td>\n      <td>(2323, 1744)</td>\n    </tr>\n    <tr>\n      <th>1</th>\n      <td>Fundamentals</td>\n      <td>Initial Null Drop -- columns w/ 63% Null or more.</td>\n      <td>[acctchg, acqmeth, adrr, bspr, compst, curuscn...</td>\n      <td>(2323, 326)</td>\n    </tr>\n    <tr>\n      <th>2</th>\n      <td>Fundamentals</td>\n      <td>Dropped columns with only 1 unique value</td>\n      <td>[indfmt, consol, popsrc, curcd, final, scf, ac...</td>\n      <td>(2323, 310)</td>\n    </tr>\n    <tr>\n      <th>3</th>\n      <td>Fundamentals</td>\n      <td>Dropping all that are not standard statements ...</td>\n      <td>applies to all cols, roughly 50% of rows dropped</td>\n      <td>(1243, 310)</td>\n    </tr>\n    <tr>\n      <th>4</th>\n      <td>Fundamentals</td>\n      <td>Second Null Drop -- columns w/ 20% Null or more.</td>\n      <td>[cld2, cld3, cld4, cld5, cshr, dd3, dd4, dd5, ...</td>\n      <td>(1243, 265)</td>\n    </tr>\n    <tr>\n      <th>5</th>\n      <td>Fundamentals</td>\n      <td>Dropping Columns w/ Only 2 values</td>\n      <td>[datafmt, ismod, upd, rdip, rdipa, rdipd, rdip...</td>\n      <td>(1243, 250)</td>\n    </tr>\n  </tbody>\n</table>\n</div>"
     },
     "execution_count": 900,
     "metadata": {},
     "output_type": "execute_result"
    }
   ],
   "source": [
    "# Second Column Reduce -- Only 2 unique Values\n",
    "colsToDrop = lowValCountDF['Column'].values.tolist()\n",
    "fundamentals = fundamentals.drop(columns=colsToDrop)\n",
    "\n",
    "cleanActionsDesc = 'Dropping Columns w/ Only 2 values'\n",
    "df_name = 'Fundamentals'\n",
    "cols = colsToDrop\n",
    "\n",
    "cleanActionsReport(fundamentals,df_name,cleanActionsDesc, cols)\n",
    "cleanActionsDF"
   ],
   "metadata": {
    "collapsed": false,
    "pycharm": {
     "name": "#%%\n"
    }
   }
  },
  {
   "cell_type": "code",
   "execution_count": 901,
   "outputs": [
    {
     "data": {
      "text/plain": "             DF                                         ActionDesc  \\\n0  Fundamentals  Dropped obvious low value columns -- 1 -- Date...   \n1  Fundamentals  Initial Null Drop -- columns w/ 63% Null or more.   \n2  Fundamentals          Dropped columns with only 1 unique value    \n3  Fundamentals  Dropping all that are not standard statements ...   \n4  Fundamentals   Second Null Drop -- columns w/ 20% Null or more.   \n5  Fundamentals                  Dropping Columns w/ Only 2 values   \n6  Fundamentals  Second Manual Column Reduce - Dropping Identif...   \n\n                                        List-of-Cols   ResultShape  \n0  [datadate, apdedate, fdate, pdate, fyr, add1, ...  (2323, 1744)  \n1  [acctchg, acqmeth, adrr, bspr, compst, curuscn...   (2323, 326)  \n2  [indfmt, consol, popsrc, curcd, final, scf, ac...   (2323, 310)  \n3   applies to all cols, roughly 50% of rows dropped   (1243, 310)  \n4  [cld2, cld3, cld4, cld5, cshr, dd3, dd4, dd5, ...   (1243, 265)  \n5  [datafmt, ismod, upd, rdip, rdipa, rdipd, rdip...   (1243, 250)  \n6  [Unnamed: 0, conm, au, auopic, pddur, dpact_fn...   (1243, 240)  ",
      "text/html": "<div>\n<style scoped>\n    .dataframe tbody tr th:only-of-type {\n        vertical-align: middle;\n    }\n\n    .dataframe tbody tr th {\n        vertical-align: top;\n    }\n\n    .dataframe thead th {\n        text-align: right;\n    }\n</style>\n<table border=\"1\" class=\"dataframe\">\n  <thead>\n    <tr style=\"text-align: right;\">\n      <th></th>\n      <th>DF</th>\n      <th>ActionDesc</th>\n      <th>List-of-Cols</th>\n      <th>ResultShape</th>\n    </tr>\n  </thead>\n  <tbody>\n    <tr>\n      <th>0</th>\n      <td>Fundamentals</td>\n      <td>Dropped obvious low value columns -- 1 -- Date...</td>\n      <td>[datadate, apdedate, fdate, pdate, fyr, add1, ...</td>\n      <td>(2323, 1744)</td>\n    </tr>\n    <tr>\n      <th>1</th>\n      <td>Fundamentals</td>\n      <td>Initial Null Drop -- columns w/ 63% Null or more.</td>\n      <td>[acctchg, acqmeth, adrr, bspr, compst, curuscn...</td>\n      <td>(2323, 326)</td>\n    </tr>\n    <tr>\n      <th>2</th>\n      <td>Fundamentals</td>\n      <td>Dropped columns with only 1 unique value</td>\n      <td>[indfmt, consol, popsrc, curcd, final, scf, ac...</td>\n      <td>(2323, 310)</td>\n    </tr>\n    <tr>\n      <th>3</th>\n      <td>Fundamentals</td>\n      <td>Dropping all that are not standard statements ...</td>\n      <td>applies to all cols, roughly 50% of rows dropped</td>\n      <td>(1243, 310)</td>\n    </tr>\n    <tr>\n      <th>4</th>\n      <td>Fundamentals</td>\n      <td>Second Null Drop -- columns w/ 20% Null or more.</td>\n      <td>[cld2, cld3, cld4, cld5, cshr, dd3, dd4, dd5, ...</td>\n      <td>(1243, 265)</td>\n    </tr>\n    <tr>\n      <th>5</th>\n      <td>Fundamentals</td>\n      <td>Dropping Columns w/ Only 2 values</td>\n      <td>[datafmt, ismod, upd, rdip, rdipa, rdipd, rdip...</td>\n      <td>(1243, 250)</td>\n    </tr>\n    <tr>\n      <th>6</th>\n      <td>Fundamentals</td>\n      <td>Second Manual Column Reduce - Dropping Identif...</td>\n      <td>[Unnamed: 0, conm, au, auopic, pddur, dpact_fn...</td>\n      <td>(1243, 240)</td>\n    </tr>\n  </tbody>\n</table>\n</div>"
     },
     "execution_count": 901,
     "metadata": {},
     "output_type": "execute_result"
    }
   ],
   "source": [
    "# Second Manual Column Reduce -- Indentified Low Value\n",
    "colsToDrop = ['Unnamed: 0','conm','au','auopic','pddur','dpact_fn','ggroup','gind','fic','priusa']\n",
    "fundamentals = fundamentals.drop(columns=colsToDrop)\n",
    "\n",
    "cleanActionsDesc = 'Second Manual Column Reduce - Dropping Identified Low Value Columns'\n",
    "df_name = 'Fundamentals'\n",
    "cols = colsToDrop\n",
    "\n",
    "cleanActionsReport(fundamentals,df_name,cleanActionsDesc, cols)\n",
    "cleanActionsDF"
   ],
   "metadata": {
    "collapsed": false,
    "pycharm": {
     "name": "#%%\n"
    }
   }
  },
  {
   "cell_type": "code",
   "execution_count": 902,
   "outputs": [
    {
     "data": {
      "text/plain": "             DF                                         ActionDesc  \\\n0  Fundamentals  Dropped obvious low value columns -- 1 -- Date...   \n1  Fundamentals  Initial Null Drop -- columns w/ 63% Null or more.   \n2  Fundamentals          Dropped columns with only 1 unique value    \n3  Fundamentals  Dropping all that are not standard statements ...   \n4  Fundamentals   Second Null Drop -- columns w/ 20% Null or more.   \n5  Fundamentals                  Dropping Columns w/ Only 2 values   \n6  Fundamentals  Second Manual Column Reduce - Dropping Identif...   \n7  Fundamentals  Third Manual Column Reduce  - Targetted Reduce...   \n\n                                        List-of-Cols   ResultShape  \n0  [datadate, apdedate, fdate, pdate, fyr, add1, ...  (2323, 1744)  \n1  [acctchg, acqmeth, adrr, bspr, compst, curuscn...   (2323, 326)  \n2  [indfmt, consol, popsrc, curcd, final, scf, ac...   (2323, 310)  \n3   applies to all cols, roughly 50% of rows dropped   (1243, 310)  \n4  [cld2, cld3, cld4, cld5, cshr, dd3, dd4, dd5, ...   (1243, 265)  \n5  [datafmt, ismod, upd, rdip, rdipa, rdipd, rdip...   (1243, 250)  \n6  [Unnamed: 0, conm, au, auopic, pddur, dpact_fn...   (1243, 240)  \n7  [lco, lcox, lcoxdr, lo, loxdr, mib, mibn, ppev...    (1243, 92)  ",
      "text/html": "<div>\n<style scoped>\n    .dataframe tbody tr th:only-of-type {\n        vertical-align: middle;\n    }\n\n    .dataframe tbody tr th {\n        vertical-align: top;\n    }\n\n    .dataframe thead th {\n        text-align: right;\n    }\n</style>\n<table border=\"1\" class=\"dataframe\">\n  <thead>\n    <tr style=\"text-align: right;\">\n      <th></th>\n      <th>DF</th>\n      <th>ActionDesc</th>\n      <th>List-of-Cols</th>\n      <th>ResultShape</th>\n    </tr>\n  </thead>\n  <tbody>\n    <tr>\n      <th>0</th>\n      <td>Fundamentals</td>\n      <td>Dropped obvious low value columns -- 1 -- Date...</td>\n      <td>[datadate, apdedate, fdate, pdate, fyr, add1, ...</td>\n      <td>(2323, 1744)</td>\n    </tr>\n    <tr>\n      <th>1</th>\n      <td>Fundamentals</td>\n      <td>Initial Null Drop -- columns w/ 63% Null or more.</td>\n      <td>[acctchg, acqmeth, adrr, bspr, compst, curuscn...</td>\n      <td>(2323, 326)</td>\n    </tr>\n    <tr>\n      <th>2</th>\n      <td>Fundamentals</td>\n      <td>Dropped columns with only 1 unique value</td>\n      <td>[indfmt, consol, popsrc, curcd, final, scf, ac...</td>\n      <td>(2323, 310)</td>\n    </tr>\n    <tr>\n      <th>3</th>\n      <td>Fundamentals</td>\n      <td>Dropping all that are not standard statements ...</td>\n      <td>applies to all cols, roughly 50% of rows dropped</td>\n      <td>(1243, 310)</td>\n    </tr>\n    <tr>\n      <th>4</th>\n      <td>Fundamentals</td>\n      <td>Second Null Drop -- columns w/ 20% Null or more.</td>\n      <td>[cld2, cld3, cld4, cld5, cshr, dd3, dd4, dd5, ...</td>\n      <td>(1243, 265)</td>\n    </tr>\n    <tr>\n      <th>5</th>\n      <td>Fundamentals</td>\n      <td>Dropping Columns w/ Only 2 values</td>\n      <td>[datafmt, ismod, upd, rdip, rdipa, rdipd, rdip...</td>\n      <td>(1243, 250)</td>\n    </tr>\n    <tr>\n      <th>6</th>\n      <td>Fundamentals</td>\n      <td>Second Manual Column Reduce - Dropping Identif...</td>\n      <td>[Unnamed: 0, conm, au, auopic, pddur, dpact_fn...</td>\n      <td>(1243, 240)</td>\n    </tr>\n    <tr>\n      <th>7</th>\n      <td>Fundamentals</td>\n      <td>Third Manual Column Reduce  - Targetted Reduce...</td>\n      <td>[lco, lcox, lcoxdr, lo, loxdr, mib, mibn, ppev...</td>\n      <td>(1243, 92)</td>\n    </tr>\n  </tbody>\n</table>\n</div>"
     },
     "execution_count": 902,
     "metadata": {},
     "output_type": "execute_result"
    }
   ],
   "source": [
    "# Third Manual Column Reduce -- Indentified Low Value\n",
    "colsToDrop = ['lco','lcox','lcoxdr', #Current Liabilities - kept total\n",
    "              'lo','loxdr', # Liabilities - kept total nad equity total\n",
    "              'mib','mibn', # Noncontrolling interest - kept total\n",
    "              'ppeveb', # Prop, Plant, Equip - kept total/net\n",
    "              'pstkc','pstkl','pstkn','pstkr', # Preferred Stock - kept total/redemption value\n",
    "              'tstkc','tstkn', #TreasuryStock - kept total\n",
    "              'che', # Cash Short Term -- kept total\n",
    "              'cicurr','cidergl','cimii','ciother','cipen','cisecgl','citotal', # Comp Inc -- Kept Total and Starting\n",
    "              'dpc','dpvieb', # Depreciation and Amortization (Cash Flow) - duplicated by other measures (kept)\n",
    "              'dv','dvp','dvpa', # Cash Dividends - duplicated by other measures (kept)\n",
    "              'ib','epspx', # Earnings Per Share - granular measures redundant to others (kept)\n",
    "              'esopnr','esopt', # ESOP Obligation - kept total summary\n",
    "              'ibadj', 'ibc', 'ibcom', 'ibmii',# Income Before Extraordinary Items - granular redundant measures\n",
    "              'recch','recco','rectr', # Receivables - granular redundant measures\n",
    "              'reuna', # Retained Earnings - kept total\n",
    "              'sale', # Sales/Turnover (Net) - Always the same 'revt' (kept)\n",
    "              'spced', 'spceeps', # S&P Core Earnings -- Kept total\n",
    "              'cshtr_c','dvpsp_c','dvpsx_c','prcc_c','prch_c','prcl_c','adjex_c',# Calendar Year Features w/ fiscal equiv\n",
    "              'acdo','aco','acodo','acox','aldo','aocidergl','aociother','aocipen',\n",
    "              'aodo','aox','ap',# Assets -- kept 5 from this group that measure totals, net change, and acquistions\n",
    "              'ceql', # Common Equity - Liquidation Value - same values as 'ceq'\n",
    "              'intc', # Interest Capitalized - kept Net from this group\n",
    "              'ivaco','ivaeq','ivao','ivch','ivst','ivstch', # Investing Activities -- kept net ('ivncf')\n",
    "              'pncad','pncaeps', # Core Pension Adjustment - kept overall measure\n",
    "              'prcad','prcaeps', # Core Post Retirement Adjustment - kept overall measure\n",
    "              'xido','xidoc', # Extraordinary Items... - kept total\n",
    "              'ajex','ajp', # Adjustment Factor (Company) - to do w/ divides, not much value\n",
    "              'cshfd','cshi','csho','cstk','cstkcv','cstke', # Common Shares -- kept \"...Earnings Per Share - Basic\"\n",
    "              'dclo','dcom','dcvsr','dcvsub','dcvt','dd','dd1','dd2','dltis','dlto','dm',\n",
    "              'dn','ds','dudd', # Debt measures - kept total, short term debt measure, debt conv. to stock\n",
    "              'fatc','fatc','fatn', # Property, Plant, and Equipment - didn't seem to provide value\n",
    "              'fiao', # Financing Activities - kept Net cash flow\n",
    "              'fopox', # Funds from Operations - kept Other\n",
    "              'intano', # Intangible Assets - kept Total\n",
    "              'mrc1','mrcta', # Rental Commitments - didn't seem meaningful\n",
    "              'niadj', # Net Income -- duplicative of ni (kept)\n",
    "              'nopio', # Nonoperating Income (Expense) -- kept total\n",
    "              'oiadp','oibdp','oprepsx', # Operating Activities - kept net cash flow and earnings/share\n",
    "              'pnrsho','prsho', # Pfd Shares Outs - Most were 0 or null\n",
    "              'ppent', # Property, Plant and Equipment - kept Total (Gross)\n",
    "              'pstkrv',# Preferred Stock - (may have more to remove) - duplicative\n",
    "              'txbco','txbcof','txdba','txdbca','txdbcl','txdc','txdi','txditc','txndba','txndbl','txo','txp',\n",
    "              'txpd','txr', # Taxes - kept a few total measures\n",
    "              'acctstd', # Accounting Standard -- didn't look to provide value\n",
    "              'am', # Amortization of Intangibles -- didn't look to provide value\n",
    "              'capxv', # Capital Surplus - kept caps higher-level measure\n",
    "              'dc', # Deferred Charges - didn't look to provide value\n",
    "              'diladj', #Dilution Adjustment - most 0 or null\n",
    "              'do','donr', # Discontinued Operations - most 0 or null\n",
    "              'emp', # Employees - Don't see the value for this\n",
    "              'esub', # Equity in Earnings - don't know the value -- over 50% 0 or null\n",
    "              'exre', # Exchange Rate Effect - don't know the value -- over 50% 0 or null\n",
    "              'lifr', # LIFO Reserve - don't know the value -- over 50% 0 or null\n",
    "              'mibt', # Noncontrolling Interests- kept total (mii)\n",
    "              'prstkc', # Purchase of Common and Preferred Stock - don't know the value -- over 50% 0 or null\n",
    "              'seqo', # Stakeholder Equity Adjustments -- kept parent (seq)\n",
    "              'spi', # Special Items - don't know the value -- over 50% 0 or null\n",
    "              'cshtr_f','dvpsp_f','dvpsx_f','prcc_f','prch_f','prcl_f','adjex_f' # duplicative of Stocks dataset\n",
    "              ]\n",
    "fundamentals = fundamentals.drop(columns=colsToDrop)\n",
    "\n",
    "## Add to report\n",
    "cleanActionsDesc = 'Third Manual Column Reduce  - Targetted Reduce of Granular Features w/ Total'\n",
    "df_name = 'Fundamentals'\n",
    "cols = colsToDrop\n",
    "\n",
    "cleanActionsReport(fundamentals,df_name,cleanActionsDesc, cols)\n",
    "cleanActionsDF"
   ],
   "metadata": {
    "collapsed": false,
    "pycharm": {
     "name": "#%%\n"
    }
   }
  },
  {
   "cell_type": "code",
   "source": [
    "# Summary Features\n",
    "## Note to self:  This will cause index matching problems while rinse/repeating through column reduce.  made MD for now.\n",
    "\n",
    "## Deferred Revenue\n",
    "\n",
    "fundamentals[['drc','drlt']] = fundamentals[['drc','drlt']].fillna(0)\n",
    "fundamentals['defrev'] = fundamentals['drc'] + fundamentals['drlt']\n",
    "fundamentals\n",
    "\n",
    "## Retained Earnnings Adjustments Revenue\n",
    "\n",
    "fundamentals[['rea','reajo','recta']] = fundamentals[['rea','reajo','recta']].fillna(0)\n",
    "fundamentals['defrev'] = fundamentals['rea'] + fundamentals['reajo'] + fundamentals['recta']\n",
    "fundamentals\n",
    "\n",
    "## drop source columns once summarized\n",
    "colsToDrop = ['drc','drlt','rea','reajo','recta']\n",
    "fundamentals = fundamentals.drop(columns=colsToDrop)\n",
    "\n",
    "## Add to report\n",
    "cleanActionsDesc = 'Summary Features  - Used to create features, then dropped'\n",
    "df_name = 'Fundamentals'\n",
    "cols = colsToDrop\n",
    "\n",
    "cleanActionsReport(fundamentals,df_name,cleanActionsDesc, cols)\n",
    "cleanActionsDF"
   ],
   "metadata": {
    "collapsed": false,
    "pycharm": {
     "name": "#%%\n"
    }
   },
   "execution_count": 903,
   "outputs": [
    {
     "data": {
      "text/plain": "             DF                                         ActionDesc  \\\n0  Fundamentals  Dropped obvious low value columns -- 1 -- Date...   \n1  Fundamentals  Initial Null Drop -- columns w/ 63% Null or more.   \n2  Fundamentals          Dropped columns with only 1 unique value    \n3  Fundamentals  Dropping all that are not standard statements ...   \n4  Fundamentals   Second Null Drop -- columns w/ 20% Null or more.   \n5  Fundamentals                  Dropping Columns w/ Only 2 values   \n6  Fundamentals  Second Manual Column Reduce - Dropping Identif...   \n7  Fundamentals  Third Manual Column Reduce  - Targetted Reduce...   \n8  Fundamentals  Summary Features  - Used to create features, t...   \n\n                                        List-of-Cols   ResultShape  \n0  [datadate, apdedate, fdate, pdate, fyr, add1, ...  (2323, 1744)  \n1  [acctchg, acqmeth, adrr, bspr, compst, curuscn...   (2323, 326)  \n2  [indfmt, consol, popsrc, curcd, final, scf, ac...   (2323, 310)  \n3   applies to all cols, roughly 50% of rows dropped   (1243, 310)  \n4  [cld2, cld3, cld4, cld5, cshr, dd3, dd4, dd5, ...   (1243, 265)  \n5  [datafmt, ismod, upd, rdip, rdipa, rdipd, rdip...   (1243, 250)  \n6  [Unnamed: 0, conm, au, auopic, pddur, dpact_fn...   (1243, 240)  \n7  [lco, lcox, lcoxdr, lo, loxdr, mib, mibn, ppev...    (1243, 92)  \n8                     [drc, drlt, rea, reajo, recta]    (1243, 88)  ",
      "text/html": "<div>\n<style scoped>\n    .dataframe tbody tr th:only-of-type {\n        vertical-align: middle;\n    }\n\n    .dataframe tbody tr th {\n        vertical-align: top;\n    }\n\n    .dataframe thead th {\n        text-align: right;\n    }\n</style>\n<table border=\"1\" class=\"dataframe\">\n  <thead>\n    <tr style=\"text-align: right;\">\n      <th></th>\n      <th>DF</th>\n      <th>ActionDesc</th>\n      <th>List-of-Cols</th>\n      <th>ResultShape</th>\n    </tr>\n  </thead>\n  <tbody>\n    <tr>\n      <th>0</th>\n      <td>Fundamentals</td>\n      <td>Dropped obvious low value columns -- 1 -- Date...</td>\n      <td>[datadate, apdedate, fdate, pdate, fyr, add1, ...</td>\n      <td>(2323, 1744)</td>\n    </tr>\n    <tr>\n      <th>1</th>\n      <td>Fundamentals</td>\n      <td>Initial Null Drop -- columns w/ 63% Null or more.</td>\n      <td>[acctchg, acqmeth, adrr, bspr, compst, curuscn...</td>\n      <td>(2323, 326)</td>\n    </tr>\n    <tr>\n      <th>2</th>\n      <td>Fundamentals</td>\n      <td>Dropped columns with only 1 unique value</td>\n      <td>[indfmt, consol, popsrc, curcd, final, scf, ac...</td>\n      <td>(2323, 310)</td>\n    </tr>\n    <tr>\n      <th>3</th>\n      <td>Fundamentals</td>\n      <td>Dropping all that are not standard statements ...</td>\n      <td>applies to all cols, roughly 50% of rows dropped</td>\n      <td>(1243, 310)</td>\n    </tr>\n    <tr>\n      <th>4</th>\n      <td>Fundamentals</td>\n      <td>Second Null Drop -- columns w/ 20% Null or more.</td>\n      <td>[cld2, cld3, cld4, cld5, cshr, dd3, dd4, dd5, ...</td>\n      <td>(1243, 265)</td>\n    </tr>\n    <tr>\n      <th>5</th>\n      <td>Fundamentals</td>\n      <td>Dropping Columns w/ Only 2 values</td>\n      <td>[datafmt, ismod, upd, rdip, rdipa, rdipd, rdip...</td>\n      <td>(1243, 250)</td>\n    </tr>\n    <tr>\n      <th>6</th>\n      <td>Fundamentals</td>\n      <td>Second Manual Column Reduce - Dropping Identif...</td>\n      <td>[Unnamed: 0, conm, au, auopic, pddur, dpact_fn...</td>\n      <td>(1243, 240)</td>\n    </tr>\n    <tr>\n      <th>7</th>\n      <td>Fundamentals</td>\n      <td>Third Manual Column Reduce  - Targetted Reduce...</td>\n      <td>[lco, lcox, lcoxdr, lo, loxdr, mib, mibn, ppev...</td>\n      <td>(1243, 92)</td>\n    </tr>\n    <tr>\n      <th>8</th>\n      <td>Fundamentals</td>\n      <td>Summary Features  - Used to create features, t...</td>\n      <td>[drc, drlt, rea, reajo, recta]</td>\n      <td>(1243, 88)</td>\n    </tr>\n  </tbody>\n</table>\n</div>"
     },
     "execution_count": 903,
     "metadata": {},
     "output_type": "execute_result"
    }
   ]
  },
  {
   "cell_type": "markdown",
   "source": [
    "### Fundamentals -- Data Dictionary"
   ],
   "metadata": {
    "collapsed": false
   }
  },
  {
   "cell_type": "code",
   "execution_count": 904,
   "outputs": [
    {
     "data": {
      "text/plain": "      Mnemonic                                         Definition  Exists\n0        gvkey                                 Global Company Key     1.0\n1     datadate                                          Data Date     0.0\n2        fyear                                 Data Year - Fiscal     1.0\n3       indfmt                                    Industry Format     0.0\n4       consol  Level of Consolidation - Company Annual Descri...     0.0\n...        ...                                                ...     ...\n1763     state                                     State/Province     0.0\n1764      stko                               Stock Ownership Code     0.0\n1765    weburl                                            Web URL     0.0\n1766     dldte                     Research Company Deletion Date     0.0\n1767   ipodate               Company Initial Public Offering Date     0.0\n\n[1768 rows x 3 columns]",
      "text/html": "<div>\n<style scoped>\n    .dataframe tbody tr th:only-of-type {\n        vertical-align: middle;\n    }\n\n    .dataframe tbody tr th {\n        vertical-align: top;\n    }\n\n    .dataframe thead th {\n        text-align: right;\n    }\n</style>\n<table border=\"1\" class=\"dataframe\">\n  <thead>\n    <tr style=\"text-align: right;\">\n      <th></th>\n      <th>Mnemonic</th>\n      <th>Definition</th>\n      <th>Exists</th>\n    </tr>\n  </thead>\n  <tbody>\n    <tr>\n      <th>0</th>\n      <td>gvkey</td>\n      <td>Global Company Key</td>\n      <td>1.0</td>\n    </tr>\n    <tr>\n      <th>1</th>\n      <td>datadate</td>\n      <td>Data Date</td>\n      <td>0.0</td>\n    </tr>\n    <tr>\n      <th>2</th>\n      <td>fyear</td>\n      <td>Data Year - Fiscal</td>\n      <td>1.0</td>\n    </tr>\n    <tr>\n      <th>3</th>\n      <td>indfmt</td>\n      <td>Industry Format</td>\n      <td>0.0</td>\n    </tr>\n    <tr>\n      <th>4</th>\n      <td>consol</td>\n      <td>Level of Consolidation - Company Annual Descri...</td>\n      <td>0.0</td>\n    </tr>\n    <tr>\n      <th>...</th>\n      <td>...</td>\n      <td>...</td>\n      <td>...</td>\n    </tr>\n    <tr>\n      <th>1763</th>\n      <td>state</td>\n      <td>State/Province</td>\n      <td>0.0</td>\n    </tr>\n    <tr>\n      <th>1764</th>\n      <td>stko</td>\n      <td>Stock Ownership Code</td>\n      <td>0.0</td>\n    </tr>\n    <tr>\n      <th>1765</th>\n      <td>weburl</td>\n      <td>Web URL</td>\n      <td>0.0</td>\n    </tr>\n    <tr>\n      <th>1766</th>\n      <td>dldte</td>\n      <td>Research Company Deletion Date</td>\n      <td>0.0</td>\n    </tr>\n    <tr>\n      <th>1767</th>\n      <td>ipodate</td>\n      <td>Company Initial Public Offering Date</td>\n      <td>0.0</td>\n    </tr>\n  </tbody>\n</table>\n<p>1768 rows × 3 columns</p>\n</div>"
     },
     "execution_count": 904,
     "metadata": {},
     "output_type": "execute_result"
    }
   ],
   "source": [
    "# Fundamentals Data Dictionary -- Add Column if Still Exists\n",
    "\n",
    "remainingFeatures = fundamentals.columns.values.tolist()\n",
    "remainingFeatures= pd.DataFrame(remainingFeatures)\n",
    "remainingFeatures['Exists'] = 1\n",
    "remainingFeatures = remainingFeatures.rename(columns={0:'Mnemonic'})\n",
    "\n",
    "FundamentalsDataDict = fundamentals_DD.merge(remainingFeatures, on='Mnemonic', how='left')\n",
    "FundamentalsDataDict['Exists'] = FundamentalsDataDict['Exists'].fillna(0)\n",
    "FundamentalsDataDict"
   ],
   "metadata": {
    "collapsed": false,
    "pycharm": {
     "name": "#%%\n"
    }
   }
  },
  {
   "cell_type": "code",
   "execution_count": 905,
   "outputs": [],
   "source": [
    "with pd.ExcelWriter(exportPath + 'Fundamentals_DD_wRemaining.xlsx') as writer:\n",
    "    FundamentalsDataDict.to_excel(writer, sheet_name='Fundamentals_Remaining')"
   ],
   "metadata": {
    "collapsed": false,
    "pycharm": {
     "name": "#%%\n"
    }
   }
  },
  {
   "cell_type": "markdown",
   "source": [
    "### Fundamentals -- Aggregation"
   ],
   "metadata": {
    "collapsed": false
   }
  },
  {
   "cell_type": "code",
   "execution_count": 906,
   "outputs": [],
   "source": [
    "# Create lists iterations\n",
    "\n",
    "## Create list of numeric categorical cols\n",
    "fundamentals_numException = ['currtr','src','auop']\n",
    "\n",
    "## Create List of Cont. Numeric Features\n",
    "fundamentals_numCols = fundamentals.select_dtypes(include=np.number).columns.tolist()\n",
    "for col in fundamentals_numException:\n",
    "        fundamentals_numCols.remove(col)\n",
    "\n",
    "## Create List of Categorical Features\n",
    "fundamentals_catCols = fundamentals.select_dtypes(exclude=np.number).columns.tolist()\n",
    "fundamentals_catCols = fundamentals_catCols + fundamentals_numException +['gvkey']\n"
   ],
   "metadata": {
    "collapsed": false,
    "pycharm": {
     "name": "#%%\n"
    }
   }
  },
  {
   "cell_type": "code",
   "execution_count": 907,
   "outputs": [],
   "source": [
    "# make copies of DF to different aggregation logic\n",
    "fundamentals_numMean = fundamentals[fundamentals_numCols].copy()\n",
    "fundamentals_numSTD = fundamentals[fundamentals_numCols].copy()\n",
    "fundamentals_catLast = fundamentals[fundamentals_catCols].copy()\n",
    "\n",
    "# aggr. each copy\n",
    "fundamentals_numMean = fundamentals_numMean.groupby('gvkey').mean()\n",
    "fundamentals_numSTD = fundamentals_numSTD.groupby('gvkey').std().add_suffix(suffix=\"_std\")\n",
    "fundamentals_catLast = fundamentals_catLast.groupby('gvkey').last()"
   ],
   "metadata": {
    "collapsed": false,
    "pycharm": {
     "name": "#%%\n"
    }
   }
  },
  {
   "cell_type": "code",
   "execution_count": 908,
   "outputs": [
    {
     "data": {
      "text/plain": "             DF                                         ActionDesc  \\\n0  Fundamentals  Dropped obvious low value columns -- 1 -- Date...   \n1  Fundamentals  Initial Null Drop -- columns w/ 63% Null or more.   \n2  Fundamentals          Dropped columns with only 1 unique value    \n3  Fundamentals  Dropping all that are not standard statements ...   \n4  Fundamentals   Second Null Drop -- columns w/ 20% Null or more.   \n5  Fundamentals                  Dropping Columns w/ Only 2 values   \n6  Fundamentals  Second Manual Column Reduce - Dropping Identif...   \n7  Fundamentals  Third Manual Column Reduce  - Targetted Reduce...   \n8  Fundamentals  Summary Features  - Used to create features, t...   \n9  Fundamentals                                     Group by GVKey   \n\n                                        List-of-Cols   ResultShape  \n0  [datadate, apdedate, fdate, pdate, fyr, add1, ...  (2323, 1744)  \n1  [acctchg, acqmeth, adrr, bspr, compst, curuscn...   (2323, 326)  \n2  [indfmt, consol, popsrc, curcd, final, scf, ac...   (2323, 310)  \n3   applies to all cols, roughly 50% of rows dropped   (1243, 310)  \n4  [cld2, cld3, cld4, cld5, cshr, dd3, dd4, dd5, ...   (1243, 265)  \n5  [datafmt, ismod, upd, rdip, rdipa, rdipd, rdip...   (1243, 250)  \n6  [Unnamed: 0, conm, au, auopic, pddur, dpact_fn...   (1243, 240)  \n7  [lco, lcox, lcoxdr, lo, loxdr, mib, mibn, ppev...    (1243, 92)  \n8                     [drc, drlt, rea, reajo, recta]    (1243, 88)  \n9                                                All    (348, 167)  ",
      "text/html": "<div>\n<style scoped>\n    .dataframe tbody tr th:only-of-type {\n        vertical-align: middle;\n    }\n\n    .dataframe tbody tr th {\n        vertical-align: top;\n    }\n\n    .dataframe thead th {\n        text-align: right;\n    }\n</style>\n<table border=\"1\" class=\"dataframe\">\n  <thead>\n    <tr style=\"text-align: right;\">\n      <th></th>\n      <th>DF</th>\n      <th>ActionDesc</th>\n      <th>List-of-Cols</th>\n      <th>ResultShape</th>\n    </tr>\n  </thead>\n  <tbody>\n    <tr>\n      <th>0</th>\n      <td>Fundamentals</td>\n      <td>Dropped obvious low value columns -- 1 -- Date...</td>\n      <td>[datadate, apdedate, fdate, pdate, fyr, add1, ...</td>\n      <td>(2323, 1744)</td>\n    </tr>\n    <tr>\n      <th>1</th>\n      <td>Fundamentals</td>\n      <td>Initial Null Drop -- columns w/ 63% Null or more.</td>\n      <td>[acctchg, acqmeth, adrr, bspr, compst, curuscn...</td>\n      <td>(2323, 326)</td>\n    </tr>\n    <tr>\n      <th>2</th>\n      <td>Fundamentals</td>\n      <td>Dropped columns with only 1 unique value</td>\n      <td>[indfmt, consol, popsrc, curcd, final, scf, ac...</td>\n      <td>(2323, 310)</td>\n    </tr>\n    <tr>\n      <th>3</th>\n      <td>Fundamentals</td>\n      <td>Dropping all that are not standard statements ...</td>\n      <td>applies to all cols, roughly 50% of rows dropped</td>\n      <td>(1243, 310)</td>\n    </tr>\n    <tr>\n      <th>4</th>\n      <td>Fundamentals</td>\n      <td>Second Null Drop -- columns w/ 20% Null or more.</td>\n      <td>[cld2, cld3, cld4, cld5, cshr, dd3, dd4, dd5, ...</td>\n      <td>(1243, 265)</td>\n    </tr>\n    <tr>\n      <th>5</th>\n      <td>Fundamentals</td>\n      <td>Dropping Columns w/ Only 2 values</td>\n      <td>[datafmt, ismod, upd, rdip, rdipa, rdipd, rdip...</td>\n      <td>(1243, 250)</td>\n    </tr>\n    <tr>\n      <th>6</th>\n      <td>Fundamentals</td>\n      <td>Second Manual Column Reduce - Dropping Identif...</td>\n      <td>[Unnamed: 0, conm, au, auopic, pddur, dpact_fn...</td>\n      <td>(1243, 240)</td>\n    </tr>\n    <tr>\n      <th>7</th>\n      <td>Fundamentals</td>\n      <td>Third Manual Column Reduce  - Targetted Reduce...</td>\n      <td>[lco, lcox, lcoxdr, lo, loxdr, mib, mibn, ppev...</td>\n      <td>(1243, 92)</td>\n    </tr>\n    <tr>\n      <th>8</th>\n      <td>Fundamentals</td>\n      <td>Summary Features  - Used to create features, t...</td>\n      <td>[drc, drlt, rea, reajo, recta]</td>\n      <td>(1243, 88)</td>\n    </tr>\n    <tr>\n      <th>9</th>\n      <td>Fundamentals</td>\n      <td>Group by GVKey</td>\n      <td>All</td>\n      <td>(348, 167)</td>\n    </tr>\n  </tbody>\n</table>\n</div>"
     },
     "execution_count": 908,
     "metadata": {},
     "output_type": "execute_result"
    }
   ],
   "source": [
    "# Join Aggregration Copies\n",
    "fundamentals_numAgg = fundamentals_numMean.join(fundamentals_numSTD)\n",
    "fundamentals_numAgg.columns = sorted(fundamentals_numAgg.columns)\n",
    "fundamentals_allAgg = fundamentals_catLast.join(fundamentals_numAgg)\n",
    "\n",
    "\n",
    "# Clean Actions Report\n",
    "cleanActionsDesc = \"Group by GVKey\"\n",
    "df_name = \"Fundamentals\"\n",
    "cols = \"All\"\n",
    "\n",
    "cleanActionsReport(fundamentals_allAgg,df_name,cleanActionsDesc,cols)\n",
    "cleanActionsDF"
   ],
   "metadata": {
    "collapsed": false,
    "pycharm": {
     "name": "#%%\n"
    }
   }
  },
  {
   "cell_type": "code",
   "execution_count": 909,
   "outputs": [
    {
     "data": {
      "text/plain": "              DF                                         ActionDesc  \\\n0   Fundamentals  Dropped obvious low value columns -- 1 -- Date...   \n1   Fundamentals  Initial Null Drop -- columns w/ 63% Null or more.   \n2   Fundamentals          Dropped columns with only 1 unique value    \n3   Fundamentals  Dropping all that are not standard statements ...   \n4   Fundamentals   Second Null Drop -- columns w/ 20% Null or more.   \n5   Fundamentals                  Dropping Columns w/ Only 2 values   \n6   Fundamentals  Second Manual Column Reduce - Dropping Identif...   \n7   Fundamentals  Third Manual Column Reduce  - Targetted Reduce...   \n8   Fundamentals  Summary Features  - Used to create features, t...   \n9   Fundamentals                                     Group by GVKey   \n10  Fundamentals                              Join Restatement Data   \n\n                                         List-of-Cols   ResultShape  \n0   [datadate, apdedate, fdate, pdate, fyr, add1, ...  (2323, 1744)  \n1   [acctchg, acqmeth, adrr, bspr, compst, curuscn...   (2323, 326)  \n2   [indfmt, consol, popsrc, curcd, final, scf, ac...   (2323, 310)  \n3    applies to all cols, roughly 50% of rows dropped   (1243, 310)  \n4   [cld2, cld3, cld4, cld5, cshr, dd3, dd4, dd5, ...   (1243, 265)  \n5   [datafmt, ismod, upd, rdip, rdipa, rdipd, rdip...   (1243, 250)  \n6   [Unnamed: 0, conm, au, auopic, pddur, dpact_fn...   (1243, 240)  \n7   [lco, lcox, lcoxdr, lo, loxdr, mib, mibn, ppev...    (1243, 92)  \n8                      [drc, drlt, rea, reajo, recta]    (1243, 88)  \n9                                                 All    (348, 167)  \n10                                   Restatement Cols    (348, 172)  ",
      "text/html": "<div>\n<style scoped>\n    .dataframe tbody tr th:only-of-type {\n        vertical-align: middle;\n    }\n\n    .dataframe tbody tr th {\n        vertical-align: top;\n    }\n\n    .dataframe thead th {\n        text-align: right;\n    }\n</style>\n<table border=\"1\" class=\"dataframe\">\n  <thead>\n    <tr style=\"text-align: right;\">\n      <th></th>\n      <th>DF</th>\n      <th>ActionDesc</th>\n      <th>List-of-Cols</th>\n      <th>ResultShape</th>\n    </tr>\n  </thead>\n  <tbody>\n    <tr>\n      <th>0</th>\n      <td>Fundamentals</td>\n      <td>Dropped obvious low value columns -- 1 -- Date...</td>\n      <td>[datadate, apdedate, fdate, pdate, fyr, add1, ...</td>\n      <td>(2323, 1744)</td>\n    </tr>\n    <tr>\n      <th>1</th>\n      <td>Fundamentals</td>\n      <td>Initial Null Drop -- columns w/ 63% Null or more.</td>\n      <td>[acctchg, acqmeth, adrr, bspr, compst, curuscn...</td>\n      <td>(2323, 326)</td>\n    </tr>\n    <tr>\n      <th>2</th>\n      <td>Fundamentals</td>\n      <td>Dropped columns with only 1 unique value</td>\n      <td>[indfmt, consol, popsrc, curcd, final, scf, ac...</td>\n      <td>(2323, 310)</td>\n    </tr>\n    <tr>\n      <th>3</th>\n      <td>Fundamentals</td>\n      <td>Dropping all that are not standard statements ...</td>\n      <td>applies to all cols, roughly 50% of rows dropped</td>\n      <td>(1243, 310)</td>\n    </tr>\n    <tr>\n      <th>4</th>\n      <td>Fundamentals</td>\n      <td>Second Null Drop -- columns w/ 20% Null or more.</td>\n      <td>[cld2, cld3, cld4, cld5, cshr, dd3, dd4, dd5, ...</td>\n      <td>(1243, 265)</td>\n    </tr>\n    <tr>\n      <th>5</th>\n      <td>Fundamentals</td>\n      <td>Dropping Columns w/ Only 2 values</td>\n      <td>[datafmt, ismod, upd, rdip, rdipa, rdipd, rdip...</td>\n      <td>(1243, 250)</td>\n    </tr>\n    <tr>\n      <th>6</th>\n      <td>Fundamentals</td>\n      <td>Second Manual Column Reduce - Dropping Identif...</td>\n      <td>[Unnamed: 0, conm, au, auopic, pddur, dpact_fn...</td>\n      <td>(1243, 240)</td>\n    </tr>\n    <tr>\n      <th>7</th>\n      <td>Fundamentals</td>\n      <td>Third Manual Column Reduce  - Targetted Reduce...</td>\n      <td>[lco, lcox, lcoxdr, lo, loxdr, mib, mibn, ppev...</td>\n      <td>(1243, 92)</td>\n    </tr>\n    <tr>\n      <th>8</th>\n      <td>Fundamentals</td>\n      <td>Summary Features  - Used to create features, t...</td>\n      <td>[drc, drlt, rea, reajo, recta]</td>\n      <td>(1243, 88)</td>\n    </tr>\n    <tr>\n      <th>9</th>\n      <td>Fundamentals</td>\n      <td>Group by GVKey</td>\n      <td>All</td>\n      <td>(348, 167)</td>\n    </tr>\n    <tr>\n      <th>10</th>\n      <td>Fundamentals</td>\n      <td>Join Restatement Data</td>\n      <td>Restatement Cols</td>\n      <td>(348, 172)</td>\n    </tr>\n  </tbody>\n</table>\n</div>"
     },
     "execution_count": 909,
     "metadata": {},
     "output_type": "execute_result"
    }
   ],
   "source": [
    "# Join Restatement\n",
    "fund_restatement_summary = fund_restatement_summary.set_index('gvkey')\n",
    "fundamentals = fundamentals_allAgg.join(fund_restatement_summary)\n",
    "\n",
    "# Clean Actions Report\n",
    "cleanActionsDesc = \"Join Restatement Data\"\n",
    "df_name = \"Fundamentals\"\n",
    "cols = \"Restatement Cols\"\n",
    "\n",
    "cleanActionsReport(fundamentals,df_name,cleanActionsDesc,cols)\n",
    "cleanActionsDF"
   ],
   "metadata": {
    "collapsed": false,
    "pycharm": {
     "name": "#%%\n"
    }
   }
  },
  {
   "cell_type": "markdown",
   "source": [
    "## Ratings"
   ],
   "metadata": {
    "collapsed": false
   }
  },
  {
   "cell_type": "code",
   "execution_count": 910,
   "outputs": [
    {
     "data": {
      "text/plain": "              DF                                         ActionDesc  \\\n0   Fundamentals  Dropped obvious low value columns -- 1 -- Date...   \n1   Fundamentals  Initial Null Drop -- columns w/ 63% Null or more.   \n2   Fundamentals          Dropped columns with only 1 unique value    \n3   Fundamentals  Dropping all that are not standard statements ...   \n4   Fundamentals   Second Null Drop -- columns w/ 20% Null or more.   \n5   Fundamentals                  Dropping Columns w/ Only 2 values   \n6   Fundamentals  Second Manual Column Reduce - Dropping Identif...   \n7   Fundamentals  Third Manual Column Reduce  - Targetted Reduce...   \n8   Fundamentals  Summary Features  - Used to create features, t...   \n9   Fundamentals                                     Group by GVKey   \n10  Fundamentals                              Join Restatement Data   \n11       Ratings                           Capturing Original Shape   \n\n                                         List-of-Cols   ResultShape  \n0   [datadate, apdedate, fdate, pdate, fyr, add1, ...  (2323, 1744)  \n1   [acctchg, acqmeth, adrr, bspr, compst, curuscn...   (2323, 326)  \n2   [indfmt, consol, popsrc, curcd, final, scf, ac...   (2323, 310)  \n3    applies to all cols, roughly 50% of rows dropped   (1243, 310)  \n4   [cld2, cld3, cld4, cld5, cshr, dd3, dd4, dd5, ...   (1243, 265)  \n5   [datafmt, ismod, upd, rdip, rdipa, rdipd, rdip...   (1243, 250)  \n6   [Unnamed: 0, conm, au, auopic, pddur, dpact_fn...   (1243, 240)  \n7   [lco, lcox, lcoxdr, lo, loxdr, mib, mibn, ppev...    (1243, 92)  \n8                      [drc, drlt, rea, reajo, recta]    (1243, 88)  \n9                                                 All    (348, 167)  \n10                                   Restatement Cols    (348, 172)  \n11                                                N/A  (123678, 21)  ",
      "text/html": "<div>\n<style scoped>\n    .dataframe tbody tr th:only-of-type {\n        vertical-align: middle;\n    }\n\n    .dataframe tbody tr th {\n        vertical-align: top;\n    }\n\n    .dataframe thead th {\n        text-align: right;\n    }\n</style>\n<table border=\"1\" class=\"dataframe\">\n  <thead>\n    <tr style=\"text-align: right;\">\n      <th></th>\n      <th>DF</th>\n      <th>ActionDesc</th>\n      <th>List-of-Cols</th>\n      <th>ResultShape</th>\n    </tr>\n  </thead>\n  <tbody>\n    <tr>\n      <th>0</th>\n      <td>Fundamentals</td>\n      <td>Dropped obvious low value columns -- 1 -- Date...</td>\n      <td>[datadate, apdedate, fdate, pdate, fyr, add1, ...</td>\n      <td>(2323, 1744)</td>\n    </tr>\n    <tr>\n      <th>1</th>\n      <td>Fundamentals</td>\n      <td>Initial Null Drop -- columns w/ 63% Null or more.</td>\n      <td>[acctchg, acqmeth, adrr, bspr, compst, curuscn...</td>\n      <td>(2323, 326)</td>\n    </tr>\n    <tr>\n      <th>2</th>\n      <td>Fundamentals</td>\n      <td>Dropped columns with only 1 unique value</td>\n      <td>[indfmt, consol, popsrc, curcd, final, scf, ac...</td>\n      <td>(2323, 310)</td>\n    </tr>\n    <tr>\n      <th>3</th>\n      <td>Fundamentals</td>\n      <td>Dropping all that are not standard statements ...</td>\n      <td>applies to all cols, roughly 50% of rows dropped</td>\n      <td>(1243, 310)</td>\n    </tr>\n    <tr>\n      <th>4</th>\n      <td>Fundamentals</td>\n      <td>Second Null Drop -- columns w/ 20% Null or more.</td>\n      <td>[cld2, cld3, cld4, cld5, cshr, dd3, dd4, dd5, ...</td>\n      <td>(1243, 265)</td>\n    </tr>\n    <tr>\n      <th>5</th>\n      <td>Fundamentals</td>\n      <td>Dropping Columns w/ Only 2 values</td>\n      <td>[datafmt, ismod, upd, rdip, rdipa, rdipd, rdip...</td>\n      <td>(1243, 250)</td>\n    </tr>\n    <tr>\n      <th>6</th>\n      <td>Fundamentals</td>\n      <td>Second Manual Column Reduce - Dropping Identif...</td>\n      <td>[Unnamed: 0, conm, au, auopic, pddur, dpact_fn...</td>\n      <td>(1243, 240)</td>\n    </tr>\n    <tr>\n      <th>7</th>\n      <td>Fundamentals</td>\n      <td>Third Manual Column Reduce  - Targetted Reduce...</td>\n      <td>[lco, lcox, lcoxdr, lo, loxdr, mib, mibn, ppev...</td>\n      <td>(1243, 92)</td>\n    </tr>\n    <tr>\n      <th>8</th>\n      <td>Fundamentals</td>\n      <td>Summary Features  - Used to create features, t...</td>\n      <td>[drc, drlt, rea, reajo, recta]</td>\n      <td>(1243, 88)</td>\n    </tr>\n    <tr>\n      <th>9</th>\n      <td>Fundamentals</td>\n      <td>Group by GVKey</td>\n      <td>All</td>\n      <td>(348, 167)</td>\n    </tr>\n    <tr>\n      <th>10</th>\n      <td>Fundamentals</td>\n      <td>Join Restatement Data</td>\n      <td>Restatement Cols</td>\n      <td>(348, 172)</td>\n    </tr>\n    <tr>\n      <th>11</th>\n      <td>Ratings</td>\n      <td>Capturing Original Shape</td>\n      <td>N/A</td>\n      <td>(123678, 21)</td>\n    </tr>\n  </tbody>\n</table>\n</div>"
     },
     "execution_count": 910,
     "metadata": {},
     "output_type": "execute_result"
    }
   ],
   "source": [
    "# Seed Clean DF with initial stats\n",
    "cleanActionsDesc = \"Capturing Original Shape\"\n",
    "df_name = \"Ratings\"\n",
    "colText = \"N/A\"\n",
    "\n",
    "cleanActionsReport(ratings,df_name,cleanActionsDesc,colText)\n",
    "cleanActionsDF"
   ],
   "metadata": {
    "collapsed": false,
    "pycharm": {
     "name": "#%%\n"
    }
   }
  },
  {
   "cell_type": "code",
   "execution_count": 911,
   "outputs": [
    {
     "data": {
      "text/plain": "              DF                                         ActionDesc  \\\n0   Fundamentals  Dropped obvious low value columns -- 1 -- Date...   \n1   Fundamentals  Initial Null Drop -- columns w/ 63% Null or more.   \n2   Fundamentals          Dropped columns with only 1 unique value    \n3   Fundamentals  Dropping all that are not standard statements ...   \n4   Fundamentals   Second Null Drop -- columns w/ 20% Null or more.   \n5   Fundamentals                  Dropping Columns w/ Only 2 values   \n6   Fundamentals  Second Manual Column Reduce - Dropping Identif...   \n7   Fundamentals  Third Manual Column Reduce  - Targetted Reduce...   \n8   Fundamentals  Summary Features  - Used to create features, t...   \n9   Fundamentals                                     Group by GVKey   \n10  Fundamentals                              Join Restatement Data   \n11       Ratings                           Capturing Original Shape   \n12       Ratings                         Trim Rows by GSector == 30   \n\n                                         List-of-Cols   ResultShape  \n0   [datadate, apdedate, fdate, pdate, fyr, add1, ...  (2323, 1744)  \n1   [acctchg, acqmeth, adrr, bspr, compst, curuscn...   (2323, 326)  \n2   [indfmt, consol, popsrc, curcd, final, scf, ac...   (2323, 310)  \n3    applies to all cols, roughly 50% of rows dropped   (1243, 310)  \n4   [cld2, cld3, cld4, cld5, cshr, dd3, dd4, dd5, ...   (1243, 265)  \n5   [datafmt, ismod, upd, rdip, rdipa, rdipd, rdip...   (1243, 250)  \n6   [Unnamed: 0, conm, au, auopic, pddur, dpact_fn...   (1243, 240)  \n7   [lco, lcox, lcoxdr, lo, loxdr, mib, mibn, ppev...    (1243, 92)  \n8                      [drc, drlt, rea, reajo, recta]    (1243, 88)  \n9                                                 All    (348, 167)  \n10                                   Restatement Cols    (348, 172)  \n11                                                N/A  (123678, 21)  \n12                                                All   (17902, 21)  ",
      "text/html": "<div>\n<style scoped>\n    .dataframe tbody tr th:only-of-type {\n        vertical-align: middle;\n    }\n\n    .dataframe tbody tr th {\n        vertical-align: top;\n    }\n\n    .dataframe thead th {\n        text-align: right;\n    }\n</style>\n<table border=\"1\" class=\"dataframe\">\n  <thead>\n    <tr style=\"text-align: right;\">\n      <th></th>\n      <th>DF</th>\n      <th>ActionDesc</th>\n      <th>List-of-Cols</th>\n      <th>ResultShape</th>\n    </tr>\n  </thead>\n  <tbody>\n    <tr>\n      <th>0</th>\n      <td>Fundamentals</td>\n      <td>Dropped obvious low value columns -- 1 -- Date...</td>\n      <td>[datadate, apdedate, fdate, pdate, fyr, add1, ...</td>\n      <td>(2323, 1744)</td>\n    </tr>\n    <tr>\n      <th>1</th>\n      <td>Fundamentals</td>\n      <td>Initial Null Drop -- columns w/ 63% Null or more.</td>\n      <td>[acctchg, acqmeth, adrr, bspr, compst, curuscn...</td>\n      <td>(2323, 326)</td>\n    </tr>\n    <tr>\n      <th>2</th>\n      <td>Fundamentals</td>\n      <td>Dropped columns with only 1 unique value</td>\n      <td>[indfmt, consol, popsrc, curcd, final, scf, ac...</td>\n      <td>(2323, 310)</td>\n    </tr>\n    <tr>\n      <th>3</th>\n      <td>Fundamentals</td>\n      <td>Dropping all that are not standard statements ...</td>\n      <td>applies to all cols, roughly 50% of rows dropped</td>\n      <td>(1243, 310)</td>\n    </tr>\n    <tr>\n      <th>4</th>\n      <td>Fundamentals</td>\n      <td>Second Null Drop -- columns w/ 20% Null or more.</td>\n      <td>[cld2, cld3, cld4, cld5, cshr, dd3, dd4, dd5, ...</td>\n      <td>(1243, 265)</td>\n    </tr>\n    <tr>\n      <th>5</th>\n      <td>Fundamentals</td>\n      <td>Dropping Columns w/ Only 2 values</td>\n      <td>[datafmt, ismod, upd, rdip, rdipa, rdipd, rdip...</td>\n      <td>(1243, 250)</td>\n    </tr>\n    <tr>\n      <th>6</th>\n      <td>Fundamentals</td>\n      <td>Second Manual Column Reduce - Dropping Identif...</td>\n      <td>[Unnamed: 0, conm, au, auopic, pddur, dpact_fn...</td>\n      <td>(1243, 240)</td>\n    </tr>\n    <tr>\n      <th>7</th>\n      <td>Fundamentals</td>\n      <td>Third Manual Column Reduce  - Targetted Reduce...</td>\n      <td>[lco, lcox, lcoxdr, lo, loxdr, mib, mibn, ppev...</td>\n      <td>(1243, 92)</td>\n    </tr>\n    <tr>\n      <th>8</th>\n      <td>Fundamentals</td>\n      <td>Summary Features  - Used to create features, t...</td>\n      <td>[drc, drlt, rea, reajo, recta]</td>\n      <td>(1243, 88)</td>\n    </tr>\n    <tr>\n      <th>9</th>\n      <td>Fundamentals</td>\n      <td>Group by GVKey</td>\n      <td>All</td>\n      <td>(348, 167)</td>\n    </tr>\n    <tr>\n      <th>10</th>\n      <td>Fundamentals</td>\n      <td>Join Restatement Data</td>\n      <td>Restatement Cols</td>\n      <td>(348, 172)</td>\n    </tr>\n    <tr>\n      <th>11</th>\n      <td>Ratings</td>\n      <td>Capturing Original Shape</td>\n      <td>N/A</td>\n      <td>(123678, 21)</td>\n    </tr>\n    <tr>\n      <th>12</th>\n      <td>Ratings</td>\n      <td>Trim Rows by GSector == 30</td>\n      <td>All</td>\n      <td>(17902, 21)</td>\n    </tr>\n  </tbody>\n</table>\n</div>"
     },
     "execution_count": 911,
     "metadata": {},
     "output_type": "execute_result"
    }
   ],
   "source": [
    "# trim by Gsector -- Only keep my assigned GSector\n",
    "ratings = ratings[ratings['gsector'] == 30]\n",
    "\n",
    "cleanActionsDesc = \"Trim Rows by GSector == 30\"\n",
    "df_name = \"Ratings\"\n",
    "colText = \"All\"\n",
    "\n",
    "cleanActionsReport(ratings,df_name,cleanActionsDesc,colText)\n",
    "cleanActionsDF"
   ],
   "metadata": {
    "collapsed": false,
    "pycharm": {
     "name": "#%%\n"
    }
   }
  },
  {
   "cell_type": "code",
   "execution_count": 912,
   "outputs": [
    {
     "data": {
      "text/plain": "              DF                                         ActionDesc  \\\n0   Fundamentals  Dropped obvious low value columns -- 1 -- Date...   \n1   Fundamentals  Initial Null Drop -- columns w/ 63% Null or more.   \n2   Fundamentals          Dropped columns with only 1 unique value    \n3   Fundamentals  Dropping all that are not standard statements ...   \n4   Fundamentals   Second Null Drop -- columns w/ 20% Null or more.   \n5   Fundamentals                  Dropping Columns w/ Only 2 values   \n6   Fundamentals  Second Manual Column Reduce - Dropping Identif...   \n7   Fundamentals  Third Manual Column Reduce  - Targetted Reduce...   \n8   Fundamentals  Summary Features  - Used to create features, t...   \n9   Fundamentals                                     Group by GVKey   \n10  Fundamentals                              Join Restatement Data   \n11       Ratings                           Capturing Original Shape   \n12       Ratings                         Trim Rows by GSector == 30   \n13       Ratings  Dropped obvious low value columns -- 1 -- Date...   \n\n                                         List-of-Cols   ResultShape  \n0   [datadate, apdedate, fdate, pdate, fyr, add1, ...  (2323, 1744)  \n1   [acctchg, acqmeth, adrr, bspr, compst, curuscn...   (2323, 326)  \n2   [indfmt, consol, popsrc, curcd, final, scf, ac...   (2323, 310)  \n3    applies to all cols, roughly 50% of rows dropped   (1243, 310)  \n4   [cld2, cld3, cld4, cld5, cshr, dd3, dd4, dd5, ...   (1243, 265)  \n5   [datafmt, ismod, upd, rdip, rdipa, rdipd, rdip...   (1243, 250)  \n6   [Unnamed: 0, conm, au, auopic, pddur, dpact_fn...   (1243, 240)  \n7   [lco, lcox, lcoxdr, lo, loxdr, mib, mibn, ppev...    (1243, 92)  \n8                      [drc, drlt, rea, reajo, recta]    (1243, 88)  \n9                                                 All    (348, 167)  \n10                                   Restatement Cols    (348, 172)  \n11                                                N/A  (123678, 21)  \n12                                                All   (17902, 21)  \n13  [city, ggroup, gind, gsector, gsubind, loc, na...    (17902, 6)  ",
      "text/html": "<div>\n<style scoped>\n    .dataframe tbody tr th:only-of-type {\n        vertical-align: middle;\n    }\n\n    .dataframe tbody tr th {\n        vertical-align: top;\n    }\n\n    .dataframe thead th {\n        text-align: right;\n    }\n</style>\n<table border=\"1\" class=\"dataframe\">\n  <thead>\n    <tr style=\"text-align: right;\">\n      <th></th>\n      <th>DF</th>\n      <th>ActionDesc</th>\n      <th>List-of-Cols</th>\n      <th>ResultShape</th>\n    </tr>\n  </thead>\n  <tbody>\n    <tr>\n      <th>0</th>\n      <td>Fundamentals</td>\n      <td>Dropped obvious low value columns -- 1 -- Date...</td>\n      <td>[datadate, apdedate, fdate, pdate, fyr, add1, ...</td>\n      <td>(2323, 1744)</td>\n    </tr>\n    <tr>\n      <th>1</th>\n      <td>Fundamentals</td>\n      <td>Initial Null Drop -- columns w/ 63% Null or more.</td>\n      <td>[acctchg, acqmeth, adrr, bspr, compst, curuscn...</td>\n      <td>(2323, 326)</td>\n    </tr>\n    <tr>\n      <th>2</th>\n      <td>Fundamentals</td>\n      <td>Dropped columns with only 1 unique value</td>\n      <td>[indfmt, consol, popsrc, curcd, final, scf, ac...</td>\n      <td>(2323, 310)</td>\n    </tr>\n    <tr>\n      <th>3</th>\n      <td>Fundamentals</td>\n      <td>Dropping all that are not standard statements ...</td>\n      <td>applies to all cols, roughly 50% of rows dropped</td>\n      <td>(1243, 310)</td>\n    </tr>\n    <tr>\n      <th>4</th>\n      <td>Fundamentals</td>\n      <td>Second Null Drop -- columns w/ 20% Null or more.</td>\n      <td>[cld2, cld3, cld4, cld5, cshr, dd3, dd4, dd5, ...</td>\n      <td>(1243, 265)</td>\n    </tr>\n    <tr>\n      <th>5</th>\n      <td>Fundamentals</td>\n      <td>Dropping Columns w/ Only 2 values</td>\n      <td>[datafmt, ismod, upd, rdip, rdipa, rdipd, rdip...</td>\n      <td>(1243, 250)</td>\n    </tr>\n    <tr>\n      <th>6</th>\n      <td>Fundamentals</td>\n      <td>Second Manual Column Reduce - Dropping Identif...</td>\n      <td>[Unnamed: 0, conm, au, auopic, pddur, dpact_fn...</td>\n      <td>(1243, 240)</td>\n    </tr>\n    <tr>\n      <th>7</th>\n      <td>Fundamentals</td>\n      <td>Third Manual Column Reduce  - Targetted Reduce...</td>\n      <td>[lco, lcox, lcoxdr, lo, loxdr, mib, mibn, ppev...</td>\n      <td>(1243, 92)</td>\n    </tr>\n    <tr>\n      <th>8</th>\n      <td>Fundamentals</td>\n      <td>Summary Features  - Used to create features, t...</td>\n      <td>[drc, drlt, rea, reajo, recta]</td>\n      <td>(1243, 88)</td>\n    </tr>\n    <tr>\n      <th>9</th>\n      <td>Fundamentals</td>\n      <td>Group by GVKey</td>\n      <td>All</td>\n      <td>(348, 167)</td>\n    </tr>\n    <tr>\n      <th>10</th>\n      <td>Fundamentals</td>\n      <td>Join Restatement Data</td>\n      <td>Restatement Cols</td>\n      <td>(348, 172)</td>\n    </tr>\n    <tr>\n      <th>11</th>\n      <td>Ratings</td>\n      <td>Capturing Original Shape</td>\n      <td>N/A</td>\n      <td>(123678, 21)</td>\n    </tr>\n    <tr>\n      <th>12</th>\n      <td>Ratings</td>\n      <td>Trim Rows by GSector == 30</td>\n      <td>All</td>\n      <td>(17902, 21)</td>\n    </tr>\n    <tr>\n      <th>13</th>\n      <td>Ratings</td>\n      <td>Dropped obvious low value columns -- 1 -- Date...</td>\n      <td>[city, ggroup, gind, gsector, gsubind, loc, na...</td>\n      <td>(17902, 6)</td>\n    </tr>\n  </tbody>\n</table>\n</div>"
     },
     "execution_count": 912,
     "metadata": {},
     "output_type": "execute_result"
    }
   ],
   "source": [
    "# Drop Obvious Un-needed 1\n",
    "## TODO - Note to self -- if a \"gcode\" is useful, I can drop from fundaments and get here to make that aggr easier.\n",
    "cleanActionsDesc = \"Dropped obvious low value columns -- 1 -- Dates/Codes/Addresses/Etc.\"\n",
    "df_name = \"Ratings\"\n",
    "\n",
    "colsToDrop = ['city','ggroup','gind','gsector','gsubind','loc','naics',\n",
    "              'state','conm','tic',\n",
    "              'idbflag','sic','spcindcd','spcseccd','conml']\n",
    "\n",
    "ratings = ratings.drop(columns=colsToDrop)\n",
    "cleanActionsReport(ratings,df_name,cleanActionsDesc,colsToDrop)\n",
    "cleanActionsDF\n"
   ],
   "metadata": {
    "collapsed": false,
    "pycharm": {
     "name": "#%%\n"
    }
   }
  },
  {
   "cell_type": "code",
   "execution_count": 913,
   "outputs": [
    {
     "name": "stdout",
     "output_type": "stream",
     "text": [
      "Count of Variables: 6\n",
      "Count of Variables without nulls: 2\n",
      "Count of Variables with null : 4\n"
     ]
    },
    {
     "data": {
      "text/plain": "   Variable Observations  Nulls  Null_Per Num_Unique     Type\n2    spsdrm        17902  17902   100.000          0  float64\n3  spsticrm        17902  15476    86.448          5   object\n1  splticrm        17902  12272    68.551         19   object\n5    spcsrc        17902   8912    49.782          8   object",
      "text/html": "<div>\n<style scoped>\n    .dataframe tbody tr th:only-of-type {\n        vertical-align: middle;\n    }\n\n    .dataframe tbody tr th {\n        vertical-align: top;\n    }\n\n    .dataframe thead th {\n        text-align: right;\n    }\n</style>\n<table border=\"1\" class=\"dataframe\">\n  <thead>\n    <tr style=\"text-align: right;\">\n      <th></th>\n      <th>Variable</th>\n      <th>Observations</th>\n      <th>Nulls</th>\n      <th>Null_Per</th>\n      <th>Num_Unique</th>\n      <th>Type</th>\n    </tr>\n  </thead>\n  <tbody>\n    <tr>\n      <th>2</th>\n      <td>spsdrm</td>\n      <td>17902</td>\n      <td>17902</td>\n      <td>100.000</td>\n      <td>0</td>\n      <td>float64</td>\n    </tr>\n    <tr>\n      <th>3</th>\n      <td>spsticrm</td>\n      <td>17902</td>\n      <td>15476</td>\n      <td>86.448</td>\n      <td>5</td>\n      <td>object</td>\n    </tr>\n    <tr>\n      <th>1</th>\n      <td>splticrm</td>\n      <td>17902</td>\n      <td>12272</td>\n      <td>68.551</td>\n      <td>19</td>\n      <td>object</td>\n    </tr>\n    <tr>\n      <th>5</th>\n      <td>spcsrc</td>\n      <td>17902</td>\n      <td>8912</td>\n      <td>49.782</td>\n      <td>8</td>\n      <td>object</td>\n    </tr>\n  </tbody>\n</table>\n</div>"
     },
     "execution_count": 913,
     "metadata": {},
     "output_type": "execute_result"
    }
   ],
   "source": [
    "# Null Analysis Report\n",
    "ratingsNullReport = nullAnalysis(ratings)\n",
    "ratingsNullReport"
   ],
   "metadata": {
    "collapsed": false,
    "pycharm": {
     "name": "#%%\n"
    }
   }
  },
  {
   "cell_type": "code",
   "execution_count": 914,
   "outputs": [
    {
     "name": "stdout",
     "output_type": "stream",
     "text": [
      "dropped: 3\n",
      "columns that where dropped where: ['splticrm', 'spsdrm', 'spsticrm']\n"
     ]
    },
    {
     "data": {
      "text/plain": "              DF                                         ActionDesc  \\\n0   Fundamentals  Dropped obvious low value columns -- 1 -- Date...   \n1   Fundamentals  Initial Null Drop -- columns w/ 63% Null or more.   \n2   Fundamentals          Dropped columns with only 1 unique value    \n3   Fundamentals  Dropping all that are not standard statements ...   \n4   Fundamentals   Second Null Drop -- columns w/ 20% Null or more.   \n5   Fundamentals                  Dropping Columns w/ Only 2 values   \n6   Fundamentals  Second Manual Column Reduce - Dropping Identif...   \n7   Fundamentals  Third Manual Column Reduce  - Targetted Reduce...   \n8   Fundamentals  Summary Features  - Used to create features, t...   \n9   Fundamentals                                     Group by GVKey   \n10  Fundamentals                              Join Restatement Data   \n11       Ratings                           Capturing Original Shape   \n12       Ratings                         Trim Rows by GSector == 30   \n13       Ratings  Dropped obvious low value columns -- 1 -- Date...   \n14       Ratings  Dropped Nulls -- 1 -- More than 50% Null -- Dr...   \n\n                                         List-of-Cols   ResultShape  \n0   [datadate, apdedate, fdate, pdate, fyr, add1, ...  (2323, 1744)  \n1   [acctchg, acqmeth, adrr, bspr, compst, curuscn...   (2323, 326)  \n2   [indfmt, consol, popsrc, curcd, final, scf, ac...   (2323, 310)  \n3    applies to all cols, roughly 50% of rows dropped   (1243, 310)  \n4   [cld2, cld3, cld4, cld5, cshr, dd3, dd4, dd5, ...   (1243, 265)  \n5   [datafmt, ismod, upd, rdip, rdipa, rdipd, rdip...   (1243, 250)  \n6   [Unnamed: 0, conm, au, auopic, pddur, dpact_fn...   (1243, 240)  \n7   [lco, lcox, lcoxdr, lo, loxdr, mib, mibn, ppev...    (1243, 92)  \n8                      [drc, drlt, rea, reajo, recta]    (1243, 88)  \n9                                                 All    (348, 167)  \n10                                   Restatement Cols    (348, 172)  \n11                                                N/A  (123678, 21)  \n12                                                All   (17902, 21)  \n13  [city, ggroup, gind, gsector, gsubind, loc, na...    (17902, 6)  \n14                       [splticrm, spsdrm, spsticrm]    (17902, 3)  ",
      "text/html": "<div>\n<style scoped>\n    .dataframe tbody tr th:only-of-type {\n        vertical-align: middle;\n    }\n\n    .dataframe tbody tr th {\n        vertical-align: top;\n    }\n\n    .dataframe thead th {\n        text-align: right;\n    }\n</style>\n<table border=\"1\" class=\"dataframe\">\n  <thead>\n    <tr style=\"text-align: right;\">\n      <th></th>\n      <th>DF</th>\n      <th>ActionDesc</th>\n      <th>List-of-Cols</th>\n      <th>ResultShape</th>\n    </tr>\n  </thead>\n  <tbody>\n    <tr>\n      <th>0</th>\n      <td>Fundamentals</td>\n      <td>Dropped obvious low value columns -- 1 -- Date...</td>\n      <td>[datadate, apdedate, fdate, pdate, fyr, add1, ...</td>\n      <td>(2323, 1744)</td>\n    </tr>\n    <tr>\n      <th>1</th>\n      <td>Fundamentals</td>\n      <td>Initial Null Drop -- columns w/ 63% Null or more.</td>\n      <td>[acctchg, acqmeth, adrr, bspr, compst, curuscn...</td>\n      <td>(2323, 326)</td>\n    </tr>\n    <tr>\n      <th>2</th>\n      <td>Fundamentals</td>\n      <td>Dropped columns with only 1 unique value</td>\n      <td>[indfmt, consol, popsrc, curcd, final, scf, ac...</td>\n      <td>(2323, 310)</td>\n    </tr>\n    <tr>\n      <th>3</th>\n      <td>Fundamentals</td>\n      <td>Dropping all that are not standard statements ...</td>\n      <td>applies to all cols, roughly 50% of rows dropped</td>\n      <td>(1243, 310)</td>\n    </tr>\n    <tr>\n      <th>4</th>\n      <td>Fundamentals</td>\n      <td>Second Null Drop -- columns w/ 20% Null or more.</td>\n      <td>[cld2, cld3, cld4, cld5, cshr, dd3, dd4, dd5, ...</td>\n      <td>(1243, 265)</td>\n    </tr>\n    <tr>\n      <th>5</th>\n      <td>Fundamentals</td>\n      <td>Dropping Columns w/ Only 2 values</td>\n      <td>[datafmt, ismod, upd, rdip, rdipa, rdipd, rdip...</td>\n      <td>(1243, 250)</td>\n    </tr>\n    <tr>\n      <th>6</th>\n      <td>Fundamentals</td>\n      <td>Second Manual Column Reduce - Dropping Identif...</td>\n      <td>[Unnamed: 0, conm, au, auopic, pddur, dpact_fn...</td>\n      <td>(1243, 240)</td>\n    </tr>\n    <tr>\n      <th>7</th>\n      <td>Fundamentals</td>\n      <td>Third Manual Column Reduce  - Targetted Reduce...</td>\n      <td>[lco, lcox, lcoxdr, lo, loxdr, mib, mibn, ppev...</td>\n      <td>(1243, 92)</td>\n    </tr>\n    <tr>\n      <th>8</th>\n      <td>Fundamentals</td>\n      <td>Summary Features  - Used to create features, t...</td>\n      <td>[drc, drlt, rea, reajo, recta]</td>\n      <td>(1243, 88)</td>\n    </tr>\n    <tr>\n      <th>9</th>\n      <td>Fundamentals</td>\n      <td>Group by GVKey</td>\n      <td>All</td>\n      <td>(348, 167)</td>\n    </tr>\n    <tr>\n      <th>10</th>\n      <td>Fundamentals</td>\n      <td>Join Restatement Data</td>\n      <td>Restatement Cols</td>\n      <td>(348, 172)</td>\n    </tr>\n    <tr>\n      <th>11</th>\n      <td>Ratings</td>\n      <td>Capturing Original Shape</td>\n      <td>N/A</td>\n      <td>(123678, 21)</td>\n    </tr>\n    <tr>\n      <th>12</th>\n      <td>Ratings</td>\n      <td>Trim Rows by GSector == 30</td>\n      <td>All</td>\n      <td>(17902, 21)</td>\n    </tr>\n    <tr>\n      <th>13</th>\n      <td>Ratings</td>\n      <td>Dropped obvious low value columns -- 1 -- Date...</td>\n      <td>[city, ggroup, gind, gsector, gsubind, loc, na...</td>\n      <td>(17902, 6)</td>\n    </tr>\n    <tr>\n      <th>14</th>\n      <td>Ratings</td>\n      <td>Dropped Nulls -- 1 -- More than 50% Null -- Dr...</td>\n      <td>[splticrm, spsdrm, spsticrm]</td>\n      <td>(17902, 3)</td>\n    </tr>\n  </tbody>\n</table>\n</div>"
     },
     "execution_count": 914,
     "metadata": {},
     "output_type": "execute_result"
    }
   ],
   "source": [
    "# Drop Nulls 1\n",
    "cleanActionsDesc = \"Dropped Nulls -- 1 -- More than 50% Null -- Drops more granular Ratings\"\n",
    "df_name = \"Ratings\"\n",
    "\n",
    "ratings = dropCols_nullThresh(ratings,0.50,df_name,cleanActionsDesc)\n",
    "cleanActionsDF"
   ],
   "metadata": {
    "collapsed": false,
    "pycharm": {
     "name": "#%%\n"
    }
   }
  },
  {
   "cell_type": "code",
   "execution_count": 915,
   "outputs": [
    {
     "data": {
      "text/plain": "         gvkey    datadate  spcsrc\n409       1239   1/31/2010     6.0\n410       1239   2/28/2010     6.0\n411       1239   3/31/2010     6.0\n412       1239   4/30/2010     6.0\n413       1239   5/31/2010     6.0\n...        ...         ...     ...\n123565  277487   6/30/2013     0.0\n123566  277487   7/31/2013     0.0\n123567  277487   8/31/2013     0.0\n123568  277487   9/30/2013     0.0\n123569  277487  10/31/2013     0.0\n\n[17902 rows x 3 columns]",
      "text/html": "<div>\n<style scoped>\n    .dataframe tbody tr th:only-of-type {\n        vertical-align: middle;\n    }\n\n    .dataframe tbody tr th {\n        vertical-align: top;\n    }\n\n    .dataframe thead th {\n        text-align: right;\n    }\n</style>\n<table border=\"1\" class=\"dataframe\">\n  <thead>\n    <tr style=\"text-align: right;\">\n      <th></th>\n      <th>gvkey</th>\n      <th>datadate</th>\n      <th>spcsrc</th>\n    </tr>\n  </thead>\n  <tbody>\n    <tr>\n      <th>409</th>\n      <td>1239</td>\n      <td>1/31/2010</td>\n      <td>6.0</td>\n    </tr>\n    <tr>\n      <th>410</th>\n      <td>1239</td>\n      <td>2/28/2010</td>\n      <td>6.0</td>\n    </tr>\n    <tr>\n      <th>411</th>\n      <td>1239</td>\n      <td>3/31/2010</td>\n      <td>6.0</td>\n    </tr>\n    <tr>\n      <th>412</th>\n      <td>1239</td>\n      <td>4/30/2010</td>\n      <td>6.0</td>\n    </tr>\n    <tr>\n      <th>413</th>\n      <td>1239</td>\n      <td>5/31/2010</td>\n      <td>6.0</td>\n    </tr>\n    <tr>\n      <th>...</th>\n      <td>...</td>\n      <td>...</td>\n      <td>...</td>\n    </tr>\n    <tr>\n      <th>123565</th>\n      <td>277487</td>\n      <td>6/30/2013</td>\n      <td>0.0</td>\n    </tr>\n    <tr>\n      <th>123566</th>\n      <td>277487</td>\n      <td>7/31/2013</td>\n      <td>0.0</td>\n    </tr>\n    <tr>\n      <th>123567</th>\n      <td>277487</td>\n      <td>8/31/2013</td>\n      <td>0.0</td>\n    </tr>\n    <tr>\n      <th>123568</th>\n      <td>277487</td>\n      <td>9/30/2013</td>\n      <td>0.0</td>\n    </tr>\n    <tr>\n      <th>123569</th>\n      <td>277487</td>\n      <td>10/31/2013</td>\n      <td>0.0</td>\n    </tr>\n  </tbody>\n</table>\n<p>17902 rows × 3 columns</p>\n</div>"
     },
     "execution_count": 915,
     "metadata": {},
     "output_type": "execute_result"
    }
   ],
   "source": [
    "# Oridinal Encode Ratings\n",
    "\n",
    "## Fill NaN Ratings\n",
    "ratings['spcsrc'] = ratings['spcsrc'].fillna('NR')\n",
    "\n",
    "## Set Function Params\n",
    "ordEncode_Vars = ['spcsrc']\n",
    "ordEncode_order = ['NR','D','C','B-','B','B+','A-','A','A+']\n",
    "\n",
    "## Call Ordinal Encoder Func\n",
    "ratings = OrdinalEncoderFunc (ratings,ordEncode_Vars,ordEncode_order)\n",
    "ratings"
   ],
   "metadata": {
    "collapsed": false,
    "pycharm": {
     "name": "#%%\n"
    }
   }
  },
  {
   "cell_type": "code",
   "execution_count": 916,
   "outputs": [
    {
     "data": {
      "text/plain": "              DF                                         ActionDesc  \\\n0   Fundamentals  Dropped obvious low value columns -- 1 -- Date...   \n1   Fundamentals  Initial Null Drop -- columns w/ 63% Null or more.   \n2   Fundamentals          Dropped columns with only 1 unique value    \n3   Fundamentals  Dropping all that are not standard statements ...   \n4   Fundamentals   Second Null Drop -- columns w/ 20% Null or more.   \n5   Fundamentals                  Dropping Columns w/ Only 2 values   \n6   Fundamentals  Second Manual Column Reduce - Dropping Identif...   \n7   Fundamentals  Third Manual Column Reduce  - Targetted Reduce...   \n8   Fundamentals  Summary Features  - Used to create features, t...   \n9   Fundamentals                                     Group by GVKey   \n10  Fundamentals                              Join Restatement Data   \n11       Ratings                           Capturing Original Shape   \n12       Ratings                         Trim Rows by GSector == 30   \n13       Ratings  Dropped obvious low value columns -- 1 -- Date...   \n14       Ratings  Dropped Nulls -- 1 -- More than 50% Null -- Dr...   \n15       Ratings                                     Group by GVKey   \n\n                                         List-of-Cols   ResultShape  \n0   [datadate, apdedate, fdate, pdate, fyr, add1, ...  (2323, 1744)  \n1   [acctchg, acqmeth, adrr, bspr, compst, curuscn...   (2323, 326)  \n2   [indfmt, consol, popsrc, curcd, final, scf, ac...   (2323, 310)  \n3    applies to all cols, roughly 50% of rows dropped   (1243, 310)  \n4   [cld2, cld3, cld4, cld5, cshr, dd3, dd4, dd5, ...   (1243, 265)  \n5   [datafmt, ismod, upd, rdip, rdipa, rdipd, rdip...   (1243, 250)  \n6   [Unnamed: 0, conm, au, auopic, pddur, dpact_fn...   (1243, 240)  \n7   [lco, lcox, lcoxdr, lo, loxdr, mib, mibn, ppev...    (1243, 92)  \n8                      [drc, drlt, rea, reajo, recta]    (1243, 88)  \n9                                                 All    (348, 167)  \n10                                   Restatement Cols    (348, 172)  \n11                                                N/A  (123678, 21)  \n12                                                All   (17902, 21)  \n13  [city, ggroup, gind, gsector, gsubind, loc, na...    (17902, 6)  \n14                       [splticrm, spsdrm, spsticrm]    (17902, 3)  \n15  [city, ggroup, gind, gsector, gsubind, loc, na...      (452, 3)  ",
      "text/html": "<div>\n<style scoped>\n    .dataframe tbody tr th:only-of-type {\n        vertical-align: middle;\n    }\n\n    .dataframe tbody tr th {\n        vertical-align: top;\n    }\n\n    .dataframe thead th {\n        text-align: right;\n    }\n</style>\n<table border=\"1\" class=\"dataframe\">\n  <thead>\n    <tr style=\"text-align: right;\">\n      <th></th>\n      <th>DF</th>\n      <th>ActionDesc</th>\n      <th>List-of-Cols</th>\n      <th>ResultShape</th>\n    </tr>\n  </thead>\n  <tbody>\n    <tr>\n      <th>0</th>\n      <td>Fundamentals</td>\n      <td>Dropped obvious low value columns -- 1 -- Date...</td>\n      <td>[datadate, apdedate, fdate, pdate, fyr, add1, ...</td>\n      <td>(2323, 1744)</td>\n    </tr>\n    <tr>\n      <th>1</th>\n      <td>Fundamentals</td>\n      <td>Initial Null Drop -- columns w/ 63% Null or more.</td>\n      <td>[acctchg, acqmeth, adrr, bspr, compst, curuscn...</td>\n      <td>(2323, 326)</td>\n    </tr>\n    <tr>\n      <th>2</th>\n      <td>Fundamentals</td>\n      <td>Dropped columns with only 1 unique value</td>\n      <td>[indfmt, consol, popsrc, curcd, final, scf, ac...</td>\n      <td>(2323, 310)</td>\n    </tr>\n    <tr>\n      <th>3</th>\n      <td>Fundamentals</td>\n      <td>Dropping all that are not standard statements ...</td>\n      <td>applies to all cols, roughly 50% of rows dropped</td>\n      <td>(1243, 310)</td>\n    </tr>\n    <tr>\n      <th>4</th>\n      <td>Fundamentals</td>\n      <td>Second Null Drop -- columns w/ 20% Null or more.</td>\n      <td>[cld2, cld3, cld4, cld5, cshr, dd3, dd4, dd5, ...</td>\n      <td>(1243, 265)</td>\n    </tr>\n    <tr>\n      <th>5</th>\n      <td>Fundamentals</td>\n      <td>Dropping Columns w/ Only 2 values</td>\n      <td>[datafmt, ismod, upd, rdip, rdipa, rdipd, rdip...</td>\n      <td>(1243, 250)</td>\n    </tr>\n    <tr>\n      <th>6</th>\n      <td>Fundamentals</td>\n      <td>Second Manual Column Reduce - Dropping Identif...</td>\n      <td>[Unnamed: 0, conm, au, auopic, pddur, dpact_fn...</td>\n      <td>(1243, 240)</td>\n    </tr>\n    <tr>\n      <th>7</th>\n      <td>Fundamentals</td>\n      <td>Third Manual Column Reduce  - Targetted Reduce...</td>\n      <td>[lco, lcox, lcoxdr, lo, loxdr, mib, mibn, ppev...</td>\n      <td>(1243, 92)</td>\n    </tr>\n    <tr>\n      <th>8</th>\n      <td>Fundamentals</td>\n      <td>Summary Features  - Used to create features, t...</td>\n      <td>[drc, drlt, rea, reajo, recta]</td>\n      <td>(1243, 88)</td>\n    </tr>\n    <tr>\n      <th>9</th>\n      <td>Fundamentals</td>\n      <td>Group by GVKey</td>\n      <td>All</td>\n      <td>(348, 167)</td>\n    </tr>\n    <tr>\n      <th>10</th>\n      <td>Fundamentals</td>\n      <td>Join Restatement Data</td>\n      <td>Restatement Cols</td>\n      <td>(348, 172)</td>\n    </tr>\n    <tr>\n      <th>11</th>\n      <td>Ratings</td>\n      <td>Capturing Original Shape</td>\n      <td>N/A</td>\n      <td>(123678, 21)</td>\n    </tr>\n    <tr>\n      <th>12</th>\n      <td>Ratings</td>\n      <td>Trim Rows by GSector == 30</td>\n      <td>All</td>\n      <td>(17902, 21)</td>\n    </tr>\n    <tr>\n      <th>13</th>\n      <td>Ratings</td>\n      <td>Dropped obvious low value columns -- 1 -- Date...</td>\n      <td>[city, ggroup, gind, gsector, gsubind, loc, na...</td>\n      <td>(17902, 6)</td>\n    </tr>\n    <tr>\n      <th>14</th>\n      <td>Ratings</td>\n      <td>Dropped Nulls -- 1 -- More than 50% Null -- Dr...</td>\n      <td>[splticrm, spsdrm, spsticrm]</td>\n      <td>(17902, 3)</td>\n    </tr>\n    <tr>\n      <th>15</th>\n      <td>Ratings</td>\n      <td>Group by GVKey</td>\n      <td>[city, ggroup, gind, gsector, gsubind, loc, na...</td>\n      <td>(452, 3)</td>\n    </tr>\n  </tbody>\n</table>\n</div>"
     },
     "execution_count": 916,
     "metadata": {},
     "output_type": "execute_result"
    }
   ],
   "source": [
    "# Group by\n",
    "## Note to self -- in a seperate analysis I confirmed that no companies had a change in rating\n",
    "ratings = ratings.groupby('gvkey')\\\n",
    "    .agg({'datadate':'count','spcsrc':'mean'}).reset_index()\n",
    "\n",
    "cleanActionsDesc = \"Group by GVKey\"\n",
    "df_name = \"Ratings\"\n",
    "\n",
    "cleanActionsReport(ratings,df_name,cleanActionsDesc,colsToDrop)\n",
    "cleanActionsDF"
   ],
   "metadata": {
    "collapsed": false,
    "pycharm": {
     "name": "#%%\n"
    }
   }
  },
  {
   "cell_type": "markdown",
   "source": [
    "## Securities"
   ],
   "metadata": {
    "collapsed": false
   }
  },
  {
   "cell_type": "code",
   "execution_count": 917,
   "outputs": [
    {
     "data": {
      "text/plain": "              DF                                         ActionDesc  \\\n0   Fundamentals  Dropped obvious low value columns -- 1 -- Date...   \n1   Fundamentals  Initial Null Drop -- columns w/ 63% Null or more.   \n2   Fundamentals          Dropped columns with only 1 unique value    \n3   Fundamentals  Dropping all that are not standard statements ...   \n4   Fundamentals   Second Null Drop -- columns w/ 20% Null or more.   \n5   Fundamentals                  Dropping Columns w/ Only 2 values   \n6   Fundamentals  Second Manual Column Reduce - Dropping Identif...   \n7   Fundamentals  Third Manual Column Reduce  - Targetted Reduce...   \n8   Fundamentals  Summary Features  - Used to create features, t...   \n9   Fundamentals                                     Group by GVKey   \n10  Fundamentals                              Join Restatement Data   \n11       Ratings                           Capturing Original Shape   \n12       Ratings                         Trim Rows by GSector == 30   \n13       Ratings  Dropped obvious low value columns -- 1 -- Date...   \n14       Ratings  Dropped Nulls -- 1 -- More than 50% Null -- Dr...   \n15       Ratings                                     Group by GVKey   \n16    Securities                           Capturing Original Shape   \n\n                                         List-of-Cols   ResultShape  \n0   [datadate, apdedate, fdate, pdate, fyr, add1, ...  (2323, 1744)  \n1   [acctchg, acqmeth, adrr, bspr, compst, curuscn...   (2323, 326)  \n2   [indfmt, consol, popsrc, curcd, final, scf, ac...   (2323, 310)  \n3    applies to all cols, roughly 50% of rows dropped   (1243, 310)  \n4   [cld2, cld3, cld4, cld5, cshr, dd3, dd4, dd5, ...   (1243, 265)  \n5   [datafmt, ismod, upd, rdip, rdipa, rdipd, rdip...   (1243, 250)  \n6   [Unnamed: 0, conm, au, auopic, pddur, dpact_fn...   (1243, 240)  \n7   [lco, lcox, lcoxdr, lo, loxdr, mib, mibn, ppev...    (1243, 92)  \n8                      [drc, drlt, rea, reajo, recta]    (1243, 88)  \n9                                                 All    (348, 167)  \n10                                   Restatement Cols    (348, 172)  \n11                                                N/A  (123678, 21)  \n12                                                All   (17902, 21)  \n13  [city, ggroup, gind, gsector, gsubind, loc, na...    (17902, 6)  \n14                       [splticrm, spsdrm, spsticrm]    (17902, 3)  \n15  [city, ggroup, gind, gsector, gsubind, loc, na...      (452, 3)  \n16                                                N/A   (32382, 56)  ",
      "text/html": "<div>\n<style scoped>\n    .dataframe tbody tr th:only-of-type {\n        vertical-align: middle;\n    }\n\n    .dataframe tbody tr th {\n        vertical-align: top;\n    }\n\n    .dataframe thead th {\n        text-align: right;\n    }\n</style>\n<table border=\"1\" class=\"dataframe\">\n  <thead>\n    <tr style=\"text-align: right;\">\n      <th></th>\n      <th>DF</th>\n      <th>ActionDesc</th>\n      <th>List-of-Cols</th>\n      <th>ResultShape</th>\n    </tr>\n  </thead>\n  <tbody>\n    <tr>\n      <th>0</th>\n      <td>Fundamentals</td>\n      <td>Dropped obvious low value columns -- 1 -- Date...</td>\n      <td>[datadate, apdedate, fdate, pdate, fyr, add1, ...</td>\n      <td>(2323, 1744)</td>\n    </tr>\n    <tr>\n      <th>1</th>\n      <td>Fundamentals</td>\n      <td>Initial Null Drop -- columns w/ 63% Null or more.</td>\n      <td>[acctchg, acqmeth, adrr, bspr, compst, curuscn...</td>\n      <td>(2323, 326)</td>\n    </tr>\n    <tr>\n      <th>2</th>\n      <td>Fundamentals</td>\n      <td>Dropped columns with only 1 unique value</td>\n      <td>[indfmt, consol, popsrc, curcd, final, scf, ac...</td>\n      <td>(2323, 310)</td>\n    </tr>\n    <tr>\n      <th>3</th>\n      <td>Fundamentals</td>\n      <td>Dropping all that are not standard statements ...</td>\n      <td>applies to all cols, roughly 50% of rows dropped</td>\n      <td>(1243, 310)</td>\n    </tr>\n    <tr>\n      <th>4</th>\n      <td>Fundamentals</td>\n      <td>Second Null Drop -- columns w/ 20% Null or more.</td>\n      <td>[cld2, cld3, cld4, cld5, cshr, dd3, dd4, dd5, ...</td>\n      <td>(1243, 265)</td>\n    </tr>\n    <tr>\n      <th>5</th>\n      <td>Fundamentals</td>\n      <td>Dropping Columns w/ Only 2 values</td>\n      <td>[datafmt, ismod, upd, rdip, rdipa, rdipd, rdip...</td>\n      <td>(1243, 250)</td>\n    </tr>\n    <tr>\n      <th>6</th>\n      <td>Fundamentals</td>\n      <td>Second Manual Column Reduce - Dropping Identif...</td>\n      <td>[Unnamed: 0, conm, au, auopic, pddur, dpact_fn...</td>\n      <td>(1243, 240)</td>\n    </tr>\n    <tr>\n      <th>7</th>\n      <td>Fundamentals</td>\n      <td>Third Manual Column Reduce  - Targetted Reduce...</td>\n      <td>[lco, lcox, lcoxdr, lo, loxdr, mib, mibn, ppev...</td>\n      <td>(1243, 92)</td>\n    </tr>\n    <tr>\n      <th>8</th>\n      <td>Fundamentals</td>\n      <td>Summary Features  - Used to create features, t...</td>\n      <td>[drc, drlt, rea, reajo, recta]</td>\n      <td>(1243, 88)</td>\n    </tr>\n    <tr>\n      <th>9</th>\n      <td>Fundamentals</td>\n      <td>Group by GVKey</td>\n      <td>All</td>\n      <td>(348, 167)</td>\n    </tr>\n    <tr>\n      <th>10</th>\n      <td>Fundamentals</td>\n      <td>Join Restatement Data</td>\n      <td>Restatement Cols</td>\n      <td>(348, 172)</td>\n    </tr>\n    <tr>\n      <th>11</th>\n      <td>Ratings</td>\n      <td>Capturing Original Shape</td>\n      <td>N/A</td>\n      <td>(123678, 21)</td>\n    </tr>\n    <tr>\n      <th>12</th>\n      <td>Ratings</td>\n      <td>Trim Rows by GSector == 30</td>\n      <td>All</td>\n      <td>(17902, 21)</td>\n    </tr>\n    <tr>\n      <th>13</th>\n      <td>Ratings</td>\n      <td>Dropped obvious low value columns -- 1 -- Date...</td>\n      <td>[city, ggroup, gind, gsector, gsubind, loc, na...</td>\n      <td>(17902, 6)</td>\n    </tr>\n    <tr>\n      <th>14</th>\n      <td>Ratings</td>\n      <td>Dropped Nulls -- 1 -- More than 50% Null -- Dr...</td>\n      <td>[splticrm, spsdrm, spsticrm]</td>\n      <td>(17902, 3)</td>\n    </tr>\n    <tr>\n      <th>15</th>\n      <td>Ratings</td>\n      <td>Group by GVKey</td>\n      <td>[city, ggroup, gind, gsector, gsubind, loc, na...</td>\n      <td>(452, 3)</td>\n    </tr>\n    <tr>\n      <th>16</th>\n      <td>Securities</td>\n      <td>Capturing Original Shape</td>\n      <td>N/A</td>\n      <td>(32382, 56)</td>\n    </tr>\n  </tbody>\n</table>\n</div>"
     },
     "execution_count": 917,
     "metadata": {},
     "output_type": "execute_result"
    }
   ],
   "source": [
    "# Seed Clean DF with initial stats\n",
    "cleanActionsDesc = \"Capturing Original Shape\"\n",
    "df_name = \"Securities\"\n",
    "colText = \"N/A\"\n",
    "\n",
    "cleanActionsReport(securities,df_name,cleanActionsDesc,colText)\n",
    "cleanActionsDF\n"
   ],
   "metadata": {
    "collapsed": false,
    "pycharm": {
     "name": "#%%\n"
    }
   }
  },
  {
   "cell_type": "code",
   "execution_count": 918,
   "outputs": [
    {
     "data": {
      "text/plain": "              DF                                         ActionDesc  \\\n0   Fundamentals  Dropped obvious low value columns -- 1 -- Date...   \n1   Fundamentals  Initial Null Drop -- columns w/ 63% Null or more.   \n2   Fundamentals          Dropped columns with only 1 unique value    \n3   Fundamentals  Dropping all that are not standard statements ...   \n4   Fundamentals   Second Null Drop -- columns w/ 20% Null or more.   \n5   Fundamentals                  Dropping Columns w/ Only 2 values   \n6   Fundamentals  Second Manual Column Reduce - Dropping Identif...   \n7   Fundamentals  Third Manual Column Reduce  - Targetted Reduce...   \n8   Fundamentals  Summary Features  - Used to create features, t...   \n9   Fundamentals                                     Group by GVKey   \n10  Fundamentals                              Join Restatement Data   \n11       Ratings                           Capturing Original Shape   \n12       Ratings                         Trim Rows by GSector == 30   \n13       Ratings  Dropped obvious low value columns -- 1 -- Date...   \n14       Ratings  Dropped Nulls -- 1 -- More than 50% Null -- Dr...   \n15       Ratings                                     Group by GVKey   \n16    Securities                           Capturing Original Shape   \n17    Securities  Dropped obvious low value columns -- 1 -- Date...   \n\n                                         List-of-Cols   ResultShape  \n0   [datadate, apdedate, fdate, pdate, fyr, add1, ...  (2323, 1744)  \n1   [acctchg, acqmeth, adrr, bspr, compst, curuscn...   (2323, 326)  \n2   [indfmt, consol, popsrc, curcd, final, scf, ac...   (2323, 310)  \n3    applies to all cols, roughly 50% of rows dropped   (1243, 310)  \n4   [cld2, cld3, cld4, cld5, cshr, dd3, dd4, dd5, ...   (1243, 265)  \n5   [datafmt, ismod, upd, rdip, rdipa, rdipd, rdip...   (1243, 250)  \n6   [Unnamed: 0, conm, au, auopic, pddur, dpact_fn...   (1243, 240)  \n7   [lco, lcox, lcoxdr, lo, loxdr, mib, mibn, ppev...    (1243, 92)  \n8                      [drc, drlt, rea, reajo, recta]    (1243, 88)  \n9                                                 All    (348, 167)  \n10                                   Restatement Cols    (348, 172)  \n11                                                N/A  (123678, 21)  \n12                                                All   (17902, 21)  \n13  [city, ggroup, gind, gsector, gsubind, loc, na...    (17902, 6)  \n14                       [splticrm, spsdrm, spsticrm]    (17902, 3)  \n15  [city, ggroup, gind, gsector, gsubind, loc, na...      (452, 3)  \n16                                                N/A   (32382, 56)  \n17  [Unnamed: 0, conm, city, conml, cyear, ggroup,...   (32382, 43)  ",
      "text/html": "<div>\n<style scoped>\n    .dataframe tbody tr th:only-of-type {\n        vertical-align: middle;\n    }\n\n    .dataframe tbody tr th {\n        vertical-align: top;\n    }\n\n    .dataframe thead th {\n        text-align: right;\n    }\n</style>\n<table border=\"1\" class=\"dataframe\">\n  <thead>\n    <tr style=\"text-align: right;\">\n      <th></th>\n      <th>DF</th>\n      <th>ActionDesc</th>\n      <th>List-of-Cols</th>\n      <th>ResultShape</th>\n    </tr>\n  </thead>\n  <tbody>\n    <tr>\n      <th>0</th>\n      <td>Fundamentals</td>\n      <td>Dropped obvious low value columns -- 1 -- Date...</td>\n      <td>[datadate, apdedate, fdate, pdate, fyr, add1, ...</td>\n      <td>(2323, 1744)</td>\n    </tr>\n    <tr>\n      <th>1</th>\n      <td>Fundamentals</td>\n      <td>Initial Null Drop -- columns w/ 63% Null or more.</td>\n      <td>[acctchg, acqmeth, adrr, bspr, compst, curuscn...</td>\n      <td>(2323, 326)</td>\n    </tr>\n    <tr>\n      <th>2</th>\n      <td>Fundamentals</td>\n      <td>Dropped columns with only 1 unique value</td>\n      <td>[indfmt, consol, popsrc, curcd, final, scf, ac...</td>\n      <td>(2323, 310)</td>\n    </tr>\n    <tr>\n      <th>3</th>\n      <td>Fundamentals</td>\n      <td>Dropping all that are not standard statements ...</td>\n      <td>applies to all cols, roughly 50% of rows dropped</td>\n      <td>(1243, 310)</td>\n    </tr>\n    <tr>\n      <th>4</th>\n      <td>Fundamentals</td>\n      <td>Second Null Drop -- columns w/ 20% Null or more.</td>\n      <td>[cld2, cld3, cld4, cld5, cshr, dd3, dd4, dd5, ...</td>\n      <td>(1243, 265)</td>\n    </tr>\n    <tr>\n      <th>5</th>\n      <td>Fundamentals</td>\n      <td>Dropping Columns w/ Only 2 values</td>\n      <td>[datafmt, ismod, upd, rdip, rdipa, rdipd, rdip...</td>\n      <td>(1243, 250)</td>\n    </tr>\n    <tr>\n      <th>6</th>\n      <td>Fundamentals</td>\n      <td>Second Manual Column Reduce - Dropping Identif...</td>\n      <td>[Unnamed: 0, conm, au, auopic, pddur, dpact_fn...</td>\n      <td>(1243, 240)</td>\n    </tr>\n    <tr>\n      <th>7</th>\n      <td>Fundamentals</td>\n      <td>Third Manual Column Reduce  - Targetted Reduce...</td>\n      <td>[lco, lcox, lcoxdr, lo, loxdr, mib, mibn, ppev...</td>\n      <td>(1243, 92)</td>\n    </tr>\n    <tr>\n      <th>8</th>\n      <td>Fundamentals</td>\n      <td>Summary Features  - Used to create features, t...</td>\n      <td>[drc, drlt, rea, reajo, recta]</td>\n      <td>(1243, 88)</td>\n    </tr>\n    <tr>\n      <th>9</th>\n      <td>Fundamentals</td>\n      <td>Group by GVKey</td>\n      <td>All</td>\n      <td>(348, 167)</td>\n    </tr>\n    <tr>\n      <th>10</th>\n      <td>Fundamentals</td>\n      <td>Join Restatement Data</td>\n      <td>Restatement Cols</td>\n      <td>(348, 172)</td>\n    </tr>\n    <tr>\n      <th>11</th>\n      <td>Ratings</td>\n      <td>Capturing Original Shape</td>\n      <td>N/A</td>\n      <td>(123678, 21)</td>\n    </tr>\n    <tr>\n      <th>12</th>\n      <td>Ratings</td>\n      <td>Trim Rows by GSector == 30</td>\n      <td>All</td>\n      <td>(17902, 21)</td>\n    </tr>\n    <tr>\n      <th>13</th>\n      <td>Ratings</td>\n      <td>Dropped obvious low value columns -- 1 -- Date...</td>\n      <td>[city, ggroup, gind, gsector, gsubind, loc, na...</td>\n      <td>(17902, 6)</td>\n    </tr>\n    <tr>\n      <th>14</th>\n      <td>Ratings</td>\n      <td>Dropped Nulls -- 1 -- More than 50% Null -- Dr...</td>\n      <td>[splticrm, spsdrm, spsticrm]</td>\n      <td>(17902, 3)</td>\n    </tr>\n    <tr>\n      <th>15</th>\n      <td>Ratings</td>\n      <td>Group by GVKey</td>\n      <td>[city, ggroup, gind, gsector, gsubind, loc, na...</td>\n      <td>(452, 3)</td>\n    </tr>\n    <tr>\n      <th>16</th>\n      <td>Securities</td>\n      <td>Capturing Original Shape</td>\n      <td>N/A</td>\n      <td>(32382, 56)</td>\n    </tr>\n    <tr>\n      <th>17</th>\n      <td>Securities</td>\n      <td>Dropped obvious low value columns -- 1 -- Date...</td>\n      <td>[Unnamed: 0, conm, city, conml, cyear, ggroup,...</td>\n      <td>(32382, 43)</td>\n    </tr>\n  </tbody>\n</table>\n</div>"
     },
     "execution_count": 918,
     "metadata": {},
     "output_type": "execute_result"
    }
   ],
   "source": [
    "# Drop Obvious Un-needed 1\n",
    "cleanActionsDesc = \"Dropped obvious low value columns -- 1 -- Dates/Codes/Addresses/Etc.\"\n",
    "df_name = \"Securities\"\n",
    "\n",
    "colsToDrop = ['Unnamed: 0','conm','city','conml','cyear','ggroup','gind','gsector','gsubind','loc','naics','sic','state']\n",
    "\n",
    "securities = securities.drop(columns=colsToDrop)\n",
    "cleanActionsReport(securities,df_name,cleanActionsDesc,colsToDrop)\n",
    "cleanActionsDF"
   ],
   "metadata": {
    "collapsed": false,
    "pycharm": {
     "name": "#%%\n"
    }
   }
  },
  {
   "cell_type": "code",
   "execution_count": 919,
   "outputs": [
    {
     "name": "stdout",
     "output_type": "stream",
     "text": [
      "Count of Variables: 43\n",
      "Count of Variables without nulls: 7\n",
      "Count of Variables with null : 36\n"
     ]
    },
    {
     "data": {
      "text/plain": "     Variable Observations  Nulls  Null_Per Num_Unique     Type\n19       navm        32382  32382   100.000          0  float64\n34      sphvg        32382  32382   100.000          0  float64\n32     sphsec        32382  32382   100.000          0  float64\n31    sphname        32382  32382   100.000          0  float64\n30     sphmid        32382  32382   100.000          0  float64\n29     sphiid        32382  32382   100.000          0  float64\n28   sphcusip        32382  32382   100.000          0  float64\n27     sph100        32382  32382   100.000          0  float64\n33     sphtic        32382  32382   100.000          0  float64\n11     cheqvm        32382  32363    99.941         19  float64\n6      isalrt        32382  32323    99.818          2   object\n25      rawpm        32382  32240    99.561         49  float64\n26      rawxm        32382  32238    99.555         51  float64\n16      csfsm        32382  31756    98.067        167  float64\n14     dvpsxm        32382  29080    89.803       1101  float64\n13     dvpspm        32382  29065    89.757       1107  float64\n36      adrrm        32382  28458    87.882         15  float64\n9       spiim        32382  28234    87.190         13  float64\n8       spgim        32382  27608    85.257         13  float64\n10      spmim        32382  27608    85.257          4  float64\n35      cshoq        32382  27413    84.655       3451  float64\n15     dvrate        32382  20602    63.622       1154  float64\n12   curcddvm        32382  20498    63.301          2   object\n17     cshtrm        32382   5144    15.885      24418  float64\n38      cshom        32382   1845     5.698       6242  float64\n39  mkvalincl        32382   1845     5.698          2   object\n37       cmth        32382   1845     5.698         12  float64\n24      trt1m        32382    708     2.186      19912  float64\n23       trfm        32382    545     1.683       3370  float64\n20      prccm        32382    510     1.575      10633  float64\n22      prclm        32382    506     1.563      10659  float64\n21      prchm        32382    506     1.563      11026  float64\n18     curcdm        32382    500     1.544          2   object\n5        ajpm        32382     49     0.151         61  float64\n7     primiss        32382     49     0.151          2   object\n4       ajexm        32382     49     0.151         62  float64",
      "text/html": "<div>\n<style scoped>\n    .dataframe tbody tr th:only-of-type {\n        vertical-align: middle;\n    }\n\n    .dataframe tbody tr th {\n        vertical-align: top;\n    }\n\n    .dataframe thead th {\n        text-align: right;\n    }\n</style>\n<table border=\"1\" class=\"dataframe\">\n  <thead>\n    <tr style=\"text-align: right;\">\n      <th></th>\n      <th>Variable</th>\n      <th>Observations</th>\n      <th>Nulls</th>\n      <th>Null_Per</th>\n      <th>Num_Unique</th>\n      <th>Type</th>\n    </tr>\n  </thead>\n  <tbody>\n    <tr>\n      <th>19</th>\n      <td>navm</td>\n      <td>32382</td>\n      <td>32382</td>\n      <td>100.000</td>\n      <td>0</td>\n      <td>float64</td>\n    </tr>\n    <tr>\n      <th>34</th>\n      <td>sphvg</td>\n      <td>32382</td>\n      <td>32382</td>\n      <td>100.000</td>\n      <td>0</td>\n      <td>float64</td>\n    </tr>\n    <tr>\n      <th>32</th>\n      <td>sphsec</td>\n      <td>32382</td>\n      <td>32382</td>\n      <td>100.000</td>\n      <td>0</td>\n      <td>float64</td>\n    </tr>\n    <tr>\n      <th>31</th>\n      <td>sphname</td>\n      <td>32382</td>\n      <td>32382</td>\n      <td>100.000</td>\n      <td>0</td>\n      <td>float64</td>\n    </tr>\n    <tr>\n      <th>30</th>\n      <td>sphmid</td>\n      <td>32382</td>\n      <td>32382</td>\n      <td>100.000</td>\n      <td>0</td>\n      <td>float64</td>\n    </tr>\n    <tr>\n      <th>29</th>\n      <td>sphiid</td>\n      <td>32382</td>\n      <td>32382</td>\n      <td>100.000</td>\n      <td>0</td>\n      <td>float64</td>\n    </tr>\n    <tr>\n      <th>28</th>\n      <td>sphcusip</td>\n      <td>32382</td>\n      <td>32382</td>\n      <td>100.000</td>\n      <td>0</td>\n      <td>float64</td>\n    </tr>\n    <tr>\n      <th>27</th>\n      <td>sph100</td>\n      <td>32382</td>\n      <td>32382</td>\n      <td>100.000</td>\n      <td>0</td>\n      <td>float64</td>\n    </tr>\n    <tr>\n      <th>33</th>\n      <td>sphtic</td>\n      <td>32382</td>\n      <td>32382</td>\n      <td>100.000</td>\n      <td>0</td>\n      <td>float64</td>\n    </tr>\n    <tr>\n      <th>11</th>\n      <td>cheqvm</td>\n      <td>32382</td>\n      <td>32363</td>\n      <td>99.941</td>\n      <td>19</td>\n      <td>float64</td>\n    </tr>\n    <tr>\n      <th>6</th>\n      <td>isalrt</td>\n      <td>32382</td>\n      <td>32323</td>\n      <td>99.818</td>\n      <td>2</td>\n      <td>object</td>\n    </tr>\n    <tr>\n      <th>25</th>\n      <td>rawpm</td>\n      <td>32382</td>\n      <td>32240</td>\n      <td>99.561</td>\n      <td>49</td>\n      <td>float64</td>\n    </tr>\n    <tr>\n      <th>26</th>\n      <td>rawxm</td>\n      <td>32382</td>\n      <td>32238</td>\n      <td>99.555</td>\n      <td>51</td>\n      <td>float64</td>\n    </tr>\n    <tr>\n      <th>16</th>\n      <td>csfsm</td>\n      <td>32382</td>\n      <td>31756</td>\n      <td>98.067</td>\n      <td>167</td>\n      <td>float64</td>\n    </tr>\n    <tr>\n      <th>14</th>\n      <td>dvpsxm</td>\n      <td>32382</td>\n      <td>29080</td>\n      <td>89.803</td>\n      <td>1101</td>\n      <td>float64</td>\n    </tr>\n    <tr>\n      <th>13</th>\n      <td>dvpspm</td>\n      <td>32382</td>\n      <td>29065</td>\n      <td>89.757</td>\n      <td>1107</td>\n      <td>float64</td>\n    </tr>\n    <tr>\n      <th>36</th>\n      <td>adrrm</td>\n      <td>32382</td>\n      <td>28458</td>\n      <td>87.882</td>\n      <td>15</td>\n      <td>float64</td>\n    </tr>\n    <tr>\n      <th>9</th>\n      <td>spiim</td>\n      <td>32382</td>\n      <td>28234</td>\n      <td>87.190</td>\n      <td>13</td>\n      <td>float64</td>\n    </tr>\n    <tr>\n      <th>8</th>\n      <td>spgim</td>\n      <td>32382</td>\n      <td>27608</td>\n      <td>85.257</td>\n      <td>13</td>\n      <td>float64</td>\n    </tr>\n    <tr>\n      <th>10</th>\n      <td>spmim</td>\n      <td>32382</td>\n      <td>27608</td>\n      <td>85.257</td>\n      <td>4</td>\n      <td>float64</td>\n    </tr>\n    <tr>\n      <th>35</th>\n      <td>cshoq</td>\n      <td>32382</td>\n      <td>27413</td>\n      <td>84.655</td>\n      <td>3451</td>\n      <td>float64</td>\n    </tr>\n    <tr>\n      <th>15</th>\n      <td>dvrate</td>\n      <td>32382</td>\n      <td>20602</td>\n      <td>63.622</td>\n      <td>1154</td>\n      <td>float64</td>\n    </tr>\n    <tr>\n      <th>12</th>\n      <td>curcddvm</td>\n      <td>32382</td>\n      <td>20498</td>\n      <td>63.301</td>\n      <td>2</td>\n      <td>object</td>\n    </tr>\n    <tr>\n      <th>17</th>\n      <td>cshtrm</td>\n      <td>32382</td>\n      <td>5144</td>\n      <td>15.885</td>\n      <td>24418</td>\n      <td>float64</td>\n    </tr>\n    <tr>\n      <th>38</th>\n      <td>cshom</td>\n      <td>32382</td>\n      <td>1845</td>\n      <td>5.698</td>\n      <td>6242</td>\n      <td>float64</td>\n    </tr>\n    <tr>\n      <th>39</th>\n      <td>mkvalincl</td>\n      <td>32382</td>\n      <td>1845</td>\n      <td>5.698</td>\n      <td>2</td>\n      <td>object</td>\n    </tr>\n    <tr>\n      <th>37</th>\n      <td>cmth</td>\n      <td>32382</td>\n      <td>1845</td>\n      <td>5.698</td>\n      <td>12</td>\n      <td>float64</td>\n    </tr>\n    <tr>\n      <th>24</th>\n      <td>trt1m</td>\n      <td>32382</td>\n      <td>708</td>\n      <td>2.186</td>\n      <td>19912</td>\n      <td>float64</td>\n    </tr>\n    <tr>\n      <th>23</th>\n      <td>trfm</td>\n      <td>32382</td>\n      <td>545</td>\n      <td>1.683</td>\n      <td>3370</td>\n      <td>float64</td>\n    </tr>\n    <tr>\n      <th>20</th>\n      <td>prccm</td>\n      <td>32382</td>\n      <td>510</td>\n      <td>1.575</td>\n      <td>10633</td>\n      <td>float64</td>\n    </tr>\n    <tr>\n      <th>22</th>\n      <td>prclm</td>\n      <td>32382</td>\n      <td>506</td>\n      <td>1.563</td>\n      <td>10659</td>\n      <td>float64</td>\n    </tr>\n    <tr>\n      <th>21</th>\n      <td>prchm</td>\n      <td>32382</td>\n      <td>506</td>\n      <td>1.563</td>\n      <td>11026</td>\n      <td>float64</td>\n    </tr>\n    <tr>\n      <th>18</th>\n      <td>curcdm</td>\n      <td>32382</td>\n      <td>500</td>\n      <td>1.544</td>\n      <td>2</td>\n      <td>object</td>\n    </tr>\n    <tr>\n      <th>5</th>\n      <td>ajpm</td>\n      <td>32382</td>\n      <td>49</td>\n      <td>0.151</td>\n      <td>61</td>\n      <td>float64</td>\n    </tr>\n    <tr>\n      <th>7</th>\n      <td>primiss</td>\n      <td>32382</td>\n      <td>49</td>\n      <td>0.151</td>\n      <td>2</td>\n      <td>object</td>\n    </tr>\n    <tr>\n      <th>4</th>\n      <td>ajexm</td>\n      <td>32382</td>\n      <td>49</td>\n      <td>0.151</td>\n      <td>62</td>\n      <td>float64</td>\n    </tr>\n  </tbody>\n</table>\n</div>"
     },
     "execution_count": 919,
     "metadata": {},
     "output_type": "execute_result"
    }
   ],
   "source": [
    "nullAnalysis_sec = nullAnalysis(securities)\n",
    "nullAnalysis_sec"
   ],
   "metadata": {
    "collapsed": false,
    "pycharm": {
     "name": "#%%\n"
    }
   }
  },
  {
   "cell_type": "code",
   "execution_count": 920,
   "outputs": [
    {
     "name": "stdout",
     "output_type": "stream",
     "text": [
      "dropped: 23\n",
      "columns that where dropped where: ['isalrt', 'spgim', 'spiim', 'spmim', 'cheqvm', 'curcddvm', 'dvpspm', 'dvpsxm', 'dvrate', 'csfsm', 'navm', 'rawpm', 'rawxm', 'sph100', 'sphcusip', 'sphiid', 'sphmid', 'sphname', 'sphsec', 'sphtic', 'sphvg', 'cshoq', 'adrrm']\n"
     ]
    },
    {
     "data": {
      "text/plain": "              DF                                         ActionDesc  \\\n0   Fundamentals  Dropped obvious low value columns -- 1 -- Date...   \n1   Fundamentals  Initial Null Drop -- columns w/ 63% Null or more.   \n2   Fundamentals          Dropped columns with only 1 unique value    \n3   Fundamentals  Dropping all that are not standard statements ...   \n4   Fundamentals   Second Null Drop -- columns w/ 20% Null or more.   \n5   Fundamentals                  Dropping Columns w/ Only 2 values   \n6   Fundamentals  Second Manual Column Reduce - Dropping Identif...   \n7   Fundamentals  Third Manual Column Reduce  - Targetted Reduce...   \n8   Fundamentals  Summary Features  - Used to create features, t...   \n9   Fundamentals                                     Group by GVKey   \n10  Fundamentals                              Join Restatement Data   \n11       Ratings                           Capturing Original Shape   \n12       Ratings                         Trim Rows by GSector == 30   \n13       Ratings  Dropped obvious low value columns -- 1 -- Date...   \n14       Ratings  Dropped Nulls -- 1 -- More than 50% Null -- Dr...   \n15       Ratings                                     Group by GVKey   \n16    Securities                           Capturing Original Shape   \n17    Securities  Dropped obvious low value columns -- 1 -- Date...   \n18    Securities           Dropped Nulls -- 1 -- More than 20% Null   \n\n                                         List-of-Cols   ResultShape  \n0   [datadate, apdedate, fdate, pdate, fyr, add1, ...  (2323, 1744)  \n1   [acctchg, acqmeth, adrr, bspr, compst, curuscn...   (2323, 326)  \n2   [indfmt, consol, popsrc, curcd, final, scf, ac...   (2323, 310)  \n3    applies to all cols, roughly 50% of rows dropped   (1243, 310)  \n4   [cld2, cld3, cld4, cld5, cshr, dd3, dd4, dd5, ...   (1243, 265)  \n5   [datafmt, ismod, upd, rdip, rdipa, rdipd, rdip...   (1243, 250)  \n6   [Unnamed: 0, conm, au, auopic, pddur, dpact_fn...   (1243, 240)  \n7   [lco, lcox, lcoxdr, lo, loxdr, mib, mibn, ppev...    (1243, 92)  \n8                      [drc, drlt, rea, reajo, recta]    (1243, 88)  \n9                                                 All    (348, 167)  \n10                                   Restatement Cols    (348, 172)  \n11                                                N/A  (123678, 21)  \n12                                                All   (17902, 21)  \n13  [city, ggroup, gind, gsector, gsubind, loc, na...    (17902, 6)  \n14                       [splticrm, spsdrm, spsticrm]    (17902, 3)  \n15  [city, ggroup, gind, gsector, gsubind, loc, na...      (452, 3)  \n16                                                N/A   (32382, 56)  \n17  [Unnamed: 0, conm, city, conml, cyear, ggroup,...   (32382, 43)  \n18  [isalrt, spgim, spiim, spmim, cheqvm, curcddvm...   (32382, 20)  ",
      "text/html": "<div>\n<style scoped>\n    .dataframe tbody tr th:only-of-type {\n        vertical-align: middle;\n    }\n\n    .dataframe tbody tr th {\n        vertical-align: top;\n    }\n\n    .dataframe thead th {\n        text-align: right;\n    }\n</style>\n<table border=\"1\" class=\"dataframe\">\n  <thead>\n    <tr style=\"text-align: right;\">\n      <th></th>\n      <th>DF</th>\n      <th>ActionDesc</th>\n      <th>List-of-Cols</th>\n      <th>ResultShape</th>\n    </tr>\n  </thead>\n  <tbody>\n    <tr>\n      <th>0</th>\n      <td>Fundamentals</td>\n      <td>Dropped obvious low value columns -- 1 -- Date...</td>\n      <td>[datadate, apdedate, fdate, pdate, fyr, add1, ...</td>\n      <td>(2323, 1744)</td>\n    </tr>\n    <tr>\n      <th>1</th>\n      <td>Fundamentals</td>\n      <td>Initial Null Drop -- columns w/ 63% Null or more.</td>\n      <td>[acctchg, acqmeth, adrr, bspr, compst, curuscn...</td>\n      <td>(2323, 326)</td>\n    </tr>\n    <tr>\n      <th>2</th>\n      <td>Fundamentals</td>\n      <td>Dropped columns with only 1 unique value</td>\n      <td>[indfmt, consol, popsrc, curcd, final, scf, ac...</td>\n      <td>(2323, 310)</td>\n    </tr>\n    <tr>\n      <th>3</th>\n      <td>Fundamentals</td>\n      <td>Dropping all that are not standard statements ...</td>\n      <td>applies to all cols, roughly 50% of rows dropped</td>\n      <td>(1243, 310)</td>\n    </tr>\n    <tr>\n      <th>4</th>\n      <td>Fundamentals</td>\n      <td>Second Null Drop -- columns w/ 20% Null or more.</td>\n      <td>[cld2, cld3, cld4, cld5, cshr, dd3, dd4, dd5, ...</td>\n      <td>(1243, 265)</td>\n    </tr>\n    <tr>\n      <th>5</th>\n      <td>Fundamentals</td>\n      <td>Dropping Columns w/ Only 2 values</td>\n      <td>[datafmt, ismod, upd, rdip, rdipa, rdipd, rdip...</td>\n      <td>(1243, 250)</td>\n    </tr>\n    <tr>\n      <th>6</th>\n      <td>Fundamentals</td>\n      <td>Second Manual Column Reduce - Dropping Identif...</td>\n      <td>[Unnamed: 0, conm, au, auopic, pddur, dpact_fn...</td>\n      <td>(1243, 240)</td>\n    </tr>\n    <tr>\n      <th>7</th>\n      <td>Fundamentals</td>\n      <td>Third Manual Column Reduce  - Targetted Reduce...</td>\n      <td>[lco, lcox, lcoxdr, lo, loxdr, mib, mibn, ppev...</td>\n      <td>(1243, 92)</td>\n    </tr>\n    <tr>\n      <th>8</th>\n      <td>Fundamentals</td>\n      <td>Summary Features  - Used to create features, t...</td>\n      <td>[drc, drlt, rea, reajo, recta]</td>\n      <td>(1243, 88)</td>\n    </tr>\n    <tr>\n      <th>9</th>\n      <td>Fundamentals</td>\n      <td>Group by GVKey</td>\n      <td>All</td>\n      <td>(348, 167)</td>\n    </tr>\n    <tr>\n      <th>10</th>\n      <td>Fundamentals</td>\n      <td>Join Restatement Data</td>\n      <td>Restatement Cols</td>\n      <td>(348, 172)</td>\n    </tr>\n    <tr>\n      <th>11</th>\n      <td>Ratings</td>\n      <td>Capturing Original Shape</td>\n      <td>N/A</td>\n      <td>(123678, 21)</td>\n    </tr>\n    <tr>\n      <th>12</th>\n      <td>Ratings</td>\n      <td>Trim Rows by GSector == 30</td>\n      <td>All</td>\n      <td>(17902, 21)</td>\n    </tr>\n    <tr>\n      <th>13</th>\n      <td>Ratings</td>\n      <td>Dropped obvious low value columns -- 1 -- Date...</td>\n      <td>[city, ggroup, gind, gsector, gsubind, loc, na...</td>\n      <td>(17902, 6)</td>\n    </tr>\n    <tr>\n      <th>14</th>\n      <td>Ratings</td>\n      <td>Dropped Nulls -- 1 -- More than 50% Null -- Dr...</td>\n      <td>[splticrm, spsdrm, spsticrm]</td>\n      <td>(17902, 3)</td>\n    </tr>\n    <tr>\n      <th>15</th>\n      <td>Ratings</td>\n      <td>Group by GVKey</td>\n      <td>[city, ggroup, gind, gsector, gsubind, loc, na...</td>\n      <td>(452, 3)</td>\n    </tr>\n    <tr>\n      <th>16</th>\n      <td>Securities</td>\n      <td>Capturing Original Shape</td>\n      <td>N/A</td>\n      <td>(32382, 56)</td>\n    </tr>\n    <tr>\n      <th>17</th>\n      <td>Securities</td>\n      <td>Dropped obvious low value columns -- 1 -- Date...</td>\n      <td>[Unnamed: 0, conm, city, conml, cyear, ggroup,...</td>\n      <td>(32382, 43)</td>\n    </tr>\n    <tr>\n      <th>18</th>\n      <td>Securities</td>\n      <td>Dropped Nulls -- 1 -- More than 20% Null</td>\n      <td>[isalrt, spgim, spiim, spmim, cheqvm, curcddvm...</td>\n      <td>(32382, 20)</td>\n    </tr>\n  </tbody>\n</table>\n</div>"
     },
     "execution_count": 920,
     "metadata": {},
     "output_type": "execute_result"
    }
   ],
   "source": [
    "# Drop Nulls 1\n",
    "cleanActionsDesc = \"Dropped Nulls -- 1 -- More than 20% Null\"\n",
    "df_name = \"Securities\"\n",
    "\n",
    "securities = dropCols_nullThresh(securities,0.20,df_name,cleanActionsDesc)\n",
    "cleanActionsDF"
   ],
   "metadata": {
    "collapsed": false,
    "pycharm": {
     "name": "#%%\n"
    }
   }
  },
  {
   "cell_type": "code",
   "execution_count": 921,
   "outputs": [
    {
     "data": {
      "text/plain": "       Column Count                            ValueCounts\n6     primiss     2       {'P': 30206, 'J': 2127, nan: 49}\n8      curcdm     2  {'USD': 28317, 'CAD': 3565, nan: 500}\n16  mkvalincl     2        {'Y': 30534, nan: 1845, 'N': 3}\n19     costat     2                {'A': 28074, 'I': 4308}",
      "text/html": "<div>\n<style scoped>\n    .dataframe tbody tr th:only-of-type {\n        vertical-align: middle;\n    }\n\n    .dataframe tbody tr th {\n        vertical-align: top;\n    }\n\n    .dataframe thead th {\n        text-align: right;\n    }\n</style>\n<table border=\"1\" class=\"dataframe\">\n  <thead>\n    <tr style=\"text-align: right;\">\n      <th></th>\n      <th>Column</th>\n      <th>Count</th>\n      <th>ValueCounts</th>\n    </tr>\n  </thead>\n  <tbody>\n    <tr>\n      <th>6</th>\n      <td>primiss</td>\n      <td>2</td>\n      <td>{'P': 30206, 'J': 2127, nan: 49}</td>\n    </tr>\n    <tr>\n      <th>8</th>\n      <td>curcdm</td>\n      <td>2</td>\n      <td>{'USD': 28317, 'CAD': 3565, nan: 500}</td>\n    </tr>\n    <tr>\n      <th>16</th>\n      <td>mkvalincl</td>\n      <td>2</td>\n      <td>{'Y': 30534, nan: 1845, 'N': 3}</td>\n    </tr>\n    <tr>\n      <th>19</th>\n      <td>costat</td>\n      <td>2</td>\n      <td>{'A': 28074, 'I': 4308}</td>\n    </tr>\n  </tbody>\n</table>\n</div>"
     },
     "execution_count": 921,
     "metadata": {},
     "output_type": "execute_result"
    }
   ],
   "source": [
    "# Second Column Reduce -- Only 2 unique Values\n",
    "\n",
    "lowValCountDF_sec = pd.DataFrame(columns = ['Column','Count','ValueCounts'])\n",
    "cols = securities.columns.values.tolist()\n",
    "\n",
    "for col in cols:\n",
    "    count = securities[col].nunique()\n",
    "    column = col\n",
    "    tempVal = securities[col].value_counts(dropna=False)\n",
    "    tempVal_dict = tempVal.to_dict()\n",
    "    row = [column,count, tempVal_dict]\n",
    "    # append stats to Summary Stats DF\n",
    "    df_length = len(lowValCountDF_sec)\n",
    "    lowValCountDF_sec.loc[df_length] = row\n",
    "\n",
    "lowValCountDF_sec = lowValCountDF_sec[lowValCountDF_sec['Count'] <= 4]\n",
    "lowValCountDF_sec = lowValCountDF_sec.sort_values(by='Count', ascending=True)\n",
    "lowValCountDF_sec"
   ],
   "metadata": {
    "collapsed": false,
    "pycharm": {
     "name": "#%%\n"
    }
   }
  },
  {
   "cell_type": "code",
   "execution_count": 922,
   "outputs": [
    {
     "data": {
      "text/plain": "              DF                                         ActionDesc  \\\n0   Fundamentals  Dropped obvious low value columns -- 1 -- Date...   \n1   Fundamentals  Initial Null Drop -- columns w/ 63% Null or more.   \n2   Fundamentals          Dropped columns with only 1 unique value    \n3   Fundamentals  Dropping all that are not standard statements ...   \n4   Fundamentals   Second Null Drop -- columns w/ 20% Null or more.   \n5   Fundamentals                  Dropping Columns w/ Only 2 values   \n6   Fundamentals  Second Manual Column Reduce - Dropping Identif...   \n7   Fundamentals  Third Manual Column Reduce  - Targetted Reduce...   \n8   Fundamentals  Summary Features  - Used to create features, t...   \n9   Fundamentals                                     Group by GVKey   \n10  Fundamentals                              Join Restatement Data   \n11       Ratings                           Capturing Original Shape   \n12       Ratings                         Trim Rows by GSector == 30   \n13       Ratings  Dropped obvious low value columns -- 1 -- Date...   \n14       Ratings  Dropped Nulls -- 1 -- More than 50% Null -- Dr...   \n15       Ratings                                     Group by GVKey   \n16    Securities                           Capturing Original Shape   \n17    Securities  Dropped obvious low value columns -- 1 -- Date...   \n18    Securities           Dropped Nulls -- 1 -- More than 20% Null   \n19    Securities                  Dropping Columns w/ Only 2 values   \n\n                                         List-of-Cols   ResultShape  \n0   [datadate, apdedate, fdate, pdate, fyr, add1, ...  (2323, 1744)  \n1   [acctchg, acqmeth, adrr, bspr, compst, curuscn...   (2323, 326)  \n2   [indfmt, consol, popsrc, curcd, final, scf, ac...   (2323, 310)  \n3    applies to all cols, roughly 50% of rows dropped   (1243, 310)  \n4   [cld2, cld3, cld4, cld5, cshr, dd3, dd4, dd5, ...   (1243, 265)  \n5   [datafmt, ismod, upd, rdip, rdipa, rdipd, rdip...   (1243, 250)  \n6   [Unnamed: 0, conm, au, auopic, pddur, dpact_fn...   (1243, 240)  \n7   [lco, lcox, lcoxdr, lo, loxdr, mib, mibn, ppev...    (1243, 92)  \n8                      [drc, drlt, rea, reajo, recta]    (1243, 88)  \n9                                                 All    (348, 167)  \n10                                   Restatement Cols    (348, 172)  \n11                                                N/A  (123678, 21)  \n12                                                All   (17902, 21)  \n13  [city, ggroup, gind, gsector, gsubind, loc, na...    (17902, 6)  \n14                       [splticrm, spsdrm, spsticrm]    (17902, 3)  \n15  [city, ggroup, gind, gsector, gsubind, loc, na...      (452, 3)  \n16                                                N/A   (32382, 56)  \n17  [Unnamed: 0, conm, city, conml, cyear, ggroup,...   (32382, 43)  \n18  [isalrt, spgim, spiim, spmim, cheqvm, curcddvm...   (32382, 20)  \n19               [primiss, curcdm, mkvalincl, costat]   (32382, 16)  ",
      "text/html": "<div>\n<style scoped>\n    .dataframe tbody tr th:only-of-type {\n        vertical-align: middle;\n    }\n\n    .dataframe tbody tr th {\n        vertical-align: top;\n    }\n\n    .dataframe thead th {\n        text-align: right;\n    }\n</style>\n<table border=\"1\" class=\"dataframe\">\n  <thead>\n    <tr style=\"text-align: right;\">\n      <th></th>\n      <th>DF</th>\n      <th>ActionDesc</th>\n      <th>List-of-Cols</th>\n      <th>ResultShape</th>\n    </tr>\n  </thead>\n  <tbody>\n    <tr>\n      <th>0</th>\n      <td>Fundamentals</td>\n      <td>Dropped obvious low value columns -- 1 -- Date...</td>\n      <td>[datadate, apdedate, fdate, pdate, fyr, add1, ...</td>\n      <td>(2323, 1744)</td>\n    </tr>\n    <tr>\n      <th>1</th>\n      <td>Fundamentals</td>\n      <td>Initial Null Drop -- columns w/ 63% Null or more.</td>\n      <td>[acctchg, acqmeth, adrr, bspr, compst, curuscn...</td>\n      <td>(2323, 326)</td>\n    </tr>\n    <tr>\n      <th>2</th>\n      <td>Fundamentals</td>\n      <td>Dropped columns with only 1 unique value</td>\n      <td>[indfmt, consol, popsrc, curcd, final, scf, ac...</td>\n      <td>(2323, 310)</td>\n    </tr>\n    <tr>\n      <th>3</th>\n      <td>Fundamentals</td>\n      <td>Dropping all that are not standard statements ...</td>\n      <td>applies to all cols, roughly 50% of rows dropped</td>\n      <td>(1243, 310)</td>\n    </tr>\n    <tr>\n      <th>4</th>\n      <td>Fundamentals</td>\n      <td>Second Null Drop -- columns w/ 20% Null or more.</td>\n      <td>[cld2, cld3, cld4, cld5, cshr, dd3, dd4, dd5, ...</td>\n      <td>(1243, 265)</td>\n    </tr>\n    <tr>\n      <th>5</th>\n      <td>Fundamentals</td>\n      <td>Dropping Columns w/ Only 2 values</td>\n      <td>[datafmt, ismod, upd, rdip, rdipa, rdipd, rdip...</td>\n      <td>(1243, 250)</td>\n    </tr>\n    <tr>\n      <th>6</th>\n      <td>Fundamentals</td>\n      <td>Second Manual Column Reduce - Dropping Identif...</td>\n      <td>[Unnamed: 0, conm, au, auopic, pddur, dpact_fn...</td>\n      <td>(1243, 240)</td>\n    </tr>\n    <tr>\n      <th>7</th>\n      <td>Fundamentals</td>\n      <td>Third Manual Column Reduce  - Targetted Reduce...</td>\n      <td>[lco, lcox, lcoxdr, lo, loxdr, mib, mibn, ppev...</td>\n      <td>(1243, 92)</td>\n    </tr>\n    <tr>\n      <th>8</th>\n      <td>Fundamentals</td>\n      <td>Summary Features  - Used to create features, t...</td>\n      <td>[drc, drlt, rea, reajo, recta]</td>\n      <td>(1243, 88)</td>\n    </tr>\n    <tr>\n      <th>9</th>\n      <td>Fundamentals</td>\n      <td>Group by GVKey</td>\n      <td>All</td>\n      <td>(348, 167)</td>\n    </tr>\n    <tr>\n      <th>10</th>\n      <td>Fundamentals</td>\n      <td>Join Restatement Data</td>\n      <td>Restatement Cols</td>\n      <td>(348, 172)</td>\n    </tr>\n    <tr>\n      <th>11</th>\n      <td>Ratings</td>\n      <td>Capturing Original Shape</td>\n      <td>N/A</td>\n      <td>(123678, 21)</td>\n    </tr>\n    <tr>\n      <th>12</th>\n      <td>Ratings</td>\n      <td>Trim Rows by GSector == 30</td>\n      <td>All</td>\n      <td>(17902, 21)</td>\n    </tr>\n    <tr>\n      <th>13</th>\n      <td>Ratings</td>\n      <td>Dropped obvious low value columns -- 1 -- Date...</td>\n      <td>[city, ggroup, gind, gsector, gsubind, loc, na...</td>\n      <td>(17902, 6)</td>\n    </tr>\n    <tr>\n      <th>14</th>\n      <td>Ratings</td>\n      <td>Dropped Nulls -- 1 -- More than 50% Null -- Dr...</td>\n      <td>[splticrm, spsdrm, spsticrm]</td>\n      <td>(17902, 3)</td>\n    </tr>\n    <tr>\n      <th>15</th>\n      <td>Ratings</td>\n      <td>Group by GVKey</td>\n      <td>[city, ggroup, gind, gsector, gsubind, loc, na...</td>\n      <td>(452, 3)</td>\n    </tr>\n    <tr>\n      <th>16</th>\n      <td>Securities</td>\n      <td>Capturing Original Shape</td>\n      <td>N/A</td>\n      <td>(32382, 56)</td>\n    </tr>\n    <tr>\n      <th>17</th>\n      <td>Securities</td>\n      <td>Dropped obvious low value columns -- 1 -- Date...</td>\n      <td>[Unnamed: 0, conm, city, conml, cyear, ggroup,...</td>\n      <td>(32382, 43)</td>\n    </tr>\n    <tr>\n      <th>18</th>\n      <td>Securities</td>\n      <td>Dropped Nulls -- 1 -- More than 20% Null</td>\n      <td>[isalrt, spgim, spiim, spmim, cheqvm, curcddvm...</td>\n      <td>(32382, 20)</td>\n    </tr>\n    <tr>\n      <th>19</th>\n      <td>Securities</td>\n      <td>Dropping Columns w/ Only 2 values</td>\n      <td>[primiss, curcdm, mkvalincl, costat]</td>\n      <td>(32382, 16)</td>\n    </tr>\n  </tbody>\n</table>\n</div>"
     },
     "execution_count": 922,
     "metadata": {},
     "output_type": "execute_result"
    }
   ],
   "source": [
    "# Second Column Reduce -- Only 2 unique Values\n",
    "colsToDrop = lowValCountDF_sec['Column'].values.tolist()\n",
    "securities = securities.drop(columns=colsToDrop)\n",
    "\n",
    "cleanActionsDesc = 'Dropping Columns w/ Only 2 values'\n",
    "df_name = 'Securities'\n",
    "cols = colsToDrop\n",
    "\n",
    "cleanActionsReport(securities,df_name,cleanActionsDesc, cols)\n",
    "cleanActionsDF"
   ],
   "metadata": {
    "collapsed": false,
    "pycharm": {
     "name": "#%%\n"
    }
   }
  },
  {
   "cell_type": "code",
   "execution_count": 923,
   "outputs": [
    {
     "data": {
      "text/plain": "              DF                                         ActionDesc  \\\n0   Fundamentals  Dropped obvious low value columns -- 1 -- Date...   \n1   Fundamentals  Initial Null Drop -- columns w/ 63% Null or more.   \n2   Fundamentals          Dropped columns with only 1 unique value    \n3   Fundamentals  Dropping all that are not standard statements ...   \n4   Fundamentals   Second Null Drop -- columns w/ 20% Null or more.   \n5   Fundamentals                  Dropping Columns w/ Only 2 values   \n6   Fundamentals  Second Manual Column Reduce - Dropping Identif...   \n7   Fundamentals  Third Manual Column Reduce  - Targetted Reduce...   \n8   Fundamentals  Summary Features  - Used to create features, t...   \n9   Fundamentals                                     Group by GVKey   \n10  Fundamentals                              Join Restatement Data   \n11       Ratings                           Capturing Original Shape   \n12       Ratings                         Trim Rows by GSector == 30   \n13       Ratings  Dropped obvious low value columns -- 1 -- Date...   \n14       Ratings  Dropped Nulls -- 1 -- More than 50% Null -- Dr...   \n15       Ratings                                     Group by GVKey   \n16    Securities                           Capturing Original Shape   \n17    Securities  Dropped obvious low value columns -- 1 -- Date...   \n18    Securities           Dropped Nulls -- 1 -- More than 20% Null   \n19    Securities                  Dropping Columns w/ Only 2 values   \n20    Securities  Manual Drop -- 2 -- Low value or duplicated by...   \n\n                                         List-of-Cols   ResultShape  \n0   [datadate, apdedate, fdate, pdate, fyr, add1, ...  (2323, 1744)  \n1   [acctchg, acqmeth, adrr, bspr, compst, curuscn...   (2323, 326)  \n2   [indfmt, consol, popsrc, curcd, final, scf, ac...   (2323, 310)  \n3    applies to all cols, roughly 50% of rows dropped   (1243, 310)  \n4   [cld2, cld3, cld4, cld5, cshr, dd3, dd4, dd5, ...   (1243, 265)  \n5   [datafmt, ismod, upd, rdip, rdipa, rdipd, rdip...   (1243, 250)  \n6   [Unnamed: 0, conm, au, auopic, pddur, dpact_fn...   (1243, 240)  \n7   [lco, lcox, lcoxdr, lo, loxdr, mib, mibn, ppev...    (1243, 92)  \n8                      [drc, drlt, rea, reajo, recta]    (1243, 88)  \n9                                                 All    (348, 167)  \n10                                   Restatement Cols    (348, 172)  \n11                                                N/A  (123678, 21)  \n12                                                All   (17902, 21)  \n13  [city, ggroup, gind, gsector, gsubind, loc, na...    (17902, 6)  \n14                       [splticrm, spsdrm, spsticrm]    (17902, 3)  \n15  [city, ggroup, gind, gsector, gsubind, loc, na...      (452, 3)  \n16                                                N/A   (32382, 56)  \n17  [Unnamed: 0, conm, city, conml, cyear, ggroup,...   (32382, 43)  \n18  [isalrt, spgim, spiim, spmim, cheqvm, curcddvm...   (32382, 20)  \n19               [primiss, curcdm, mkvalincl, costat]   (32382, 16)  \n20  [iid, tic, cmth, exchg, tpci, cshtrm, prccm, p...    (32382, 6)  ",
      "text/html": "<div>\n<style scoped>\n    .dataframe tbody tr th:only-of-type {\n        vertical-align: middle;\n    }\n\n    .dataframe tbody tr th {\n        vertical-align: top;\n    }\n\n    .dataframe thead th {\n        text-align: right;\n    }\n</style>\n<table border=\"1\" class=\"dataframe\">\n  <thead>\n    <tr style=\"text-align: right;\">\n      <th></th>\n      <th>DF</th>\n      <th>ActionDesc</th>\n      <th>List-of-Cols</th>\n      <th>ResultShape</th>\n    </tr>\n  </thead>\n  <tbody>\n    <tr>\n      <th>0</th>\n      <td>Fundamentals</td>\n      <td>Dropped obvious low value columns -- 1 -- Date...</td>\n      <td>[datadate, apdedate, fdate, pdate, fyr, add1, ...</td>\n      <td>(2323, 1744)</td>\n    </tr>\n    <tr>\n      <th>1</th>\n      <td>Fundamentals</td>\n      <td>Initial Null Drop -- columns w/ 63% Null or more.</td>\n      <td>[acctchg, acqmeth, adrr, bspr, compst, curuscn...</td>\n      <td>(2323, 326)</td>\n    </tr>\n    <tr>\n      <th>2</th>\n      <td>Fundamentals</td>\n      <td>Dropped columns with only 1 unique value</td>\n      <td>[indfmt, consol, popsrc, curcd, final, scf, ac...</td>\n      <td>(2323, 310)</td>\n    </tr>\n    <tr>\n      <th>3</th>\n      <td>Fundamentals</td>\n      <td>Dropping all that are not standard statements ...</td>\n      <td>applies to all cols, roughly 50% of rows dropped</td>\n      <td>(1243, 310)</td>\n    </tr>\n    <tr>\n      <th>4</th>\n      <td>Fundamentals</td>\n      <td>Second Null Drop -- columns w/ 20% Null or more.</td>\n      <td>[cld2, cld3, cld4, cld5, cshr, dd3, dd4, dd5, ...</td>\n      <td>(1243, 265)</td>\n    </tr>\n    <tr>\n      <th>5</th>\n      <td>Fundamentals</td>\n      <td>Dropping Columns w/ Only 2 values</td>\n      <td>[datafmt, ismod, upd, rdip, rdipa, rdipd, rdip...</td>\n      <td>(1243, 250)</td>\n    </tr>\n    <tr>\n      <th>6</th>\n      <td>Fundamentals</td>\n      <td>Second Manual Column Reduce - Dropping Identif...</td>\n      <td>[Unnamed: 0, conm, au, auopic, pddur, dpact_fn...</td>\n      <td>(1243, 240)</td>\n    </tr>\n    <tr>\n      <th>7</th>\n      <td>Fundamentals</td>\n      <td>Third Manual Column Reduce  - Targetted Reduce...</td>\n      <td>[lco, lcox, lcoxdr, lo, loxdr, mib, mibn, ppev...</td>\n      <td>(1243, 92)</td>\n    </tr>\n    <tr>\n      <th>8</th>\n      <td>Fundamentals</td>\n      <td>Summary Features  - Used to create features, t...</td>\n      <td>[drc, drlt, rea, reajo, recta]</td>\n      <td>(1243, 88)</td>\n    </tr>\n    <tr>\n      <th>9</th>\n      <td>Fundamentals</td>\n      <td>Group by GVKey</td>\n      <td>All</td>\n      <td>(348, 167)</td>\n    </tr>\n    <tr>\n      <th>10</th>\n      <td>Fundamentals</td>\n      <td>Join Restatement Data</td>\n      <td>Restatement Cols</td>\n      <td>(348, 172)</td>\n    </tr>\n    <tr>\n      <th>11</th>\n      <td>Ratings</td>\n      <td>Capturing Original Shape</td>\n      <td>N/A</td>\n      <td>(123678, 21)</td>\n    </tr>\n    <tr>\n      <th>12</th>\n      <td>Ratings</td>\n      <td>Trim Rows by GSector == 30</td>\n      <td>All</td>\n      <td>(17902, 21)</td>\n    </tr>\n    <tr>\n      <th>13</th>\n      <td>Ratings</td>\n      <td>Dropped obvious low value columns -- 1 -- Date...</td>\n      <td>[city, ggroup, gind, gsector, gsubind, loc, na...</td>\n      <td>(17902, 6)</td>\n    </tr>\n    <tr>\n      <th>14</th>\n      <td>Ratings</td>\n      <td>Dropped Nulls -- 1 -- More than 50% Null -- Dr...</td>\n      <td>[splticrm, spsdrm, spsticrm]</td>\n      <td>(17902, 3)</td>\n    </tr>\n    <tr>\n      <th>15</th>\n      <td>Ratings</td>\n      <td>Group by GVKey</td>\n      <td>[city, ggroup, gind, gsector, gsubind, loc, na...</td>\n      <td>(452, 3)</td>\n    </tr>\n    <tr>\n      <th>16</th>\n      <td>Securities</td>\n      <td>Capturing Original Shape</td>\n      <td>N/A</td>\n      <td>(32382, 56)</td>\n    </tr>\n    <tr>\n      <th>17</th>\n      <td>Securities</td>\n      <td>Dropped obvious low value columns -- 1 -- Date...</td>\n      <td>[Unnamed: 0, conm, city, conml, cyear, ggroup,...</td>\n      <td>(32382, 43)</td>\n    </tr>\n    <tr>\n      <th>18</th>\n      <td>Securities</td>\n      <td>Dropped Nulls -- 1 -- More than 20% Null</td>\n      <td>[isalrt, spgim, spiim, spmim, cheqvm, curcddvm...</td>\n      <td>(32382, 20)</td>\n    </tr>\n    <tr>\n      <th>19</th>\n      <td>Securities</td>\n      <td>Dropping Columns w/ Only 2 values</td>\n      <td>[primiss, curcdm, mkvalincl, costat]</td>\n      <td>(32382, 16)</td>\n    </tr>\n    <tr>\n      <th>20</th>\n      <td>Securities</td>\n      <td>Manual Drop -- 2 -- Low value or duplicated by...</td>\n      <td>[iid, tic, cmth, exchg, tpci, cshtrm, prccm, p...</td>\n      <td>(32382, 6)</td>\n    </tr>\n  </tbody>\n</table>\n</div>"
     },
     "execution_count": 923,
     "metadata": {},
     "output_type": "execute_result"
    }
   ],
   "source": [
    "# Drop Obvious Un-needed 2\n",
    "cleanActionsDesc = \"Manual Drop -- 2 -- Low value or duplicated by other datasets\"\n",
    "df_name = \"Securities\"\n",
    "\n",
    "colsToDrop = ['iid','tic','cmth','exchg','tpci', # low value variables\n",
    "              'cshtrm','prccm','prchm','prclm','cshom' # redundant to variables from other datasets\n",
    "              ]\n",
    "\n",
    "securities = securities.drop(columns=colsToDrop)\n",
    "cleanActionsReport(securities,df_name,cleanActionsDesc,colsToDrop)\n",
    "cleanActionsDF"
   ],
   "metadata": {
    "collapsed": false,
    "pycharm": {
     "name": "#%%\n"
    }
   }
  },
  {
   "cell_type": "code",
   "execution_count": 924,
   "outputs": [],
   "source": [
    "# Group By Prep\n",
    "## Insert STD cols\n",
    "securities.insert(5,\"trfm_std\", 0)\n",
    "securities['trfm_std'] = securities['trfm']\n",
    "\n",
    "securities.insert(7,\"trt1m_std\", 0)\n",
    "securities['trt1m_std'] = securities['trt1m']\n",
    "\n",
    "## Rename columns\n",
    "securities = securities.rename(columns={'trfm':'trfm_mean','trt1m':'trt1m_mean'})"
   ],
   "metadata": {
    "collapsed": false,
    "pycharm": {
     "name": "#%%\n"
    }
   }
  },
  {
   "cell_type": "code",
   "execution_count": 925,
   "outputs": [
    {
     "data": {
      "text/plain": "              DF                                         ActionDesc  \\\n0   Fundamentals  Dropped obvious low value columns -- 1 -- Date...   \n1   Fundamentals  Initial Null Drop -- columns w/ 63% Null or more.   \n2   Fundamentals          Dropped columns with only 1 unique value    \n3   Fundamentals  Dropping all that are not standard statements ...   \n4   Fundamentals   Second Null Drop -- columns w/ 20% Null or more.   \n5   Fundamentals                  Dropping Columns w/ Only 2 values   \n6   Fundamentals  Second Manual Column Reduce - Dropping Identif...   \n7   Fundamentals  Third Manual Column Reduce  - Targetted Reduce...   \n8   Fundamentals  Summary Features  - Used to create features, t...   \n9   Fundamentals                                     Group by GVKey   \n10  Fundamentals                              Join Restatement Data   \n11       Ratings                           Capturing Original Shape   \n12       Ratings                         Trim Rows by GSector == 30   \n13       Ratings  Dropped obvious low value columns -- 1 -- Date...   \n14       Ratings  Dropped Nulls -- 1 -- More than 50% Null -- Dr...   \n15       Ratings                                     Group by GVKey   \n16    Securities                           Capturing Original Shape   \n17    Securities  Dropped obvious low value columns -- 1 -- Date...   \n18    Securities           Dropped Nulls -- 1 -- More than 20% Null   \n19    Securities                  Dropping Columns w/ Only 2 values   \n20    Securities  Manual Drop -- 2 -- Low value or duplicated by...   \n21    Securities                                     Group by GVKey   \n\n                                         List-of-Cols   ResultShape  \n0   [datadate, apdedate, fdate, pdate, fyr, add1, ...  (2323, 1744)  \n1   [acctchg, acqmeth, adrr, bspr, compst, curuscn...   (2323, 326)  \n2   [indfmt, consol, popsrc, curcd, final, scf, ac...   (2323, 310)  \n3    applies to all cols, roughly 50% of rows dropped   (1243, 310)  \n4   [cld2, cld3, cld4, cld5, cshr, dd3, dd4, dd5, ...   (1243, 265)  \n5   [datafmt, ismod, upd, rdip, rdipa, rdipd, rdip...   (1243, 250)  \n6   [Unnamed: 0, conm, au, auopic, pddur, dpact_fn...   (1243, 240)  \n7   [lco, lcox, lcoxdr, lo, loxdr, mib, mibn, ppev...    (1243, 92)  \n8                      [drc, drlt, rea, reajo, recta]    (1243, 88)  \n9                                                 All    (348, 167)  \n10                                   Restatement Cols    (348, 172)  \n11                                                N/A  (123678, 21)  \n12                                                All   (17902, 21)  \n13  [city, ggroup, gind, gsector, gsubind, loc, na...    (17902, 6)  \n14                       [splticrm, spsdrm, spsticrm]    (17902, 3)  \n15  [city, ggroup, gind, gsector, gsubind, loc, na...      (452, 3)  \n16                                                N/A   (32382, 56)  \n17  [Unnamed: 0, conm, city, conml, cyear, ggroup,...   (32382, 43)  \n18  [isalrt, spgim, spiim, spmim, cheqvm, curcddvm...   (32382, 20)  \n19               [primiss, curcdm, mkvalincl, costat]   (32382, 16)  \n20  [iid, tic, cmth, exchg, tpci, cshtrm, prccm, p...    (32382, 6)  \n21  [iid, tic, cmth, exchg, tpci, cshtrm, prccm, p...      (690, 7)  ",
      "text/html": "<div>\n<style scoped>\n    .dataframe tbody tr th:only-of-type {\n        vertical-align: middle;\n    }\n\n    .dataframe tbody tr th {\n        vertical-align: top;\n    }\n\n    .dataframe thead th {\n        text-align: right;\n    }\n</style>\n<table border=\"1\" class=\"dataframe\">\n  <thead>\n    <tr style=\"text-align: right;\">\n      <th></th>\n      <th>DF</th>\n      <th>ActionDesc</th>\n      <th>List-of-Cols</th>\n      <th>ResultShape</th>\n    </tr>\n  </thead>\n  <tbody>\n    <tr>\n      <th>0</th>\n      <td>Fundamentals</td>\n      <td>Dropped obvious low value columns -- 1 -- Date...</td>\n      <td>[datadate, apdedate, fdate, pdate, fyr, add1, ...</td>\n      <td>(2323, 1744)</td>\n    </tr>\n    <tr>\n      <th>1</th>\n      <td>Fundamentals</td>\n      <td>Initial Null Drop -- columns w/ 63% Null or more.</td>\n      <td>[acctchg, acqmeth, adrr, bspr, compst, curuscn...</td>\n      <td>(2323, 326)</td>\n    </tr>\n    <tr>\n      <th>2</th>\n      <td>Fundamentals</td>\n      <td>Dropped columns with only 1 unique value</td>\n      <td>[indfmt, consol, popsrc, curcd, final, scf, ac...</td>\n      <td>(2323, 310)</td>\n    </tr>\n    <tr>\n      <th>3</th>\n      <td>Fundamentals</td>\n      <td>Dropping all that are not standard statements ...</td>\n      <td>applies to all cols, roughly 50% of rows dropped</td>\n      <td>(1243, 310)</td>\n    </tr>\n    <tr>\n      <th>4</th>\n      <td>Fundamentals</td>\n      <td>Second Null Drop -- columns w/ 20% Null or more.</td>\n      <td>[cld2, cld3, cld4, cld5, cshr, dd3, dd4, dd5, ...</td>\n      <td>(1243, 265)</td>\n    </tr>\n    <tr>\n      <th>5</th>\n      <td>Fundamentals</td>\n      <td>Dropping Columns w/ Only 2 values</td>\n      <td>[datafmt, ismod, upd, rdip, rdipa, rdipd, rdip...</td>\n      <td>(1243, 250)</td>\n    </tr>\n    <tr>\n      <th>6</th>\n      <td>Fundamentals</td>\n      <td>Second Manual Column Reduce - Dropping Identif...</td>\n      <td>[Unnamed: 0, conm, au, auopic, pddur, dpact_fn...</td>\n      <td>(1243, 240)</td>\n    </tr>\n    <tr>\n      <th>7</th>\n      <td>Fundamentals</td>\n      <td>Third Manual Column Reduce  - Targetted Reduce...</td>\n      <td>[lco, lcox, lcoxdr, lo, loxdr, mib, mibn, ppev...</td>\n      <td>(1243, 92)</td>\n    </tr>\n    <tr>\n      <th>8</th>\n      <td>Fundamentals</td>\n      <td>Summary Features  - Used to create features, t...</td>\n      <td>[drc, drlt, rea, reajo, recta]</td>\n      <td>(1243, 88)</td>\n    </tr>\n    <tr>\n      <th>9</th>\n      <td>Fundamentals</td>\n      <td>Group by GVKey</td>\n      <td>All</td>\n      <td>(348, 167)</td>\n    </tr>\n    <tr>\n      <th>10</th>\n      <td>Fundamentals</td>\n      <td>Join Restatement Data</td>\n      <td>Restatement Cols</td>\n      <td>(348, 172)</td>\n    </tr>\n    <tr>\n      <th>11</th>\n      <td>Ratings</td>\n      <td>Capturing Original Shape</td>\n      <td>N/A</td>\n      <td>(123678, 21)</td>\n    </tr>\n    <tr>\n      <th>12</th>\n      <td>Ratings</td>\n      <td>Trim Rows by GSector == 30</td>\n      <td>All</td>\n      <td>(17902, 21)</td>\n    </tr>\n    <tr>\n      <th>13</th>\n      <td>Ratings</td>\n      <td>Dropped obvious low value columns -- 1 -- Date...</td>\n      <td>[city, ggroup, gind, gsector, gsubind, loc, na...</td>\n      <td>(17902, 6)</td>\n    </tr>\n    <tr>\n      <th>14</th>\n      <td>Ratings</td>\n      <td>Dropped Nulls -- 1 -- More than 50% Null -- Dr...</td>\n      <td>[splticrm, spsdrm, spsticrm]</td>\n      <td>(17902, 3)</td>\n    </tr>\n    <tr>\n      <th>15</th>\n      <td>Ratings</td>\n      <td>Group by GVKey</td>\n      <td>[city, ggroup, gind, gsector, gsubind, loc, na...</td>\n      <td>(452, 3)</td>\n    </tr>\n    <tr>\n      <th>16</th>\n      <td>Securities</td>\n      <td>Capturing Original Shape</td>\n      <td>N/A</td>\n      <td>(32382, 56)</td>\n    </tr>\n    <tr>\n      <th>17</th>\n      <td>Securities</td>\n      <td>Dropped obvious low value columns -- 1 -- Date...</td>\n      <td>[Unnamed: 0, conm, city, conml, cyear, ggroup,...</td>\n      <td>(32382, 43)</td>\n    </tr>\n    <tr>\n      <th>18</th>\n      <td>Securities</td>\n      <td>Dropped Nulls -- 1 -- More than 20% Null</td>\n      <td>[isalrt, spgim, spiim, spmim, cheqvm, curcddvm...</td>\n      <td>(32382, 20)</td>\n    </tr>\n    <tr>\n      <th>19</th>\n      <td>Securities</td>\n      <td>Dropping Columns w/ Only 2 values</td>\n      <td>[primiss, curcdm, mkvalincl, costat]</td>\n      <td>(32382, 16)</td>\n    </tr>\n    <tr>\n      <th>20</th>\n      <td>Securities</td>\n      <td>Manual Drop -- 2 -- Low value or duplicated by...</td>\n      <td>[iid, tic, cmth, exchg, tpci, cshtrm, prccm, p...</td>\n      <td>(32382, 6)</td>\n    </tr>\n    <tr>\n      <th>21</th>\n      <td>Securities</td>\n      <td>Group by GVKey</td>\n      <td>[iid, tic, cmth, exchg, tpci, cshtrm, prccm, p...</td>\n      <td>(690, 7)</td>\n    </tr>\n  </tbody>\n</table>\n</div>"
     },
     "execution_count": 925,
     "metadata": {},
     "output_type": "execute_result"
    }
   ],
   "source": [
    "# Group by GVKey\n",
    "securities = securities.groupby('gvkey')\\\n",
    "    .agg({'ajexm':'mean','ajpm':'mean',\n",
    "          'trfm_mean':'mean','trfm_std':'std',\n",
    "          'trt1m_mean':'mean','trt1m_std':'std'}).reset_index()\n",
    "\n",
    "# Call Clean Report Function\n",
    "cleanActionsDesc = \"Group by GVKey\"\n",
    "df_name = \"Securities\"\n",
    "\n",
    "cleanActionsReport(securities,df_name,cleanActionsDesc,colsToDrop)\n",
    "cleanActionsDF"
   ],
   "metadata": {
    "collapsed": false,
    "pycharm": {
     "name": "#%%\n"
    }
   }
  },
  {
   "cell_type": "markdown",
   "source": [
    "### Securities -- Data Dictionary"
   ],
   "metadata": {
    "collapsed": false
   }
  },
  {
   "cell_type": "code",
   "execution_count": 926,
   "outputs": [
    {
     "data": {
      "text/plain": "     Mnemonic                                        Definition  Exists\n0       gvkey                                Global Company Key     1.0\n1         iid            Issue ID - Security Monthly Descriptor     0.0\n2    datadate                      Data Date - Security Monthly     0.0\n3         tic                                     Ticker Symbol     0.0\n4        conm                                      Company Name     0.0\n5       ajexm   Cumulative Adjustment Factor - Ex Date -Monthly     1.0\n6        ajpm  Cumulative Adjustment Factor - Pay Date -Monthly     1.0\n7      isalrt                                       Status Code     0.0\n8     primiss                               Primary/Joiner flag     0.0\n9       spgim                  S&P GICS Index Code - Historical     0.0\n10      spiim              S&P Industry Index Code - Historical     0.0\n11      spmim                 S&P Major Index Code - Historical     0.0\n12     cheqvm           Cash Equivalent Distributions - Monthly     0.0\n13   curcddvm              ISO Currency Code - Dividend Monthly     0.0\n14     dvpspm          Dividends per Share - Pay Date - Monthly     0.0\n15     dvpsxm           Dividends per Share - Ex Date - Monthly     0.0\n16     dvrate                           Dividend Rate - Monthly     0.0\n17      csfsm                Common Stock Float Shares - Canada     0.0\n18     cshtrm                          Trading Volume - Monthly     0.0\n19     curcdm                       ISO Currency Code - Monthly     0.0\n20       navm                         Net Asset Value - Monthly     0.0\n21      prccm                           Price - Close - Monthly     0.0\n22      prchm                            Price - High - Monthly     0.0\n23      prclm                             Price - Low - Monthly     0.0\n24       trfm                       Monthly Total Return Factor     0.0\n25      trt1m                              Monthly Total Return     0.0\n26      rawpm        Raw Adjustment Factor - Pay Date - Monthly     0.0\n27      rawxm         Raw Adjustment Factor - Ex Date - Monthly     0.0\n28     sph100                       S&P Holdings S&P 100 Marker     0.0\n29   sphcusip                                S&P Holdings CUSIP     0.0\n30     sphiid                    S&P Holdings Industry Index ID     0.0\n31     sphmid                       S&P Holdings Major Index ID     0.0\n32    sphname                                 S&P Holdings Name     0.0\n33     sphsec                          S&P Holdings Sector Code     0.0\n34     sphtic                               S&P Holdings Ticker     0.0\n35      sphvg               S&P Holdings Value/Growth Indicator     0.0\n36      cshoq                         Common Shares Outstanding     0.0\n37      adrrm                                 ADR Ratio Monthly     0.0\n38       cmth                                    Calendar Month     0.0\n39      cshom                Shares Outstanding Monthly - Issue     0.0\n40      cyear                                     Calendar Year     0.0\n41  mkvalincl                      Include in Market Value Flag     0.0\n42      exchg                               Stock Exchange Code     0.0\n43       tpci                                   Issue Type Code     0.0\n44       city                                              City     0.0\n45      conml                                Company Legal Name     0.0\n46     costat                     Active/Inactive Status Marker     0.0\n47     ggroup                                        GIC Groups     0.0\n48       gind                                    GIC Industries     0.0\n49    gsector                                       GIC Sectors     0.0\n50    gsubind                                GIC Sub-Industries     0.0\n51        loc           Current ISO Country Code - Headquarters     0.0\n52      naics       North American Industry Classification Code     0.0\n53        sic             Standard Industry Classification Code     0.0\n54      state                                    State/Province     0.0",
      "text/html": "<div>\n<style scoped>\n    .dataframe tbody tr th:only-of-type {\n        vertical-align: middle;\n    }\n\n    .dataframe tbody tr th {\n        vertical-align: top;\n    }\n\n    .dataframe thead th {\n        text-align: right;\n    }\n</style>\n<table border=\"1\" class=\"dataframe\">\n  <thead>\n    <tr style=\"text-align: right;\">\n      <th></th>\n      <th>Mnemonic</th>\n      <th>Definition</th>\n      <th>Exists</th>\n    </tr>\n  </thead>\n  <tbody>\n    <tr>\n      <th>0</th>\n      <td>gvkey</td>\n      <td>Global Company Key</td>\n      <td>1.0</td>\n    </tr>\n    <tr>\n      <th>1</th>\n      <td>iid</td>\n      <td>Issue ID - Security Monthly Descriptor</td>\n      <td>0.0</td>\n    </tr>\n    <tr>\n      <th>2</th>\n      <td>datadate</td>\n      <td>Data Date - Security Monthly</td>\n      <td>0.0</td>\n    </tr>\n    <tr>\n      <th>3</th>\n      <td>tic</td>\n      <td>Ticker Symbol</td>\n      <td>0.0</td>\n    </tr>\n    <tr>\n      <th>4</th>\n      <td>conm</td>\n      <td>Company Name</td>\n      <td>0.0</td>\n    </tr>\n    <tr>\n      <th>5</th>\n      <td>ajexm</td>\n      <td>Cumulative Adjustment Factor - Ex Date -Monthly</td>\n      <td>1.0</td>\n    </tr>\n    <tr>\n      <th>6</th>\n      <td>ajpm</td>\n      <td>Cumulative Adjustment Factor - Pay Date -Monthly</td>\n      <td>1.0</td>\n    </tr>\n    <tr>\n      <th>7</th>\n      <td>isalrt</td>\n      <td>Status Code</td>\n      <td>0.0</td>\n    </tr>\n    <tr>\n      <th>8</th>\n      <td>primiss</td>\n      <td>Primary/Joiner flag</td>\n      <td>0.0</td>\n    </tr>\n    <tr>\n      <th>9</th>\n      <td>spgim</td>\n      <td>S&amp;P GICS Index Code - Historical</td>\n      <td>0.0</td>\n    </tr>\n    <tr>\n      <th>10</th>\n      <td>spiim</td>\n      <td>S&amp;P Industry Index Code - Historical</td>\n      <td>0.0</td>\n    </tr>\n    <tr>\n      <th>11</th>\n      <td>spmim</td>\n      <td>S&amp;P Major Index Code - Historical</td>\n      <td>0.0</td>\n    </tr>\n    <tr>\n      <th>12</th>\n      <td>cheqvm</td>\n      <td>Cash Equivalent Distributions - Monthly</td>\n      <td>0.0</td>\n    </tr>\n    <tr>\n      <th>13</th>\n      <td>curcddvm</td>\n      <td>ISO Currency Code - Dividend Monthly</td>\n      <td>0.0</td>\n    </tr>\n    <tr>\n      <th>14</th>\n      <td>dvpspm</td>\n      <td>Dividends per Share - Pay Date - Monthly</td>\n      <td>0.0</td>\n    </tr>\n    <tr>\n      <th>15</th>\n      <td>dvpsxm</td>\n      <td>Dividends per Share - Ex Date - Monthly</td>\n      <td>0.0</td>\n    </tr>\n    <tr>\n      <th>16</th>\n      <td>dvrate</td>\n      <td>Dividend Rate - Monthly</td>\n      <td>0.0</td>\n    </tr>\n    <tr>\n      <th>17</th>\n      <td>csfsm</td>\n      <td>Common Stock Float Shares - Canada</td>\n      <td>0.0</td>\n    </tr>\n    <tr>\n      <th>18</th>\n      <td>cshtrm</td>\n      <td>Trading Volume - Monthly</td>\n      <td>0.0</td>\n    </tr>\n    <tr>\n      <th>19</th>\n      <td>curcdm</td>\n      <td>ISO Currency Code - Monthly</td>\n      <td>0.0</td>\n    </tr>\n    <tr>\n      <th>20</th>\n      <td>navm</td>\n      <td>Net Asset Value - Monthly</td>\n      <td>0.0</td>\n    </tr>\n    <tr>\n      <th>21</th>\n      <td>prccm</td>\n      <td>Price - Close - Monthly</td>\n      <td>0.0</td>\n    </tr>\n    <tr>\n      <th>22</th>\n      <td>prchm</td>\n      <td>Price - High - Monthly</td>\n      <td>0.0</td>\n    </tr>\n    <tr>\n      <th>23</th>\n      <td>prclm</td>\n      <td>Price - Low - Monthly</td>\n      <td>0.0</td>\n    </tr>\n    <tr>\n      <th>24</th>\n      <td>trfm</td>\n      <td>Monthly Total Return Factor</td>\n      <td>0.0</td>\n    </tr>\n    <tr>\n      <th>25</th>\n      <td>trt1m</td>\n      <td>Monthly Total Return</td>\n      <td>0.0</td>\n    </tr>\n    <tr>\n      <th>26</th>\n      <td>rawpm</td>\n      <td>Raw Adjustment Factor - Pay Date - Monthly</td>\n      <td>0.0</td>\n    </tr>\n    <tr>\n      <th>27</th>\n      <td>rawxm</td>\n      <td>Raw Adjustment Factor - Ex Date - Monthly</td>\n      <td>0.0</td>\n    </tr>\n    <tr>\n      <th>28</th>\n      <td>sph100</td>\n      <td>S&amp;P Holdings S&amp;P 100 Marker</td>\n      <td>0.0</td>\n    </tr>\n    <tr>\n      <th>29</th>\n      <td>sphcusip</td>\n      <td>S&amp;P Holdings CUSIP</td>\n      <td>0.0</td>\n    </tr>\n    <tr>\n      <th>30</th>\n      <td>sphiid</td>\n      <td>S&amp;P Holdings Industry Index ID</td>\n      <td>0.0</td>\n    </tr>\n    <tr>\n      <th>31</th>\n      <td>sphmid</td>\n      <td>S&amp;P Holdings Major Index ID</td>\n      <td>0.0</td>\n    </tr>\n    <tr>\n      <th>32</th>\n      <td>sphname</td>\n      <td>S&amp;P Holdings Name</td>\n      <td>0.0</td>\n    </tr>\n    <tr>\n      <th>33</th>\n      <td>sphsec</td>\n      <td>S&amp;P Holdings Sector Code</td>\n      <td>0.0</td>\n    </tr>\n    <tr>\n      <th>34</th>\n      <td>sphtic</td>\n      <td>S&amp;P Holdings Ticker</td>\n      <td>0.0</td>\n    </tr>\n    <tr>\n      <th>35</th>\n      <td>sphvg</td>\n      <td>S&amp;P Holdings Value/Growth Indicator</td>\n      <td>0.0</td>\n    </tr>\n    <tr>\n      <th>36</th>\n      <td>cshoq</td>\n      <td>Common Shares Outstanding</td>\n      <td>0.0</td>\n    </tr>\n    <tr>\n      <th>37</th>\n      <td>adrrm</td>\n      <td>ADR Ratio Monthly</td>\n      <td>0.0</td>\n    </tr>\n    <tr>\n      <th>38</th>\n      <td>cmth</td>\n      <td>Calendar Month</td>\n      <td>0.0</td>\n    </tr>\n    <tr>\n      <th>39</th>\n      <td>cshom</td>\n      <td>Shares Outstanding Monthly - Issue</td>\n      <td>0.0</td>\n    </tr>\n    <tr>\n      <th>40</th>\n      <td>cyear</td>\n      <td>Calendar Year</td>\n      <td>0.0</td>\n    </tr>\n    <tr>\n      <th>41</th>\n      <td>mkvalincl</td>\n      <td>Include in Market Value Flag</td>\n      <td>0.0</td>\n    </tr>\n    <tr>\n      <th>42</th>\n      <td>exchg</td>\n      <td>Stock Exchange Code</td>\n      <td>0.0</td>\n    </tr>\n    <tr>\n      <th>43</th>\n      <td>tpci</td>\n      <td>Issue Type Code</td>\n      <td>0.0</td>\n    </tr>\n    <tr>\n      <th>44</th>\n      <td>city</td>\n      <td>City</td>\n      <td>0.0</td>\n    </tr>\n    <tr>\n      <th>45</th>\n      <td>conml</td>\n      <td>Company Legal Name</td>\n      <td>0.0</td>\n    </tr>\n    <tr>\n      <th>46</th>\n      <td>costat</td>\n      <td>Active/Inactive Status Marker</td>\n      <td>0.0</td>\n    </tr>\n    <tr>\n      <th>47</th>\n      <td>ggroup</td>\n      <td>GIC Groups</td>\n      <td>0.0</td>\n    </tr>\n    <tr>\n      <th>48</th>\n      <td>gind</td>\n      <td>GIC Industries</td>\n      <td>0.0</td>\n    </tr>\n    <tr>\n      <th>49</th>\n      <td>gsector</td>\n      <td>GIC Sectors</td>\n      <td>0.0</td>\n    </tr>\n    <tr>\n      <th>50</th>\n      <td>gsubind</td>\n      <td>GIC Sub-Industries</td>\n      <td>0.0</td>\n    </tr>\n    <tr>\n      <th>51</th>\n      <td>loc</td>\n      <td>Current ISO Country Code - Headquarters</td>\n      <td>0.0</td>\n    </tr>\n    <tr>\n      <th>52</th>\n      <td>naics</td>\n      <td>North American Industry Classification Code</td>\n      <td>0.0</td>\n    </tr>\n    <tr>\n      <th>53</th>\n      <td>sic</td>\n      <td>Standard Industry Classification Code</td>\n      <td>0.0</td>\n    </tr>\n    <tr>\n      <th>54</th>\n      <td>state</td>\n      <td>State/Province</td>\n      <td>0.0</td>\n    </tr>\n  </tbody>\n</table>\n</div>"
     },
     "execution_count": 926,
     "metadata": {},
     "output_type": "execute_result"
    }
   ],
   "source": [
    "# Securities Data Dictionary -- Add Column if Still Exists\n",
    "\n",
    "remainingFeatures_sec = securities.columns.values.tolist()\n",
    "remainingFeatures_sec= pd.DataFrame(remainingFeatures_sec)\n",
    "remainingFeatures_sec['Exists'] = 1\n",
    "remainingFeatures_sec = remainingFeatures_sec.rename(columns={0:'Mnemonic'})\n",
    "\n",
    "securitiesDataDict = securities_DD.merge(remainingFeatures_sec, on='Mnemonic', how='left')\n",
    "securitiesDataDict['Exists'] = securitiesDataDict['Exists'].fillna(0)\n",
    "securitiesDataDict"
   ],
   "metadata": {
    "collapsed": false,
    "pycharm": {
     "name": "#%%\n"
    }
   }
  },
  {
   "cell_type": "code",
   "execution_count": 927,
   "outputs": [],
   "source": [
    "with pd.ExcelWriter(exportPath + 'Securities_DD_wRemaining.xlsx') as writer:\n",
    "    securitiesDataDict.to_excel(writer, sheet_name='Securities_Remaining')"
   ],
   "metadata": {
    "collapsed": false,
    "pycharm": {
     "name": "#%%\n"
    }
   }
  },
  {
   "cell_type": "markdown",
   "source": [
    "## Stocks"
   ],
   "metadata": {
    "collapsed": false
   }
  },
  {
   "cell_type": "code",
   "execution_count": 928,
   "outputs": [
    {
     "data": {
      "text/plain": "              DF                                         ActionDesc  \\\n0   Fundamentals  Dropped obvious low value columns -- 1 -- Date...   \n1   Fundamentals  Initial Null Drop -- columns w/ 63% Null or more.   \n2   Fundamentals          Dropped columns with only 1 unique value    \n3   Fundamentals  Dropping all that are not standard statements ...   \n4   Fundamentals   Second Null Drop -- columns w/ 20% Null or more.   \n5   Fundamentals                  Dropping Columns w/ Only 2 values   \n6   Fundamentals  Second Manual Column Reduce - Dropping Identif...   \n7   Fundamentals  Third Manual Column Reduce  - Targetted Reduce...   \n8   Fundamentals  Summary Features  - Used to create features, t...   \n9   Fundamentals                                     Group by GVKey   \n10  Fundamentals                              Join Restatement Data   \n11       Ratings                           Capturing Original Shape   \n12       Ratings                         Trim Rows by GSector == 30   \n13       Ratings  Dropped obvious low value columns -- 1 -- Date...   \n14       Ratings  Dropped Nulls -- 1 -- More than 50% Null -- Dr...   \n15       Ratings                                     Group by GVKey   \n16    Securities                           Capturing Original Shape   \n17    Securities  Dropped obvious low value columns -- 1 -- Date...   \n18    Securities           Dropped Nulls -- 1 -- More than 20% Null   \n19    Securities                  Dropping Columns w/ Only 2 values   \n20    Securities  Manual Drop -- 2 -- Low value or duplicated by...   \n21    Securities                                     Group by GVKey   \n22        Stocks                           Capturing Original Shape   \n\n                                         List-of-Cols   ResultShape  \n0   [datadate, apdedate, fdate, pdate, fyr, add1, ...  (2323, 1744)  \n1   [acctchg, acqmeth, adrr, bspr, compst, curuscn...   (2323, 326)  \n2   [indfmt, consol, popsrc, curcd, final, scf, ac...   (2323, 310)  \n3    applies to all cols, roughly 50% of rows dropped   (1243, 310)  \n4   [cld2, cld3, cld4, cld5, cshr, dd3, dd4, dd5, ...   (1243, 265)  \n5   [datafmt, ismod, upd, rdip, rdipa, rdipd, rdip...   (1243, 250)  \n6   [Unnamed: 0, conm, au, auopic, pddur, dpact_fn...   (1243, 240)  \n7   [lco, lcox, lcoxdr, lo, loxdr, mib, mibn, ppev...    (1243, 92)  \n8                      [drc, drlt, rea, reajo, recta]    (1243, 88)  \n9                                                 All    (348, 167)  \n10                                   Restatement Cols    (348, 172)  \n11                                                N/A  (123678, 21)  \n12                                                All   (17902, 21)  \n13  [city, ggroup, gind, gsector, gsubind, loc, na...    (17902, 6)  \n14                       [splticrm, spsdrm, spsticrm]    (17902, 3)  \n15  [city, ggroup, gind, gsector, gsubind, loc, na...      (452, 3)  \n16                                                N/A   (32382, 56)  \n17  [Unnamed: 0, conm, city, conml, cyear, ggroup,...   (32382, 43)  \n18  [isalrt, spgim, spiim, spmim, cheqvm, curcddvm...   (32382, 20)  \n19               [primiss, curcdm, mkvalincl, costat]   (32382, 16)  \n20  [iid, tic, cmth, exchg, tpci, cshtrm, prccm, p...    (32382, 6)  \n21  [iid, tic, cmth, exchg, tpci, cshtrm, prccm, p...      (690, 7)  \n22                                                N/A  (673564, 77)  ",
      "text/html": "<div>\n<style scoped>\n    .dataframe tbody tr th:only-of-type {\n        vertical-align: middle;\n    }\n\n    .dataframe tbody tr th {\n        vertical-align: top;\n    }\n\n    .dataframe thead th {\n        text-align: right;\n    }\n</style>\n<table border=\"1\" class=\"dataframe\">\n  <thead>\n    <tr style=\"text-align: right;\">\n      <th></th>\n      <th>DF</th>\n      <th>ActionDesc</th>\n      <th>List-of-Cols</th>\n      <th>ResultShape</th>\n    </tr>\n  </thead>\n  <tbody>\n    <tr>\n      <th>0</th>\n      <td>Fundamentals</td>\n      <td>Dropped obvious low value columns -- 1 -- Date...</td>\n      <td>[datadate, apdedate, fdate, pdate, fyr, add1, ...</td>\n      <td>(2323, 1744)</td>\n    </tr>\n    <tr>\n      <th>1</th>\n      <td>Fundamentals</td>\n      <td>Initial Null Drop -- columns w/ 63% Null or more.</td>\n      <td>[acctchg, acqmeth, adrr, bspr, compst, curuscn...</td>\n      <td>(2323, 326)</td>\n    </tr>\n    <tr>\n      <th>2</th>\n      <td>Fundamentals</td>\n      <td>Dropped columns with only 1 unique value</td>\n      <td>[indfmt, consol, popsrc, curcd, final, scf, ac...</td>\n      <td>(2323, 310)</td>\n    </tr>\n    <tr>\n      <th>3</th>\n      <td>Fundamentals</td>\n      <td>Dropping all that are not standard statements ...</td>\n      <td>applies to all cols, roughly 50% of rows dropped</td>\n      <td>(1243, 310)</td>\n    </tr>\n    <tr>\n      <th>4</th>\n      <td>Fundamentals</td>\n      <td>Second Null Drop -- columns w/ 20% Null or more.</td>\n      <td>[cld2, cld3, cld4, cld5, cshr, dd3, dd4, dd5, ...</td>\n      <td>(1243, 265)</td>\n    </tr>\n    <tr>\n      <th>5</th>\n      <td>Fundamentals</td>\n      <td>Dropping Columns w/ Only 2 values</td>\n      <td>[datafmt, ismod, upd, rdip, rdipa, rdipd, rdip...</td>\n      <td>(1243, 250)</td>\n    </tr>\n    <tr>\n      <th>6</th>\n      <td>Fundamentals</td>\n      <td>Second Manual Column Reduce - Dropping Identif...</td>\n      <td>[Unnamed: 0, conm, au, auopic, pddur, dpact_fn...</td>\n      <td>(1243, 240)</td>\n    </tr>\n    <tr>\n      <th>7</th>\n      <td>Fundamentals</td>\n      <td>Third Manual Column Reduce  - Targetted Reduce...</td>\n      <td>[lco, lcox, lcoxdr, lo, loxdr, mib, mibn, ppev...</td>\n      <td>(1243, 92)</td>\n    </tr>\n    <tr>\n      <th>8</th>\n      <td>Fundamentals</td>\n      <td>Summary Features  - Used to create features, t...</td>\n      <td>[drc, drlt, rea, reajo, recta]</td>\n      <td>(1243, 88)</td>\n    </tr>\n    <tr>\n      <th>9</th>\n      <td>Fundamentals</td>\n      <td>Group by GVKey</td>\n      <td>All</td>\n      <td>(348, 167)</td>\n    </tr>\n    <tr>\n      <th>10</th>\n      <td>Fundamentals</td>\n      <td>Join Restatement Data</td>\n      <td>Restatement Cols</td>\n      <td>(348, 172)</td>\n    </tr>\n    <tr>\n      <th>11</th>\n      <td>Ratings</td>\n      <td>Capturing Original Shape</td>\n      <td>N/A</td>\n      <td>(123678, 21)</td>\n    </tr>\n    <tr>\n      <th>12</th>\n      <td>Ratings</td>\n      <td>Trim Rows by GSector == 30</td>\n      <td>All</td>\n      <td>(17902, 21)</td>\n    </tr>\n    <tr>\n      <th>13</th>\n      <td>Ratings</td>\n      <td>Dropped obvious low value columns -- 1 -- Date...</td>\n      <td>[city, ggroup, gind, gsector, gsubind, loc, na...</td>\n      <td>(17902, 6)</td>\n    </tr>\n    <tr>\n      <th>14</th>\n      <td>Ratings</td>\n      <td>Dropped Nulls -- 1 -- More than 50% Null -- Dr...</td>\n      <td>[splticrm, spsdrm, spsticrm]</td>\n      <td>(17902, 3)</td>\n    </tr>\n    <tr>\n      <th>15</th>\n      <td>Ratings</td>\n      <td>Group by GVKey</td>\n      <td>[city, ggroup, gind, gsector, gsubind, loc, na...</td>\n      <td>(452, 3)</td>\n    </tr>\n    <tr>\n      <th>16</th>\n      <td>Securities</td>\n      <td>Capturing Original Shape</td>\n      <td>N/A</td>\n      <td>(32382, 56)</td>\n    </tr>\n    <tr>\n      <th>17</th>\n      <td>Securities</td>\n      <td>Dropped obvious low value columns -- 1 -- Date...</td>\n      <td>[Unnamed: 0, conm, city, conml, cyear, ggroup,...</td>\n      <td>(32382, 43)</td>\n    </tr>\n    <tr>\n      <th>18</th>\n      <td>Securities</td>\n      <td>Dropped Nulls -- 1 -- More than 20% Null</td>\n      <td>[isalrt, spgim, spiim, spmim, cheqvm, curcddvm...</td>\n      <td>(32382, 20)</td>\n    </tr>\n    <tr>\n      <th>19</th>\n      <td>Securities</td>\n      <td>Dropping Columns w/ Only 2 values</td>\n      <td>[primiss, curcdm, mkvalincl, costat]</td>\n      <td>(32382, 16)</td>\n    </tr>\n    <tr>\n      <th>20</th>\n      <td>Securities</td>\n      <td>Manual Drop -- 2 -- Low value or duplicated by...</td>\n      <td>[iid, tic, cmth, exchg, tpci, cshtrm, prccm, p...</td>\n      <td>(32382, 6)</td>\n    </tr>\n    <tr>\n      <th>21</th>\n      <td>Securities</td>\n      <td>Group by GVKey</td>\n      <td>[iid, tic, cmth, exchg, tpci, cshtrm, prccm, p...</td>\n      <td>(690, 7)</td>\n    </tr>\n    <tr>\n      <th>22</th>\n      <td>Stocks</td>\n      <td>Capturing Original Shape</td>\n      <td>N/A</td>\n      <td>(673564, 77)</td>\n    </tr>\n  </tbody>\n</table>\n</div>"
     },
     "execution_count": 928,
     "metadata": {},
     "output_type": "execute_result"
    }
   ],
   "source": [
    "# Seed Clean DF with initial stats\n",
    "cleanActionsDesc = \"Capturing Original Shape\"\n",
    "df_name = \"Stocks\"\n",
    "colText = \"N/A\"\n",
    "\n",
    "cleanActionsReport(stocks,df_name,cleanActionsDesc,colText)\n",
    "cleanActionsDF"
   ],
   "metadata": {
    "collapsed": false,
    "pycharm": {
     "name": "#%%\n"
    }
   }
  },
  {
   "cell_type": "code",
   "execution_count": 929,
   "outputs": [
    {
     "name": "stdout",
     "output_type": "stream",
     "text": [
      "Count of Variables: 77\n",
      "Count of Variables without nulls: 24\n",
      "Count of Variables with null : 53\n"
     ]
    },
    {
     "data": {
      "text/plain": "          Variable Observations   Nulls  Null_Per Num_Unique     Type\n17    capgnpaydate       673564  673564   100.000          0  float64\n8            capgn       673564  673564   100.000          0  float64\n9            cheqv       673564  673545    99.997         19  float64\n18    cheqvpaydate       673564  673545    99.997         16   object\n12  divdpaydateind       673564  673539    99.996          1   object\n15      paydateind       673564  673537    99.996          1   object\n20    divsppaydate       673564  673427    99.980        100   object\n13           divsp       673564  673427    99.980         91  float64\n51          county       673564  672216    99.800          3   object\n16        anncdate       673564  670738    99.580        882   object\n45            add4       673564  670308    99.517          3   object\n19     divdpaydate       673564  670184    99.498        943   object\n11            divd       673564  670156    99.494       1006  float64\n14         dvrated       673564  670104    99.486       1064  float64\n22      recorddate       673564  670079    99.483        953   object\n21         paydate       673564  670073    99.482        960   object\n10             div       673564  670043    99.477       1066  float64\n7          curcddv       673564  670023    99.474          2   object\n44            add3       673564  665475    98.799          8   object\n43            add2       673564  618912    91.886         44   object\n24           adrrc       673564  588942    87.437         16  float64\n66          prirow       673564  584464    86.772          7   object\n52           dlrsn       673564  582442    86.472          7  float64\n75           dldte       673564  582442    86.472        138   object\n65          prican       673564  567527    84.257          5   object\n76         ipodate       673564  474283    70.414        194   object\n71          spcsrc       673564  438065    65.037          8   object\n54             fax       673564  349267    51.854        333   object\n28             dvi       673564  314085    46.630       1223  float64\n70        spcseccd       673564  295306    43.842          7  float64\n69        spcindcd       673564  295306    43.842         40  float64\n30           epsmo       673564  265605    39.433         12  float64\n29             eps       673564  265605    39.433       1440  float64\n53             ein       673564  259402    38.512        441   object\n34           prcod       673564  241320    35.827      25275  float64\n61          incorp       673564  218391    32.423         37   object\n72           state       673564  155710    23.117         51   object\n40             cik       673564   90921    13.498        602  float64\n74          weburl       673564   78819    11.702        567   object\n46          addzip       673564   28643     4.252        643   object\n64           phone       673564   22171     3.292        664   object\n67          priusa       673564   17090     2.537          7  float64\n26           cshoc       673564   13462     1.999       8841  float64\n47         busdesc       673564    1998     0.297        681   object\n73            stko       673564    1175     0.174          4  float64\n32           prchd       673564     306     0.045      70065  float64\n27          cshtrd       673564     279     0.041     234198  float64\n33           prcld       673564     266     0.039      70156  float64\n25          ajexdi       673564     263     0.039         63  float64\n31           prccd       673564     263     0.039      63554  float64\n35          prcstd       673564     263     0.039          2  float64\n23          curcdd       673564     263     0.039          2   object\n36            trfd       673564      90     0.013       4001  float64",
      "text/html": "<div>\n<style scoped>\n    .dataframe tbody tr th:only-of-type {\n        vertical-align: middle;\n    }\n\n    .dataframe tbody tr th {\n        vertical-align: top;\n    }\n\n    .dataframe thead th {\n        text-align: right;\n    }\n</style>\n<table border=\"1\" class=\"dataframe\">\n  <thead>\n    <tr style=\"text-align: right;\">\n      <th></th>\n      <th>Variable</th>\n      <th>Observations</th>\n      <th>Nulls</th>\n      <th>Null_Per</th>\n      <th>Num_Unique</th>\n      <th>Type</th>\n    </tr>\n  </thead>\n  <tbody>\n    <tr>\n      <th>17</th>\n      <td>capgnpaydate</td>\n      <td>673564</td>\n      <td>673564</td>\n      <td>100.000</td>\n      <td>0</td>\n      <td>float64</td>\n    </tr>\n    <tr>\n      <th>8</th>\n      <td>capgn</td>\n      <td>673564</td>\n      <td>673564</td>\n      <td>100.000</td>\n      <td>0</td>\n      <td>float64</td>\n    </tr>\n    <tr>\n      <th>9</th>\n      <td>cheqv</td>\n      <td>673564</td>\n      <td>673545</td>\n      <td>99.997</td>\n      <td>19</td>\n      <td>float64</td>\n    </tr>\n    <tr>\n      <th>18</th>\n      <td>cheqvpaydate</td>\n      <td>673564</td>\n      <td>673545</td>\n      <td>99.997</td>\n      <td>16</td>\n      <td>object</td>\n    </tr>\n    <tr>\n      <th>12</th>\n      <td>divdpaydateind</td>\n      <td>673564</td>\n      <td>673539</td>\n      <td>99.996</td>\n      <td>1</td>\n      <td>object</td>\n    </tr>\n    <tr>\n      <th>15</th>\n      <td>paydateind</td>\n      <td>673564</td>\n      <td>673537</td>\n      <td>99.996</td>\n      <td>1</td>\n      <td>object</td>\n    </tr>\n    <tr>\n      <th>20</th>\n      <td>divsppaydate</td>\n      <td>673564</td>\n      <td>673427</td>\n      <td>99.980</td>\n      <td>100</td>\n      <td>object</td>\n    </tr>\n    <tr>\n      <th>13</th>\n      <td>divsp</td>\n      <td>673564</td>\n      <td>673427</td>\n      <td>99.980</td>\n      <td>91</td>\n      <td>float64</td>\n    </tr>\n    <tr>\n      <th>51</th>\n      <td>county</td>\n      <td>673564</td>\n      <td>672216</td>\n      <td>99.800</td>\n      <td>3</td>\n      <td>object</td>\n    </tr>\n    <tr>\n      <th>16</th>\n      <td>anncdate</td>\n      <td>673564</td>\n      <td>670738</td>\n      <td>99.580</td>\n      <td>882</td>\n      <td>object</td>\n    </tr>\n    <tr>\n      <th>45</th>\n      <td>add4</td>\n      <td>673564</td>\n      <td>670308</td>\n      <td>99.517</td>\n      <td>3</td>\n      <td>object</td>\n    </tr>\n    <tr>\n      <th>19</th>\n      <td>divdpaydate</td>\n      <td>673564</td>\n      <td>670184</td>\n      <td>99.498</td>\n      <td>943</td>\n      <td>object</td>\n    </tr>\n    <tr>\n      <th>11</th>\n      <td>divd</td>\n      <td>673564</td>\n      <td>670156</td>\n      <td>99.494</td>\n      <td>1006</td>\n      <td>float64</td>\n    </tr>\n    <tr>\n      <th>14</th>\n      <td>dvrated</td>\n      <td>673564</td>\n      <td>670104</td>\n      <td>99.486</td>\n      <td>1064</td>\n      <td>float64</td>\n    </tr>\n    <tr>\n      <th>22</th>\n      <td>recorddate</td>\n      <td>673564</td>\n      <td>670079</td>\n      <td>99.483</td>\n      <td>953</td>\n      <td>object</td>\n    </tr>\n    <tr>\n      <th>21</th>\n      <td>paydate</td>\n      <td>673564</td>\n      <td>670073</td>\n      <td>99.482</td>\n      <td>960</td>\n      <td>object</td>\n    </tr>\n    <tr>\n      <th>10</th>\n      <td>div</td>\n      <td>673564</td>\n      <td>670043</td>\n      <td>99.477</td>\n      <td>1066</td>\n      <td>float64</td>\n    </tr>\n    <tr>\n      <th>7</th>\n      <td>curcddv</td>\n      <td>673564</td>\n      <td>670023</td>\n      <td>99.474</td>\n      <td>2</td>\n      <td>object</td>\n    </tr>\n    <tr>\n      <th>44</th>\n      <td>add3</td>\n      <td>673564</td>\n      <td>665475</td>\n      <td>98.799</td>\n      <td>8</td>\n      <td>object</td>\n    </tr>\n    <tr>\n      <th>43</th>\n      <td>add2</td>\n      <td>673564</td>\n      <td>618912</td>\n      <td>91.886</td>\n      <td>44</td>\n      <td>object</td>\n    </tr>\n    <tr>\n      <th>24</th>\n      <td>adrrc</td>\n      <td>673564</td>\n      <td>588942</td>\n      <td>87.437</td>\n      <td>16</td>\n      <td>float64</td>\n    </tr>\n    <tr>\n      <th>66</th>\n      <td>prirow</td>\n      <td>673564</td>\n      <td>584464</td>\n      <td>86.772</td>\n      <td>7</td>\n      <td>object</td>\n    </tr>\n    <tr>\n      <th>52</th>\n      <td>dlrsn</td>\n      <td>673564</td>\n      <td>582442</td>\n      <td>86.472</td>\n      <td>7</td>\n      <td>float64</td>\n    </tr>\n    <tr>\n      <th>75</th>\n      <td>dldte</td>\n      <td>673564</td>\n      <td>582442</td>\n      <td>86.472</td>\n      <td>138</td>\n      <td>object</td>\n    </tr>\n    <tr>\n      <th>65</th>\n      <td>prican</td>\n      <td>673564</td>\n      <td>567527</td>\n      <td>84.257</td>\n      <td>5</td>\n      <td>object</td>\n    </tr>\n    <tr>\n      <th>76</th>\n      <td>ipodate</td>\n      <td>673564</td>\n      <td>474283</td>\n      <td>70.414</td>\n      <td>194</td>\n      <td>object</td>\n    </tr>\n    <tr>\n      <th>71</th>\n      <td>spcsrc</td>\n      <td>673564</td>\n      <td>438065</td>\n      <td>65.037</td>\n      <td>8</td>\n      <td>object</td>\n    </tr>\n    <tr>\n      <th>54</th>\n      <td>fax</td>\n      <td>673564</td>\n      <td>349267</td>\n      <td>51.854</td>\n      <td>333</td>\n      <td>object</td>\n    </tr>\n    <tr>\n      <th>28</th>\n      <td>dvi</td>\n      <td>673564</td>\n      <td>314085</td>\n      <td>46.630</td>\n      <td>1223</td>\n      <td>float64</td>\n    </tr>\n    <tr>\n      <th>70</th>\n      <td>spcseccd</td>\n      <td>673564</td>\n      <td>295306</td>\n      <td>43.842</td>\n      <td>7</td>\n      <td>float64</td>\n    </tr>\n    <tr>\n      <th>69</th>\n      <td>spcindcd</td>\n      <td>673564</td>\n      <td>295306</td>\n      <td>43.842</td>\n      <td>40</td>\n      <td>float64</td>\n    </tr>\n    <tr>\n      <th>30</th>\n      <td>epsmo</td>\n      <td>673564</td>\n      <td>265605</td>\n      <td>39.433</td>\n      <td>12</td>\n      <td>float64</td>\n    </tr>\n    <tr>\n      <th>29</th>\n      <td>eps</td>\n      <td>673564</td>\n      <td>265605</td>\n      <td>39.433</td>\n      <td>1440</td>\n      <td>float64</td>\n    </tr>\n    <tr>\n      <th>53</th>\n      <td>ein</td>\n      <td>673564</td>\n      <td>259402</td>\n      <td>38.512</td>\n      <td>441</td>\n      <td>object</td>\n    </tr>\n    <tr>\n      <th>34</th>\n      <td>prcod</td>\n      <td>673564</td>\n      <td>241320</td>\n      <td>35.827</td>\n      <td>25275</td>\n      <td>float64</td>\n    </tr>\n    <tr>\n      <th>61</th>\n      <td>incorp</td>\n      <td>673564</td>\n      <td>218391</td>\n      <td>32.423</td>\n      <td>37</td>\n      <td>object</td>\n    </tr>\n    <tr>\n      <th>72</th>\n      <td>state</td>\n      <td>673564</td>\n      <td>155710</td>\n      <td>23.117</td>\n      <td>51</td>\n      <td>object</td>\n    </tr>\n    <tr>\n      <th>40</th>\n      <td>cik</td>\n      <td>673564</td>\n      <td>90921</td>\n      <td>13.498</td>\n      <td>602</td>\n      <td>float64</td>\n    </tr>\n    <tr>\n      <th>74</th>\n      <td>weburl</td>\n      <td>673564</td>\n      <td>78819</td>\n      <td>11.702</td>\n      <td>567</td>\n      <td>object</td>\n    </tr>\n    <tr>\n      <th>46</th>\n      <td>addzip</td>\n      <td>673564</td>\n      <td>28643</td>\n      <td>4.252</td>\n      <td>643</td>\n      <td>object</td>\n    </tr>\n    <tr>\n      <th>64</th>\n      <td>phone</td>\n      <td>673564</td>\n      <td>22171</td>\n      <td>3.292</td>\n      <td>664</td>\n      <td>object</td>\n    </tr>\n    <tr>\n      <th>67</th>\n      <td>priusa</td>\n      <td>673564</td>\n      <td>17090</td>\n      <td>2.537</td>\n      <td>7</td>\n      <td>float64</td>\n    </tr>\n    <tr>\n      <th>26</th>\n      <td>cshoc</td>\n      <td>673564</td>\n      <td>13462</td>\n      <td>1.999</td>\n      <td>8841</td>\n      <td>float64</td>\n    </tr>\n    <tr>\n      <th>47</th>\n      <td>busdesc</td>\n      <td>673564</td>\n      <td>1998</td>\n      <td>0.297</td>\n      <td>681</td>\n      <td>object</td>\n    </tr>\n    <tr>\n      <th>73</th>\n      <td>stko</td>\n      <td>673564</td>\n      <td>1175</td>\n      <td>0.174</td>\n      <td>4</td>\n      <td>float64</td>\n    </tr>\n    <tr>\n      <th>32</th>\n      <td>prchd</td>\n      <td>673564</td>\n      <td>306</td>\n      <td>0.045</td>\n      <td>70065</td>\n      <td>float64</td>\n    </tr>\n    <tr>\n      <th>27</th>\n      <td>cshtrd</td>\n      <td>673564</td>\n      <td>279</td>\n      <td>0.041</td>\n      <td>234198</td>\n      <td>float64</td>\n    </tr>\n    <tr>\n      <th>33</th>\n      <td>prcld</td>\n      <td>673564</td>\n      <td>266</td>\n      <td>0.039</td>\n      <td>70156</td>\n      <td>float64</td>\n    </tr>\n    <tr>\n      <th>25</th>\n      <td>ajexdi</td>\n      <td>673564</td>\n      <td>263</td>\n      <td>0.039</td>\n      <td>63</td>\n      <td>float64</td>\n    </tr>\n    <tr>\n      <th>31</th>\n      <td>prccd</td>\n      <td>673564</td>\n      <td>263</td>\n      <td>0.039</td>\n      <td>63554</td>\n      <td>float64</td>\n    </tr>\n    <tr>\n      <th>35</th>\n      <td>prcstd</td>\n      <td>673564</td>\n      <td>263</td>\n      <td>0.039</td>\n      <td>2</td>\n      <td>float64</td>\n    </tr>\n    <tr>\n      <th>23</th>\n      <td>curcdd</td>\n      <td>673564</td>\n      <td>263</td>\n      <td>0.039</td>\n      <td>2</td>\n      <td>object</td>\n    </tr>\n    <tr>\n      <th>36</th>\n      <td>trfd</td>\n      <td>673564</td>\n      <td>90</td>\n      <td>0.013</td>\n      <td>4001</td>\n      <td>float64</td>\n    </tr>\n  </tbody>\n</table>\n</div>"
     },
     "execution_count": 929,
     "metadata": {},
     "output_type": "execute_result"
    }
   ],
   "source": [
    "nullAnalysis_stocks = nullAnalysis(stocks)\n",
    "nullAnalysis_stocks"
   ],
   "metadata": {
    "collapsed": false,
    "pycharm": {
     "name": "#%%\n"
    }
   }
  },
  {
   "cell_type": "code",
   "execution_count": 930,
   "outputs": [
    {
     "name": "stdout",
     "output_type": "stream",
     "text": [
      "dropped: 37\n",
      "columns that where dropped where: ['curcddv', 'capgn', 'cheqv', 'div', 'divd', 'divdpaydateind', 'divsp', 'dvrated', 'paydateind', 'anncdate', 'capgnpaydate', 'cheqvpaydate', 'divdpaydate', 'divsppaydate', 'paydate', 'recorddate', 'adrrc', 'dvi', 'eps', 'epsmo', 'prcod', 'add2', 'add3', 'add4', 'county', 'dlrsn', 'ein', 'fax', 'incorp', 'prican', 'prirow', 'spcindcd', 'spcseccd', 'spcsrc', 'state', 'dldte', 'ipodate']\n"
     ]
    }
   ],
   "source": [
    "# Drop Nulls 1\n",
    "cleanActionsDesc = \"Dropped Nulls -- 1 -- More than 20% Null\"\n",
    "df_name = \"Stocks\"\n",
    "\n",
    "stocks = dropCols_nullThresh(stocks,0.20,df_name,cleanActionsDesc)\n"
   ],
   "metadata": {
    "collapsed": false,
    "pycharm": {
     "name": "#%%\n"
    }
   }
  },
  {
   "cell_type": "code",
   "execution_count": 931,
   "outputs": [
    {
     "data": {
      "text/plain": "              DF                                         ActionDesc  \\\n0   Fundamentals  Dropped obvious low value columns -- 1 -- Date...   \n1   Fundamentals  Initial Null Drop -- columns w/ 63% Null or more.   \n2   Fundamentals          Dropped columns with only 1 unique value    \n3   Fundamentals  Dropping all that are not standard statements ...   \n4   Fundamentals   Second Null Drop -- columns w/ 20% Null or more.   \n5   Fundamentals                  Dropping Columns w/ Only 2 values   \n6   Fundamentals  Second Manual Column Reduce - Dropping Identif...   \n7   Fundamentals  Third Manual Column Reduce  - Targetted Reduce...   \n8   Fundamentals  Summary Features  - Used to create features, t...   \n9   Fundamentals                                     Group by GVKey   \n10  Fundamentals                              Join Restatement Data   \n11       Ratings                           Capturing Original Shape   \n12       Ratings                         Trim Rows by GSector == 30   \n13       Ratings  Dropped obvious low value columns -- 1 -- Date...   \n14       Ratings  Dropped Nulls -- 1 -- More than 50% Null -- Dr...   \n15       Ratings                                     Group by GVKey   \n16    Securities                           Capturing Original Shape   \n17    Securities  Dropped obvious low value columns -- 1 -- Date...   \n18    Securities           Dropped Nulls -- 1 -- More than 20% Null   \n19    Securities                  Dropping Columns w/ Only 2 values   \n20    Securities  Manual Drop -- 2 -- Low value or duplicated by...   \n21    Securities                                     Group by GVKey   \n22        Stocks                           Capturing Original Shape   \n23        Stocks           Dropped Nulls -- 1 -- More than 20% Null   \n24        Stocks  Dropped obvious low value columns -- 1 -- Date...   \n\n                                         List-of-Cols   ResultShape  \n0   [datadate, apdedate, fdate, pdate, fyr, add1, ...  (2323, 1744)  \n1   [acctchg, acqmeth, adrr, bspr, compst, curuscn...   (2323, 326)  \n2   [indfmt, consol, popsrc, curcd, final, scf, ac...   (2323, 310)  \n3    applies to all cols, roughly 50% of rows dropped   (1243, 310)  \n4   [cld2, cld3, cld4, cld5, cshr, dd3, dd4, dd5, ...   (1243, 265)  \n5   [datafmt, ismod, upd, rdip, rdipa, rdipd, rdip...   (1243, 250)  \n6   [Unnamed: 0, conm, au, auopic, pddur, dpact_fn...   (1243, 240)  \n7   [lco, lcox, lcoxdr, lo, loxdr, mib, mibn, ppev...    (1243, 92)  \n8                      [drc, drlt, rea, reajo, recta]    (1243, 88)  \n9                                                 All    (348, 167)  \n10                                   Restatement Cols    (348, 172)  \n11                                                N/A  (123678, 21)  \n12                                                All   (17902, 21)  \n13  [city, ggroup, gind, gsector, gsubind, loc, na...    (17902, 6)  \n14                       [splticrm, spsdrm, spsticrm]    (17902, 3)  \n15  [city, ggroup, gind, gsector, gsubind, loc, na...      (452, 3)  \n16                                                N/A   (32382, 56)  \n17  [Unnamed: 0, conm, city, conml, cyear, ggroup,...   (32382, 43)  \n18  [isalrt, spgim, spiim, spmim, cheqvm, curcddvm...   (32382, 20)  \n19               [primiss, curcdm, mkvalincl, costat]   (32382, 16)  \n20  [iid, tic, cmth, exchg, tpci, cshtrm, prccm, p...    (32382, 6)  \n21  [iid, tic, cmth, exchg, tpci, cshtrm, prccm, p...      (690, 7)  \n22                                                N/A  (673564, 77)  \n23  [curcddv, capgn, cheqv, div, divd, divdpaydate...  (673564, 40)  \n24  [Unnamed: 0, tic, conm, curcdd, fic, add1, add...  (673564, 16)  ",
      "text/html": "<div>\n<style scoped>\n    .dataframe tbody tr th:only-of-type {\n        vertical-align: middle;\n    }\n\n    .dataframe tbody tr th {\n        vertical-align: top;\n    }\n\n    .dataframe thead th {\n        text-align: right;\n    }\n</style>\n<table border=\"1\" class=\"dataframe\">\n  <thead>\n    <tr style=\"text-align: right;\">\n      <th></th>\n      <th>DF</th>\n      <th>ActionDesc</th>\n      <th>List-of-Cols</th>\n      <th>ResultShape</th>\n    </tr>\n  </thead>\n  <tbody>\n    <tr>\n      <th>0</th>\n      <td>Fundamentals</td>\n      <td>Dropped obvious low value columns -- 1 -- Date...</td>\n      <td>[datadate, apdedate, fdate, pdate, fyr, add1, ...</td>\n      <td>(2323, 1744)</td>\n    </tr>\n    <tr>\n      <th>1</th>\n      <td>Fundamentals</td>\n      <td>Initial Null Drop -- columns w/ 63% Null or more.</td>\n      <td>[acctchg, acqmeth, adrr, bspr, compst, curuscn...</td>\n      <td>(2323, 326)</td>\n    </tr>\n    <tr>\n      <th>2</th>\n      <td>Fundamentals</td>\n      <td>Dropped columns with only 1 unique value</td>\n      <td>[indfmt, consol, popsrc, curcd, final, scf, ac...</td>\n      <td>(2323, 310)</td>\n    </tr>\n    <tr>\n      <th>3</th>\n      <td>Fundamentals</td>\n      <td>Dropping all that are not standard statements ...</td>\n      <td>applies to all cols, roughly 50% of rows dropped</td>\n      <td>(1243, 310)</td>\n    </tr>\n    <tr>\n      <th>4</th>\n      <td>Fundamentals</td>\n      <td>Second Null Drop -- columns w/ 20% Null or more.</td>\n      <td>[cld2, cld3, cld4, cld5, cshr, dd3, dd4, dd5, ...</td>\n      <td>(1243, 265)</td>\n    </tr>\n    <tr>\n      <th>5</th>\n      <td>Fundamentals</td>\n      <td>Dropping Columns w/ Only 2 values</td>\n      <td>[datafmt, ismod, upd, rdip, rdipa, rdipd, rdip...</td>\n      <td>(1243, 250)</td>\n    </tr>\n    <tr>\n      <th>6</th>\n      <td>Fundamentals</td>\n      <td>Second Manual Column Reduce - Dropping Identif...</td>\n      <td>[Unnamed: 0, conm, au, auopic, pddur, dpact_fn...</td>\n      <td>(1243, 240)</td>\n    </tr>\n    <tr>\n      <th>7</th>\n      <td>Fundamentals</td>\n      <td>Third Manual Column Reduce  - Targetted Reduce...</td>\n      <td>[lco, lcox, lcoxdr, lo, loxdr, mib, mibn, ppev...</td>\n      <td>(1243, 92)</td>\n    </tr>\n    <tr>\n      <th>8</th>\n      <td>Fundamentals</td>\n      <td>Summary Features  - Used to create features, t...</td>\n      <td>[drc, drlt, rea, reajo, recta]</td>\n      <td>(1243, 88)</td>\n    </tr>\n    <tr>\n      <th>9</th>\n      <td>Fundamentals</td>\n      <td>Group by GVKey</td>\n      <td>All</td>\n      <td>(348, 167)</td>\n    </tr>\n    <tr>\n      <th>10</th>\n      <td>Fundamentals</td>\n      <td>Join Restatement Data</td>\n      <td>Restatement Cols</td>\n      <td>(348, 172)</td>\n    </tr>\n    <tr>\n      <th>11</th>\n      <td>Ratings</td>\n      <td>Capturing Original Shape</td>\n      <td>N/A</td>\n      <td>(123678, 21)</td>\n    </tr>\n    <tr>\n      <th>12</th>\n      <td>Ratings</td>\n      <td>Trim Rows by GSector == 30</td>\n      <td>All</td>\n      <td>(17902, 21)</td>\n    </tr>\n    <tr>\n      <th>13</th>\n      <td>Ratings</td>\n      <td>Dropped obvious low value columns -- 1 -- Date...</td>\n      <td>[city, ggroup, gind, gsector, gsubind, loc, na...</td>\n      <td>(17902, 6)</td>\n    </tr>\n    <tr>\n      <th>14</th>\n      <td>Ratings</td>\n      <td>Dropped Nulls -- 1 -- More than 50% Null -- Dr...</td>\n      <td>[splticrm, spsdrm, spsticrm]</td>\n      <td>(17902, 3)</td>\n    </tr>\n    <tr>\n      <th>15</th>\n      <td>Ratings</td>\n      <td>Group by GVKey</td>\n      <td>[city, ggroup, gind, gsector, gsubind, loc, na...</td>\n      <td>(452, 3)</td>\n    </tr>\n    <tr>\n      <th>16</th>\n      <td>Securities</td>\n      <td>Capturing Original Shape</td>\n      <td>N/A</td>\n      <td>(32382, 56)</td>\n    </tr>\n    <tr>\n      <th>17</th>\n      <td>Securities</td>\n      <td>Dropped obvious low value columns -- 1 -- Date...</td>\n      <td>[Unnamed: 0, conm, city, conml, cyear, ggroup,...</td>\n      <td>(32382, 43)</td>\n    </tr>\n    <tr>\n      <th>18</th>\n      <td>Securities</td>\n      <td>Dropped Nulls -- 1 -- More than 20% Null</td>\n      <td>[isalrt, spgim, spiim, spmim, cheqvm, curcddvm...</td>\n      <td>(32382, 20)</td>\n    </tr>\n    <tr>\n      <th>19</th>\n      <td>Securities</td>\n      <td>Dropping Columns w/ Only 2 values</td>\n      <td>[primiss, curcdm, mkvalincl, costat]</td>\n      <td>(32382, 16)</td>\n    </tr>\n    <tr>\n      <th>20</th>\n      <td>Securities</td>\n      <td>Manual Drop -- 2 -- Low value or duplicated by...</td>\n      <td>[iid, tic, cmth, exchg, tpci, cshtrm, prccm, p...</td>\n      <td>(32382, 6)</td>\n    </tr>\n    <tr>\n      <th>21</th>\n      <td>Securities</td>\n      <td>Group by GVKey</td>\n      <td>[iid, tic, cmth, exchg, tpci, cshtrm, prccm, p...</td>\n      <td>(690, 7)</td>\n    </tr>\n    <tr>\n      <th>22</th>\n      <td>Stocks</td>\n      <td>Capturing Original Shape</td>\n      <td>N/A</td>\n      <td>(673564, 77)</td>\n    </tr>\n    <tr>\n      <th>23</th>\n      <td>Stocks</td>\n      <td>Dropped Nulls -- 1 -- More than 20% Null</td>\n      <td>[curcddv, capgn, cheqv, div, divd, divdpaydate...</td>\n      <td>(673564, 40)</td>\n    </tr>\n    <tr>\n      <th>24</th>\n      <td>Stocks</td>\n      <td>Dropped obvious low value columns -- 1 -- Date...</td>\n      <td>[Unnamed: 0, tic, conm, curcdd, fic, add1, add...</td>\n      <td>(673564, 16)</td>\n    </tr>\n  </tbody>\n</table>\n</div>"
     },
     "execution_count": 931,
     "metadata": {},
     "output_type": "execute_result"
    }
   ],
   "source": [
    "# Drop Obvious Un-needed 1\n",
    "cleanActionsDesc = \"Dropped obvious low value columns -- 1 -- Dates/Codes/Addresses/Etc.\"\n",
    "df_name = \"Stocks\"\n",
    "\n",
    "colsToDrop = ['Unnamed: 0','tic','conm','curcdd','fic','add1','addzip','busdesc','city','conml','fyrc','ggroup','gind',\n",
    "              'gsector','gsubind','idbflag','loc','naics','phone','sic','weburl','prcstd','cusip','priusa']\n",
    "\n",
    "stocks = stocks.drop(columns=colsToDrop)\n",
    "cleanActionsReport(stocks,df_name,cleanActionsDesc,colsToDrop)\n"
   ],
   "metadata": {
    "collapsed": false,
    "pycharm": {
     "name": "#%%\n"
    }
   }
  },
  {
   "cell_type": "code",
   "execution_count": 932,
   "outputs": [
    {
     "data": {
      "text/plain": "     Column Count                                        ValueCounts\n11  secstat     2                          {'A': 588583, 'I': 84981}\n14   costat     2                          {'A': 583441, 'I': 90123}\n15     stko     4  {0.0: 341046, 3.0: 328872, 2.0: 1427, nan: 117...",
      "text/html": "<div>\n<style scoped>\n    .dataframe tbody tr th:only-of-type {\n        vertical-align: middle;\n    }\n\n    .dataframe tbody tr th {\n        vertical-align: top;\n    }\n\n    .dataframe thead th {\n        text-align: right;\n    }\n</style>\n<table border=\"1\" class=\"dataframe\">\n  <thead>\n    <tr style=\"text-align: right;\">\n      <th></th>\n      <th>Column</th>\n      <th>Count</th>\n      <th>ValueCounts</th>\n    </tr>\n  </thead>\n  <tbody>\n    <tr>\n      <th>11</th>\n      <td>secstat</td>\n      <td>2</td>\n      <td>{'A': 588583, 'I': 84981}</td>\n    </tr>\n    <tr>\n      <th>14</th>\n      <td>costat</td>\n      <td>2</td>\n      <td>{'A': 583441, 'I': 90123}</td>\n    </tr>\n    <tr>\n      <th>15</th>\n      <td>stko</td>\n      <td>4</td>\n      <td>{0.0: 341046, 3.0: 328872, 2.0: 1427, nan: 117...</td>\n    </tr>\n  </tbody>\n</table>\n</div>"
     },
     "execution_count": 932,
     "metadata": {},
     "output_type": "execute_result"
    }
   ],
   "source": [
    "# Second Column Reduce -- Only X unique Values\n",
    "\n",
    "lowValCountDF_stocks = pd.DataFrame(columns = ['Column','Count','ValueCounts'])\n",
    "cols = stocks.columns.values.tolist()\n",
    "\n",
    "for col in cols:\n",
    "    count = stocks[col].nunique()\n",
    "    column = col\n",
    "    tempVal = stocks[col].value_counts(dropna=False)\n",
    "    tempVal_dict = tempVal.to_dict()\n",
    "    row = [column,count, tempVal_dict]\n",
    "    # append stats to Summary Stats DF\n",
    "    df_length = len(lowValCountDF_stocks)\n",
    "    lowValCountDF_stocks.loc[df_length] = row\n",
    "\n",
    "lowValCountDF_stocks = lowValCountDF_stocks[lowValCountDF_stocks['Count'] <= 4]\n",
    "lowValCountDF_stocks = lowValCountDF_stocks.sort_values(by='Count', ascending=True)\n",
    "lowValCountDF_stocks"
   ],
   "metadata": {
    "collapsed": false,
    "pycharm": {
     "name": "#%%\n"
    }
   }
  },
  {
   "cell_type": "code",
   "execution_count": 933,
   "outputs": [
    {
     "data": {
      "text/plain": "              DF                                         ActionDesc  \\\n0   Fundamentals  Dropped obvious low value columns -- 1 -- Date...   \n1   Fundamentals  Initial Null Drop -- columns w/ 63% Null or more.   \n2   Fundamentals          Dropped columns with only 1 unique value    \n3   Fundamentals  Dropping all that are not standard statements ...   \n4   Fundamentals   Second Null Drop -- columns w/ 20% Null or more.   \n5   Fundamentals                  Dropping Columns w/ Only 2 values   \n6   Fundamentals  Second Manual Column Reduce - Dropping Identif...   \n7   Fundamentals  Third Manual Column Reduce  - Targetted Reduce...   \n8   Fundamentals  Summary Features  - Used to create features, t...   \n9   Fundamentals                                     Group by GVKey   \n10  Fundamentals                              Join Restatement Data   \n11       Ratings                           Capturing Original Shape   \n12       Ratings                         Trim Rows by GSector == 30   \n13       Ratings  Dropped obvious low value columns -- 1 -- Date...   \n14       Ratings  Dropped Nulls -- 1 -- More than 50% Null -- Dr...   \n15       Ratings                                     Group by GVKey   \n16    Securities                           Capturing Original Shape   \n17    Securities  Dropped obvious low value columns -- 1 -- Date...   \n18    Securities           Dropped Nulls -- 1 -- More than 20% Null   \n19    Securities                  Dropping Columns w/ Only 2 values   \n20    Securities  Manual Drop -- 2 -- Low value or duplicated by...   \n21    Securities                                     Group by GVKey   \n22        Stocks                           Capturing Original Shape   \n23        Stocks           Dropped Nulls -- 1 -- More than 20% Null   \n24        Stocks  Dropped obvious low value columns -- 1 -- Date...   \n25        Stocks                  Dropping Columns w/ Only 2 values   \n\n                                         List-of-Cols   ResultShape  \n0   [datadate, apdedate, fdate, pdate, fyr, add1, ...  (2323, 1744)  \n1   [acctchg, acqmeth, adrr, bspr, compst, curuscn...   (2323, 326)  \n2   [indfmt, consol, popsrc, curcd, final, scf, ac...   (2323, 310)  \n3    applies to all cols, roughly 50% of rows dropped   (1243, 310)  \n4   [cld2, cld3, cld4, cld5, cshr, dd3, dd4, dd5, ...   (1243, 265)  \n5   [datafmt, ismod, upd, rdip, rdipa, rdipd, rdip...   (1243, 250)  \n6   [Unnamed: 0, conm, au, auopic, pddur, dpact_fn...   (1243, 240)  \n7   [lco, lcox, lcoxdr, lo, loxdr, mib, mibn, ppev...    (1243, 92)  \n8                      [drc, drlt, rea, reajo, recta]    (1243, 88)  \n9                                                 All    (348, 167)  \n10                                   Restatement Cols    (348, 172)  \n11                                                N/A  (123678, 21)  \n12                                                All   (17902, 21)  \n13  [city, ggroup, gind, gsector, gsubind, loc, na...    (17902, 6)  \n14                       [splticrm, spsdrm, spsticrm]    (17902, 3)  \n15  [city, ggroup, gind, gsector, gsubind, loc, na...      (452, 3)  \n16                                                N/A   (32382, 56)  \n17  [Unnamed: 0, conm, city, conml, cyear, ggroup,...   (32382, 43)  \n18  [isalrt, spgim, spiim, spmim, cheqvm, curcddvm...   (32382, 20)  \n19               [primiss, curcdm, mkvalincl, costat]   (32382, 16)  \n20  [iid, tic, cmth, exchg, tpci, cshtrm, prccm, p...    (32382, 6)  \n21  [iid, tic, cmth, exchg, tpci, cshtrm, prccm, p...      (690, 7)  \n22                                                N/A  (673564, 77)  \n23  [curcddv, capgn, cheqv, div, divd, divdpaydate...  (673564, 40)  \n24  [Unnamed: 0, tic, conm, curcdd, fic, add1, add...  (673564, 16)  \n25                            [secstat, costat, stko]  (673564, 13)  ",
      "text/html": "<div>\n<style scoped>\n    .dataframe tbody tr th:only-of-type {\n        vertical-align: middle;\n    }\n\n    .dataframe tbody tr th {\n        vertical-align: top;\n    }\n\n    .dataframe thead th {\n        text-align: right;\n    }\n</style>\n<table border=\"1\" class=\"dataframe\">\n  <thead>\n    <tr style=\"text-align: right;\">\n      <th></th>\n      <th>DF</th>\n      <th>ActionDesc</th>\n      <th>List-of-Cols</th>\n      <th>ResultShape</th>\n    </tr>\n  </thead>\n  <tbody>\n    <tr>\n      <th>0</th>\n      <td>Fundamentals</td>\n      <td>Dropped obvious low value columns -- 1 -- Date...</td>\n      <td>[datadate, apdedate, fdate, pdate, fyr, add1, ...</td>\n      <td>(2323, 1744)</td>\n    </tr>\n    <tr>\n      <th>1</th>\n      <td>Fundamentals</td>\n      <td>Initial Null Drop -- columns w/ 63% Null or more.</td>\n      <td>[acctchg, acqmeth, adrr, bspr, compst, curuscn...</td>\n      <td>(2323, 326)</td>\n    </tr>\n    <tr>\n      <th>2</th>\n      <td>Fundamentals</td>\n      <td>Dropped columns with only 1 unique value</td>\n      <td>[indfmt, consol, popsrc, curcd, final, scf, ac...</td>\n      <td>(2323, 310)</td>\n    </tr>\n    <tr>\n      <th>3</th>\n      <td>Fundamentals</td>\n      <td>Dropping all that are not standard statements ...</td>\n      <td>applies to all cols, roughly 50% of rows dropped</td>\n      <td>(1243, 310)</td>\n    </tr>\n    <tr>\n      <th>4</th>\n      <td>Fundamentals</td>\n      <td>Second Null Drop -- columns w/ 20% Null or more.</td>\n      <td>[cld2, cld3, cld4, cld5, cshr, dd3, dd4, dd5, ...</td>\n      <td>(1243, 265)</td>\n    </tr>\n    <tr>\n      <th>5</th>\n      <td>Fundamentals</td>\n      <td>Dropping Columns w/ Only 2 values</td>\n      <td>[datafmt, ismod, upd, rdip, rdipa, rdipd, rdip...</td>\n      <td>(1243, 250)</td>\n    </tr>\n    <tr>\n      <th>6</th>\n      <td>Fundamentals</td>\n      <td>Second Manual Column Reduce - Dropping Identif...</td>\n      <td>[Unnamed: 0, conm, au, auopic, pddur, dpact_fn...</td>\n      <td>(1243, 240)</td>\n    </tr>\n    <tr>\n      <th>7</th>\n      <td>Fundamentals</td>\n      <td>Third Manual Column Reduce  - Targetted Reduce...</td>\n      <td>[lco, lcox, lcoxdr, lo, loxdr, mib, mibn, ppev...</td>\n      <td>(1243, 92)</td>\n    </tr>\n    <tr>\n      <th>8</th>\n      <td>Fundamentals</td>\n      <td>Summary Features  - Used to create features, t...</td>\n      <td>[drc, drlt, rea, reajo, recta]</td>\n      <td>(1243, 88)</td>\n    </tr>\n    <tr>\n      <th>9</th>\n      <td>Fundamentals</td>\n      <td>Group by GVKey</td>\n      <td>All</td>\n      <td>(348, 167)</td>\n    </tr>\n    <tr>\n      <th>10</th>\n      <td>Fundamentals</td>\n      <td>Join Restatement Data</td>\n      <td>Restatement Cols</td>\n      <td>(348, 172)</td>\n    </tr>\n    <tr>\n      <th>11</th>\n      <td>Ratings</td>\n      <td>Capturing Original Shape</td>\n      <td>N/A</td>\n      <td>(123678, 21)</td>\n    </tr>\n    <tr>\n      <th>12</th>\n      <td>Ratings</td>\n      <td>Trim Rows by GSector == 30</td>\n      <td>All</td>\n      <td>(17902, 21)</td>\n    </tr>\n    <tr>\n      <th>13</th>\n      <td>Ratings</td>\n      <td>Dropped obvious low value columns -- 1 -- Date...</td>\n      <td>[city, ggroup, gind, gsector, gsubind, loc, na...</td>\n      <td>(17902, 6)</td>\n    </tr>\n    <tr>\n      <th>14</th>\n      <td>Ratings</td>\n      <td>Dropped Nulls -- 1 -- More than 50% Null -- Dr...</td>\n      <td>[splticrm, spsdrm, spsticrm]</td>\n      <td>(17902, 3)</td>\n    </tr>\n    <tr>\n      <th>15</th>\n      <td>Ratings</td>\n      <td>Group by GVKey</td>\n      <td>[city, ggroup, gind, gsector, gsubind, loc, na...</td>\n      <td>(452, 3)</td>\n    </tr>\n    <tr>\n      <th>16</th>\n      <td>Securities</td>\n      <td>Capturing Original Shape</td>\n      <td>N/A</td>\n      <td>(32382, 56)</td>\n    </tr>\n    <tr>\n      <th>17</th>\n      <td>Securities</td>\n      <td>Dropped obvious low value columns -- 1 -- Date...</td>\n      <td>[Unnamed: 0, conm, city, conml, cyear, ggroup,...</td>\n      <td>(32382, 43)</td>\n    </tr>\n    <tr>\n      <th>18</th>\n      <td>Securities</td>\n      <td>Dropped Nulls -- 1 -- More than 20% Null</td>\n      <td>[isalrt, spgim, spiim, spmim, cheqvm, curcddvm...</td>\n      <td>(32382, 20)</td>\n    </tr>\n    <tr>\n      <th>19</th>\n      <td>Securities</td>\n      <td>Dropping Columns w/ Only 2 values</td>\n      <td>[primiss, curcdm, mkvalincl, costat]</td>\n      <td>(32382, 16)</td>\n    </tr>\n    <tr>\n      <th>20</th>\n      <td>Securities</td>\n      <td>Manual Drop -- 2 -- Low value or duplicated by...</td>\n      <td>[iid, tic, cmth, exchg, tpci, cshtrm, prccm, p...</td>\n      <td>(32382, 6)</td>\n    </tr>\n    <tr>\n      <th>21</th>\n      <td>Securities</td>\n      <td>Group by GVKey</td>\n      <td>[iid, tic, cmth, exchg, tpci, cshtrm, prccm, p...</td>\n      <td>(690, 7)</td>\n    </tr>\n    <tr>\n      <th>22</th>\n      <td>Stocks</td>\n      <td>Capturing Original Shape</td>\n      <td>N/A</td>\n      <td>(673564, 77)</td>\n    </tr>\n    <tr>\n      <th>23</th>\n      <td>Stocks</td>\n      <td>Dropped Nulls -- 1 -- More than 20% Null</td>\n      <td>[curcddv, capgn, cheqv, div, divd, divdpaydate...</td>\n      <td>(673564, 40)</td>\n    </tr>\n    <tr>\n      <th>24</th>\n      <td>Stocks</td>\n      <td>Dropped obvious low value columns -- 1 -- Date...</td>\n      <td>[Unnamed: 0, tic, conm, curcdd, fic, add1, add...</td>\n      <td>(673564, 16)</td>\n    </tr>\n    <tr>\n      <th>25</th>\n      <td>Stocks</td>\n      <td>Dropping Columns w/ Only 2 values</td>\n      <td>[secstat, costat, stko]</td>\n      <td>(673564, 13)</td>\n    </tr>\n  </tbody>\n</table>\n</div>"
     },
     "execution_count": 933,
     "metadata": {},
     "output_type": "execute_result"
    }
   ],
   "source": [
    "# Second Column Reduce -- Only 2 unique Values\n",
    "colsToDrop = lowValCountDF_stocks['Column'].values.tolist()\n",
    "stocks = stocks.drop(columns=colsToDrop)\n",
    "\n",
    "cleanActionsDesc = 'Dropping Columns w/ Only 2 values'\n",
    "df_name = 'Stocks'\n",
    "cols = colsToDrop\n",
    "\n",
    "cleanActionsReport(stocks,df_name,cleanActionsDesc, cols)"
   ],
   "metadata": {
    "collapsed": false,
    "pycharm": {
     "name": "#%%\n"
    }
   }
  },
  {
   "cell_type": "code",
   "execution_count": 934,
   "outputs": [
    {
     "data": {
      "text/plain": "              DF                                         ActionDesc  \\\n0   Fundamentals  Dropped obvious low value columns -- 1 -- Date...   \n1   Fundamentals  Initial Null Drop -- columns w/ 63% Null or more.   \n2   Fundamentals          Dropped columns with only 1 unique value    \n3   Fundamentals  Dropping all that are not standard statements ...   \n4   Fundamentals   Second Null Drop -- columns w/ 20% Null or more.   \n5   Fundamentals                  Dropping Columns w/ Only 2 values   \n6   Fundamentals  Second Manual Column Reduce - Dropping Identif...   \n7   Fundamentals  Third Manual Column Reduce  - Targetted Reduce...   \n8   Fundamentals  Summary Features  - Used to create features, t...   \n9   Fundamentals                                     Group by GVKey   \n10  Fundamentals                              Join Restatement Data   \n11       Ratings                           Capturing Original Shape   \n12       Ratings                         Trim Rows by GSector == 30   \n13       Ratings  Dropped obvious low value columns -- 1 -- Date...   \n14       Ratings  Dropped Nulls -- 1 -- More than 50% Null -- Dr...   \n15       Ratings                                     Group by GVKey   \n16    Securities                           Capturing Original Shape   \n17    Securities  Dropped obvious low value columns -- 1 -- Date...   \n18    Securities           Dropped Nulls -- 1 -- More than 20% Null   \n19    Securities                  Dropping Columns w/ Only 2 values   \n20    Securities  Manual Drop -- 2 -- Low value or duplicated by...   \n21    Securities                                     Group by GVKey   \n22        Stocks                           Capturing Original Shape   \n23        Stocks           Dropped Nulls -- 1 -- More than 20% Null   \n24        Stocks  Dropped obvious low value columns -- 1 -- Date...   \n25        Stocks                  Dropping Columns w/ Only 2 values   \n26        Stocks  Manual Drop -- 2 -- Low value or duplicated by...   \n\n                                         List-of-Cols   ResultShape  \n0   [datadate, apdedate, fdate, pdate, fyr, add1, ...  (2323, 1744)  \n1   [acctchg, acqmeth, adrr, bspr, compst, curuscn...   (2323, 326)  \n2   [indfmt, consol, popsrc, curcd, final, scf, ac...   (2323, 310)  \n3    applies to all cols, roughly 50% of rows dropped   (1243, 310)  \n4   [cld2, cld3, cld4, cld5, cshr, dd3, dd4, dd5, ...   (1243, 265)  \n5   [datafmt, ismod, upd, rdip, rdipa, rdipd, rdip...   (1243, 250)  \n6   [Unnamed: 0, conm, au, auopic, pddur, dpact_fn...   (1243, 240)  \n7   [lco, lcox, lcoxdr, lo, loxdr, mib, mibn, ppev...    (1243, 92)  \n8                      [drc, drlt, rea, reajo, recta]    (1243, 88)  \n9                                                 All    (348, 167)  \n10                                   Restatement Cols    (348, 172)  \n11                                                N/A  (123678, 21)  \n12                                                All   (17902, 21)  \n13  [city, ggroup, gind, gsector, gsubind, loc, na...    (17902, 6)  \n14                       [splticrm, spsdrm, spsticrm]    (17902, 3)  \n15  [city, ggroup, gind, gsector, gsubind, loc, na...      (452, 3)  \n16                                                N/A   (32382, 56)  \n17  [Unnamed: 0, conm, city, conml, cyear, ggroup,...   (32382, 43)  \n18  [isalrt, spgim, spiim, spmim, cheqvm, curcddvm...   (32382, 20)  \n19               [primiss, curcdm, mkvalincl, costat]   (32382, 16)  \n20  [iid, tic, cmth, exchg, tpci, cshtrm, prccm, p...    (32382, 6)  \n21  [iid, tic, cmth, exchg, tpci, cshtrm, prccm, p...      (690, 7)  \n22                                                N/A  (673564, 77)  \n23  [curcddv, capgn, cheqv, div, divd, divdpaydate...  (673564, 40)  \n24  [Unnamed: 0, tic, conm, curcdd, fic, add1, add...  (673564, 16)  \n25                            [secstat, costat, stko]  (673564, 13)  \n26      [iid, exchg, tpci, cik, cshtrd, ajexdi, trfd]   (673564, 6)  ",
      "text/html": "<div>\n<style scoped>\n    .dataframe tbody tr th:only-of-type {\n        vertical-align: middle;\n    }\n\n    .dataframe tbody tr th {\n        vertical-align: top;\n    }\n\n    .dataframe thead th {\n        text-align: right;\n    }\n</style>\n<table border=\"1\" class=\"dataframe\">\n  <thead>\n    <tr style=\"text-align: right;\">\n      <th></th>\n      <th>DF</th>\n      <th>ActionDesc</th>\n      <th>List-of-Cols</th>\n      <th>ResultShape</th>\n    </tr>\n  </thead>\n  <tbody>\n    <tr>\n      <th>0</th>\n      <td>Fundamentals</td>\n      <td>Dropped obvious low value columns -- 1 -- Date...</td>\n      <td>[datadate, apdedate, fdate, pdate, fyr, add1, ...</td>\n      <td>(2323, 1744)</td>\n    </tr>\n    <tr>\n      <th>1</th>\n      <td>Fundamentals</td>\n      <td>Initial Null Drop -- columns w/ 63% Null or more.</td>\n      <td>[acctchg, acqmeth, adrr, bspr, compst, curuscn...</td>\n      <td>(2323, 326)</td>\n    </tr>\n    <tr>\n      <th>2</th>\n      <td>Fundamentals</td>\n      <td>Dropped columns with only 1 unique value</td>\n      <td>[indfmt, consol, popsrc, curcd, final, scf, ac...</td>\n      <td>(2323, 310)</td>\n    </tr>\n    <tr>\n      <th>3</th>\n      <td>Fundamentals</td>\n      <td>Dropping all that are not standard statements ...</td>\n      <td>applies to all cols, roughly 50% of rows dropped</td>\n      <td>(1243, 310)</td>\n    </tr>\n    <tr>\n      <th>4</th>\n      <td>Fundamentals</td>\n      <td>Second Null Drop -- columns w/ 20% Null or more.</td>\n      <td>[cld2, cld3, cld4, cld5, cshr, dd3, dd4, dd5, ...</td>\n      <td>(1243, 265)</td>\n    </tr>\n    <tr>\n      <th>5</th>\n      <td>Fundamentals</td>\n      <td>Dropping Columns w/ Only 2 values</td>\n      <td>[datafmt, ismod, upd, rdip, rdipa, rdipd, rdip...</td>\n      <td>(1243, 250)</td>\n    </tr>\n    <tr>\n      <th>6</th>\n      <td>Fundamentals</td>\n      <td>Second Manual Column Reduce - Dropping Identif...</td>\n      <td>[Unnamed: 0, conm, au, auopic, pddur, dpact_fn...</td>\n      <td>(1243, 240)</td>\n    </tr>\n    <tr>\n      <th>7</th>\n      <td>Fundamentals</td>\n      <td>Third Manual Column Reduce  - Targetted Reduce...</td>\n      <td>[lco, lcox, lcoxdr, lo, loxdr, mib, mibn, ppev...</td>\n      <td>(1243, 92)</td>\n    </tr>\n    <tr>\n      <th>8</th>\n      <td>Fundamentals</td>\n      <td>Summary Features  - Used to create features, t...</td>\n      <td>[drc, drlt, rea, reajo, recta]</td>\n      <td>(1243, 88)</td>\n    </tr>\n    <tr>\n      <th>9</th>\n      <td>Fundamentals</td>\n      <td>Group by GVKey</td>\n      <td>All</td>\n      <td>(348, 167)</td>\n    </tr>\n    <tr>\n      <th>10</th>\n      <td>Fundamentals</td>\n      <td>Join Restatement Data</td>\n      <td>Restatement Cols</td>\n      <td>(348, 172)</td>\n    </tr>\n    <tr>\n      <th>11</th>\n      <td>Ratings</td>\n      <td>Capturing Original Shape</td>\n      <td>N/A</td>\n      <td>(123678, 21)</td>\n    </tr>\n    <tr>\n      <th>12</th>\n      <td>Ratings</td>\n      <td>Trim Rows by GSector == 30</td>\n      <td>All</td>\n      <td>(17902, 21)</td>\n    </tr>\n    <tr>\n      <th>13</th>\n      <td>Ratings</td>\n      <td>Dropped obvious low value columns -- 1 -- Date...</td>\n      <td>[city, ggroup, gind, gsector, gsubind, loc, na...</td>\n      <td>(17902, 6)</td>\n    </tr>\n    <tr>\n      <th>14</th>\n      <td>Ratings</td>\n      <td>Dropped Nulls -- 1 -- More than 50% Null -- Dr...</td>\n      <td>[splticrm, spsdrm, spsticrm]</td>\n      <td>(17902, 3)</td>\n    </tr>\n    <tr>\n      <th>15</th>\n      <td>Ratings</td>\n      <td>Group by GVKey</td>\n      <td>[city, ggroup, gind, gsector, gsubind, loc, na...</td>\n      <td>(452, 3)</td>\n    </tr>\n    <tr>\n      <th>16</th>\n      <td>Securities</td>\n      <td>Capturing Original Shape</td>\n      <td>N/A</td>\n      <td>(32382, 56)</td>\n    </tr>\n    <tr>\n      <th>17</th>\n      <td>Securities</td>\n      <td>Dropped obvious low value columns -- 1 -- Date...</td>\n      <td>[Unnamed: 0, conm, city, conml, cyear, ggroup,...</td>\n      <td>(32382, 43)</td>\n    </tr>\n    <tr>\n      <th>18</th>\n      <td>Securities</td>\n      <td>Dropped Nulls -- 1 -- More than 20% Null</td>\n      <td>[isalrt, spgim, spiim, spmim, cheqvm, curcddvm...</td>\n      <td>(32382, 20)</td>\n    </tr>\n    <tr>\n      <th>19</th>\n      <td>Securities</td>\n      <td>Dropping Columns w/ Only 2 values</td>\n      <td>[primiss, curcdm, mkvalincl, costat]</td>\n      <td>(32382, 16)</td>\n    </tr>\n    <tr>\n      <th>20</th>\n      <td>Securities</td>\n      <td>Manual Drop -- 2 -- Low value or duplicated by...</td>\n      <td>[iid, tic, cmth, exchg, tpci, cshtrm, prccm, p...</td>\n      <td>(32382, 6)</td>\n    </tr>\n    <tr>\n      <th>21</th>\n      <td>Securities</td>\n      <td>Group by GVKey</td>\n      <td>[iid, tic, cmth, exchg, tpci, cshtrm, prccm, p...</td>\n      <td>(690, 7)</td>\n    </tr>\n    <tr>\n      <th>22</th>\n      <td>Stocks</td>\n      <td>Capturing Original Shape</td>\n      <td>N/A</td>\n      <td>(673564, 77)</td>\n    </tr>\n    <tr>\n      <th>23</th>\n      <td>Stocks</td>\n      <td>Dropped Nulls -- 1 -- More than 20% Null</td>\n      <td>[curcddv, capgn, cheqv, div, divd, divdpaydate...</td>\n      <td>(673564, 40)</td>\n    </tr>\n    <tr>\n      <th>24</th>\n      <td>Stocks</td>\n      <td>Dropped obvious low value columns -- 1 -- Date...</td>\n      <td>[Unnamed: 0, tic, conm, curcdd, fic, add1, add...</td>\n      <td>(673564, 16)</td>\n    </tr>\n    <tr>\n      <th>25</th>\n      <td>Stocks</td>\n      <td>Dropping Columns w/ Only 2 values</td>\n      <td>[secstat, costat, stko]</td>\n      <td>(673564, 13)</td>\n    </tr>\n    <tr>\n      <th>26</th>\n      <td>Stocks</td>\n      <td>Manual Drop -- 2 -- Low value or duplicated by...</td>\n      <td>[iid, exchg, tpci, cik, cshtrd, ajexdi, trfd]</td>\n      <td>(673564, 6)</td>\n    </tr>\n  </tbody>\n</table>\n</div>"
     },
     "execution_count": 934,
     "metadata": {},
     "output_type": "execute_result"
    }
   ],
   "source": [
    "# Drop Obvious Un-needed 2\n",
    "cleanActionsDesc = \"Manual Drop -- 2 -- Low value or duplicated by other datasets\"\n",
    "df_name = \"Stocks\"\n",
    "\n",
    "colsToDrop = ['iid','exchg','tpci','cik','cshtrd', # low value variables\n",
    "              'ajexdi','trfd' # Duplicative of Securities Dataset\n",
    "              ]\n",
    "\n",
    "stocks = stocks.drop(columns=colsToDrop)\n",
    "cleanActionsReport(stocks,df_name,cleanActionsDesc,colsToDrop)\n"
   ],
   "metadata": {
    "collapsed": false,
    "pycharm": {
     "name": "#%%\n"
    }
   }
  },
  {
   "cell_type": "code",
   "execution_count": 935,
   "outputs": [],
   "source": [
    "# Group By Prep\n",
    "## Insert STD cols\n",
    "stocks.insert(3,\"cshoc_std\", 0)\n",
    "stocks['cshoc_std'] = stocks['cshoc']\n",
    "\n",
    "stocks.insert(6,\"prccd_std\", 0)\n",
    "stocks['prccd_std'] = stocks['prccd']\n",
    "\n",
    "stocks.insert(7,\"prc_start\", 0)\n",
    "stocks['prc_start'] = stocks['prccd']\n",
    "\n",
    "stocks.insert(8,\"prc_end\", 0)\n",
    "stocks['prc_end'] = stocks['prccd']\n",
    "\n",
    "## Rename columns\n",
    "stocks = stocks.rename(columns={'cshoc':'cshoc_med',\n",
    "                                'prchd':'prc_at_high','prcld':'prc_at_low',\n",
    "                                'prccd':'prccd_mean'})"
   ],
   "metadata": {
    "collapsed": false,
    "pycharm": {
     "name": "#%%\n"
    }
   }
  },
  {
   "cell_type": "code",
   "source": [
    "# Group by GVKey\n",
    "stocks = stocks.groupby('gvkey')\\\n",
    "    .agg({'cshoc_med':'median','cshoc_std':'std',\n",
    "          'prccd_mean':'mean','prccd_std':'std',\n",
    "          'prc_start':'first','prc_end':'last',\n",
    "          'prc_at_high':'max','prc_at_low':'min'}).reset_index()\n",
    "\n",
    "# Call Clean Report Function\n",
    "cleanActionsDesc = \"Group by GVKey\"\n",
    "df_name = \"Stocks\"\n",
    "\n",
    "cleanActionsReport(stocks,df_name,cleanActionsDesc,colsToDrop)"
   ],
   "metadata": {
    "collapsed": false,
    "pycharm": {
     "name": "#%%\n"
    }
   },
   "execution_count": 936,
   "outputs": [
    {
     "data": {
      "text/plain": "              DF                                         ActionDesc  \\\n0   Fundamentals  Dropped obvious low value columns -- 1 -- Date...   \n1   Fundamentals  Initial Null Drop -- columns w/ 63% Null or more.   \n2   Fundamentals          Dropped columns with only 1 unique value    \n3   Fundamentals  Dropping all that are not standard statements ...   \n4   Fundamentals   Second Null Drop -- columns w/ 20% Null or more.   \n5   Fundamentals                  Dropping Columns w/ Only 2 values   \n6   Fundamentals  Second Manual Column Reduce - Dropping Identif...   \n7   Fundamentals  Third Manual Column Reduce  - Targetted Reduce...   \n8   Fundamentals  Summary Features  - Used to create features, t...   \n9   Fundamentals                                     Group by GVKey   \n10  Fundamentals                              Join Restatement Data   \n11       Ratings                           Capturing Original Shape   \n12       Ratings                         Trim Rows by GSector == 30   \n13       Ratings  Dropped obvious low value columns -- 1 -- Date...   \n14       Ratings  Dropped Nulls -- 1 -- More than 50% Null -- Dr...   \n15       Ratings                                     Group by GVKey   \n16    Securities                           Capturing Original Shape   \n17    Securities  Dropped obvious low value columns -- 1 -- Date...   \n18    Securities           Dropped Nulls -- 1 -- More than 20% Null   \n19    Securities                  Dropping Columns w/ Only 2 values   \n20    Securities  Manual Drop -- 2 -- Low value or duplicated by...   \n21    Securities                                     Group by GVKey   \n22        Stocks                           Capturing Original Shape   \n23        Stocks           Dropped Nulls -- 1 -- More than 20% Null   \n24        Stocks  Dropped obvious low value columns -- 1 -- Date...   \n25        Stocks                  Dropping Columns w/ Only 2 values   \n26        Stocks  Manual Drop -- 2 -- Low value or duplicated by...   \n27        Stocks                                     Group by GVKey   \n\n                                         List-of-Cols   ResultShape  \n0   [datadate, apdedate, fdate, pdate, fyr, add1, ...  (2323, 1744)  \n1   [acctchg, acqmeth, adrr, bspr, compst, curuscn...   (2323, 326)  \n2   [indfmt, consol, popsrc, curcd, final, scf, ac...   (2323, 310)  \n3    applies to all cols, roughly 50% of rows dropped   (1243, 310)  \n4   [cld2, cld3, cld4, cld5, cshr, dd3, dd4, dd5, ...   (1243, 265)  \n5   [datafmt, ismod, upd, rdip, rdipa, rdipd, rdip...   (1243, 250)  \n6   [Unnamed: 0, conm, au, auopic, pddur, dpact_fn...   (1243, 240)  \n7   [lco, lcox, lcoxdr, lo, loxdr, mib, mibn, ppev...    (1243, 92)  \n8                      [drc, drlt, rea, reajo, recta]    (1243, 88)  \n9                                                 All    (348, 167)  \n10                                   Restatement Cols    (348, 172)  \n11                                                N/A  (123678, 21)  \n12                                                All   (17902, 21)  \n13  [city, ggroup, gind, gsector, gsubind, loc, na...    (17902, 6)  \n14                       [splticrm, spsdrm, spsticrm]    (17902, 3)  \n15  [city, ggroup, gind, gsector, gsubind, loc, na...      (452, 3)  \n16                                                N/A   (32382, 56)  \n17  [Unnamed: 0, conm, city, conml, cyear, ggroup,...   (32382, 43)  \n18  [isalrt, spgim, spiim, spmim, cheqvm, curcddvm...   (32382, 20)  \n19               [primiss, curcdm, mkvalincl, costat]   (32382, 16)  \n20  [iid, tic, cmth, exchg, tpci, cshtrm, prccm, p...    (32382, 6)  \n21  [iid, tic, cmth, exchg, tpci, cshtrm, prccm, p...      (690, 7)  \n22                                                N/A  (673564, 77)  \n23  [curcddv, capgn, cheqv, div, divd, divdpaydate...  (673564, 40)  \n24  [Unnamed: 0, tic, conm, curcdd, fic, add1, add...  (673564, 16)  \n25                            [secstat, costat, stko]  (673564, 13)  \n26      [iid, exchg, tpci, cik, cshtrd, ajexdi, trfd]   (673564, 6)  \n27      [iid, exchg, tpci, cik, cshtrd, ajexdi, trfd]      (689, 9)  ",
      "text/html": "<div>\n<style scoped>\n    .dataframe tbody tr th:only-of-type {\n        vertical-align: middle;\n    }\n\n    .dataframe tbody tr th {\n        vertical-align: top;\n    }\n\n    .dataframe thead th {\n        text-align: right;\n    }\n</style>\n<table border=\"1\" class=\"dataframe\">\n  <thead>\n    <tr style=\"text-align: right;\">\n      <th></th>\n      <th>DF</th>\n      <th>ActionDesc</th>\n      <th>List-of-Cols</th>\n      <th>ResultShape</th>\n    </tr>\n  </thead>\n  <tbody>\n    <tr>\n      <th>0</th>\n      <td>Fundamentals</td>\n      <td>Dropped obvious low value columns -- 1 -- Date...</td>\n      <td>[datadate, apdedate, fdate, pdate, fyr, add1, ...</td>\n      <td>(2323, 1744)</td>\n    </tr>\n    <tr>\n      <th>1</th>\n      <td>Fundamentals</td>\n      <td>Initial Null Drop -- columns w/ 63% Null or more.</td>\n      <td>[acctchg, acqmeth, adrr, bspr, compst, curuscn...</td>\n      <td>(2323, 326)</td>\n    </tr>\n    <tr>\n      <th>2</th>\n      <td>Fundamentals</td>\n      <td>Dropped columns with only 1 unique value</td>\n      <td>[indfmt, consol, popsrc, curcd, final, scf, ac...</td>\n      <td>(2323, 310)</td>\n    </tr>\n    <tr>\n      <th>3</th>\n      <td>Fundamentals</td>\n      <td>Dropping all that are not standard statements ...</td>\n      <td>applies to all cols, roughly 50% of rows dropped</td>\n      <td>(1243, 310)</td>\n    </tr>\n    <tr>\n      <th>4</th>\n      <td>Fundamentals</td>\n      <td>Second Null Drop -- columns w/ 20% Null or more.</td>\n      <td>[cld2, cld3, cld4, cld5, cshr, dd3, dd4, dd5, ...</td>\n      <td>(1243, 265)</td>\n    </tr>\n    <tr>\n      <th>5</th>\n      <td>Fundamentals</td>\n      <td>Dropping Columns w/ Only 2 values</td>\n      <td>[datafmt, ismod, upd, rdip, rdipa, rdipd, rdip...</td>\n      <td>(1243, 250)</td>\n    </tr>\n    <tr>\n      <th>6</th>\n      <td>Fundamentals</td>\n      <td>Second Manual Column Reduce - Dropping Identif...</td>\n      <td>[Unnamed: 0, conm, au, auopic, pddur, dpact_fn...</td>\n      <td>(1243, 240)</td>\n    </tr>\n    <tr>\n      <th>7</th>\n      <td>Fundamentals</td>\n      <td>Third Manual Column Reduce  - Targetted Reduce...</td>\n      <td>[lco, lcox, lcoxdr, lo, loxdr, mib, mibn, ppev...</td>\n      <td>(1243, 92)</td>\n    </tr>\n    <tr>\n      <th>8</th>\n      <td>Fundamentals</td>\n      <td>Summary Features  - Used to create features, t...</td>\n      <td>[drc, drlt, rea, reajo, recta]</td>\n      <td>(1243, 88)</td>\n    </tr>\n    <tr>\n      <th>9</th>\n      <td>Fundamentals</td>\n      <td>Group by GVKey</td>\n      <td>All</td>\n      <td>(348, 167)</td>\n    </tr>\n    <tr>\n      <th>10</th>\n      <td>Fundamentals</td>\n      <td>Join Restatement Data</td>\n      <td>Restatement Cols</td>\n      <td>(348, 172)</td>\n    </tr>\n    <tr>\n      <th>11</th>\n      <td>Ratings</td>\n      <td>Capturing Original Shape</td>\n      <td>N/A</td>\n      <td>(123678, 21)</td>\n    </tr>\n    <tr>\n      <th>12</th>\n      <td>Ratings</td>\n      <td>Trim Rows by GSector == 30</td>\n      <td>All</td>\n      <td>(17902, 21)</td>\n    </tr>\n    <tr>\n      <th>13</th>\n      <td>Ratings</td>\n      <td>Dropped obvious low value columns -- 1 -- Date...</td>\n      <td>[city, ggroup, gind, gsector, gsubind, loc, na...</td>\n      <td>(17902, 6)</td>\n    </tr>\n    <tr>\n      <th>14</th>\n      <td>Ratings</td>\n      <td>Dropped Nulls -- 1 -- More than 50% Null -- Dr...</td>\n      <td>[splticrm, spsdrm, spsticrm]</td>\n      <td>(17902, 3)</td>\n    </tr>\n    <tr>\n      <th>15</th>\n      <td>Ratings</td>\n      <td>Group by GVKey</td>\n      <td>[city, ggroup, gind, gsector, gsubind, loc, na...</td>\n      <td>(452, 3)</td>\n    </tr>\n    <tr>\n      <th>16</th>\n      <td>Securities</td>\n      <td>Capturing Original Shape</td>\n      <td>N/A</td>\n      <td>(32382, 56)</td>\n    </tr>\n    <tr>\n      <th>17</th>\n      <td>Securities</td>\n      <td>Dropped obvious low value columns -- 1 -- Date...</td>\n      <td>[Unnamed: 0, conm, city, conml, cyear, ggroup,...</td>\n      <td>(32382, 43)</td>\n    </tr>\n    <tr>\n      <th>18</th>\n      <td>Securities</td>\n      <td>Dropped Nulls -- 1 -- More than 20% Null</td>\n      <td>[isalrt, spgim, spiim, spmim, cheqvm, curcddvm...</td>\n      <td>(32382, 20)</td>\n    </tr>\n    <tr>\n      <th>19</th>\n      <td>Securities</td>\n      <td>Dropping Columns w/ Only 2 values</td>\n      <td>[primiss, curcdm, mkvalincl, costat]</td>\n      <td>(32382, 16)</td>\n    </tr>\n    <tr>\n      <th>20</th>\n      <td>Securities</td>\n      <td>Manual Drop -- 2 -- Low value or duplicated by...</td>\n      <td>[iid, tic, cmth, exchg, tpci, cshtrm, prccm, p...</td>\n      <td>(32382, 6)</td>\n    </tr>\n    <tr>\n      <th>21</th>\n      <td>Securities</td>\n      <td>Group by GVKey</td>\n      <td>[iid, tic, cmth, exchg, tpci, cshtrm, prccm, p...</td>\n      <td>(690, 7)</td>\n    </tr>\n    <tr>\n      <th>22</th>\n      <td>Stocks</td>\n      <td>Capturing Original Shape</td>\n      <td>N/A</td>\n      <td>(673564, 77)</td>\n    </tr>\n    <tr>\n      <th>23</th>\n      <td>Stocks</td>\n      <td>Dropped Nulls -- 1 -- More than 20% Null</td>\n      <td>[curcddv, capgn, cheqv, div, divd, divdpaydate...</td>\n      <td>(673564, 40)</td>\n    </tr>\n    <tr>\n      <th>24</th>\n      <td>Stocks</td>\n      <td>Dropped obvious low value columns -- 1 -- Date...</td>\n      <td>[Unnamed: 0, tic, conm, curcdd, fic, add1, add...</td>\n      <td>(673564, 16)</td>\n    </tr>\n    <tr>\n      <th>25</th>\n      <td>Stocks</td>\n      <td>Dropping Columns w/ Only 2 values</td>\n      <td>[secstat, costat, stko]</td>\n      <td>(673564, 13)</td>\n    </tr>\n    <tr>\n      <th>26</th>\n      <td>Stocks</td>\n      <td>Manual Drop -- 2 -- Low value or duplicated by...</td>\n      <td>[iid, exchg, tpci, cik, cshtrd, ajexdi, trfd]</td>\n      <td>(673564, 6)</td>\n    </tr>\n    <tr>\n      <th>27</th>\n      <td>Stocks</td>\n      <td>Group by GVKey</td>\n      <td>[iid, exchg, tpci, cik, cshtrd, ajexdi, trfd]</td>\n      <td>(689, 9)</td>\n    </tr>\n  </tbody>\n</table>\n</div>"
     },
     "execution_count": 936,
     "metadata": {},
     "output_type": "execute_result"
    }
   ]
  },
  {
   "cell_type": "code",
   "execution_count": 937,
   "outputs": [],
   "source": [
    "# Round Variables\n",
    "colsToRound = ['cshoc_med','cshoc_std','prccd_mean','prccd_std','prc_start','prc_end',\n",
    "               'prc_at_high','prc_at_low']\n",
    "\n",
    "for col in colsToRound:\n",
    "    stocks[col] = round(stocks[col],2)\n"
   ],
   "metadata": {
    "collapsed": false,
    "pycharm": {
     "name": "#%%\n"
    }
   }
  },
  {
   "cell_type": "code",
   "execution_count": 938,
   "outputs": [
    {
     "data": {
      "text/plain": "              DF                                         ActionDesc  \\\n0   Fundamentals  Dropped obvious low value columns -- 1 -- Date...   \n1   Fundamentals  Initial Null Drop -- columns w/ 63% Null or more.   \n2   Fundamentals          Dropped columns with only 1 unique value    \n3   Fundamentals  Dropping all that are not standard statements ...   \n4   Fundamentals   Second Null Drop -- columns w/ 20% Null or more.   \n5   Fundamentals                  Dropping Columns w/ Only 2 values   \n6   Fundamentals  Second Manual Column Reduce - Dropping Identif...   \n7   Fundamentals  Third Manual Column Reduce  - Targetted Reduce...   \n8   Fundamentals  Summary Features  - Used to create features, t...   \n9   Fundamentals                                     Group by GVKey   \n10  Fundamentals                              Join Restatement Data   \n11       Ratings                           Capturing Original Shape   \n12       Ratings                         Trim Rows by GSector == 30   \n13       Ratings  Dropped obvious low value columns -- 1 -- Date...   \n14       Ratings  Dropped Nulls -- 1 -- More than 50% Null -- Dr...   \n15       Ratings                                     Group by GVKey   \n16    Securities                           Capturing Original Shape   \n17    Securities  Dropped obvious low value columns -- 1 -- Date...   \n18    Securities           Dropped Nulls -- 1 -- More than 20% Null   \n19    Securities                  Dropping Columns w/ Only 2 values   \n20    Securities  Manual Drop -- 2 -- Low value or duplicated by...   \n21    Securities                                     Group by GVKey   \n22        Stocks                           Capturing Original Shape   \n23        Stocks           Dropped Nulls -- 1 -- More than 20% Null   \n24        Stocks  Dropped obvious low value columns -- 1 -- Date...   \n25        Stocks                  Dropping Columns w/ Only 2 values   \n26        Stocks  Manual Drop -- 2 -- Low value or duplicated by...   \n27        Stocks                                     Group by GVKey   \n28        Stocks  Add Calculated Fields -- replace variables no ...   \n\n                                         List-of-Cols   ResultShape  \n0   [datadate, apdedate, fdate, pdate, fyr, add1, ...  (2323, 1744)  \n1   [acctchg, acqmeth, adrr, bspr, compst, curuscn...   (2323, 326)  \n2   [indfmt, consol, popsrc, curcd, final, scf, ac...   (2323, 310)  \n3    applies to all cols, roughly 50% of rows dropped   (1243, 310)  \n4   [cld2, cld3, cld4, cld5, cshr, dd3, dd4, dd5, ...   (1243, 265)  \n5   [datafmt, ismod, upd, rdip, rdipa, rdipd, rdip...   (1243, 250)  \n6   [Unnamed: 0, conm, au, auopic, pddur, dpact_fn...   (1243, 240)  \n7   [lco, lcox, lcoxdr, lo, loxdr, mib, mibn, ppev...    (1243, 92)  \n8                      [drc, drlt, rea, reajo, recta]    (1243, 88)  \n9                                                 All    (348, 167)  \n10                                   Restatement Cols    (348, 172)  \n11                                                N/A  (123678, 21)  \n12                                                All   (17902, 21)  \n13  [city, ggroup, gind, gsector, gsubind, loc, na...    (17902, 6)  \n14                       [splticrm, spsdrm, spsticrm]    (17902, 3)  \n15  [city, ggroup, gind, gsector, gsubind, loc, na...      (452, 3)  \n16                                                N/A   (32382, 56)  \n17  [Unnamed: 0, conm, city, conml, cyear, ggroup,...   (32382, 43)  \n18  [isalrt, spgim, spiim, spmim, cheqvm, curcddvm...   (32382, 20)  \n19               [primiss, curcdm, mkvalincl, costat]   (32382, 16)  \n20  [iid, tic, cmth, exchg, tpci, cshtrm, prccm, p...    (32382, 6)  \n21  [iid, tic, cmth, exchg, tpci, cshtrm, prccm, p...      (690, 7)  \n22                                                N/A  (673564, 77)  \n23  [curcddv, capgn, cheqv, div, divd, divdpaydate...  (673564, 40)  \n24  [Unnamed: 0, tic, conm, curcdd, fic, add1, add...  (673564, 16)  \n25                            [secstat, costat, stko]  (673564, 13)  \n26      [iid, exchg, tpci, cik, cshtrd, ajexdi, trfd]   (673564, 6)  \n27      [iid, exchg, tpci, cik, cshtrd, ajexdi, trfd]      (689, 9)  \n28      [iid, exchg, tpci, cik, cshtrd, ajexdi, trfd]      (689, 8)  ",
      "text/html": "<div>\n<style scoped>\n    .dataframe tbody tr th:only-of-type {\n        vertical-align: middle;\n    }\n\n    .dataframe tbody tr th {\n        vertical-align: top;\n    }\n\n    .dataframe thead th {\n        text-align: right;\n    }\n</style>\n<table border=\"1\" class=\"dataframe\">\n  <thead>\n    <tr style=\"text-align: right;\">\n      <th></th>\n      <th>DF</th>\n      <th>ActionDesc</th>\n      <th>List-of-Cols</th>\n      <th>ResultShape</th>\n    </tr>\n  </thead>\n  <tbody>\n    <tr>\n      <th>0</th>\n      <td>Fundamentals</td>\n      <td>Dropped obvious low value columns -- 1 -- Date...</td>\n      <td>[datadate, apdedate, fdate, pdate, fyr, add1, ...</td>\n      <td>(2323, 1744)</td>\n    </tr>\n    <tr>\n      <th>1</th>\n      <td>Fundamentals</td>\n      <td>Initial Null Drop -- columns w/ 63% Null or more.</td>\n      <td>[acctchg, acqmeth, adrr, bspr, compst, curuscn...</td>\n      <td>(2323, 326)</td>\n    </tr>\n    <tr>\n      <th>2</th>\n      <td>Fundamentals</td>\n      <td>Dropped columns with only 1 unique value</td>\n      <td>[indfmt, consol, popsrc, curcd, final, scf, ac...</td>\n      <td>(2323, 310)</td>\n    </tr>\n    <tr>\n      <th>3</th>\n      <td>Fundamentals</td>\n      <td>Dropping all that are not standard statements ...</td>\n      <td>applies to all cols, roughly 50% of rows dropped</td>\n      <td>(1243, 310)</td>\n    </tr>\n    <tr>\n      <th>4</th>\n      <td>Fundamentals</td>\n      <td>Second Null Drop -- columns w/ 20% Null or more.</td>\n      <td>[cld2, cld3, cld4, cld5, cshr, dd3, dd4, dd5, ...</td>\n      <td>(1243, 265)</td>\n    </tr>\n    <tr>\n      <th>5</th>\n      <td>Fundamentals</td>\n      <td>Dropping Columns w/ Only 2 values</td>\n      <td>[datafmt, ismod, upd, rdip, rdipa, rdipd, rdip...</td>\n      <td>(1243, 250)</td>\n    </tr>\n    <tr>\n      <th>6</th>\n      <td>Fundamentals</td>\n      <td>Second Manual Column Reduce - Dropping Identif...</td>\n      <td>[Unnamed: 0, conm, au, auopic, pddur, dpact_fn...</td>\n      <td>(1243, 240)</td>\n    </tr>\n    <tr>\n      <th>7</th>\n      <td>Fundamentals</td>\n      <td>Third Manual Column Reduce  - Targetted Reduce...</td>\n      <td>[lco, lcox, lcoxdr, lo, loxdr, mib, mibn, ppev...</td>\n      <td>(1243, 92)</td>\n    </tr>\n    <tr>\n      <th>8</th>\n      <td>Fundamentals</td>\n      <td>Summary Features  - Used to create features, t...</td>\n      <td>[drc, drlt, rea, reajo, recta]</td>\n      <td>(1243, 88)</td>\n    </tr>\n    <tr>\n      <th>9</th>\n      <td>Fundamentals</td>\n      <td>Group by GVKey</td>\n      <td>All</td>\n      <td>(348, 167)</td>\n    </tr>\n    <tr>\n      <th>10</th>\n      <td>Fundamentals</td>\n      <td>Join Restatement Data</td>\n      <td>Restatement Cols</td>\n      <td>(348, 172)</td>\n    </tr>\n    <tr>\n      <th>11</th>\n      <td>Ratings</td>\n      <td>Capturing Original Shape</td>\n      <td>N/A</td>\n      <td>(123678, 21)</td>\n    </tr>\n    <tr>\n      <th>12</th>\n      <td>Ratings</td>\n      <td>Trim Rows by GSector == 30</td>\n      <td>All</td>\n      <td>(17902, 21)</td>\n    </tr>\n    <tr>\n      <th>13</th>\n      <td>Ratings</td>\n      <td>Dropped obvious low value columns -- 1 -- Date...</td>\n      <td>[city, ggroup, gind, gsector, gsubind, loc, na...</td>\n      <td>(17902, 6)</td>\n    </tr>\n    <tr>\n      <th>14</th>\n      <td>Ratings</td>\n      <td>Dropped Nulls -- 1 -- More than 50% Null -- Dr...</td>\n      <td>[splticrm, spsdrm, spsticrm]</td>\n      <td>(17902, 3)</td>\n    </tr>\n    <tr>\n      <th>15</th>\n      <td>Ratings</td>\n      <td>Group by GVKey</td>\n      <td>[city, ggroup, gind, gsector, gsubind, loc, na...</td>\n      <td>(452, 3)</td>\n    </tr>\n    <tr>\n      <th>16</th>\n      <td>Securities</td>\n      <td>Capturing Original Shape</td>\n      <td>N/A</td>\n      <td>(32382, 56)</td>\n    </tr>\n    <tr>\n      <th>17</th>\n      <td>Securities</td>\n      <td>Dropped obvious low value columns -- 1 -- Date...</td>\n      <td>[Unnamed: 0, conm, city, conml, cyear, ggroup,...</td>\n      <td>(32382, 43)</td>\n    </tr>\n    <tr>\n      <th>18</th>\n      <td>Securities</td>\n      <td>Dropped Nulls -- 1 -- More than 20% Null</td>\n      <td>[isalrt, spgim, spiim, spmim, cheqvm, curcddvm...</td>\n      <td>(32382, 20)</td>\n    </tr>\n    <tr>\n      <th>19</th>\n      <td>Securities</td>\n      <td>Dropping Columns w/ Only 2 values</td>\n      <td>[primiss, curcdm, mkvalincl, costat]</td>\n      <td>(32382, 16)</td>\n    </tr>\n    <tr>\n      <th>20</th>\n      <td>Securities</td>\n      <td>Manual Drop -- 2 -- Low value or duplicated by...</td>\n      <td>[iid, tic, cmth, exchg, tpci, cshtrm, prccm, p...</td>\n      <td>(32382, 6)</td>\n    </tr>\n    <tr>\n      <th>21</th>\n      <td>Securities</td>\n      <td>Group by GVKey</td>\n      <td>[iid, tic, cmth, exchg, tpci, cshtrm, prccm, p...</td>\n      <td>(690, 7)</td>\n    </tr>\n    <tr>\n      <th>22</th>\n      <td>Stocks</td>\n      <td>Capturing Original Shape</td>\n      <td>N/A</td>\n      <td>(673564, 77)</td>\n    </tr>\n    <tr>\n      <th>23</th>\n      <td>Stocks</td>\n      <td>Dropped Nulls -- 1 -- More than 20% Null</td>\n      <td>[curcddv, capgn, cheqv, div, divd, divdpaydate...</td>\n      <td>(673564, 40)</td>\n    </tr>\n    <tr>\n      <th>24</th>\n      <td>Stocks</td>\n      <td>Dropped obvious low value columns -- 1 -- Date...</td>\n      <td>[Unnamed: 0, tic, conm, curcdd, fic, add1, add...</td>\n      <td>(673564, 16)</td>\n    </tr>\n    <tr>\n      <th>25</th>\n      <td>Stocks</td>\n      <td>Dropping Columns w/ Only 2 values</td>\n      <td>[secstat, costat, stko]</td>\n      <td>(673564, 13)</td>\n    </tr>\n    <tr>\n      <th>26</th>\n      <td>Stocks</td>\n      <td>Manual Drop -- 2 -- Low value or duplicated by...</td>\n      <td>[iid, exchg, tpci, cik, cshtrd, ajexdi, trfd]</td>\n      <td>(673564, 6)</td>\n    </tr>\n    <tr>\n      <th>27</th>\n      <td>Stocks</td>\n      <td>Group by GVKey</td>\n      <td>[iid, exchg, tpci, cik, cshtrd, ajexdi, trfd]</td>\n      <td>(689, 9)</td>\n    </tr>\n    <tr>\n      <th>28</th>\n      <td>Stocks</td>\n      <td>Add Calculated Fields -- replace variables no ...</td>\n      <td>[iid, exchg, tpci, cik, cshtrd, ajexdi, trfd]</td>\n      <td>(689, 8)</td>\n    </tr>\n  </tbody>\n</table>\n</div>"
     },
     "execution_count": 938,
     "metadata": {},
     "output_type": "execute_result"
    }
   ],
   "source": [
    "# reduce to a few calculated Fields\n",
    "\n",
    "## 1 -- percent growth from start to end\n",
    "\n",
    "stocks['diff'] = stocks['prc_end'] - stocks['prc_start']\n",
    "stocks['per_growth'] = round(stocks['diff'] / stocks['prc_start'],2)\n",
    "\n",
    "## 2 -- percent of most recent closing to max\n",
    "stocks['per_currentToMax'] = round(stocks['prc_end'] / stocks['prc_at_high'],2)\n",
    "\n",
    "## 3  -- percent of low to starting\n",
    "stocks['per_lowToStart'] = round((stocks['prc_at_low'] / stocks['prc_start']-1),2)\n",
    "\n",
    "## 4 -- Volatility: std as % of mean\n",
    "stocks['volatility'] = round(stocks['prccd_std'] / stocks['prccd_mean'],2)\n",
    "\n",
    "## drop other price vars no longer needed\n",
    "stocks = stocks.drop(columns=['prccd_mean','prccd_std','prc_start','prc_at_high','prc_at_low','diff'])\n",
    "\n",
    "# Call Clean Report Function\n",
    "cleanActionsDesc = \"Add Calculated Fields -- replace variables no longer needed\"\n",
    "df_name = \"Stocks\"\n",
    "\n",
    "cleanActionsReport(stocks,df_name,cleanActionsDesc,colsToDrop)"
   ],
   "metadata": {
    "collapsed": false,
    "pycharm": {
     "name": "#%%\n"
    }
   }
  },
  {
   "cell_type": "markdown",
   "source": [
    "### Stocks -- Data Dictionary"
   ],
   "metadata": {
    "collapsed": false
   }
  },
  {
   "cell_type": "code",
   "execution_count": 939,
   "outputs": [
    {
     "data": {
      "text/plain": "    Mnemonic                            Definition  Exists\n0      gvkey                    Global Company Key     1.0\n1        iid                  Issue ID - Dividends     0.0\n2   datadate                 Data Date - Dividends     0.0\n3        tic                         Ticker Symbol     0.0\n4      cusip                                 CUSIP     0.0\n..       ...                                   ...     ...\n71     state                        State/Province     0.0\n72      stko                  Stock Ownership Code     0.0\n73    weburl                               Web URL     0.0\n74     dldte        Research Company Deletion Date     0.0\n75   ipodate  Company Initial Public Offering Date     0.0\n\n[76 rows x 3 columns]",
      "text/html": "<div>\n<style scoped>\n    .dataframe tbody tr th:only-of-type {\n        vertical-align: middle;\n    }\n\n    .dataframe tbody tr th {\n        vertical-align: top;\n    }\n\n    .dataframe thead th {\n        text-align: right;\n    }\n</style>\n<table border=\"1\" class=\"dataframe\">\n  <thead>\n    <tr style=\"text-align: right;\">\n      <th></th>\n      <th>Mnemonic</th>\n      <th>Definition</th>\n      <th>Exists</th>\n    </tr>\n  </thead>\n  <tbody>\n    <tr>\n      <th>0</th>\n      <td>gvkey</td>\n      <td>Global Company Key</td>\n      <td>1.0</td>\n    </tr>\n    <tr>\n      <th>1</th>\n      <td>iid</td>\n      <td>Issue ID - Dividends</td>\n      <td>0.0</td>\n    </tr>\n    <tr>\n      <th>2</th>\n      <td>datadate</td>\n      <td>Data Date - Dividends</td>\n      <td>0.0</td>\n    </tr>\n    <tr>\n      <th>3</th>\n      <td>tic</td>\n      <td>Ticker Symbol</td>\n      <td>0.0</td>\n    </tr>\n    <tr>\n      <th>4</th>\n      <td>cusip</td>\n      <td>CUSIP</td>\n      <td>0.0</td>\n    </tr>\n    <tr>\n      <th>...</th>\n      <td>...</td>\n      <td>...</td>\n      <td>...</td>\n    </tr>\n    <tr>\n      <th>71</th>\n      <td>state</td>\n      <td>State/Province</td>\n      <td>0.0</td>\n    </tr>\n    <tr>\n      <th>72</th>\n      <td>stko</td>\n      <td>Stock Ownership Code</td>\n      <td>0.0</td>\n    </tr>\n    <tr>\n      <th>73</th>\n      <td>weburl</td>\n      <td>Web URL</td>\n      <td>0.0</td>\n    </tr>\n    <tr>\n      <th>74</th>\n      <td>dldte</td>\n      <td>Research Company Deletion Date</td>\n      <td>0.0</td>\n    </tr>\n    <tr>\n      <th>75</th>\n      <td>ipodate</td>\n      <td>Company Initial Public Offering Date</td>\n      <td>0.0</td>\n    </tr>\n  </tbody>\n</table>\n<p>76 rows × 3 columns</p>\n</div>"
     },
     "execution_count": 939,
     "metadata": {},
     "output_type": "execute_result"
    }
   ],
   "source": [
    "# Stocks Data Dictionary -- Add Column if Still Exists\n",
    "\n",
    "remainingFeatures_stocks = stocks.columns.values.tolist()\n",
    "remainingFeatures_stocks= pd.DataFrame(remainingFeatures_stocks)\n",
    "remainingFeatures_stocks['Exists'] = 1\n",
    "remainingFeatures_stocks = remainingFeatures_stocks.rename(columns={0:'Mnemonic'})\n",
    "\n",
    "stocksDataDict = stocks_DD.merge(remainingFeatures_stocks, on='Mnemonic', how='left')\n",
    "stocksDataDict['Exists'] = stocksDataDict['Exists'].fillna(0)\n",
    "stocksDataDict"
   ],
   "metadata": {
    "collapsed": false,
    "pycharm": {
     "name": "#%%\n"
    }
   }
  },
  {
   "cell_type": "code",
   "execution_count": 940,
   "outputs": [],
   "source": [
    "with pd.ExcelWriter(exportPath + 'Stocks_DD_wRemaining.xlsx') as writer:\n",
    "    stocksDataDict.to_excel(writer, sheet_name='Stocks_Remaining')\n"
   ],
   "metadata": {
    "collapsed": false,
    "pycharm": {
     "name": "#%%\n"
    }
   }
  },
  {
   "cell_type": "markdown",
   "source": [
    "## SCA Filings"
   ],
   "metadata": {
    "collapsed": false
   }
  },
  {
   "cell_type": "code",
   "execution_count": 941,
   "outputs": [
    {
     "data": {
      "text/plain": "              DF                                         ActionDesc  \\\n0   Fundamentals  Dropped obvious low value columns -- 1 -- Date...   \n1   Fundamentals  Initial Null Drop -- columns w/ 63% Null or more.   \n2   Fundamentals          Dropped columns with only 1 unique value    \n3   Fundamentals  Dropping all that are not standard statements ...   \n4   Fundamentals   Second Null Drop -- columns w/ 20% Null or more.   \n5   Fundamentals                  Dropping Columns w/ Only 2 values   \n6   Fundamentals  Second Manual Column Reduce - Dropping Identif...   \n7   Fundamentals  Third Manual Column Reduce  - Targetted Reduce...   \n8   Fundamentals  Summary Features  - Used to create features, t...   \n9   Fundamentals                                     Group by GVKey   \n10  Fundamentals                              Join Restatement Data   \n11       Ratings                           Capturing Original Shape   \n12       Ratings                         Trim Rows by GSector == 30   \n13       Ratings  Dropped obvious low value columns -- 1 -- Date...   \n14       Ratings  Dropped Nulls -- 1 -- More than 50% Null -- Dr...   \n15       Ratings                                     Group by GVKey   \n16    Securities                           Capturing Original Shape   \n17    Securities  Dropped obvious low value columns -- 1 -- Date...   \n18    Securities           Dropped Nulls -- 1 -- More than 20% Null   \n19    Securities                  Dropping Columns w/ Only 2 values   \n20    Securities  Manual Drop -- 2 -- Low value or duplicated by...   \n21    Securities                                     Group by GVKey   \n22        Stocks                           Capturing Original Shape   \n23        Stocks           Dropped Nulls -- 1 -- More than 20% Null   \n24        Stocks  Dropped obvious low value columns -- 1 -- Date...   \n25        Stocks                  Dropping Columns w/ Only 2 values   \n26        Stocks  Manual Drop -- 2 -- Low value or duplicated by...   \n27        Stocks                                     Group by GVKey   \n28        Stocks  Add Calculated Fields -- replace variables no ...   \n29   SCA_Filings                           Capturing Original Shape   \n\n                                         List-of-Cols   ResultShape  \n0   [datadate, apdedate, fdate, pdate, fyr, add1, ...  (2323, 1744)  \n1   [acctchg, acqmeth, adrr, bspr, compst, curuscn...   (2323, 326)  \n2   [indfmt, consol, popsrc, curcd, final, scf, ac...   (2323, 310)  \n3    applies to all cols, roughly 50% of rows dropped   (1243, 310)  \n4   [cld2, cld3, cld4, cld5, cshr, dd3, dd4, dd5, ...   (1243, 265)  \n5   [datafmt, ismod, upd, rdip, rdipa, rdipd, rdip...   (1243, 250)  \n6   [Unnamed: 0, conm, au, auopic, pddur, dpact_fn...   (1243, 240)  \n7   [lco, lcox, lcoxdr, lo, loxdr, mib, mibn, ppev...    (1243, 92)  \n8                      [drc, drlt, rea, reajo, recta]    (1243, 88)  \n9                                                 All    (348, 167)  \n10                                   Restatement Cols    (348, 172)  \n11                                                N/A  (123678, 21)  \n12                                                All   (17902, 21)  \n13  [city, ggroup, gind, gsector, gsubind, loc, na...    (17902, 6)  \n14                       [splticrm, spsdrm, spsticrm]    (17902, 3)  \n15  [city, ggroup, gind, gsector, gsubind, loc, na...      (452, 3)  \n16                                                N/A   (32382, 56)  \n17  [Unnamed: 0, conm, city, conml, cyear, ggroup,...   (32382, 43)  \n18  [isalrt, spgim, spiim, spmim, cheqvm, curcddvm...   (32382, 20)  \n19               [primiss, curcdm, mkvalincl, costat]   (32382, 16)  \n20  [iid, tic, cmth, exchg, tpci, cshtrm, prccm, p...    (32382, 6)  \n21  [iid, tic, cmth, exchg, tpci, cshtrm, prccm, p...      (690, 7)  \n22                                                N/A  (673564, 77)  \n23  [curcddv, capgn, cheqv, div, divd, divdpaydate...  (673564, 40)  \n24  [Unnamed: 0, tic, conm, curcdd, fic, add1, add...  (673564, 16)  \n25                            [secstat, costat, stko]  (673564, 13)  \n26      [iid, exchg, tpci, cik, cshtrd, ajexdi, trfd]   (673564, 6)  \n27      [iid, exchg, tpci, cik, cshtrd, ajexdi, trfd]      (689, 9)  \n28      [iid, exchg, tpci, cik, cshtrd, ajexdi, trfd]      (689, 8)  \n29                                                N/A     (1892, 6)  ",
      "text/html": "<div>\n<style scoped>\n    .dataframe tbody tr th:only-of-type {\n        vertical-align: middle;\n    }\n\n    .dataframe tbody tr th {\n        vertical-align: top;\n    }\n\n    .dataframe thead th {\n        text-align: right;\n    }\n</style>\n<table border=\"1\" class=\"dataframe\">\n  <thead>\n    <tr style=\"text-align: right;\">\n      <th></th>\n      <th>DF</th>\n      <th>ActionDesc</th>\n      <th>List-of-Cols</th>\n      <th>ResultShape</th>\n    </tr>\n  </thead>\n  <tbody>\n    <tr>\n      <th>0</th>\n      <td>Fundamentals</td>\n      <td>Dropped obvious low value columns -- 1 -- Date...</td>\n      <td>[datadate, apdedate, fdate, pdate, fyr, add1, ...</td>\n      <td>(2323, 1744)</td>\n    </tr>\n    <tr>\n      <th>1</th>\n      <td>Fundamentals</td>\n      <td>Initial Null Drop -- columns w/ 63% Null or more.</td>\n      <td>[acctchg, acqmeth, adrr, bspr, compst, curuscn...</td>\n      <td>(2323, 326)</td>\n    </tr>\n    <tr>\n      <th>2</th>\n      <td>Fundamentals</td>\n      <td>Dropped columns with only 1 unique value</td>\n      <td>[indfmt, consol, popsrc, curcd, final, scf, ac...</td>\n      <td>(2323, 310)</td>\n    </tr>\n    <tr>\n      <th>3</th>\n      <td>Fundamentals</td>\n      <td>Dropping all that are not standard statements ...</td>\n      <td>applies to all cols, roughly 50% of rows dropped</td>\n      <td>(1243, 310)</td>\n    </tr>\n    <tr>\n      <th>4</th>\n      <td>Fundamentals</td>\n      <td>Second Null Drop -- columns w/ 20% Null or more.</td>\n      <td>[cld2, cld3, cld4, cld5, cshr, dd3, dd4, dd5, ...</td>\n      <td>(1243, 265)</td>\n    </tr>\n    <tr>\n      <th>5</th>\n      <td>Fundamentals</td>\n      <td>Dropping Columns w/ Only 2 values</td>\n      <td>[datafmt, ismod, upd, rdip, rdipa, rdipd, rdip...</td>\n      <td>(1243, 250)</td>\n    </tr>\n    <tr>\n      <th>6</th>\n      <td>Fundamentals</td>\n      <td>Second Manual Column Reduce - Dropping Identif...</td>\n      <td>[Unnamed: 0, conm, au, auopic, pddur, dpact_fn...</td>\n      <td>(1243, 240)</td>\n    </tr>\n    <tr>\n      <th>7</th>\n      <td>Fundamentals</td>\n      <td>Third Manual Column Reduce  - Targetted Reduce...</td>\n      <td>[lco, lcox, lcoxdr, lo, loxdr, mib, mibn, ppev...</td>\n      <td>(1243, 92)</td>\n    </tr>\n    <tr>\n      <th>8</th>\n      <td>Fundamentals</td>\n      <td>Summary Features  - Used to create features, t...</td>\n      <td>[drc, drlt, rea, reajo, recta]</td>\n      <td>(1243, 88)</td>\n    </tr>\n    <tr>\n      <th>9</th>\n      <td>Fundamentals</td>\n      <td>Group by GVKey</td>\n      <td>All</td>\n      <td>(348, 167)</td>\n    </tr>\n    <tr>\n      <th>10</th>\n      <td>Fundamentals</td>\n      <td>Join Restatement Data</td>\n      <td>Restatement Cols</td>\n      <td>(348, 172)</td>\n    </tr>\n    <tr>\n      <th>11</th>\n      <td>Ratings</td>\n      <td>Capturing Original Shape</td>\n      <td>N/A</td>\n      <td>(123678, 21)</td>\n    </tr>\n    <tr>\n      <th>12</th>\n      <td>Ratings</td>\n      <td>Trim Rows by GSector == 30</td>\n      <td>All</td>\n      <td>(17902, 21)</td>\n    </tr>\n    <tr>\n      <th>13</th>\n      <td>Ratings</td>\n      <td>Dropped obvious low value columns -- 1 -- Date...</td>\n      <td>[city, ggroup, gind, gsector, gsubind, loc, na...</td>\n      <td>(17902, 6)</td>\n    </tr>\n    <tr>\n      <th>14</th>\n      <td>Ratings</td>\n      <td>Dropped Nulls -- 1 -- More than 50% Null -- Dr...</td>\n      <td>[splticrm, spsdrm, spsticrm]</td>\n      <td>(17902, 3)</td>\n    </tr>\n    <tr>\n      <th>15</th>\n      <td>Ratings</td>\n      <td>Group by GVKey</td>\n      <td>[city, ggroup, gind, gsector, gsubind, loc, na...</td>\n      <td>(452, 3)</td>\n    </tr>\n    <tr>\n      <th>16</th>\n      <td>Securities</td>\n      <td>Capturing Original Shape</td>\n      <td>N/A</td>\n      <td>(32382, 56)</td>\n    </tr>\n    <tr>\n      <th>17</th>\n      <td>Securities</td>\n      <td>Dropped obvious low value columns -- 1 -- Date...</td>\n      <td>[Unnamed: 0, conm, city, conml, cyear, ggroup,...</td>\n      <td>(32382, 43)</td>\n    </tr>\n    <tr>\n      <th>18</th>\n      <td>Securities</td>\n      <td>Dropped Nulls -- 1 -- More than 20% Null</td>\n      <td>[isalrt, spgim, spiim, spmim, cheqvm, curcddvm...</td>\n      <td>(32382, 20)</td>\n    </tr>\n    <tr>\n      <th>19</th>\n      <td>Securities</td>\n      <td>Dropping Columns w/ Only 2 values</td>\n      <td>[primiss, curcdm, mkvalincl, costat]</td>\n      <td>(32382, 16)</td>\n    </tr>\n    <tr>\n      <th>20</th>\n      <td>Securities</td>\n      <td>Manual Drop -- 2 -- Low value or duplicated by...</td>\n      <td>[iid, tic, cmth, exchg, tpci, cshtrm, prccm, p...</td>\n      <td>(32382, 6)</td>\n    </tr>\n    <tr>\n      <th>21</th>\n      <td>Securities</td>\n      <td>Group by GVKey</td>\n      <td>[iid, tic, cmth, exchg, tpci, cshtrm, prccm, p...</td>\n      <td>(690, 7)</td>\n    </tr>\n    <tr>\n      <th>22</th>\n      <td>Stocks</td>\n      <td>Capturing Original Shape</td>\n      <td>N/A</td>\n      <td>(673564, 77)</td>\n    </tr>\n    <tr>\n      <th>23</th>\n      <td>Stocks</td>\n      <td>Dropped Nulls -- 1 -- More than 20% Null</td>\n      <td>[curcddv, capgn, cheqv, div, divd, divdpaydate...</td>\n      <td>(673564, 40)</td>\n    </tr>\n    <tr>\n      <th>24</th>\n      <td>Stocks</td>\n      <td>Dropped obvious low value columns -- 1 -- Date...</td>\n      <td>[Unnamed: 0, tic, conm, curcdd, fic, add1, add...</td>\n      <td>(673564, 16)</td>\n    </tr>\n    <tr>\n      <th>25</th>\n      <td>Stocks</td>\n      <td>Dropping Columns w/ Only 2 values</td>\n      <td>[secstat, costat, stko]</td>\n      <td>(673564, 13)</td>\n    </tr>\n    <tr>\n      <th>26</th>\n      <td>Stocks</td>\n      <td>Manual Drop -- 2 -- Low value or duplicated by...</td>\n      <td>[iid, exchg, tpci, cik, cshtrd, ajexdi, trfd]</td>\n      <td>(673564, 6)</td>\n    </tr>\n    <tr>\n      <th>27</th>\n      <td>Stocks</td>\n      <td>Group by GVKey</td>\n      <td>[iid, exchg, tpci, cik, cshtrd, ajexdi, trfd]</td>\n      <td>(689, 9)</td>\n    </tr>\n    <tr>\n      <th>28</th>\n      <td>Stocks</td>\n      <td>Add Calculated Fields -- replace variables no ...</td>\n      <td>[iid, exchg, tpci, cik, cshtrd, ajexdi, trfd]</td>\n      <td>(689, 8)</td>\n    </tr>\n    <tr>\n      <th>29</th>\n      <td>SCA_Filings</td>\n      <td>Capturing Original Shape</td>\n      <td>N/A</td>\n      <td>(1892, 6)</td>\n    </tr>\n  </tbody>\n</table>\n</div>"
     },
     "execution_count": 941,
     "metadata": {},
     "output_type": "execute_result"
    }
   ],
   "source": [
    "# Seed Clean DF with initial stats\n",
    "cleanActionsDesc = \"Capturing Original Shape\"\n",
    "df_name = \"SCA_Filings\"\n",
    "colText = \"N/A\"\n",
    "\n",
    "cleanActionsReport(sca_filings,df_name,cleanActionsDesc,colText)\n",
    "cleanActionsDF"
   ],
   "metadata": {
    "collapsed": false,
    "pycharm": {
     "name": "#%%\n"
    }
   }
  },
  {
   "cell_type": "code",
   "execution_count": 942,
   "outputs": [
    {
     "data": {
      "text/plain": "                                   FilingName     Exchange Ticker Dismissed  \\\n0                          AAC Holdings, Inc.  New York SE    AAC   Ongoing   \n1                      Airtran Holdings, Inc.  New York SE    AAI       Yes   \n2     Altisource Asset Management Corporation  New York SE   AAMC   Ongoing   \n3                        APPLE Computer, Inc.       NASDAQ   AAPL        No   \n4             Avalanche Biotechnologies, Inc.       NASDAQ   AAVL   Ongoing   \n...                                       ...          ...    ...       ...   \n1887                         Quiksilver, Inc.  New York SE    ZQK   Ongoing   \n1888                        Zoran Corporation       NASDAQ   ZRAN       Yes   \n1889               ZST Digital Networks, Inc.       NASDAQ   ZSTN        No   \n1890                             Zumiez, Inc.       NASDAQ   ZUMZ       Yes   \n1891                              Zynex, Inc.       OTC-BB   ZYXI        No   \n\n     SettlementAmount  FilingYear  \n0              #NULL!        2015  \n1              #NULL!        2011  \n2              #NULL!        2015  \n3            16500000        2006  \n4              #NULL!        2015  \n...               ...         ...  \n1887           #NULL!        2015  \n1888           #NULL!        2006  \n1889          1700000        2011  \n1890           #NULL!        2007  \n1891          2500000        2009  \n\n[1892 rows x 6 columns]",
      "text/html": "<div>\n<style scoped>\n    .dataframe tbody tr th:only-of-type {\n        vertical-align: middle;\n    }\n\n    .dataframe tbody tr th {\n        vertical-align: top;\n    }\n\n    .dataframe thead th {\n        text-align: right;\n    }\n</style>\n<table border=\"1\" class=\"dataframe\">\n  <thead>\n    <tr style=\"text-align: right;\">\n      <th></th>\n      <th>FilingName</th>\n      <th>Exchange</th>\n      <th>Ticker</th>\n      <th>Dismissed</th>\n      <th>SettlementAmount</th>\n      <th>FilingYear</th>\n    </tr>\n  </thead>\n  <tbody>\n    <tr>\n      <th>0</th>\n      <td>AAC Holdings, Inc.</td>\n      <td>New York SE</td>\n      <td>AAC</td>\n      <td>Ongoing</td>\n      <td>#NULL!</td>\n      <td>2015</td>\n    </tr>\n    <tr>\n      <th>1</th>\n      <td>Airtran Holdings, Inc.</td>\n      <td>New York SE</td>\n      <td>AAI</td>\n      <td>Yes</td>\n      <td>#NULL!</td>\n      <td>2011</td>\n    </tr>\n    <tr>\n      <th>2</th>\n      <td>Altisource Asset Management Corporation</td>\n      <td>New York SE</td>\n      <td>AAMC</td>\n      <td>Ongoing</td>\n      <td>#NULL!</td>\n      <td>2015</td>\n    </tr>\n    <tr>\n      <th>3</th>\n      <td>APPLE Computer, Inc.</td>\n      <td>NASDAQ</td>\n      <td>AAPL</td>\n      <td>No</td>\n      <td>16500000</td>\n      <td>2006</td>\n    </tr>\n    <tr>\n      <th>4</th>\n      <td>Avalanche Biotechnologies, Inc.</td>\n      <td>NASDAQ</td>\n      <td>AAVL</td>\n      <td>Ongoing</td>\n      <td>#NULL!</td>\n      <td>2015</td>\n    </tr>\n    <tr>\n      <th>...</th>\n      <td>...</td>\n      <td>...</td>\n      <td>...</td>\n      <td>...</td>\n      <td>...</td>\n      <td>...</td>\n    </tr>\n    <tr>\n      <th>1887</th>\n      <td>Quiksilver, Inc.</td>\n      <td>New York SE</td>\n      <td>ZQK</td>\n      <td>Ongoing</td>\n      <td>#NULL!</td>\n      <td>2015</td>\n    </tr>\n    <tr>\n      <th>1888</th>\n      <td>Zoran Corporation</td>\n      <td>NASDAQ</td>\n      <td>ZRAN</td>\n      <td>Yes</td>\n      <td>#NULL!</td>\n      <td>2006</td>\n    </tr>\n    <tr>\n      <th>1889</th>\n      <td>ZST Digital Networks, Inc.</td>\n      <td>NASDAQ</td>\n      <td>ZSTN</td>\n      <td>No</td>\n      <td>1700000</td>\n      <td>2011</td>\n    </tr>\n    <tr>\n      <th>1890</th>\n      <td>Zumiez, Inc.</td>\n      <td>NASDAQ</td>\n      <td>ZUMZ</td>\n      <td>Yes</td>\n      <td>#NULL!</td>\n      <td>2007</td>\n    </tr>\n    <tr>\n      <th>1891</th>\n      <td>Zynex, Inc.</td>\n      <td>OTC-BB</td>\n      <td>ZYXI</td>\n      <td>No</td>\n      <td>2500000</td>\n      <td>2009</td>\n    </tr>\n  </tbody>\n</table>\n<p>1892 rows × 6 columns</p>\n</div>"
     },
     "execution_count": 942,
     "metadata": {},
     "output_type": "execute_result"
    }
   ],
   "source": [
    "sca_filings"
   ],
   "metadata": {
    "collapsed": false,
    "pycharm": {
     "name": "#%%\n"
    }
   }
  },
  {
   "cell_type": "code",
   "execution_count": 943,
   "outputs": [
    {
     "data": {
      "text/plain": "              DF                                         ActionDesc  \\\n0   Fundamentals  Dropped obvious low value columns -- 1 -- Date...   \n1   Fundamentals  Initial Null Drop -- columns w/ 63% Null or more.   \n2   Fundamentals          Dropped columns with only 1 unique value    \n3   Fundamentals  Dropping all that are not standard statements ...   \n4   Fundamentals   Second Null Drop -- columns w/ 20% Null or more.   \n5   Fundamentals                  Dropping Columns w/ Only 2 values   \n6   Fundamentals  Second Manual Column Reduce - Dropping Identif...   \n7   Fundamentals  Third Manual Column Reduce  - Targetted Reduce...   \n8   Fundamentals  Summary Features  - Used to create features, t...   \n9   Fundamentals                                     Group by GVKey   \n10  Fundamentals                              Join Restatement Data   \n11       Ratings                           Capturing Original Shape   \n12       Ratings                         Trim Rows by GSector == 30   \n13       Ratings  Dropped obvious low value columns -- 1 -- Date...   \n14       Ratings  Dropped Nulls -- 1 -- More than 50% Null -- Dr...   \n15       Ratings                                     Group by GVKey   \n16    Securities                           Capturing Original Shape   \n17    Securities  Dropped obvious low value columns -- 1 -- Date...   \n18    Securities           Dropped Nulls -- 1 -- More than 20% Null   \n19    Securities                  Dropping Columns w/ Only 2 values   \n20    Securities  Manual Drop -- 2 -- Low value or duplicated by...   \n21    Securities                                     Group by GVKey   \n22        Stocks                           Capturing Original Shape   \n23        Stocks           Dropped Nulls -- 1 -- More than 20% Null   \n24        Stocks  Dropped obvious low value columns -- 1 -- Date...   \n25        Stocks                  Dropping Columns w/ Only 2 values   \n26        Stocks  Manual Drop -- 2 -- Low value or duplicated by...   \n27        Stocks                                     Group by GVKey   \n28        Stocks  Add Calculated Fields -- replace variables no ...   \n29   SCA_Filings                           Capturing Original Shape   \n30   SCA_Filings  Manual Drop -- 1 -- Low value or duplicated by...   \n\n                                         List-of-Cols   ResultShape  \n0   [datadate, apdedate, fdate, pdate, fyr, add1, ...  (2323, 1744)  \n1   [acctchg, acqmeth, adrr, bspr, compst, curuscn...   (2323, 326)  \n2   [indfmt, consol, popsrc, curcd, final, scf, ac...   (2323, 310)  \n3    applies to all cols, roughly 50% of rows dropped   (1243, 310)  \n4   [cld2, cld3, cld4, cld5, cshr, dd3, dd4, dd5, ...   (1243, 265)  \n5   [datafmt, ismod, upd, rdip, rdipa, rdipd, rdip...   (1243, 250)  \n6   [Unnamed: 0, conm, au, auopic, pddur, dpact_fn...   (1243, 240)  \n7   [lco, lcox, lcoxdr, lo, loxdr, mib, mibn, ppev...    (1243, 92)  \n8                      [drc, drlt, rea, reajo, recta]    (1243, 88)  \n9                                                 All    (348, 167)  \n10                                   Restatement Cols    (348, 172)  \n11                                                N/A  (123678, 21)  \n12                                                All   (17902, 21)  \n13  [city, ggroup, gind, gsector, gsubind, loc, na...    (17902, 6)  \n14                       [splticrm, spsdrm, spsticrm]    (17902, 3)  \n15  [city, ggroup, gind, gsector, gsubind, loc, na...      (452, 3)  \n16                                                N/A   (32382, 56)  \n17  [Unnamed: 0, conm, city, conml, cyear, ggroup,...   (32382, 43)  \n18  [isalrt, spgim, spiim, spmim, cheqvm, curcddvm...   (32382, 20)  \n19               [primiss, curcdm, mkvalincl, costat]   (32382, 16)  \n20  [iid, tic, cmth, exchg, tpci, cshtrm, prccm, p...    (32382, 6)  \n21  [iid, tic, cmth, exchg, tpci, cshtrm, prccm, p...      (690, 7)  \n22                                                N/A  (673564, 77)  \n23  [curcddv, capgn, cheqv, div, divd, divdpaydate...  (673564, 40)  \n24  [Unnamed: 0, tic, conm, curcdd, fic, add1, add...  (673564, 16)  \n25                            [secstat, costat, stko]  (673564, 13)  \n26      [iid, exchg, tpci, cik, cshtrd, ajexdi, trfd]   (673564, 6)  \n27      [iid, exchg, tpci, cik, cshtrd, ajexdi, trfd]      (689, 9)  \n28      [iid, exchg, tpci, cik, cshtrd, ajexdi, trfd]      (689, 8)  \n29                                                N/A     (1892, 6)  \n30      [FilingName, Exchange, FilingYear, Dismissed]     (1892, 2)  ",
      "text/html": "<div>\n<style scoped>\n    .dataframe tbody tr th:only-of-type {\n        vertical-align: middle;\n    }\n\n    .dataframe tbody tr th {\n        vertical-align: top;\n    }\n\n    .dataframe thead th {\n        text-align: right;\n    }\n</style>\n<table border=\"1\" class=\"dataframe\">\n  <thead>\n    <tr style=\"text-align: right;\">\n      <th></th>\n      <th>DF</th>\n      <th>ActionDesc</th>\n      <th>List-of-Cols</th>\n      <th>ResultShape</th>\n    </tr>\n  </thead>\n  <tbody>\n    <tr>\n      <th>0</th>\n      <td>Fundamentals</td>\n      <td>Dropped obvious low value columns -- 1 -- Date...</td>\n      <td>[datadate, apdedate, fdate, pdate, fyr, add1, ...</td>\n      <td>(2323, 1744)</td>\n    </tr>\n    <tr>\n      <th>1</th>\n      <td>Fundamentals</td>\n      <td>Initial Null Drop -- columns w/ 63% Null or more.</td>\n      <td>[acctchg, acqmeth, adrr, bspr, compst, curuscn...</td>\n      <td>(2323, 326)</td>\n    </tr>\n    <tr>\n      <th>2</th>\n      <td>Fundamentals</td>\n      <td>Dropped columns with only 1 unique value</td>\n      <td>[indfmt, consol, popsrc, curcd, final, scf, ac...</td>\n      <td>(2323, 310)</td>\n    </tr>\n    <tr>\n      <th>3</th>\n      <td>Fundamentals</td>\n      <td>Dropping all that are not standard statements ...</td>\n      <td>applies to all cols, roughly 50% of rows dropped</td>\n      <td>(1243, 310)</td>\n    </tr>\n    <tr>\n      <th>4</th>\n      <td>Fundamentals</td>\n      <td>Second Null Drop -- columns w/ 20% Null or more.</td>\n      <td>[cld2, cld3, cld4, cld5, cshr, dd3, dd4, dd5, ...</td>\n      <td>(1243, 265)</td>\n    </tr>\n    <tr>\n      <th>5</th>\n      <td>Fundamentals</td>\n      <td>Dropping Columns w/ Only 2 values</td>\n      <td>[datafmt, ismod, upd, rdip, rdipa, rdipd, rdip...</td>\n      <td>(1243, 250)</td>\n    </tr>\n    <tr>\n      <th>6</th>\n      <td>Fundamentals</td>\n      <td>Second Manual Column Reduce - Dropping Identif...</td>\n      <td>[Unnamed: 0, conm, au, auopic, pddur, dpact_fn...</td>\n      <td>(1243, 240)</td>\n    </tr>\n    <tr>\n      <th>7</th>\n      <td>Fundamentals</td>\n      <td>Third Manual Column Reduce  - Targetted Reduce...</td>\n      <td>[lco, lcox, lcoxdr, lo, loxdr, mib, mibn, ppev...</td>\n      <td>(1243, 92)</td>\n    </tr>\n    <tr>\n      <th>8</th>\n      <td>Fundamentals</td>\n      <td>Summary Features  - Used to create features, t...</td>\n      <td>[drc, drlt, rea, reajo, recta]</td>\n      <td>(1243, 88)</td>\n    </tr>\n    <tr>\n      <th>9</th>\n      <td>Fundamentals</td>\n      <td>Group by GVKey</td>\n      <td>All</td>\n      <td>(348, 167)</td>\n    </tr>\n    <tr>\n      <th>10</th>\n      <td>Fundamentals</td>\n      <td>Join Restatement Data</td>\n      <td>Restatement Cols</td>\n      <td>(348, 172)</td>\n    </tr>\n    <tr>\n      <th>11</th>\n      <td>Ratings</td>\n      <td>Capturing Original Shape</td>\n      <td>N/A</td>\n      <td>(123678, 21)</td>\n    </tr>\n    <tr>\n      <th>12</th>\n      <td>Ratings</td>\n      <td>Trim Rows by GSector == 30</td>\n      <td>All</td>\n      <td>(17902, 21)</td>\n    </tr>\n    <tr>\n      <th>13</th>\n      <td>Ratings</td>\n      <td>Dropped obvious low value columns -- 1 -- Date...</td>\n      <td>[city, ggroup, gind, gsector, gsubind, loc, na...</td>\n      <td>(17902, 6)</td>\n    </tr>\n    <tr>\n      <th>14</th>\n      <td>Ratings</td>\n      <td>Dropped Nulls -- 1 -- More than 50% Null -- Dr...</td>\n      <td>[splticrm, spsdrm, spsticrm]</td>\n      <td>(17902, 3)</td>\n    </tr>\n    <tr>\n      <th>15</th>\n      <td>Ratings</td>\n      <td>Group by GVKey</td>\n      <td>[city, ggroup, gind, gsector, gsubind, loc, na...</td>\n      <td>(452, 3)</td>\n    </tr>\n    <tr>\n      <th>16</th>\n      <td>Securities</td>\n      <td>Capturing Original Shape</td>\n      <td>N/A</td>\n      <td>(32382, 56)</td>\n    </tr>\n    <tr>\n      <th>17</th>\n      <td>Securities</td>\n      <td>Dropped obvious low value columns -- 1 -- Date...</td>\n      <td>[Unnamed: 0, conm, city, conml, cyear, ggroup,...</td>\n      <td>(32382, 43)</td>\n    </tr>\n    <tr>\n      <th>18</th>\n      <td>Securities</td>\n      <td>Dropped Nulls -- 1 -- More than 20% Null</td>\n      <td>[isalrt, spgim, spiim, spmim, cheqvm, curcddvm...</td>\n      <td>(32382, 20)</td>\n    </tr>\n    <tr>\n      <th>19</th>\n      <td>Securities</td>\n      <td>Dropping Columns w/ Only 2 values</td>\n      <td>[primiss, curcdm, mkvalincl, costat]</td>\n      <td>(32382, 16)</td>\n    </tr>\n    <tr>\n      <th>20</th>\n      <td>Securities</td>\n      <td>Manual Drop -- 2 -- Low value or duplicated by...</td>\n      <td>[iid, tic, cmth, exchg, tpci, cshtrm, prccm, p...</td>\n      <td>(32382, 6)</td>\n    </tr>\n    <tr>\n      <th>21</th>\n      <td>Securities</td>\n      <td>Group by GVKey</td>\n      <td>[iid, tic, cmth, exchg, tpci, cshtrm, prccm, p...</td>\n      <td>(690, 7)</td>\n    </tr>\n    <tr>\n      <th>22</th>\n      <td>Stocks</td>\n      <td>Capturing Original Shape</td>\n      <td>N/A</td>\n      <td>(673564, 77)</td>\n    </tr>\n    <tr>\n      <th>23</th>\n      <td>Stocks</td>\n      <td>Dropped Nulls -- 1 -- More than 20% Null</td>\n      <td>[curcddv, capgn, cheqv, div, divd, divdpaydate...</td>\n      <td>(673564, 40)</td>\n    </tr>\n    <tr>\n      <th>24</th>\n      <td>Stocks</td>\n      <td>Dropped obvious low value columns -- 1 -- Date...</td>\n      <td>[Unnamed: 0, tic, conm, curcdd, fic, add1, add...</td>\n      <td>(673564, 16)</td>\n    </tr>\n    <tr>\n      <th>25</th>\n      <td>Stocks</td>\n      <td>Dropping Columns w/ Only 2 values</td>\n      <td>[secstat, costat, stko]</td>\n      <td>(673564, 13)</td>\n    </tr>\n    <tr>\n      <th>26</th>\n      <td>Stocks</td>\n      <td>Manual Drop -- 2 -- Low value or duplicated by...</td>\n      <td>[iid, exchg, tpci, cik, cshtrd, ajexdi, trfd]</td>\n      <td>(673564, 6)</td>\n    </tr>\n    <tr>\n      <th>27</th>\n      <td>Stocks</td>\n      <td>Group by GVKey</td>\n      <td>[iid, exchg, tpci, cik, cshtrd, ajexdi, trfd]</td>\n      <td>(689, 9)</td>\n    </tr>\n    <tr>\n      <th>28</th>\n      <td>Stocks</td>\n      <td>Add Calculated Fields -- replace variables no ...</td>\n      <td>[iid, exchg, tpci, cik, cshtrd, ajexdi, trfd]</td>\n      <td>(689, 8)</td>\n    </tr>\n    <tr>\n      <th>29</th>\n      <td>SCA_Filings</td>\n      <td>Capturing Original Shape</td>\n      <td>N/A</td>\n      <td>(1892, 6)</td>\n    </tr>\n    <tr>\n      <th>30</th>\n      <td>SCA_Filings</td>\n      <td>Manual Drop -- 1 -- Low value or duplicated by...</td>\n      <td>[FilingName, Exchange, FilingYear, Dismissed]</td>\n      <td>(1892, 2)</td>\n    </tr>\n  </tbody>\n</table>\n</div>"
     },
     "execution_count": 943,
     "metadata": {},
     "output_type": "execute_result"
    }
   ],
   "source": [
    "# Drop Unneeded Columns\n",
    "\n",
    "cleanActionsDesc = \"Manual Drop -- 1 -- Low value or duplicated by other datasets\"\n",
    "df_name = \"SCA_Filings\"\n",
    "\n",
    "colsToDrop = ['FilingName','Exchange','FilingYear','Dismissed']\n",
    "\n",
    "sca_filings = sca_filings.drop(columns=colsToDrop)\n",
    "cleanActionsReport(sca_filings,df_name,cleanActionsDesc,colsToDrop)"
   ],
   "metadata": {
    "collapsed": false,
    "pycharm": {
     "name": "#%%\n"
    }
   }
  },
  {
   "cell_type": "code",
   "execution_count": 944,
   "outputs": [
    {
     "data": {
      "text/plain": "0.0            1433\n10000000.0       14\n3000000.0        10\n2000000.0        10\n5000000.0         9\n               ... \n15250000.0        1\n26612500.0        1\n22900000.0        1\n13600000.0        1\n500000000.0       1\nName: SettlementAmount, Length: 241, dtype: int64"
     },
     "execution_count": 944,
     "metadata": {},
     "output_type": "execute_result"
    }
   ],
   "source": [
    "## TODO: to agg -- need to fill nulls w/0 which was against the professor's requirements.\n",
    "###  Either back this out depending on answer from professor OR convert 0's back to null.\n",
    "sca_filings['SettlementAmount'] = sca_filings['SettlementAmount'].replace({\"#NULL!\":0})\n",
    "sca_filings['SettlementAmount'].value_counts()"
   ],
   "metadata": {
    "collapsed": false,
    "pycharm": {
     "name": "#%%\n"
    }
   }
  },
  {
   "cell_type": "code",
   "execution_count": 945,
   "outputs": [
    {
     "data": {
      "text/plain": "              DF                                         ActionDesc  \\\n0   Fundamentals  Dropped obvious low value columns -- 1 -- Date...   \n1   Fundamentals  Initial Null Drop -- columns w/ 63% Null or more.   \n2   Fundamentals          Dropped columns with only 1 unique value    \n3   Fundamentals  Dropping all that are not standard statements ...   \n4   Fundamentals   Second Null Drop -- columns w/ 20% Null or more.   \n5   Fundamentals                  Dropping Columns w/ Only 2 values   \n6   Fundamentals  Second Manual Column Reduce - Dropping Identif...   \n7   Fundamentals  Third Manual Column Reduce  - Targetted Reduce...   \n8   Fundamentals  Summary Features  - Used to create features, t...   \n9   Fundamentals                                     Group by GVKey   \n10  Fundamentals                              Join Restatement Data   \n11       Ratings                           Capturing Original Shape   \n12       Ratings                         Trim Rows by GSector == 30   \n13       Ratings  Dropped obvious low value columns -- 1 -- Date...   \n14       Ratings  Dropped Nulls -- 1 -- More than 50% Null -- Dr...   \n15       Ratings                                     Group by GVKey   \n16    Securities                           Capturing Original Shape   \n17    Securities  Dropped obvious low value columns -- 1 -- Date...   \n18    Securities           Dropped Nulls -- 1 -- More than 20% Null   \n19    Securities                  Dropping Columns w/ Only 2 values   \n20    Securities  Manual Drop -- 2 -- Low value or duplicated by...   \n21    Securities                                     Group by GVKey   \n22        Stocks                           Capturing Original Shape   \n23        Stocks           Dropped Nulls -- 1 -- More than 20% Null   \n24        Stocks  Dropped obvious low value columns -- 1 -- Date...   \n25        Stocks                  Dropping Columns w/ Only 2 values   \n26        Stocks  Manual Drop -- 2 -- Low value or duplicated by...   \n27        Stocks                                     Group by GVKey   \n28        Stocks  Add Calculated Fields -- replace variables no ...   \n29   SCA_Filings                           Capturing Original Shape   \n30   SCA_Filings  Manual Drop -- 1 -- Low value or duplicated by...   \n31   SCA_Filings                                    Group by Ticker   \n\n                                         List-of-Cols   ResultShape  \n0   [datadate, apdedate, fdate, pdate, fyr, add1, ...  (2323, 1744)  \n1   [acctchg, acqmeth, adrr, bspr, compst, curuscn...   (2323, 326)  \n2   [indfmt, consol, popsrc, curcd, final, scf, ac...   (2323, 310)  \n3    applies to all cols, roughly 50% of rows dropped   (1243, 310)  \n4   [cld2, cld3, cld4, cld5, cshr, dd3, dd4, dd5, ...   (1243, 265)  \n5   [datafmt, ismod, upd, rdip, rdipa, rdipd, rdip...   (1243, 250)  \n6   [Unnamed: 0, conm, au, auopic, pddur, dpact_fn...   (1243, 240)  \n7   [lco, lcox, lcoxdr, lo, loxdr, mib, mibn, ppev...    (1243, 92)  \n8                      [drc, drlt, rea, reajo, recta]    (1243, 88)  \n9                                                 All    (348, 167)  \n10                                   Restatement Cols    (348, 172)  \n11                                                N/A  (123678, 21)  \n12                                                All   (17902, 21)  \n13  [city, ggroup, gind, gsector, gsubind, loc, na...    (17902, 6)  \n14                       [splticrm, spsdrm, spsticrm]    (17902, 3)  \n15  [city, ggroup, gind, gsector, gsubind, loc, na...      (452, 3)  \n16                                                N/A   (32382, 56)  \n17  [Unnamed: 0, conm, city, conml, cyear, ggroup,...   (32382, 43)  \n18  [isalrt, spgim, spiim, spmim, cheqvm, curcddvm...   (32382, 20)  \n19               [primiss, curcdm, mkvalincl, costat]   (32382, 16)  \n20  [iid, tic, cmth, exchg, tpci, cshtrm, prccm, p...    (32382, 6)  \n21  [iid, tic, cmth, exchg, tpci, cshtrm, prccm, p...      (690, 7)  \n22                                                N/A  (673564, 77)  \n23  [curcddv, capgn, cheqv, div, divd, divdpaydate...  (673564, 40)  \n24  [Unnamed: 0, tic, conm, curcdd, fic, add1, add...  (673564, 16)  \n25                            [secstat, costat, stko]  (673564, 13)  \n26      [iid, exchg, tpci, cik, cshtrd, ajexdi, trfd]   (673564, 6)  \n27      [iid, exchg, tpci, cik, cshtrd, ajexdi, trfd]      (689, 9)  \n28      [iid, exchg, tpci, cik, cshtrd, ajexdi, trfd]      (689, 8)  \n29                                                N/A     (1892, 6)  \n30      [FilingName, Exchange, FilingYear, Dismissed]     (1892, 2)  \n31      [FilingName, Exchange, FilingYear, Dismissed]     (1506, 2)  ",
      "text/html": "<div>\n<style scoped>\n    .dataframe tbody tr th:only-of-type {\n        vertical-align: middle;\n    }\n\n    .dataframe tbody tr th {\n        vertical-align: top;\n    }\n\n    .dataframe thead th {\n        text-align: right;\n    }\n</style>\n<table border=\"1\" class=\"dataframe\">\n  <thead>\n    <tr style=\"text-align: right;\">\n      <th></th>\n      <th>DF</th>\n      <th>ActionDesc</th>\n      <th>List-of-Cols</th>\n      <th>ResultShape</th>\n    </tr>\n  </thead>\n  <tbody>\n    <tr>\n      <th>0</th>\n      <td>Fundamentals</td>\n      <td>Dropped obvious low value columns -- 1 -- Date...</td>\n      <td>[datadate, apdedate, fdate, pdate, fyr, add1, ...</td>\n      <td>(2323, 1744)</td>\n    </tr>\n    <tr>\n      <th>1</th>\n      <td>Fundamentals</td>\n      <td>Initial Null Drop -- columns w/ 63% Null or more.</td>\n      <td>[acctchg, acqmeth, adrr, bspr, compst, curuscn...</td>\n      <td>(2323, 326)</td>\n    </tr>\n    <tr>\n      <th>2</th>\n      <td>Fundamentals</td>\n      <td>Dropped columns with only 1 unique value</td>\n      <td>[indfmt, consol, popsrc, curcd, final, scf, ac...</td>\n      <td>(2323, 310)</td>\n    </tr>\n    <tr>\n      <th>3</th>\n      <td>Fundamentals</td>\n      <td>Dropping all that are not standard statements ...</td>\n      <td>applies to all cols, roughly 50% of rows dropped</td>\n      <td>(1243, 310)</td>\n    </tr>\n    <tr>\n      <th>4</th>\n      <td>Fundamentals</td>\n      <td>Second Null Drop -- columns w/ 20% Null or more.</td>\n      <td>[cld2, cld3, cld4, cld5, cshr, dd3, dd4, dd5, ...</td>\n      <td>(1243, 265)</td>\n    </tr>\n    <tr>\n      <th>5</th>\n      <td>Fundamentals</td>\n      <td>Dropping Columns w/ Only 2 values</td>\n      <td>[datafmt, ismod, upd, rdip, rdipa, rdipd, rdip...</td>\n      <td>(1243, 250)</td>\n    </tr>\n    <tr>\n      <th>6</th>\n      <td>Fundamentals</td>\n      <td>Second Manual Column Reduce - Dropping Identif...</td>\n      <td>[Unnamed: 0, conm, au, auopic, pddur, dpact_fn...</td>\n      <td>(1243, 240)</td>\n    </tr>\n    <tr>\n      <th>7</th>\n      <td>Fundamentals</td>\n      <td>Third Manual Column Reduce  - Targetted Reduce...</td>\n      <td>[lco, lcox, lcoxdr, lo, loxdr, mib, mibn, ppev...</td>\n      <td>(1243, 92)</td>\n    </tr>\n    <tr>\n      <th>8</th>\n      <td>Fundamentals</td>\n      <td>Summary Features  - Used to create features, t...</td>\n      <td>[drc, drlt, rea, reajo, recta]</td>\n      <td>(1243, 88)</td>\n    </tr>\n    <tr>\n      <th>9</th>\n      <td>Fundamentals</td>\n      <td>Group by GVKey</td>\n      <td>All</td>\n      <td>(348, 167)</td>\n    </tr>\n    <tr>\n      <th>10</th>\n      <td>Fundamentals</td>\n      <td>Join Restatement Data</td>\n      <td>Restatement Cols</td>\n      <td>(348, 172)</td>\n    </tr>\n    <tr>\n      <th>11</th>\n      <td>Ratings</td>\n      <td>Capturing Original Shape</td>\n      <td>N/A</td>\n      <td>(123678, 21)</td>\n    </tr>\n    <tr>\n      <th>12</th>\n      <td>Ratings</td>\n      <td>Trim Rows by GSector == 30</td>\n      <td>All</td>\n      <td>(17902, 21)</td>\n    </tr>\n    <tr>\n      <th>13</th>\n      <td>Ratings</td>\n      <td>Dropped obvious low value columns -- 1 -- Date...</td>\n      <td>[city, ggroup, gind, gsector, gsubind, loc, na...</td>\n      <td>(17902, 6)</td>\n    </tr>\n    <tr>\n      <th>14</th>\n      <td>Ratings</td>\n      <td>Dropped Nulls -- 1 -- More than 50% Null -- Dr...</td>\n      <td>[splticrm, spsdrm, spsticrm]</td>\n      <td>(17902, 3)</td>\n    </tr>\n    <tr>\n      <th>15</th>\n      <td>Ratings</td>\n      <td>Group by GVKey</td>\n      <td>[city, ggroup, gind, gsector, gsubind, loc, na...</td>\n      <td>(452, 3)</td>\n    </tr>\n    <tr>\n      <th>16</th>\n      <td>Securities</td>\n      <td>Capturing Original Shape</td>\n      <td>N/A</td>\n      <td>(32382, 56)</td>\n    </tr>\n    <tr>\n      <th>17</th>\n      <td>Securities</td>\n      <td>Dropped obvious low value columns -- 1 -- Date...</td>\n      <td>[Unnamed: 0, conm, city, conml, cyear, ggroup,...</td>\n      <td>(32382, 43)</td>\n    </tr>\n    <tr>\n      <th>18</th>\n      <td>Securities</td>\n      <td>Dropped Nulls -- 1 -- More than 20% Null</td>\n      <td>[isalrt, spgim, spiim, spmim, cheqvm, curcddvm...</td>\n      <td>(32382, 20)</td>\n    </tr>\n    <tr>\n      <th>19</th>\n      <td>Securities</td>\n      <td>Dropping Columns w/ Only 2 values</td>\n      <td>[primiss, curcdm, mkvalincl, costat]</td>\n      <td>(32382, 16)</td>\n    </tr>\n    <tr>\n      <th>20</th>\n      <td>Securities</td>\n      <td>Manual Drop -- 2 -- Low value or duplicated by...</td>\n      <td>[iid, tic, cmth, exchg, tpci, cshtrm, prccm, p...</td>\n      <td>(32382, 6)</td>\n    </tr>\n    <tr>\n      <th>21</th>\n      <td>Securities</td>\n      <td>Group by GVKey</td>\n      <td>[iid, tic, cmth, exchg, tpci, cshtrm, prccm, p...</td>\n      <td>(690, 7)</td>\n    </tr>\n    <tr>\n      <th>22</th>\n      <td>Stocks</td>\n      <td>Capturing Original Shape</td>\n      <td>N/A</td>\n      <td>(673564, 77)</td>\n    </tr>\n    <tr>\n      <th>23</th>\n      <td>Stocks</td>\n      <td>Dropped Nulls -- 1 -- More than 20% Null</td>\n      <td>[curcddv, capgn, cheqv, div, divd, divdpaydate...</td>\n      <td>(673564, 40)</td>\n    </tr>\n    <tr>\n      <th>24</th>\n      <td>Stocks</td>\n      <td>Dropped obvious low value columns -- 1 -- Date...</td>\n      <td>[Unnamed: 0, tic, conm, curcdd, fic, add1, add...</td>\n      <td>(673564, 16)</td>\n    </tr>\n    <tr>\n      <th>25</th>\n      <td>Stocks</td>\n      <td>Dropping Columns w/ Only 2 values</td>\n      <td>[secstat, costat, stko]</td>\n      <td>(673564, 13)</td>\n    </tr>\n    <tr>\n      <th>26</th>\n      <td>Stocks</td>\n      <td>Manual Drop -- 2 -- Low value or duplicated by...</td>\n      <td>[iid, exchg, tpci, cik, cshtrd, ajexdi, trfd]</td>\n      <td>(673564, 6)</td>\n    </tr>\n    <tr>\n      <th>27</th>\n      <td>Stocks</td>\n      <td>Group by GVKey</td>\n      <td>[iid, exchg, tpci, cik, cshtrd, ajexdi, trfd]</td>\n      <td>(689, 9)</td>\n    </tr>\n    <tr>\n      <th>28</th>\n      <td>Stocks</td>\n      <td>Add Calculated Fields -- replace variables no ...</td>\n      <td>[iid, exchg, tpci, cik, cshtrd, ajexdi, trfd]</td>\n      <td>(689, 8)</td>\n    </tr>\n    <tr>\n      <th>29</th>\n      <td>SCA_Filings</td>\n      <td>Capturing Original Shape</td>\n      <td>N/A</td>\n      <td>(1892, 6)</td>\n    </tr>\n    <tr>\n      <th>30</th>\n      <td>SCA_Filings</td>\n      <td>Manual Drop -- 1 -- Low value or duplicated by...</td>\n      <td>[FilingName, Exchange, FilingYear, Dismissed]</td>\n      <td>(1892, 2)</td>\n    </tr>\n    <tr>\n      <th>31</th>\n      <td>SCA_Filings</td>\n      <td>Group by Ticker</td>\n      <td>[FilingName, Exchange, FilingYear, Dismissed]</td>\n      <td>(1506, 2)</td>\n    </tr>\n  </tbody>\n</table>\n</div>"
     },
     "execution_count": 945,
     "metadata": {},
     "output_type": "execute_result"
    }
   ],
   "source": [
    "# Group by Ticker\n",
    "\n",
    "## TODO: Open question on whether I should aggregrate to a single row.\n",
    "\n",
    "sca_filings = sca_filings.groupby('Ticker')\\\n",
    "    .agg({'SettlementAmount':'max'}).reset_index()\n",
    "\n",
    "# Call Clean Report Function\n",
    "cleanActionsDesc = \"Group by Ticker\"\n",
    "df_name = \"SCA_Filings\"\n",
    "cols = \"All\"\n",
    "\n",
    "cleanActionsReport(sca_filings,df_name,cleanActionsDesc,colsToDrop)"
   ],
   "metadata": {
    "collapsed": false,
    "pycharm": {
     "name": "#%%\n"
    }
   }
  },
  {
   "cell_type": "code",
   "execution_count": 946,
   "outputs": [
    {
     "data": {
      "text/plain": "     Ticker  SettlementAmount\n0       AAC               0.0\n1       AAI               0.0\n2      AAMC               0.0\n3      AAPL        16500000.0\n4      AAVL               0.0\n...     ...               ...\n1501    ZQK               0.0\n1502   ZRAN               0.0\n1503   ZSTN         1700000.0\n1504   ZUMZ               0.0\n1505   ZYXI         2500000.0\n\n[1506 rows x 2 columns]",
      "text/html": "<div>\n<style scoped>\n    .dataframe tbody tr th:only-of-type {\n        vertical-align: middle;\n    }\n\n    .dataframe tbody tr th {\n        vertical-align: top;\n    }\n\n    .dataframe thead th {\n        text-align: right;\n    }\n</style>\n<table border=\"1\" class=\"dataframe\">\n  <thead>\n    <tr style=\"text-align: right;\">\n      <th></th>\n      <th>Ticker</th>\n      <th>SettlementAmount</th>\n    </tr>\n  </thead>\n  <tbody>\n    <tr>\n      <th>0</th>\n      <td>AAC</td>\n      <td>0.0</td>\n    </tr>\n    <tr>\n      <th>1</th>\n      <td>AAI</td>\n      <td>0.0</td>\n    </tr>\n    <tr>\n      <th>2</th>\n      <td>AAMC</td>\n      <td>0.0</td>\n    </tr>\n    <tr>\n      <th>3</th>\n      <td>AAPL</td>\n      <td>16500000.0</td>\n    </tr>\n    <tr>\n      <th>4</th>\n      <td>AAVL</td>\n      <td>0.0</td>\n    </tr>\n    <tr>\n      <th>...</th>\n      <td>...</td>\n      <td>...</td>\n    </tr>\n    <tr>\n      <th>1501</th>\n      <td>ZQK</td>\n      <td>0.0</td>\n    </tr>\n    <tr>\n      <th>1502</th>\n      <td>ZRAN</td>\n      <td>0.0</td>\n    </tr>\n    <tr>\n      <th>1503</th>\n      <td>ZSTN</td>\n      <td>1700000.0</td>\n    </tr>\n    <tr>\n      <th>1504</th>\n      <td>ZUMZ</td>\n      <td>0.0</td>\n    </tr>\n    <tr>\n      <th>1505</th>\n      <td>ZYXI</td>\n      <td>2500000.0</td>\n    </tr>\n  </tbody>\n</table>\n<p>1506 rows × 2 columns</p>\n</div>"
     },
     "execution_count": 946,
     "metadata": {},
     "output_type": "execute_result"
    }
   ],
   "source": [
    "sca_filings"
   ],
   "metadata": {
    "collapsed": false,
    "pycharm": {
     "name": "#%%\n"
    }
   }
  },
  {
   "cell_type": "code",
   "source": [
    "# Create Dummy Vars into a single Response Var\n",
    "sca_filings.insert(1,'lawsuit', 1)\n",
    "\n",
    "cleanActionsDesc = \"Create Boolean Response Var\"\n",
    "df_name = \"SCA_Filings\"\n",
    "cleanActionsReport(sca_filings,df_name,cleanActionsDesc,colsToDrop)\n",
    "sca_filings"
   ],
   "metadata": {
    "collapsed": false,
    "pycharm": {
     "name": "#%%\n"
    }
   },
   "execution_count": 947,
   "outputs": [
    {
     "data": {
      "text/plain": "     Ticker  lawsuit  SettlementAmount\n0       AAC        1               0.0\n1       AAI        1               0.0\n2      AAMC        1               0.0\n3      AAPL        1        16500000.0\n4      AAVL        1               0.0\n...     ...      ...               ...\n1501    ZQK        1               0.0\n1502   ZRAN        1               0.0\n1503   ZSTN        1         1700000.0\n1504   ZUMZ        1               0.0\n1505   ZYXI        1         2500000.0\n\n[1506 rows x 3 columns]",
      "text/html": "<div>\n<style scoped>\n    .dataframe tbody tr th:only-of-type {\n        vertical-align: middle;\n    }\n\n    .dataframe tbody tr th {\n        vertical-align: top;\n    }\n\n    .dataframe thead th {\n        text-align: right;\n    }\n</style>\n<table border=\"1\" class=\"dataframe\">\n  <thead>\n    <tr style=\"text-align: right;\">\n      <th></th>\n      <th>Ticker</th>\n      <th>lawsuit</th>\n      <th>SettlementAmount</th>\n    </tr>\n  </thead>\n  <tbody>\n    <tr>\n      <th>0</th>\n      <td>AAC</td>\n      <td>1</td>\n      <td>0.0</td>\n    </tr>\n    <tr>\n      <th>1</th>\n      <td>AAI</td>\n      <td>1</td>\n      <td>0.0</td>\n    </tr>\n    <tr>\n      <th>2</th>\n      <td>AAMC</td>\n      <td>1</td>\n      <td>0.0</td>\n    </tr>\n    <tr>\n      <th>3</th>\n      <td>AAPL</td>\n      <td>1</td>\n      <td>16500000.0</td>\n    </tr>\n    <tr>\n      <th>4</th>\n      <td>AAVL</td>\n      <td>1</td>\n      <td>0.0</td>\n    </tr>\n    <tr>\n      <th>...</th>\n      <td>...</td>\n      <td>...</td>\n      <td>...</td>\n    </tr>\n    <tr>\n      <th>1501</th>\n      <td>ZQK</td>\n      <td>1</td>\n      <td>0.0</td>\n    </tr>\n    <tr>\n      <th>1502</th>\n      <td>ZRAN</td>\n      <td>1</td>\n      <td>0.0</td>\n    </tr>\n    <tr>\n      <th>1503</th>\n      <td>ZSTN</td>\n      <td>1</td>\n      <td>1700000.0</td>\n    </tr>\n    <tr>\n      <th>1504</th>\n      <td>ZUMZ</td>\n      <td>1</td>\n      <td>0.0</td>\n    </tr>\n    <tr>\n      <th>1505</th>\n      <td>ZYXI</td>\n      <td>1</td>\n      <td>2500000.0</td>\n    </tr>\n  </tbody>\n</table>\n<p>1506 rows × 3 columns</p>\n</div>"
     },
     "execution_count": 947,
     "metadata": {},
     "output_type": "execute_result"
    }
   ]
  },
  {
   "cell_type": "code",
   "source": [
    "sca_filings = sca_filings.rename(columns={'Ticker':'tic'})\n",
    "sca_filings"
   ],
   "metadata": {
    "collapsed": false,
    "pycharm": {
     "name": "#%%\n"
    }
   },
   "execution_count": 948,
   "outputs": [
    {
     "data": {
      "text/plain": "       tic  lawsuit  SettlementAmount\n0      AAC        1               0.0\n1      AAI        1               0.0\n2     AAMC        1               0.0\n3     AAPL        1        16500000.0\n4     AAVL        1               0.0\n...    ...      ...               ...\n1501   ZQK        1               0.0\n1502  ZRAN        1               0.0\n1503  ZSTN        1         1700000.0\n1504  ZUMZ        1               0.0\n1505  ZYXI        1         2500000.0\n\n[1506 rows x 3 columns]",
      "text/html": "<div>\n<style scoped>\n    .dataframe tbody tr th:only-of-type {\n        vertical-align: middle;\n    }\n\n    .dataframe tbody tr th {\n        vertical-align: top;\n    }\n\n    .dataframe thead th {\n        text-align: right;\n    }\n</style>\n<table border=\"1\" class=\"dataframe\">\n  <thead>\n    <tr style=\"text-align: right;\">\n      <th></th>\n      <th>tic</th>\n      <th>lawsuit</th>\n      <th>SettlementAmount</th>\n    </tr>\n  </thead>\n  <tbody>\n    <tr>\n      <th>0</th>\n      <td>AAC</td>\n      <td>1</td>\n      <td>0.0</td>\n    </tr>\n    <tr>\n      <th>1</th>\n      <td>AAI</td>\n      <td>1</td>\n      <td>0.0</td>\n    </tr>\n    <tr>\n      <th>2</th>\n      <td>AAMC</td>\n      <td>1</td>\n      <td>0.0</td>\n    </tr>\n    <tr>\n      <th>3</th>\n      <td>AAPL</td>\n      <td>1</td>\n      <td>16500000.0</td>\n    </tr>\n    <tr>\n      <th>4</th>\n      <td>AAVL</td>\n      <td>1</td>\n      <td>0.0</td>\n    </tr>\n    <tr>\n      <th>...</th>\n      <td>...</td>\n      <td>...</td>\n      <td>...</td>\n    </tr>\n    <tr>\n      <th>1501</th>\n      <td>ZQK</td>\n      <td>1</td>\n      <td>0.0</td>\n    </tr>\n    <tr>\n      <th>1502</th>\n      <td>ZRAN</td>\n      <td>1</td>\n      <td>0.0</td>\n    </tr>\n    <tr>\n      <th>1503</th>\n      <td>ZSTN</td>\n      <td>1</td>\n      <td>1700000.0</td>\n    </tr>\n    <tr>\n      <th>1504</th>\n      <td>ZUMZ</td>\n      <td>1</td>\n      <td>0.0</td>\n    </tr>\n    <tr>\n      <th>1505</th>\n      <td>ZYXI</td>\n      <td>1</td>\n      <td>2500000.0</td>\n    </tr>\n  </tbody>\n</table>\n<p>1506 rows × 3 columns</p>\n</div>"
     },
     "execution_count": 948,
     "metadata": {},
     "output_type": "execute_result"
    }
   ]
  },
  {
   "cell_type": "code",
   "execution_count": 949,
   "outputs": [
    {
     "data": {
      "text/plain": "1    1506\nName: lawsuit, dtype: int64"
     },
     "execution_count": 949,
     "metadata": {},
     "output_type": "execute_result"
    }
   ],
   "source": [
    "# Note to self -- 0's or abnormal ammounts not in my overall dataset\n",
    "sca_filings['lawsuit'].value_counts(dropna=False)"
   ],
   "metadata": {
    "collapsed": false,
    "pycharm": {
     "name": "#%%\n"
    }
   }
  },
  {
   "cell_type": "code",
   "execution_count": 950,
   "outputs": [
    {
     "data": {
      "text/plain": "              DF                                         ActionDesc  \\\n0   Fundamentals  Dropped obvious low value columns -- 1 -- Date...   \n1   Fundamentals  Initial Null Drop -- columns w/ 63% Null or more.   \n2   Fundamentals          Dropped columns with only 1 unique value    \n3   Fundamentals  Dropping all that are not standard statements ...   \n4   Fundamentals   Second Null Drop -- columns w/ 20% Null or more.   \n5   Fundamentals                  Dropping Columns w/ Only 2 values   \n6   Fundamentals  Second Manual Column Reduce - Dropping Identif...   \n7   Fundamentals  Third Manual Column Reduce  - Targetted Reduce...   \n8   Fundamentals  Summary Features  - Used to create features, t...   \n9   Fundamentals                                     Group by GVKey   \n10  Fundamentals                              Join Restatement Data   \n11       Ratings                           Capturing Original Shape   \n12       Ratings                         Trim Rows by GSector == 30   \n13       Ratings  Dropped obvious low value columns -- 1 -- Date...   \n14       Ratings  Dropped Nulls -- 1 -- More than 50% Null -- Dr...   \n15       Ratings                                     Group by GVKey   \n16    Securities                           Capturing Original Shape   \n17    Securities  Dropped obvious low value columns -- 1 -- Date...   \n18    Securities           Dropped Nulls -- 1 -- More than 20% Null   \n19    Securities                  Dropping Columns w/ Only 2 values   \n20    Securities  Manual Drop -- 2 -- Low value or duplicated by...   \n21    Securities                                     Group by GVKey   \n22        Stocks                           Capturing Original Shape   \n23        Stocks           Dropped Nulls -- 1 -- More than 20% Null   \n24        Stocks  Dropped obvious low value columns -- 1 -- Date...   \n25        Stocks                  Dropping Columns w/ Only 2 values   \n26        Stocks  Manual Drop -- 2 -- Low value or duplicated by...   \n27        Stocks                                     Group by GVKey   \n28        Stocks  Add Calculated Fields -- replace variables no ...   \n29   SCA_Filings                           Capturing Original Shape   \n30   SCA_Filings  Manual Drop -- 1 -- Low value or duplicated by...   \n31   SCA_Filings                                    Group by Ticker   \n32   SCA_Filings                        Create Boolean Response Var   \n\n                                         List-of-Cols   ResultShape  \n0   [datadate, apdedate, fdate, pdate, fyr, add1, ...  (2323, 1744)  \n1   [acctchg, acqmeth, adrr, bspr, compst, curuscn...   (2323, 326)  \n2   [indfmt, consol, popsrc, curcd, final, scf, ac...   (2323, 310)  \n3    applies to all cols, roughly 50% of rows dropped   (1243, 310)  \n4   [cld2, cld3, cld4, cld5, cshr, dd3, dd4, dd5, ...   (1243, 265)  \n5   [datafmt, ismod, upd, rdip, rdipa, rdipd, rdip...   (1243, 250)  \n6   [Unnamed: 0, conm, au, auopic, pddur, dpact_fn...   (1243, 240)  \n7   [lco, lcox, lcoxdr, lo, loxdr, mib, mibn, ppev...    (1243, 92)  \n8                      [drc, drlt, rea, reajo, recta]    (1243, 88)  \n9                                                 All    (348, 167)  \n10                                   Restatement Cols    (348, 172)  \n11                                                N/A  (123678, 21)  \n12                                                All   (17902, 21)  \n13  [city, ggroup, gind, gsector, gsubind, loc, na...    (17902, 6)  \n14                       [splticrm, spsdrm, spsticrm]    (17902, 3)  \n15  [city, ggroup, gind, gsector, gsubind, loc, na...      (452, 3)  \n16                                                N/A   (32382, 56)  \n17  [Unnamed: 0, conm, city, conml, cyear, ggroup,...   (32382, 43)  \n18  [isalrt, spgim, spiim, spmim, cheqvm, curcddvm...   (32382, 20)  \n19               [primiss, curcdm, mkvalincl, costat]   (32382, 16)  \n20  [iid, tic, cmth, exchg, tpci, cshtrm, prccm, p...    (32382, 6)  \n21  [iid, tic, cmth, exchg, tpci, cshtrm, prccm, p...      (690, 7)  \n22                                                N/A  (673564, 77)  \n23  [curcddv, capgn, cheqv, div, divd, divdpaydate...  (673564, 40)  \n24  [Unnamed: 0, tic, conm, curcdd, fic, add1, add...  (673564, 16)  \n25                            [secstat, costat, stko]  (673564, 13)  \n26      [iid, exchg, tpci, cik, cshtrd, ajexdi, trfd]   (673564, 6)  \n27      [iid, exchg, tpci, cik, cshtrd, ajexdi, trfd]      (689, 9)  \n28      [iid, exchg, tpci, cik, cshtrd, ajexdi, trfd]      (689, 8)  \n29                                                N/A     (1892, 6)  \n30      [FilingName, Exchange, FilingYear, Dismissed]     (1892, 2)  \n31      [FilingName, Exchange, FilingYear, Dismissed]     (1506, 2)  \n32      [FilingName, Exchange, FilingYear, Dismissed]     (1506, 3)  ",
      "text/html": "<div>\n<style scoped>\n    .dataframe tbody tr th:only-of-type {\n        vertical-align: middle;\n    }\n\n    .dataframe tbody tr th {\n        vertical-align: top;\n    }\n\n    .dataframe thead th {\n        text-align: right;\n    }\n</style>\n<table border=\"1\" class=\"dataframe\">\n  <thead>\n    <tr style=\"text-align: right;\">\n      <th></th>\n      <th>DF</th>\n      <th>ActionDesc</th>\n      <th>List-of-Cols</th>\n      <th>ResultShape</th>\n    </tr>\n  </thead>\n  <tbody>\n    <tr>\n      <th>0</th>\n      <td>Fundamentals</td>\n      <td>Dropped obvious low value columns -- 1 -- Date...</td>\n      <td>[datadate, apdedate, fdate, pdate, fyr, add1, ...</td>\n      <td>(2323, 1744)</td>\n    </tr>\n    <tr>\n      <th>1</th>\n      <td>Fundamentals</td>\n      <td>Initial Null Drop -- columns w/ 63% Null or more.</td>\n      <td>[acctchg, acqmeth, adrr, bspr, compst, curuscn...</td>\n      <td>(2323, 326)</td>\n    </tr>\n    <tr>\n      <th>2</th>\n      <td>Fundamentals</td>\n      <td>Dropped columns with only 1 unique value</td>\n      <td>[indfmt, consol, popsrc, curcd, final, scf, ac...</td>\n      <td>(2323, 310)</td>\n    </tr>\n    <tr>\n      <th>3</th>\n      <td>Fundamentals</td>\n      <td>Dropping all that are not standard statements ...</td>\n      <td>applies to all cols, roughly 50% of rows dropped</td>\n      <td>(1243, 310)</td>\n    </tr>\n    <tr>\n      <th>4</th>\n      <td>Fundamentals</td>\n      <td>Second Null Drop -- columns w/ 20% Null or more.</td>\n      <td>[cld2, cld3, cld4, cld5, cshr, dd3, dd4, dd5, ...</td>\n      <td>(1243, 265)</td>\n    </tr>\n    <tr>\n      <th>5</th>\n      <td>Fundamentals</td>\n      <td>Dropping Columns w/ Only 2 values</td>\n      <td>[datafmt, ismod, upd, rdip, rdipa, rdipd, rdip...</td>\n      <td>(1243, 250)</td>\n    </tr>\n    <tr>\n      <th>6</th>\n      <td>Fundamentals</td>\n      <td>Second Manual Column Reduce - Dropping Identif...</td>\n      <td>[Unnamed: 0, conm, au, auopic, pddur, dpact_fn...</td>\n      <td>(1243, 240)</td>\n    </tr>\n    <tr>\n      <th>7</th>\n      <td>Fundamentals</td>\n      <td>Third Manual Column Reduce  - Targetted Reduce...</td>\n      <td>[lco, lcox, lcoxdr, lo, loxdr, mib, mibn, ppev...</td>\n      <td>(1243, 92)</td>\n    </tr>\n    <tr>\n      <th>8</th>\n      <td>Fundamentals</td>\n      <td>Summary Features  - Used to create features, t...</td>\n      <td>[drc, drlt, rea, reajo, recta]</td>\n      <td>(1243, 88)</td>\n    </tr>\n    <tr>\n      <th>9</th>\n      <td>Fundamentals</td>\n      <td>Group by GVKey</td>\n      <td>All</td>\n      <td>(348, 167)</td>\n    </tr>\n    <tr>\n      <th>10</th>\n      <td>Fundamentals</td>\n      <td>Join Restatement Data</td>\n      <td>Restatement Cols</td>\n      <td>(348, 172)</td>\n    </tr>\n    <tr>\n      <th>11</th>\n      <td>Ratings</td>\n      <td>Capturing Original Shape</td>\n      <td>N/A</td>\n      <td>(123678, 21)</td>\n    </tr>\n    <tr>\n      <th>12</th>\n      <td>Ratings</td>\n      <td>Trim Rows by GSector == 30</td>\n      <td>All</td>\n      <td>(17902, 21)</td>\n    </tr>\n    <tr>\n      <th>13</th>\n      <td>Ratings</td>\n      <td>Dropped obvious low value columns -- 1 -- Date...</td>\n      <td>[city, ggroup, gind, gsector, gsubind, loc, na...</td>\n      <td>(17902, 6)</td>\n    </tr>\n    <tr>\n      <th>14</th>\n      <td>Ratings</td>\n      <td>Dropped Nulls -- 1 -- More than 50% Null -- Dr...</td>\n      <td>[splticrm, spsdrm, spsticrm]</td>\n      <td>(17902, 3)</td>\n    </tr>\n    <tr>\n      <th>15</th>\n      <td>Ratings</td>\n      <td>Group by GVKey</td>\n      <td>[city, ggroup, gind, gsector, gsubind, loc, na...</td>\n      <td>(452, 3)</td>\n    </tr>\n    <tr>\n      <th>16</th>\n      <td>Securities</td>\n      <td>Capturing Original Shape</td>\n      <td>N/A</td>\n      <td>(32382, 56)</td>\n    </tr>\n    <tr>\n      <th>17</th>\n      <td>Securities</td>\n      <td>Dropped obvious low value columns -- 1 -- Date...</td>\n      <td>[Unnamed: 0, conm, city, conml, cyear, ggroup,...</td>\n      <td>(32382, 43)</td>\n    </tr>\n    <tr>\n      <th>18</th>\n      <td>Securities</td>\n      <td>Dropped Nulls -- 1 -- More than 20% Null</td>\n      <td>[isalrt, spgim, spiim, spmim, cheqvm, curcddvm...</td>\n      <td>(32382, 20)</td>\n    </tr>\n    <tr>\n      <th>19</th>\n      <td>Securities</td>\n      <td>Dropping Columns w/ Only 2 values</td>\n      <td>[primiss, curcdm, mkvalincl, costat]</td>\n      <td>(32382, 16)</td>\n    </tr>\n    <tr>\n      <th>20</th>\n      <td>Securities</td>\n      <td>Manual Drop -- 2 -- Low value or duplicated by...</td>\n      <td>[iid, tic, cmth, exchg, tpci, cshtrm, prccm, p...</td>\n      <td>(32382, 6)</td>\n    </tr>\n    <tr>\n      <th>21</th>\n      <td>Securities</td>\n      <td>Group by GVKey</td>\n      <td>[iid, tic, cmth, exchg, tpci, cshtrm, prccm, p...</td>\n      <td>(690, 7)</td>\n    </tr>\n    <tr>\n      <th>22</th>\n      <td>Stocks</td>\n      <td>Capturing Original Shape</td>\n      <td>N/A</td>\n      <td>(673564, 77)</td>\n    </tr>\n    <tr>\n      <th>23</th>\n      <td>Stocks</td>\n      <td>Dropped Nulls -- 1 -- More than 20% Null</td>\n      <td>[curcddv, capgn, cheqv, div, divd, divdpaydate...</td>\n      <td>(673564, 40)</td>\n    </tr>\n    <tr>\n      <th>24</th>\n      <td>Stocks</td>\n      <td>Dropped obvious low value columns -- 1 -- Date...</td>\n      <td>[Unnamed: 0, tic, conm, curcdd, fic, add1, add...</td>\n      <td>(673564, 16)</td>\n    </tr>\n    <tr>\n      <th>25</th>\n      <td>Stocks</td>\n      <td>Dropping Columns w/ Only 2 values</td>\n      <td>[secstat, costat, stko]</td>\n      <td>(673564, 13)</td>\n    </tr>\n    <tr>\n      <th>26</th>\n      <td>Stocks</td>\n      <td>Manual Drop -- 2 -- Low value or duplicated by...</td>\n      <td>[iid, exchg, tpci, cik, cshtrd, ajexdi, trfd]</td>\n      <td>(673564, 6)</td>\n    </tr>\n    <tr>\n      <th>27</th>\n      <td>Stocks</td>\n      <td>Group by GVKey</td>\n      <td>[iid, exchg, tpci, cik, cshtrd, ajexdi, trfd]</td>\n      <td>(689, 9)</td>\n    </tr>\n    <tr>\n      <th>28</th>\n      <td>Stocks</td>\n      <td>Add Calculated Fields -- replace variables no ...</td>\n      <td>[iid, exchg, tpci, cik, cshtrd, ajexdi, trfd]</td>\n      <td>(689, 8)</td>\n    </tr>\n    <tr>\n      <th>29</th>\n      <td>SCA_Filings</td>\n      <td>Capturing Original Shape</td>\n      <td>N/A</td>\n      <td>(1892, 6)</td>\n    </tr>\n    <tr>\n      <th>30</th>\n      <td>SCA_Filings</td>\n      <td>Manual Drop -- 1 -- Low value or duplicated by...</td>\n      <td>[FilingName, Exchange, FilingYear, Dismissed]</td>\n      <td>(1892, 2)</td>\n    </tr>\n    <tr>\n      <th>31</th>\n      <td>SCA_Filings</td>\n      <td>Group by Ticker</td>\n      <td>[FilingName, Exchange, FilingYear, Dismissed]</td>\n      <td>(1506, 2)</td>\n    </tr>\n    <tr>\n      <th>32</th>\n      <td>SCA_Filings</td>\n      <td>Create Boolean Response Var</td>\n      <td>[FilingName, Exchange, FilingYear, Dismissed]</td>\n      <td>(1506, 3)</td>\n    </tr>\n  </tbody>\n</table>\n</div>"
     },
     "execution_count": 950,
     "metadata": {},
     "output_type": "execute_result"
    }
   ],
   "source": [
    "cleanActionsDF"
   ],
   "metadata": {
    "collapsed": false,
    "pycharm": {
     "name": "#%%\n"
    }
   }
  },
  {
   "cell_type": "markdown",
   "source": [
    "# Join all\n",
    "\n",
    "* Fundamentals\n",
    "* Stocks\n",
    "* Securities\n",
    "* Ratings\n",
    "* SCA Filings\n",
    "\n",
    "Result should have 348 rows, 189 columns"
   ],
   "metadata": {
    "collapsed": false
   }
  },
  {
   "cell_type": "code",
   "execution_count": 951,
   "outputs": [
    {
     "data": {
      "text/plain": "              DF                                         ActionDesc  \\\n0   Fundamentals  Dropped obvious low value columns -- 1 -- Date...   \n1   Fundamentals  Initial Null Drop -- columns w/ 63% Null or more.   \n2   Fundamentals          Dropped columns with only 1 unique value    \n3   Fundamentals  Dropping all that are not standard statements ...   \n4   Fundamentals   Second Null Drop -- columns w/ 20% Null or more.   \n5   Fundamentals                  Dropping Columns w/ Only 2 values   \n6   Fundamentals  Second Manual Column Reduce - Dropping Identif...   \n7   Fundamentals  Third Manual Column Reduce  - Targetted Reduce...   \n8   Fundamentals  Summary Features  - Used to create features, t...   \n9   Fundamentals                                     Group by GVKey   \n10  Fundamentals                              Join Restatement Data   \n11       Ratings                           Capturing Original Shape   \n12       Ratings                         Trim Rows by GSector == 30   \n13       Ratings  Dropped obvious low value columns -- 1 -- Date...   \n14       Ratings  Dropped Nulls -- 1 -- More than 50% Null -- Dr...   \n15       Ratings                                     Group by GVKey   \n16    Securities                           Capturing Original Shape   \n17    Securities  Dropped obvious low value columns -- 1 -- Date...   \n18    Securities           Dropped Nulls -- 1 -- More than 20% Null   \n19    Securities                  Dropping Columns w/ Only 2 values   \n20    Securities  Manual Drop -- 2 -- Low value or duplicated by...   \n21    Securities                                     Group by GVKey   \n22        Stocks                           Capturing Original Shape   \n23        Stocks           Dropped Nulls -- 1 -- More than 20% Null   \n24        Stocks  Dropped obvious low value columns -- 1 -- Date...   \n25        Stocks                  Dropping Columns w/ Only 2 values   \n26        Stocks  Manual Drop -- 2 -- Low value or duplicated by...   \n27        Stocks                                     Group by GVKey   \n28        Stocks  Add Calculated Fields -- replace variables no ...   \n29   SCA_Filings                           Capturing Original Shape   \n30   SCA_Filings  Manual Drop -- 1 -- Low value or duplicated by...   \n31   SCA_Filings                                    Group by Ticker   \n32   SCA_Filings                        Create Boolean Response Var   \n33    completeDF          Make CompleteDF from a copy of fundaments   \n\n                                         List-of-Cols   ResultShape  \n0   [datadate, apdedate, fdate, pdate, fyr, add1, ...  (2323, 1744)  \n1   [acctchg, acqmeth, adrr, bspr, compst, curuscn...   (2323, 326)  \n2   [indfmt, consol, popsrc, curcd, final, scf, ac...   (2323, 310)  \n3    applies to all cols, roughly 50% of rows dropped   (1243, 310)  \n4   [cld2, cld3, cld4, cld5, cshr, dd3, dd4, dd5, ...   (1243, 265)  \n5   [datafmt, ismod, upd, rdip, rdipa, rdipd, rdip...   (1243, 250)  \n6   [Unnamed: 0, conm, au, auopic, pddur, dpact_fn...   (1243, 240)  \n7   [lco, lcox, lcoxdr, lo, loxdr, mib, mibn, ppev...    (1243, 92)  \n8                      [drc, drlt, rea, reajo, recta]    (1243, 88)  \n9                                                 All    (348, 167)  \n10                                   Restatement Cols    (348, 172)  \n11                                                N/A  (123678, 21)  \n12                                                All   (17902, 21)  \n13  [city, ggroup, gind, gsector, gsubind, loc, na...    (17902, 6)  \n14                       [splticrm, spsdrm, spsticrm]    (17902, 3)  \n15  [city, ggroup, gind, gsector, gsubind, loc, na...      (452, 3)  \n16                                                N/A   (32382, 56)  \n17  [Unnamed: 0, conm, city, conml, cyear, ggroup,...   (32382, 43)  \n18  [isalrt, spgim, spiim, spmim, cheqvm, curcddvm...   (32382, 20)  \n19               [primiss, curcdm, mkvalincl, costat]   (32382, 16)  \n20  [iid, tic, cmth, exchg, tpci, cshtrm, prccm, p...    (32382, 6)  \n21  [iid, tic, cmth, exchg, tpci, cshtrm, prccm, p...      (690, 7)  \n22                                                N/A  (673564, 77)  \n23  [curcddv, capgn, cheqv, div, divd, divdpaydate...  (673564, 40)  \n24  [Unnamed: 0, tic, conm, curcdd, fic, add1, add...  (673564, 16)  \n25                            [secstat, costat, stko]  (673564, 13)  \n26      [iid, exchg, tpci, cik, cshtrd, ajexdi, trfd]   (673564, 6)  \n27      [iid, exchg, tpci, cik, cshtrd, ajexdi, trfd]      (689, 9)  \n28      [iid, exchg, tpci, cik, cshtrd, ajexdi, trfd]      (689, 8)  \n29                                                N/A     (1892, 6)  \n30      [FilingName, Exchange, FilingYear, Dismissed]     (1892, 2)  \n31      [FilingName, Exchange, FilingYear, Dismissed]     (1506, 2)  \n32      [FilingName, Exchange, FilingYear, Dismissed]     (1506, 3)  \n33                              All fundamentals cols    (348, 172)  ",
      "text/html": "<div>\n<style scoped>\n    .dataframe tbody tr th:only-of-type {\n        vertical-align: middle;\n    }\n\n    .dataframe tbody tr th {\n        vertical-align: top;\n    }\n\n    .dataframe thead th {\n        text-align: right;\n    }\n</style>\n<table border=\"1\" class=\"dataframe\">\n  <thead>\n    <tr style=\"text-align: right;\">\n      <th></th>\n      <th>DF</th>\n      <th>ActionDesc</th>\n      <th>List-of-Cols</th>\n      <th>ResultShape</th>\n    </tr>\n  </thead>\n  <tbody>\n    <tr>\n      <th>0</th>\n      <td>Fundamentals</td>\n      <td>Dropped obvious low value columns -- 1 -- Date...</td>\n      <td>[datadate, apdedate, fdate, pdate, fyr, add1, ...</td>\n      <td>(2323, 1744)</td>\n    </tr>\n    <tr>\n      <th>1</th>\n      <td>Fundamentals</td>\n      <td>Initial Null Drop -- columns w/ 63% Null or more.</td>\n      <td>[acctchg, acqmeth, adrr, bspr, compst, curuscn...</td>\n      <td>(2323, 326)</td>\n    </tr>\n    <tr>\n      <th>2</th>\n      <td>Fundamentals</td>\n      <td>Dropped columns with only 1 unique value</td>\n      <td>[indfmt, consol, popsrc, curcd, final, scf, ac...</td>\n      <td>(2323, 310)</td>\n    </tr>\n    <tr>\n      <th>3</th>\n      <td>Fundamentals</td>\n      <td>Dropping all that are not standard statements ...</td>\n      <td>applies to all cols, roughly 50% of rows dropped</td>\n      <td>(1243, 310)</td>\n    </tr>\n    <tr>\n      <th>4</th>\n      <td>Fundamentals</td>\n      <td>Second Null Drop -- columns w/ 20% Null or more.</td>\n      <td>[cld2, cld3, cld4, cld5, cshr, dd3, dd4, dd5, ...</td>\n      <td>(1243, 265)</td>\n    </tr>\n    <tr>\n      <th>5</th>\n      <td>Fundamentals</td>\n      <td>Dropping Columns w/ Only 2 values</td>\n      <td>[datafmt, ismod, upd, rdip, rdipa, rdipd, rdip...</td>\n      <td>(1243, 250)</td>\n    </tr>\n    <tr>\n      <th>6</th>\n      <td>Fundamentals</td>\n      <td>Second Manual Column Reduce - Dropping Identif...</td>\n      <td>[Unnamed: 0, conm, au, auopic, pddur, dpact_fn...</td>\n      <td>(1243, 240)</td>\n    </tr>\n    <tr>\n      <th>7</th>\n      <td>Fundamentals</td>\n      <td>Third Manual Column Reduce  - Targetted Reduce...</td>\n      <td>[lco, lcox, lcoxdr, lo, loxdr, mib, mibn, ppev...</td>\n      <td>(1243, 92)</td>\n    </tr>\n    <tr>\n      <th>8</th>\n      <td>Fundamentals</td>\n      <td>Summary Features  - Used to create features, t...</td>\n      <td>[drc, drlt, rea, reajo, recta]</td>\n      <td>(1243, 88)</td>\n    </tr>\n    <tr>\n      <th>9</th>\n      <td>Fundamentals</td>\n      <td>Group by GVKey</td>\n      <td>All</td>\n      <td>(348, 167)</td>\n    </tr>\n    <tr>\n      <th>10</th>\n      <td>Fundamentals</td>\n      <td>Join Restatement Data</td>\n      <td>Restatement Cols</td>\n      <td>(348, 172)</td>\n    </tr>\n    <tr>\n      <th>11</th>\n      <td>Ratings</td>\n      <td>Capturing Original Shape</td>\n      <td>N/A</td>\n      <td>(123678, 21)</td>\n    </tr>\n    <tr>\n      <th>12</th>\n      <td>Ratings</td>\n      <td>Trim Rows by GSector == 30</td>\n      <td>All</td>\n      <td>(17902, 21)</td>\n    </tr>\n    <tr>\n      <th>13</th>\n      <td>Ratings</td>\n      <td>Dropped obvious low value columns -- 1 -- Date...</td>\n      <td>[city, ggroup, gind, gsector, gsubind, loc, na...</td>\n      <td>(17902, 6)</td>\n    </tr>\n    <tr>\n      <th>14</th>\n      <td>Ratings</td>\n      <td>Dropped Nulls -- 1 -- More than 50% Null -- Dr...</td>\n      <td>[splticrm, spsdrm, spsticrm]</td>\n      <td>(17902, 3)</td>\n    </tr>\n    <tr>\n      <th>15</th>\n      <td>Ratings</td>\n      <td>Group by GVKey</td>\n      <td>[city, ggroup, gind, gsector, gsubind, loc, na...</td>\n      <td>(452, 3)</td>\n    </tr>\n    <tr>\n      <th>16</th>\n      <td>Securities</td>\n      <td>Capturing Original Shape</td>\n      <td>N/A</td>\n      <td>(32382, 56)</td>\n    </tr>\n    <tr>\n      <th>17</th>\n      <td>Securities</td>\n      <td>Dropped obvious low value columns -- 1 -- Date...</td>\n      <td>[Unnamed: 0, conm, city, conml, cyear, ggroup,...</td>\n      <td>(32382, 43)</td>\n    </tr>\n    <tr>\n      <th>18</th>\n      <td>Securities</td>\n      <td>Dropped Nulls -- 1 -- More than 20% Null</td>\n      <td>[isalrt, spgim, spiim, spmim, cheqvm, curcddvm...</td>\n      <td>(32382, 20)</td>\n    </tr>\n    <tr>\n      <th>19</th>\n      <td>Securities</td>\n      <td>Dropping Columns w/ Only 2 values</td>\n      <td>[primiss, curcdm, mkvalincl, costat]</td>\n      <td>(32382, 16)</td>\n    </tr>\n    <tr>\n      <th>20</th>\n      <td>Securities</td>\n      <td>Manual Drop -- 2 -- Low value or duplicated by...</td>\n      <td>[iid, tic, cmth, exchg, tpci, cshtrm, prccm, p...</td>\n      <td>(32382, 6)</td>\n    </tr>\n    <tr>\n      <th>21</th>\n      <td>Securities</td>\n      <td>Group by GVKey</td>\n      <td>[iid, tic, cmth, exchg, tpci, cshtrm, prccm, p...</td>\n      <td>(690, 7)</td>\n    </tr>\n    <tr>\n      <th>22</th>\n      <td>Stocks</td>\n      <td>Capturing Original Shape</td>\n      <td>N/A</td>\n      <td>(673564, 77)</td>\n    </tr>\n    <tr>\n      <th>23</th>\n      <td>Stocks</td>\n      <td>Dropped Nulls -- 1 -- More than 20% Null</td>\n      <td>[curcddv, capgn, cheqv, div, divd, divdpaydate...</td>\n      <td>(673564, 40)</td>\n    </tr>\n    <tr>\n      <th>24</th>\n      <td>Stocks</td>\n      <td>Dropped obvious low value columns -- 1 -- Date...</td>\n      <td>[Unnamed: 0, tic, conm, curcdd, fic, add1, add...</td>\n      <td>(673564, 16)</td>\n    </tr>\n    <tr>\n      <th>25</th>\n      <td>Stocks</td>\n      <td>Dropping Columns w/ Only 2 values</td>\n      <td>[secstat, costat, stko]</td>\n      <td>(673564, 13)</td>\n    </tr>\n    <tr>\n      <th>26</th>\n      <td>Stocks</td>\n      <td>Manual Drop -- 2 -- Low value or duplicated by...</td>\n      <td>[iid, exchg, tpci, cik, cshtrd, ajexdi, trfd]</td>\n      <td>(673564, 6)</td>\n    </tr>\n    <tr>\n      <th>27</th>\n      <td>Stocks</td>\n      <td>Group by GVKey</td>\n      <td>[iid, exchg, tpci, cik, cshtrd, ajexdi, trfd]</td>\n      <td>(689, 9)</td>\n    </tr>\n    <tr>\n      <th>28</th>\n      <td>Stocks</td>\n      <td>Add Calculated Fields -- replace variables no ...</td>\n      <td>[iid, exchg, tpci, cik, cshtrd, ajexdi, trfd]</td>\n      <td>(689, 8)</td>\n    </tr>\n    <tr>\n      <th>29</th>\n      <td>SCA_Filings</td>\n      <td>Capturing Original Shape</td>\n      <td>N/A</td>\n      <td>(1892, 6)</td>\n    </tr>\n    <tr>\n      <th>30</th>\n      <td>SCA_Filings</td>\n      <td>Manual Drop -- 1 -- Low value or duplicated by...</td>\n      <td>[FilingName, Exchange, FilingYear, Dismissed]</td>\n      <td>(1892, 2)</td>\n    </tr>\n    <tr>\n      <th>31</th>\n      <td>SCA_Filings</td>\n      <td>Group by Ticker</td>\n      <td>[FilingName, Exchange, FilingYear, Dismissed]</td>\n      <td>(1506, 2)</td>\n    </tr>\n    <tr>\n      <th>32</th>\n      <td>SCA_Filings</td>\n      <td>Create Boolean Response Var</td>\n      <td>[FilingName, Exchange, FilingYear, Dismissed]</td>\n      <td>(1506, 3)</td>\n    </tr>\n    <tr>\n      <th>33</th>\n      <td>completeDF</td>\n      <td>Make CompleteDF from a copy of fundaments</td>\n      <td>All fundamentals cols</td>\n      <td>(348, 172)</td>\n    </tr>\n  </tbody>\n</table>\n</div>"
     },
     "execution_count": 951,
     "metadata": {},
     "output_type": "execute_result"
    }
   ],
   "source": [
    "# Create copy for all\n",
    "completeDF = fundamentals.copy()\n",
    "\n",
    "# Clean Actions Report\n",
    "cleanActionsDesc = \"Make CompleteDF from a copy of fundaments\"\n",
    "df_name = \"completeDF\"\n",
    "cols = \"All fundamentals cols\"\n",
    "\n",
    "cleanActionsReport(completeDF,df_name,cleanActionsDesc,cols)\n"
   ],
   "metadata": {
    "collapsed": false,
    "pycharm": {
     "name": "#%%\n"
    }
   }
  },
  {
   "cell_type": "code",
   "execution_count": 952,
   "outputs": [
    {
     "data": {
      "text/plain": "              DF                                         ActionDesc  \\\n0   Fundamentals  Dropped obvious low value columns -- 1 -- Date...   \n1   Fundamentals  Initial Null Drop -- columns w/ 63% Null or more.   \n2   Fundamentals          Dropped columns with only 1 unique value    \n3   Fundamentals  Dropping all that are not standard statements ...   \n4   Fundamentals   Second Null Drop -- columns w/ 20% Null or more.   \n5   Fundamentals                  Dropping Columns w/ Only 2 values   \n6   Fundamentals  Second Manual Column Reduce - Dropping Identif...   \n7   Fundamentals  Third Manual Column Reduce  - Targetted Reduce...   \n8   Fundamentals  Summary Features  - Used to create features, t...   \n9   Fundamentals                                     Group by GVKey   \n10  Fundamentals                              Join Restatement Data   \n11       Ratings                           Capturing Original Shape   \n12       Ratings                         Trim Rows by GSector == 30   \n13       Ratings  Dropped obvious low value columns -- 1 -- Date...   \n14       Ratings  Dropped Nulls -- 1 -- More than 50% Null -- Dr...   \n15       Ratings                                     Group by GVKey   \n16    Securities                           Capturing Original Shape   \n17    Securities  Dropped obvious low value columns -- 1 -- Date...   \n18    Securities           Dropped Nulls -- 1 -- More than 20% Null   \n19    Securities                  Dropping Columns w/ Only 2 values   \n20    Securities  Manual Drop -- 2 -- Low value or duplicated by...   \n21    Securities                                     Group by GVKey   \n22        Stocks                           Capturing Original Shape   \n23        Stocks           Dropped Nulls -- 1 -- More than 20% Null   \n24        Stocks  Dropped obvious low value columns -- 1 -- Date...   \n25        Stocks                  Dropping Columns w/ Only 2 values   \n26        Stocks  Manual Drop -- 2 -- Low value or duplicated by...   \n27        Stocks                                     Group by GVKey   \n28        Stocks  Add Calculated Fields -- replace variables no ...   \n29   SCA_Filings                           Capturing Original Shape   \n30   SCA_Filings  Manual Drop -- 1 -- Low value or duplicated by...   \n31   SCA_Filings                                    Group by Ticker   \n32   SCA_Filings                        Create Boolean Response Var   \n33    completeDF          Make CompleteDF from a copy of fundaments   \n34    completeDF                           Add Stocks to CompleteDF   \n\n                                         List-of-Cols   ResultShape  \n0   [datadate, apdedate, fdate, pdate, fyr, add1, ...  (2323, 1744)  \n1   [acctchg, acqmeth, adrr, bspr, compst, curuscn...   (2323, 326)  \n2   [indfmt, consol, popsrc, curcd, final, scf, ac...   (2323, 310)  \n3    applies to all cols, roughly 50% of rows dropped   (1243, 310)  \n4   [cld2, cld3, cld4, cld5, cshr, dd3, dd4, dd5, ...   (1243, 265)  \n5   [datafmt, ismod, upd, rdip, rdipa, rdipd, rdip...   (1243, 250)  \n6   [Unnamed: 0, conm, au, auopic, pddur, dpact_fn...   (1243, 240)  \n7   [lco, lcox, lcoxdr, lo, loxdr, mib, mibn, ppev...    (1243, 92)  \n8                      [drc, drlt, rea, reajo, recta]    (1243, 88)  \n9                                                 All    (348, 167)  \n10                                   Restatement Cols    (348, 172)  \n11                                                N/A  (123678, 21)  \n12                                                All   (17902, 21)  \n13  [city, ggroup, gind, gsector, gsubind, loc, na...    (17902, 6)  \n14                       [splticrm, spsdrm, spsticrm]    (17902, 3)  \n15  [city, ggroup, gind, gsector, gsubind, loc, na...      (452, 3)  \n16                                                N/A   (32382, 56)  \n17  [Unnamed: 0, conm, city, conml, cyear, ggroup,...   (32382, 43)  \n18  [isalrt, spgim, spiim, spmim, cheqvm, curcddvm...   (32382, 20)  \n19               [primiss, curcdm, mkvalincl, costat]   (32382, 16)  \n20  [iid, tic, cmth, exchg, tpci, cshtrm, prccm, p...    (32382, 6)  \n21  [iid, tic, cmth, exchg, tpci, cshtrm, prccm, p...      (690, 7)  \n22                                                N/A  (673564, 77)  \n23  [curcddv, capgn, cheqv, div, divd, divdpaydate...  (673564, 40)  \n24  [Unnamed: 0, tic, conm, curcdd, fic, add1, add...  (673564, 16)  \n25                            [secstat, costat, stko]  (673564, 13)  \n26      [iid, exchg, tpci, cik, cshtrd, ajexdi, trfd]   (673564, 6)  \n27      [iid, exchg, tpci, cik, cshtrd, ajexdi, trfd]      (689, 9)  \n28      [iid, exchg, tpci, cik, cshtrd, ajexdi, trfd]      (689, 8)  \n29                                                N/A     (1892, 6)  \n30      [FilingName, Exchange, FilingYear, Dismissed]     (1892, 2)  \n31      [FilingName, Exchange, FilingYear, Dismissed]     (1506, 2)  \n32      [FilingName, Exchange, FilingYear, Dismissed]     (1506, 3)  \n33                              All fundamentals cols    (348, 172)  \n34                              fundamentals + stocks    (348, 179)  ",
      "text/html": "<div>\n<style scoped>\n    .dataframe tbody tr th:only-of-type {\n        vertical-align: middle;\n    }\n\n    .dataframe tbody tr th {\n        vertical-align: top;\n    }\n\n    .dataframe thead th {\n        text-align: right;\n    }\n</style>\n<table border=\"1\" class=\"dataframe\">\n  <thead>\n    <tr style=\"text-align: right;\">\n      <th></th>\n      <th>DF</th>\n      <th>ActionDesc</th>\n      <th>List-of-Cols</th>\n      <th>ResultShape</th>\n    </tr>\n  </thead>\n  <tbody>\n    <tr>\n      <th>0</th>\n      <td>Fundamentals</td>\n      <td>Dropped obvious low value columns -- 1 -- Date...</td>\n      <td>[datadate, apdedate, fdate, pdate, fyr, add1, ...</td>\n      <td>(2323, 1744)</td>\n    </tr>\n    <tr>\n      <th>1</th>\n      <td>Fundamentals</td>\n      <td>Initial Null Drop -- columns w/ 63% Null or more.</td>\n      <td>[acctchg, acqmeth, adrr, bspr, compst, curuscn...</td>\n      <td>(2323, 326)</td>\n    </tr>\n    <tr>\n      <th>2</th>\n      <td>Fundamentals</td>\n      <td>Dropped columns with only 1 unique value</td>\n      <td>[indfmt, consol, popsrc, curcd, final, scf, ac...</td>\n      <td>(2323, 310)</td>\n    </tr>\n    <tr>\n      <th>3</th>\n      <td>Fundamentals</td>\n      <td>Dropping all that are not standard statements ...</td>\n      <td>applies to all cols, roughly 50% of rows dropped</td>\n      <td>(1243, 310)</td>\n    </tr>\n    <tr>\n      <th>4</th>\n      <td>Fundamentals</td>\n      <td>Second Null Drop -- columns w/ 20% Null or more.</td>\n      <td>[cld2, cld3, cld4, cld5, cshr, dd3, dd4, dd5, ...</td>\n      <td>(1243, 265)</td>\n    </tr>\n    <tr>\n      <th>5</th>\n      <td>Fundamentals</td>\n      <td>Dropping Columns w/ Only 2 values</td>\n      <td>[datafmt, ismod, upd, rdip, rdipa, rdipd, rdip...</td>\n      <td>(1243, 250)</td>\n    </tr>\n    <tr>\n      <th>6</th>\n      <td>Fundamentals</td>\n      <td>Second Manual Column Reduce - Dropping Identif...</td>\n      <td>[Unnamed: 0, conm, au, auopic, pddur, dpact_fn...</td>\n      <td>(1243, 240)</td>\n    </tr>\n    <tr>\n      <th>7</th>\n      <td>Fundamentals</td>\n      <td>Third Manual Column Reduce  - Targetted Reduce...</td>\n      <td>[lco, lcox, lcoxdr, lo, loxdr, mib, mibn, ppev...</td>\n      <td>(1243, 92)</td>\n    </tr>\n    <tr>\n      <th>8</th>\n      <td>Fundamentals</td>\n      <td>Summary Features  - Used to create features, t...</td>\n      <td>[drc, drlt, rea, reajo, recta]</td>\n      <td>(1243, 88)</td>\n    </tr>\n    <tr>\n      <th>9</th>\n      <td>Fundamentals</td>\n      <td>Group by GVKey</td>\n      <td>All</td>\n      <td>(348, 167)</td>\n    </tr>\n    <tr>\n      <th>10</th>\n      <td>Fundamentals</td>\n      <td>Join Restatement Data</td>\n      <td>Restatement Cols</td>\n      <td>(348, 172)</td>\n    </tr>\n    <tr>\n      <th>11</th>\n      <td>Ratings</td>\n      <td>Capturing Original Shape</td>\n      <td>N/A</td>\n      <td>(123678, 21)</td>\n    </tr>\n    <tr>\n      <th>12</th>\n      <td>Ratings</td>\n      <td>Trim Rows by GSector == 30</td>\n      <td>All</td>\n      <td>(17902, 21)</td>\n    </tr>\n    <tr>\n      <th>13</th>\n      <td>Ratings</td>\n      <td>Dropped obvious low value columns -- 1 -- Date...</td>\n      <td>[city, ggroup, gind, gsector, gsubind, loc, na...</td>\n      <td>(17902, 6)</td>\n    </tr>\n    <tr>\n      <th>14</th>\n      <td>Ratings</td>\n      <td>Dropped Nulls -- 1 -- More than 50% Null -- Dr...</td>\n      <td>[splticrm, spsdrm, spsticrm]</td>\n      <td>(17902, 3)</td>\n    </tr>\n    <tr>\n      <th>15</th>\n      <td>Ratings</td>\n      <td>Group by GVKey</td>\n      <td>[city, ggroup, gind, gsector, gsubind, loc, na...</td>\n      <td>(452, 3)</td>\n    </tr>\n    <tr>\n      <th>16</th>\n      <td>Securities</td>\n      <td>Capturing Original Shape</td>\n      <td>N/A</td>\n      <td>(32382, 56)</td>\n    </tr>\n    <tr>\n      <th>17</th>\n      <td>Securities</td>\n      <td>Dropped obvious low value columns -- 1 -- Date...</td>\n      <td>[Unnamed: 0, conm, city, conml, cyear, ggroup,...</td>\n      <td>(32382, 43)</td>\n    </tr>\n    <tr>\n      <th>18</th>\n      <td>Securities</td>\n      <td>Dropped Nulls -- 1 -- More than 20% Null</td>\n      <td>[isalrt, spgim, spiim, spmim, cheqvm, curcddvm...</td>\n      <td>(32382, 20)</td>\n    </tr>\n    <tr>\n      <th>19</th>\n      <td>Securities</td>\n      <td>Dropping Columns w/ Only 2 values</td>\n      <td>[primiss, curcdm, mkvalincl, costat]</td>\n      <td>(32382, 16)</td>\n    </tr>\n    <tr>\n      <th>20</th>\n      <td>Securities</td>\n      <td>Manual Drop -- 2 -- Low value or duplicated by...</td>\n      <td>[iid, tic, cmth, exchg, tpci, cshtrm, prccm, p...</td>\n      <td>(32382, 6)</td>\n    </tr>\n    <tr>\n      <th>21</th>\n      <td>Securities</td>\n      <td>Group by GVKey</td>\n      <td>[iid, tic, cmth, exchg, tpci, cshtrm, prccm, p...</td>\n      <td>(690, 7)</td>\n    </tr>\n    <tr>\n      <th>22</th>\n      <td>Stocks</td>\n      <td>Capturing Original Shape</td>\n      <td>N/A</td>\n      <td>(673564, 77)</td>\n    </tr>\n    <tr>\n      <th>23</th>\n      <td>Stocks</td>\n      <td>Dropped Nulls -- 1 -- More than 20% Null</td>\n      <td>[curcddv, capgn, cheqv, div, divd, divdpaydate...</td>\n      <td>(673564, 40)</td>\n    </tr>\n    <tr>\n      <th>24</th>\n      <td>Stocks</td>\n      <td>Dropped obvious low value columns -- 1 -- Date...</td>\n      <td>[Unnamed: 0, tic, conm, curcdd, fic, add1, add...</td>\n      <td>(673564, 16)</td>\n    </tr>\n    <tr>\n      <th>25</th>\n      <td>Stocks</td>\n      <td>Dropping Columns w/ Only 2 values</td>\n      <td>[secstat, costat, stko]</td>\n      <td>(673564, 13)</td>\n    </tr>\n    <tr>\n      <th>26</th>\n      <td>Stocks</td>\n      <td>Manual Drop -- 2 -- Low value or duplicated by...</td>\n      <td>[iid, exchg, tpci, cik, cshtrd, ajexdi, trfd]</td>\n      <td>(673564, 6)</td>\n    </tr>\n    <tr>\n      <th>27</th>\n      <td>Stocks</td>\n      <td>Group by GVKey</td>\n      <td>[iid, exchg, tpci, cik, cshtrd, ajexdi, trfd]</td>\n      <td>(689, 9)</td>\n    </tr>\n    <tr>\n      <th>28</th>\n      <td>Stocks</td>\n      <td>Add Calculated Fields -- replace variables no ...</td>\n      <td>[iid, exchg, tpci, cik, cshtrd, ajexdi, trfd]</td>\n      <td>(689, 8)</td>\n    </tr>\n    <tr>\n      <th>29</th>\n      <td>SCA_Filings</td>\n      <td>Capturing Original Shape</td>\n      <td>N/A</td>\n      <td>(1892, 6)</td>\n    </tr>\n    <tr>\n      <th>30</th>\n      <td>SCA_Filings</td>\n      <td>Manual Drop -- 1 -- Low value or duplicated by...</td>\n      <td>[FilingName, Exchange, FilingYear, Dismissed]</td>\n      <td>(1892, 2)</td>\n    </tr>\n    <tr>\n      <th>31</th>\n      <td>SCA_Filings</td>\n      <td>Group by Ticker</td>\n      <td>[FilingName, Exchange, FilingYear, Dismissed]</td>\n      <td>(1506, 2)</td>\n    </tr>\n    <tr>\n      <th>32</th>\n      <td>SCA_Filings</td>\n      <td>Create Boolean Response Var</td>\n      <td>[FilingName, Exchange, FilingYear, Dismissed]</td>\n      <td>(1506, 3)</td>\n    </tr>\n    <tr>\n      <th>33</th>\n      <td>completeDF</td>\n      <td>Make CompleteDF from a copy of fundaments</td>\n      <td>All fundamentals cols</td>\n      <td>(348, 172)</td>\n    </tr>\n    <tr>\n      <th>34</th>\n      <td>completeDF</td>\n      <td>Add Stocks to CompleteDF</td>\n      <td>fundamentals + stocks</td>\n      <td>(348, 179)</td>\n    </tr>\n  </tbody>\n</table>\n</div>"
     },
     "execution_count": 952,
     "metadata": {},
     "output_type": "execute_result"
    }
   ],
   "source": [
    "# Join Stocks\n",
    "stocks = stocks.set_index('gvkey')\n",
    "stocks = stocks.add_prefix(prefix=\"st_\")\n",
    "completeDF = completeDF.join(stocks)\n",
    "\n",
    "# Clean Actions Report\n",
    "cleanActionsDesc = \"Add Stocks to CompleteDF\"\n",
    "df_name = \"completeDF\"\n",
    "cols = \"fundamentals + stocks\"\n",
    "\n",
    "cleanActionsReport(completeDF,df_name,cleanActionsDesc,cols)"
   ],
   "metadata": {
    "collapsed": false,
    "pycharm": {
     "name": "#%%\n"
    }
   }
  },
  {
   "cell_type": "code",
   "execution_count": 953,
   "outputs": [
    {
     "data": {
      "text/plain": "              DF                                         ActionDesc  \\\n0   Fundamentals  Dropped obvious low value columns -- 1 -- Date...   \n1   Fundamentals  Initial Null Drop -- columns w/ 63% Null or more.   \n2   Fundamentals          Dropped columns with only 1 unique value    \n3   Fundamentals  Dropping all that are not standard statements ...   \n4   Fundamentals   Second Null Drop -- columns w/ 20% Null or more.   \n5   Fundamentals                  Dropping Columns w/ Only 2 values   \n6   Fundamentals  Second Manual Column Reduce - Dropping Identif...   \n7   Fundamentals  Third Manual Column Reduce  - Targetted Reduce...   \n8   Fundamentals  Summary Features  - Used to create features, t...   \n9   Fundamentals                                     Group by GVKey   \n10  Fundamentals                              Join Restatement Data   \n11       Ratings                           Capturing Original Shape   \n12       Ratings                         Trim Rows by GSector == 30   \n13       Ratings  Dropped obvious low value columns -- 1 -- Date...   \n14       Ratings  Dropped Nulls -- 1 -- More than 50% Null -- Dr...   \n15       Ratings                                     Group by GVKey   \n16    Securities                           Capturing Original Shape   \n17    Securities  Dropped obvious low value columns -- 1 -- Date...   \n18    Securities           Dropped Nulls -- 1 -- More than 20% Null   \n19    Securities                  Dropping Columns w/ Only 2 values   \n20    Securities  Manual Drop -- 2 -- Low value or duplicated by...   \n21    Securities                                     Group by GVKey   \n22        Stocks                           Capturing Original Shape   \n23        Stocks           Dropped Nulls -- 1 -- More than 20% Null   \n24        Stocks  Dropped obvious low value columns -- 1 -- Date...   \n25        Stocks                  Dropping Columns w/ Only 2 values   \n26        Stocks  Manual Drop -- 2 -- Low value or duplicated by...   \n27        Stocks                                     Group by GVKey   \n28        Stocks  Add Calculated Fields -- replace variables no ...   \n29   SCA_Filings                           Capturing Original Shape   \n30   SCA_Filings  Manual Drop -- 1 -- Low value or duplicated by...   \n31   SCA_Filings                                    Group by Ticker   \n32   SCA_Filings                        Create Boolean Response Var   \n33    completeDF          Make CompleteDF from a copy of fundaments   \n34    completeDF                           Add Stocks to CompleteDF   \n35    completeDF                       Add Securities to CompleteDF   \n\n                                         List-of-Cols   ResultShape  \n0   [datadate, apdedate, fdate, pdate, fyr, add1, ...  (2323, 1744)  \n1   [acctchg, acqmeth, adrr, bspr, compst, curuscn...   (2323, 326)  \n2   [indfmt, consol, popsrc, curcd, final, scf, ac...   (2323, 310)  \n3    applies to all cols, roughly 50% of rows dropped   (1243, 310)  \n4   [cld2, cld3, cld4, cld5, cshr, dd3, dd4, dd5, ...   (1243, 265)  \n5   [datafmt, ismod, upd, rdip, rdipa, rdipd, rdip...   (1243, 250)  \n6   [Unnamed: 0, conm, au, auopic, pddur, dpact_fn...   (1243, 240)  \n7   [lco, lcox, lcoxdr, lo, loxdr, mib, mibn, ppev...    (1243, 92)  \n8                      [drc, drlt, rea, reajo, recta]    (1243, 88)  \n9                                                 All    (348, 167)  \n10                                   Restatement Cols    (348, 172)  \n11                                                N/A  (123678, 21)  \n12                                                All   (17902, 21)  \n13  [city, ggroup, gind, gsector, gsubind, loc, na...    (17902, 6)  \n14                       [splticrm, spsdrm, spsticrm]    (17902, 3)  \n15  [city, ggroup, gind, gsector, gsubind, loc, na...      (452, 3)  \n16                                                N/A   (32382, 56)  \n17  [Unnamed: 0, conm, city, conml, cyear, ggroup,...   (32382, 43)  \n18  [isalrt, spgim, spiim, spmim, cheqvm, curcddvm...   (32382, 20)  \n19               [primiss, curcdm, mkvalincl, costat]   (32382, 16)  \n20  [iid, tic, cmth, exchg, tpci, cshtrm, prccm, p...    (32382, 6)  \n21  [iid, tic, cmth, exchg, tpci, cshtrm, prccm, p...      (690, 7)  \n22                                                N/A  (673564, 77)  \n23  [curcddv, capgn, cheqv, div, divd, divdpaydate...  (673564, 40)  \n24  [Unnamed: 0, tic, conm, curcdd, fic, add1, add...  (673564, 16)  \n25                            [secstat, costat, stko]  (673564, 13)  \n26      [iid, exchg, tpci, cik, cshtrd, ajexdi, trfd]   (673564, 6)  \n27      [iid, exchg, tpci, cik, cshtrd, ajexdi, trfd]      (689, 9)  \n28      [iid, exchg, tpci, cik, cshtrd, ajexdi, trfd]      (689, 8)  \n29                                                N/A     (1892, 6)  \n30      [FilingName, Exchange, FilingYear, Dismissed]     (1892, 2)  \n31      [FilingName, Exchange, FilingYear, Dismissed]     (1506, 2)  \n32      [FilingName, Exchange, FilingYear, Dismissed]     (1506, 3)  \n33                              All fundamentals cols    (348, 172)  \n34                              fundamentals + stocks    (348, 179)  \n35                  fundamentals + stocks + securites    (348, 185)  ",
      "text/html": "<div>\n<style scoped>\n    .dataframe tbody tr th:only-of-type {\n        vertical-align: middle;\n    }\n\n    .dataframe tbody tr th {\n        vertical-align: top;\n    }\n\n    .dataframe thead th {\n        text-align: right;\n    }\n</style>\n<table border=\"1\" class=\"dataframe\">\n  <thead>\n    <tr style=\"text-align: right;\">\n      <th></th>\n      <th>DF</th>\n      <th>ActionDesc</th>\n      <th>List-of-Cols</th>\n      <th>ResultShape</th>\n    </tr>\n  </thead>\n  <tbody>\n    <tr>\n      <th>0</th>\n      <td>Fundamentals</td>\n      <td>Dropped obvious low value columns -- 1 -- Date...</td>\n      <td>[datadate, apdedate, fdate, pdate, fyr, add1, ...</td>\n      <td>(2323, 1744)</td>\n    </tr>\n    <tr>\n      <th>1</th>\n      <td>Fundamentals</td>\n      <td>Initial Null Drop -- columns w/ 63% Null or more.</td>\n      <td>[acctchg, acqmeth, adrr, bspr, compst, curuscn...</td>\n      <td>(2323, 326)</td>\n    </tr>\n    <tr>\n      <th>2</th>\n      <td>Fundamentals</td>\n      <td>Dropped columns with only 1 unique value</td>\n      <td>[indfmt, consol, popsrc, curcd, final, scf, ac...</td>\n      <td>(2323, 310)</td>\n    </tr>\n    <tr>\n      <th>3</th>\n      <td>Fundamentals</td>\n      <td>Dropping all that are not standard statements ...</td>\n      <td>applies to all cols, roughly 50% of rows dropped</td>\n      <td>(1243, 310)</td>\n    </tr>\n    <tr>\n      <th>4</th>\n      <td>Fundamentals</td>\n      <td>Second Null Drop -- columns w/ 20% Null or more.</td>\n      <td>[cld2, cld3, cld4, cld5, cshr, dd3, dd4, dd5, ...</td>\n      <td>(1243, 265)</td>\n    </tr>\n    <tr>\n      <th>5</th>\n      <td>Fundamentals</td>\n      <td>Dropping Columns w/ Only 2 values</td>\n      <td>[datafmt, ismod, upd, rdip, rdipa, rdipd, rdip...</td>\n      <td>(1243, 250)</td>\n    </tr>\n    <tr>\n      <th>6</th>\n      <td>Fundamentals</td>\n      <td>Second Manual Column Reduce - Dropping Identif...</td>\n      <td>[Unnamed: 0, conm, au, auopic, pddur, dpact_fn...</td>\n      <td>(1243, 240)</td>\n    </tr>\n    <tr>\n      <th>7</th>\n      <td>Fundamentals</td>\n      <td>Third Manual Column Reduce  - Targetted Reduce...</td>\n      <td>[lco, lcox, lcoxdr, lo, loxdr, mib, mibn, ppev...</td>\n      <td>(1243, 92)</td>\n    </tr>\n    <tr>\n      <th>8</th>\n      <td>Fundamentals</td>\n      <td>Summary Features  - Used to create features, t...</td>\n      <td>[drc, drlt, rea, reajo, recta]</td>\n      <td>(1243, 88)</td>\n    </tr>\n    <tr>\n      <th>9</th>\n      <td>Fundamentals</td>\n      <td>Group by GVKey</td>\n      <td>All</td>\n      <td>(348, 167)</td>\n    </tr>\n    <tr>\n      <th>10</th>\n      <td>Fundamentals</td>\n      <td>Join Restatement Data</td>\n      <td>Restatement Cols</td>\n      <td>(348, 172)</td>\n    </tr>\n    <tr>\n      <th>11</th>\n      <td>Ratings</td>\n      <td>Capturing Original Shape</td>\n      <td>N/A</td>\n      <td>(123678, 21)</td>\n    </tr>\n    <tr>\n      <th>12</th>\n      <td>Ratings</td>\n      <td>Trim Rows by GSector == 30</td>\n      <td>All</td>\n      <td>(17902, 21)</td>\n    </tr>\n    <tr>\n      <th>13</th>\n      <td>Ratings</td>\n      <td>Dropped obvious low value columns -- 1 -- Date...</td>\n      <td>[city, ggroup, gind, gsector, gsubind, loc, na...</td>\n      <td>(17902, 6)</td>\n    </tr>\n    <tr>\n      <th>14</th>\n      <td>Ratings</td>\n      <td>Dropped Nulls -- 1 -- More than 50% Null -- Dr...</td>\n      <td>[splticrm, spsdrm, spsticrm]</td>\n      <td>(17902, 3)</td>\n    </tr>\n    <tr>\n      <th>15</th>\n      <td>Ratings</td>\n      <td>Group by GVKey</td>\n      <td>[city, ggroup, gind, gsector, gsubind, loc, na...</td>\n      <td>(452, 3)</td>\n    </tr>\n    <tr>\n      <th>16</th>\n      <td>Securities</td>\n      <td>Capturing Original Shape</td>\n      <td>N/A</td>\n      <td>(32382, 56)</td>\n    </tr>\n    <tr>\n      <th>17</th>\n      <td>Securities</td>\n      <td>Dropped obvious low value columns -- 1 -- Date...</td>\n      <td>[Unnamed: 0, conm, city, conml, cyear, ggroup,...</td>\n      <td>(32382, 43)</td>\n    </tr>\n    <tr>\n      <th>18</th>\n      <td>Securities</td>\n      <td>Dropped Nulls -- 1 -- More than 20% Null</td>\n      <td>[isalrt, spgim, spiim, spmim, cheqvm, curcddvm...</td>\n      <td>(32382, 20)</td>\n    </tr>\n    <tr>\n      <th>19</th>\n      <td>Securities</td>\n      <td>Dropping Columns w/ Only 2 values</td>\n      <td>[primiss, curcdm, mkvalincl, costat]</td>\n      <td>(32382, 16)</td>\n    </tr>\n    <tr>\n      <th>20</th>\n      <td>Securities</td>\n      <td>Manual Drop -- 2 -- Low value or duplicated by...</td>\n      <td>[iid, tic, cmth, exchg, tpci, cshtrm, prccm, p...</td>\n      <td>(32382, 6)</td>\n    </tr>\n    <tr>\n      <th>21</th>\n      <td>Securities</td>\n      <td>Group by GVKey</td>\n      <td>[iid, tic, cmth, exchg, tpci, cshtrm, prccm, p...</td>\n      <td>(690, 7)</td>\n    </tr>\n    <tr>\n      <th>22</th>\n      <td>Stocks</td>\n      <td>Capturing Original Shape</td>\n      <td>N/A</td>\n      <td>(673564, 77)</td>\n    </tr>\n    <tr>\n      <th>23</th>\n      <td>Stocks</td>\n      <td>Dropped Nulls -- 1 -- More than 20% Null</td>\n      <td>[curcddv, capgn, cheqv, div, divd, divdpaydate...</td>\n      <td>(673564, 40)</td>\n    </tr>\n    <tr>\n      <th>24</th>\n      <td>Stocks</td>\n      <td>Dropped obvious low value columns -- 1 -- Date...</td>\n      <td>[Unnamed: 0, tic, conm, curcdd, fic, add1, add...</td>\n      <td>(673564, 16)</td>\n    </tr>\n    <tr>\n      <th>25</th>\n      <td>Stocks</td>\n      <td>Dropping Columns w/ Only 2 values</td>\n      <td>[secstat, costat, stko]</td>\n      <td>(673564, 13)</td>\n    </tr>\n    <tr>\n      <th>26</th>\n      <td>Stocks</td>\n      <td>Manual Drop -- 2 -- Low value or duplicated by...</td>\n      <td>[iid, exchg, tpci, cik, cshtrd, ajexdi, trfd]</td>\n      <td>(673564, 6)</td>\n    </tr>\n    <tr>\n      <th>27</th>\n      <td>Stocks</td>\n      <td>Group by GVKey</td>\n      <td>[iid, exchg, tpci, cik, cshtrd, ajexdi, trfd]</td>\n      <td>(689, 9)</td>\n    </tr>\n    <tr>\n      <th>28</th>\n      <td>Stocks</td>\n      <td>Add Calculated Fields -- replace variables no ...</td>\n      <td>[iid, exchg, tpci, cik, cshtrd, ajexdi, trfd]</td>\n      <td>(689, 8)</td>\n    </tr>\n    <tr>\n      <th>29</th>\n      <td>SCA_Filings</td>\n      <td>Capturing Original Shape</td>\n      <td>N/A</td>\n      <td>(1892, 6)</td>\n    </tr>\n    <tr>\n      <th>30</th>\n      <td>SCA_Filings</td>\n      <td>Manual Drop -- 1 -- Low value or duplicated by...</td>\n      <td>[FilingName, Exchange, FilingYear, Dismissed]</td>\n      <td>(1892, 2)</td>\n    </tr>\n    <tr>\n      <th>31</th>\n      <td>SCA_Filings</td>\n      <td>Group by Ticker</td>\n      <td>[FilingName, Exchange, FilingYear, Dismissed]</td>\n      <td>(1506, 2)</td>\n    </tr>\n    <tr>\n      <th>32</th>\n      <td>SCA_Filings</td>\n      <td>Create Boolean Response Var</td>\n      <td>[FilingName, Exchange, FilingYear, Dismissed]</td>\n      <td>(1506, 3)</td>\n    </tr>\n    <tr>\n      <th>33</th>\n      <td>completeDF</td>\n      <td>Make CompleteDF from a copy of fundaments</td>\n      <td>All fundamentals cols</td>\n      <td>(348, 172)</td>\n    </tr>\n    <tr>\n      <th>34</th>\n      <td>completeDF</td>\n      <td>Add Stocks to CompleteDF</td>\n      <td>fundamentals + stocks</td>\n      <td>(348, 179)</td>\n    </tr>\n    <tr>\n      <th>35</th>\n      <td>completeDF</td>\n      <td>Add Securities to CompleteDF</td>\n      <td>fundamentals + stocks + securites</td>\n      <td>(348, 185)</td>\n    </tr>\n  </tbody>\n</table>\n</div>"
     },
     "execution_count": 953,
     "metadata": {},
     "output_type": "execute_result"
    }
   ],
   "source": [
    "# Join Securities\n",
    "securities = securities.set_index('gvkey')\n",
    "securities = securities.add_prefix(prefix=\"sec_\")\n",
    "completeDF = completeDF.join(securities)\n",
    "\n",
    "# Clean Actions Report\n",
    "cleanActionsDesc = \"Add Securities to CompleteDF\"\n",
    "df_name = \"completeDF\"\n",
    "cols = \"fundamentals + stocks + securites\"\n",
    "\n",
    "cleanActionsReport(completeDF,df_name,cleanActionsDesc,cols)\n"
   ],
   "metadata": {
    "collapsed": false,
    "pycharm": {
     "name": "#%%\n"
    }
   }
  },
  {
   "cell_type": "code",
   "execution_count": 954,
   "outputs": [
    {
     "data": {
      "text/plain": "              DF                                         ActionDesc  \\\n0   Fundamentals  Dropped obvious low value columns -- 1 -- Date...   \n1   Fundamentals  Initial Null Drop -- columns w/ 63% Null or more.   \n2   Fundamentals          Dropped columns with only 1 unique value    \n3   Fundamentals  Dropping all that are not standard statements ...   \n4   Fundamentals   Second Null Drop -- columns w/ 20% Null or more.   \n5   Fundamentals                  Dropping Columns w/ Only 2 values   \n6   Fundamentals  Second Manual Column Reduce - Dropping Identif...   \n7   Fundamentals  Third Manual Column Reduce  - Targetted Reduce...   \n8   Fundamentals  Summary Features  - Used to create features, t...   \n9   Fundamentals                                     Group by GVKey   \n10  Fundamentals                              Join Restatement Data   \n11       Ratings                           Capturing Original Shape   \n12       Ratings                         Trim Rows by GSector == 30   \n13       Ratings  Dropped obvious low value columns -- 1 -- Date...   \n14       Ratings  Dropped Nulls -- 1 -- More than 50% Null -- Dr...   \n15       Ratings                                     Group by GVKey   \n16    Securities                           Capturing Original Shape   \n17    Securities  Dropped obvious low value columns -- 1 -- Date...   \n18    Securities           Dropped Nulls -- 1 -- More than 20% Null   \n19    Securities                  Dropping Columns w/ Only 2 values   \n20    Securities  Manual Drop -- 2 -- Low value or duplicated by...   \n21    Securities                                     Group by GVKey   \n22        Stocks                           Capturing Original Shape   \n23        Stocks           Dropped Nulls -- 1 -- More than 20% Null   \n24        Stocks  Dropped obvious low value columns -- 1 -- Date...   \n25        Stocks                  Dropping Columns w/ Only 2 values   \n26        Stocks  Manual Drop -- 2 -- Low value or duplicated by...   \n27        Stocks                                     Group by GVKey   \n28        Stocks  Add Calculated Fields -- replace variables no ...   \n29   SCA_Filings                           Capturing Original Shape   \n30   SCA_Filings  Manual Drop -- 1 -- Low value or duplicated by...   \n31   SCA_Filings                                    Group by Ticker   \n32   SCA_Filings                        Create Boolean Response Var   \n33    completeDF          Make CompleteDF from a copy of fundaments   \n34    completeDF                           Add Stocks to CompleteDF   \n35    completeDF                       Add Securities to CompleteDF   \n36    completeDF                          Add Ratings to CompleteDF   \n\n                                         List-of-Cols   ResultShape  \n0   [datadate, apdedate, fdate, pdate, fyr, add1, ...  (2323, 1744)  \n1   [acctchg, acqmeth, adrr, bspr, compst, curuscn...   (2323, 326)  \n2   [indfmt, consol, popsrc, curcd, final, scf, ac...   (2323, 310)  \n3    applies to all cols, roughly 50% of rows dropped   (1243, 310)  \n4   [cld2, cld3, cld4, cld5, cshr, dd3, dd4, dd5, ...   (1243, 265)  \n5   [datafmt, ismod, upd, rdip, rdipa, rdipd, rdip...   (1243, 250)  \n6   [Unnamed: 0, conm, au, auopic, pddur, dpact_fn...   (1243, 240)  \n7   [lco, lcox, lcoxdr, lo, loxdr, mib, mibn, ppev...    (1243, 92)  \n8                      [drc, drlt, rea, reajo, recta]    (1243, 88)  \n9                                                 All    (348, 167)  \n10                                   Restatement Cols    (348, 172)  \n11                                                N/A  (123678, 21)  \n12                                                All   (17902, 21)  \n13  [city, ggroup, gind, gsector, gsubind, loc, na...    (17902, 6)  \n14                       [splticrm, spsdrm, spsticrm]    (17902, 3)  \n15  [city, ggroup, gind, gsector, gsubind, loc, na...      (452, 3)  \n16                                                N/A   (32382, 56)  \n17  [Unnamed: 0, conm, city, conml, cyear, ggroup,...   (32382, 43)  \n18  [isalrt, spgim, spiim, spmim, cheqvm, curcddvm...   (32382, 20)  \n19               [primiss, curcdm, mkvalincl, costat]   (32382, 16)  \n20  [iid, tic, cmth, exchg, tpci, cshtrm, prccm, p...    (32382, 6)  \n21  [iid, tic, cmth, exchg, tpci, cshtrm, prccm, p...      (690, 7)  \n22                                                N/A  (673564, 77)  \n23  [curcddv, capgn, cheqv, div, divd, divdpaydate...  (673564, 40)  \n24  [Unnamed: 0, tic, conm, curcdd, fic, add1, add...  (673564, 16)  \n25                            [secstat, costat, stko]  (673564, 13)  \n26      [iid, exchg, tpci, cik, cshtrd, ajexdi, trfd]   (673564, 6)  \n27      [iid, exchg, tpci, cik, cshtrd, ajexdi, trfd]      (689, 9)  \n28      [iid, exchg, tpci, cik, cshtrd, ajexdi, trfd]      (689, 8)  \n29                                                N/A     (1892, 6)  \n30      [FilingName, Exchange, FilingYear, Dismissed]     (1892, 2)  \n31      [FilingName, Exchange, FilingYear, Dismissed]     (1506, 2)  \n32      [FilingName, Exchange, FilingYear, Dismissed]     (1506, 3)  \n33                              All fundamentals cols    (348, 172)  \n34                              fundamentals + stocks    (348, 179)  \n35                  fundamentals + stocks + securites    (348, 185)  \n36        fundamentals + stocks + securites + ratings    (348, 187)  ",
      "text/html": "<div>\n<style scoped>\n    .dataframe tbody tr th:only-of-type {\n        vertical-align: middle;\n    }\n\n    .dataframe tbody tr th {\n        vertical-align: top;\n    }\n\n    .dataframe thead th {\n        text-align: right;\n    }\n</style>\n<table border=\"1\" class=\"dataframe\">\n  <thead>\n    <tr style=\"text-align: right;\">\n      <th></th>\n      <th>DF</th>\n      <th>ActionDesc</th>\n      <th>List-of-Cols</th>\n      <th>ResultShape</th>\n    </tr>\n  </thead>\n  <tbody>\n    <tr>\n      <th>0</th>\n      <td>Fundamentals</td>\n      <td>Dropped obvious low value columns -- 1 -- Date...</td>\n      <td>[datadate, apdedate, fdate, pdate, fyr, add1, ...</td>\n      <td>(2323, 1744)</td>\n    </tr>\n    <tr>\n      <th>1</th>\n      <td>Fundamentals</td>\n      <td>Initial Null Drop -- columns w/ 63% Null or more.</td>\n      <td>[acctchg, acqmeth, adrr, bspr, compst, curuscn...</td>\n      <td>(2323, 326)</td>\n    </tr>\n    <tr>\n      <th>2</th>\n      <td>Fundamentals</td>\n      <td>Dropped columns with only 1 unique value</td>\n      <td>[indfmt, consol, popsrc, curcd, final, scf, ac...</td>\n      <td>(2323, 310)</td>\n    </tr>\n    <tr>\n      <th>3</th>\n      <td>Fundamentals</td>\n      <td>Dropping all that are not standard statements ...</td>\n      <td>applies to all cols, roughly 50% of rows dropped</td>\n      <td>(1243, 310)</td>\n    </tr>\n    <tr>\n      <th>4</th>\n      <td>Fundamentals</td>\n      <td>Second Null Drop -- columns w/ 20% Null or more.</td>\n      <td>[cld2, cld3, cld4, cld5, cshr, dd3, dd4, dd5, ...</td>\n      <td>(1243, 265)</td>\n    </tr>\n    <tr>\n      <th>5</th>\n      <td>Fundamentals</td>\n      <td>Dropping Columns w/ Only 2 values</td>\n      <td>[datafmt, ismod, upd, rdip, rdipa, rdipd, rdip...</td>\n      <td>(1243, 250)</td>\n    </tr>\n    <tr>\n      <th>6</th>\n      <td>Fundamentals</td>\n      <td>Second Manual Column Reduce - Dropping Identif...</td>\n      <td>[Unnamed: 0, conm, au, auopic, pddur, dpact_fn...</td>\n      <td>(1243, 240)</td>\n    </tr>\n    <tr>\n      <th>7</th>\n      <td>Fundamentals</td>\n      <td>Third Manual Column Reduce  - Targetted Reduce...</td>\n      <td>[lco, lcox, lcoxdr, lo, loxdr, mib, mibn, ppev...</td>\n      <td>(1243, 92)</td>\n    </tr>\n    <tr>\n      <th>8</th>\n      <td>Fundamentals</td>\n      <td>Summary Features  - Used to create features, t...</td>\n      <td>[drc, drlt, rea, reajo, recta]</td>\n      <td>(1243, 88)</td>\n    </tr>\n    <tr>\n      <th>9</th>\n      <td>Fundamentals</td>\n      <td>Group by GVKey</td>\n      <td>All</td>\n      <td>(348, 167)</td>\n    </tr>\n    <tr>\n      <th>10</th>\n      <td>Fundamentals</td>\n      <td>Join Restatement Data</td>\n      <td>Restatement Cols</td>\n      <td>(348, 172)</td>\n    </tr>\n    <tr>\n      <th>11</th>\n      <td>Ratings</td>\n      <td>Capturing Original Shape</td>\n      <td>N/A</td>\n      <td>(123678, 21)</td>\n    </tr>\n    <tr>\n      <th>12</th>\n      <td>Ratings</td>\n      <td>Trim Rows by GSector == 30</td>\n      <td>All</td>\n      <td>(17902, 21)</td>\n    </tr>\n    <tr>\n      <th>13</th>\n      <td>Ratings</td>\n      <td>Dropped obvious low value columns -- 1 -- Date...</td>\n      <td>[city, ggroup, gind, gsector, gsubind, loc, na...</td>\n      <td>(17902, 6)</td>\n    </tr>\n    <tr>\n      <th>14</th>\n      <td>Ratings</td>\n      <td>Dropped Nulls -- 1 -- More than 50% Null -- Dr...</td>\n      <td>[splticrm, spsdrm, spsticrm]</td>\n      <td>(17902, 3)</td>\n    </tr>\n    <tr>\n      <th>15</th>\n      <td>Ratings</td>\n      <td>Group by GVKey</td>\n      <td>[city, ggroup, gind, gsector, gsubind, loc, na...</td>\n      <td>(452, 3)</td>\n    </tr>\n    <tr>\n      <th>16</th>\n      <td>Securities</td>\n      <td>Capturing Original Shape</td>\n      <td>N/A</td>\n      <td>(32382, 56)</td>\n    </tr>\n    <tr>\n      <th>17</th>\n      <td>Securities</td>\n      <td>Dropped obvious low value columns -- 1 -- Date...</td>\n      <td>[Unnamed: 0, conm, city, conml, cyear, ggroup,...</td>\n      <td>(32382, 43)</td>\n    </tr>\n    <tr>\n      <th>18</th>\n      <td>Securities</td>\n      <td>Dropped Nulls -- 1 -- More than 20% Null</td>\n      <td>[isalrt, spgim, spiim, spmim, cheqvm, curcddvm...</td>\n      <td>(32382, 20)</td>\n    </tr>\n    <tr>\n      <th>19</th>\n      <td>Securities</td>\n      <td>Dropping Columns w/ Only 2 values</td>\n      <td>[primiss, curcdm, mkvalincl, costat]</td>\n      <td>(32382, 16)</td>\n    </tr>\n    <tr>\n      <th>20</th>\n      <td>Securities</td>\n      <td>Manual Drop -- 2 -- Low value or duplicated by...</td>\n      <td>[iid, tic, cmth, exchg, tpci, cshtrm, prccm, p...</td>\n      <td>(32382, 6)</td>\n    </tr>\n    <tr>\n      <th>21</th>\n      <td>Securities</td>\n      <td>Group by GVKey</td>\n      <td>[iid, tic, cmth, exchg, tpci, cshtrm, prccm, p...</td>\n      <td>(690, 7)</td>\n    </tr>\n    <tr>\n      <th>22</th>\n      <td>Stocks</td>\n      <td>Capturing Original Shape</td>\n      <td>N/A</td>\n      <td>(673564, 77)</td>\n    </tr>\n    <tr>\n      <th>23</th>\n      <td>Stocks</td>\n      <td>Dropped Nulls -- 1 -- More than 20% Null</td>\n      <td>[curcddv, capgn, cheqv, div, divd, divdpaydate...</td>\n      <td>(673564, 40)</td>\n    </tr>\n    <tr>\n      <th>24</th>\n      <td>Stocks</td>\n      <td>Dropped obvious low value columns -- 1 -- Date...</td>\n      <td>[Unnamed: 0, tic, conm, curcdd, fic, add1, add...</td>\n      <td>(673564, 16)</td>\n    </tr>\n    <tr>\n      <th>25</th>\n      <td>Stocks</td>\n      <td>Dropping Columns w/ Only 2 values</td>\n      <td>[secstat, costat, stko]</td>\n      <td>(673564, 13)</td>\n    </tr>\n    <tr>\n      <th>26</th>\n      <td>Stocks</td>\n      <td>Manual Drop -- 2 -- Low value or duplicated by...</td>\n      <td>[iid, exchg, tpci, cik, cshtrd, ajexdi, trfd]</td>\n      <td>(673564, 6)</td>\n    </tr>\n    <tr>\n      <th>27</th>\n      <td>Stocks</td>\n      <td>Group by GVKey</td>\n      <td>[iid, exchg, tpci, cik, cshtrd, ajexdi, trfd]</td>\n      <td>(689, 9)</td>\n    </tr>\n    <tr>\n      <th>28</th>\n      <td>Stocks</td>\n      <td>Add Calculated Fields -- replace variables no ...</td>\n      <td>[iid, exchg, tpci, cik, cshtrd, ajexdi, trfd]</td>\n      <td>(689, 8)</td>\n    </tr>\n    <tr>\n      <th>29</th>\n      <td>SCA_Filings</td>\n      <td>Capturing Original Shape</td>\n      <td>N/A</td>\n      <td>(1892, 6)</td>\n    </tr>\n    <tr>\n      <th>30</th>\n      <td>SCA_Filings</td>\n      <td>Manual Drop -- 1 -- Low value or duplicated by...</td>\n      <td>[FilingName, Exchange, FilingYear, Dismissed]</td>\n      <td>(1892, 2)</td>\n    </tr>\n    <tr>\n      <th>31</th>\n      <td>SCA_Filings</td>\n      <td>Group by Ticker</td>\n      <td>[FilingName, Exchange, FilingYear, Dismissed]</td>\n      <td>(1506, 2)</td>\n    </tr>\n    <tr>\n      <th>32</th>\n      <td>SCA_Filings</td>\n      <td>Create Boolean Response Var</td>\n      <td>[FilingName, Exchange, FilingYear, Dismissed]</td>\n      <td>(1506, 3)</td>\n    </tr>\n    <tr>\n      <th>33</th>\n      <td>completeDF</td>\n      <td>Make CompleteDF from a copy of fundaments</td>\n      <td>All fundamentals cols</td>\n      <td>(348, 172)</td>\n    </tr>\n    <tr>\n      <th>34</th>\n      <td>completeDF</td>\n      <td>Add Stocks to CompleteDF</td>\n      <td>fundamentals + stocks</td>\n      <td>(348, 179)</td>\n    </tr>\n    <tr>\n      <th>35</th>\n      <td>completeDF</td>\n      <td>Add Securities to CompleteDF</td>\n      <td>fundamentals + stocks + securites</td>\n      <td>(348, 185)</td>\n    </tr>\n    <tr>\n      <th>36</th>\n      <td>completeDF</td>\n      <td>Add Ratings to CompleteDF</td>\n      <td>fundamentals + stocks + securites + ratings</td>\n      <td>(348, 187)</td>\n    </tr>\n  </tbody>\n</table>\n</div>"
     },
     "execution_count": 954,
     "metadata": {},
     "output_type": "execute_result"
    }
   ],
   "source": [
    "# Join Ratings\n",
    "ratings = ratings.set_index('gvkey')\n",
    "ratings = ratings.add_prefix(prefix=\"rat_\")\n",
    "completeDF = completeDF.join(ratings)\n",
    "\n",
    "# Clean Actions Report\n",
    "cleanActionsDesc = \"Add Ratings to CompleteDF\"\n",
    "df_name = \"completeDF\"\n",
    "cols = \"fundamentals + stocks + securites + ratings\"\n",
    "\n",
    "cleanActionsReport(completeDF,df_name,cleanActionsDesc,cols)"
   ],
   "metadata": {
    "collapsed": false,
    "pycharm": {
     "name": "#%%\n"
    }
   }
  },
  {
   "cell_type": "code",
   "execution_count": 955,
   "outputs": [],
   "source": [
    "#reset index of completeDF before final join which uses tic\n",
    "completeDF = completeDF.reset_index()"
   ],
   "metadata": {
    "collapsed": false,
    "pycharm": {
     "name": "#%%\n"
    }
   }
  },
  {
   "cell_type": "code",
   "execution_count": 956,
   "outputs": [
    {
     "data": {
      "text/plain": "              DF                                         ActionDesc  \\\n0   Fundamentals  Dropped obvious low value columns -- 1 -- Date...   \n1   Fundamentals  Initial Null Drop -- columns w/ 63% Null or more.   \n2   Fundamentals          Dropped columns with only 1 unique value    \n3   Fundamentals  Dropping all that are not standard statements ...   \n4   Fundamentals   Second Null Drop -- columns w/ 20% Null or more.   \n5   Fundamentals                  Dropping Columns w/ Only 2 values   \n6   Fundamentals  Second Manual Column Reduce - Dropping Identif...   \n7   Fundamentals  Third Manual Column Reduce  - Targetted Reduce...   \n8   Fundamentals  Summary Features  - Used to create features, t...   \n9   Fundamentals                                     Group by GVKey   \n10  Fundamentals                              Join Restatement Data   \n11       Ratings                           Capturing Original Shape   \n12       Ratings                         Trim Rows by GSector == 30   \n13       Ratings  Dropped obvious low value columns -- 1 -- Date...   \n14       Ratings  Dropped Nulls -- 1 -- More than 50% Null -- Dr...   \n15       Ratings                                     Group by GVKey   \n16    Securities                           Capturing Original Shape   \n17    Securities  Dropped obvious low value columns -- 1 -- Date...   \n18    Securities           Dropped Nulls -- 1 -- More than 20% Null   \n19    Securities                  Dropping Columns w/ Only 2 values   \n20    Securities  Manual Drop -- 2 -- Low value or duplicated by...   \n21    Securities                                     Group by GVKey   \n22        Stocks                           Capturing Original Shape   \n23        Stocks           Dropped Nulls -- 1 -- More than 20% Null   \n24        Stocks  Dropped obvious low value columns -- 1 -- Date...   \n25        Stocks                  Dropping Columns w/ Only 2 values   \n26        Stocks  Manual Drop -- 2 -- Low value or duplicated by...   \n27        Stocks                                     Group by GVKey   \n28        Stocks  Add Calculated Fields -- replace variables no ...   \n29   SCA_Filings                           Capturing Original Shape   \n30   SCA_Filings  Manual Drop -- 1 -- Low value or duplicated by...   \n31   SCA_Filings                                    Group by Ticker   \n32   SCA_Filings                        Create Boolean Response Var   \n33    completeDF          Make CompleteDF from a copy of fundaments   \n34    completeDF                           Add Stocks to CompleteDF   \n35    completeDF                       Add Securities to CompleteDF   \n36    completeDF                          Add Ratings to CompleteDF   \n37    completeDF                      Add SCA Filings to CompleteDF   \n\n                                         List-of-Cols   ResultShape  \n0   [datadate, apdedate, fdate, pdate, fyr, add1, ...  (2323, 1744)  \n1   [acctchg, acqmeth, adrr, bspr, compst, curuscn...   (2323, 326)  \n2   [indfmt, consol, popsrc, curcd, final, scf, ac...   (2323, 310)  \n3    applies to all cols, roughly 50% of rows dropped   (1243, 310)  \n4   [cld2, cld3, cld4, cld5, cshr, dd3, dd4, dd5, ...   (1243, 265)  \n5   [datafmt, ismod, upd, rdip, rdipa, rdipd, rdip...   (1243, 250)  \n6   [Unnamed: 0, conm, au, auopic, pddur, dpact_fn...   (1243, 240)  \n7   [lco, lcox, lcoxdr, lo, loxdr, mib, mibn, ppev...    (1243, 92)  \n8                      [drc, drlt, rea, reajo, recta]    (1243, 88)  \n9                                                 All    (348, 167)  \n10                                   Restatement Cols    (348, 172)  \n11                                                N/A  (123678, 21)  \n12                                                All   (17902, 21)  \n13  [city, ggroup, gind, gsector, gsubind, loc, na...    (17902, 6)  \n14                       [splticrm, spsdrm, spsticrm]    (17902, 3)  \n15  [city, ggroup, gind, gsector, gsubind, loc, na...      (452, 3)  \n16                                                N/A   (32382, 56)  \n17  [Unnamed: 0, conm, city, conml, cyear, ggroup,...   (32382, 43)  \n18  [isalrt, spgim, spiim, spmim, cheqvm, curcddvm...   (32382, 20)  \n19               [primiss, curcdm, mkvalincl, costat]   (32382, 16)  \n20  [iid, tic, cmth, exchg, tpci, cshtrm, prccm, p...    (32382, 6)  \n21  [iid, tic, cmth, exchg, tpci, cshtrm, prccm, p...      (690, 7)  \n22                                                N/A  (673564, 77)  \n23  [curcddv, capgn, cheqv, div, divd, divdpaydate...  (673564, 40)  \n24  [Unnamed: 0, tic, conm, curcdd, fic, add1, add...  (673564, 16)  \n25                            [secstat, costat, stko]  (673564, 13)  \n26      [iid, exchg, tpci, cik, cshtrd, ajexdi, trfd]   (673564, 6)  \n27      [iid, exchg, tpci, cik, cshtrd, ajexdi, trfd]      (689, 9)  \n28      [iid, exchg, tpci, cik, cshtrd, ajexdi, trfd]      (689, 8)  \n29                                                N/A     (1892, 6)  \n30      [FilingName, Exchange, FilingYear, Dismissed]     (1892, 2)  \n31      [FilingName, Exchange, FilingYear, Dismissed]     (1506, 2)  \n32      [FilingName, Exchange, FilingYear, Dismissed]     (1506, 3)  \n33                              All fundamentals cols    (348, 172)  \n34                              fundamentals + stocks    (348, 179)  \n35                  fundamentals + stocks + securites    (348, 185)  \n36        fundamentals + stocks + securites + ratings    (348, 187)  \n37  fundamentals + stocks + securites + ratings + SCA    (348, 190)  ",
      "text/html": "<div>\n<style scoped>\n    .dataframe tbody tr th:only-of-type {\n        vertical-align: middle;\n    }\n\n    .dataframe tbody tr th {\n        vertical-align: top;\n    }\n\n    .dataframe thead th {\n        text-align: right;\n    }\n</style>\n<table border=\"1\" class=\"dataframe\">\n  <thead>\n    <tr style=\"text-align: right;\">\n      <th></th>\n      <th>DF</th>\n      <th>ActionDesc</th>\n      <th>List-of-Cols</th>\n      <th>ResultShape</th>\n    </tr>\n  </thead>\n  <tbody>\n    <tr>\n      <th>0</th>\n      <td>Fundamentals</td>\n      <td>Dropped obvious low value columns -- 1 -- Date...</td>\n      <td>[datadate, apdedate, fdate, pdate, fyr, add1, ...</td>\n      <td>(2323, 1744)</td>\n    </tr>\n    <tr>\n      <th>1</th>\n      <td>Fundamentals</td>\n      <td>Initial Null Drop -- columns w/ 63% Null or more.</td>\n      <td>[acctchg, acqmeth, adrr, bspr, compst, curuscn...</td>\n      <td>(2323, 326)</td>\n    </tr>\n    <tr>\n      <th>2</th>\n      <td>Fundamentals</td>\n      <td>Dropped columns with only 1 unique value</td>\n      <td>[indfmt, consol, popsrc, curcd, final, scf, ac...</td>\n      <td>(2323, 310)</td>\n    </tr>\n    <tr>\n      <th>3</th>\n      <td>Fundamentals</td>\n      <td>Dropping all that are not standard statements ...</td>\n      <td>applies to all cols, roughly 50% of rows dropped</td>\n      <td>(1243, 310)</td>\n    </tr>\n    <tr>\n      <th>4</th>\n      <td>Fundamentals</td>\n      <td>Second Null Drop -- columns w/ 20% Null or more.</td>\n      <td>[cld2, cld3, cld4, cld5, cshr, dd3, dd4, dd5, ...</td>\n      <td>(1243, 265)</td>\n    </tr>\n    <tr>\n      <th>5</th>\n      <td>Fundamentals</td>\n      <td>Dropping Columns w/ Only 2 values</td>\n      <td>[datafmt, ismod, upd, rdip, rdipa, rdipd, rdip...</td>\n      <td>(1243, 250)</td>\n    </tr>\n    <tr>\n      <th>6</th>\n      <td>Fundamentals</td>\n      <td>Second Manual Column Reduce - Dropping Identif...</td>\n      <td>[Unnamed: 0, conm, au, auopic, pddur, dpact_fn...</td>\n      <td>(1243, 240)</td>\n    </tr>\n    <tr>\n      <th>7</th>\n      <td>Fundamentals</td>\n      <td>Third Manual Column Reduce  - Targetted Reduce...</td>\n      <td>[lco, lcox, lcoxdr, lo, loxdr, mib, mibn, ppev...</td>\n      <td>(1243, 92)</td>\n    </tr>\n    <tr>\n      <th>8</th>\n      <td>Fundamentals</td>\n      <td>Summary Features  - Used to create features, t...</td>\n      <td>[drc, drlt, rea, reajo, recta]</td>\n      <td>(1243, 88)</td>\n    </tr>\n    <tr>\n      <th>9</th>\n      <td>Fundamentals</td>\n      <td>Group by GVKey</td>\n      <td>All</td>\n      <td>(348, 167)</td>\n    </tr>\n    <tr>\n      <th>10</th>\n      <td>Fundamentals</td>\n      <td>Join Restatement Data</td>\n      <td>Restatement Cols</td>\n      <td>(348, 172)</td>\n    </tr>\n    <tr>\n      <th>11</th>\n      <td>Ratings</td>\n      <td>Capturing Original Shape</td>\n      <td>N/A</td>\n      <td>(123678, 21)</td>\n    </tr>\n    <tr>\n      <th>12</th>\n      <td>Ratings</td>\n      <td>Trim Rows by GSector == 30</td>\n      <td>All</td>\n      <td>(17902, 21)</td>\n    </tr>\n    <tr>\n      <th>13</th>\n      <td>Ratings</td>\n      <td>Dropped obvious low value columns -- 1 -- Date...</td>\n      <td>[city, ggroup, gind, gsector, gsubind, loc, na...</td>\n      <td>(17902, 6)</td>\n    </tr>\n    <tr>\n      <th>14</th>\n      <td>Ratings</td>\n      <td>Dropped Nulls -- 1 -- More than 50% Null -- Dr...</td>\n      <td>[splticrm, spsdrm, spsticrm]</td>\n      <td>(17902, 3)</td>\n    </tr>\n    <tr>\n      <th>15</th>\n      <td>Ratings</td>\n      <td>Group by GVKey</td>\n      <td>[city, ggroup, gind, gsector, gsubind, loc, na...</td>\n      <td>(452, 3)</td>\n    </tr>\n    <tr>\n      <th>16</th>\n      <td>Securities</td>\n      <td>Capturing Original Shape</td>\n      <td>N/A</td>\n      <td>(32382, 56)</td>\n    </tr>\n    <tr>\n      <th>17</th>\n      <td>Securities</td>\n      <td>Dropped obvious low value columns -- 1 -- Date...</td>\n      <td>[Unnamed: 0, conm, city, conml, cyear, ggroup,...</td>\n      <td>(32382, 43)</td>\n    </tr>\n    <tr>\n      <th>18</th>\n      <td>Securities</td>\n      <td>Dropped Nulls -- 1 -- More than 20% Null</td>\n      <td>[isalrt, spgim, spiim, spmim, cheqvm, curcddvm...</td>\n      <td>(32382, 20)</td>\n    </tr>\n    <tr>\n      <th>19</th>\n      <td>Securities</td>\n      <td>Dropping Columns w/ Only 2 values</td>\n      <td>[primiss, curcdm, mkvalincl, costat]</td>\n      <td>(32382, 16)</td>\n    </tr>\n    <tr>\n      <th>20</th>\n      <td>Securities</td>\n      <td>Manual Drop -- 2 -- Low value or duplicated by...</td>\n      <td>[iid, tic, cmth, exchg, tpci, cshtrm, prccm, p...</td>\n      <td>(32382, 6)</td>\n    </tr>\n    <tr>\n      <th>21</th>\n      <td>Securities</td>\n      <td>Group by GVKey</td>\n      <td>[iid, tic, cmth, exchg, tpci, cshtrm, prccm, p...</td>\n      <td>(690, 7)</td>\n    </tr>\n    <tr>\n      <th>22</th>\n      <td>Stocks</td>\n      <td>Capturing Original Shape</td>\n      <td>N/A</td>\n      <td>(673564, 77)</td>\n    </tr>\n    <tr>\n      <th>23</th>\n      <td>Stocks</td>\n      <td>Dropped Nulls -- 1 -- More than 20% Null</td>\n      <td>[curcddv, capgn, cheqv, div, divd, divdpaydate...</td>\n      <td>(673564, 40)</td>\n    </tr>\n    <tr>\n      <th>24</th>\n      <td>Stocks</td>\n      <td>Dropped obvious low value columns -- 1 -- Date...</td>\n      <td>[Unnamed: 0, tic, conm, curcdd, fic, add1, add...</td>\n      <td>(673564, 16)</td>\n    </tr>\n    <tr>\n      <th>25</th>\n      <td>Stocks</td>\n      <td>Dropping Columns w/ Only 2 values</td>\n      <td>[secstat, costat, stko]</td>\n      <td>(673564, 13)</td>\n    </tr>\n    <tr>\n      <th>26</th>\n      <td>Stocks</td>\n      <td>Manual Drop -- 2 -- Low value or duplicated by...</td>\n      <td>[iid, exchg, tpci, cik, cshtrd, ajexdi, trfd]</td>\n      <td>(673564, 6)</td>\n    </tr>\n    <tr>\n      <th>27</th>\n      <td>Stocks</td>\n      <td>Group by GVKey</td>\n      <td>[iid, exchg, tpci, cik, cshtrd, ajexdi, trfd]</td>\n      <td>(689, 9)</td>\n    </tr>\n    <tr>\n      <th>28</th>\n      <td>Stocks</td>\n      <td>Add Calculated Fields -- replace variables no ...</td>\n      <td>[iid, exchg, tpci, cik, cshtrd, ajexdi, trfd]</td>\n      <td>(689, 8)</td>\n    </tr>\n    <tr>\n      <th>29</th>\n      <td>SCA_Filings</td>\n      <td>Capturing Original Shape</td>\n      <td>N/A</td>\n      <td>(1892, 6)</td>\n    </tr>\n    <tr>\n      <th>30</th>\n      <td>SCA_Filings</td>\n      <td>Manual Drop -- 1 -- Low value or duplicated by...</td>\n      <td>[FilingName, Exchange, FilingYear, Dismissed]</td>\n      <td>(1892, 2)</td>\n    </tr>\n    <tr>\n      <th>31</th>\n      <td>SCA_Filings</td>\n      <td>Group by Ticker</td>\n      <td>[FilingName, Exchange, FilingYear, Dismissed]</td>\n      <td>(1506, 2)</td>\n    </tr>\n    <tr>\n      <th>32</th>\n      <td>SCA_Filings</td>\n      <td>Create Boolean Response Var</td>\n      <td>[FilingName, Exchange, FilingYear, Dismissed]</td>\n      <td>(1506, 3)</td>\n    </tr>\n    <tr>\n      <th>33</th>\n      <td>completeDF</td>\n      <td>Make CompleteDF from a copy of fundaments</td>\n      <td>All fundamentals cols</td>\n      <td>(348, 172)</td>\n    </tr>\n    <tr>\n      <th>34</th>\n      <td>completeDF</td>\n      <td>Add Stocks to CompleteDF</td>\n      <td>fundamentals + stocks</td>\n      <td>(348, 179)</td>\n    </tr>\n    <tr>\n      <th>35</th>\n      <td>completeDF</td>\n      <td>Add Securities to CompleteDF</td>\n      <td>fundamentals + stocks + securites</td>\n      <td>(348, 185)</td>\n    </tr>\n    <tr>\n      <th>36</th>\n      <td>completeDF</td>\n      <td>Add Ratings to CompleteDF</td>\n      <td>fundamentals + stocks + securites + ratings</td>\n      <td>(348, 187)</td>\n    </tr>\n    <tr>\n      <th>37</th>\n      <td>completeDF</td>\n      <td>Add SCA Filings to CompleteDF</td>\n      <td>fundamentals + stocks + securites + ratings + SCA</td>\n      <td>(348, 190)</td>\n    </tr>\n  </tbody>\n</table>\n</div>"
     },
     "execution_count": 956,
     "metadata": {},
     "output_type": "execute_result"
    }
   ],
   "source": [
    "# Join SCA Filings\n",
    "completeDF = completeDF.merge(sca_filings, left_on='tic', right_on='tic', how='left')\n",
    "\n",
    "# Clean Actions Report\n",
    "cleanActionsDesc = \"Add SCA Filings to CompleteDF\"\n",
    "df_name = \"completeDF\"\n",
    "cols = \"fundamentals + stocks + securites + ratings + SCA\"\n",
    "\n",
    "cleanActionsReport(completeDF,df_name,cleanActionsDesc,cols)\n"
   ],
   "metadata": {
    "collapsed": false,
    "pycharm": {
     "name": "#%%\n"
    }
   }
  },
  {
   "cell_type": "markdown",
   "source": [
    "# Exports"
   ],
   "metadata": {
    "collapsed": false,
    "pycharm": {
     "name": "#%% md\n"
    }
   }
  },
  {
   "cell_type": "code",
   "execution_count": 957,
   "outputs": [
    {
     "name": "stdout",
     "output_type": "stream",
     "text": [
      "Done\n"
     ]
    }
   ],
   "source": [
    "# Export Cleaned Data to CSV:\n",
    "fundamentals.to_csv(cleanDataPath+'fundamental_cleaned.csv')\n",
    "ratings.to_csv(cleanDataPath+'ratings_cleaned.csv')\n",
    "securities.to_csv(cleanDataPath+'securities_cleaned.csv')\n",
    "stocks.to_csv(cleanDataPath+'stocks_cleaned.csv')\n",
    "sca_filings.to_csv(cleanDataPath+'sca_cleaned.csv')\n",
    "completeDF.to_csv(cleanDataPath+'completeDF.csv')\n",
    "\n",
    "# Export Clean Actions Report:\n",
    "cleanActionsDF.to_excel(exportPath+\"Clean_Actions_Report.xlsx\")\n",
    "print(\"Done\")\n",
    "\n",
    "\n",
    "\n"
   ],
   "metadata": {
    "collapsed": false,
    "pycharm": {
     "name": "#%%\n"
    }
   }
  }
 ],
 "metadata": {
  "kernelspec": {
   "name": "python3",
   "language": "python",
   "display_name": "Python 3 (ipykernel)"
  },
  "language_info": {
   "codemirror_mode": {
    "name": "ipython",
    "version": 2
   },
   "file_extension": ".py",
   "mimetype": "text/x-python",
   "name": "python",
   "nbconvert_exporter": "python",
   "pygments_lexer": "ipython2",
   "version": "2.7.6"
  }
 },
 "nbformat": 4,
 "nbformat_minor": 0
}