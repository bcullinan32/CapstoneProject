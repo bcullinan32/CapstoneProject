{
 "cells": [
  {
   "cell_type": "markdown",
   "metadata": {
    "collapsed": true,
    "pycharm": {
     "name": "#%% md\n"
    }
   },
   "source": [
    "# Intro:\n",
    "\n",
    "This notebook is the second in the series for the Capstone Project.  \"Capstone_Data-Prep\" covers pulling in several\n",
    "data sources, trimming to the needed observations/variables, joining together, and producing the source data or this\n",
    "notebook."
   ]
  },
  {
   "cell_type": "code",
   "execution_count": 117,
   "outputs": [],
   "source": [
    "# Standard Libraries\n",
    "import pandas as pd\n",
    "import numpy as np\n",
    "import os\n",
    "import warnings\n",
    "import json\n",
    "import math\n",
    "\n",
    "# Plotting Libraries\n",
    "import matplotlib.pyplot as plt\n",
    "import seaborn as sns\n",
    "\n",
    "#sklearn\n",
    "from sklearn.preprocessing import OrdinalEncoder\n",
    "from sklearn.preprocessing import StandardScaler\n",
    "from sklearn.ensemble import RandomForestRegressor\n",
    "\n",
    "#sklearn missing imputer:\n",
    "from sklearn.experimental import enable_iterative_imputer\n",
    "from sklearn.impute import IterativeImputer\n",
    "from sklearn.ensemble import ExtraTreesRegressor\n",
    "\n",
    "\n",
    "# set Theme\n",
    "plt.style.use('seaborn')\n",
    "sns.set_theme(style=\"whitegrid\")\n",
    "warnings.filterwarnings('ignore')"
   ],
   "metadata": {
    "collapsed": false,
    "pycharm": {
     "name": "#%%\n"
    }
   }
  },
  {
   "cell_type": "code",
   "execution_count": 118,
   "outputs": [
    {
     "name": "stdout",
     "output_type": "stream",
     "text": [
      "Source Data: C:\\Users\\TheCu\\OneDrive\\Documents\\Grad-School-Docs\\CapstoneProject\\Repo\\CleanData\\\n",
      "Exports: C:\\Users\\TheCu\\OneDrive\\Documents\\Grad-School-Docs\\CapstoneProject\\Repo\\Export\\\n"
     ]
    }
   ],
   "source": [
    "# Set Paths\n",
    "path = os.getcwd()\n",
    "sourceDataPath = path + '\\\\CleanData\\\\'\n",
    "exportPath = path +'\\\\Export\\\\'\n",
    "\n",
    "print(f\"Source Data:\",sourceDataPath)\n",
    "print(f\"Exports:\",exportPath)"
   ],
   "metadata": {
    "collapsed": false,
    "pycharm": {
     "name": "#%%\n"
    }
   }
  },
  {
   "cell_type": "markdown",
   "source": [
    "# Reusable Functions:"
   ],
   "metadata": {
    "collapsed": false
   }
  },
  {
   "cell_type": "code",
   "execution_count": 119,
   "outputs": [],
   "source": [
    "# Takes a DF and Producecs a Report of Null Values\n",
    "def nullAnalysis(df):\n",
    "    row = []\n",
    "    null_summaryDF = pd.DataFrame(columns = [\"Variable\",\"Observations\",\"Nulls\",\"Null_Per\",\n",
    "                                             \"Num_Unique\",\"Type\",\"MedVal\",\"MinVal\",\"MaxVal\",])\n",
    "    for column in df:\n",
    "        var = column\n",
    "        countOfObs = len(df[var])\n",
    "        countOfNull = df[var].isnull().sum()\n",
    "        perOfNull = round((100 * countOfNull) / countOfObs,3)\n",
    "        numUnique = df[var].nunique()\n",
    "        type  = df[var].dtypes\n",
    "        med = df[var].median()\n",
    "        min = df[var].min()\n",
    "        max = df[var].max()\n",
    "        # Append to Summary DF\n",
    "        row = [var, countOfObs,countOfNull,perOfNull,numUnique,type, med, min,max]\n",
    "        df_length = len(null_summaryDF)\n",
    "        null_summaryDF.loc[df_length] = row\n",
    "    # Get Summary Stats\n",
    "    countofVars = len(null_summaryDF)\n",
    "    countofNotNull = (null_summaryDF['Nulls'] == 0).sum()\n",
    "    countofNull = (null_summaryDF['Nulls'] != 0).sum()\n",
    "    print(f\"Count of Variables:\",countofVars)\n",
    "    print(f\"Count of Variables without nulls:\",countofNotNull)\n",
    "    print(f\"Count of Variables with null :\",countofNull)\n",
    "    # Format Summary\n",
    "    summaryDF = null_summaryDF[null_summaryDF['Nulls'] != 0].sort_values(by=['Nulls'],ascending=False)\n",
    "    return summaryDF"
   ],
   "metadata": {
    "collapsed": false,
    "pycharm": {
     "name": "#%%\n"
    }
   }
  },
  {
   "cell_type": "code",
   "execution_count": 120,
   "outputs": [],
   "source": [
    "# apply the z-score method in Pandas using the .mean() and .std() methods\n",
    "def z_score(df,scaleList):\n",
    "    # copy the dataframe\n",
    "    df_std = df.copy()\n",
    "    # apply the z-score method\n",
    "    for column in scaleList:\n",
    "        df_std[column] = (df_std[column] - df_std[column].mean()) / df_std[column].std()\n",
    "        df_std[column] = round(df_std[column],5)\n",
    "    return df_std"
   ],
   "metadata": {
    "collapsed": false,
    "pycharm": {
     "name": "#%%\n"
    }
   }
  },
  {
   "cell_type": "markdown",
   "source": [
    "# Get and Prep Data"
   ],
   "metadata": {
    "collapsed": false
   }
  },
  {
   "cell_type": "code",
   "execution_count": 121,
   "outputs": [
    {
     "data": {
      "text/plain": "      gvkey    tic curncd  exesign    currtr  src  auop   gsubind    aoloch  \\\n0      1239    ACV    USD        1  1.000000    5     2  30302010    1.9000   \n1      1266   ALCO    USD        1  1.000000    5     1  30202010    1.2535   \n2      1408   BEAM    USD        1  1.000000    8     1  30201020  -45.6000   \n3      1429  2388B    USD        1  1.000000    3     1  30202030   24.1015   \n4      1659   ANDE    USD        1  1.000000    5     1  30101020    2.3535   \n..      ...    ...    ...      ...       ...  ...   ...       ...       ...   \n343  221545    IBA    MXN        1  0.076348   53     2  30202030  -12.6520   \n344  222519    GMK    MXN        1  0.076348   53     2  30202030   84.9260   \n345  241637    BUD    USD        1  1.000000   53     1  30201010  524.5000   \n346  264393   IVFH    USD        1  1.000000    5     1  30101020   -0.1110   \n347  277487    LND    BRR        1  0.453001    5     1  30202010   -4.8180   \n\n     aoloch_std  ...  st_volatility  sec_ajexm  sec_ajpm  sec_trfm_mean  \\\n0           NaN  ...           0.14   1.000000  1.000000       6.001949   \n1      1.830697  ...           0.27   1.000000  1.000000       1.803951   \n2     97.666281  ...           0.89   1.000000  1.000000      19.151070   \n3     58.012527  ...            NaN        NaN       NaN            NaN   \n4    175.842783  ...           0.29   1.453704  1.453704       1.274316   \n..          ...  ...            ...        ...       ...            ...   \n343   25.701164  ...           0.32   1.000000  1.000000       1.756264   \n344   90.800682  ...           0.70   1.000000  1.000000       1.204377   \n345  318.249902  ...           0.28   1.000000  1.000000       1.043322   \n346    0.151167  ...           1.49   0.473704  0.473704       1.000000   \n347    6.662282  ...           0.19   1.000000  1.000000       1.001641   \n\n     sec_trfm_std  sec_trt1m_mean  sec_trt1m_std  rat_spcsrc  lawsuit  \\\n0        0.026279        1.631413       6.320251         6.0      1.0   \n1        0.017539        0.991502       9.322428         3.0      0.0   \n2        2.316089        2.017711       6.373380         4.0      0.0   \n3             NaN             NaN            NaN         0.0      0.0   \n4        0.020235        2.559811       9.131795         6.0      0.0   \n..            ...             ...            ...         ...      ...   \n343      0.051788        1.996371       6.788384         0.0      0.0   \n344      0.000000        4.203464      11.024610         0.0      0.0   \n345      0.030272        1.827778       5.822912         0.0      0.0   \n346      0.000000        6.590749      28.817567         0.0      0.0   \n347      0.003915       -0.212626       8.650915         0.0      0.0   \n\n     SettlementAmount  \n0                 0.0  \n1                 NaN  \n2                 NaN  \n3                 NaN  \n4                 NaN  \n..                ...  \n343               NaN  \n344               NaN  \n345               NaN  \n346               NaN  \n347               NaN  \n\n[348 rows x 167 columns]",
      "text/html": "<div>\n<style scoped>\n    .dataframe tbody tr th:only-of-type {\n        vertical-align: middle;\n    }\n\n    .dataframe tbody tr th {\n        vertical-align: top;\n    }\n\n    .dataframe thead th {\n        text-align: right;\n    }\n</style>\n<table border=\"1\" class=\"dataframe\">\n  <thead>\n    <tr style=\"text-align: right;\">\n      <th></th>\n      <th>gvkey</th>\n      <th>tic</th>\n      <th>curncd</th>\n      <th>exesign</th>\n      <th>currtr</th>\n      <th>src</th>\n      <th>auop</th>\n      <th>gsubind</th>\n      <th>aoloch</th>\n      <th>aoloch_std</th>\n      <th>...</th>\n      <th>st_volatility</th>\n      <th>sec_ajexm</th>\n      <th>sec_ajpm</th>\n      <th>sec_trfm_mean</th>\n      <th>sec_trfm_std</th>\n      <th>sec_trt1m_mean</th>\n      <th>sec_trt1m_std</th>\n      <th>rat_spcsrc</th>\n      <th>lawsuit</th>\n      <th>SettlementAmount</th>\n    </tr>\n  </thead>\n  <tbody>\n    <tr>\n      <th>0</th>\n      <td>1239</td>\n      <td>ACV</td>\n      <td>USD</td>\n      <td>1</td>\n      <td>1.000000</td>\n      <td>5</td>\n      <td>2</td>\n      <td>30302010</td>\n      <td>1.9000</td>\n      <td>NaN</td>\n      <td>...</td>\n      <td>0.14</td>\n      <td>1.000000</td>\n      <td>1.000000</td>\n      <td>6.001949</td>\n      <td>0.026279</td>\n      <td>1.631413</td>\n      <td>6.320251</td>\n      <td>6.0</td>\n      <td>1.0</td>\n      <td>0.0</td>\n    </tr>\n    <tr>\n      <th>1</th>\n      <td>1266</td>\n      <td>ALCO</td>\n      <td>USD</td>\n      <td>1</td>\n      <td>1.000000</td>\n      <td>5</td>\n      <td>1</td>\n      <td>30202010</td>\n      <td>1.2535</td>\n      <td>1.830697</td>\n      <td>...</td>\n      <td>0.27</td>\n      <td>1.000000</td>\n      <td>1.000000</td>\n      <td>1.803951</td>\n      <td>0.017539</td>\n      <td>0.991502</td>\n      <td>9.322428</td>\n      <td>3.0</td>\n      <td>0.0</td>\n      <td>NaN</td>\n    </tr>\n    <tr>\n      <th>2</th>\n      <td>1408</td>\n      <td>BEAM</td>\n      <td>USD</td>\n      <td>1</td>\n      <td>1.000000</td>\n      <td>8</td>\n      <td>1</td>\n      <td>30201020</td>\n      <td>-45.6000</td>\n      <td>97.666281</td>\n      <td>...</td>\n      <td>0.89</td>\n      <td>1.000000</td>\n      <td>1.000000</td>\n      <td>19.151070</td>\n      <td>2.316089</td>\n      <td>2.017711</td>\n      <td>6.373380</td>\n      <td>4.0</td>\n      <td>0.0</td>\n      <td>NaN</td>\n    </tr>\n    <tr>\n      <th>3</th>\n      <td>1429</td>\n      <td>2388B</td>\n      <td>USD</td>\n      <td>1</td>\n      <td>1.000000</td>\n      <td>3</td>\n      <td>1</td>\n      <td>30202030</td>\n      <td>24.1015</td>\n      <td>58.012527</td>\n      <td>...</td>\n      <td>NaN</td>\n      <td>NaN</td>\n      <td>NaN</td>\n      <td>NaN</td>\n      <td>NaN</td>\n      <td>NaN</td>\n      <td>NaN</td>\n      <td>0.0</td>\n      <td>0.0</td>\n      <td>NaN</td>\n    </tr>\n    <tr>\n      <th>4</th>\n      <td>1659</td>\n      <td>ANDE</td>\n      <td>USD</td>\n      <td>1</td>\n      <td>1.000000</td>\n      <td>5</td>\n      <td>1</td>\n      <td>30101020</td>\n      <td>2.3535</td>\n      <td>175.842783</td>\n      <td>...</td>\n      <td>0.29</td>\n      <td>1.453704</td>\n      <td>1.453704</td>\n      <td>1.274316</td>\n      <td>0.020235</td>\n      <td>2.559811</td>\n      <td>9.131795</td>\n      <td>6.0</td>\n      <td>0.0</td>\n      <td>NaN</td>\n    </tr>\n    <tr>\n      <th>...</th>\n      <td>...</td>\n      <td>...</td>\n      <td>...</td>\n      <td>...</td>\n      <td>...</td>\n      <td>...</td>\n      <td>...</td>\n      <td>...</td>\n      <td>...</td>\n      <td>...</td>\n      <td>...</td>\n      <td>...</td>\n      <td>...</td>\n      <td>...</td>\n      <td>...</td>\n      <td>...</td>\n      <td>...</td>\n      <td>...</td>\n      <td>...</td>\n      <td>...</td>\n      <td>...</td>\n    </tr>\n    <tr>\n      <th>343</th>\n      <td>221545</td>\n      <td>IBA</td>\n      <td>MXN</td>\n      <td>1</td>\n      <td>0.076348</td>\n      <td>53</td>\n      <td>2</td>\n      <td>30202030</td>\n      <td>-12.6520</td>\n      <td>25.701164</td>\n      <td>...</td>\n      <td>0.32</td>\n      <td>1.000000</td>\n      <td>1.000000</td>\n      <td>1.756264</td>\n      <td>0.051788</td>\n      <td>1.996371</td>\n      <td>6.788384</td>\n      <td>0.0</td>\n      <td>0.0</td>\n      <td>NaN</td>\n    </tr>\n    <tr>\n      <th>344</th>\n      <td>222519</td>\n      <td>GMK</td>\n      <td>MXN</td>\n      <td>1</td>\n      <td>0.076348</td>\n      <td>53</td>\n      <td>2</td>\n      <td>30202030</td>\n      <td>84.9260</td>\n      <td>90.800682</td>\n      <td>...</td>\n      <td>0.70</td>\n      <td>1.000000</td>\n      <td>1.000000</td>\n      <td>1.204377</td>\n      <td>0.000000</td>\n      <td>4.203464</td>\n      <td>11.024610</td>\n      <td>0.0</td>\n      <td>0.0</td>\n      <td>NaN</td>\n    </tr>\n    <tr>\n      <th>345</th>\n      <td>241637</td>\n      <td>BUD</td>\n      <td>USD</td>\n      <td>1</td>\n      <td>1.000000</td>\n      <td>53</td>\n      <td>1</td>\n      <td>30201010</td>\n      <td>524.5000</td>\n      <td>318.249902</td>\n      <td>...</td>\n      <td>0.28</td>\n      <td>1.000000</td>\n      <td>1.000000</td>\n      <td>1.043322</td>\n      <td>0.030272</td>\n      <td>1.827778</td>\n      <td>5.822912</td>\n      <td>0.0</td>\n      <td>0.0</td>\n      <td>NaN</td>\n    </tr>\n    <tr>\n      <th>346</th>\n      <td>264393</td>\n      <td>IVFH</td>\n      <td>USD</td>\n      <td>1</td>\n      <td>1.000000</td>\n      <td>5</td>\n      <td>1</td>\n      <td>30101020</td>\n      <td>-0.1110</td>\n      <td>0.151167</td>\n      <td>...</td>\n      <td>1.49</td>\n      <td>0.473704</td>\n      <td>0.473704</td>\n      <td>1.000000</td>\n      <td>0.000000</td>\n      <td>6.590749</td>\n      <td>28.817567</td>\n      <td>0.0</td>\n      <td>0.0</td>\n      <td>NaN</td>\n    </tr>\n    <tr>\n      <th>347</th>\n      <td>277487</td>\n      <td>LND</td>\n      <td>BRR</td>\n      <td>1</td>\n      <td>0.453001</td>\n      <td>5</td>\n      <td>1</td>\n      <td>30202010</td>\n      <td>-4.8180</td>\n      <td>6.662282</td>\n      <td>...</td>\n      <td>0.19</td>\n      <td>1.000000</td>\n      <td>1.000000</td>\n      <td>1.001641</td>\n      <td>0.003915</td>\n      <td>-0.212626</td>\n      <td>8.650915</td>\n      <td>0.0</td>\n      <td>0.0</td>\n      <td>NaN</td>\n    </tr>\n  </tbody>\n</table>\n<p>348 rows × 167 columns</p>\n</div>"
     },
     "execution_count": 121,
     "metadata": {},
     "output_type": "execute_result"
    }
   ],
   "source": [
    "# Get Source Data\n",
    "file = 'completeDF.csv'\n",
    "origDF = pd.read_csv(sourceDataPath+file,skipinitialspace = True)\n",
    "origDF = origDF.drop(columns=['Unnamed: 0'])\n",
    "origDF\n"
   ],
   "metadata": {
    "collapsed": false,
    "pycharm": {
     "name": "#%%\n"
    }
   }
  },
  {
   "cell_type": "code",
   "execution_count": 122,
   "outputs": [
    {
     "data": {
      "text/plain": "      gvkey    tic curncd    currtr\n0      1239    ACV    USD  1.000000\n1      1266   ALCO    USD  1.000000\n2      1408   BEAM    USD  1.000000\n3      1429  2388B    USD  1.000000\n4      1659   ANDE    USD  1.000000\n..      ...    ...    ...       ...\n343  221545    IBA    MXN  0.076348\n344  222519    GMK    MXN  0.076348\n345  241637    BUD    USD  1.000000\n346  264393   IVFH    USD  1.000000\n347  277487    LND    BRR  0.453001\n\n[348 rows x 4 columns]",
      "text/html": "<div>\n<style scoped>\n    .dataframe tbody tr th:only-of-type {\n        vertical-align: middle;\n    }\n\n    .dataframe tbody tr th {\n        vertical-align: top;\n    }\n\n    .dataframe thead th {\n        text-align: right;\n    }\n</style>\n<table border=\"1\" class=\"dataframe\">\n  <thead>\n    <tr style=\"text-align: right;\">\n      <th></th>\n      <th>gvkey</th>\n      <th>tic</th>\n      <th>curncd</th>\n      <th>currtr</th>\n    </tr>\n  </thead>\n  <tbody>\n    <tr>\n      <th>0</th>\n      <td>1239</td>\n      <td>ACV</td>\n      <td>USD</td>\n      <td>1.000000</td>\n    </tr>\n    <tr>\n      <th>1</th>\n      <td>1266</td>\n      <td>ALCO</td>\n      <td>USD</td>\n      <td>1.000000</td>\n    </tr>\n    <tr>\n      <th>2</th>\n      <td>1408</td>\n      <td>BEAM</td>\n      <td>USD</td>\n      <td>1.000000</td>\n    </tr>\n    <tr>\n      <th>3</th>\n      <td>1429</td>\n      <td>2388B</td>\n      <td>USD</td>\n      <td>1.000000</td>\n    </tr>\n    <tr>\n      <th>4</th>\n      <td>1659</td>\n      <td>ANDE</td>\n      <td>USD</td>\n      <td>1.000000</td>\n    </tr>\n    <tr>\n      <th>...</th>\n      <td>...</td>\n      <td>...</td>\n      <td>...</td>\n      <td>...</td>\n    </tr>\n    <tr>\n      <th>343</th>\n      <td>221545</td>\n      <td>IBA</td>\n      <td>MXN</td>\n      <td>0.076348</td>\n    </tr>\n    <tr>\n      <th>344</th>\n      <td>222519</td>\n      <td>GMK</td>\n      <td>MXN</td>\n      <td>0.076348</td>\n    </tr>\n    <tr>\n      <th>345</th>\n      <td>241637</td>\n      <td>BUD</td>\n      <td>USD</td>\n      <td>1.000000</td>\n    </tr>\n    <tr>\n      <th>346</th>\n      <td>264393</td>\n      <td>IVFH</td>\n      <td>USD</td>\n      <td>1.000000</td>\n    </tr>\n    <tr>\n      <th>347</th>\n      <td>277487</td>\n      <td>LND</td>\n      <td>BRR</td>\n      <td>0.453001</td>\n    </tr>\n  </tbody>\n</table>\n<p>348 rows × 4 columns</p>\n</div>"
     },
     "execution_count": 122,
     "metadata": {},
     "output_type": "execute_result"
    }
   ],
   "source": [
    "# Set aside variables that may be valuable for looks/interpretation of results, but not modeling\n",
    "orig_lookUps = origDF[['gvkey','tic','curncd','currtr']].copy()\n",
    "\n",
    "# delete those from origDF\n",
    "origDF = origDF.drop(columns=['tic','curncd','currtr'])\n",
    "orig_lookUps\n",
    "\n"
   ],
   "metadata": {
    "collapsed": false,
    "pycharm": {
     "name": "#%%\n"
    }
   }
  },
  {
   "cell_type": "code",
   "execution_count": 123,
   "outputs": [
    {
     "data": {
      "text/plain": "      gvkey  exesign  src  auop   gsubind   aoloch  aoloch_std       at  \\\n0      1239        1    5     2  30302010 -0.04005         NaN -0.24066   \n1      1266        1    5     1  30202010 -0.04529    -0.39016 -0.32871   \n2      1408        1    8     1  30201020 -0.42531     0.12443  0.10983   \n3      1429        1    3     1  30202030  0.14002    -0.08850 -0.29217   \n4      1659        1    5     1  30101020 -0.03637     0.54420 -0.23650   \n..      ...      ...  ...   ...       ...      ...         ...      ...   \n343  221545        1   53     2  30202030 -0.15808    -0.26199 -0.23758   \n344  222519        1   53     2  30202030  0.63334     0.08756 -0.17066   \n345  241637        1   53     1  30201010  4.19856     1.30885  5.82959   \n346  264393        1    5     1  30101020 -0.05636    -0.39918 -0.33830   \n347  277487        1    5     1  30202010 -0.09454    -0.36422 -0.31938   \n\n      at_std   bkvlps  ...  st_volatility  sec_ajexm  sec_ajpm  sec_trfm_mean  \\\n0        NaN -0.07855  ...           0.14   -0.12927  -0.12920        1.16874   \n1   -0.37853 -0.07853  ...           0.27   -0.12927  -0.12920       -0.06238   \n2    0.83463 -0.07843  ...           0.89   -0.12927  -0.12920        5.02489   \n3   -0.34639      NaN  ...            NaN        NaN       NaN            NaN   \n4   -0.22382 -0.07842  ...           0.29    0.21630   0.21636       -0.21770   \n..       ...      ...  ...            ...        ...       ...            ...   \n343 -0.23000 -0.07844  ...           0.32   -0.12927  -0.12920       -0.07636   \n344 -0.21925 -0.07860  ...           0.70   -0.12927  -0.12920       -0.23821   \n345  6.74613 -0.07847  ...           0.28   -0.12927  -0.12920       -0.28544   \n346 -0.38165 -0.07865  ...           1.49   -0.53012  -0.53005       -0.29814   \n347 -0.34429 -0.07861  ...           0.19   -0.12927  -0.12920       -0.29766   \n\n     sec_trfm_std  sec_trt1m_mean  sec_trt1m_std  rat_spcsrc  lawsuit  \\\n0        -0.18568        -0.12335       -0.14995         6.0      1.0   \n1        -0.19987        -0.12808       -0.14500         3.0      0.0   \n2         3.53195        -0.12050       -0.14987         4.0      0.0   \n3             NaN             NaN            NaN         0.0      0.0   \n4        -0.19550        -0.11650       -0.14531         6.0      0.0   \n..            ...             ...            ...         ...      ...   \n343      -0.14427        -0.12066       -0.14918         0.0      0.0   \n344      -0.22835        -0.10436       -0.14218         0.0      0.0   \n345      -0.17920        -0.12190       -0.15077         0.0      0.0   \n346      -0.22835        -0.08673       -0.11280         0.0      0.0   \n347      -0.22199        -0.13697       -0.14610         0.0      0.0   \n\n     SettlementAmount  \n0                 0.0  \n1                 NaN  \n2                 NaN  \n3                 NaN  \n4                 NaN  \n..                ...  \n343               NaN  \n344               NaN  \n345               NaN  \n346               NaN  \n347               NaN  \n\n[348 rows x 164 columns]",
      "text/html": "<div>\n<style scoped>\n    .dataframe tbody tr th:only-of-type {\n        vertical-align: middle;\n    }\n\n    .dataframe tbody tr th {\n        vertical-align: top;\n    }\n\n    .dataframe thead th {\n        text-align: right;\n    }\n</style>\n<table border=\"1\" class=\"dataframe\">\n  <thead>\n    <tr style=\"text-align: right;\">\n      <th></th>\n      <th>gvkey</th>\n      <th>exesign</th>\n      <th>src</th>\n      <th>auop</th>\n      <th>gsubind</th>\n      <th>aoloch</th>\n      <th>aoloch_std</th>\n      <th>at</th>\n      <th>at_std</th>\n      <th>bkvlps</th>\n      <th>...</th>\n      <th>st_volatility</th>\n      <th>sec_ajexm</th>\n      <th>sec_ajpm</th>\n      <th>sec_trfm_mean</th>\n      <th>sec_trfm_std</th>\n      <th>sec_trt1m_mean</th>\n      <th>sec_trt1m_std</th>\n      <th>rat_spcsrc</th>\n      <th>lawsuit</th>\n      <th>SettlementAmount</th>\n    </tr>\n  </thead>\n  <tbody>\n    <tr>\n      <th>0</th>\n      <td>1239</td>\n      <td>1</td>\n      <td>5</td>\n      <td>2</td>\n      <td>30302010</td>\n      <td>-0.04005</td>\n      <td>NaN</td>\n      <td>-0.24066</td>\n      <td>NaN</td>\n      <td>-0.07855</td>\n      <td>...</td>\n      <td>0.14</td>\n      <td>-0.12927</td>\n      <td>-0.12920</td>\n      <td>1.16874</td>\n      <td>-0.18568</td>\n      <td>-0.12335</td>\n      <td>-0.14995</td>\n      <td>6.0</td>\n      <td>1.0</td>\n      <td>0.0</td>\n    </tr>\n    <tr>\n      <th>1</th>\n      <td>1266</td>\n      <td>1</td>\n      <td>5</td>\n      <td>1</td>\n      <td>30202010</td>\n      <td>-0.04529</td>\n      <td>-0.39016</td>\n      <td>-0.32871</td>\n      <td>-0.37853</td>\n      <td>-0.07853</td>\n      <td>...</td>\n      <td>0.27</td>\n      <td>-0.12927</td>\n      <td>-0.12920</td>\n      <td>-0.06238</td>\n      <td>-0.19987</td>\n      <td>-0.12808</td>\n      <td>-0.14500</td>\n      <td>3.0</td>\n      <td>0.0</td>\n      <td>NaN</td>\n    </tr>\n    <tr>\n      <th>2</th>\n      <td>1408</td>\n      <td>1</td>\n      <td>8</td>\n      <td>1</td>\n      <td>30201020</td>\n      <td>-0.42531</td>\n      <td>0.12443</td>\n      <td>0.10983</td>\n      <td>0.83463</td>\n      <td>-0.07843</td>\n      <td>...</td>\n      <td>0.89</td>\n      <td>-0.12927</td>\n      <td>-0.12920</td>\n      <td>5.02489</td>\n      <td>3.53195</td>\n      <td>-0.12050</td>\n      <td>-0.14987</td>\n      <td>4.0</td>\n      <td>0.0</td>\n      <td>NaN</td>\n    </tr>\n    <tr>\n      <th>3</th>\n      <td>1429</td>\n      <td>1</td>\n      <td>3</td>\n      <td>1</td>\n      <td>30202030</td>\n      <td>0.14002</td>\n      <td>-0.08850</td>\n      <td>-0.29217</td>\n      <td>-0.34639</td>\n      <td>NaN</td>\n      <td>...</td>\n      <td>NaN</td>\n      <td>NaN</td>\n      <td>NaN</td>\n      <td>NaN</td>\n      <td>NaN</td>\n      <td>NaN</td>\n      <td>NaN</td>\n      <td>0.0</td>\n      <td>0.0</td>\n      <td>NaN</td>\n    </tr>\n    <tr>\n      <th>4</th>\n      <td>1659</td>\n      <td>1</td>\n      <td>5</td>\n      <td>1</td>\n      <td>30101020</td>\n      <td>-0.03637</td>\n      <td>0.54420</td>\n      <td>-0.23650</td>\n      <td>-0.22382</td>\n      <td>-0.07842</td>\n      <td>...</td>\n      <td>0.29</td>\n      <td>0.21630</td>\n      <td>0.21636</td>\n      <td>-0.21770</td>\n      <td>-0.19550</td>\n      <td>-0.11650</td>\n      <td>-0.14531</td>\n      <td>6.0</td>\n      <td>0.0</td>\n      <td>NaN</td>\n    </tr>\n    <tr>\n      <th>...</th>\n      <td>...</td>\n      <td>...</td>\n      <td>...</td>\n      <td>...</td>\n      <td>...</td>\n      <td>...</td>\n      <td>...</td>\n      <td>...</td>\n      <td>...</td>\n      <td>...</td>\n      <td>...</td>\n      <td>...</td>\n      <td>...</td>\n      <td>...</td>\n      <td>...</td>\n      <td>...</td>\n      <td>...</td>\n      <td>...</td>\n      <td>...</td>\n      <td>...</td>\n      <td>...</td>\n    </tr>\n    <tr>\n      <th>343</th>\n      <td>221545</td>\n      <td>1</td>\n      <td>53</td>\n      <td>2</td>\n      <td>30202030</td>\n      <td>-0.15808</td>\n      <td>-0.26199</td>\n      <td>-0.23758</td>\n      <td>-0.23000</td>\n      <td>-0.07844</td>\n      <td>...</td>\n      <td>0.32</td>\n      <td>-0.12927</td>\n      <td>-0.12920</td>\n      <td>-0.07636</td>\n      <td>-0.14427</td>\n      <td>-0.12066</td>\n      <td>-0.14918</td>\n      <td>0.0</td>\n      <td>0.0</td>\n      <td>NaN</td>\n    </tr>\n    <tr>\n      <th>344</th>\n      <td>222519</td>\n      <td>1</td>\n      <td>53</td>\n      <td>2</td>\n      <td>30202030</td>\n      <td>0.63334</td>\n      <td>0.08756</td>\n      <td>-0.17066</td>\n      <td>-0.21925</td>\n      <td>-0.07860</td>\n      <td>...</td>\n      <td>0.70</td>\n      <td>-0.12927</td>\n      <td>-0.12920</td>\n      <td>-0.23821</td>\n      <td>-0.22835</td>\n      <td>-0.10436</td>\n      <td>-0.14218</td>\n      <td>0.0</td>\n      <td>0.0</td>\n      <td>NaN</td>\n    </tr>\n    <tr>\n      <th>345</th>\n      <td>241637</td>\n      <td>1</td>\n      <td>53</td>\n      <td>1</td>\n      <td>30201010</td>\n      <td>4.19856</td>\n      <td>1.30885</td>\n      <td>5.82959</td>\n      <td>6.74613</td>\n      <td>-0.07847</td>\n      <td>...</td>\n      <td>0.28</td>\n      <td>-0.12927</td>\n      <td>-0.12920</td>\n      <td>-0.28544</td>\n      <td>-0.17920</td>\n      <td>-0.12190</td>\n      <td>-0.15077</td>\n      <td>0.0</td>\n      <td>0.0</td>\n      <td>NaN</td>\n    </tr>\n    <tr>\n      <th>346</th>\n      <td>264393</td>\n      <td>1</td>\n      <td>5</td>\n      <td>1</td>\n      <td>30101020</td>\n      <td>-0.05636</td>\n      <td>-0.39918</td>\n      <td>-0.33830</td>\n      <td>-0.38165</td>\n      <td>-0.07865</td>\n      <td>...</td>\n      <td>1.49</td>\n      <td>-0.53012</td>\n      <td>-0.53005</td>\n      <td>-0.29814</td>\n      <td>-0.22835</td>\n      <td>-0.08673</td>\n      <td>-0.11280</td>\n      <td>0.0</td>\n      <td>0.0</td>\n      <td>NaN</td>\n    </tr>\n    <tr>\n      <th>347</th>\n      <td>277487</td>\n      <td>1</td>\n      <td>5</td>\n      <td>1</td>\n      <td>30202010</td>\n      <td>-0.09454</td>\n      <td>-0.36422</td>\n      <td>-0.31938</td>\n      <td>-0.34429</td>\n      <td>-0.07861</td>\n      <td>...</td>\n      <td>0.19</td>\n      <td>-0.12927</td>\n      <td>-0.12920</td>\n      <td>-0.29766</td>\n      <td>-0.22199</td>\n      <td>-0.13697</td>\n      <td>-0.14610</td>\n      <td>0.0</td>\n      <td>0.0</td>\n      <td>NaN</td>\n    </tr>\n  </tbody>\n</table>\n<p>348 rows × 164 columns</p>\n</div>"
     },
     "execution_count": 123,
     "metadata": {},
     "output_type": "execute_result"
    }
   ],
   "source": [
    "# Scale Data -- Create List for Scaling\n",
    "\n",
    "## Create list of exceptions for scaling\n",
    "scaleException = ['gvkey','gsubind','exesign','src','auop','rest_count','rest_count_of_diffs','rest_a_count_of_diffs',\n",
    "                  'st_per_growth','st_per_currentToMax','st_per_lowToStart','st_volatility','rat_spcsrc',\n",
    "                  'lawsuit','SettlementAmount',\n",
    "                  'invch']\n",
    "\n",
    "## Remove exceptions from scale list\n",
    "orig_scaleList = origDF.columns.tolist()\n",
    "for col in scaleException:\n",
    "    orig_scaleList.remove(col)\n",
    "\n",
    "# Scale Data -- Call the z_score function\n",
    "origDF_scaled = z_score(origDF,orig_scaleList)\n",
    "origDF_scaled"
   ],
   "metadata": {
    "collapsed": false,
    "pycharm": {
     "name": "#%%\n"
    }
   }
  },
  {
   "cell_type": "code",
   "execution_count": 124,
   "outputs": [
    {
     "name": "stdout",
     "output_type": "stream",
     "text": [
      "Count of Variables: 164\n",
      "Count of Variables without nulls: 42\n",
      "Count of Variables with null : 122\n"
     ]
    },
    {
     "data": {
      "text/plain": "             Variable Observations Nulls  Null_Per Num_Unique     Type  \\\n163  SettlementAmount          348   302    86.782         12  float64   \n138          xacc_std          348    83    23.851        252  float64   \n62          esubc_std          348    73    20.977         70  float64   \n137              xacc          348    50    14.368        263  float64   \n76          intpn_std          348    49    14.080        264  float64   \n..                ...          ...   ...       ...        ...      ...   \n111              pstk          348     1     0.287         48  float64   \n107             ppegt          348     1     0.287        279  float64   \n45              dpact          348     1     0.287        280  float64   \n15                ceq          348     1     0.287        326  float64   \n83                lct          348     1     0.287        299  float64   \n\n       MedVal   MinVal    MaxVal  \n163  0.000000        0  4.75e+07  \n138 -0.352410 -0.38644   7.48606  \n62  -0.241590 -0.24159   6.72302  \n137 -0.287175 -0.29895   11.7714  \n76  -0.313340 -0.33014   11.4846  \n..        ...      ...       ...  \n111 -0.104900 -1.20429   16.9075  \n107 -0.265400 -0.28037    14.961  \n45  -0.319190 -0.33252   11.9431  \n15  -0.291460 -0.60197   8.63945  \n83  -0.307230 -0.31957   11.4553  \n\n[122 rows x 9 columns]",
      "text/html": "<div>\n<style scoped>\n    .dataframe tbody tr th:only-of-type {\n        vertical-align: middle;\n    }\n\n    .dataframe tbody tr th {\n        vertical-align: top;\n    }\n\n    .dataframe thead th {\n        text-align: right;\n    }\n</style>\n<table border=\"1\" class=\"dataframe\">\n  <thead>\n    <tr style=\"text-align: right;\">\n      <th></th>\n      <th>Variable</th>\n      <th>Observations</th>\n      <th>Nulls</th>\n      <th>Null_Per</th>\n      <th>Num_Unique</th>\n      <th>Type</th>\n      <th>MedVal</th>\n      <th>MinVal</th>\n      <th>MaxVal</th>\n    </tr>\n  </thead>\n  <tbody>\n    <tr>\n      <th>163</th>\n      <td>SettlementAmount</td>\n      <td>348</td>\n      <td>302</td>\n      <td>86.782</td>\n      <td>12</td>\n      <td>float64</td>\n      <td>0.000000</td>\n      <td>0</td>\n      <td>4.75e+07</td>\n    </tr>\n    <tr>\n      <th>138</th>\n      <td>xacc_std</td>\n      <td>348</td>\n      <td>83</td>\n      <td>23.851</td>\n      <td>252</td>\n      <td>float64</td>\n      <td>-0.352410</td>\n      <td>-0.38644</td>\n      <td>7.48606</td>\n    </tr>\n    <tr>\n      <th>62</th>\n      <td>esubc_std</td>\n      <td>348</td>\n      <td>73</td>\n      <td>20.977</td>\n      <td>70</td>\n      <td>float64</td>\n      <td>-0.241590</td>\n      <td>-0.24159</td>\n      <td>6.72302</td>\n    </tr>\n    <tr>\n      <th>137</th>\n      <td>xacc</td>\n      <td>348</td>\n      <td>50</td>\n      <td>14.368</td>\n      <td>263</td>\n      <td>float64</td>\n      <td>-0.287175</td>\n      <td>-0.29895</td>\n      <td>11.7714</td>\n    </tr>\n    <tr>\n      <th>76</th>\n      <td>intpn_std</td>\n      <td>348</td>\n      <td>49</td>\n      <td>14.080</td>\n      <td>264</td>\n      <td>float64</td>\n      <td>-0.313340</td>\n      <td>-0.33014</td>\n      <td>11.4846</td>\n    </tr>\n    <tr>\n      <th>...</th>\n      <td>...</td>\n      <td>...</td>\n      <td>...</td>\n      <td>...</td>\n      <td>...</td>\n      <td>...</td>\n      <td>...</td>\n      <td>...</td>\n      <td>...</td>\n    </tr>\n    <tr>\n      <th>111</th>\n      <td>pstk</td>\n      <td>348</td>\n      <td>1</td>\n      <td>0.287</td>\n      <td>48</td>\n      <td>float64</td>\n      <td>-0.104900</td>\n      <td>-1.20429</td>\n      <td>16.9075</td>\n    </tr>\n    <tr>\n      <th>107</th>\n      <td>ppegt</td>\n      <td>348</td>\n      <td>1</td>\n      <td>0.287</td>\n      <td>279</td>\n      <td>float64</td>\n      <td>-0.265400</td>\n      <td>-0.28037</td>\n      <td>14.961</td>\n    </tr>\n    <tr>\n      <th>45</th>\n      <td>dpact</td>\n      <td>348</td>\n      <td>1</td>\n      <td>0.287</td>\n      <td>280</td>\n      <td>float64</td>\n      <td>-0.319190</td>\n      <td>-0.33252</td>\n      <td>11.9431</td>\n    </tr>\n    <tr>\n      <th>15</th>\n      <td>ceq</td>\n      <td>348</td>\n      <td>1</td>\n      <td>0.287</td>\n      <td>326</td>\n      <td>float64</td>\n      <td>-0.291460</td>\n      <td>-0.60197</td>\n      <td>8.63945</td>\n    </tr>\n    <tr>\n      <th>83</th>\n      <td>lct</td>\n      <td>348</td>\n      <td>1</td>\n      <td>0.287</td>\n      <td>299</td>\n      <td>float64</td>\n      <td>-0.307230</td>\n      <td>-0.31957</td>\n      <td>11.4553</td>\n    </tr>\n  </tbody>\n</table>\n<p>122 rows × 9 columns</p>\n</div>"
     },
     "execution_count": 124,
     "metadata": {},
     "output_type": "execute_result"
    }
   ],
   "source": [
    "nullAnalysisDF = nullAnalysis(origDF_scaled)\n",
    "nullAnalysisDF"
   ],
   "metadata": {
    "collapsed": false,
    "pycharm": {
     "name": "#%%\n"
    }
   }
  },
  {
   "cell_type": "code",
   "execution_count": 125,
   "outputs": [
    {
     "data": {
      "text/plain": "      gvkey  lawsuit  SettlementAmount\n0      1239      1.0               0.0\n1      1266      0.0               NaN\n2      1408      0.0               NaN\n3      1429      0.0               NaN\n4      1659      0.0               NaN\n..      ...      ...               ...\n343  221545      0.0               NaN\n344  222519      0.0               NaN\n345  241637      0.0               NaN\n346  264393      0.0               NaN\n347  277487      0.0               NaN\n\n[348 rows x 3 columns]",
      "text/html": "<div>\n<style scoped>\n    .dataframe tbody tr th:only-of-type {\n        vertical-align: middle;\n    }\n\n    .dataframe tbody tr th {\n        vertical-align: top;\n    }\n\n    .dataframe thead th {\n        text-align: right;\n    }\n</style>\n<table border=\"1\" class=\"dataframe\">\n  <thead>\n    <tr style=\"text-align: right;\">\n      <th></th>\n      <th>gvkey</th>\n      <th>lawsuit</th>\n      <th>SettlementAmount</th>\n    </tr>\n  </thead>\n  <tbody>\n    <tr>\n      <th>0</th>\n      <td>1239</td>\n      <td>1.0</td>\n      <td>0.0</td>\n    </tr>\n    <tr>\n      <th>1</th>\n      <td>1266</td>\n      <td>0.0</td>\n      <td>NaN</td>\n    </tr>\n    <tr>\n      <th>2</th>\n      <td>1408</td>\n      <td>0.0</td>\n      <td>NaN</td>\n    </tr>\n    <tr>\n      <th>3</th>\n      <td>1429</td>\n      <td>0.0</td>\n      <td>NaN</td>\n    </tr>\n    <tr>\n      <th>4</th>\n      <td>1659</td>\n      <td>0.0</td>\n      <td>NaN</td>\n    </tr>\n    <tr>\n      <th>...</th>\n      <td>...</td>\n      <td>...</td>\n      <td>...</td>\n    </tr>\n    <tr>\n      <th>343</th>\n      <td>221545</td>\n      <td>0.0</td>\n      <td>NaN</td>\n    </tr>\n    <tr>\n      <th>344</th>\n      <td>222519</td>\n      <td>0.0</td>\n      <td>NaN</td>\n    </tr>\n    <tr>\n      <th>345</th>\n      <td>241637</td>\n      <td>0.0</td>\n      <td>NaN</td>\n    </tr>\n    <tr>\n      <th>346</th>\n      <td>264393</td>\n      <td>0.0</td>\n      <td>NaN</td>\n    </tr>\n    <tr>\n      <th>347</th>\n      <td>277487</td>\n      <td>0.0</td>\n      <td>NaN</td>\n    </tr>\n  </tbody>\n</table>\n<p>348 rows × 3 columns</p>\n</div>"
     },
     "execution_count": 125,
     "metadata": {},
     "output_type": "execute_result"
    }
   ],
   "source": [
    "# Imputer TODO:\n",
    "## Determine method to test how well it did\n",
    "## Tune params\n",
    "## Create Visuals to explain what it did.\n",
    "\n",
    "## One option: https://scikit-learn.org/stable/modules/impute.html#impute\n",
    "\n",
    "## Create DF w/o response Vars and a temp to rejoin after imputer runs\n",
    "completeDF_Imputed = origDF_scaled.copy()\n",
    "temp_Imputed_Resp = completeDF_Imputed[['gvkey','lawsuit','SettlementAmount']]\n",
    "completeDF_Imputed = completeDF_Imputed.drop(columns=['lawsuit','SettlementAmount'])\n",
    "temp_Imputed_Resp"
   ],
   "metadata": {
    "collapsed": false,
    "pycharm": {
     "name": "#%%\n"
    }
   }
  },
  {
   "cell_type": "code",
   "execution_count": null,
   "outputs": [
    {
     "name": "stdout",
     "output_type": "stream",
     "text": [
      "Starting Imputer...\n"
     ]
    }
   ],
   "source": [
    "print(\"Starting Imputer...\")\n",
    "# Introduce IterativeImputer with an estimator and Fit\n",
    "## Used as a guide, which states that ExtraTreesRegressor performs best:\n",
    "## https://towardsdatascience.com/going-beyond-the-simpleimputer-for-missing-data-imputation-dd8ba168d505\n",
    "imp = IterativeImputer(estimator=ExtraTreesRegressor(), max_iter=10, random_state=42)\n",
    "imp.fit(completeDF_Imputed)\n",
    "\n",
    "# Transform the dataset containing missing values\n",
    "completeDF_Imputed = pd.DataFrame(imp.transform(completeDF_Imputed), columns = completeDF_Imputed.columns)\n",
    "print(\"Done w/ Imputer\")\n",
    "\n",
    "# Rejoin Temp\n",
    "completeDF_Imputed = completeDF_Imputed.merge(temp_Imputed_Resp, left_on='gvkey', right_on='gvkey')\n",
    "completeDF_Imputed.shape"
   ],
   "metadata": {
    "collapsed": false,
    "pycharm": {
     "name": "#%%\n",
     "is_executing": true
    }
   }
  },
  {
   "cell_type": "code",
   "execution_count": null,
   "outputs": [],
   "source": [
    "nullAnalysisDF_scale = nullAnalysis(origDF_scaled)\n",
    "nullAnalysisDF_scale = nullAnalysisDF_scale.sort_values(by='MaxVal', ascending=False)\n",
    "nullAnalysisDF_scale"
   ],
   "metadata": {
    "collapsed": false,
    "pycharm": {
     "name": "#%%\n",
     "is_executing": true
    }
   }
  },
  {
   "cell_type": "code",
   "execution_count": null,
   "outputs": [],
   "source": [
    "nullAnalysisDF = nullAnalysis(completeDF_Imputed)\n",
    "nullAnalysisDF"
   ],
   "metadata": {
    "collapsed": false,
    "pycharm": {
     "name": "#%%\n",
     "is_executing": true
    }
   }
  },
  {
   "cell_type": "code",
   "execution_count": null,
   "outputs": [],
   "source": [
    "completeDF_Imputed"
   ],
   "metadata": {
    "collapsed": false,
    "pycharm": {
     "name": "#%%\n",
     "is_executing": true
    }
   }
  },
  {
   "cell_type": "code",
   "execution_count": null,
   "outputs": [],
   "source": [
    "# Exclude:\n",
    "'SettlementAmount'\n",
    "\n",
    "# Fix at Source:\n",
    "\n"
   ],
   "metadata": {
    "collapsed": false,
    "pycharm": {
     "name": "#%%",
     "is_executing": true
    }
   }
  }
 ],
 "metadata": {
  "kernelspec": {
   "display_name": "Python 3",
   "language": "python",
   "name": "python3"
  },
  "language_info": {
   "codemirror_mode": {
    "name": "ipython",
    "version": 2
   },
   "file_extension": ".py",
   "mimetype": "text/x-python",
   "name": "python",
   "nbconvert_exporter": "python",
   "pygments_lexer": "ipython2",
   "version": "2.7.6"
  }
 },
 "nbformat": 4,
 "nbformat_minor": 0
}