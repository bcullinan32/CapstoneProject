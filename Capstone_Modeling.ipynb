{
 "cells": [
  {
   "cell_type": "markdown",
   "metadata": {
    "collapsed": true,
    "pycharm": {
     "name": "#%% md\n"
    }
   },
   "source": [
    "# Intro:\n",
    "\n",
    "This notebook is the second in the series for the Capstone Project.  \"Capstone_Data-Prep\" covers pulling in several\n",
    "data sources, trimming to the needed observations/variables, joining together, and producing the source data or this\n",
    "notebook."
   ]
  },
  {
   "cell_type": "code",
   "execution_count": 83,
   "outputs": [],
   "source": [
    "# Standard Libraries\n",
    "import pandas as pd\n",
    "import numpy as np\n",
    "import os\n",
    "import warnings\n",
    "import json\n",
    "\n",
    "# Plotting Libraries\n",
    "import matplotlib.pyplot as plt\n",
    "import seaborn as sns\n",
    "\n",
    "#sklearn\n",
    "from sklearn.preprocessing import OrdinalEncoder\n",
    "\n",
    "# set Theme\n",
    "plt.style.use('seaborn')\n",
    "sns.set_theme(style=\"whitegrid\")\n",
    "warnings.filterwarnings('ignore')\n"
   ],
   "metadata": {
    "collapsed": false,
    "pycharm": {
     "name": "#%%\n"
    }
   }
  },
  {
   "cell_type": "code",
   "execution_count": 84,
   "outputs": [
    {
     "name": "stdout",
     "output_type": "stream",
     "text": [
      "Source Data: C:\\Users\\TheCu\\OneDrive\\Documents\\Grad-School-Docs\\CapstoneProject\\Repo\\CleanData\\\n",
      "Exports: C:\\Users\\TheCu\\OneDrive\\Documents\\Grad-School-Docs\\CapstoneProject\\Repo\\Export\\\n"
     ]
    }
   ],
   "source": [
    "# Set Paths\n",
    "path = os.getcwd()\n",
    "sourceDataPath = path + '\\\\CleanData\\\\'\n",
    "exportPath = path +'\\\\Export\\\\'\n",
    "\n",
    "print(f\"Source Data:\",sourceDataPath)\n",
    "print(f\"Exports:\",exportPath)"
   ],
   "metadata": {
    "collapsed": false,
    "pycharm": {
     "name": "#%%\n"
    }
   }
  },
  {
   "cell_type": "markdown",
   "source": [
    "# Reusable Functions:"
   ],
   "metadata": {
    "collapsed": false
   }
  },
  {
   "cell_type": "code",
   "execution_count": 85,
   "outputs": [],
   "source": [
    "# Takes a DF and Producecs a Report of Null Values\n",
    "def nullAnalysis(df):\n",
    "    row = []\n",
    "    null_summaryDF = pd.DataFrame(columns = [\"Variable\",\"Observations\",\"Nulls\",\"Null_Per\",\"Num_Unique\",\"Type\"])\n",
    "    for column in df:\n",
    "        var = column\n",
    "        countOfObs = len(df[var])\n",
    "        countOfNull = df[var].isnull().sum()\n",
    "        perOfNull = round((100 * countOfNull) / countOfObs,3)\n",
    "        numUnique = df[var].nunique()\n",
    "        type  = df[var].dtypes\n",
    "        # Append to Summary DF\n",
    "        row = [var, countOfObs,countOfNull,perOfNull,numUnique,type]\n",
    "        df_length = len(null_summaryDF)\n",
    "        null_summaryDF.loc[df_length] = row\n",
    "    # Get Summary Stats\n",
    "    countofVars = len(null_summaryDF)\n",
    "    countofNotNull = (null_summaryDF['Nulls'] == 0).sum()\n",
    "    countofNull = (null_summaryDF['Nulls'] != 0).sum()\n",
    "    print(f\"Count of Variables:\",countofVars)\n",
    "    print(f\"Count of Variables without nulls:\",countofNotNull)\n",
    "    print(f\"Count of Variables with null :\",countofNull)\n",
    "    # Format Summary\n",
    "    summaryDF = null_summaryDF[null_summaryDF['Nulls'] != 0].sort_values(by=['Nulls'],ascending=False)\n",
    "    return summaryDF"
   ],
   "metadata": {
    "collapsed": false,
    "pycharm": {
     "name": "#%%\n"
    }
   }
  },
  {
   "cell_type": "markdown",
   "source": [
    "# Get and Prep Data"
   ],
   "metadata": {
    "collapsed": false
   }
  },
  {
   "cell_type": "code",
   "execution_count": 86,
   "outputs": [
    {
     "data": {
      "text/plain": "      gvkey    tic curncd ceoso cfoso    currtr  src  auop  acominc  \\\n0      1239    ACV    USD     Y     Y  1.000000    5   4.0   2010.0   \n1      1266   ALCO    USD     Y     Y  1.000000    5   1.0   2011.5   \n2      1408   BEAM    USD     Y     Y  1.000000    8   1.0   2011.5   \n3      1429  2388B    USD     Y     Y  1.000000    3   1.0   2011.5   \n4      1659   ANDE    USD     Y     Y  1.000000    5   1.0   2011.5   \n..      ...    ...    ...   ...   ...       ...  ...   ...      ...   \n343  221545    IBA    MXN     Y     Y  0.076348   53   4.0   2011.5   \n344  222519    GMK    MXN     Y     Y  0.076348   53   4.0   2011.5   \n345  241637    BUD    USD     Y     Y  1.000000   53   1.0   2011.5   \n346  264393   IVFH    USD     Y     Y  1.000000    5   1.0   2011.5   \n347  277487    LND    BRR     Y     Y  0.453001    5   1.0   2012.0   \n\n     acominc_std  ...  st_volatility  sec_ajexm  sec_ajpm  sec_trfm_mean  \\\n0      -70.29700  ...           0.14   1.000000  1.000000       6.001949   \n1        0.00000  ...           0.27   1.000000  1.000000       1.803951   \n2     -202.22500  ...           0.89   1.000000  1.000000      19.151070   \n3      -77.61875  ...            NaN        NaN       NaN            NaN   \n4      -34.61225  ...           0.29   1.453704  1.453704       1.274316   \n..           ...  ...            ...        ...       ...            ...   \n343     -2.70650  ...           0.32   1.000000  1.000000       1.756264   \n344     -7.69025  ...           0.70   1.000000  1.000000       1.204377   \n345    790.00000  ...           0.28   1.000000  1.000000       1.043322   \n346      0.00000  ...           1.49   0.473704  0.473704       1.000000   \n347      0.00000  ...           0.19   1.000000  1.000000       1.001641   \n\n     sec_trfm_std  sec_trt1m_mean  sec_trt1m_std  rat_spcsrc  lawsuit  \\\n0        0.026279        1.631413       6.320251         6.0      1.0   \n1        0.017539        0.991502       9.322428         3.0      NaN   \n2        2.316089        2.017711       6.373380         4.0      NaN   \n3             NaN             NaN            NaN         0.0      NaN   \n4        0.020235        2.559811       9.131795         6.0      NaN   \n..            ...             ...            ...         ...      ...   \n343      0.051788        1.996371       6.788384         0.0      NaN   \n344      0.000000        4.203464      11.024610         0.0      NaN   \n345      0.030272        1.827778       5.822912         0.0      NaN   \n346      0.000000        6.590749      28.817567         0.0      NaN   \n347      0.003915       -0.212626       8.650915         0.0      NaN   \n\n     SettlementAmount  \n0                 0.0  \n1                 NaN  \n2                 NaN  \n3                 NaN  \n4                 NaN  \n..                ...  \n343               NaN  \n344               NaN  \n345               NaN  \n346               NaN  \n347               NaN  \n\n[348 rows x 187 columns]",
      "text/html": "<div>\n<style scoped>\n    .dataframe tbody tr th:only-of-type {\n        vertical-align: middle;\n    }\n\n    .dataframe tbody tr th {\n        vertical-align: top;\n    }\n\n    .dataframe thead th {\n        text-align: right;\n    }\n</style>\n<table border=\"1\" class=\"dataframe\">\n  <thead>\n    <tr style=\"text-align: right;\">\n      <th></th>\n      <th>gvkey</th>\n      <th>tic</th>\n      <th>curncd</th>\n      <th>ceoso</th>\n      <th>cfoso</th>\n      <th>currtr</th>\n      <th>src</th>\n      <th>auop</th>\n      <th>acominc</th>\n      <th>acominc_std</th>\n      <th>...</th>\n      <th>st_volatility</th>\n      <th>sec_ajexm</th>\n      <th>sec_ajpm</th>\n      <th>sec_trfm_mean</th>\n      <th>sec_trfm_std</th>\n      <th>sec_trt1m_mean</th>\n      <th>sec_trt1m_std</th>\n      <th>rat_spcsrc</th>\n      <th>lawsuit</th>\n      <th>SettlementAmount</th>\n    </tr>\n  </thead>\n  <tbody>\n    <tr>\n      <th>0</th>\n      <td>1239</td>\n      <td>ACV</td>\n      <td>USD</td>\n      <td>Y</td>\n      <td>Y</td>\n      <td>1.000000</td>\n      <td>5</td>\n      <td>4.0</td>\n      <td>2010.0</td>\n      <td>-70.29700</td>\n      <td>...</td>\n      <td>0.14</td>\n      <td>1.000000</td>\n      <td>1.000000</td>\n      <td>6.001949</td>\n      <td>0.026279</td>\n      <td>1.631413</td>\n      <td>6.320251</td>\n      <td>6.0</td>\n      <td>1.0</td>\n      <td>0.0</td>\n    </tr>\n    <tr>\n      <th>1</th>\n      <td>1266</td>\n      <td>ALCO</td>\n      <td>USD</td>\n      <td>Y</td>\n      <td>Y</td>\n      <td>1.000000</td>\n      <td>5</td>\n      <td>1.0</td>\n      <td>2011.5</td>\n      <td>0.00000</td>\n      <td>...</td>\n      <td>0.27</td>\n      <td>1.000000</td>\n      <td>1.000000</td>\n      <td>1.803951</td>\n      <td>0.017539</td>\n      <td>0.991502</td>\n      <td>9.322428</td>\n      <td>3.0</td>\n      <td>NaN</td>\n      <td>NaN</td>\n    </tr>\n    <tr>\n      <th>2</th>\n      <td>1408</td>\n      <td>BEAM</td>\n      <td>USD</td>\n      <td>Y</td>\n      <td>Y</td>\n      <td>1.000000</td>\n      <td>8</td>\n      <td>1.0</td>\n      <td>2011.5</td>\n      <td>-202.22500</td>\n      <td>...</td>\n      <td>0.89</td>\n      <td>1.000000</td>\n      <td>1.000000</td>\n      <td>19.151070</td>\n      <td>2.316089</td>\n      <td>2.017711</td>\n      <td>6.373380</td>\n      <td>4.0</td>\n      <td>NaN</td>\n      <td>NaN</td>\n    </tr>\n    <tr>\n      <th>3</th>\n      <td>1429</td>\n      <td>2388B</td>\n      <td>USD</td>\n      <td>Y</td>\n      <td>Y</td>\n      <td>1.000000</td>\n      <td>3</td>\n      <td>1.0</td>\n      <td>2011.5</td>\n      <td>-77.61875</td>\n      <td>...</td>\n      <td>NaN</td>\n      <td>NaN</td>\n      <td>NaN</td>\n      <td>NaN</td>\n      <td>NaN</td>\n      <td>NaN</td>\n      <td>NaN</td>\n      <td>0.0</td>\n      <td>NaN</td>\n      <td>NaN</td>\n    </tr>\n    <tr>\n      <th>4</th>\n      <td>1659</td>\n      <td>ANDE</td>\n      <td>USD</td>\n      <td>Y</td>\n      <td>Y</td>\n      <td>1.000000</td>\n      <td>5</td>\n      <td>1.0</td>\n      <td>2011.5</td>\n      <td>-34.61225</td>\n      <td>...</td>\n      <td>0.29</td>\n      <td>1.453704</td>\n      <td>1.453704</td>\n      <td>1.274316</td>\n      <td>0.020235</td>\n      <td>2.559811</td>\n      <td>9.131795</td>\n      <td>6.0</td>\n      <td>NaN</td>\n      <td>NaN</td>\n    </tr>\n    <tr>\n      <th>...</th>\n      <td>...</td>\n      <td>...</td>\n      <td>...</td>\n      <td>...</td>\n      <td>...</td>\n      <td>...</td>\n      <td>...</td>\n      <td>...</td>\n      <td>...</td>\n      <td>...</td>\n      <td>...</td>\n      <td>...</td>\n      <td>...</td>\n      <td>...</td>\n      <td>...</td>\n      <td>...</td>\n      <td>...</td>\n      <td>...</td>\n      <td>...</td>\n      <td>...</td>\n      <td>...</td>\n    </tr>\n    <tr>\n      <th>343</th>\n      <td>221545</td>\n      <td>IBA</td>\n      <td>MXN</td>\n      <td>Y</td>\n      <td>Y</td>\n      <td>0.076348</td>\n      <td>53</td>\n      <td>4.0</td>\n      <td>2011.5</td>\n      <td>-2.70650</td>\n      <td>...</td>\n      <td>0.32</td>\n      <td>1.000000</td>\n      <td>1.000000</td>\n      <td>1.756264</td>\n      <td>0.051788</td>\n      <td>1.996371</td>\n      <td>6.788384</td>\n      <td>0.0</td>\n      <td>NaN</td>\n      <td>NaN</td>\n    </tr>\n    <tr>\n      <th>344</th>\n      <td>222519</td>\n      <td>GMK</td>\n      <td>MXN</td>\n      <td>Y</td>\n      <td>Y</td>\n      <td>0.076348</td>\n      <td>53</td>\n      <td>4.0</td>\n      <td>2011.5</td>\n      <td>-7.69025</td>\n      <td>...</td>\n      <td>0.70</td>\n      <td>1.000000</td>\n      <td>1.000000</td>\n      <td>1.204377</td>\n      <td>0.000000</td>\n      <td>4.203464</td>\n      <td>11.024610</td>\n      <td>0.0</td>\n      <td>NaN</td>\n      <td>NaN</td>\n    </tr>\n    <tr>\n      <th>345</th>\n      <td>241637</td>\n      <td>BUD</td>\n      <td>USD</td>\n      <td>Y</td>\n      <td>Y</td>\n      <td>1.000000</td>\n      <td>53</td>\n      <td>1.0</td>\n      <td>2011.5</td>\n      <td>790.00000</td>\n      <td>...</td>\n      <td>0.28</td>\n      <td>1.000000</td>\n      <td>1.000000</td>\n      <td>1.043322</td>\n      <td>0.030272</td>\n      <td>1.827778</td>\n      <td>5.822912</td>\n      <td>0.0</td>\n      <td>NaN</td>\n      <td>NaN</td>\n    </tr>\n    <tr>\n      <th>346</th>\n      <td>264393</td>\n      <td>IVFH</td>\n      <td>USD</td>\n      <td>Y</td>\n      <td>Y</td>\n      <td>1.000000</td>\n      <td>5</td>\n      <td>1.0</td>\n      <td>2011.5</td>\n      <td>0.00000</td>\n      <td>...</td>\n      <td>1.49</td>\n      <td>0.473704</td>\n      <td>0.473704</td>\n      <td>1.000000</td>\n      <td>0.000000</td>\n      <td>6.590749</td>\n      <td>28.817567</td>\n      <td>0.0</td>\n      <td>NaN</td>\n      <td>NaN</td>\n    </tr>\n    <tr>\n      <th>347</th>\n      <td>277487</td>\n      <td>LND</td>\n      <td>BRR</td>\n      <td>Y</td>\n      <td>Y</td>\n      <td>0.453001</td>\n      <td>5</td>\n      <td>1.0</td>\n      <td>2012.0</td>\n      <td>0.00000</td>\n      <td>...</td>\n      <td>0.19</td>\n      <td>1.000000</td>\n      <td>1.000000</td>\n      <td>1.001641</td>\n      <td>0.003915</td>\n      <td>-0.212626</td>\n      <td>8.650915</td>\n      <td>0.0</td>\n      <td>NaN</td>\n      <td>NaN</td>\n    </tr>\n  </tbody>\n</table>\n<p>348 rows × 187 columns</p>\n</div>"
     },
     "execution_count": 86,
     "metadata": {},
     "output_type": "execute_result"
    }
   ],
   "source": [
    "# Get Source Data\n",
    "file = 'completeDF.csv'\n",
    "origDF = pd.read_csv(sourceDataPath+file,skipinitialspace = True)\n",
    "origDF = origDF.drop(columns=['Unnamed: 0'])\n",
    "origDF\n"
   ],
   "metadata": {
    "collapsed": false,
    "pycharm": {
     "name": "#%%\n"
    }
   }
  },
  {
   "cell_type": "code",
   "execution_count": 87,
   "outputs": [
    {
     "data": {
      "text/plain": "      gvkey    tic curncd    currtr\n0      1239    ACV    USD  1.000000\n1      1266   ALCO    USD  1.000000\n2      1408   BEAM    USD  1.000000\n3      1429  2388B    USD  1.000000\n4      1659   ANDE    USD  1.000000\n..      ...    ...    ...       ...\n343  221545    IBA    MXN  0.076348\n344  222519    GMK    MXN  0.076348\n345  241637    BUD    USD  1.000000\n346  264393   IVFH    USD  1.000000\n347  277487    LND    BRR  0.453001\n\n[348 rows x 4 columns]",
      "text/html": "<div>\n<style scoped>\n    .dataframe tbody tr th:only-of-type {\n        vertical-align: middle;\n    }\n\n    .dataframe tbody tr th {\n        vertical-align: top;\n    }\n\n    .dataframe thead th {\n        text-align: right;\n    }\n</style>\n<table border=\"1\" class=\"dataframe\">\n  <thead>\n    <tr style=\"text-align: right;\">\n      <th></th>\n      <th>gvkey</th>\n      <th>tic</th>\n      <th>curncd</th>\n      <th>currtr</th>\n    </tr>\n  </thead>\n  <tbody>\n    <tr>\n      <th>0</th>\n      <td>1239</td>\n      <td>ACV</td>\n      <td>USD</td>\n      <td>1.000000</td>\n    </tr>\n    <tr>\n      <th>1</th>\n      <td>1266</td>\n      <td>ALCO</td>\n      <td>USD</td>\n      <td>1.000000</td>\n    </tr>\n    <tr>\n      <th>2</th>\n      <td>1408</td>\n      <td>BEAM</td>\n      <td>USD</td>\n      <td>1.000000</td>\n    </tr>\n    <tr>\n      <th>3</th>\n      <td>1429</td>\n      <td>2388B</td>\n      <td>USD</td>\n      <td>1.000000</td>\n    </tr>\n    <tr>\n      <th>4</th>\n      <td>1659</td>\n      <td>ANDE</td>\n      <td>USD</td>\n      <td>1.000000</td>\n    </tr>\n    <tr>\n      <th>...</th>\n      <td>...</td>\n      <td>...</td>\n      <td>...</td>\n      <td>...</td>\n    </tr>\n    <tr>\n      <th>343</th>\n      <td>221545</td>\n      <td>IBA</td>\n      <td>MXN</td>\n      <td>0.076348</td>\n    </tr>\n    <tr>\n      <th>344</th>\n      <td>222519</td>\n      <td>GMK</td>\n      <td>MXN</td>\n      <td>0.076348</td>\n    </tr>\n    <tr>\n      <th>345</th>\n      <td>241637</td>\n      <td>BUD</td>\n      <td>USD</td>\n      <td>1.000000</td>\n    </tr>\n    <tr>\n      <th>346</th>\n      <td>264393</td>\n      <td>IVFH</td>\n      <td>USD</td>\n      <td>1.000000</td>\n    </tr>\n    <tr>\n      <th>347</th>\n      <td>277487</td>\n      <td>LND</td>\n      <td>BRR</td>\n      <td>0.453001</td>\n    </tr>\n  </tbody>\n</table>\n<p>348 rows × 4 columns</p>\n</div>"
     },
     "execution_count": 87,
     "metadata": {},
     "output_type": "execute_result"
    }
   ],
   "source": [
    "# Set aside variables that may be valuable for looks/interpretation of results, but not modeling\n",
    "orig_lookUps = origDF[['gvkey','tic','curncd','currtr']].copy()\n",
    "\n",
    "# delete those from origDF\n",
    "origDF = origDF.drop(columns=['tic','curncd','currtr'])\n",
    "orig_lookUps\n"
   ],
   "metadata": {
    "collapsed": false,
    "pycharm": {
     "name": "#%%\n"
    }
   }
  },
  {
   "cell_type": "code",
   "execution_count": 88,
   "outputs": [],
   "source": [
    "# Selective Fill Null's\n",
    "colsToFillNa =['lawsuit','rat_spcsrc','rest_count','rest_sum_diff','rest_count_of_diffs',\n",
    "               'rest_a_sum_diff','rest_a_count_of_diffs']\n",
    "origDF[colsToFillNa] = origDF[colsToFillNa].fillna(0)"
   ],
   "metadata": {
    "collapsed": false,
    "pycharm": {
     "name": "#%%\n"
    }
   }
  },
  {
   "cell_type": "code",
   "execution_count": 89,
   "outputs": [
    {
     "name": "stdout",
     "output_type": "stream",
     "text": [
      "Count of Variables: 184\n",
      "Count of Variables without nulls: 46\n",
      "Count of Variables with null : 138\n"
     ]
    },
    {
     "data": {
      "text/plain": "             Variable Observations Nulls  Null_Per Num_Unique     Type\n183  SettlementAmount          348   302    86.782         12  float64\n158          xint_std          348    83    23.851        257  float64\n154          wcap_std          348    81    23.276        125  float64\n117              pnca          348    73    20.977         70  float64\n75               fopo          348    54    15.517        135  float64\n..                ...          ...   ...       ...        ...      ...\n63              epsfi          348     1     0.287         56  float64\n29              chech          348     1     0.287        327  float64\n65              epsfx          348     1     0.287        334  float64\n78          fyear_std          348     1     0.287        347  float64\n7                 act          348     1     0.287        346  float64\n\n[138 rows x 6 columns]",
      "text/html": "<div>\n<style scoped>\n    .dataframe tbody tr th:only-of-type {\n        vertical-align: middle;\n    }\n\n    .dataframe tbody tr th {\n        vertical-align: top;\n    }\n\n    .dataframe thead th {\n        text-align: right;\n    }\n</style>\n<table border=\"1\" class=\"dataframe\">\n  <thead>\n    <tr style=\"text-align: right;\">\n      <th></th>\n      <th>Variable</th>\n      <th>Observations</th>\n      <th>Nulls</th>\n      <th>Null_Per</th>\n      <th>Num_Unique</th>\n      <th>Type</th>\n    </tr>\n  </thead>\n  <tbody>\n    <tr>\n      <th>183</th>\n      <td>SettlementAmount</td>\n      <td>348</td>\n      <td>302</td>\n      <td>86.782</td>\n      <td>12</td>\n      <td>float64</td>\n    </tr>\n    <tr>\n      <th>158</th>\n      <td>xint_std</td>\n      <td>348</td>\n      <td>83</td>\n      <td>23.851</td>\n      <td>257</td>\n      <td>float64</td>\n    </tr>\n    <tr>\n      <th>154</th>\n      <td>wcap_std</td>\n      <td>348</td>\n      <td>81</td>\n      <td>23.276</td>\n      <td>125</td>\n      <td>float64</td>\n    </tr>\n    <tr>\n      <th>117</th>\n      <td>pnca</td>\n      <td>348</td>\n      <td>73</td>\n      <td>20.977</td>\n      <td>70</td>\n      <td>float64</td>\n    </tr>\n    <tr>\n      <th>75</th>\n      <td>fopo</td>\n      <td>348</td>\n      <td>54</td>\n      <td>15.517</td>\n      <td>135</td>\n      <td>float64</td>\n    </tr>\n    <tr>\n      <th>...</th>\n      <td>...</td>\n      <td>...</td>\n      <td>...</td>\n      <td>...</td>\n      <td>...</td>\n      <td>...</td>\n    </tr>\n    <tr>\n      <th>63</th>\n      <td>epsfi</td>\n      <td>348</td>\n      <td>1</td>\n      <td>0.287</td>\n      <td>56</td>\n      <td>float64</td>\n    </tr>\n    <tr>\n      <th>29</th>\n      <td>chech</td>\n      <td>348</td>\n      <td>1</td>\n      <td>0.287</td>\n      <td>327</td>\n      <td>float64</td>\n    </tr>\n    <tr>\n      <th>65</th>\n      <td>epsfx</td>\n      <td>348</td>\n      <td>1</td>\n      <td>0.287</td>\n      <td>334</td>\n      <td>float64</td>\n    </tr>\n    <tr>\n      <th>78</th>\n      <td>fyear_std</td>\n      <td>348</td>\n      <td>1</td>\n      <td>0.287</td>\n      <td>347</td>\n      <td>float64</td>\n    </tr>\n    <tr>\n      <th>7</th>\n      <td>act</td>\n      <td>348</td>\n      <td>1</td>\n      <td>0.287</td>\n      <td>346</td>\n      <td>float64</td>\n    </tr>\n  </tbody>\n</table>\n<p>138 rows × 6 columns</p>\n</div>"
     },
     "execution_count": 89,
     "metadata": {},
     "output_type": "execute_result"
    }
   ],
   "source": [
    "nullAnalysisDF = nullAnalysis(origDF)\n",
    "nullAnalysisDF"
   ],
   "metadata": {
    "collapsed": false,
    "pycharm": {
     "name": "#%%\n"
    }
   }
  },
  {
   "cell_type": "code",
   "execution_count": 90,
   "outputs": [
    {
     "data": {
      "text/plain": "1    327\n0     21\nName: exesign, dtype: int64"
     },
     "execution_count": 90,
     "metadata": {},
     "output_type": "execute_result"
    }
   ],
   "source": [
    "# Executive Sign-Off\n",
    "## Confirmed that CEO and CFO sign-off values are always the same, so drop one and rename feature\n",
    "origDF = origDF.drop(columns=['cfoso'])\n",
    "origDF = origDF.rename(columns={'ceoso':'exesign'})\n",
    "\n",
    "# Map Boolean Values to Numeric\n",
    "## Contains 3 Values Yes, No, Empty.  Map Y to 1 and N/E to 0.\n",
    "\n",
    "origDF['exesign'] = origDF['exesign'].map({'Y':1, 'N':0, 'E':0})\n",
    "origDF['exesign'].value_counts(dropna=False)"
   ],
   "metadata": {
    "collapsed": false,
    "pycharm": {
     "name": "#%%\n"
    }
   }
  },
  {
   "cell_type": "code",
   "execution_count": 91,
   "outputs": [
    {
     "data": {
      "text/plain": "1    251\n2     93\n0      4\nName: auop, dtype: int64"
     },
     "execution_count": 91,
     "metadata": {},
     "output_type": "execute_result"
    }
   ],
   "source": [
    "# Auditor Opinion\n",
    "## Contains 3 Possible Values: 0 = unaudited, 1 = 'Financial statements reflect no unresolvable restrictions\n",
    "## and auditor has no significant exceptions', 4 = 'Auditor has expressed an unqualified opinion regarding the\n",
    "## financial statements but has added explanatory language'\n",
    "\n",
    "## Map values so they are continuous\n",
    "origDF['auop'] = origDF['auop'].map({0:0,1:1,4:2})\n",
    "origDF['auop'].value_counts(dropna=False)\n",
    "\n"
   ],
   "metadata": {
    "collapsed": false,
    "pycharm": {
     "name": "#%%\n"
    }
   }
  },
  {
   "cell_type": "code",
   "execution_count": 93,
   "outputs": [],
   "source": [
    "# Scale Data\n"
   ],
   "metadata": {
    "collapsed": false,
    "pycharm": {
     "name": "#%%\n"
    }
   }
  }
 ],
 "metadata": {
  "kernelspec": {
   "display_name": "Python 3",
   "language": "python",
   "name": "python3"
  },
  "language_info": {
   "codemirror_mode": {
    "name": "ipython",
    "version": 2
   },
   "file_extension": ".py",
   "mimetype": "text/x-python",
   "name": "python",
   "nbconvert_exporter": "python",
   "pygments_lexer": "ipython2",
   "version": "2.7.6"
  }
 },
 "nbformat": 4,
 "nbformat_minor": 0
}