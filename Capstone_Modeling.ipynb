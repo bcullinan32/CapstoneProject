{
 "cells": [
  {
   "cell_type": "markdown",
   "metadata": {
    "collapsed": true,
    "pycharm": {
     "name": "#%% md\n"
    }
   },
   "source": [
    "# Intro:\n",
    "\n",
    "This notebook is the second in the series for the Capstone Project.  \"Capstone_Data-Prep\" covers pulling in several\n",
    "data sources, trimming to the needed observations/variables, joining together, and producing the source data or this\n",
    "notebook."
   ]
  },
  {
   "cell_type": "code",
   "execution_count": 130,
   "outputs": [],
   "source": [
    "# Standard Libraries\n",
    "import pandas as pd\n",
    "import numpy as np\n",
    "import os\n",
    "import warnings\n",
    "import json\n",
    "import math\n",
    "\n",
    "# Plotting Libraries\n",
    "import matplotlib.pyplot as plt\n",
    "import seaborn as sns\n",
    "\n",
    "#sklearn\n",
    "from sklearn.preprocessing import OrdinalEncoder\n",
    "from sklearn.preprocessing import StandardScaler\n",
    "\n",
    "\n",
    "# set Theme\n",
    "plt.style.use('seaborn')\n",
    "sns.set_theme(style=\"whitegrid\")\n",
    "warnings.filterwarnings('ignore')"
   ],
   "metadata": {
    "collapsed": false,
    "pycharm": {
     "name": "#%%\n"
    }
   }
  },
  {
   "cell_type": "code",
   "execution_count": 101,
   "outputs": [
    {
     "name": "stdout",
     "output_type": "stream",
     "text": [
      "Source Data: C:\\Users\\TheCu\\OneDrive\\Documents\\Grad-School-Docs\\CapstoneProject\\Repo\\CleanData\\\n",
      "Exports: C:\\Users\\TheCu\\OneDrive\\Documents\\Grad-School-Docs\\CapstoneProject\\Repo\\Export\\\n"
     ]
    }
   ],
   "source": [
    "# Set Paths\n",
    "path = os.getcwd()\n",
    "sourceDataPath = path + '\\\\CleanData\\\\'\n",
    "exportPath = path +'\\\\Export\\\\'\n",
    "\n",
    "print(f\"Source Data:\",sourceDataPath)\n",
    "print(f\"Exports:\",exportPath)"
   ],
   "metadata": {
    "collapsed": false,
    "pycharm": {
     "name": "#%%\n"
    }
   }
  },
  {
   "cell_type": "markdown",
   "source": [
    "# Reusable Functions:"
   ],
   "metadata": {
    "collapsed": false
   }
  },
  {
   "cell_type": "code",
   "execution_count": 102,
   "outputs": [],
   "source": [
    "# Takes a DF and Producecs a Report of Null Values\n",
    "def nullAnalysis(df):\n",
    "    row = []\n",
    "    null_summaryDF = pd.DataFrame(columns = [\"Variable\",\"Observations\",\"Nulls\",\"Null_Per\",\"Num_Unique\",\"Type\"])\n",
    "    for column in df:\n",
    "        var = column\n",
    "        countOfObs = len(df[var])\n",
    "        countOfNull = df[var].isnull().sum()\n",
    "        perOfNull = round((100 * countOfNull) / countOfObs,3)\n",
    "        numUnique = df[var].nunique()\n",
    "        type  = df[var].dtypes\n",
    "        # Append to Summary DF\n",
    "        row = [var, countOfObs,countOfNull,perOfNull,numUnique,type]\n",
    "        df_length = len(null_summaryDF)\n",
    "        null_summaryDF.loc[df_length] = row\n",
    "    # Get Summary Stats\n",
    "    countofVars = len(null_summaryDF)\n",
    "    countofNotNull = (null_summaryDF['Nulls'] == 0).sum()\n",
    "    countofNull = (null_summaryDF['Nulls'] != 0).sum()\n",
    "    print(f\"Count of Variables:\",countofVars)\n",
    "    print(f\"Count of Variables without nulls:\",countofNotNull)\n",
    "    print(f\"Count of Variables with null :\",countofNull)\n",
    "    # Format Summary\n",
    "    summaryDF = null_summaryDF[null_summaryDF['Nulls'] != 0].sort_values(by=['Nulls'],ascending=False)\n",
    "    return summaryDF"
   ],
   "metadata": {
    "collapsed": false,
    "pycharm": {
     "name": "#%%\n"
    }
   }
  },
  {
   "cell_type": "code",
   "execution_count": null,
   "outputs": [],
   "source": [
    "# apply the z-score method in Pandas using the .mean() and .std() methods\n",
    "def z_score(df,scaleList):\n",
    "    # copy the dataframe\n",
    "    df_std = df.copy()\n",
    "    # apply the z-score method\n",
    "    for column in scaleList:\n",
    "        df_std[column] = (df_std[column] - df_std[column].mean()) / df_std[column].std()\n",
    "    return df_std"
   ],
   "metadata": {
    "collapsed": false,
    "pycharm": {
     "name": "#%%\n"
    }
   }
  },
  {
   "cell_type": "markdown",
   "source": [
    "# Get and Prep Data"
   ],
   "metadata": {
    "collapsed": false
   }
  },
  {
   "cell_type": "code",
   "execution_count": 103,
   "outputs": [
    {
     "data": {
      "text/plain": "      gvkey    tic curncd ceoso cfoso    currtr  src  auop  aoloch  \\\n0      1239    ACV    USD     Y     Y  1.000000    5   4.0  2010.0   \n1      1266   ALCO    USD     Y     Y  1.000000    5   1.0  2011.5   \n2      1408   BEAM    USD     Y     Y  1.000000    8   1.0  2011.5   \n3      1429  2388B    USD     Y     Y  1.000000    3   1.0  2011.5   \n4      1659   ANDE    USD     Y     Y  1.000000    5   1.0  2011.5   \n..      ...    ...    ...   ...   ...       ...  ...   ...     ...   \n343  221545    IBA    MXN     Y     Y  0.076348   53   4.0  2011.5   \n344  222519    GMK    MXN     Y     Y  0.076348   53   4.0  2011.5   \n345  241637    BUD    USD     Y     Y  1.000000   53   1.0  2011.5   \n346  264393   IVFH    USD     Y     Y  1.000000    5   1.0  2011.5   \n347  277487    LND    BRR     Y     Y  0.453001    5   1.0  2012.0   \n\n     aoloch_std  ...  st_volatility  sec_ajexm  sec_ajpm  sec_trfm_mean  \\\n0      1.900000  ...           0.14   1.000000  1.000000       6.001949   \n1      1.605750  ...           0.27   1.000000  1.000000       1.803951   \n2    -34.975000  ...           0.89   1.000000  1.000000      19.151070   \n3     17.646250  ...            NaN        NaN       NaN            NaN   \n4     48.783750  ...           0.29   1.453704  1.453704       1.274316   \n..          ...  ...            ...        ...       ...            ...   \n343   -6.723750  ...           0.32   1.000000  1.000000       1.756264   \n344   47.253500  ...           0.70   1.000000  1.000000       1.204377   \n345  447.500000  ...           0.28   1.000000  1.000000       1.043322   \n346   -0.133000  ...           1.49   0.473704  0.473704       1.000000   \n347   -5.683333  ...           0.19   1.000000  1.000000       1.001641   \n\n     sec_trfm_std  sec_trt1m_mean  sec_trt1m_std  rat_spcsrc  lawsuit  \\\n0        0.026279        1.631413       6.320251         6.0      1.0   \n1        0.017539        0.991502       9.322428         3.0      NaN   \n2        2.316089        2.017711       6.373380         4.0      NaN   \n3             NaN             NaN            NaN         0.0      NaN   \n4        0.020235        2.559811       9.131795         6.0      NaN   \n..            ...             ...            ...         ...      ...   \n343      0.051788        1.996371       6.788384         0.0      NaN   \n344      0.000000        4.203464      11.024610         0.0      NaN   \n345      0.030272        1.827778       5.822912         0.0      NaN   \n346      0.000000        6.590749      28.817567         0.0      NaN   \n347      0.003915       -0.212626       8.650915         0.0      NaN   \n\n     SettlementAmount  \n0                 0.0  \n1                 NaN  \n2                 NaN  \n3                 NaN  \n4                 NaN  \n..                ...  \n343               NaN  \n344               NaN  \n345               NaN  \n346               NaN  \n347               NaN  \n\n[348 rows x 169 columns]",
      "text/html": "<div>\n<style scoped>\n    .dataframe tbody tr th:only-of-type {\n        vertical-align: middle;\n    }\n\n    .dataframe tbody tr th {\n        vertical-align: top;\n    }\n\n    .dataframe thead th {\n        text-align: right;\n    }\n</style>\n<table border=\"1\" class=\"dataframe\">\n  <thead>\n    <tr style=\"text-align: right;\">\n      <th></th>\n      <th>gvkey</th>\n      <th>tic</th>\n      <th>curncd</th>\n      <th>ceoso</th>\n      <th>cfoso</th>\n      <th>currtr</th>\n      <th>src</th>\n      <th>auop</th>\n      <th>aoloch</th>\n      <th>aoloch_std</th>\n      <th>...</th>\n      <th>st_volatility</th>\n      <th>sec_ajexm</th>\n      <th>sec_ajpm</th>\n      <th>sec_trfm_mean</th>\n      <th>sec_trfm_std</th>\n      <th>sec_trt1m_mean</th>\n      <th>sec_trt1m_std</th>\n      <th>rat_spcsrc</th>\n      <th>lawsuit</th>\n      <th>SettlementAmount</th>\n    </tr>\n  </thead>\n  <tbody>\n    <tr>\n      <th>0</th>\n      <td>1239</td>\n      <td>ACV</td>\n      <td>USD</td>\n      <td>Y</td>\n      <td>Y</td>\n      <td>1.000000</td>\n      <td>5</td>\n      <td>4.0</td>\n      <td>2010.0</td>\n      <td>1.900000</td>\n      <td>...</td>\n      <td>0.14</td>\n      <td>1.000000</td>\n      <td>1.000000</td>\n      <td>6.001949</td>\n      <td>0.026279</td>\n      <td>1.631413</td>\n      <td>6.320251</td>\n      <td>6.0</td>\n      <td>1.0</td>\n      <td>0.0</td>\n    </tr>\n    <tr>\n      <th>1</th>\n      <td>1266</td>\n      <td>ALCO</td>\n      <td>USD</td>\n      <td>Y</td>\n      <td>Y</td>\n      <td>1.000000</td>\n      <td>5</td>\n      <td>1.0</td>\n      <td>2011.5</td>\n      <td>1.605750</td>\n      <td>...</td>\n      <td>0.27</td>\n      <td>1.000000</td>\n      <td>1.000000</td>\n      <td>1.803951</td>\n      <td>0.017539</td>\n      <td>0.991502</td>\n      <td>9.322428</td>\n      <td>3.0</td>\n      <td>NaN</td>\n      <td>NaN</td>\n    </tr>\n    <tr>\n      <th>2</th>\n      <td>1408</td>\n      <td>BEAM</td>\n      <td>USD</td>\n      <td>Y</td>\n      <td>Y</td>\n      <td>1.000000</td>\n      <td>8</td>\n      <td>1.0</td>\n      <td>2011.5</td>\n      <td>-34.975000</td>\n      <td>...</td>\n      <td>0.89</td>\n      <td>1.000000</td>\n      <td>1.000000</td>\n      <td>19.151070</td>\n      <td>2.316089</td>\n      <td>2.017711</td>\n      <td>6.373380</td>\n      <td>4.0</td>\n      <td>NaN</td>\n      <td>NaN</td>\n    </tr>\n    <tr>\n      <th>3</th>\n      <td>1429</td>\n      <td>2388B</td>\n      <td>USD</td>\n      <td>Y</td>\n      <td>Y</td>\n      <td>1.000000</td>\n      <td>3</td>\n      <td>1.0</td>\n      <td>2011.5</td>\n      <td>17.646250</td>\n      <td>...</td>\n      <td>NaN</td>\n      <td>NaN</td>\n      <td>NaN</td>\n      <td>NaN</td>\n      <td>NaN</td>\n      <td>NaN</td>\n      <td>NaN</td>\n      <td>0.0</td>\n      <td>NaN</td>\n      <td>NaN</td>\n    </tr>\n    <tr>\n      <th>4</th>\n      <td>1659</td>\n      <td>ANDE</td>\n      <td>USD</td>\n      <td>Y</td>\n      <td>Y</td>\n      <td>1.000000</td>\n      <td>5</td>\n      <td>1.0</td>\n      <td>2011.5</td>\n      <td>48.783750</td>\n      <td>...</td>\n      <td>0.29</td>\n      <td>1.453704</td>\n      <td>1.453704</td>\n      <td>1.274316</td>\n      <td>0.020235</td>\n      <td>2.559811</td>\n      <td>9.131795</td>\n      <td>6.0</td>\n      <td>NaN</td>\n      <td>NaN</td>\n    </tr>\n    <tr>\n      <th>...</th>\n      <td>...</td>\n      <td>...</td>\n      <td>...</td>\n      <td>...</td>\n      <td>...</td>\n      <td>...</td>\n      <td>...</td>\n      <td>...</td>\n      <td>...</td>\n      <td>...</td>\n      <td>...</td>\n      <td>...</td>\n      <td>...</td>\n      <td>...</td>\n      <td>...</td>\n      <td>...</td>\n      <td>...</td>\n      <td>...</td>\n      <td>...</td>\n      <td>...</td>\n      <td>...</td>\n    </tr>\n    <tr>\n      <th>343</th>\n      <td>221545</td>\n      <td>IBA</td>\n      <td>MXN</td>\n      <td>Y</td>\n      <td>Y</td>\n      <td>0.076348</td>\n      <td>53</td>\n      <td>4.0</td>\n      <td>2011.5</td>\n      <td>-6.723750</td>\n      <td>...</td>\n      <td>0.32</td>\n      <td>1.000000</td>\n      <td>1.000000</td>\n      <td>1.756264</td>\n      <td>0.051788</td>\n      <td>1.996371</td>\n      <td>6.788384</td>\n      <td>0.0</td>\n      <td>NaN</td>\n      <td>NaN</td>\n    </tr>\n    <tr>\n      <th>344</th>\n      <td>222519</td>\n      <td>GMK</td>\n      <td>MXN</td>\n      <td>Y</td>\n      <td>Y</td>\n      <td>0.076348</td>\n      <td>53</td>\n      <td>4.0</td>\n      <td>2011.5</td>\n      <td>47.253500</td>\n      <td>...</td>\n      <td>0.70</td>\n      <td>1.000000</td>\n      <td>1.000000</td>\n      <td>1.204377</td>\n      <td>0.000000</td>\n      <td>4.203464</td>\n      <td>11.024610</td>\n      <td>0.0</td>\n      <td>NaN</td>\n      <td>NaN</td>\n    </tr>\n    <tr>\n      <th>345</th>\n      <td>241637</td>\n      <td>BUD</td>\n      <td>USD</td>\n      <td>Y</td>\n      <td>Y</td>\n      <td>1.000000</td>\n      <td>53</td>\n      <td>1.0</td>\n      <td>2011.5</td>\n      <td>447.500000</td>\n      <td>...</td>\n      <td>0.28</td>\n      <td>1.000000</td>\n      <td>1.000000</td>\n      <td>1.043322</td>\n      <td>0.030272</td>\n      <td>1.827778</td>\n      <td>5.822912</td>\n      <td>0.0</td>\n      <td>NaN</td>\n      <td>NaN</td>\n    </tr>\n    <tr>\n      <th>346</th>\n      <td>264393</td>\n      <td>IVFH</td>\n      <td>USD</td>\n      <td>Y</td>\n      <td>Y</td>\n      <td>1.000000</td>\n      <td>5</td>\n      <td>1.0</td>\n      <td>2011.5</td>\n      <td>-0.133000</td>\n      <td>...</td>\n      <td>1.49</td>\n      <td>0.473704</td>\n      <td>0.473704</td>\n      <td>1.000000</td>\n      <td>0.000000</td>\n      <td>6.590749</td>\n      <td>28.817567</td>\n      <td>0.0</td>\n      <td>NaN</td>\n      <td>NaN</td>\n    </tr>\n    <tr>\n      <th>347</th>\n      <td>277487</td>\n      <td>LND</td>\n      <td>BRR</td>\n      <td>Y</td>\n      <td>Y</td>\n      <td>0.453001</td>\n      <td>5</td>\n      <td>1.0</td>\n      <td>2012.0</td>\n      <td>-5.683333</td>\n      <td>...</td>\n      <td>0.19</td>\n      <td>1.000000</td>\n      <td>1.000000</td>\n      <td>1.001641</td>\n      <td>0.003915</td>\n      <td>-0.212626</td>\n      <td>8.650915</td>\n      <td>0.0</td>\n      <td>NaN</td>\n      <td>NaN</td>\n    </tr>\n  </tbody>\n</table>\n<p>348 rows × 169 columns</p>\n</div>"
     },
     "execution_count": 103,
     "metadata": {},
     "output_type": "execute_result"
    }
   ],
   "source": [
    "# Get Source Data\n",
    "file = 'completeDF.csv'\n",
    "origDF = pd.read_csv(sourceDataPath+file,skipinitialspace = True)\n",
    "origDF = origDF.drop(columns=['Unnamed: 0'])\n",
    "origDF\n"
   ],
   "metadata": {
    "collapsed": false,
    "pycharm": {
     "name": "#%%\n"
    }
   }
  },
  {
   "cell_type": "code",
   "execution_count": 104,
   "outputs": [
    {
     "data": {
      "text/plain": "      gvkey    tic curncd    currtr\n0      1239    ACV    USD  1.000000\n1      1266   ALCO    USD  1.000000\n2      1408   BEAM    USD  1.000000\n3      1429  2388B    USD  1.000000\n4      1659   ANDE    USD  1.000000\n..      ...    ...    ...       ...\n343  221545    IBA    MXN  0.076348\n344  222519    GMK    MXN  0.076348\n345  241637    BUD    USD  1.000000\n346  264393   IVFH    USD  1.000000\n347  277487    LND    BRR  0.453001\n\n[348 rows x 4 columns]",
      "text/html": "<div>\n<style scoped>\n    .dataframe tbody tr th:only-of-type {\n        vertical-align: middle;\n    }\n\n    .dataframe tbody tr th {\n        vertical-align: top;\n    }\n\n    .dataframe thead th {\n        text-align: right;\n    }\n</style>\n<table border=\"1\" class=\"dataframe\">\n  <thead>\n    <tr style=\"text-align: right;\">\n      <th></th>\n      <th>gvkey</th>\n      <th>tic</th>\n      <th>curncd</th>\n      <th>currtr</th>\n    </tr>\n  </thead>\n  <tbody>\n    <tr>\n      <th>0</th>\n      <td>1239</td>\n      <td>ACV</td>\n      <td>USD</td>\n      <td>1.000000</td>\n    </tr>\n    <tr>\n      <th>1</th>\n      <td>1266</td>\n      <td>ALCO</td>\n      <td>USD</td>\n      <td>1.000000</td>\n    </tr>\n    <tr>\n      <th>2</th>\n      <td>1408</td>\n      <td>BEAM</td>\n      <td>USD</td>\n      <td>1.000000</td>\n    </tr>\n    <tr>\n      <th>3</th>\n      <td>1429</td>\n      <td>2388B</td>\n      <td>USD</td>\n      <td>1.000000</td>\n    </tr>\n    <tr>\n      <th>4</th>\n      <td>1659</td>\n      <td>ANDE</td>\n      <td>USD</td>\n      <td>1.000000</td>\n    </tr>\n    <tr>\n      <th>...</th>\n      <td>...</td>\n      <td>...</td>\n      <td>...</td>\n      <td>...</td>\n    </tr>\n    <tr>\n      <th>343</th>\n      <td>221545</td>\n      <td>IBA</td>\n      <td>MXN</td>\n      <td>0.076348</td>\n    </tr>\n    <tr>\n      <th>344</th>\n      <td>222519</td>\n      <td>GMK</td>\n      <td>MXN</td>\n      <td>0.076348</td>\n    </tr>\n    <tr>\n      <th>345</th>\n      <td>241637</td>\n      <td>BUD</td>\n      <td>USD</td>\n      <td>1.000000</td>\n    </tr>\n    <tr>\n      <th>346</th>\n      <td>264393</td>\n      <td>IVFH</td>\n      <td>USD</td>\n      <td>1.000000</td>\n    </tr>\n    <tr>\n      <th>347</th>\n      <td>277487</td>\n      <td>LND</td>\n      <td>BRR</td>\n      <td>0.453001</td>\n    </tr>\n  </tbody>\n</table>\n<p>348 rows × 4 columns</p>\n</div>"
     },
     "execution_count": 104,
     "metadata": {},
     "output_type": "execute_result"
    }
   ],
   "source": [
    "# Set aside variables that may be valuable for looks/interpretation of results, but not modeling\n",
    "orig_lookUps = origDF[['gvkey','tic','curncd','currtr']].copy()\n",
    "\n",
    "# delete those from origDF\n",
    "origDF = origDF.drop(columns=['tic','curncd','currtr'])\n",
    "orig_lookUps\n"
   ],
   "metadata": {
    "collapsed": false,
    "pycharm": {
     "name": "#%%\n"
    }
   }
  },
  {
   "cell_type": "code",
   "execution_count": 105,
   "outputs": [],
   "source": [
    "# Selective Fill Null's\n",
    "colsToFillNa =['lawsuit','rat_spcsrc','rest_count','rest_sum_diff','rest_count_of_diffs',\n",
    "               'rest_a_sum_diff','rest_a_count_of_diffs']\n",
    "origDF[colsToFillNa] = origDF[colsToFillNa].fillna(0)"
   ],
   "metadata": {
    "collapsed": false,
    "pycharm": {
     "name": "#%%\n"
    }
   }
  },
  {
   "cell_type": "code",
   "execution_count": 106,
   "outputs": [
    {
     "name": "stdout",
     "output_type": "stream",
     "text": [
      "Count of Variables: 166\n",
      "Count of Variables without nulls: 43\n",
      "Count of Variables with null : 123\n"
     ]
    },
    {
     "data": {
      "text/plain": "             Variable Observations Nulls  Null_Per Num_Unique     Type\n165  SettlementAmount          348   302    86.782         12  float64\n141              xint          348    83    23.851        257  float64\n104         opeps_std          348    73    20.977         70  float64\n70           gdwl_std          348    50    14.368        285  float64\n111              prca          348    49    14.080        276  float64\n..                ...          ...   ...       ...        ...      ...\n44             dp_std          348     1     0.287        347  float64\n56          epsfx_std          348     1     0.287        331  float64\n58          epspi_std          348     1     0.287         56  float64\n69               gdwl          348     1     0.287        347  float64\n60         esopct_std          348     1     0.287        334  float64\n\n[123 rows x 6 columns]",
      "text/html": "<div>\n<style scoped>\n    .dataframe tbody tr th:only-of-type {\n        vertical-align: middle;\n    }\n\n    .dataframe tbody tr th {\n        vertical-align: top;\n    }\n\n    .dataframe thead th {\n        text-align: right;\n    }\n</style>\n<table border=\"1\" class=\"dataframe\">\n  <thead>\n    <tr style=\"text-align: right;\">\n      <th></th>\n      <th>Variable</th>\n      <th>Observations</th>\n      <th>Nulls</th>\n      <th>Null_Per</th>\n      <th>Num_Unique</th>\n      <th>Type</th>\n    </tr>\n  </thead>\n  <tbody>\n    <tr>\n      <th>165</th>\n      <td>SettlementAmount</td>\n      <td>348</td>\n      <td>302</td>\n      <td>86.782</td>\n      <td>12</td>\n      <td>float64</td>\n    </tr>\n    <tr>\n      <th>141</th>\n      <td>xint</td>\n      <td>348</td>\n      <td>83</td>\n      <td>23.851</td>\n      <td>257</td>\n      <td>float64</td>\n    </tr>\n    <tr>\n      <th>104</th>\n      <td>opeps_std</td>\n      <td>348</td>\n      <td>73</td>\n      <td>20.977</td>\n      <td>70</td>\n      <td>float64</td>\n    </tr>\n    <tr>\n      <th>70</th>\n      <td>gdwl_std</td>\n      <td>348</td>\n      <td>50</td>\n      <td>14.368</td>\n      <td>285</td>\n      <td>float64</td>\n    </tr>\n    <tr>\n      <th>111</th>\n      <td>prca</td>\n      <td>348</td>\n      <td>49</td>\n      <td>14.080</td>\n      <td>276</td>\n      <td>float64</td>\n    </tr>\n    <tr>\n      <th>...</th>\n      <td>...</td>\n      <td>...</td>\n      <td>...</td>\n      <td>...</td>\n      <td>...</td>\n      <td>...</td>\n    </tr>\n    <tr>\n      <th>44</th>\n      <td>dp_std</td>\n      <td>348</td>\n      <td>1</td>\n      <td>0.287</td>\n      <td>347</td>\n      <td>float64</td>\n    </tr>\n    <tr>\n      <th>56</th>\n      <td>epsfx_std</td>\n      <td>348</td>\n      <td>1</td>\n      <td>0.287</td>\n      <td>331</td>\n      <td>float64</td>\n    </tr>\n    <tr>\n      <th>58</th>\n      <td>epspi_std</td>\n      <td>348</td>\n      <td>1</td>\n      <td>0.287</td>\n      <td>56</td>\n      <td>float64</td>\n    </tr>\n    <tr>\n      <th>69</th>\n      <td>gdwl</td>\n      <td>348</td>\n      <td>1</td>\n      <td>0.287</td>\n      <td>347</td>\n      <td>float64</td>\n    </tr>\n    <tr>\n      <th>60</th>\n      <td>esopct_std</td>\n      <td>348</td>\n      <td>1</td>\n      <td>0.287</td>\n      <td>334</td>\n      <td>float64</td>\n    </tr>\n  </tbody>\n</table>\n<p>123 rows × 6 columns</p>\n</div>"
     },
     "execution_count": 106,
     "metadata": {},
     "output_type": "execute_result"
    }
   ],
   "source": [
    "nullAnalysisDF = nullAnalysis(origDF)\n",
    "nullAnalysisDF"
   ],
   "metadata": {
    "collapsed": false,
    "pycharm": {
     "name": "#%%\n"
    }
   }
  },
  {
   "cell_type": "code",
   "execution_count": 107,
   "outputs": [
    {
     "data": {
      "text/plain": "1    327\n0     21\nName: exesign, dtype: int64"
     },
     "execution_count": 107,
     "metadata": {},
     "output_type": "execute_result"
    }
   ],
   "source": [
    "# Executive Sign-Off\n",
    "## Confirmed that CEO and CFO sign-off values are always the same, so drop one and rename feature\n",
    "origDF = origDF.drop(columns=['cfoso'])\n",
    "origDF = origDF.rename(columns={'ceoso':'exesign'})\n",
    "\n",
    "# Map Boolean Values to Numeric\n",
    "## Contains 3 Values Yes, No, Empty.  Map Y to 1 and N/E to 0.\n",
    "\n",
    "origDF['exesign'] = origDF['exesign'].map({'Y':1, 'N':0, 'E':0})\n",
    "origDF['exesign'].value_counts(dropna=False)"
   ],
   "metadata": {
    "collapsed": false,
    "pycharm": {
     "name": "#%%\n"
    }
   }
  },
  {
   "cell_type": "code",
   "execution_count": 108,
   "outputs": [
    {
     "data": {
      "text/plain": "1    251\n2     93\n0      4\nName: auop, dtype: int64"
     },
     "execution_count": 108,
     "metadata": {},
     "output_type": "execute_result"
    }
   ],
   "source": [
    "# Auditor Opinion\n",
    "## Contains 3 Possible Values: 0 = unaudited, 1 = 'Financial statements reflect no unresolvable restrictions\n",
    "## and auditor has no significant exceptions', 4 = 'Auditor has expressed an unqualified opinion regarding the\n",
    "## financial statements but has added explanatory language'\n",
    "\n",
    "## Map values so they are continuous\n",
    "origDF['auop'] = origDF['auop'].map({0:0,1:1,4:2})\n",
    "origDF['auop'].value_counts(dropna=False)"
   ],
   "metadata": {
    "collapsed": false,
    "pycharm": {
     "name": "#%%\n"
    }
   }
  },
  {
   "cell_type": "code",
   "execution_count": null,
   "outputs": [],
   "source": [
    "# Fill NaN\n",
    "#TODO\n",
    "\n",
    "## One option: https://scikit-learn.org/stable/modules/impute.html#impute\n",
    "## Per Amie look at gsubind"
   ],
   "metadata": {
    "collapsed": false,
    "pycharm": {
     "name": "#%%\n"
    }
   }
  },
  {
   "cell_type": "code",
   "execution_count": 138,
   "outputs": [
    {
     "data": {
      "text/plain": "['aoloch',\n 'aoloch_std',\n 'at',\n 'at_std',\n 'bkvlps',\n 'bkvlps_std',\n 'caps',\n 'caps_std',\n 'capx',\n 'capx_std',\n 'ceq',\n 'ceq_std',\n 'ceqt',\n 'ceqt_std',\n 'ch',\n 'ch_std',\n 'chech',\n 'chech_std',\n 'ci',\n 'ci_std',\n 'cibegni',\n 'cibegni_std',\n 'cogs',\n 'cogs_std',\n 'cshpri',\n 'cshpri_std',\n 'dcpstk',\n 'dcpstk_std',\n 'defrev',\n 'defrev_std',\n 'dilavx',\n 'dilavx_std',\n 'dlc',\n 'dlc_std',\n 'dltr',\n 'dltr_std',\n 'dltt',\n 'dltt_std',\n 'dp',\n 'dp_std',\n 'dpact',\n 'dpact_std',\n 'dvc',\n 'dvc_std',\n 'dvt',\n 'dvt_std',\n 'ebit',\n 'ebit_std',\n 'epsfi',\n 'epsfi_std',\n 'epsfx',\n 'epsfx_std',\n 'epspi',\n 'epspi_std',\n 'esopct',\n 'esopct_std',\n 'esubc',\n 'esubc_std',\n 'fincf',\n 'fincf_std',\n 'fopo',\n 'fopo_std',\n 'fyear',\n 'fyear_std',\n 'gdwl',\n 'gdwl_std',\n 'gp',\n 'gp_std',\n 'icapt',\n 'icapt_std',\n 'intan',\n 'intan_std',\n 'intpn',\n 'intpn_std',\n 'invch_std',\n 'invt',\n 'invt_std',\n 'ivncf',\n 'ivncf_std',\n 'lct',\n 'lct_std',\n 'lse',\n 'lse_std',\n 'lt',\n 'lt_std',\n 'mii',\n 'mii_std',\n 'msa',\n 'msa_std',\n 'ni',\n 'ni_std',\n 'nopi',\n 'nopi_std',\n 'np',\n 'np_std',\n 'oancf',\n 'oancf_std',\n 'opeps',\n 'opeps_std',\n 'pi',\n 'pi_std',\n 'pnca',\n 'pnca_std',\n 'ppegt',\n 'ppegt_std',\n 'prca',\n 'prca_std',\n 'pstk',\n 'pstk_std',\n 're',\n 're_std',\n 'rect',\n 'rect_std',\n 'revt',\n 'revt_std',\n 'seq',\n 'seq_std',\n 'siv',\n 'siv_std',\n 'spce',\n 'spce_std',\n 'sppiv',\n 'sppiv_std',\n 'sstk',\n 'sstk_std',\n 'teq',\n 'teq_std',\n 'tot_tax',\n 'tot_tax_std',\n 'tstk',\n 'tstk_std',\n 'wcap',\n 'wcap_std',\n 'xacc',\n 'xacc_std',\n 'xint',\n 'xint_std',\n 'xopr',\n 'xopr_std',\n 'xsga',\n 'xsga_std',\n 'rest_sum_diff',\n 'rest_a_sum_diff',\n 'st_prc_end',\n 'sec_ajexm',\n 'sec_ajpm',\n 'sec_trfm_mean',\n 'sec_trfm_std',\n 'sec_trt1m_mean',\n 'sec_trt1m_std']"
     },
     "execution_count": 138,
     "metadata": {},
     "output_type": "execute_result"
    }
   ],
   "source": [
    "# Scale Data -- Create List for Scaling\n",
    "\n",
    "## Create list of exceptions for scaling\n",
    "scaleException = ['gvkey','exesign','src','auop','rest_count','rest_count_of_diffs','rest_a_count_of_diffs',\n",
    "                  'st_per_growth','st_per_currentToMax','st_per_lowToStart','st_volatility','rat_spcsrc',\n",
    "                  'lawsuit','SettlementAmount',\n",
    "                  'invch']\n",
    "\n",
    "## Remove exceptions from scale list\n",
    "orig_scaleList = origDF.columns.tolist()\n",
    "for col in scaleException:\n",
    "    orig_scaleList.remove(col)\n",
    "orig_scaleList\n"
   ],
   "metadata": {
    "collapsed": false,
    "pycharm": {
     "name": "#%%\n"
    }
   }
  },
  {
   "cell_type": "code",
   "execution_count": 140,
   "outputs": [
    {
     "data": {
      "text/plain": "      gvkey  exesign  src  auop    aoloch  aoloch_std        at    at_std  \\\n0      1239        1    5     2 -2.165979   -0.045147 -0.240872 -0.091618   \n1      1266        1    5     1  0.389142   -0.047593 -0.329164 -0.091594   \n2      1408        1    8     1  0.389142   -0.351636  0.149313 -0.091485   \n3      1429        1    3     1  0.389142    0.085729 -0.293072       NaN   \n4      1659        1    5     1  0.389142    0.344530 -0.235958 -0.091487   \n..      ...      ...  ...   ...       ...         ...       ...       ...   \n343  221545        1   53     2  0.389142   -0.116824 -0.237998 -0.091511   \n344  222519        1   53     2  0.389142    0.331811 -0.163536 -0.091668   \n345  241637        1   53     1  0.389142    3.658484  6.074357 -0.091524   \n346  264393        1    5     1  0.389142   -0.062044 -0.338837 -0.091721   \n347  277487        1    5     1  1.240849   -0.108176 -0.318149 -0.091681   \n\n       bkvlps  bkvlps_std  ...  st_volatility  sec_ajexm  sec_ajpm  \\\n0   -0.111907   -0.251756  ...           0.14  -0.129267 -0.129203   \n1   -0.221375   -0.265453  ...           0.27  -0.129267 -0.129203   \n2   -0.023377   -0.079706  ...           0.89  -0.129267 -0.129203   \n3         NaN   -0.206168  ...            NaN        NaN       NaN   \n4   -0.182390   -0.145044  ...           0.29   0.216296  0.216358   \n..        ...         ...  ...            ...        ...       ...   \n343 -0.211344   -0.220378  ...           0.32  -0.129267 -0.129203   \n344 -0.223481   -0.131400  ...           0.70  -0.129267 -0.129203   \n345  3.910234    3.385005  ...           0.28  -0.129267 -0.129203   \n346 -0.222324   -0.281115  ...           1.49  -0.530120 -0.530054   \n347 -0.223236   -0.278814  ...           0.19  -0.129267 -0.129203   \n\n     sec_trfm_mean  sec_trfm_std  sec_trt1m_mean  sec_trt1m_std  rat_spcsrc  \\\n0         1.161057     -0.156014       -0.123352      -0.149953         6.0   \n1        -0.069325     -0.170802       -0.128078      -0.144995         3.0   \n2         5.014906      3.718561       -0.120499      -0.149865         4.0   \n3              NaN           NaN             NaN            NaN         0.0   \n4        -0.224555     -0.166241       -0.116496      -0.145310         6.0   \n..             ...           ...             ...            ...         ...   \n343      -0.083302     -0.112849       -0.120657      -0.149180         0.0   \n344      -0.245053     -0.200480       -0.104358      -0.142184         0.0   \n345      -0.292256     -0.149257       -0.121902      -0.150774         0.0   \n346      -0.304953     -0.200480       -0.086729      -0.112799         0.0   \n347      -0.304473     -0.193855       -0.136970      -0.146104         0.0   \n\n     lawsuit  SettlementAmount  \n0        1.0               0.0  \n1        0.0               NaN  \n2        0.0               NaN  \n3        0.0               NaN  \n4        0.0               NaN  \n..       ...               ...  \n343      0.0               NaN  \n344      0.0               NaN  \n345      0.0               NaN  \n346      0.0               NaN  \n347      0.0               NaN  \n\n[348 rows x 165 columns]",
      "text/html": "<div>\n<style scoped>\n    .dataframe tbody tr th:only-of-type {\n        vertical-align: middle;\n    }\n\n    .dataframe tbody tr th {\n        vertical-align: top;\n    }\n\n    .dataframe thead th {\n        text-align: right;\n    }\n</style>\n<table border=\"1\" class=\"dataframe\">\n  <thead>\n    <tr style=\"text-align: right;\">\n      <th></th>\n      <th>gvkey</th>\n      <th>exesign</th>\n      <th>src</th>\n      <th>auop</th>\n      <th>aoloch</th>\n      <th>aoloch_std</th>\n      <th>at</th>\n      <th>at_std</th>\n      <th>bkvlps</th>\n      <th>bkvlps_std</th>\n      <th>...</th>\n      <th>st_volatility</th>\n      <th>sec_ajexm</th>\n      <th>sec_ajpm</th>\n      <th>sec_trfm_mean</th>\n      <th>sec_trfm_std</th>\n      <th>sec_trt1m_mean</th>\n      <th>sec_trt1m_std</th>\n      <th>rat_spcsrc</th>\n      <th>lawsuit</th>\n      <th>SettlementAmount</th>\n    </tr>\n  </thead>\n  <tbody>\n    <tr>\n      <th>0</th>\n      <td>1239</td>\n      <td>1</td>\n      <td>5</td>\n      <td>2</td>\n      <td>-2.165979</td>\n      <td>-0.045147</td>\n      <td>-0.240872</td>\n      <td>-0.091618</td>\n      <td>-0.111907</td>\n      <td>-0.251756</td>\n      <td>...</td>\n      <td>0.14</td>\n      <td>-0.129267</td>\n      <td>-0.129203</td>\n      <td>1.161057</td>\n      <td>-0.156014</td>\n      <td>-0.123352</td>\n      <td>-0.149953</td>\n      <td>6.0</td>\n      <td>1.0</td>\n      <td>0.0</td>\n    </tr>\n    <tr>\n      <th>1</th>\n      <td>1266</td>\n      <td>1</td>\n      <td>5</td>\n      <td>1</td>\n      <td>0.389142</td>\n      <td>-0.047593</td>\n      <td>-0.329164</td>\n      <td>-0.091594</td>\n      <td>-0.221375</td>\n      <td>-0.265453</td>\n      <td>...</td>\n      <td>0.27</td>\n      <td>-0.129267</td>\n      <td>-0.129203</td>\n      <td>-0.069325</td>\n      <td>-0.170802</td>\n      <td>-0.128078</td>\n      <td>-0.144995</td>\n      <td>3.0</td>\n      <td>0.0</td>\n      <td>NaN</td>\n    </tr>\n    <tr>\n      <th>2</th>\n      <td>1408</td>\n      <td>1</td>\n      <td>8</td>\n      <td>1</td>\n      <td>0.389142</td>\n      <td>-0.351636</td>\n      <td>0.149313</td>\n      <td>-0.091485</td>\n      <td>-0.023377</td>\n      <td>-0.079706</td>\n      <td>...</td>\n      <td>0.89</td>\n      <td>-0.129267</td>\n      <td>-0.129203</td>\n      <td>5.014906</td>\n      <td>3.718561</td>\n      <td>-0.120499</td>\n      <td>-0.149865</td>\n      <td>4.0</td>\n      <td>0.0</td>\n      <td>NaN</td>\n    </tr>\n    <tr>\n      <th>3</th>\n      <td>1429</td>\n      <td>1</td>\n      <td>3</td>\n      <td>1</td>\n      <td>0.389142</td>\n      <td>0.085729</td>\n      <td>-0.293072</td>\n      <td>NaN</td>\n      <td>NaN</td>\n      <td>-0.206168</td>\n      <td>...</td>\n      <td>NaN</td>\n      <td>NaN</td>\n      <td>NaN</td>\n      <td>NaN</td>\n      <td>NaN</td>\n      <td>NaN</td>\n      <td>NaN</td>\n      <td>0.0</td>\n      <td>0.0</td>\n      <td>NaN</td>\n    </tr>\n    <tr>\n      <th>4</th>\n      <td>1659</td>\n      <td>1</td>\n      <td>5</td>\n      <td>1</td>\n      <td>0.389142</td>\n      <td>0.344530</td>\n      <td>-0.235958</td>\n      <td>-0.091487</td>\n      <td>-0.182390</td>\n      <td>-0.145044</td>\n      <td>...</td>\n      <td>0.29</td>\n      <td>0.216296</td>\n      <td>0.216358</td>\n      <td>-0.224555</td>\n      <td>-0.166241</td>\n      <td>-0.116496</td>\n      <td>-0.145310</td>\n      <td>6.0</td>\n      <td>0.0</td>\n      <td>NaN</td>\n    </tr>\n    <tr>\n      <th>...</th>\n      <td>...</td>\n      <td>...</td>\n      <td>...</td>\n      <td>...</td>\n      <td>...</td>\n      <td>...</td>\n      <td>...</td>\n      <td>...</td>\n      <td>...</td>\n      <td>...</td>\n      <td>...</td>\n      <td>...</td>\n      <td>...</td>\n      <td>...</td>\n      <td>...</td>\n      <td>...</td>\n      <td>...</td>\n      <td>...</td>\n      <td>...</td>\n      <td>...</td>\n      <td>...</td>\n    </tr>\n    <tr>\n      <th>343</th>\n      <td>221545</td>\n      <td>1</td>\n      <td>53</td>\n      <td>2</td>\n      <td>0.389142</td>\n      <td>-0.116824</td>\n      <td>-0.237998</td>\n      <td>-0.091511</td>\n      <td>-0.211344</td>\n      <td>-0.220378</td>\n      <td>...</td>\n      <td>0.32</td>\n      <td>-0.129267</td>\n      <td>-0.129203</td>\n      <td>-0.083302</td>\n      <td>-0.112849</td>\n      <td>-0.120657</td>\n      <td>-0.149180</td>\n      <td>0.0</td>\n      <td>0.0</td>\n      <td>NaN</td>\n    </tr>\n    <tr>\n      <th>344</th>\n      <td>222519</td>\n      <td>1</td>\n      <td>53</td>\n      <td>2</td>\n      <td>0.389142</td>\n      <td>0.331811</td>\n      <td>-0.163536</td>\n      <td>-0.091668</td>\n      <td>-0.223481</td>\n      <td>-0.131400</td>\n      <td>...</td>\n      <td>0.70</td>\n      <td>-0.129267</td>\n      <td>-0.129203</td>\n      <td>-0.245053</td>\n      <td>-0.200480</td>\n      <td>-0.104358</td>\n      <td>-0.142184</td>\n      <td>0.0</td>\n      <td>0.0</td>\n      <td>NaN</td>\n    </tr>\n    <tr>\n      <th>345</th>\n      <td>241637</td>\n      <td>1</td>\n      <td>53</td>\n      <td>1</td>\n      <td>0.389142</td>\n      <td>3.658484</td>\n      <td>6.074357</td>\n      <td>-0.091524</td>\n      <td>3.910234</td>\n      <td>3.385005</td>\n      <td>...</td>\n      <td>0.28</td>\n      <td>-0.129267</td>\n      <td>-0.129203</td>\n      <td>-0.292256</td>\n      <td>-0.149257</td>\n      <td>-0.121902</td>\n      <td>-0.150774</td>\n      <td>0.0</td>\n      <td>0.0</td>\n      <td>NaN</td>\n    </tr>\n    <tr>\n      <th>346</th>\n      <td>264393</td>\n      <td>1</td>\n      <td>5</td>\n      <td>1</td>\n      <td>0.389142</td>\n      <td>-0.062044</td>\n      <td>-0.338837</td>\n      <td>-0.091721</td>\n      <td>-0.222324</td>\n      <td>-0.281115</td>\n      <td>...</td>\n      <td>1.49</td>\n      <td>-0.530120</td>\n      <td>-0.530054</td>\n      <td>-0.304953</td>\n      <td>-0.200480</td>\n      <td>-0.086729</td>\n      <td>-0.112799</td>\n      <td>0.0</td>\n      <td>0.0</td>\n      <td>NaN</td>\n    </tr>\n    <tr>\n      <th>347</th>\n      <td>277487</td>\n      <td>1</td>\n      <td>5</td>\n      <td>1</td>\n      <td>1.240849</td>\n      <td>-0.108176</td>\n      <td>-0.318149</td>\n      <td>-0.091681</td>\n      <td>-0.223236</td>\n      <td>-0.278814</td>\n      <td>...</td>\n      <td>0.19</td>\n      <td>-0.129267</td>\n      <td>-0.129203</td>\n      <td>-0.304473</td>\n      <td>-0.193855</td>\n      <td>-0.136970</td>\n      <td>-0.146104</td>\n      <td>0.0</td>\n      <td>0.0</td>\n      <td>NaN</td>\n    </tr>\n  </tbody>\n</table>\n<p>348 rows × 165 columns</p>\n</div>"
     },
     "execution_count": 140,
     "metadata": {},
     "output_type": "execute_result"
    }
   ],
   "source": [
    "# Scale Data -- Call the z_score function\n",
    "origDF_scaled = z_score(origDF,orig_scaleList)\n",
    "origDF_scaled"
   ],
   "metadata": {
    "collapsed": false,
    "pycharm": {
     "name": "#%%\n"
    }
   }
  }
 ],
 "metadata": {
  "kernelspec": {
   "display_name": "Python 3",
   "language": "python",
   "name": "python3"
  },
  "language_info": {
   "codemirror_mode": {
    "name": "ipython",
    "version": 2
   },
   "file_extension": ".py",
   "mimetype": "text/x-python",
   "name": "python",
   "nbconvert_exporter": "python",
   "pygments_lexer": "ipython2",
   "version": "2.7.6"
  }
 },
 "nbformat": 4,
 "nbformat_minor": 0
}